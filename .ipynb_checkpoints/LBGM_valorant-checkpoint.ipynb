{
 "cells": [
  {
   "cell_type": "markdown",
   "id": "63980c60-20f6-4bbb-9db1-1c204f838633",
   "metadata": {},
   "source": [
    "# <font color='blue'>Imports </font>"
   ]
  },
  {
   "cell_type": "code",
   "execution_count": 1,
   "id": "ebaca379-3d02-4ed2-9280-44fc8cd0b0b6",
   "metadata": {},
   "outputs": [
    {
     "name": "stdout",
     "output_type": "stream",
     "text": [
      "Wall time: 1.48 s\n"
     ]
    }
   ],
   "source": [
    "%%time\n",
    "import pandas as pd\n",
    "import numpy as np\n",
    "import seaborn as sns\n",
    "import lightgbm\n",
    "import optuna\n",
    "import optuna.integration.lightgbm as lgb\n",
    "import matplotlib.lines as line\n",
    "import matplotlib.ticker as ticker\n",
    "from matplotlib import pyplot as plt\n",
    "from matplotlib.pyplot import figure\n",
    "from matplotlib import rc\n",
    "import sklearn.datasets as skd\n",
    "from sklearn.model_selection import KFold\n",
    "from sklearn.ensemble import RandomForestClassifier\n",
    "from sklearn.calibration import calibration_curve\n",
    "from sklearn.model_selection import train_test_split, cross_val_score\n",
    "from sklearn.tree import DecisionTreeClassifier\n",
    "from sklearn.linear_model import LogisticRegression\n",
    "from sklearn.neighbors import KNeighborsClassifier\n",
    "from sklearn.metrics import r2_score, explained_variance_score, confusion_matrix, accuracy_score, classification_report, log_loss, brier_score_loss"
   ]
  },
  {
   "cell_type": "code",
   "execution_count": 2,
   "id": "4954ed36-a5e7-4b6a-9cbc-6009bcd22b4e",
   "metadata": {},
   "outputs": [],
   "source": [
    "path = 'D:\\\\Python\\\\Notebooks\\\\Datascience\\\\Classification_datascience\\\\webscrapping\\\\matches\\\\rounds\\\\'\n",
    "dataset = pd.read_csv('{}combined_csv.csv'.format(path))"
   ]
  },
  {
   "cell_type": "code",
   "execution_count": 3,
   "id": "fb58b9b9-7ca6-4f09-a94f-6fd4964b7894",
   "metadata": {},
   "outputs": [],
   "source": [
    "dataset = dataset.drop(['bestOF', 'RoundNumber', 'SeriesID', 'MatchID', 'RoundID', 'RoundTime'], axis=1)\n",
    "dataset = dataset[[[\"ATK_wealth\", \"DEF_wealth\", \"ATK_alive\", \"DEF_alive\", \"DEF_has_OP\", \"Def_has_Odin\",\n",
    "                    \"RegularTime\", \"SpikeTime\", \"MapName\", \"FinalWinner\"]]]"
   ]
  },
  {
   "cell_type": "code",
   "execution_count": 4,
   "id": "ec59ea1e-144b-4ae2-992a-4300d0023de5",
   "metadata": {},
   "outputs": [],
   "source": [
    "dataset = pd.get_dummies(dataset, columns=['MapName'])"
   ]
  },
  {
   "cell_type": "code",
   "execution_count": 5,
   "id": "416fa483-0e80-44c4-a849-140e9408f7f8",
   "metadata": {},
   "outputs": [
    {
     "data": {
      "text/html": [
       "<div>\n",
       "<style scoped>\n",
       "    .dataframe tbody tr th:only-of-type {\n",
       "        vertical-align: middle;\n",
       "    }\n",
       "\n",
       "    .dataframe tbody tr th {\n",
       "        vertical-align: top;\n",
       "    }\n",
       "\n",
       "    .dataframe thead th {\n",
       "        text-align: right;\n",
       "    }\n",
       "</style>\n",
       "<table border=\"1\" class=\"dataframe\">\n",
       "  <thead>\n",
       "    <tr style=\"text-align: right;\">\n",
       "      <th></th>\n",
       "      <th>ATK_wealth</th>\n",
       "      <th>DEF_wealth</th>\n",
       "      <th>ATK_alive</th>\n",
       "      <th>DEF_alive</th>\n",
       "      <th>DEF_has_OP</th>\n",
       "      <th>Def_has_Odin</th>\n",
       "      <th>RegularTime</th>\n",
       "      <th>SpikeTime</th>\n",
       "      <th>FinalWinner</th>\n",
       "      <th>MapName_Ascent</th>\n",
       "      <th>MapName_Bind</th>\n",
       "      <th>MapName_Breeze</th>\n",
       "      <th>MapName_Haven</th>\n",
       "      <th>MapName_Icebox</th>\n",
       "      <th>MapName_Split</th>\n",
       "    </tr>\n",
       "  </thead>\n",
       "  <tbody>\n",
       "    <tr>\n",
       "      <th>0</th>\n",
       "      <td>500.0</td>\n",
       "      <td>0.0</td>\n",
       "      <td>5</td>\n",
       "      <td>5</td>\n",
       "      <td>0</td>\n",
       "      <td>0</td>\n",
       "      <td>0</td>\n",
       "      <td>0</td>\n",
       "      <td>0</td>\n",
       "      <td>0</td>\n",
       "      <td>0</td>\n",
       "      <td>0</td>\n",
       "      <td>1</td>\n",
       "      <td>0</td>\n",
       "      <td>0</td>\n",
       "    </tr>\n",
       "    <tr>\n",
       "      <th>1</th>\n",
       "      <td>500.0</td>\n",
       "      <td>0.0</td>\n",
       "      <td>5</td>\n",
       "      <td>4</td>\n",
       "      <td>0</td>\n",
       "      <td>0</td>\n",
       "      <td>21</td>\n",
       "      <td>0</td>\n",
       "      <td>0</td>\n",
       "      <td>0</td>\n",
       "      <td>0</td>\n",
       "      <td>0</td>\n",
       "      <td>1</td>\n",
       "      <td>0</td>\n",
       "      <td>0</td>\n",
       "    </tr>\n",
       "    <tr>\n",
       "      <th>2</th>\n",
       "      <td>400.0</td>\n",
       "      <td>0.0</td>\n",
       "      <td>4</td>\n",
       "      <td>4</td>\n",
       "      <td>0</td>\n",
       "      <td>0</td>\n",
       "      <td>22</td>\n",
       "      <td>0</td>\n",
       "      <td>0</td>\n",
       "      <td>0</td>\n",
       "      <td>0</td>\n",
       "      <td>0</td>\n",
       "      <td>1</td>\n",
       "      <td>0</td>\n",
       "      <td>0</td>\n",
       "    </tr>\n",
       "    <tr>\n",
       "      <th>3</th>\n",
       "      <td>300.0</td>\n",
       "      <td>0.0</td>\n",
       "      <td>3</td>\n",
       "      <td>4</td>\n",
       "      <td>0</td>\n",
       "      <td>0</td>\n",
       "      <td>24</td>\n",
       "      <td>0</td>\n",
       "      <td>0</td>\n",
       "      <td>0</td>\n",
       "      <td>0</td>\n",
       "      <td>0</td>\n",
       "      <td>1</td>\n",
       "      <td>0</td>\n",
       "      <td>0</td>\n",
       "    </tr>\n",
       "    <tr>\n",
       "      <th>4</th>\n",
       "      <td>200.0</td>\n",
       "      <td>0.0</td>\n",
       "      <td>2</td>\n",
       "      <td>4</td>\n",
       "      <td>0</td>\n",
       "      <td>0</td>\n",
       "      <td>26</td>\n",
       "      <td>0</td>\n",
       "      <td>0</td>\n",
       "      <td>0</td>\n",
       "      <td>0</td>\n",
       "      <td>0</td>\n",
       "      <td>1</td>\n",
       "      <td>0</td>\n",
       "      <td>0</td>\n",
       "    </tr>\n",
       "  </tbody>\n",
       "</table>\n",
       "</div>"
      ],
      "text/plain": [
       "   ATK_wealth  DEF_wealth  ATK_alive  DEF_alive  DEF_has_OP  Def_has_Odin  \\\n",
       "0       500.0         0.0          5          5           0             0   \n",
       "1       500.0         0.0          5          4           0             0   \n",
       "2       400.0         0.0          4          4           0             0   \n",
       "3       300.0         0.0          3          4           0             0   \n",
       "4       200.0         0.0          2          4           0             0   \n",
       "\n",
       "   RegularTime  SpikeTime  FinalWinner  MapName_Ascent  MapName_Bind  \\\n",
       "0            0          0            0               0             0   \n",
       "1           21          0            0               0             0   \n",
       "2           22          0            0               0             0   \n",
       "3           24          0            0               0             0   \n",
       "4           26          0            0               0             0   \n",
       "\n",
       "   MapName_Breeze  MapName_Haven  MapName_Icebox  MapName_Split  \n",
       "0               0              1               0              0  \n",
       "1               0              1               0              0  \n",
       "2               0              1               0              0  \n",
       "3               0              1               0              0  \n",
       "4               0              1               0              0  "
      ]
     },
     "execution_count": 5,
     "metadata": {},
     "output_type": "execute_result"
    }
   ],
   "source": [
    "dataset.head()"
   ]
  },
  {
   "cell_type": "code",
   "execution_count": 6,
   "id": "ee9dad22-5eec-4f12-a5b8-44a0cd01103f",
   "metadata": {},
   "outputs": [],
   "source": [
    "X = dataset.drop(['FinalWinner'], axis='columns')\n",
    "Y = dataset.FinalWinner\n",
    "\n",
    "X_train, X_test, Y_train, Y_test = train_test_split(X, Y, train_size=0.8, test_size=0.2, random_state=15)\n",
    "X_train, X_valid, Y_train, Y_valid = train_test_split(X_train, Y_train, train_size=0.9, test_size=0.1, random_state=15)"
   ]
  },
  {
   "cell_type": "markdown",
   "id": "3a4b3eac-d591-45dd-b1bd-e32cf9cf0640",
   "metadata": {},
   "source": [
    "# <font color='blue'>Parameter tuning </font>"
   ]
  },
  {
   "cell_type": "code",
   "execution_count": 7,
   "id": "b881d960-25e1-4bbd-a8bf-dab3efc7a9ad",
   "metadata": {},
   "outputs": [],
   "source": [
    "def objective(trial):\n",
    "    bagging_freq =  trial.suggest_int('bagging_freq',1,10),\n",
    "    min_data_in_leaf =  trial.suggest_int('min_data_in_leaf',2,100),\n",
    "    max_depth = trial.suggest_int('max_depth',1,20),\n",
    "    learning_rate = trial.suggest_loguniform('learning_rate',0.001,0.1),\n",
    "    num_leaves = trial.suggest_int('num_leaves',2,70),\n",
    "    num_threads = trial.suggest_int('num_threads',1,10),\n",
    "    min_sum_hessian_in_leaf = trial.suggest_int('min_sum_hessian_in_leaf',1,10),\n",
    "    \n",
    "    model = lightgbm.LGBMClassifier(bagging_freq=bagging_freq,\n",
    "                                    min_data_in_leaf=min_data_in_leaf,\n",
    "                                   max_depth=max_depth,\n",
    "                                   learning_rate=learning_rate,\n",
    "                                   num_leaves=num_leaves,\n",
    "                                   num_threads=num_threads,\n",
    "                                   min_sum_hessian_in_leaf=min_sum_hessian_in_leaf)\n",
    "    model.fit(X_train,Y_train)\n",
    "    pred_proba_test = model.predict_proba(X_test)\n",
    "    score = brier_score_loss(Y_test, pd.DataFrame(pred_proba_test)[1])\n",
    "    return score"
   ]
  },
  {
   "cell_type": "code",
   "execution_count": 8,
   "id": "0f1c22f9-6229-453c-992f-0af06f24b1bc",
   "metadata": {
    "scrolled": true,
    "tags": []
   },
   "outputs": [
    {
     "name": "stderr",
     "output_type": "stream",
     "text": [
      "\u001b[32m[I 2021-06-16 14:53:43,495]\u001b[0m A new study created in memory with name: no-name-6309cdd6-e2ac-4390-b87a-aeb65cad8fcd\u001b[0m\n"
     ]
    },
    {
     "name": "stdout",
     "output_type": "stream",
     "text": [
      "[LightGBM] [Warning] min_data_in_leaf is set=58, min_child_samples=20 will be ignored. Current value: min_data_in_leaf=58\n",
      "[LightGBM] [Warning] min_sum_hessian_in_leaf is set=9, min_child_weight=0.001 will be ignored. Current value: min_sum_hessian_in_leaf=9\n",
      "[LightGBM] [Warning] num_threads is set=6, n_jobs=-1 will be ignored. Current value: num_threads=6\n",
      "[LightGBM] [Warning] bagging_freq is set=10, subsample_freq=0 will be ignored. Current value: bagging_freq=10\n"
     ]
    },
    {
     "name": "stderr",
     "output_type": "stream",
     "text": [
      "\u001b[32m[I 2021-06-16 14:53:44,076]\u001b[0m Trial 0 finished with value: 0.22857579080669232 and parameters: {'bagging_freq': 10, 'min_data_in_leaf': 58, 'max_depth': 13, 'learning_rate': 0.0010394160773168346, 'num_leaves': 47, 'num_threads': 6, 'min_sum_hessian_in_leaf': 9}. Best is trial 0 with value: 0.22857579080669232.\u001b[0m\n"
     ]
    },
    {
     "name": "stdout",
     "output_type": "stream",
     "text": [
      "[LightGBM] [Warning] min_data_in_leaf is set=22, min_child_samples=20 will be ignored. Current value: min_data_in_leaf=22\n",
      "[LightGBM] [Warning] min_sum_hessian_in_leaf is set=10, min_child_weight=0.001 will be ignored. Current value: min_sum_hessian_in_leaf=10\n",
      "[LightGBM] [Warning] num_threads is set=10, n_jobs=-1 will be ignored. Current value: num_threads=10\n",
      "[LightGBM] [Warning] bagging_freq is set=8, subsample_freq=0 will be ignored. Current value: bagging_freq=8\n"
     ]
    },
    {
     "name": "stderr",
     "output_type": "stream",
     "text": [
      "\u001b[32m[I 2021-06-16 14:53:44,411]\u001b[0m Trial 1 finished with value: 0.13051789843288653 and parameters: {'bagging_freq': 8, 'min_data_in_leaf': 22, 'max_depth': 2, 'learning_rate': 0.08627747696580712, 'num_leaves': 31, 'num_threads': 10, 'min_sum_hessian_in_leaf': 10}. Best is trial 1 with value: 0.13051789843288653.\u001b[0m\n"
     ]
    },
    {
     "name": "stdout",
     "output_type": "stream",
     "text": [
      "[LightGBM] [Warning] min_data_in_leaf is set=18, min_child_samples=20 will be ignored. Current value: min_data_in_leaf=18\n",
      "[LightGBM] [Warning] min_sum_hessian_in_leaf is set=6, min_child_weight=0.001 will be ignored. Current value: min_sum_hessian_in_leaf=6\n",
      "[LightGBM] [Warning] num_threads is set=4, n_jobs=-1 will be ignored. Current value: num_threads=4\n",
      "[LightGBM] [Warning] bagging_freq is set=4, subsample_freq=0 will be ignored. Current value: bagging_freq=4\n"
     ]
    },
    {
     "name": "stderr",
     "output_type": "stream",
     "text": [
      "\u001b[32m[I 2021-06-16 14:53:44,839]\u001b[0m Trial 2 finished with value: 0.130924349967701 and parameters: {'bagging_freq': 4, 'min_data_in_leaf': 18, 'max_depth': 15, 'learning_rate': 0.0565153391244414, 'num_leaves': 5, 'num_threads': 4, 'min_sum_hessian_in_leaf': 6}. Best is trial 1 with value: 0.13051789843288653.\u001b[0m\n"
     ]
    },
    {
     "name": "stdout",
     "output_type": "stream",
     "text": [
      "[LightGBM] [Warning] min_data_in_leaf is set=65, min_child_samples=20 will be ignored. Current value: min_data_in_leaf=65\n",
      "[LightGBM] [Warning] min_sum_hessian_in_leaf is set=5, min_child_weight=0.001 will be ignored. Current value: min_sum_hessian_in_leaf=5\n",
      "[LightGBM] [Warning] num_threads is set=10, n_jobs=-1 will be ignored. Current value: num_threads=10\n",
      "[LightGBM] [Warning] bagging_freq is set=6, subsample_freq=0 will be ignored. Current value: bagging_freq=6\n"
     ]
    },
    {
     "name": "stderr",
     "output_type": "stream",
     "text": [
      "\u001b[32m[I 2021-06-16 14:53:45,432]\u001b[0m Trial 3 finished with value: 0.13209150858453994 and parameters: {'bagging_freq': 6, 'min_data_in_leaf': 65, 'max_depth': 19, 'learning_rate': 0.021466729328461127, 'num_leaves': 28, 'num_threads': 10, 'min_sum_hessian_in_leaf': 5}. Best is trial 1 with value: 0.13051789843288653.\u001b[0m\n"
     ]
    },
    {
     "name": "stdout",
     "output_type": "stream",
     "text": [
      "[LightGBM] [Warning] min_data_in_leaf is set=52, min_child_samples=20 will be ignored. Current value: min_data_in_leaf=52\n",
      "[LightGBM] [Warning] min_sum_hessian_in_leaf is set=5, min_child_weight=0.001 will be ignored. Current value: min_sum_hessian_in_leaf=5\n",
      "[LightGBM] [Warning] num_threads is set=1, n_jobs=-1 will be ignored. Current value: num_threads=1\n",
      "[LightGBM] [Warning] bagging_freq is set=8, subsample_freq=0 will be ignored. Current value: bagging_freq=8\n"
     ]
    },
    {
     "name": "stderr",
     "output_type": "stream",
     "text": [
      "\u001b[32m[I 2021-06-16 14:53:46,570]\u001b[0m Trial 4 finished with value: 0.2209427479133476 and parameters: {'bagging_freq': 8, 'min_data_in_leaf': 52, 'max_depth': 20, 'learning_rate': 0.0024357526628283797, 'num_leaves': 4, 'num_threads': 1, 'min_sum_hessian_in_leaf': 5}. Best is trial 1 with value: 0.13051789843288653.\u001b[0m\n"
     ]
    },
    {
     "name": "stdout",
     "output_type": "stream",
     "text": [
      "[LightGBM] [Warning] min_data_in_leaf is set=89, min_child_samples=20 will be ignored. Current value: min_data_in_leaf=89\n",
      "[LightGBM] [Warning] min_sum_hessian_in_leaf is set=9, min_child_weight=0.001 will be ignored. Current value: min_sum_hessian_in_leaf=9\n",
      "[LightGBM] [Warning] num_threads is set=3, n_jobs=-1 will be ignored. Current value: num_threads=3\n",
      "[LightGBM] [Warning] bagging_freq is set=3, subsample_freq=0 will be ignored. Current value: bagging_freq=3\n"
     ]
    },
    {
     "name": "stderr",
     "output_type": "stream",
     "text": [
      "\u001b[32m[I 2021-06-16 14:53:47,150]\u001b[0m Trial 5 finished with value: 0.2283709794714469 and parameters: {'bagging_freq': 3, 'min_data_in_leaf': 89, 'max_depth': 18, 'learning_rate': 0.0013265070163125284, 'num_leaves': 9, 'num_threads': 3, 'min_sum_hessian_in_leaf': 9}. Best is trial 1 with value: 0.13051789843288653.\u001b[0m\n"
     ]
    },
    {
     "name": "stdout",
     "output_type": "stream",
     "text": [
      "[LightGBM] [Warning] min_data_in_leaf is set=39, min_child_samples=20 will be ignored. Current value: min_data_in_leaf=39\n",
      "[LightGBM] [Warning] min_sum_hessian_in_leaf is set=7, min_child_weight=0.001 will be ignored. Current value: min_sum_hessian_in_leaf=7\n",
      "[LightGBM] [Warning] num_threads is set=2, n_jobs=-1 will be ignored. Current value: num_threads=2\n",
      "[LightGBM] [Warning] bagging_freq is set=3, subsample_freq=0 will be ignored. Current value: bagging_freq=3\n"
     ]
    },
    {
     "name": "stderr",
     "output_type": "stream",
     "text": [
      "\u001b[32m[I 2021-06-16 14:53:48,174]\u001b[0m Trial 6 finished with value: 0.1934166071534324 and parameters: {'bagging_freq': 3, 'min_data_in_leaf': 39, 'max_depth': 11, 'learning_rate': 0.0035849378361409133, 'num_leaves': 21, 'num_threads': 2, 'min_sum_hessian_in_leaf': 7}. Best is trial 1 with value: 0.13051789843288653.\u001b[0m\n"
     ]
    },
    {
     "name": "stdout",
     "output_type": "stream",
     "text": [
      "[LightGBM] [Warning] min_data_in_leaf is set=76, min_child_samples=20 will be ignored. Current value: min_data_in_leaf=76\n",
      "[LightGBM] [Warning] min_sum_hessian_in_leaf is set=1, min_child_weight=0.001 will be ignored. Current value: min_sum_hessian_in_leaf=1\n",
      "[LightGBM] [Warning] num_threads is set=2, n_jobs=-1 will be ignored. Current value: num_threads=2\n",
      "[LightGBM] [Warning] bagging_freq is set=4, subsample_freq=0 will be ignored. Current value: bagging_freq=4\n"
     ]
    },
    {
     "name": "stderr",
     "output_type": "stream",
     "text": [
      "\u001b[32m[I 2021-06-16 14:53:48,692]\u001b[0m Trial 7 finished with value: 0.18312734144583176 and parameters: {'bagging_freq': 4, 'min_data_in_leaf': 76, 'max_depth': 1, 'learning_rate': 0.022810238038146656, 'num_leaves': 4, 'num_threads': 2, 'min_sum_hessian_in_leaf': 1}. Best is trial 1 with value: 0.13051789843288653.\u001b[0m\n"
     ]
    },
    {
     "name": "stdout",
     "output_type": "stream",
     "text": [
      "[LightGBM] [Warning] min_data_in_leaf is set=65, min_child_samples=20 will be ignored. Current value: min_data_in_leaf=65\n",
      "[LightGBM] [Warning] min_sum_hessian_in_leaf is set=3, min_child_weight=0.001 will be ignored. Current value: min_sum_hessian_in_leaf=3\n",
      "[LightGBM] [Warning] num_threads is set=6, n_jobs=-1 will be ignored. Current value: num_threads=6\n",
      "[LightGBM] [Warning] bagging_freq is set=5, subsample_freq=0 will be ignored. Current value: bagging_freq=5\n"
     ]
    },
    {
     "name": "stderr",
     "output_type": "stream",
     "text": [
      "\u001b[32m[I 2021-06-16 14:53:49,287]\u001b[0m Trial 8 finished with value: 0.20428946963703848 and parameters: {'bagging_freq': 5, 'min_data_in_leaf': 65, 'max_depth': 10, 'learning_rate': 0.002509151008603685, 'num_leaves': 50, 'num_threads': 6, 'min_sum_hessian_in_leaf': 3}. Best is trial 1 with value: 0.13051789843288653.\u001b[0m\n"
     ]
    },
    {
     "name": "stdout",
     "output_type": "stream",
     "text": [
      "[LightGBM] [Warning] min_data_in_leaf is set=99, min_child_samples=20 will be ignored. Current value: min_data_in_leaf=99\n",
      "[LightGBM] [Warning] min_sum_hessian_in_leaf is set=10, min_child_weight=0.001 will be ignored. Current value: min_sum_hessian_in_leaf=10\n",
      "[LightGBM] [Warning] num_threads is set=1, n_jobs=-1 will be ignored. Current value: num_threads=1\n",
      "[LightGBM] [Warning] bagging_freq is set=1, subsample_freq=0 will be ignored. Current value: bagging_freq=1\n"
     ]
    },
    {
     "name": "stderr",
     "output_type": "stream",
     "text": [
      "\u001b[32m[I 2021-06-16 14:53:51,305]\u001b[0m Trial 9 finished with value: 0.13085117306741723 and parameters: {'bagging_freq': 1, 'min_data_in_leaf': 99, 'max_depth': 13, 'learning_rate': 0.02225056697733477, 'num_leaves': 46, 'num_threads': 1, 'min_sum_hessian_in_leaf': 10}. Best is trial 1 with value: 0.13051789843288653.\u001b[0m\n"
     ]
    },
    {
     "name": "stdout",
     "output_type": "stream",
     "text": [
      "[LightGBM] [Warning] min_data_in_leaf is set=6, min_child_samples=20 will be ignored. Current value: min_data_in_leaf=6\n",
      "[LightGBM] [Warning] min_sum_hessian_in_leaf is set=8, min_child_weight=0.001 will be ignored. Current value: min_sum_hessian_in_leaf=8\n",
      "[LightGBM] [Warning] num_threads is set=10, n_jobs=-1 will be ignored. Current value: num_threads=10\n",
      "[LightGBM] [Warning] bagging_freq is set=10, subsample_freq=0 will be ignored. Current value: bagging_freq=10\n"
     ]
    },
    {
     "name": "stderr",
     "output_type": "stream",
     "text": [
      "\u001b[32m[I 2021-06-16 14:53:51,610]\u001b[0m Trial 10 finished with value: 0.14418921161700946 and parameters: {'bagging_freq': 10, 'min_data_in_leaf': 6, 'max_depth': 1, 'learning_rate': 0.08714014298916366, 'num_leaves': 69, 'num_threads': 10, 'min_sum_hessian_in_leaf': 8}. Best is trial 1 with value: 0.13051789843288653.\u001b[0m\n"
     ]
    },
    {
     "name": "stdout",
     "output_type": "stream",
     "text": [
      "[LightGBM] [Warning] min_data_in_leaf is set=30, min_child_samples=20 will be ignored. Current value: min_data_in_leaf=30\n",
      "[LightGBM] [Warning] min_sum_hessian_in_leaf is set=10, min_child_weight=0.001 will be ignored. Current value: min_sum_hessian_in_leaf=10\n",
      "[LightGBM] [Warning] num_threads is set=8, n_jobs=-1 will be ignored. Current value: num_threads=8\n",
      "[LightGBM] [Warning] bagging_freq is set=1, subsample_freq=0 will be ignored. Current value: bagging_freq=1\n"
     ]
    },
    {
     "name": "stderr",
     "output_type": "stream",
     "text": [
      "\u001b[32m[I 2021-06-16 14:53:52,338]\u001b[0m Trial 11 finished with value: 0.12877354066820657 and parameters: {'bagging_freq': 1, 'min_data_in_leaf': 30, 'max_depth': 7, 'learning_rate': 0.03520287638850763, 'num_leaves': 43, 'num_threads': 8, 'min_sum_hessian_in_leaf': 10}. Best is trial 11 with value: 0.12877354066820657.\u001b[0m\n"
     ]
    },
    {
     "name": "stdout",
     "output_type": "stream",
     "text": [
      "[LightGBM] [Warning] min_data_in_leaf is set=30, min_child_samples=20 will be ignored. Current value: min_data_in_leaf=30\n",
      "[LightGBM] [Warning] min_sum_hessian_in_leaf is set=10, min_child_weight=0.001 will be ignored. Current value: min_sum_hessian_in_leaf=10\n",
      "[LightGBM] [Warning] num_threads is set=8, n_jobs=-1 will be ignored. Current value: num_threads=8\n",
      "[LightGBM] [Warning] bagging_freq is set=8, subsample_freq=0 will be ignored. Current value: bagging_freq=8\n"
     ]
    },
    {
     "name": "stderr",
     "output_type": "stream",
     "text": [
      "\u001b[32m[I 2021-06-16 14:53:52,974]\u001b[0m Trial 12 finished with value: 0.12856200140673615 and parameters: {'bagging_freq': 8, 'min_data_in_leaf': 30, 'max_depth': 5, 'learning_rate': 0.05327140001730486, 'num_leaves': 37, 'num_threads': 8, 'min_sum_hessian_in_leaf': 10}. Best is trial 12 with value: 0.12856200140673615.\u001b[0m\n"
     ]
    },
    {
     "name": "stdout",
     "output_type": "stream",
     "text": [
      "[LightGBM] [Warning] min_data_in_leaf is set=34, min_child_samples=20 will be ignored. Current value: min_data_in_leaf=34\n",
      "[LightGBM] [Warning] min_sum_hessian_in_leaf is set=10, min_child_weight=0.001 will be ignored. Current value: min_sum_hessian_in_leaf=10\n",
      "[LightGBM] [Warning] num_threads is set=8, n_jobs=-1 will be ignored. Current value: num_threads=8\n",
      "[LightGBM] [Warning] bagging_freq is set=8, subsample_freq=0 will be ignored. Current value: bagging_freq=8\n"
     ]
    },
    {
     "name": "stderr",
     "output_type": "stream",
     "text": [
      "\u001b[32m[I 2021-06-16 14:53:53,683]\u001b[0m Trial 13 finished with value: 0.12849315541894046 and parameters: {'bagging_freq': 8, 'min_data_in_leaf': 34, 'max_depth': 6, 'learning_rate': 0.0460180539399311, 'num_leaves': 58, 'num_threads': 8, 'min_sum_hessian_in_leaf': 10}. Best is trial 13 with value: 0.12849315541894046.\u001b[0m\n"
     ]
    },
    {
     "name": "stdout",
     "output_type": "stream",
     "text": [
      "[LightGBM] [Warning] min_data_in_leaf is set=41, min_child_samples=20 will be ignored. Current value: min_data_in_leaf=41\n",
      "[LightGBM] [Warning] min_sum_hessian_in_leaf is set=8, min_child_weight=0.001 will be ignored. Current value: min_sum_hessian_in_leaf=8\n",
      "[LightGBM] [Warning] num_threads is set=8, n_jobs=-1 will be ignored. Current value: num_threads=8\n",
      "[LightGBM] [Warning] bagging_freq is set=8, subsample_freq=0 will be ignored. Current value: bagging_freq=8\n"
     ]
    },
    {
     "name": "stderr",
     "output_type": "stream",
     "text": [
      "\u001b[32m[I 2021-06-16 14:53:54,376]\u001b[0m Trial 14 finished with value: 0.15509260234190186 and parameters: {'bagging_freq': 8, 'min_data_in_leaf': 41, 'max_depth': 5, 'learning_rate': 0.008935071626906191, 'num_leaves': 66, 'num_threads': 8, 'min_sum_hessian_in_leaf': 8}. Best is trial 13 with value: 0.12849315541894046.\u001b[0m\n"
     ]
    },
    {
     "name": "stdout",
     "output_type": "stream",
     "text": [
      "[LightGBM] [Warning] min_data_in_leaf is set=3, min_child_samples=20 will be ignored. Current value: min_data_in_leaf=3\n",
      "[LightGBM] [Warning] min_sum_hessian_in_leaf is set=3, min_child_weight=0.001 will be ignored. Current value: min_sum_hessian_in_leaf=3\n",
      "[LightGBM] [Warning] num_threads is set=8, n_jobs=-1 will be ignored. Current value: num_threads=8\n",
      "[LightGBM] [Warning] bagging_freq is set=7, subsample_freq=0 will be ignored. Current value: bagging_freq=7\n"
     ]
    },
    {
     "name": "stderr",
     "output_type": "stream",
     "text": [
      "\u001b[32m[I 2021-06-16 14:53:55,179]\u001b[0m Trial 15 finished with value: 0.15204580409400537 and parameters: {'bagging_freq': 7, 'min_data_in_leaf': 3, 'max_depth': 5, 'learning_rate': 0.009718158378063712, 'num_leaves': 59, 'num_threads': 8, 'min_sum_hessian_in_leaf': 3}. Best is trial 13 with value: 0.12849315541894046.\u001b[0m\n"
     ]
    },
    {
     "name": "stdout",
     "output_type": "stream",
     "text": [
      "[LightGBM] [Warning] min_data_in_leaf is set=38, min_child_samples=20 will be ignored. Current value: min_data_in_leaf=38\n",
      "[LightGBM] [Warning] min_sum_hessian_in_leaf is set=8, min_child_weight=0.001 will be ignored. Current value: min_sum_hessian_in_leaf=8\n",
      "[LightGBM] [Warning] num_threads is set=7, n_jobs=-1 will be ignored. Current value: num_threads=7\n",
      "[LightGBM] [Warning] bagging_freq is set=9, subsample_freq=0 will be ignored. Current value: bagging_freq=9\n"
     ]
    },
    {
     "name": "stderr",
     "output_type": "stream",
     "text": [
      "\u001b[32m[I 2021-06-16 14:53:55,971]\u001b[0m Trial 16 finished with value: 0.12827707718061876 and parameters: {'bagging_freq': 9, 'min_data_in_leaf': 38, 'max_depth': 7, 'learning_rate': 0.046964984773096165, 'num_leaves': 58, 'num_threads': 7, 'min_sum_hessian_in_leaf': 8}. Best is trial 16 with value: 0.12827707718061876.\u001b[0m\n"
     ]
    },
    {
     "name": "stdout",
     "output_type": "stream",
     "text": [
      "[LightGBM] [Warning] min_data_in_leaf is set=38, min_child_samples=20 will be ignored. Current value: min_data_in_leaf=38\n",
      "[LightGBM] [Warning] min_sum_hessian_in_leaf is set=7, min_child_weight=0.001 will be ignored. Current value: min_sum_hessian_in_leaf=7\n",
      "[LightGBM] [Warning] num_threads is set=5, n_jobs=-1 will be ignored. Current value: num_threads=5\n",
      "[LightGBM] [Warning] bagging_freq is set=10, subsample_freq=0 will be ignored. Current value: bagging_freq=10\n"
     ]
    },
    {
     "name": "stderr",
     "output_type": "stream",
     "text": [
      "\u001b[32m[I 2021-06-16 14:53:56,735]\u001b[0m Trial 17 finished with value: 0.12828312344098455 and parameters: {'bagging_freq': 10, 'min_data_in_leaf': 38, 'max_depth': 9, 'learning_rate': 0.04320766222045122, 'num_leaves': 57, 'num_threads': 5, 'min_sum_hessian_in_leaf': 7}. Best is trial 16 with value: 0.12827707718061876.\u001b[0m\n"
     ]
    },
    {
     "name": "stdout",
     "output_type": "stream",
     "text": [
      "[LightGBM] [Warning] min_data_in_leaf is set=47, min_child_samples=20 will be ignored. Current value: min_data_in_leaf=47\n",
      "[LightGBM] [Warning] min_sum_hessian_in_leaf is set=7, min_child_weight=0.001 will be ignored. Current value: min_sum_hessian_in_leaf=7\n",
      "[LightGBM] [Warning] num_threads is set=5, n_jobs=-1 will be ignored. Current value: num_threads=5\n",
      "[LightGBM] [Warning] bagging_freq is set=10, subsample_freq=0 will be ignored. Current value: bagging_freq=10\n"
     ]
    },
    {
     "name": "stderr",
     "output_type": "stream",
     "text": [
      "\u001b[32m[I 2021-06-16 14:53:57,508]\u001b[0m Trial 18 finished with value: 0.13330013873920082 and parameters: {'bagging_freq': 10, 'min_data_in_leaf': 47, 'max_depth': 9, 'learning_rate': 0.01750427088234371, 'num_leaves': 59, 'num_threads': 5, 'min_sum_hessian_in_leaf': 7}. Best is trial 16 with value: 0.12827707718061876.\u001b[0m\n"
     ]
    },
    {
     "name": "stdout",
     "output_type": "stream",
     "text": [
      "[LightGBM] [Warning] min_data_in_leaf is set=20, min_child_samples=20 will be ignored. Current value: min_data_in_leaf=20\n",
      "[LightGBM] [Warning] min_sum_hessian_in_leaf is set=6, min_child_weight=0.001 will be ignored. Current value: min_sum_hessian_in_leaf=6\n",
      "[LightGBM] [Warning] num_threads is set=5, n_jobs=-1 will be ignored. Current value: num_threads=5\n",
      "[LightGBM] [Warning] bagging_freq is set=9, subsample_freq=0 will be ignored. Current value: bagging_freq=9\n"
     ]
    },
    {
     "name": "stderr",
     "output_type": "stream",
     "text": [
      "\u001b[32m[I 2021-06-16 14:53:58,433]\u001b[0m Trial 19 finished with value: 0.12792534695689156 and parameters: {'bagging_freq': 9, 'min_data_in_leaf': 20, 'max_depth': 8, 'learning_rate': 0.07963779092546462, 'num_leaves': 53, 'num_threads': 5, 'min_sum_hessian_in_leaf': 6}. Best is trial 19 with value: 0.12792534695689156.\u001b[0m\n"
     ]
    },
    {
     "name": "stdout",
     "output_type": "stream",
     "text": [
      "[LightGBM] [Warning] min_data_in_leaf is set=14, min_child_samples=20 will be ignored. Current value: min_data_in_leaf=14\n",
      "[LightGBM] [Warning] min_sum_hessian_in_leaf is set=4, min_child_weight=0.001 will be ignored. Current value: min_sum_hessian_in_leaf=4\n",
      "[LightGBM] [Warning] num_threads is set=7, n_jobs=-1 will be ignored. Current value: num_threads=7\n",
      "[LightGBM] [Warning] bagging_freq is set=9, subsample_freq=0 will be ignored. Current value: bagging_freq=9\n"
     ]
    },
    {
     "name": "stderr",
     "output_type": "stream",
     "text": [
      "\u001b[32m[I 2021-06-16 14:53:59,068]\u001b[0m Trial 20 finished with value: 0.12915281244242297 and parameters: {'bagging_freq': 9, 'min_data_in_leaf': 14, 'max_depth': 3, 'learning_rate': 0.09272702715658572, 'num_leaves': 70, 'num_threads': 7, 'min_sum_hessian_in_leaf': 4}. Best is trial 19 with value: 0.12792534695689156.\u001b[0m\n"
     ]
    },
    {
     "name": "stdout",
     "output_type": "stream",
     "text": [
      "[LightGBM] [Warning] min_data_in_leaf is set=24, min_child_samples=20 will be ignored. Current value: min_data_in_leaf=24\n",
      "[LightGBM] [Warning] min_sum_hessian_in_leaf is set=6, min_child_weight=0.001 will be ignored. Current value: min_sum_hessian_in_leaf=6\n",
      "[LightGBM] [Warning] num_threads is set=5, n_jobs=-1 will be ignored. Current value: num_threads=5\n",
      "[LightGBM] [Warning] bagging_freq is set=9, subsample_freq=0 will be ignored. Current value: bagging_freq=9\n"
     ]
    },
    {
     "name": "stderr",
     "output_type": "stream",
     "text": [
      "\u001b[32m[I 2021-06-16 14:54:00,012]\u001b[0m Trial 21 finished with value: 0.12889830849156309 and parameters: {'bagging_freq': 9, 'min_data_in_leaf': 24, 'max_depth': 8, 'learning_rate': 0.03165964412885432, 'num_leaves': 53, 'num_threads': 5, 'min_sum_hessian_in_leaf': 6}. Best is trial 19 with value: 0.12792534695689156.\u001b[0m\n"
     ]
    },
    {
     "name": "stdout",
     "output_type": "stream",
     "text": [
      "[LightGBM] [Warning] min_data_in_leaf is set=46, min_child_samples=20 will be ignored. Current value: min_data_in_leaf=46\n",
      "[LightGBM] [Warning] min_sum_hessian_in_leaf is set=7, min_child_weight=0.001 will be ignored. Current value: min_sum_hessian_in_leaf=7\n",
      "[LightGBM] [Warning] num_threads is set=4, n_jobs=-1 will be ignored. Current value: num_threads=4\n",
      "[LightGBM] [Warning] bagging_freq is set=9, subsample_freq=0 will be ignored. Current value: bagging_freq=9\n"
     ]
    },
    {
     "name": "stderr",
     "output_type": "stream",
     "text": [
      "\u001b[32m[I 2021-06-16 14:54:00,835]\u001b[0m Trial 22 finished with value: 0.1278722531031335 and parameters: {'bagging_freq': 9, 'min_data_in_leaf': 46, 'max_depth': 11, 'learning_rate': 0.06981757165352377, 'num_leaves': 62, 'num_threads': 4, 'min_sum_hessian_in_leaf': 7}. Best is trial 22 with value: 0.1278722531031335.\u001b[0m\n"
     ]
    },
    {
     "name": "stdout",
     "output_type": "stream",
     "text": [
      "[LightGBM] [Warning] min_data_in_leaf is set=11, min_child_samples=20 will be ignored. Current value: min_data_in_leaf=11\n",
      "[LightGBM] [Warning] min_sum_hessian_in_leaf is set=8, min_child_weight=0.001 will be ignored. Current value: min_sum_hessian_in_leaf=8\n",
      "[LightGBM] [Warning] num_threads is set=4, n_jobs=-1 will be ignored. Current value: num_threads=4\n",
      "[LightGBM] [Warning] bagging_freq is set=9, subsample_freq=0 will be ignored. Current value: bagging_freq=9\n"
     ]
    },
    {
     "name": "stderr",
     "output_type": "stream",
     "text": [
      "\u001b[32m[I 2021-06-16 14:54:01,623]\u001b[0m Trial 23 finished with value: 0.12795871346959362 and parameters: {'bagging_freq': 9, 'min_data_in_leaf': 11, 'max_depth': 12, 'learning_rate': 0.06751223963335878, 'num_leaves': 64, 'num_threads': 4, 'min_sum_hessian_in_leaf': 8}. Best is trial 22 with value: 0.1278722531031335.\u001b[0m\n"
     ]
    },
    {
     "name": "stdout",
     "output_type": "stream",
     "text": [
      "[LightGBM] [Warning] min_data_in_leaf is set=8, min_child_samples=20 will be ignored. Current value: min_data_in_leaf=8\n",
      "[LightGBM] [Warning] min_sum_hessian_in_leaf is set=6, min_child_weight=0.001 will be ignored. Current value: min_sum_hessian_in_leaf=6\n",
      "[LightGBM] [Warning] num_threads is set=4, n_jobs=-1 will be ignored. Current value: num_threads=4\n",
      "[LightGBM] [Warning] bagging_freq is set=7, subsample_freq=0 will be ignored. Current value: bagging_freq=7\n"
     ]
    },
    {
     "name": "stderr",
     "output_type": "stream",
     "text": [
      "\u001b[32m[I 2021-06-16 14:54:02,365]\u001b[0m Trial 24 finished with value: 0.12770491104553716 and parameters: {'bagging_freq': 7, 'min_data_in_leaf': 8, 'max_depth': 12, 'learning_rate': 0.09617812639566961, 'num_leaves': 65, 'num_threads': 4, 'min_sum_hessian_in_leaf': 6}. Best is trial 24 with value: 0.12770491104553716.\u001b[0m\n"
     ]
    },
    {
     "name": "stdout",
     "output_type": "stream",
     "text": [
      "[LightGBM] [Warning] min_data_in_leaf is set=6, min_child_samples=20 will be ignored. Current value: min_data_in_leaf=6\n",
      "[LightGBM] [Warning] min_sum_hessian_in_leaf is set=6, min_child_weight=0.001 will be ignored. Current value: min_sum_hessian_in_leaf=6\n",
      "[LightGBM] [Warning] num_threads is set=4, n_jobs=-1 will be ignored. Current value: num_threads=4\n",
      "[LightGBM] [Warning] bagging_freq is set=6, subsample_freq=0 will be ignored. Current value: bagging_freq=6\n"
     ]
    },
    {
     "name": "stderr",
     "output_type": "stream",
     "text": [
      "\u001b[32m[I 2021-06-16 14:54:03,151]\u001b[0m Trial 25 finished with value: 0.1276691244514197 and parameters: {'bagging_freq': 6, 'min_data_in_leaf': 6, 'max_depth': 16, 'learning_rate': 0.09799178188934679, 'num_leaves': 65, 'num_threads': 4, 'min_sum_hessian_in_leaf': 6}. Best is trial 25 with value: 0.1276691244514197.\u001b[0m\n"
     ]
    },
    {
     "name": "stdout",
     "output_type": "stream",
     "text": [
      "[LightGBM] [Warning] min_data_in_leaf is set=2, min_child_samples=20 will be ignored. Current value: min_data_in_leaf=2\n",
      "[LightGBM] [Warning] min_sum_hessian_in_leaf is set=4, min_child_weight=0.001 will be ignored. Current value: min_sum_hessian_in_leaf=4\n",
      "[LightGBM] [Warning] num_threads is set=3, n_jobs=-1 will be ignored. Current value: num_threads=3\n",
      "[LightGBM] [Warning] bagging_freq is set=6, subsample_freq=0 will be ignored. Current value: bagging_freq=6\n"
     ]
    },
    {
     "name": "stderr",
     "output_type": "stream",
     "text": [
      "\u001b[32m[I 2021-06-16 14:54:04,002]\u001b[0m Trial 26 finished with value: 0.12774842332754172 and parameters: {'bagging_freq': 6, 'min_data_in_leaf': 2, 'max_depth': 16, 'learning_rate': 0.09835368543540052, 'num_leaves': 66, 'num_threads': 3, 'min_sum_hessian_in_leaf': 4}. Best is trial 25 with value: 0.1276691244514197.\u001b[0m\n"
     ]
    },
    {
     "name": "stdout",
     "output_type": "stream",
     "text": [
      "[LightGBM] [Warning] min_data_in_leaf is set=2, min_child_samples=20 will be ignored. Current value: min_data_in_leaf=2\n",
      "[LightGBM] [Warning] min_sum_hessian_in_leaf is set=4, min_child_weight=0.001 will be ignored. Current value: min_sum_hessian_in_leaf=4\n",
      "[LightGBM] [Warning] num_threads is set=3, n_jobs=-1 will be ignored. Current value: num_threads=3\n",
      "[LightGBM] [Warning] bagging_freq is set=6, subsample_freq=0 will be ignored. Current value: bagging_freq=6\n"
     ]
    },
    {
     "name": "stderr",
     "output_type": "stream",
     "text": [
      "\u001b[32m[I 2021-06-16 14:54:04,939]\u001b[0m Trial 27 finished with value: 0.12770679649174874 and parameters: {'bagging_freq': 6, 'min_data_in_leaf': 2, 'max_depth': 16, 'learning_rate': 0.09872169272336961, 'num_leaves': 70, 'num_threads': 3, 'min_sum_hessian_in_leaf': 4}. Best is trial 25 with value: 0.1276691244514197.\u001b[0m\n"
     ]
    },
    {
     "name": "stdout",
     "output_type": "stream",
     "text": [
      "[LightGBM] [Warning] min_data_in_leaf is set=8, min_child_samples=20 will be ignored. Current value: min_data_in_leaf=8\n",
      "[LightGBM] [Warning] min_sum_hessian_in_leaf is set=2, min_child_weight=0.001 will be ignored. Current value: min_sum_hessian_in_leaf=2\n",
      "[LightGBM] [Warning] num_threads is set=3, n_jobs=-1 will be ignored. Current value: num_threads=3\n",
      "[LightGBM] [Warning] bagging_freq is set=7, subsample_freq=0 will be ignored. Current value: bagging_freq=7\n"
     ]
    },
    {
     "name": "stderr",
     "output_type": "stream",
     "text": [
      "\u001b[32m[I 2021-06-16 14:54:05,869]\u001b[0m Trial 28 finished with value: 0.15831265928849794 and parameters: {'bagging_freq': 7, 'min_data_in_leaf': 8, 'max_depth': 16, 'learning_rate': 0.0072608612853292, 'num_leaves': 70, 'num_threads': 3, 'min_sum_hessian_in_leaf': 2}. Best is trial 25 with value: 0.1276691244514197.\u001b[0m\n"
     ]
    },
    {
     "name": "stdout",
     "output_type": "stream",
     "text": [
      "[LightGBM] [Warning] min_data_in_leaf is set=2, min_child_samples=20 will be ignored. Current value: min_data_in_leaf=2\n",
      "[LightGBM] [Warning] min_sum_hessian_in_leaf is set=4, min_child_weight=0.001 will be ignored. Current value: min_sum_hessian_in_leaf=4\n",
      "[LightGBM] [Warning] num_threads is set=2, n_jobs=-1 will be ignored. Current value: num_threads=2\n",
      "[LightGBM] [Warning] bagging_freq is set=5, subsample_freq=0 will be ignored. Current value: bagging_freq=5\n"
     ]
    },
    {
     "name": "stderr",
     "output_type": "stream",
     "text": [
      "\u001b[32m[I 2021-06-16 14:54:07,336]\u001b[0m Trial 29 finished with value: 0.12868292306326679 and parameters: {'bagging_freq': 5, 'min_data_in_leaf': 2, 'max_depth': 14, 'learning_rate': 0.031878596084536664, 'num_leaves': 70, 'num_threads': 2, 'min_sum_hessian_in_leaf': 4}. Best is trial 25 with value: 0.1276691244514197.\u001b[0m\n"
     ]
    },
    {
     "name": "stdout",
     "output_type": "stream",
     "text": [
      "[LightGBM] [Warning] min_data_in_leaf is set=13, min_child_samples=20 will be ignored. Current value: min_data_in_leaf=13\n",
      "[LightGBM] [Warning] min_sum_hessian_in_leaf is set=5, min_child_weight=0.001 will be ignored. Current value: min_sum_hessian_in_leaf=5\n",
      "[LightGBM] [Warning] num_threads is set=4, n_jobs=-1 will be ignored. Current value: num_threads=4\n",
      "[LightGBM] [Warning] bagging_freq is set=7, subsample_freq=0 will be ignored. Current value: bagging_freq=7\n"
     ]
    },
    {
     "name": "stderr",
     "output_type": "stream",
     "text": [
      "\u001b[32m[I 2021-06-16 14:54:08,062]\u001b[0m Trial 30 finished with value: 0.13660341462124842 and parameters: {'bagging_freq': 7, 'min_data_in_leaf': 13, 'max_depth': 17, 'learning_rate': 0.01498133696240035, 'num_leaves': 41, 'num_threads': 4, 'min_sum_hessian_in_leaf': 5}. Best is trial 25 with value: 0.1276691244514197.\u001b[0m\n"
     ]
    },
    {
     "name": "stdout",
     "output_type": "stream",
     "text": [
      "[LightGBM] [Warning] min_data_in_leaf is set=2, min_child_samples=20 will be ignored. Current value: min_data_in_leaf=2\n",
      "[LightGBM] [Warning] min_sum_hessian_in_leaf is set=4, min_child_weight=0.001 will be ignored. Current value: min_sum_hessian_in_leaf=4\n",
      "[LightGBM] [Warning] num_threads is set=3, n_jobs=-1 will be ignored. Current value: num_threads=3\n",
      "[LightGBM] [Warning] bagging_freq is set=6, subsample_freq=0 will be ignored. Current value: bagging_freq=6\n"
     ]
    },
    {
     "name": "stderr",
     "output_type": "stream",
     "text": [
      "\u001b[32m[I 2021-06-16 14:54:08,985]\u001b[0m Trial 31 finished with value: 0.12782198097562256 and parameters: {'bagging_freq': 6, 'min_data_in_leaf': 2, 'max_depth': 15, 'learning_rate': 0.09546151742972545, 'num_leaves': 65, 'num_threads': 3, 'min_sum_hessian_in_leaf': 4}. Best is trial 25 with value: 0.1276691244514197.\u001b[0m\n"
     ]
    },
    {
     "name": "stdout",
     "output_type": "stream",
     "text": [
      "[LightGBM] [Warning] min_data_in_leaf is set=3, min_child_samples=20 will be ignored. Current value: min_data_in_leaf=3\n",
      "[LightGBM] [Warning] min_sum_hessian_in_leaf is set=3, min_child_weight=0.001 will be ignored. Current value: min_sum_hessian_in_leaf=3\n",
      "[LightGBM] [Warning] num_threads is set=3, n_jobs=-1 will be ignored. Current value: num_threads=3\n",
      "[LightGBM] [Warning] bagging_freq is set=6, subsample_freq=0 will be ignored. Current value: bagging_freq=6\n"
     ]
    },
    {
     "name": "stderr",
     "output_type": "stream",
     "text": [
      "\u001b[32m[I 2021-06-16 14:54:09,870]\u001b[0m Trial 32 finished with value: 0.1277584856619674 and parameters: {'bagging_freq': 6, 'min_data_in_leaf': 3, 'max_depth': 17, 'learning_rate': 0.0971685912235362, 'num_leaves': 66, 'num_threads': 3, 'min_sum_hessian_in_leaf': 3}. Best is trial 25 with value: 0.1276691244514197.\u001b[0m\n"
     ]
    },
    {
     "name": "stdout",
     "output_type": "stream",
     "text": [
      "[LightGBM] [Warning] min_data_in_leaf is set=17, min_child_samples=20 will be ignored. Current value: min_data_in_leaf=17\n",
      "[LightGBM] [Warning] min_sum_hessian_in_leaf is set=4, min_child_weight=0.001 will be ignored. Current value: min_sum_hessian_in_leaf=4\n",
      "[LightGBM] [Warning] num_threads is set=2, n_jobs=-1 will be ignored. Current value: num_threads=2\n",
      "[LightGBM] [Warning] bagging_freq is set=5, subsample_freq=0 will be ignored. Current value: bagging_freq=5\n"
     ]
    },
    {
     "name": "stderr",
     "output_type": "stream",
     "text": [
      "\u001b[32m[I 2021-06-16 14:54:11,268]\u001b[0m Trial 33 finished with value: 0.12785425620274518 and parameters: {'bagging_freq': 5, 'min_data_in_leaf': 17, 'max_depth': 13, 'learning_rate': 0.06603072550098882, 'num_leaves': 62, 'num_threads': 2, 'min_sum_hessian_in_leaf': 4}. Best is trial 25 with value: 0.1276691244514197.\u001b[0m\n"
     ]
    },
    {
     "name": "stdout",
     "output_type": "stream",
     "text": [
      "[LightGBM] [Warning] min_data_in_leaf is set=9, min_child_samples=20 will be ignored. Current value: min_data_in_leaf=9\n",
      "[LightGBM] [Warning] min_sum_hessian_in_leaf is set=5, min_child_weight=0.001 will be ignored. Current value: min_sum_hessian_in_leaf=5\n",
      "[LightGBM] [Warning] num_threads is set=4, n_jobs=-1 will be ignored. Current value: num_threads=4\n",
      "[LightGBM] [Warning] bagging_freq is set=6, subsample_freq=0 will be ignored. Current value: bagging_freq=6\n"
     ]
    },
    {
     "name": "stderr",
     "output_type": "stream",
     "text": [
      "\u001b[32m[I 2021-06-16 14:54:12,031]\u001b[0m Trial 34 finished with value: 0.12795524243178324 and parameters: {'bagging_freq': 6, 'min_data_in_leaf': 9, 'max_depth': 15, 'learning_rate': 0.060168566885736206, 'num_leaves': 54, 'num_threads': 4, 'min_sum_hessian_in_leaf': 5}. Best is trial 25 with value: 0.1276691244514197.\u001b[0m\n"
     ]
    },
    {
     "name": "stdout",
     "output_type": "stream",
     "text": [
      "[LightGBM] [Warning] min_data_in_leaf is set=24, min_child_samples=20 will be ignored. Current value: min_data_in_leaf=24\n",
      "[LightGBM] [Warning] min_sum_hessian_in_leaf is set=6, min_child_weight=0.001 will be ignored. Current value: min_sum_hessian_in_leaf=6\n",
      "[LightGBM] [Warning] num_threads is set=3, n_jobs=-1 will be ignored. Current value: num_threads=3\n",
      "[LightGBM] [Warning] bagging_freq is set=7, subsample_freq=0 will be ignored. Current value: bagging_freq=7\n"
     ]
    },
    {
     "name": "stderr",
     "output_type": "stream",
     "text": [
      "\u001b[32m[I 2021-06-16 14:54:12,927]\u001b[0m Trial 35 finished with value: 0.12769812992471624 and parameters: {'bagging_freq': 7, 'min_data_in_leaf': 24, 'max_depth': 20, 'learning_rate': 0.095230605441618, 'num_leaves': 68, 'num_threads': 3, 'min_sum_hessian_in_leaf': 6}. Best is trial 25 with value: 0.1276691244514197.\u001b[0m\n"
     ]
    },
    {
     "name": "stdout",
     "output_type": "stream",
     "text": [
      "[LightGBM] [Warning] min_data_in_leaf is set=26, min_child_samples=20 will be ignored. Current value: min_data_in_leaf=26\n",
      "[LightGBM] [Warning] min_sum_hessian_in_leaf is set=6, min_child_weight=0.001 will be ignored. Current value: min_sum_hessian_in_leaf=6\n",
      "[LightGBM] [Warning] num_threads is set=6, n_jobs=-1 will be ignored. Current value: num_threads=6\n",
      "[LightGBM] [Warning] bagging_freq is set=7, subsample_freq=0 will be ignored. Current value: bagging_freq=7\n"
     ]
    },
    {
     "name": "stderr",
     "output_type": "stream",
     "text": [
      "\u001b[32m[I 2021-06-16 14:54:13,549]\u001b[0m Trial 36 finished with value: 0.12786483773683788 and parameters: {'bagging_freq': 7, 'min_data_in_leaf': 26, 'max_depth': 20, 'learning_rate': 0.07561546116781896, 'num_leaves': 70, 'num_threads': 6, 'min_sum_hessian_in_leaf': 6}. Best is trial 25 with value: 0.1276691244514197.\u001b[0m\n"
     ]
    },
    {
     "name": "stdout",
     "output_type": "stream",
     "text": [
      "[LightGBM] [Warning] min_data_in_leaf is set=17, min_child_samples=20 will be ignored. Current value: min_data_in_leaf=17\n",
      "[LightGBM] [Warning] min_sum_hessian_in_leaf is set=5, min_child_weight=0.001 will be ignored. Current value: min_sum_hessian_in_leaf=5\n",
      "[LightGBM] [Warning] num_threads is set=1, n_jobs=-1 will be ignored. Current value: num_threads=1\n",
      "[LightGBM] [Warning] bagging_freq is set=4, subsample_freq=0 will be ignored. Current value: bagging_freq=4\n"
     ]
    },
    {
     "name": "stderr",
     "output_type": "stream",
     "text": [
      "\u001b[32m[I 2021-06-16 14:54:15,290]\u001b[0m Trial 37 finished with value: 0.1289896681630482 and parameters: {'bagging_freq': 4, 'min_data_in_leaf': 17, 'max_depth': 19, 'learning_rate': 0.03896002228855906, 'num_leaves': 24, 'num_threads': 1, 'min_sum_hessian_in_leaf': 5}. Best is trial 25 with value: 0.1276691244514197.\u001b[0m\n"
     ]
    },
    {
     "name": "stdout",
     "output_type": "stream",
     "text": [
      "[LightGBM] [Warning] min_data_in_leaf is set=21, min_child_samples=20 will be ignored. Current value: min_data_in_leaf=21\n",
      "[LightGBM] [Warning] min_sum_hessian_in_leaf is set=6, min_child_weight=0.001 will be ignored. Current value: min_sum_hessian_in_leaf=6\n",
      "[LightGBM] [Warning] num_threads is set=4, n_jobs=-1 will be ignored. Current value: num_threads=4\n",
      "[LightGBM] [Warning] bagging_freq is set=7, subsample_freq=0 will be ignored. Current value: bagging_freq=7\n"
     ]
    },
    {
     "name": "stderr",
     "output_type": "stream",
     "text": [
      "\u001b[32m[I 2021-06-16 14:54:16,059]\u001b[0m Trial 38 finished with value: 0.12802694264163125 and parameters: {'bagging_freq': 7, 'min_data_in_leaf': 21, 'max_depth': 18, 'learning_rate': 0.0550940403146658, 'num_leaves': 62, 'num_threads': 4, 'min_sum_hessian_in_leaf': 6}. Best is trial 25 with value: 0.1276691244514197.\u001b[0m\n"
     ]
    },
    {
     "name": "stdout",
     "output_type": "stream",
     "text": [
      "[LightGBM] [Warning] min_data_in_leaf is set=8, min_child_samples=20 will be ignored. Current value: min_data_in_leaf=8\n",
      "[LightGBM] [Warning] min_sum_hessian_in_leaf is set=5, min_child_weight=0.001 will be ignored. Current value: min_sum_hessian_in_leaf=5\n",
      "[LightGBM] [Warning] num_threads is set=2, n_jobs=-1 will be ignored. Current value: num_threads=2\n",
      "[LightGBM] [Warning] bagging_freq is set=5, subsample_freq=0 will be ignored. Current value: bagging_freq=5\n"
     ]
    },
    {
     "name": "stderr",
     "output_type": "stream",
     "text": [
      "\u001b[32m[I 2021-06-16 14:54:16,970]\u001b[0m Trial 39 finished with value: 0.1317391954679731 and parameters: {'bagging_freq': 5, 'min_data_in_leaf': 8, 'max_depth': 20, 'learning_rate': 0.02759720236507259, 'num_leaves': 12, 'num_threads': 2, 'min_sum_hessian_in_leaf': 5}. Best is trial 25 with value: 0.1276691244514197.\u001b[0m\n"
     ]
    },
    {
     "name": "stdout",
     "output_type": "stream",
     "text": [
      "[LightGBM] [Warning] min_data_in_leaf is set=14, min_child_samples=20 will be ignored. Current value: min_data_in_leaf=14\n",
      "[LightGBM] [Warning] min_sum_hessian_in_leaf is set=7, min_child_weight=0.001 will be ignored. Current value: min_sum_hessian_in_leaf=7\n",
      "[LightGBM] [Warning] num_threads is set=3, n_jobs=-1 will be ignored. Current value: num_threads=3\n",
      "[LightGBM] [Warning] bagging_freq is set=7, subsample_freq=0 will be ignored. Current value: bagging_freq=7\n"
     ]
    },
    {
     "name": "stderr",
     "output_type": "stream",
     "text": [
      "\u001b[32m[I 2021-06-16 14:54:17,758]\u001b[0m Trial 40 finished with value: 0.17934085287945775 and parameters: {'bagging_freq': 7, 'min_data_in_leaf': 14, 'max_depth': 18, 'learning_rate': 0.004759894519921532, 'num_leaves': 32, 'num_threads': 3, 'min_sum_hessian_in_leaf': 7}. Best is trial 25 with value: 0.1276691244514197.\u001b[0m\n"
     ]
    },
    {
     "name": "stdout",
     "output_type": "stream",
     "text": [
      "[LightGBM] [Warning] min_data_in_leaf is set=5, min_child_samples=20 will be ignored. Current value: min_data_in_leaf=5\n",
      "[LightGBM] [Warning] min_sum_hessian_in_leaf is set=6, min_child_weight=0.001 will be ignored. Current value: min_sum_hessian_in_leaf=6\n",
      "[LightGBM] [Warning] num_threads is set=3, n_jobs=-1 will be ignored. Current value: num_threads=3\n",
      "[LightGBM] [Warning] bagging_freq is set=6, subsample_freq=0 will be ignored. Current value: bagging_freq=6\n"
     ]
    },
    {
     "name": "stderr",
     "output_type": "stream",
     "text": [
      "\u001b[32m[I 2021-06-16 14:54:18,649]\u001b[0m Trial 41 finished with value: 0.22660778339276136 and parameters: {'bagging_freq': 6, 'min_data_in_leaf': 5, 'max_depth': 16, 'learning_rate': 0.001113904098821872, 'num_leaves': 67, 'num_threads': 3, 'min_sum_hessian_in_leaf': 6}. Best is trial 25 with value: 0.1276691244514197.\u001b[0m\n"
     ]
    },
    {
     "name": "stdout",
     "output_type": "stream",
     "text": [
      "[LightGBM] [Warning] min_data_in_leaf is set=57, min_child_samples=20 will be ignored. Current value: min_data_in_leaf=57\n",
      "[LightGBM] [Warning] min_sum_hessian_in_leaf is set=2, min_child_weight=0.001 will be ignored. Current value: min_sum_hessian_in_leaf=2\n",
      "[LightGBM] [Warning] num_threads is set=4, n_jobs=-1 will be ignored. Current value: num_threads=4\n",
      "[LightGBM] [Warning] bagging_freq is set=4, subsample_freq=0 will be ignored. Current value: bagging_freq=4\n"
     ]
    },
    {
     "name": "stderr",
     "output_type": "stream",
     "text": [
      "\u001b[32m[I 2021-06-16 14:54:19,443]\u001b[0m Trial 42 finished with value: 0.12776036783999728 and parameters: {'bagging_freq': 4, 'min_data_in_leaf': 57, 'max_depth': 13, 'learning_rate': 0.08912937322234823, 'num_leaves': 67, 'num_threads': 4, 'min_sum_hessian_in_leaf': 2}. Best is trial 25 with value: 0.1276691244514197.\u001b[0m\n"
     ]
    },
    {
     "name": "stdout",
     "output_type": "stream",
     "text": [
      "[LightGBM] [Warning] min_data_in_leaf is set=2, min_child_samples=20 will be ignored. Current value: min_data_in_leaf=2\n",
      "[LightGBM] [Warning] min_sum_hessian_in_leaf is set=5, min_child_weight=0.001 will be ignored. Current value: min_sum_hessian_in_leaf=5\n",
      "[LightGBM] [Warning] num_threads is set=2, n_jobs=-1 will be ignored. Current value: num_threads=2\n",
      "[LightGBM] [Warning] bagging_freq is set=6, subsample_freq=0 will be ignored. Current value: bagging_freq=6\n"
     ]
    },
    {
     "name": "stderr",
     "output_type": "stream",
     "text": [
      "\u001b[32m[I 2021-06-16 14:54:20,689]\u001b[0m Trial 43 finished with value: 0.12776990615495476 and parameters: {'bagging_freq': 6, 'min_data_in_leaf': 2, 'max_depth': 14, 'learning_rate': 0.09860277853148736, 'num_leaves': 62, 'num_threads': 2, 'min_sum_hessian_in_leaf': 5}. Best is trial 25 with value: 0.1276691244514197.\u001b[0m\n"
     ]
    },
    {
     "name": "stdout",
     "output_type": "stream",
     "text": [
      "[LightGBM] [Warning] min_data_in_leaf is set=27, min_child_samples=20 will be ignored. Current value: min_data_in_leaf=27\n",
      "[LightGBM] [Warning] min_sum_hessian_in_leaf is set=4, min_child_weight=0.001 will be ignored. Current value: min_sum_hessian_in_leaf=4\n",
      "[LightGBM] [Warning] num_threads is set=3, n_jobs=-1 will be ignored. Current value: num_threads=3\n",
      "[LightGBM] [Warning] bagging_freq is set=5, subsample_freq=0 will be ignored. Current value: bagging_freq=5\n"
     ]
    },
    {
     "name": "stderr",
     "output_type": "stream",
     "text": [
      "\u001b[32m[I 2021-06-16 14:54:21,594]\u001b[0m Trial 44 finished with value: 0.12773408487973045 and parameters: {'bagging_freq': 5, 'min_data_in_leaf': 27, 'max_depth': 16, 'learning_rate': 0.09798409560109615, 'num_leaves': 55, 'num_threads': 3, 'min_sum_hessian_in_leaf': 4}. Best is trial 25 with value: 0.1276691244514197.\u001b[0m\n"
     ]
    },
    {
     "name": "stdout",
     "output_type": "stream",
     "text": [
      "[LightGBM] [Warning] min_data_in_leaf is set=26, min_child_samples=20 will be ignored. Current value: min_data_in_leaf=26\n",
      "[LightGBM] [Warning] min_sum_hessian_in_leaf is set=3, min_child_weight=0.001 will be ignored. Current value: min_sum_hessian_in_leaf=3\n",
      "[LightGBM] [Warning] num_threads is set=4, n_jobs=-1 will be ignored. Current value: num_threads=4\n",
      "[LightGBM] [Warning] bagging_freq is set=3, subsample_freq=0 will be ignored. Current value: bagging_freq=3\n"
     ]
    },
    {
     "name": "stderr",
     "output_type": "stream",
     "text": [
      "\u001b[32m[I 2021-06-16 14:54:22,406]\u001b[0m Trial 45 finished with value: 0.1278113149728882 and parameters: {'bagging_freq': 3, 'min_data_in_leaf': 26, 'max_depth': 17, 'learning_rate': 0.07400673444449359, 'num_leaves': 48, 'num_threads': 4, 'min_sum_hessian_in_leaf': 3}. Best is trial 25 with value: 0.1276691244514197.\u001b[0m\n"
     ]
    },
    {
     "name": "stdout",
     "output_type": "stream",
     "text": [
      "[LightGBM] [Warning] min_data_in_leaf is set=18, min_child_samples=20 will be ignored. Current value: min_data_in_leaf=18\n",
      "[LightGBM] [Warning] min_sum_hessian_in_leaf is set=6, min_child_weight=0.001 will be ignored. Current value: min_sum_hessian_in_leaf=6\n",
      "[LightGBM] [Warning] num_threads is set=3, n_jobs=-1 will be ignored. Current value: num_threads=3\n",
      "[LightGBM] [Warning] bagging_freq is set=5, subsample_freq=0 will be ignored. Current value: bagging_freq=5\n"
     ]
    },
    {
     "name": "stderr",
     "output_type": "stream",
     "text": [
      "\u001b[32m[I 2021-06-16 14:54:23,331]\u001b[0m Trial 46 finished with value: 0.12804211575888186 and parameters: {'bagging_freq': 5, 'min_data_in_leaf': 18, 'max_depth': 14, 'learning_rate': 0.05403585343789242, 'num_leaves': 56, 'num_threads': 3, 'min_sum_hessian_in_leaf': 6}. Best is trial 25 with value: 0.1276691244514197.\u001b[0m\n"
     ]
    },
    {
     "name": "stdout",
     "output_type": "stream",
     "text": [
      "[LightGBM] [Warning] min_data_in_leaf is set=34, min_child_samples=20 will be ignored. Current value: min_data_in_leaf=34\n",
      "[LightGBM] [Warning] min_sum_hessian_in_leaf is set=5, min_child_weight=0.001 will be ignored. Current value: min_sum_hessian_in_leaf=5\n",
      "[LightGBM] [Warning] num_threads is set=1, n_jobs=-1 will be ignored. Current value: num_threads=1\n",
      "[LightGBM] [Warning] bagging_freq is set=4, subsample_freq=0 will be ignored. Current value: bagging_freq=4\n"
     ]
    },
    {
     "name": "stderr",
     "output_type": "stream",
     "text": [
      "\u001b[32m[I 2021-06-16 14:54:25,282]\u001b[0m Trial 47 finished with value: 0.12779704404939402 and parameters: {'bagging_freq': 4, 'min_data_in_leaf': 34, 'max_depth': 19, 'learning_rate': 0.09897645011738945, 'num_leaves': 50, 'num_threads': 1, 'min_sum_hessian_in_leaf': 5}. Best is trial 25 with value: 0.1276691244514197.\u001b[0m\n"
     ]
    },
    {
     "name": "stdout",
     "output_type": "stream",
     "text": [
      "[LightGBM] [Warning] min_data_in_leaf is set=30, min_child_samples=20 will be ignored. Current value: min_data_in_leaf=30\n",
      "[LightGBM] [Warning] min_sum_hessian_in_leaf is set=7, min_child_weight=0.001 will be ignored. Current value: min_sum_hessian_in_leaf=7\n",
      "[LightGBM] [Warning] num_threads is set=5, n_jobs=-1 will be ignored. Current value: num_threads=5\n",
      "[LightGBM] [Warning] bagging_freq is set=8, subsample_freq=0 will be ignored. Current value: bagging_freq=8\n"
     ]
    },
    {
     "name": "stderr",
     "output_type": "stream",
     "text": [
      "\u001b[32m[I 2021-06-16 14:54:25,985]\u001b[0m Trial 48 finished with value: 0.12797468943459958 and parameters: {'bagging_freq': 8, 'min_data_in_leaf': 30, 'max_depth': 12, 'learning_rate': 0.060838259718882015, 'num_leaves': 62, 'num_threads': 5, 'min_sum_hessian_in_leaf': 7}. Best is trial 25 with value: 0.1276691244514197.\u001b[0m\n"
     ]
    },
    {
     "name": "stdout",
     "output_type": "stream",
     "text": [
      "[LightGBM] [Warning] min_data_in_leaf is set=76, min_child_samples=20 will be ignored. Current value: min_data_in_leaf=76\n",
      "[LightGBM] [Warning] min_sum_hessian_in_leaf is set=2, min_child_weight=0.001 will be ignored. Current value: min_sum_hessian_in_leaf=2\n",
      "[LightGBM] [Warning] num_threads is set=2, n_jobs=-1 will be ignored. Current value: num_threads=2\n",
      "[LightGBM] [Warning] bagging_freq is set=7, subsample_freq=0 will be ignored. Current value: bagging_freq=7\n"
     ]
    },
    {
     "name": "stderr",
     "output_type": "stream",
     "text": [
      "\u001b[32m[I 2021-06-16 14:54:27,211]\u001b[0m Trial 49 finished with value: 0.12784798185344473 and parameters: {'bagging_freq': 7, 'min_data_in_leaf': 76, 'max_depth': 19, 'learning_rate': 0.07739628934439352, 'num_leaves': 68, 'num_threads': 2, 'min_sum_hessian_in_leaf': 2}. Best is trial 25 with value: 0.1276691244514197.\u001b[0m\n"
     ]
    },
    {
     "name": "stdout",
     "output_type": "stream",
     "text": [
      "Wall time: 43.7 s\n"
     ]
    }
   ],
   "source": [
    "%%time\n",
    "study = optuna.create_study()\n",
    "study.optimize(objective, n_trials=50)"
   ]
  },
  {
   "cell_type": "code",
   "execution_count": 9,
   "id": "64d0f7e1-991a-45b5-9759-6c139a4a967b",
   "metadata": {},
   "outputs": [
    {
     "name": "stdout",
     "output_type": "stream",
     "text": [
      "accuracy: 0.1276691244514197\n",
      "best hyperparameters: {'bagging_freq': 6, 'min_data_in_leaf': 6, 'max_depth': 16, 'learning_rate': 0.09799178188934679, 'num_leaves': 65, 'num_threads': 4, 'min_sum_hessian_in_leaf': 6}\n"
     ]
    }
   ],
   "source": [
    "trial = study.best_trial\n",
    "print('accuracy: {}'.format(trial.value))\n",
    "print('best hyperparameters: {}'.format(trial.params))"
   ]
  },
  {
   "cell_type": "code",
   "execution_count": 52,
   "id": "6fb097ca-ea21-4111-9457-314a4ed8fb53",
   "metadata": {},
   "outputs": [],
   "source": [
    "pd_param = pd.DataFrame([trial.params])\n",
    "pd_param.to_csv('model_params.csv', index=False)"
   ]
  },
  {
   "cell_type": "markdown",
   "id": "64b6790a-241a-48f5-9458-5b7da6ebfc77",
   "metadata": {},
   "source": [
    "# <font color='blue'>Model </font>"
   ]
  },
  {
   "cell_type": "code",
   "execution_count": 41,
   "id": "7c196ad2-56cb-4fab-b81a-8f5f17f37e84",
   "metadata": {},
   "outputs": [
    {
     "name": "stdout",
     "output_type": "stream",
     "text": [
      "[LightGBM] [Warning] min_data_in_leaf is set=6, min_child_samples=20 will be ignored. Current value: min_data_in_leaf=6\n",
      "[LightGBM] [Warning] min_sum_hessian_in_leaf is set=6, min_child_weight=0.001 will be ignored. Current value: min_sum_hessian_in_leaf=6\n",
      "[LightGBM] [Warning] num_threads is set=4, n_jobs=-1 will be ignored. Current value: num_threads=4\n",
      "[LightGBM] [Warning] bagging_freq is set=6, subsample_freq=0 will be ignored. Current value: bagging_freq=6\n",
      "Wall time: 583 ms\n"
     ]
    },
    {
     "data": {
      "text/plain": [
       "LGBMClassifier(bagging_freq=6, learning_rate=0.09799178188934679, max_depth=16,\n",
       "               min_data_in_leaf=6, min_sum_hessian_in_leaf=6, num_leaves=65,\n",
       "               num_threads=4)"
      ]
     },
     "execution_count": 41,
     "metadata": {},
     "output_type": "execute_result"
    }
   ],
   "source": [
    "%%time\n",
    "model = lightgbm.LGBMClassifier(bagging_freq=trial.params[\"bagging_freq\"], min_data_in_leaf=trial.params[\"min_data_in_leaf\"],\n",
    "                                max_depth=trial.params[\"max_depth\"],\n",
    "                                learning_rate=trial.params[\"learning_rate\"], num_leaves=trial.params[\"num_leaves\"],\n",
    "                                num_threads=trial.params[\"num_threads\"], min_sum_hessian_in_leaf=trial.params[\"min_sum_hessian_in_leaf\"])\n",
    "model.fit(X_train, Y_train)"
   ]
  },
  {
   "cell_type": "markdown",
   "id": "e6e327ff-4973-4f34-bfec-63477e157dc0",
   "metadata": {},
   "source": [
    "# <font color='blue'>Feature importance </font>"
   ]
  },
  {
   "cell_type": "code",
   "execution_count": 42,
   "id": "6a55adab-5c21-4f0c-9a73-72be5a7bb5e6",
   "metadata": {},
   "outputs": [
    {
     "data": {
      "image/png": "[encoded data removed]",
      "text/plain": [
       "<Figure size 1440x720 with 1 Axes>"
      ]
     },
     "metadata": {},
     "output_type": "display_data"
    }
   ],
   "source": [
    "feature_imp = pd.DataFrame(sorted(zip(model.feature_importances_,X.columns)), columns=['Value','Feature'])\n",
    "\n",
    "plt.figure(figsize=(20, 10))\n",
    "sns.barplot(x=\"Value\", y=\"Feature\", data=feature_imp.sort_values(by=\"Value\", ascending=False))\n",
    "plt.title('Features')\n",
    "plt.tight_layout()\n",
    "plt.show()"
   ]
  },
  {
   "cell_type": "markdown",
   "id": "12583ac3-5dbf-4ddc-9639-32518330f4a6",
   "metadata": {},
   "source": [
    "# <font color='blue'>MODEL PRECISION </font>"
   ]
  },
  {
   "cell_type": "code",
   "execution_count": 43,
   "id": "06070666-6d74-430c-88d9-fb167fdbe223",
   "metadata": {},
   "outputs": [
    {
     "data": {
      "image/png": "[encoded data removed]",
      "text/plain": [
       "<Figure size 720x360 with 1 Axes>"
      ]
     },
     "metadata": {},
     "output_type": "display_data"
    },
    {
     "name": "stdout",
     "output_type": "stream",
     "text": [
      "Wall time: 1.26 s\n"
     ]
    }
   ],
   "source": [
    "%%time\n",
    "plt.figure(figsize = (10,5))\n",
    "\n",
    "pred_proba = model.predict_proba(X_train)\n",
    "pred_proba_test = model.predict_proba(X_test)\n",
    "\n",
    "gmt = [\"accuracy train\", \"accuracy test\", \"log loss train\", \"log loss test\", \"brier score train\", \"brier score test\"]\n",
    "metrics = {'Labels': gmt,\n",
    "           'Value': [model.score(X_train, Y_train), model.score(X_test, Y_test),\n",
    "                     log_loss(Y_train, pred_proba),log_loss(Y_test, pred_proba_test),\n",
    "                     brier_score_loss(Y_train, pd.DataFrame(pred_proba)[1]),brier_score_loss(Y_test, pd.DataFrame(pred_proba_test)[1])]\n",
    "           }\n",
    "\n",
    "sns.set_context(rc = {'patch.linewidth': 2.0})\n",
    "sns.set(font_scale=1.3)\n",
    "ax = sns.barplot(x='Labels', y='Value', data=metrics, linewidth=2.0, edgecolor=\".2\", zorder=3, palette=sns.color_palette(\"deep\"))\n",
    "\n",
    "plt.ylabel('%')\n",
    "#plt.gca().yaxis.set_major_locator(ticker.MultipleLocator(.1))\n",
    "ax.grid(linewidth=1, color='white', zorder=0)\n",
    "ax.set_facecolor(\"#d7d7e0\")\n",
    "plt.title(\"Test metrics\")\n",
    "plt.show()"
   ]
  },
  {
   "cell_type": "markdown",
   "id": "36809529-50ac-4ef1-afde-f6216c8e1bae",
   "metadata": {},
   "source": [
    "# <font color='blue'>REALIBITY CURVE </font>"
   ]
  },
  {
   "cell_type": "code",
   "execution_count": 44,
   "id": "0dc5cc59-ca86-46eb-8ec1-19aaeb561605",
   "metadata": {},
   "outputs": [
    {
     "data": {
      "image/png": "[encoded data removed]",
      "text/plain": [
       "<Figure size 1152x432 with 1 Axes>"
      ]
     },
     "metadata": {},
     "output_type": "display_data"
    },
    {
     "name": "stdout",
     "output_type": "stream",
     "text": [
      "Wall time: 167 ms\n"
     ]
    },
    {
     "data": {
      "text/plain": [
       "Text(0.5, 0, 'mean predicted value')"
      ]
     },
     "execution_count": 44,
     "metadata": {},
     "output_type": "execute_result"
    },
    {
     "data": {
      "image/png": "[encoded data removed]",
      "text/plain": [
       "<Figure size 1152x432 with 1 Axes>"
      ]
     },
     "metadata": {},
     "output_type": "display_data"
    }
   ],
   "source": [
    "%%time\n",
    "plt.figure(figsize=(16,6))\n",
    "plt.plot([0,1], [0,1], 'k:', label='perfectly calibrated')\n",
    "x, y = calibration_curve(Y_test, pd.DataFrame(pred_proba_test)[1], n_bins=25)\n",
    "plt.plot(x, y, 's-', label='LGBM')\n",
    "plt.legend(loc='lower right')\n",
    "plt.title('Probability Calibration Curve')\n",
    "plt.ylabel('fraction of positives')\n",
    "plt.xlabel('mean predicted value')\n",
    "plt.gca().xaxis.set_major_locator(ticker.MultipleLocator(0.1))\n",
    "plt.show()\n",
    "\n",
    "plt.figure(figsize=(16,6))\n",
    "plt.hist(pd.DataFrame(pred_proba_test)[1], range=(0,1), bins=25, histtype=\"step\", lw=2, fill=True, color='tab:green',\n",
    "        edgecolor='black', linewidth=1.5)\n",
    "plt.title('Predicted Value Distribution for LGBM')\n",
    "plt.ylabel('count')\n",
    "plt.xlabel('mean predicted value')"
   ]
  },
  {
   "cell_type": "markdown",
   "id": "c8d4e344-4c7c-4723-b7ca-e7f9575fa5f5",
   "metadata": {},
   "source": [
    "# <font color='blue'>CONFUSION MATRIX </font>"
   ]
  },
  {
   "cell_type": "code",
   "execution_count": 45,
   "id": "fdf833d6-f94d-4144-8104-19f92e41a9c4",
   "metadata": {},
   "outputs": [
    {
     "data": {
      "image/png": "[encoded data removed]",
      "text/plain": [
       "<Figure size 576x432 with 2 Axes>"
      ]
     },
     "metadata": {},
     "output_type": "display_data"
    }
   ],
   "source": [
    "plt.figure(figsize = (8,6))\n",
    "cm = confusion_matrix(Y_test, model.predict(X_test, num_iteration=50))\n",
    "cm = (cm/cm.sum(axis=1).reshape(-1,1))\n",
    "\n",
    "sns.heatmap(cm, cmap=\"YlGnBu\", vmin=0., vmax=1., annot=True, annot_kws={'size':45})\n",
    "plt.title(\"wa\", fontsize = 5)\n",
    "plt.ylabel('Predicted label')\n",
    "plt.xlabel('True label')\n",
    "plt.show()"
   ]
  },
  {
   "cell_type": "code",
   "execution_count": 26,
   "id": "0b9e7fb1-d11b-4f2a-9430-d0ce97655152",
   "metadata": {},
   "outputs": [
    {
     "data": {
      "text/plain": [
       "0.80717385802987"
      ]
     },
     "execution_count": 26,
     "metadata": {},
     "output_type": "execute_result"
    }
   ],
   "source": [
    "Y_pred = model.predict(X_test)\n",
    "classification_report(Y_test, Y_pred, output_dict=True)[\"weighted avg\"][\"f1-score\"]"
   ]
  },
  {
   "cell_type": "markdown",
   "id": "d7bc5a7a-de3d-4695-8078-a39da6aebe7a",
   "metadata": {},
   "source": [
    "# <font color='blue'>Testing </font>"
   ]
  },
  {
   "cell_type": "code",
   "execution_count": null,
   "id": "114f426c-32c7-4ccd-883d-bb23392ec2ab",
   "metadata": {},
   "outputs": [],
   "source": [
    "data = {'ATK_wealth': [3320, 3320, 2740, 2740, 1740, 1740, 1740, 1160, 580, 0],\n",
    "        'DEF_wealth': [2900, 2320, 2320, 2320, 2320, 1740, 1160, 1160, 1160, 1160],\n",
    "       'ATK_alive': [5,5,4,4,3,3,3,2,1,0],\n",
    "       'DEF_alive': [5,4,4,4,4,3,2,2,2,2],\n",
    "       'Def_has_OP': [0,0,0,0,0,0,0,0,0,0],\n",
    "       'Def_has_Odin': [0,0,0,0,0,0,0,0,0,0],\n",
    "       'Spike_1_beep': [0,0,0,0,1,1,1,1,1,0],\n",
    "       'Spike_2_beep': [0,0,0,0,0,0,0,0,0,1],\n",
    "       'MapName_Ascent': [0,0,0,0,0,0,0,0,0,0],\n",
    "       'MapName_Bind': [0,0,0,0,0,0,0,0,0,0],\n",
    "       'MapName_Breeze': [0,0,0,0,0,0,0,0,0,0],\n",
    "       'MapName_Haven': [0,0,0,0,0,0,0,0,0,0],\n",
    "       'MapName_Icebox': [0,0,0,0,0,0,0,0,0,0],\n",
    "       'MapName_Split': [1,1,1,1,1,1,1,1,1,1]}"
   ]
  },
  {
   "cell_type": "code",
   "execution_count": null,
   "id": "56dadd76-4f7a-43be-a077-4ff47f024359",
   "metadata": {},
   "outputs": [],
   "source": [
    "%%time\n",
    "round_test = pd.DataFrame(data)\n",
    "\n",
    "for i in range(0, 10):\n",
    "    aux = LGBM.predict_proba(round_test.loc[i,:].to_numpy().reshape(1,-1))[0][0]\n",
    "    print(\"{}%\".format(round(aux, 3)*100))"
   ]
  },
  {
   "cell_type": "markdown",
   "id": "f722d149-6e8a-420e-92be-c228ad1a9f8a",
   "metadata": {},
   "source": [
    "# <font color='blue'>Query </font>"
   ]
  },
  {
   "cell_type": "code",
   "execution_count": 32,
   "id": "5bc1e8e2-7f45-48e4-8baf-9bd3193ce9d6",
   "metadata": {},
   "outputs": [],
   "source": [
    "df = pd.read_csv('{}combined_csv.csv'.format(path))"
   ]
  },
  {
   "cell_type": "code",
   "execution_count": 53,
   "id": "18c07469-28d2-4e9b-ab9d-93f4c545833e",
   "metadata": {},
   "outputs": [
    {
     "data": {
      "text/html": [
       "<div>\n",
       "<style scoped>\n",
       "    .dataframe tbody tr th:only-of-type {\n",
       "        vertical-align: middle;\n",
       "    }\n",
       "\n",
       "    .dataframe tbody tr th {\n",
       "        vertical-align: top;\n",
       "    }\n",
       "\n",
       "    .dataframe thead th {\n",
       "        text-align: right;\n",
       "    }\n",
       "</style>\n",
       "<table border=\"1\" class=\"dataframe\">\n",
       "  <thead>\n",
       "    <tr style=\"text-align: right;\">\n",
       "      <th></th>\n",
       "      <th>RoundID</th>\n",
       "      <th>RoundNumber</th>\n",
       "      <th>RoundTime</th>\n",
       "      <th>ATK_wealth</th>\n",
       "      <th>DEF_wealth</th>\n",
       "      <th>ATK_alive</th>\n",
       "      <th>DEF_alive</th>\n",
       "      <th>DEF_has_OP</th>\n",
       "      <th>Def_has_Odin</th>\n",
       "      <th>RegularTime</th>\n",
       "      <th>SpikeTime</th>\n",
       "      <th>MapName</th>\n",
       "      <th>MatchID</th>\n",
       "      <th>SeriesID</th>\n",
       "      <th>bestOF</th>\n",
       "      <th>FinalWinner</th>\n",
       "    </tr>\n",
       "  </thead>\n",
       "  <tbody>\n",
       "    <tr>\n",
       "      <th>238804</th>\n",
       "      <td>402101</td>\n",
       "      <td>1</td>\n",
       "      <td>0</td>\n",
       "      <td>300.0</td>\n",
       "      <td>300.0</td>\n",
       "      <td>5</td>\n",
       "      <td>5</td>\n",
       "      <td>0</td>\n",
       "      <td>0</td>\n",
       "      <td>0</td>\n",
       "      <td>0</td>\n",
       "      <td>Ascent</td>\n",
       "      <td>12745</td>\n",
       "      <td>502</td>\n",
       "      <td>3</td>\n",
       "      <td>0</td>\n",
       "    </tr>\n",
       "    <tr>\n",
       "      <th>238805</th>\n",
       "      <td>402101</td>\n",
       "      <td>1</td>\n",
       "      <td>23451</td>\n",
       "      <td>200.0</td>\n",
       "      <td>300.0</td>\n",
       "      <td>4</td>\n",
       "      <td>5</td>\n",
       "      <td>0</td>\n",
       "      <td>0</td>\n",
       "      <td>23</td>\n",
       "      <td>0</td>\n",
       "      <td>Ascent</td>\n",
       "      <td>12745</td>\n",
       "      <td>502</td>\n",
       "      <td>3</td>\n",
       "      <td>0</td>\n",
       "    </tr>\n",
       "    <tr>\n",
       "      <th>238806</th>\n",
       "      <td>402101</td>\n",
       "      <td>1</td>\n",
       "      <td>25771</td>\n",
       "      <td>200.0</td>\n",
       "      <td>200.0</td>\n",
       "      <td>4</td>\n",
       "      <td>4</td>\n",
       "      <td>0</td>\n",
       "      <td>0</td>\n",
       "      <td>26</td>\n",
       "      <td>0</td>\n",
       "      <td>Ascent</td>\n",
       "      <td>12745</td>\n",
       "      <td>502</td>\n",
       "      <td>3</td>\n",
       "      <td>0</td>\n",
       "    </tr>\n",
       "    <tr>\n",
       "      <th>238807</th>\n",
       "      <td>402101</td>\n",
       "      <td>1</td>\n",
       "      <td>65820</td>\n",
       "      <td>200.0</td>\n",
       "      <td>200.0</td>\n",
       "      <td>4</td>\n",
       "      <td>3</td>\n",
       "      <td>0</td>\n",
       "      <td>0</td>\n",
       "      <td>66</td>\n",
       "      <td>0</td>\n",
       "      <td>Ascent</td>\n",
       "      <td>12745</td>\n",
       "      <td>502</td>\n",
       "      <td>3</td>\n",
       "      <td>0</td>\n",
       "    </tr>\n",
       "    <tr>\n",
       "      <th>238808</th>\n",
       "      <td>402101</td>\n",
       "      <td>1</td>\n",
       "      <td>72856</td>\n",
       "      <td>200.0</td>\n",
       "      <td>200.0</td>\n",
       "      <td>3</td>\n",
       "      <td>3</td>\n",
       "      <td>0</td>\n",
       "      <td>0</td>\n",
       "      <td>73</td>\n",
       "      <td>0</td>\n",
       "      <td>Ascent</td>\n",
       "      <td>12745</td>\n",
       "      <td>502</td>\n",
       "      <td>3</td>\n",
       "      <td>0</td>\n",
       "    </tr>\n",
       "    <tr>\n",
       "      <th>...</th>\n",
       "      <td>...</td>\n",
       "      <td>...</td>\n",
       "      <td>...</td>\n",
       "      <td>...</td>\n",
       "      <td>...</td>\n",
       "      <td>...</td>\n",
       "      <td>...</td>\n",
       "      <td>...</td>\n",
       "      <td>...</td>\n",
       "      <td>...</td>\n",
       "      <td>...</td>\n",
       "      <td>...</td>\n",
       "      <td>...</td>\n",
       "      <td>...</td>\n",
       "      <td>...</td>\n",
       "      <td>...</td>\n",
       "    </tr>\n",
       "    <tr>\n",
       "      <th>239139</th>\n",
       "      <td>402139</td>\n",
       "      <td>18</td>\n",
       "      <td>69628</td>\n",
       "      <td>1740.0</td>\n",
       "      <td>1480.0</td>\n",
       "      <td>3</td>\n",
       "      <td>3</td>\n",
       "      <td>0</td>\n",
       "      <td>0</td>\n",
       "      <td>70</td>\n",
       "      <td>0</td>\n",
       "      <td>Haven</td>\n",
       "      <td>12745</td>\n",
       "      <td>502</td>\n",
       "      <td>3</td>\n",
       "      <td>1</td>\n",
       "    </tr>\n",
       "    <tr>\n",
       "      <th>239140</th>\n",
       "      <td>402139</td>\n",
       "      <td>18</td>\n",
       "      <td>73776</td>\n",
       "      <td>1740.0</td>\n",
       "      <td>900.0</td>\n",
       "      <td>3</td>\n",
       "      <td>2</td>\n",
       "      <td>0</td>\n",
       "      <td>0</td>\n",
       "      <td>74</td>\n",
       "      <td>0</td>\n",
       "      <td>Haven</td>\n",
       "      <td>12745</td>\n",
       "      <td>502</td>\n",
       "      <td>3</td>\n",
       "      <td>1</td>\n",
       "    </tr>\n",
       "    <tr>\n",
       "      <th>239141</th>\n",
       "      <td>402139</td>\n",
       "      <td>18</td>\n",
       "      <td>93117</td>\n",
       "      <td>1740.0</td>\n",
       "      <td>900.0</td>\n",
       "      <td>3</td>\n",
       "      <td>2</td>\n",
       "      <td>0</td>\n",
       "      <td>0</td>\n",
       "      <td>93</td>\n",
       "      <td>0</td>\n",
       "      <td>Haven</td>\n",
       "      <td>12745</td>\n",
       "      <td>502</td>\n",
       "      <td>3</td>\n",
       "      <td>1</td>\n",
       "    </tr>\n",
       "    <tr>\n",
       "      <th>239142</th>\n",
       "      <td>402139</td>\n",
       "      <td>18</td>\n",
       "      <td>94722</td>\n",
       "      <td>1740.0</td>\n",
       "      <td>480.0</td>\n",
       "      <td>3</td>\n",
       "      <td>1</td>\n",
       "      <td>0</td>\n",
       "      <td>0</td>\n",
       "      <td>0</td>\n",
       "      <td>2</td>\n",
       "      <td>Haven</td>\n",
       "      <td>12745</td>\n",
       "      <td>502</td>\n",
       "      <td>3</td>\n",
       "      <td>1</td>\n",
       "    </tr>\n",
       "    <tr>\n",
       "      <th>239143</th>\n",
       "      <td>402139</td>\n",
       "      <td>18</td>\n",
       "      <td>96679</td>\n",
       "      <td>1740.0</td>\n",
       "      <td>0.0</td>\n",
       "      <td>3</td>\n",
       "      <td>0</td>\n",
       "      <td>0</td>\n",
       "      <td>0</td>\n",
       "      <td>0</td>\n",
       "      <td>4</td>\n",
       "      <td>Haven</td>\n",
       "      <td>12745</td>\n",
       "      <td>502</td>\n",
       "      <td>3</td>\n",
       "      <td>1</td>\n",
       "    </tr>\n",
       "  </tbody>\n",
       "</table>\n",
       "<p>340 rows × 16 columns</p>\n",
       "</div>"
      ],
      "text/plain": [
       "        RoundID  RoundNumber  RoundTime  ATK_wealth  DEF_wealth  ATK_alive  \\\n",
       "238804   402101            1          0       300.0       300.0          5   \n",
       "238805   402101            1      23451       200.0       300.0          4   \n",
       "238806   402101            1      25771       200.0       200.0          4   \n",
       "238807   402101            1      65820       200.0       200.0          4   \n",
       "238808   402101            1      72856       200.0       200.0          3   \n",
       "...         ...          ...        ...         ...         ...        ...   \n",
       "239139   402139           18      69628      1740.0      1480.0          3   \n",
       "239140   402139           18      73776      1740.0       900.0          3   \n",
       "239141   402139           18      93117      1740.0       900.0          3   \n",
       "239142   402139           18      94722      1740.0       480.0          3   \n",
       "239143   402139           18      96679      1740.0         0.0          3   \n",
       "\n",
       "        DEF_alive  DEF_has_OP  Def_has_Odin  RegularTime  SpikeTime MapName  \\\n",
       "238804          5           0             0            0          0  Ascent   \n",
       "238805          5           0             0           23          0  Ascent   \n",
       "238806          4           0             0           26          0  Ascent   \n",
       "238807          3           0             0           66          0  Ascent   \n",
       "238808          3           0             0           73          0  Ascent   \n",
       "...           ...         ...           ...          ...        ...     ...   \n",
       "239139          3           0             0           70          0   Haven   \n",
       "239140          2           0             0           74          0   Haven   \n",
       "239141          2           0             0           93          0   Haven   \n",
       "239142          1           0             0            0          2   Haven   \n",
       "239143          0           0             0            0          4   Haven   \n",
       "\n",
       "        MatchID  SeriesID  bestOF  FinalWinner  \n",
       "238804    12745       502       3            0  \n",
       "238805    12745       502       3            0  \n",
       "238806    12745       502       3            0  \n",
       "238807    12745       502       3            0  \n",
       "238808    12745       502       3            0  \n",
       "...         ...       ...     ...          ...  \n",
       "239139    12745       502       3            1  \n",
       "239140    12745       502       3            1  \n",
       "239141    12745       502       3            1  \n",
       "239142    12745       502       3            1  \n",
       "239143    12745       502       3            1  \n",
       "\n",
       "[340 rows x 16 columns]"
      ]
     },
     "execution_count": 53,
     "metadata": {},
     "output_type": "execute_result"
    }
   ],
   "source": [
    "df.query('MatchID == 12745')"
   ]
  },
  {
   "cell_type": "code",
   "execution_count": 35,
   "id": "3689a2f3-98d6-4dcb-b399-758e28345a76",
   "metadata": {},
   "outputs": [
    {
     "data": {
      "text/html": [
       "<div>\n",
       "<style scoped>\n",
       "    .dataframe tbody tr th:only-of-type {\n",
       "        vertical-align: middle;\n",
       "    }\n",
       "\n",
       "    .dataframe tbody tr th {\n",
       "        vertical-align: top;\n",
       "    }\n",
       "\n",
       "    .dataframe thead th {\n",
       "        text-align: right;\n",
       "    }\n",
       "</style>\n",
       "<table border=\"1\" class=\"dataframe\">\n",
       "  <thead>\n",
       "    <tr style=\"text-align: right;\">\n",
       "      <th></th>\n",
       "      <th>RoundID</th>\n",
       "      <th>RoundNumber</th>\n",
       "      <th>RoundTime</th>\n",
       "      <th>ATK_wealth</th>\n",
       "      <th>DEF_wealth</th>\n",
       "      <th>ATK_alive</th>\n",
       "      <th>DEF_alive</th>\n",
       "      <th>DEF_has_OP</th>\n",
       "      <th>Def_has_Odin</th>\n",
       "      <th>RegularTime</th>\n",
       "      <th>SpikeTime</th>\n",
       "      <th>MapName</th>\n",
       "      <th>MatchID</th>\n",
       "      <th>SeriesID</th>\n",
       "      <th>bestOF</th>\n",
       "      <th>FinalWinner</th>\n",
       "    </tr>\n",
       "  </thead>\n",
       "  <tbody>\n",
       "    <tr>\n",
       "      <th>0</th>\n",
       "      <td>315892</td>\n",
       "      <td>1</td>\n",
       "      <td>0</td>\n",
       "      <td>500.0</td>\n",
       "      <td>0.0</td>\n",
       "      <td>5</td>\n",
       "      <td>5</td>\n",
       "      <td>0</td>\n",
       "      <td>0</td>\n",
       "      <td>0</td>\n",
       "      <td>0</td>\n",
       "      <td>Haven</td>\n",
       "      <td>10448</td>\n",
       "      <td>411</td>\n",
       "      <td>1</td>\n",
       "      <td>0</td>\n",
       "    </tr>\n",
       "    <tr>\n",
       "      <th>1</th>\n",
       "      <td>315892</td>\n",
       "      <td>1</td>\n",
       "      <td>21250</td>\n",
       "      <td>500.0</td>\n",
       "      <td>0.0</td>\n",
       "      <td>5</td>\n",
       "      <td>4</td>\n",
       "      <td>0</td>\n",
       "      <td>0</td>\n",
       "      <td>21</td>\n",
       "      <td>0</td>\n",
       "      <td>Haven</td>\n",
       "      <td>10448</td>\n",
       "      <td>411</td>\n",
       "      <td>1</td>\n",
       "      <td>0</td>\n",
       "    </tr>\n",
       "    <tr>\n",
       "      <th>2</th>\n",
       "      <td>315892</td>\n",
       "      <td>1</td>\n",
       "      <td>21911</td>\n",
       "      <td>400.0</td>\n",
       "      <td>0.0</td>\n",
       "      <td>4</td>\n",
       "      <td>4</td>\n",
       "      <td>0</td>\n",
       "      <td>0</td>\n",
       "      <td>22</td>\n",
       "      <td>0</td>\n",
       "      <td>Haven</td>\n",
       "      <td>10448</td>\n",
       "      <td>411</td>\n",
       "      <td>1</td>\n",
       "      <td>0</td>\n",
       "    </tr>\n",
       "    <tr>\n",
       "      <th>3</th>\n",
       "      <td>315892</td>\n",
       "      <td>1</td>\n",
       "      <td>23629</td>\n",
       "      <td>300.0</td>\n",
       "      <td>0.0</td>\n",
       "      <td>3</td>\n",
       "      <td>4</td>\n",
       "      <td>0</td>\n",
       "      <td>0</td>\n",
       "      <td>24</td>\n",
       "      <td>0</td>\n",
       "      <td>Haven</td>\n",
       "      <td>10448</td>\n",
       "      <td>411</td>\n",
       "      <td>1</td>\n",
       "      <td>0</td>\n",
       "    </tr>\n",
       "    <tr>\n",
       "      <th>4</th>\n",
       "      <td>315892</td>\n",
       "      <td>1</td>\n",
       "      <td>25601</td>\n",
       "      <td>200.0</td>\n",
       "      <td>0.0</td>\n",
       "      <td>2</td>\n",
       "      <td>4</td>\n",
       "      <td>0</td>\n",
       "      <td>0</td>\n",
       "      <td>26</td>\n",
       "      <td>0</td>\n",
       "      <td>Haven</td>\n",
       "      <td>10448</td>\n",
       "      <td>411</td>\n",
       "      <td>1</td>\n",
       "      <td>0</td>\n",
       "    </tr>\n",
       "  </tbody>\n",
       "</table>\n",
       "</div>"
      ],
      "text/plain": [
       "   RoundID  RoundNumber  RoundTime  ATK_wealth  DEF_wealth  ATK_alive  \\\n",
       "0   315892            1          0       500.0         0.0          5   \n",
       "1   315892            1      21250       500.0         0.0          5   \n",
       "2   315892            1      21911       400.0         0.0          4   \n",
       "3   315892            1      23629       300.0         0.0          3   \n",
       "4   315892            1      25601       200.0         0.0          2   \n",
       "\n",
       "   DEF_alive  DEF_has_OP  Def_has_Odin  RegularTime  SpikeTime MapName  \\\n",
       "0          5           0             0            0          0   Haven   \n",
       "1          4           0             0           21          0   Haven   \n",
       "2          4           0             0           22          0   Haven   \n",
       "3          4           0             0           24          0   Haven   \n",
       "4          4           0             0           26          0   Haven   \n",
       "\n",
       "   MatchID  SeriesID  bestOF  FinalWinner  \n",
       "0    10448       411       1            0  \n",
       "1    10448       411       1            0  \n",
       "2    10448       411       1            0  \n",
       "3    10448       411       1            0  \n",
       "4    10448       411       1            0  "
      ]
     },
     "execution_count": 35,
     "metadata": {},
     "output_type": "execute_result"
    }
   ],
   "source": [
    "df.head()"
   ]
  },
  {
   "cell_type": "code",
   "execution_count": 34,
   "id": "678233df-9045-410f-a28a-1d4f5a3cab6d",
   "metadata": {},
   "outputs": [
    {
     "data": {
      "text/plain": [
       "0         411\n",
       "1         411\n",
       "2         411\n",
       "3         411\n",
       "4         411\n",
       "         ... \n",
       "258470    532\n",
       "258471    532\n",
       "258472    532\n",
       "258473    532\n",
       "258474    532\n",
       "Name: SeriesID, Length: 258475, dtype: int64"
      ]
     },
     "execution_count": 34,
     "metadata": {},
     "output_type": "execute_result"
    }
   ],
   "source": [
    "df.SeriesID"
   ]
  },
  {
   "cell_type": "code",
   "execution_count": null,
   "id": "7dbf54ac-1dcc-4396-be8a-d34ea66bafa2",
   "metadata": {},
   "outputs": [],
   "source": []
  }
 ],
 "metadata": {
  "kernelspec": {
   "display_name": "Python 3",
   "language": "python",
   "name": "python3"
  },
  "language_info": {
   "codemirror_mode": {
    "name": "ipython",
    "version": 3
   },
   "file_extension": ".py",
   "mimetype": "text/x-python",
   "name": "python",
   "nbconvert_exporter": "python",
   "pygments_lexer": "ipython3",
   "version": "3.8.8"
  }
 },
 "nbformat": 4,
 "nbformat_minor": 5
}
