{
 "cells": [
  {
   "cell_type": "markdown",
   "id": "63980c60-20f6-4bbb-9db1-1c204f838633",
   "metadata": {},
   "source": [
    "# <font color='blue'>Imports </font>"
   ]
  },
  {
   "cell_type": "code",
   "execution_count": 1,
   "id": "ebaca379-3d02-4ed2-9280-44fc8cd0b0b6",
   "metadata": {},
   "outputs": [
    {
     "name": "stdout",
     "output_type": "stream",
     "text": [
      "Wall time: 1.78 s\n"
     ]
    }
   ],
   "source": [
    "%%time\n",
    "import pandas as pd\n",
    "import numpy as np\n",
    "import seaborn as sns\n",
    "import lightgbm\n",
    "import optuna\n",
    "import optuna.integration.lightgbm as lgb\n",
    "import matplotlib.lines as line\n",
    "import matplotlib.ticker as ticker\n",
    "from matplotlib import pyplot as plt\n",
    "from matplotlib.pyplot import figure\n",
    "from matplotlib import rc\n",
    "import sklearn.datasets as skd\n",
    "from sklearn.model_selection import KFold\n",
    "from sklearn.ensemble import RandomForestClassifier\n",
    "from sklearn.calibration import calibration_curve\n",
    "from sklearn.model_selection import train_test_split, cross_val_score\n",
    "from sklearn.tree import DecisionTreeClassifier\n",
    "from sklearn.linear_model import LogisticRegression\n",
    "from sklearn.neighbors import KNeighborsClassifier\n",
    "from sklearn.metrics import r2_score, explained_variance_score, confusion_matrix, accuracy_score, classification_report, log_loss, brier_score_loss"
   ]
  },
  {
   "cell_type": "code",
   "execution_count": 2,
   "id": "4954ed36-a5e7-4b6a-9cbc-6009bcd22b4e",
   "metadata": {},
   "outputs": [
    {
     "name": "stdout",
     "output_type": "stream",
     "text": [
      "Wall time: 447 ms\n"
     ]
    }
   ],
   "source": [
    "%%time\n",
    "path = 'D:\\\\Documents\\\\GitHub\\\\Classification_datascience\\\\webscrapping\\\\matches\\\\rounds\\\\'\n",
    "dataset = pd.read_csv('{}combined_csv.csv'.format(path))"
   ]
  },
  {
   "cell_type": "code",
   "execution_count": 3,
   "id": "ec46ee7f-ef6d-42db-b030-63178b0818b7",
   "metadata": {},
   "outputs": [
    {
     "data": {
      "text/plain": [
       "Index(['RoundID', 'RoundNumber', 'RoundTime', 'ATK_wealth', 'DEF_wealth',\n",
       "       'ATK_alive', 'DEF_alive', 'DEF_has_OP', 'Def_has_Odin', 'RegularTime',\n",
       "       'SpikeTime', 'ATK_bank', 'DEF_bank', 'ATK_initiators', 'ATK_duelists',\n",
       "       'ATK_sentinels', 'ATK_controllers', 'DEF_initiators', 'DEF_duelists',\n",
       "       'DEF_sentinels', 'DEF_controllers', 'ATK_Shields', 'DEF_Shields',\n",
       "       'MapName', 'MatchID', 'SeriesID', 'bestOF', 'FinalWinner'],\n",
       "      dtype='object')"
      ]
     },
     "execution_count": 3,
     "metadata": {},
     "output_type": "execute_result"
    }
   ],
   "source": [
    "dataset.columns"
   ]
  },
  {
   "cell_type": "markdown",
   "id": "435b208e-bfd1-49be-8781-6ba74da9123f",
   "metadata": {},
   "source": [
    "# <font color='blue'> Predict variable </font>"
   ]
  },
  {
   "cell_type": "code",
   "execution_count": 6,
   "id": "d7819c07-0d8d-45da-b2e7-21e1fbdf1366",
   "metadata": {},
   "outputs": [],
   "source": [
    "selected_features = ['ATK_wealth', 'DEF_wealth',\n",
    "                   'ATK_initiators', 'ATK_duelists', 'ATK_sentinels', 'ATK_controllers',\n",
    "                   'DEF_initiators', 'DEF_duelists', 'DEF_sentinels', 'DEF_controllers',\n",
    "                     'ATK_Shields', 'DEF_Shields',\n",
    "                   'DEF_has_OP', 'Def_has_Odin',\n",
    "                    'RegularTime', 'SpikeTime',\n",
    "                   'MapName',\n",
    "                   'FinalWinner']\n",
    "\n",
    "predict_variable = 'FinalWinner'"
   ]
  },
  {
   "cell_type": "markdown",
   "id": "cfba0313-f37e-45ad-abaf-e6d16ee4ad47",
   "metadata": {},
   "source": [
    "### <font color='black'> Trimming dataframe </font>"
   ]
  },
  {
   "cell_type": "code",
   "execution_count": 7,
   "id": "fb58b9b9-7ca6-4f09-a94f-6fd4964b7894",
   "metadata": {},
   "outputs": [],
   "source": [
    "dataset = dataset[selected_features]\n",
    "\n",
    "if 'MapName' in dataset.columns:\n",
    "    dataset = pd.get_dummies(dataset, columns=['MapName'])\n",
    "    \n",
    "X = dataset.drop([predict_variable], axis='columns')\n",
    "Y = dataset[predict_variable]\n",
    "\n",
    "X_train, X_test, Y_train, Y_test = train_test_split(X, Y, train_size=0.8, test_size=0.2, random_state=15)\n",
    "X_train, X_valid, Y_train, Y_valid = train_test_split(X_train, Y_train, train_size=0.9, test_size=0.1, random_state=15)"
   ]
  },
  {
   "cell_type": "code",
   "execution_count": 8,
   "id": "d5da178e-6738-434e-9038-7fa8392b3f6a",
   "metadata": {},
   "outputs": [
    {
     "data": {
      "text/html": [
       "<div>\n",
       "<style scoped>\n",
       "    .dataframe tbody tr th:only-of-type {\n",
       "        vertical-align: middle;\n",
       "    }\n",
       "\n",
       "    .dataframe tbody tr th {\n",
       "        vertical-align: top;\n",
       "    }\n",
       "\n",
       "    .dataframe thead th {\n",
       "        text-align: right;\n",
       "    }\n",
       "</style>\n",
       "<table border=\"1\" class=\"dataframe\">\n",
       "  <thead>\n",
       "    <tr style=\"text-align: right;\">\n",
       "      <th></th>\n",
       "      <th>ATK_wealth</th>\n",
       "      <th>DEF_wealth</th>\n",
       "      <th>ATK_initiators</th>\n",
       "      <th>ATK_duelists</th>\n",
       "      <th>ATK_sentinels</th>\n",
       "      <th>ATK_controllers</th>\n",
       "      <th>DEF_initiators</th>\n",
       "      <th>DEF_duelists</th>\n",
       "      <th>DEF_sentinels</th>\n",
       "      <th>DEF_controllers</th>\n",
       "      <th>...</th>\n",
       "      <th>Def_has_Odin</th>\n",
       "      <th>RegularTime</th>\n",
       "      <th>SpikeTime</th>\n",
       "      <th>FinalWinner</th>\n",
       "      <th>MapName_Ascent</th>\n",
       "      <th>MapName_Bind</th>\n",
       "      <th>MapName_Breeze</th>\n",
       "      <th>MapName_Haven</th>\n",
       "      <th>MapName_Icebox</th>\n",
       "      <th>MapName_Split</th>\n",
       "    </tr>\n",
       "  </thead>\n",
       "  <tbody>\n",
       "    <tr>\n",
       "      <th>0</th>\n",
       "      <td>2500</td>\n",
       "      <td>0</td>\n",
       "      <td>1</td>\n",
       "      <td>2</td>\n",
       "      <td>1</td>\n",
       "      <td>1</td>\n",
       "      <td>1</td>\n",
       "      <td>1</td>\n",
       "      <td>2</td>\n",
       "      <td>1</td>\n",
       "      <td>...</td>\n",
       "      <td>0</td>\n",
       "      <td>0</td>\n",
       "      <td>0</td>\n",
       "      <td>0</td>\n",
       "      <td>0</td>\n",
       "      <td>0</td>\n",
       "      <td>0</td>\n",
       "      <td>1</td>\n",
       "      <td>0</td>\n",
       "      <td>0</td>\n",
       "    </tr>\n",
       "    <tr>\n",
       "      <th>1</th>\n",
       "      <td>2500</td>\n",
       "      <td>0</td>\n",
       "      <td>1</td>\n",
       "      <td>2</td>\n",
       "      <td>1</td>\n",
       "      <td>1</td>\n",
       "      <td>1</td>\n",
       "      <td>0</td>\n",
       "      <td>2</td>\n",
       "      <td>1</td>\n",
       "      <td>...</td>\n",
       "      <td>0</td>\n",
       "      <td>21</td>\n",
       "      <td>0</td>\n",
       "      <td>0</td>\n",
       "      <td>0</td>\n",
       "      <td>0</td>\n",
       "      <td>0</td>\n",
       "      <td>1</td>\n",
       "      <td>0</td>\n",
       "      <td>0</td>\n",
       "    </tr>\n",
       "    <tr>\n",
       "      <th>2</th>\n",
       "      <td>2000</td>\n",
       "      <td>0</td>\n",
       "      <td>1</td>\n",
       "      <td>1</td>\n",
       "      <td>1</td>\n",
       "      <td>1</td>\n",
       "      <td>1</td>\n",
       "      <td>0</td>\n",
       "      <td>2</td>\n",
       "      <td>1</td>\n",
       "      <td>...</td>\n",
       "      <td>0</td>\n",
       "      <td>22</td>\n",
       "      <td>0</td>\n",
       "      <td>0</td>\n",
       "      <td>0</td>\n",
       "      <td>0</td>\n",
       "      <td>0</td>\n",
       "      <td>1</td>\n",
       "      <td>0</td>\n",
       "      <td>0</td>\n",
       "    </tr>\n",
       "    <tr>\n",
       "      <th>3</th>\n",
       "      <td>1500</td>\n",
       "      <td>0</td>\n",
       "      <td>1</td>\n",
       "      <td>0</td>\n",
       "      <td>1</td>\n",
       "      <td>1</td>\n",
       "      <td>1</td>\n",
       "      <td>0</td>\n",
       "      <td>2</td>\n",
       "      <td>1</td>\n",
       "      <td>...</td>\n",
       "      <td>0</td>\n",
       "      <td>24</td>\n",
       "      <td>0</td>\n",
       "      <td>0</td>\n",
       "      <td>0</td>\n",
       "      <td>0</td>\n",
       "      <td>0</td>\n",
       "      <td>1</td>\n",
       "      <td>0</td>\n",
       "      <td>0</td>\n",
       "    </tr>\n",
       "    <tr>\n",
       "      <th>4</th>\n",
       "      <td>1000</td>\n",
       "      <td>0</td>\n",
       "      <td>0</td>\n",
       "      <td>0</td>\n",
       "      <td>1</td>\n",
       "      <td>1</td>\n",
       "      <td>1</td>\n",
       "      <td>0</td>\n",
       "      <td>2</td>\n",
       "      <td>1</td>\n",
       "      <td>...</td>\n",
       "      <td>0</td>\n",
       "      <td>26</td>\n",
       "      <td>0</td>\n",
       "      <td>0</td>\n",
       "      <td>0</td>\n",
       "      <td>0</td>\n",
       "      <td>0</td>\n",
       "      <td>1</td>\n",
       "      <td>0</td>\n",
       "      <td>0</td>\n",
       "    </tr>\n",
       "  </tbody>\n",
       "</table>\n",
       "<p>5 rows × 23 columns</p>\n",
       "</div>"
      ],
      "text/plain": [
       "   ATK_wealth  DEF_wealth  ATK_initiators  ATK_duelists  ATK_sentinels  \\\n",
       "0        2500           0               1             2              1   \n",
       "1        2500           0               1             2              1   \n",
       "2        2000           0               1             1              1   \n",
       "3        1500           0               1             0              1   \n",
       "4        1000           0               0             0              1   \n",
       "\n",
       "   ATK_controllers  DEF_initiators  DEF_duelists  DEF_sentinels  \\\n",
       "0                1               1             1              2   \n",
       "1                1               1             0              2   \n",
       "2                1               1             0              2   \n",
       "3                1               1             0              2   \n",
       "4                1               1             0              2   \n",
       "\n",
       "   DEF_controllers  ...  Def_has_Odin  RegularTime  SpikeTime  FinalWinner  \\\n",
       "0                1  ...             0            0          0            0   \n",
       "1                1  ...             0           21          0            0   \n",
       "2                1  ...             0           22          0            0   \n",
       "3                1  ...             0           24          0            0   \n",
       "4                1  ...             0           26          0            0   \n",
       "\n",
       "   MapName_Ascent  MapName_Bind  MapName_Breeze  MapName_Haven  \\\n",
       "0               0             0               0              1   \n",
       "1               0             0               0              1   \n",
       "2               0             0               0              1   \n",
       "3               0             0               0              1   \n",
       "4               0             0               0              1   \n",
       "\n",
       "   MapName_Icebox  MapName_Split  \n",
       "0               0              0  \n",
       "1               0              0  \n",
       "2               0              0  \n",
       "3               0              0  \n",
       "4               0              0  \n",
       "\n",
       "[5 rows x 23 columns]"
      ]
     },
     "execution_count": 8,
     "metadata": {},
     "output_type": "execute_result"
    }
   ],
   "source": [
    "dataset.head()"
   ]
  },
  {
   "cell_type": "markdown",
   "id": "3a4b3eac-d591-45dd-b1bd-e32cf9cf0640",
   "metadata": {},
   "source": [
    "# <font color='blue'>Parameter tuning </font>"
   ]
  },
  {
   "cell_type": "code",
   "execution_count": 9,
   "id": "b881d960-25e1-4bbd-a8bf-dab3efc7a9ad",
   "metadata": {},
   "outputs": [],
   "source": [
    "def objective(trial):\n",
    "    bagging_freq =  trial.suggest_int('bagging_freq',1,10),\n",
    "    min_data_in_leaf =  trial.suggest_int('min_data_in_leaf',2,100),\n",
    "    max_depth = trial.suggest_int('max_depth',1,20),\n",
    "    learning_rate = trial.suggest_loguniform('learning_rate',0.001,0.1),\n",
    "    num_leaves = trial.suggest_int('num_leaves',2,70),\n",
    "    num_threads = trial.suggest_int('num_threads',1,10),\n",
    "    min_sum_hessian_in_leaf = trial.suggest_int('min_sum_hessian_in_leaf',1,10),\n",
    "    \n",
    "    model = lightgbm.LGBMClassifier(bagging_freq=bagging_freq,\n",
    "                                    min_data_in_leaf=min_data_in_leaf,\n",
    "                                   max_depth=max_depth,\n",
    "                                   learning_rate=learning_rate,\n",
    "                                   num_leaves=num_leaves,\n",
    "                                   num_threads=num_threads,\n",
    "                                   min_sum_hessian_in_leaf=min_sum_hessian_in_leaf)\n",
    "    model.fit(X_train,Y_train)\n",
    "    pred_proba_test = model.predict_proba(X_test)\n",
    "    score = brier_score_loss(Y_test, pd.DataFrame(pred_proba_test)[1])\n",
    "    return score"
   ]
  },
  {
   "cell_type": "code",
   "execution_count": 10,
   "id": "0f1c22f9-6229-453c-992f-0af06f24b1bc",
   "metadata": {
    "scrolled": true,
    "tags": []
   },
   "outputs": [
    {
     "name": "stderr",
     "output_type": "stream",
     "text": [
      "\u001b[32m[I 2021-06-21 17:51:04,552]\u001b[0m A new study created in memory with name: no-name-38900618-c308-4ebd-a14a-3790eae500e5\u001b[0m\n"
     ]
    },
    {
     "name": "stdout",
     "output_type": "stream",
     "text": [
      "[LightGBM] [Warning] min_data_in_leaf is set=58, min_child_samples=20 will be ignored. Current value: min_data_in_leaf=58\n",
      "[LightGBM] [Warning] min_sum_hessian_in_leaf is set=7, min_child_weight=0.001 will be ignored. Current value: min_sum_hessian_in_leaf=7\n",
      "[LightGBM] [Warning] num_threads is set=3, n_jobs=-1 will be ignored. Current value: num_threads=3\n",
      "[LightGBM] [Warning] bagging_freq is set=10, subsample_freq=0 will be ignored. Current value: bagging_freq=10\n"
     ]
    },
    {
     "name": "stderr",
     "output_type": "stream",
     "text": [
      "\u001b[32m[I 2021-06-21 17:51:05,669]\u001b[0m Trial 0 finished with value: 0.22479639296969978 and parameters: {'bagging_freq': 10, 'min_data_in_leaf': 58, 'max_depth': 10, 'learning_rate': 0.0013199693154153107, 'num_leaves': 52, 'num_threads': 3, 'min_sum_hessian_in_leaf': 7}. Best is trial 0 with value: 0.22479639296969978.\u001b[0m\n"
     ]
    },
    {
     "name": "stdout",
     "output_type": "stream",
     "text": [
      "[LightGBM] [Warning] min_data_in_leaf is set=53, min_child_samples=20 will be ignored. Current value: min_data_in_leaf=53\n",
      "[LightGBM] [Warning] min_sum_hessian_in_leaf is set=8, min_child_weight=0.001 will be ignored. Current value: min_sum_hessian_in_leaf=8\n",
      "[LightGBM] [Warning] num_threads is set=1, n_jobs=-1 will be ignored. Current value: num_threads=1\n",
      "[LightGBM] [Warning] bagging_freq is set=9, subsample_freq=0 will be ignored. Current value: bagging_freq=9\n"
     ]
    },
    {
     "name": "stderr",
     "output_type": "stream",
     "text": [
      "\u001b[32m[I 2021-06-21 17:51:08,323]\u001b[0m Trial 1 finished with value: 0.13960882845068712 and parameters: {'bagging_freq': 9, 'min_data_in_leaf': 53, 'max_depth': 12, 'learning_rate': 0.018096471255362876, 'num_leaves': 46, 'num_threads': 1, 'min_sum_hessian_in_leaf': 8}. Best is trial 1 with value: 0.13960882845068712.\u001b[0m\n"
     ]
    },
    {
     "name": "stdout",
     "output_type": "stream",
     "text": [
      "[LightGBM] [Warning] min_data_in_leaf is set=59, min_child_samples=20 will be ignored. Current value: min_data_in_leaf=59\n",
      "[LightGBM] [Warning] min_sum_hessian_in_leaf is set=9, min_child_weight=0.001 will be ignored. Current value: min_sum_hessian_in_leaf=9\n",
      "[LightGBM] [Warning] num_threads is set=9, n_jobs=-1 will be ignored. Current value: num_threads=9\n",
      "[LightGBM] [Warning] bagging_freq is set=7, subsample_freq=0 will be ignored. Current value: bagging_freq=7\n"
     ]
    },
    {
     "name": "stderr",
     "output_type": "stream",
     "text": [
      "\u001b[32m[I 2021-06-21 17:51:08,953]\u001b[0m Trial 2 finished with value: 0.1817305310386413 and parameters: {'bagging_freq': 7, 'min_data_in_leaf': 59, 'max_depth': 9, 'learning_rate': 0.0062479952860826785, 'num_leaves': 9, 'num_threads': 9, 'min_sum_hessian_in_leaf': 9}. Best is trial 1 with value: 0.13960882845068712.\u001b[0m\n"
     ]
    },
    {
     "name": "stdout",
     "output_type": "stream",
     "text": [
      "[LightGBM] [Warning] min_data_in_leaf is set=39, min_child_samples=20 will be ignored. Current value: min_data_in_leaf=39\n",
      "[LightGBM] [Warning] min_sum_hessian_in_leaf is set=1, min_child_weight=0.001 will be ignored. Current value: min_sum_hessian_in_leaf=1\n",
      "[LightGBM] [Warning] num_threads is set=10, n_jobs=-1 will be ignored. Current value: num_threads=10\n",
      "[LightGBM] [Warning] bagging_freq is set=9, subsample_freq=0 will be ignored. Current value: bagging_freq=9\n"
     ]
    },
    {
     "name": "stderr",
     "output_type": "stream",
     "text": [
      "\u001b[32m[I 2021-06-21 17:51:09,623]\u001b[0m Trial 3 finished with value: 0.20142777764875394 and parameters: {'bagging_freq': 9, 'min_data_in_leaf': 39, 'max_depth': 10, 'learning_rate': 0.0033688948469026863, 'num_leaves': 14, 'num_threads': 10, 'min_sum_hessian_in_leaf': 1}. Best is trial 1 with value: 0.13960882845068712.\u001b[0m\n"
     ]
    },
    {
     "name": "stdout",
     "output_type": "stream",
     "text": [
      "[LightGBM] [Warning] min_data_in_leaf is set=92, min_child_samples=20 will be ignored. Current value: min_data_in_leaf=92\n",
      "[LightGBM] [Warning] min_sum_hessian_in_leaf is set=6, min_child_weight=0.001 will be ignored. Current value: min_sum_hessian_in_leaf=6\n",
      "[LightGBM] [Warning] num_threads is set=8, n_jobs=-1 will be ignored. Current value: num_threads=8\n",
      "[LightGBM] [Warning] bagging_freq is set=10, subsample_freq=0 will be ignored. Current value: bagging_freq=10\n"
     ]
    },
    {
     "name": "stderr",
     "output_type": "stream",
     "text": [
      "\u001b[32m[I 2021-06-21 17:51:10,742]\u001b[0m Trial 4 finished with value: 0.13134380440429388 and parameters: {'bagging_freq': 10, 'min_data_in_leaf': 92, 'max_depth': 13, 'learning_rate': 0.0377709005727766, 'num_leaves': 62, 'num_threads': 8, 'min_sum_hessian_in_leaf': 6}. Best is trial 4 with value: 0.13134380440429388.\u001b[0m\n"
     ]
    },
    {
     "name": "stdout",
     "output_type": "stream",
     "text": [
      "[LightGBM] [Warning] min_data_in_leaf is set=72, min_child_samples=20 will be ignored. Current value: min_data_in_leaf=72\n",
      "[LightGBM] [Warning] min_sum_hessian_in_leaf is set=2, min_child_weight=0.001 will be ignored. Current value: min_sum_hessian_in_leaf=2\n",
      "[LightGBM] [Warning] num_threads is set=2, n_jobs=-1 will be ignored. Current value: num_threads=2\n",
      "[LightGBM] [Warning] bagging_freq is set=9, subsample_freq=0 will be ignored. Current value: bagging_freq=9\n"
     ]
    },
    {
     "name": "stderr",
     "output_type": "stream",
     "text": [
      "\u001b[32m[I 2021-06-21 17:51:11,850]\u001b[0m Trial 5 finished with value: 0.2159450924539825 and parameters: {'bagging_freq': 9, 'min_data_in_leaf': 72, 'max_depth': 19, 'learning_rate': 0.0022129058501855333, 'num_leaves': 11, 'num_threads': 2, 'min_sum_hessian_in_leaf': 2}. Best is trial 4 with value: 0.13134380440429388.\u001b[0m\n"
     ]
    },
    {
     "name": "stdout",
     "output_type": "stream",
     "text": [
      "[LightGBM] [Warning] min_data_in_leaf is set=22, min_child_samples=20 will be ignored. Current value: min_data_in_leaf=22\n",
      "[LightGBM] [Warning] min_sum_hessian_in_leaf is set=4, min_child_weight=0.001 will be ignored. Current value: min_sum_hessian_in_leaf=4\n",
      "[LightGBM] [Warning] num_threads is set=2, n_jobs=-1 will be ignored. Current value: num_threads=2\n",
      "[LightGBM] [Warning] bagging_freq is set=8, subsample_freq=0 will be ignored. Current value: bagging_freq=8\n"
     ]
    },
    {
     "name": "stderr",
     "output_type": "stream",
     "text": [
      "\u001b[32m[I 2021-06-21 17:51:13,428]\u001b[0m Trial 6 finished with value: 0.15020982681500245 and parameters: {'bagging_freq': 8, 'min_data_in_leaf': 22, 'max_depth': 11, 'learning_rate': 0.010875957195311045, 'num_leaves': 65, 'num_threads': 2, 'min_sum_hessian_in_leaf': 4}. Best is trial 4 with value: 0.13134380440429388.\u001b[0m\n"
     ]
    },
    {
     "name": "stdout",
     "output_type": "stream",
     "text": [
      "[LightGBM] [Warning] min_data_in_leaf is set=33, min_child_samples=20 will be ignored. Current value: min_data_in_leaf=33\n",
      "[LightGBM] [Warning] min_sum_hessian_in_leaf is set=8, min_child_weight=0.001 will be ignored. Current value: min_sum_hessian_in_leaf=8\n",
      "[LightGBM] [Warning] num_threads is set=6, n_jobs=-1 will be ignored. Current value: num_threads=6\n",
      "[LightGBM] [Warning] bagging_freq is set=7, subsample_freq=0 will be ignored. Current value: bagging_freq=7\n"
     ]
    },
    {
     "name": "stderr",
     "output_type": "stream",
     "text": [
      "\u001b[32m[I 2021-06-21 17:51:14,000]\u001b[0m Trial 7 finished with value: 0.19764594704478008 and parameters: {'bagging_freq': 7, 'min_data_in_leaf': 33, 'max_depth': 17, 'learning_rate': 0.0041003105970031, 'num_leaves': 9, 'num_threads': 6, 'min_sum_hessian_in_leaf': 8}. Best is trial 4 with value: 0.13134380440429388.\u001b[0m\n"
     ]
    },
    {
     "name": "stdout",
     "output_type": "stream",
     "text": [
      "[LightGBM] [Warning] min_data_in_leaf is set=14, min_child_samples=20 will be ignored. Current value: min_data_in_leaf=14\n",
      "[LightGBM] [Warning] min_sum_hessian_in_leaf is set=5, min_child_weight=0.001 will be ignored. Current value: min_sum_hessian_in_leaf=5\n",
      "[LightGBM] [Warning] num_threads is set=5, n_jobs=-1 will be ignored. Current value: num_threads=5\n",
      "[LightGBM] [Warning] bagging_freq is set=8, subsample_freq=0 will be ignored. Current value: bagging_freq=8\n"
     ]
    },
    {
     "name": "stderr",
     "output_type": "stream",
     "text": [
      "\u001b[32m[I 2021-06-21 17:51:14,605]\u001b[0m Trial 8 finished with value: 0.1323086532640794 and parameters: {'bagging_freq': 8, 'min_data_in_leaf': 14, 'max_depth': 16, 'learning_rate': 0.0768559376519073, 'num_leaves': 11, 'num_threads': 5, 'min_sum_hessian_in_leaf': 5}. Best is trial 4 with value: 0.13134380440429388.\u001b[0m\n"
     ]
    },
    {
     "name": "stdout",
     "output_type": "stream",
     "text": [
      "[LightGBM] [Warning] min_data_in_leaf is set=56, min_child_samples=20 will be ignored. Current value: min_data_in_leaf=56\n",
      "[LightGBM] [Warning] min_sum_hessian_in_leaf is set=4, min_child_weight=0.001 will be ignored. Current value: min_sum_hessian_in_leaf=4\n",
      "[LightGBM] [Warning] num_threads is set=5, n_jobs=-1 will be ignored. Current value: num_threads=5\n",
      "[LightGBM] [Warning] bagging_freq is set=9, subsample_freq=0 will be ignored. Current value: bagging_freq=9\n"
     ]
    },
    {
     "name": "stderr",
     "output_type": "stream",
     "text": [
      "\u001b[32m[I 2021-06-21 17:51:15,489]\u001b[0m Trial 9 finished with value: 0.19719053640226805 and parameters: {'bagging_freq': 9, 'min_data_in_leaf': 56, 'max_depth': 12, 'learning_rate': 0.0032557780483616905, 'num_leaves': 63, 'num_threads': 5, 'min_sum_hessian_in_leaf': 4}. Best is trial 4 with value: 0.13134380440429388.\u001b[0m\n"
     ]
    },
    {
     "name": "stdout",
     "output_type": "stream",
     "text": [
      "[LightGBM] [Warning] min_data_in_leaf is set=97, min_child_samples=20 will be ignored. Current value: min_data_in_leaf=97\n",
      "[LightGBM] [Warning] min_sum_hessian_in_leaf is set=10, min_child_weight=0.001 will be ignored. Current value: min_sum_hessian_in_leaf=10\n",
      "[LightGBM] [Warning] num_threads is set=8, n_jobs=-1 will be ignored. Current value: num_threads=8\n",
      "[LightGBM] [Warning] bagging_freq is set=2, subsample_freq=0 will be ignored. Current value: bagging_freq=2\n"
     ]
    },
    {
     "name": "stderr",
     "output_type": "stream",
     "text": [
      "\u001b[32m[I 2021-06-21 17:51:16,014]\u001b[0m Trial 10 finished with value: 0.1429213866182713 and parameters: {'bagging_freq': 2, 'min_data_in_leaf': 97, 'max_depth': 2, 'learning_rate': 0.0435147397680808, 'num_leaves': 28, 'num_threads': 8, 'min_sum_hessian_in_leaf': 10}. Best is trial 4 with value: 0.13134380440429388.\u001b[0m\n"
     ]
    },
    {
     "name": "stdout",
     "output_type": "stream",
     "text": [
      "[LightGBM] [Warning] min_data_in_leaf is set=4, min_child_samples=20 will be ignored. Current value: min_data_in_leaf=4\n",
      "[LightGBM] [Warning] min_sum_hessian_in_leaf is set=5, min_child_weight=0.001 will be ignored. Current value: min_sum_hessian_in_leaf=5\n",
      "[LightGBM] [Warning] num_threads is set=7, n_jobs=-1 will be ignored. Current value: num_threads=7\n",
      "[LightGBM] [Warning] bagging_freq is set=4, subsample_freq=0 will be ignored. Current value: bagging_freq=4\n"
     ]
    },
    {
     "name": "stderr",
     "output_type": "stream",
     "text": [
      "\u001b[32m[I 2021-06-21 17:51:16,928]\u001b[0m Trial 11 finished with value: 0.12945485173848084 and parameters: {'bagging_freq': 4, 'min_data_in_leaf': 4, 'max_depth': 16, 'learning_rate': 0.0968675924561787, 'num_leaves': 27, 'num_threads': 7, 'min_sum_hessian_in_leaf': 5}. Best is trial 11 with value: 0.12945485173848084.\u001b[0m\n"
     ]
    },
    {
     "name": "stdout",
     "output_type": "stream",
     "text": [
      "[LightGBM] [Warning] min_data_in_leaf is set=91, min_child_samples=20 will be ignored. Current value: min_data_in_leaf=91\n",
      "[LightGBM] [Warning] min_sum_hessian_in_leaf is set=6, min_child_weight=0.001 will be ignored. Current value: min_sum_hessian_in_leaf=6\n",
      "[LightGBM] [Warning] num_threads is set=7, n_jobs=-1 will be ignored. Current value: num_threads=7\n",
      "[LightGBM] [Warning] bagging_freq is set=3, subsample_freq=0 will be ignored. Current value: bagging_freq=3\n"
     ]
    },
    {
     "name": "stderr",
     "output_type": "stream",
     "text": [
      "\u001b[32m[I 2021-06-21 17:51:17,881]\u001b[0m Trial 12 finished with value: 0.13328835800840724 and parameters: {'bagging_freq': 3, 'min_data_in_leaf': 91, 'max_depth': 15, 'learning_rate': 0.038217488268910325, 'num_leaves': 29, 'num_threads': 7, 'min_sum_hessian_in_leaf': 6}. Best is trial 11 with value: 0.12945485173848084.\u001b[0m\n"
     ]
    },
    {
     "name": "stdout",
     "output_type": "stream",
     "text": [
      "[LightGBM] [Warning] min_data_in_leaf is set=3, min_child_samples=20 will be ignored. Current value: min_data_in_leaf=3\n",
      "[LightGBM] [Warning] min_sum_hessian_in_leaf is set=3, min_child_weight=0.001 will be ignored. Current value: min_sum_hessian_in_leaf=3\n",
      "[LightGBM] [Warning] num_threads is set=8, n_jobs=-1 will be ignored. Current value: num_threads=8\n",
      "[LightGBM] [Warning] bagging_freq is set=4, subsample_freq=0 will be ignored. Current value: bagging_freq=4\n"
     ]
    },
    {
     "name": "stderr",
     "output_type": "stream",
     "text": [
      "\u001b[32m[I 2021-06-21 17:51:18,829]\u001b[0m Trial 13 finished with value: 0.128562683902408 and parameters: {'bagging_freq': 4, 'min_data_in_leaf': 3, 'max_depth': 20, 'learning_rate': 0.09490885179166109, 'num_leaves': 41, 'num_threads': 8, 'min_sum_hessian_in_leaf': 3}. Best is trial 13 with value: 0.128562683902408.\u001b[0m\n"
     ]
    },
    {
     "name": "stdout",
     "output_type": "stream",
     "text": [
      "[LightGBM] [Warning] min_data_in_leaf is set=2, min_child_samples=20 will be ignored. Current value: min_data_in_leaf=2\n",
      "[LightGBM] [Warning] min_sum_hessian_in_leaf is set=3, min_child_weight=0.001 will be ignored. Current value: min_sum_hessian_in_leaf=3\n",
      "[LightGBM] [Warning] num_threads is set=10, n_jobs=-1 will be ignored. Current value: num_threads=10\n",
      "[LightGBM] [Warning] bagging_freq is set=4, subsample_freq=0 will be ignored. Current value: bagging_freq=4\n"
     ]
    },
    {
     "name": "stderr",
     "output_type": "stream",
     "text": [
      "\u001b[32m[I 2021-06-21 17:51:19,678]\u001b[0m Trial 14 finished with value: 0.12853275670680767 and parameters: {'bagging_freq': 4, 'min_data_in_leaf': 2, 'max_depth': 19, 'learning_rate': 0.09786010342928984, 'num_leaves': 42, 'num_threads': 10, 'min_sum_hessian_in_leaf': 3}. Best is trial 14 with value: 0.12853275670680767.\u001b[0m\n"
     ]
    },
    {
     "name": "stdout",
     "output_type": "stream",
     "text": [
      "[LightGBM] [Warning] min_data_in_leaf is set=7, min_child_samples=20 will be ignored. Current value: min_data_in_leaf=7\n",
      "[LightGBM] [Warning] min_sum_hessian_in_leaf is set=2, min_child_weight=0.001 will be ignored. Current value: min_sum_hessian_in_leaf=2\n",
      "[LightGBM] [Warning] num_threads is set=10, n_jobs=-1 will be ignored. Current value: num_threads=10\n",
      "[LightGBM] [Warning] bagging_freq is set=5, subsample_freq=0 will be ignored. Current value: bagging_freq=5\n"
     ]
    },
    {
     "name": "stderr",
     "output_type": "stream",
     "text": [
      "\u001b[32m[I 2021-06-21 17:51:20,603]\u001b[0m Trial 15 finished with value: 0.12880636452100475 and parameters: {'bagging_freq': 5, 'min_data_in_leaf': 7, 'max_depth': 20, 'learning_rate': 0.08757097463288398, 'num_leaves': 43, 'num_threads': 10, 'min_sum_hessian_in_leaf': 2}. Best is trial 14 with value: 0.12853275670680767.\u001b[0m\n"
     ]
    },
    {
     "name": "stdout",
     "output_type": "stream",
     "text": [
      "[LightGBM] [Warning] min_data_in_leaf is set=23, min_child_samples=20 will be ignored. Current value: min_data_in_leaf=23\n",
      "[LightGBM] [Warning] min_sum_hessian_in_leaf is set=3, min_child_weight=0.001 will be ignored. Current value: min_sum_hessian_in_leaf=3\n",
      "[LightGBM] [Warning] num_threads is set=10, n_jobs=-1 will be ignored. Current value: num_threads=10\n",
      "[LightGBM] [Warning] bagging_freq is set=1, subsample_freq=0 will be ignored. Current value: bagging_freq=1\n"
     ]
    },
    {
     "name": "stderr",
     "output_type": "stream",
     "text": [
      "\u001b[32m[I 2021-06-21 17:51:21,490]\u001b[0m Trial 16 finished with value: 0.1415334280875907 and parameters: {'bagging_freq': 1, 'min_data_in_leaf': 23, 'max_depth': 7, 'learning_rate': 0.016919689960087865, 'num_leaves': 39, 'num_threads': 10, 'min_sum_hessian_in_leaf': 3}. Best is trial 14 with value: 0.12853275670680767.\u001b[0m\n"
     ]
    },
    {
     "name": "stdout",
     "output_type": "stream",
     "text": [
      "[LightGBM] [Warning] min_data_in_leaf is set=3, min_child_samples=20 will be ignored. Current value: min_data_in_leaf=3\n",
      "[LightGBM] [Warning] min_sum_hessian_in_leaf is set=1, min_child_weight=0.001 will be ignored. Current value: min_sum_hessian_in_leaf=1\n",
      "[LightGBM] [Warning] num_threads is set=9, n_jobs=-1 will be ignored. Current value: num_threads=9\n",
      "[LightGBM] [Warning] bagging_freq is set=5, subsample_freq=0 will be ignored. Current value: bagging_freq=5\n"
     ]
    },
    {
     "name": "stderr",
     "output_type": "stream",
     "text": [
      "\u001b[32m[I 2021-06-21 17:51:22,491]\u001b[0m Trial 17 finished with value: 0.12959481773371936 and parameters: {'bagging_freq': 5, 'min_data_in_leaf': 3, 'max_depth': 20, 'learning_rate': 0.06026016276306459, 'num_leaves': 53, 'num_threads': 9, 'min_sum_hessian_in_leaf': 1}. Best is trial 14 with value: 0.12853275670680767.\u001b[0m\n"
     ]
    },
    {
     "name": "stdout",
     "output_type": "stream",
     "text": [
      "[LightGBM] [Warning] min_data_in_leaf is set=16, min_child_samples=20 will be ignored. Current value: min_data_in_leaf=16\n",
      "[LightGBM] [Warning] min_sum_hessian_in_leaf is set=3, min_child_weight=0.001 will be ignored. Current value: min_sum_hessian_in_leaf=3\n",
      "[LightGBM] [Warning] num_threads is set=9, n_jobs=-1 will be ignored. Current value: num_threads=9\n",
      "[LightGBM] [Warning] bagging_freq is set=3, subsample_freq=0 will be ignored. Current value: bagging_freq=3\n"
     ]
    },
    {
     "name": "stderr",
     "output_type": "stream",
     "text": [
      "\u001b[32m[I 2021-06-21 17:51:23,201]\u001b[0m Trial 18 finished with value: 0.14231775516794004 and parameters: {'bagging_freq': 3, 'min_data_in_leaf': 16, 'max_depth': 4, 'learning_rate': 0.022047266566898906, 'num_leaves': 35, 'num_threads': 9, 'min_sum_hessian_in_leaf': 3}. Best is trial 14 with value: 0.12853275670680767.\u001b[0m\n"
     ]
    },
    {
     "name": "stdout",
     "output_type": "stream",
     "text": [
      "[LightGBM] [Warning] min_data_in_leaf is set=34, min_child_samples=20 will be ignored. Current value: min_data_in_leaf=34\n",
      "[LightGBM] [Warning] min_sum_hessian_in_leaf is set=3, min_child_weight=0.001 will be ignored. Current value: min_sum_hessian_in_leaf=3\n",
      "[LightGBM] [Warning] num_threads is set=8, n_jobs=-1 will be ignored. Current value: num_threads=8\n",
      "[LightGBM] [Warning] bagging_freq is set=4, subsample_freq=0 will be ignored. Current value: bagging_freq=4\n"
     ]
    },
    {
     "name": "stderr",
     "output_type": "stream",
     "text": [
      "\u001b[32m[I 2021-06-21 17:51:24,069]\u001b[0m Trial 19 finished with value: 0.13218137520876316 and parameters: {'bagging_freq': 4, 'min_data_in_leaf': 34, 'max_depth': 18, 'learning_rate': 0.05781549375181362, 'num_leaves': 19, 'num_threads': 8, 'min_sum_hessian_in_leaf': 3}. Best is trial 14 with value: 0.12853275670680767.\u001b[0m\n"
     ]
    },
    {
     "name": "stdout",
     "output_type": "stream",
     "text": [
      "[LightGBM] [Warning] min_data_in_leaf is set=2, min_child_samples=20 will be ignored. Current value: min_data_in_leaf=2\n",
      "[LightGBM] [Warning] min_sum_hessian_in_leaf is set=2, min_child_weight=0.001 will be ignored. Current value: min_sum_hessian_in_leaf=2\n",
      "[LightGBM] [Warning] num_threads is set=6, n_jobs=-1 will be ignored. Current value: num_threads=6\n",
      "[LightGBM] [Warning] bagging_freq is set=1, subsample_freq=0 will be ignored. Current value: bagging_freq=1\n"
     ]
    },
    {
     "name": "stderr",
     "output_type": "stream",
     "text": [
      "\u001b[32m[I 2021-06-21 17:51:25,113]\u001b[0m Trial 20 finished with value: 0.13360271445141894 and parameters: {'bagging_freq': 1, 'min_data_in_leaf': 2, 'max_depth': 14, 'learning_rate': 0.028589064067522027, 'num_leaves': 52, 'num_threads': 6, 'min_sum_hessian_in_leaf': 2}. Best is trial 14 with value: 0.12853275670680767.\u001b[0m\n"
     ]
    },
    {
     "name": "stdout",
     "output_type": "stream",
     "text": [
      "[LightGBM] [Warning] min_data_in_leaf is set=7, min_child_samples=20 will be ignored. Current value: min_data_in_leaf=7\n",
      "[LightGBM] [Warning] min_sum_hessian_in_leaf is set=2, min_child_weight=0.001 will be ignored. Current value: min_sum_hessian_in_leaf=2\n",
      "[LightGBM] [Warning] num_threads is set=10, n_jobs=-1 will be ignored. Current value: num_threads=10\n",
      "[LightGBM] [Warning] bagging_freq is set=5, subsample_freq=0 will be ignored. Current value: bagging_freq=5\n"
     ]
    },
    {
     "name": "stderr",
     "output_type": "stream",
     "text": [
      "\u001b[32m[I 2021-06-21 17:51:26,478]\u001b[0m Trial 21 finished with value: 0.12835951322975395 and parameters: {'bagging_freq': 5, 'min_data_in_leaf': 7, 'max_depth': 20, 'learning_rate': 0.09961986104628011, 'num_leaves': 42, 'num_threads': 10, 'min_sum_hessian_in_leaf': 2}. Best is trial 21 with value: 0.12835951322975395.\u001b[0m\n"
     ]
    },
    {
     "name": "stdout",
     "output_type": "stream",
     "text": [
      "[LightGBM] [Warning] min_data_in_leaf is set=12, min_child_samples=20 will be ignored. Current value: min_data_in_leaf=12\n",
      "[LightGBM] [Warning] min_sum_hessian_in_leaf is set=4, min_child_weight=0.001 will be ignored. Current value: min_sum_hessian_in_leaf=4\n",
      "[LightGBM] [Warning] num_threads is set=10, n_jobs=-1 will be ignored. Current value: num_threads=10\n",
      "[LightGBM] [Warning] bagging_freq is set=6, subsample_freq=0 will be ignored. Current value: bagging_freq=6\n"
     ]
    },
    {
     "name": "stderr",
     "output_type": "stream",
     "text": [
      "\u001b[32m[I 2021-06-21 17:51:27,368]\u001b[0m Trial 22 finished with value: 0.12869806983551327 and parameters: {'bagging_freq': 6, 'min_data_in_leaf': 12, 'max_depth': 20, 'learning_rate': 0.09576984246855462, 'num_leaves': 36, 'num_threads': 10, 'min_sum_hessian_in_leaf': 4}. Best is trial 21 with value: 0.12835951322975395.\u001b[0m\n"
     ]
    },
    {
     "name": "stdout",
     "output_type": "stream",
     "text": [
      "[LightGBM] [Warning] min_data_in_leaf is set=21, min_child_samples=20 will be ignored. Current value: min_data_in_leaf=21\n",
      "[LightGBM] [Warning] min_sum_hessian_in_leaf is set=1, min_child_weight=0.001 will be ignored. Current value: min_sum_hessian_in_leaf=1\n",
      "[LightGBM] [Warning] num_threads is set=9, n_jobs=-1 will be ignored. Current value: num_threads=9\n",
      "[LightGBM] [Warning] bagging_freq is set=4, subsample_freq=0 will be ignored. Current value: bagging_freq=4\n"
     ]
    },
    {
     "name": "stderr",
     "output_type": "stream",
     "text": [
      "\u001b[32m[I 2021-06-21 17:51:28,372]\u001b[0m Trial 23 finished with value: 0.13010363975809214 and parameters: {'bagging_freq': 4, 'min_data_in_leaf': 21, 'max_depth': 18, 'learning_rate': 0.0582821287670754, 'num_leaves': 46, 'num_threads': 9, 'min_sum_hessian_in_leaf': 1}. Best is trial 21 with value: 0.12835951322975395.\u001b[0m\n"
     ]
    },
    {
     "name": "stdout",
     "output_type": "stream",
     "text": [
      "[LightGBM] [Warning] min_data_in_leaf is set=9, min_child_samples=20 will be ignored. Current value: min_data_in_leaf=9\n",
      "[LightGBM] [Warning] min_sum_hessian_in_leaf is set=2, min_child_weight=0.001 will be ignored. Current value: min_sum_hessian_in_leaf=2\n",
      "[LightGBM] [Warning] num_threads is set=10, n_jobs=-1 will be ignored. Current value: num_threads=10\n",
      "[LightGBM] [Warning] bagging_freq is set=6, subsample_freq=0 will be ignored. Current value: bagging_freq=6\n"
     ]
    },
    {
     "name": "stderr",
     "output_type": "stream",
     "text": [
      "\u001b[32m[I 2021-06-21 17:51:29,395]\u001b[0m Trial 24 finished with value: 0.12795804494137528 and parameters: {'bagging_freq': 6, 'min_data_in_leaf': 9, 'max_depth': 20, 'learning_rate': 0.09993818984289267, 'num_leaves': 56, 'num_threads': 10, 'min_sum_hessian_in_leaf': 2}. Best is trial 24 with value: 0.12795804494137528.\u001b[0m\n"
     ]
    },
    {
     "name": "stdout",
     "output_type": "stream",
     "text": [
      "[LightGBM] [Warning] min_data_in_leaf is set=41, min_child_samples=20 will be ignored. Current value: min_data_in_leaf=41\n",
      "[LightGBM] [Warning] min_sum_hessian_in_leaf is set=2, min_child_weight=0.001 will be ignored. Current value: min_sum_hessian_in_leaf=2\n",
      "[LightGBM] [Warning] num_threads is set=10, n_jobs=-1 will be ignored. Current value: num_threads=10\n",
      "[LightGBM] [Warning] bagging_freq is set=6, subsample_freq=0 will be ignored. Current value: bagging_freq=6\n"
     ]
    },
    {
     "name": "stderr",
     "output_type": "stream",
     "text": [
      "\u001b[32m[I 2021-06-21 17:51:30,469]\u001b[0m Trial 25 finished with value: 0.1295486572471467 and parameters: {'bagging_freq': 6, 'min_data_in_leaf': 41, 'max_depth': 18, 'learning_rate': 0.061461392043662084, 'num_leaves': 55, 'num_threads': 10, 'min_sum_hessian_in_leaf': 2}. Best is trial 24 with value: 0.12795804494137528.\u001b[0m\n"
     ]
    },
    {
     "name": "stdout",
     "output_type": "stream",
     "text": [
      "[LightGBM] [Warning] min_data_in_leaf is set=26, min_child_samples=20 will be ignored. Current value: min_data_in_leaf=26\n",
      "[LightGBM] [Warning] min_sum_hessian_in_leaf is set=1, min_child_weight=0.001 will be ignored. Current value: min_sum_hessian_in_leaf=1\n",
      "[LightGBM] [Warning] num_threads is set=9, n_jobs=-1 will be ignored. Current value: num_threads=9\n",
      "[LightGBM] [Warning] bagging_freq is set=5, subsample_freq=0 will be ignored. Current value: bagging_freq=5\n"
     ]
    },
    {
     "name": "stderr",
     "output_type": "stream",
     "text": [
      "\u001b[32m[I 2021-06-21 17:51:31,575]\u001b[0m Trial 26 finished with value: 0.1496268931883534 and parameters: {'bagging_freq': 5, 'min_data_in_leaf': 26, 'max_depth': 17, 'learning_rate': 0.011227277123196967, 'num_leaves': 59, 'num_threads': 9, 'min_sum_hessian_in_leaf': 1}. Best is trial 24 with value: 0.12795804494137528.\u001b[0m\n"
     ]
    },
    {
     "name": "stdout",
     "output_type": "stream",
     "text": [
      "[LightGBM] [Warning] min_data_in_leaf is set=10, min_child_samples=20 will be ignored. Current value: min_data_in_leaf=10\n",
      "[LightGBM] [Warning] min_sum_hessian_in_leaf is set=2, min_child_weight=0.001 will be ignored. Current value: min_sum_hessian_in_leaf=2\n",
      "[LightGBM] [Warning] num_threads is set=10, n_jobs=-1 will be ignored. Current value: num_threads=10\n",
      "[LightGBM] [Warning] bagging_freq is set=6, subsample_freq=0 will be ignored. Current value: bagging_freq=6\n"
     ]
    },
    {
     "name": "stderr",
     "output_type": "stream",
     "text": [
      "\u001b[32m[I 2021-06-21 17:51:32,572]\u001b[0m Trial 27 finished with value: 0.1274428161924825 and parameters: {'bagging_freq': 6, 'min_data_in_leaf': 10, 'max_depth': 19, 'learning_rate': 0.09917172784013813, 'num_leaves': 69, 'num_threads': 10, 'min_sum_hessian_in_leaf': 2}. Best is trial 27 with value: 0.1274428161924825.\u001b[0m\n"
     ]
    },
    {
     "name": "stdout",
     "output_type": "stream",
     "text": [
      "[LightGBM] [Warning] min_data_in_leaf is set=11, min_child_samples=20 will be ignored. Current value: min_data_in_leaf=11\n",
      "[LightGBM] [Warning] min_sum_hessian_in_leaf is set=2, min_child_weight=0.001 will be ignored. Current value: min_sum_hessian_in_leaf=2\n",
      "[LightGBM] [Warning] num_threads is set=7, n_jobs=-1 will be ignored. Current value: num_threads=7\n",
      "[LightGBM] [Warning] bagging_freq is set=7, subsample_freq=0 will be ignored. Current value: bagging_freq=7\n"
     ]
    },
    {
     "name": "stderr",
     "output_type": "stream",
     "text": [
      "\u001b[32m[I 2021-06-21 17:51:33,732]\u001b[0m Trial 28 finished with value: 0.13344187337066377 and parameters: {'bagging_freq': 7, 'min_data_in_leaf': 11, 'max_depth': 15, 'learning_rate': 0.026349711814980983, 'num_leaves': 70, 'num_threads': 7, 'min_sum_hessian_in_leaf': 2}. Best is trial 27 with value: 0.1274428161924825.\u001b[0m\n"
     ]
    },
    {
     "name": "stdout",
     "output_type": "stream",
     "text": [
      "[LightGBM] [Warning] min_data_in_leaf is set=67, min_child_samples=20 will be ignored. Current value: min_data_in_leaf=67\n",
      "[LightGBM] [Warning] min_sum_hessian_in_leaf is set=1, min_child_weight=0.001 will be ignored. Current value: min_sum_hessian_in_leaf=1\n",
      "[LightGBM] [Warning] num_threads is set=4, n_jobs=-1 will be ignored. Current value: num_threads=4\n",
      "[LightGBM] [Warning] bagging_freq is set=6, subsample_freq=0 will be ignored. Current value: bagging_freq=6\n"
     ]
    },
    {
     "name": "stderr",
     "output_type": "stream",
     "text": [
      "\u001b[32m[I 2021-06-21 17:51:34,761]\u001b[0m Trial 29 finished with value: 0.13040689494766267 and parameters: {'bagging_freq': 6, 'min_data_in_leaf': 67, 'max_depth': 7, 'learning_rate': 0.04645580540659801, 'num_leaves': 70, 'num_threads': 4, 'min_sum_hessian_in_leaf': 1}. Best is trial 27 with value: 0.1274428161924825.\u001b[0m\n"
     ]
    },
    {
     "name": "stdout",
     "output_type": "stream",
     "text": [
      "[LightGBM] [Warning] min_data_in_leaf is set=29, min_child_samples=20 will be ignored. Current value: min_data_in_leaf=29\n",
      "[LightGBM] [Warning] min_sum_hessian_in_leaf is set=4, min_child_weight=0.001 will be ignored. Current value: min_sum_hessian_in_leaf=4\n",
      "[LightGBM] [Warning] num_threads is set=9, n_jobs=-1 will be ignored. Current value: num_threads=9\n",
      "[LightGBM] [Warning] bagging_freq is set=6, subsample_freq=0 will be ignored. Current value: bagging_freq=6\n"
     ]
    },
    {
     "name": "stderr",
     "output_type": "stream",
     "text": [
      "\u001b[32m[I 2021-06-21 17:51:35,697]\u001b[0m Trial 30 finished with value: 0.12911494313723365 and parameters: {'bagging_freq': 6, 'min_data_in_leaf': 29, 'max_depth': 19, 'learning_rate': 0.07285062877673847, 'num_leaves': 49, 'num_threads': 9, 'min_sum_hessian_in_leaf': 4}. Best is trial 27 with value: 0.1274428161924825.\u001b[0m\n"
     ]
    },
    {
     "name": "stdout",
     "output_type": "stream",
     "text": [
      "[LightGBM] [Warning] min_data_in_leaf is set=17, min_child_samples=20 will be ignored. Current value: min_data_in_leaf=17\n",
      "[LightGBM] [Warning] min_sum_hessian_in_leaf is set=3, min_child_weight=0.001 will be ignored. Current value: min_sum_hessian_in_leaf=3\n",
      "[LightGBM] [Warning] num_threads is set=10, n_jobs=-1 will be ignored. Current value: num_threads=10\n",
      "[LightGBM] [Warning] bagging_freq is set=5, subsample_freq=0 will be ignored. Current value: bagging_freq=5\n"
     ]
    },
    {
     "name": "stderr",
     "output_type": "stream",
     "text": [
      "\u001b[32m[I 2021-06-21 17:51:36,108]\u001b[0m Trial 31 finished with value: 0.1479983018490051 and parameters: {'bagging_freq': 5, 'min_data_in_leaf': 17, 'max_depth': 19, 'learning_rate': 0.09706051659557836, 'num_leaves': 2, 'num_threads': 10, 'min_sum_hessian_in_leaf': 3}. Best is trial 27 with value: 0.1274428161924825.\u001b[0m\n"
     ]
    },
    {
     "name": "stdout",
     "output_type": "stream",
     "text": [
      "[LightGBM] [Warning] min_data_in_leaf is set=10, min_child_samples=20 will be ignored. Current value: min_data_in_leaf=10\n",
      "[LightGBM] [Warning] min_sum_hessian_in_leaf is set=2, min_child_weight=0.001 will be ignored. Current value: min_sum_hessian_in_leaf=2\n",
      "[LightGBM] [Warning] num_threads is set=10, n_jobs=-1 will be ignored. Current value: num_threads=10\n",
      "[LightGBM] [Warning] bagging_freq is set=3, subsample_freq=0 will be ignored. Current value: bagging_freq=3\n"
     ]
    },
    {
     "name": "stderr",
     "output_type": "stream",
     "text": [
      "\u001b[32m[I 2021-06-21 17:51:37,045]\u001b[0m Trial 32 finished with value: 0.2288958409797635 and parameters: {'bagging_freq': 3, 'min_data_in_leaf': 10, 'max_depth': 17, 'learning_rate': 0.0010747956087972404, 'num_leaves': 57, 'num_threads': 10, 'min_sum_hessian_in_leaf': 2}. Best is trial 27 with value: 0.1274428161924825.\u001b[0m\n"
     ]
    },
    {
     "name": "stdout",
     "output_type": "stream",
     "text": [
      "[LightGBM] [Warning] min_data_in_leaf is set=7, min_child_samples=20 will be ignored. Current value: min_data_in_leaf=7\n",
      "[LightGBM] [Warning] min_sum_hessian_in_leaf is set=3, min_child_weight=0.001 will be ignored. Current value: min_sum_hessian_in_leaf=3\n",
      "[LightGBM] [Warning] num_threads is set=9, n_jobs=-1 will be ignored. Current value: num_threads=9\n",
      "[LightGBM] [Warning] bagging_freq is set=7, subsample_freq=0 will be ignored. Current value: bagging_freq=7\n"
     ]
    },
    {
     "name": "stderr",
     "output_type": "stream",
     "text": [
      "\u001b[32m[I 2021-06-21 17:51:37,953]\u001b[0m Trial 33 finished with value: 0.12912597764193467 and parameters: {'bagging_freq': 7, 'min_data_in_leaf': 7, 'max_depth': 20, 'learning_rate': 0.07359738336158422, 'num_leaves': 47, 'num_threads': 9, 'min_sum_hessian_in_leaf': 3}. Best is trial 27 with value: 0.1274428161924825.\u001b[0m\n"
     ]
    },
    {
     "name": "stdout",
     "output_type": "stream",
     "text": [
      "[LightGBM] [Warning] min_data_in_leaf is set=47, min_child_samples=20 will be ignored. Current value: min_data_in_leaf=47\n",
      "[LightGBM] [Warning] min_sum_hessian_in_leaf is set=1, min_child_weight=0.001 will be ignored. Current value: min_sum_hessian_in_leaf=1\n",
      "[LightGBM] [Warning] num_threads is set=10, n_jobs=-1 will be ignored. Current value: num_threads=10\n",
      "[LightGBM] [Warning] bagging_freq is set=5, subsample_freq=0 will be ignored. Current value: bagging_freq=5\n"
     ]
    },
    {
     "name": "stderr",
     "output_type": "stream",
     "text": [
      "\u001b[32m[I 2021-06-21 17:51:38,956]\u001b[0m Trial 34 finished with value: 0.1276631647623768 and parameters: {'bagging_freq': 5, 'min_data_in_leaf': 47, 'max_depth': 18, 'learning_rate': 0.09826948861133215, 'num_leaves': 67, 'num_threads': 10, 'min_sum_hessian_in_leaf': 1}. Best is trial 27 with value: 0.1274428161924825.\u001b[0m\n"
     ]
    },
    {
     "name": "stdout",
     "output_type": "stream",
     "text": [
      "[LightGBM] [Warning] min_data_in_leaf is set=49, min_child_samples=20 will be ignored. Current value: min_data_in_leaf=49\n",
      "[LightGBM] [Warning] min_sum_hessian_in_leaf is set=1, min_child_weight=0.001 will be ignored. Current value: min_sum_hessian_in_leaf=1\n",
      "[LightGBM] [Warning] num_threads is set=8, n_jobs=-1 will be ignored. Current value: num_threads=8\n",
      "[LightGBM] [Warning] bagging_freq is set=6, subsample_freq=0 will be ignored. Current value: bagging_freq=6\n"
     ]
    },
    {
     "name": "stderr",
     "output_type": "stream",
     "text": [
      "\u001b[32m[I 2021-06-21 17:51:40,076]\u001b[0m Trial 35 finished with value: 0.1300027935647101 and parameters: {'bagging_freq': 6, 'min_data_in_leaf': 49, 'max_depth': 16, 'learning_rate': 0.047906074870294635, 'num_leaves': 66, 'num_threads': 8, 'min_sum_hessian_in_leaf': 1}. Best is trial 27 with value: 0.1274428161924825.\u001b[0m\n"
     ]
    },
    {
     "name": "stdout",
     "output_type": "stream",
     "text": [
      "[LightGBM] [Warning] min_data_in_leaf is set=82, min_child_samples=20 will be ignored. Current value: min_data_in_leaf=82\n",
      "[LightGBM] [Warning] min_sum_hessian_in_leaf is set=1, min_child_weight=0.001 will be ignored. Current value: min_sum_hessian_in_leaf=1\n",
      "[LightGBM] [Warning] num_threads is set=10, n_jobs=-1 will be ignored. Current value: num_threads=10\n",
      "[LightGBM] [Warning] bagging_freq is set=5, subsample_freq=0 will be ignored. Current value: bagging_freq=5\n"
     ]
    },
    {
     "name": "stderr",
     "output_type": "stream",
     "text": [
      "\u001b[32m[I 2021-06-21 17:51:41,061]\u001b[0m Trial 36 finished with value: 0.13229554247627473 and parameters: {'bagging_freq': 5, 'min_data_in_leaf': 82, 'max_depth': 18, 'learning_rate': 0.03271072692703518, 'num_leaves': 60, 'num_threads': 10, 'min_sum_hessian_in_leaf': 1}. Best is trial 27 with value: 0.1274428161924825.\u001b[0m\n"
     ]
    },
    {
     "name": "stdout",
     "output_type": "stream",
     "text": [
      "[LightGBM] [Warning] min_data_in_leaf is set=48, min_child_samples=20 will be ignored. Current value: min_data_in_leaf=48\n",
      "[LightGBM] [Warning] min_sum_hessian_in_leaf is set=2, min_child_weight=0.001 will be ignored. Current value: min_sum_hessian_in_leaf=2\n",
      "[LightGBM] [Warning] num_threads is set=9, n_jobs=-1 will be ignored. Current value: num_threads=9\n",
      "[LightGBM] [Warning] bagging_freq is set=8, subsample_freq=0 will be ignored. Current value: bagging_freq=8\n"
     ]
    },
    {
     "name": "stderr",
     "output_type": "stream",
     "text": [
      "\u001b[32m[I 2021-06-21 17:51:42,137]\u001b[0m Trial 37 finished with value: 0.16417444766661146 and parameters: {'bagging_freq': 8, 'min_data_in_leaf': 48, 'max_depth': 14, 'learning_rate': 0.007300423222318097, 'num_leaves': 68, 'num_threads': 9, 'min_sum_hessian_in_leaf': 2}. Best is trial 27 with value: 0.1274428161924825.\u001b[0m\n"
     ]
    },
    {
     "name": "stdout",
     "output_type": "stream",
     "text": [
      "[LightGBM] [Warning] min_data_in_leaf is set=63, min_child_samples=20 will be ignored. Current value: min_data_in_leaf=63\n",
      "[LightGBM] [Warning] min_sum_hessian_in_leaf is set=2, min_child_weight=0.001 will be ignored. Current value: min_sum_hessian_in_leaf=2\n",
      "[LightGBM] [Warning] num_threads is set=10, n_jobs=-1 will be ignored. Current value: num_threads=10\n",
      "[LightGBM] [Warning] bagging_freq is set=7, subsample_freq=0 will be ignored. Current value: bagging_freq=7\n"
     ]
    },
    {
     "name": "stderr",
     "output_type": "stream",
     "text": [
      "\u001b[32m[I 2021-06-21 17:51:43,127]\u001b[0m Trial 38 finished with value: 0.12856653534720514 and parameters: {'bagging_freq': 7, 'min_data_in_leaf': 63, 'max_depth': 20, 'learning_rate': 0.0767073023264453, 'num_leaves': 63, 'num_threads': 10, 'min_sum_hessian_in_leaf': 2}. Best is trial 27 with value: 0.1274428161924825.\u001b[0m\n"
     ]
    },
    {
     "name": "stdout",
     "output_type": "stream",
     "text": [
      "[LightGBM] [Warning] min_data_in_leaf is set=42, min_child_samples=20 will be ignored. Current value: min_data_in_leaf=42\n",
      "[LightGBM] [Warning] min_sum_hessian_in_leaf is set=7, min_child_weight=0.001 will be ignored. Current value: min_sum_hessian_in_leaf=7\n",
      "[LightGBM] [Warning] num_threads is set=1, n_jobs=-1 will be ignored. Current value: num_threads=1\n",
      "[LightGBM] [Warning] bagging_freq is set=6, subsample_freq=0 will be ignored. Current value: bagging_freq=6\n"
     ]
    },
    {
     "name": "stderr",
     "output_type": "stream",
     "text": [
      "\u001b[32m[I 2021-06-21 17:51:45,770]\u001b[0m Trial 39 finished with value: 0.21676786943134926 and parameters: {'bagging_freq': 6, 'min_data_in_leaf': 42, 'max_depth': 9, 'learning_rate': 0.0018253571514067898, 'num_leaves': 51, 'num_threads': 1, 'min_sum_hessian_in_leaf': 7}. Best is trial 27 with value: 0.1274428161924825.\u001b[0m\n"
     ]
    },
    {
     "name": "stdout",
     "output_type": "stream",
     "text": [
      "[LightGBM] [Warning] min_data_in_leaf is set=75, min_child_samples=20 will be ignored. Current value: min_data_in_leaf=75\n",
      "[LightGBM] [Warning] min_sum_hessian_in_leaf is set=1, min_child_weight=0.001 will be ignored. Current value: min_sum_hessian_in_leaf=1\n",
      "[LightGBM] [Warning] num_threads is set=8, n_jobs=-1 will be ignored. Current value: num_threads=8\n",
      "[LightGBM] [Warning] bagging_freq is set=5, subsample_freq=0 will be ignored. Current value: bagging_freq=5\n"
     ]
    },
    {
     "name": "stderr",
     "output_type": "stream",
     "text": [
      "\u001b[32m[I 2021-06-21 17:51:46,924]\u001b[0m Trial 40 finished with value: 0.13024957426787076 and parameters: {'bagging_freq': 5, 'min_data_in_leaf': 75, 'max_depth': 17, 'learning_rate': 0.04931852108955843, 'num_leaves': 57, 'num_threads': 8, 'min_sum_hessian_in_leaf': 1}. Best is trial 27 with value: 0.1274428161924825.\u001b[0m\n"
     ]
    },
    {
     "name": "stdout",
     "output_type": "stream",
     "text": [
      "[LightGBM] [Warning] min_data_in_leaf is set=18, min_child_samples=20 will be ignored. Current value: min_data_in_leaf=18\n",
      "[LightGBM] [Warning] min_sum_hessian_in_leaf is set=2, min_child_weight=0.001 will be ignored. Current value: min_sum_hessian_in_leaf=2\n",
      "[LightGBM] [Warning] num_threads is set=10, n_jobs=-1 will be ignored. Current value: num_threads=10\n",
      "[LightGBM] [Warning] bagging_freq is set=4, subsample_freq=0 will be ignored. Current value: bagging_freq=4\n"
     ]
    },
    {
     "name": "stderr",
     "output_type": "stream",
     "text": [
      "\u001b[32m[I 2021-06-21 17:51:47,712]\u001b[0m Trial 41 finished with value: 0.12879111295060727 and parameters: {'bagging_freq': 4, 'min_data_in_leaf': 18, 'max_depth': 19, 'learning_rate': 0.09856710103437792, 'num_leaves': 34, 'num_threads': 10, 'min_sum_hessian_in_leaf': 2}. Best is trial 27 with value: 0.1274428161924825.\u001b[0m\n"
     ]
    },
    {
     "name": "stdout",
     "output_type": "stream",
     "text": [
      "[LightGBM] [Warning] min_data_in_leaf is set=7, min_child_samples=20 will be ignored. Current value: min_data_in_leaf=7\n",
      "[LightGBM] [Warning] min_sum_hessian_in_leaf is set=4, min_child_weight=0.001 will be ignored. Current value: min_sum_hessian_in_leaf=4\n",
      "[LightGBM] [Warning] num_threads is set=9, n_jobs=-1 will be ignored. Current value: num_threads=9\n",
      "[LightGBM] [Warning] bagging_freq is set=3, subsample_freq=0 will be ignored. Current value: bagging_freq=3\n"
     ]
    },
    {
     "name": "stderr",
     "output_type": "stream",
     "text": [
      "\u001b[32m[I 2021-06-21 17:51:48,673]\u001b[0m Trial 42 finished with value: 0.1293251984685583 and parameters: {'bagging_freq': 3, 'min_data_in_leaf': 7, 'max_depth': 19, 'learning_rate': 0.07335886679950346, 'num_leaves': 44, 'num_threads': 9, 'min_sum_hessian_in_leaf': 4}. Best is trial 27 with value: 0.1274428161924825.\u001b[0m\n"
     ]
    },
    {
     "name": "stdout",
     "output_type": "stream",
     "text": [
      "[LightGBM] [Warning] min_data_in_leaf is set=33, min_child_samples=20 will be ignored. Current value: min_data_in_leaf=33\n",
      "[LightGBM] [Warning] min_sum_hessian_in_leaf is set=3, min_child_weight=0.001 will be ignored. Current value: min_sum_hessian_in_leaf=3\n",
      "[LightGBM] [Warning] num_threads is set=10, n_jobs=-1 will be ignored. Current value: num_threads=10\n",
      "[LightGBM] [Warning] bagging_freq is set=7, subsample_freq=0 will be ignored. Current value: bagging_freq=7\n"
     ]
    },
    {
     "name": "stderr",
     "output_type": "stream",
     "text": [
      "\u001b[32m[I 2021-06-21 17:51:49,637]\u001b[0m Trial 43 finished with value: 0.12759994967528202 and parameters: {'bagging_freq': 7, 'min_data_in_leaf': 33, 'max_depth': 18, 'learning_rate': 0.09760181425532152, 'num_leaves': 66, 'num_threads': 10, 'min_sum_hessian_in_leaf': 3}. Best is trial 27 with value: 0.1274428161924825.\u001b[0m\n"
     ]
    },
    {
     "name": "stdout",
     "output_type": "stream",
     "text": [
      "[LightGBM] [Warning] min_data_in_leaf is set=33, min_child_samples=20 will be ignored. Current value: min_data_in_leaf=33\n",
      "[LightGBM] [Warning] min_sum_hessian_in_leaf is set=2, min_child_weight=0.001 will be ignored. Current value: min_sum_hessian_in_leaf=2\n",
      "[LightGBM] [Warning] num_threads is set=9, n_jobs=-1 will be ignored. Current value: num_threads=9\n",
      "[LightGBM] [Warning] bagging_freq is set=8, subsample_freq=0 will be ignored. Current value: bagging_freq=8\n"
     ]
    },
    {
     "name": "stderr",
     "output_type": "stream",
     "text": [
      "\u001b[32m[I 2021-06-21 17:51:50,660]\u001b[0m Trial 44 finished with value: 0.12890258767114907 and parameters: {'bagging_freq': 8, 'min_data_in_leaf': 33, 'max_depth': 17, 'learning_rate': 0.06403951782979342, 'num_leaves': 66, 'num_threads': 9, 'min_sum_hessian_in_leaf': 2}. Best is trial 27 with value: 0.1274428161924825.\u001b[0m\n"
     ]
    },
    {
     "name": "stdout",
     "output_type": "stream",
     "text": [
      "[LightGBM] [Warning] min_data_in_leaf is set=45, min_child_samples=20 will be ignored. Current value: min_data_in_leaf=45\n",
      "[LightGBM] [Warning] min_sum_hessian_in_leaf is set=5, min_child_weight=0.001 will be ignored. Current value: min_sum_hessian_in_leaf=5\n",
      "[LightGBM] [Warning] num_threads is set=10, n_jobs=-1 will be ignored. Current value: num_threads=10\n",
      "[LightGBM] [Warning] bagging_freq is set=7, subsample_freq=0 will be ignored. Current value: bagging_freq=7\n"
     ]
    },
    {
     "name": "stderr",
     "output_type": "stream",
     "text": [
      "\u001b[32m[I 2021-06-21 17:51:51,646]\u001b[0m Trial 45 finished with value: 0.12827173338729603 and parameters: {'bagging_freq': 7, 'min_data_in_leaf': 45, 'max_depth': 16, 'learning_rate': 0.08496017427293948, 'num_leaves': 62, 'num_threads': 10, 'min_sum_hessian_in_leaf': 5}. Best is trial 27 with value: 0.1274428161924825.\u001b[0m\n"
     ]
    },
    {
     "name": "stdout",
     "output_type": "stream",
     "text": [
      "[LightGBM] [Warning] min_data_in_leaf is set=55, min_child_samples=20 will be ignored. Current value: min_data_in_leaf=55\n",
      "[LightGBM] [Warning] min_sum_hessian_in_leaf is set=5, min_child_weight=0.001 will be ignored. Current value: min_sum_hessian_in_leaf=5\n",
      "[LightGBM] [Warning] num_threads is set=10, n_jobs=-1 will be ignored. Current value: num_threads=10\n",
      "[LightGBM] [Warning] bagging_freq is set=7, subsample_freq=0 will be ignored. Current value: bagging_freq=7\n"
     ]
    },
    {
     "name": "stderr",
     "output_type": "stream",
     "text": [
      "\u001b[32m[I 2021-06-21 17:51:52,765]\u001b[0m Trial 46 finished with value: 0.13088189475577153 and parameters: {'bagging_freq': 7, 'min_data_in_leaf': 55, 'max_depth': 15, 'learning_rate': 0.03908595130387126, 'num_leaves': 70, 'num_threads': 10, 'min_sum_hessian_in_leaf': 5}. Best is trial 27 with value: 0.1274428161924825.\u001b[0m\n"
     ]
    },
    {
     "name": "stdout",
     "output_type": "stream",
     "text": [
      "[LightGBM] [Warning] min_data_in_leaf is set=45, min_child_samples=20 will be ignored. Current value: min_data_in_leaf=45\n",
      "[LightGBM] [Warning] min_sum_hessian_in_leaf is set=6, min_child_weight=0.001 will be ignored. Current value: min_sum_hessian_in_leaf=6\n",
      "[LightGBM] [Warning] num_threads is set=9, n_jobs=-1 will be ignored. Current value: num_threads=9\n",
      "[LightGBM] [Warning] bagging_freq is set=8, subsample_freq=0 will be ignored. Current value: bagging_freq=8\n"
     ]
    },
    {
     "name": "stderr",
     "output_type": "stream",
     "text": [
      "\u001b[32m[I 2021-06-21 17:51:53,766]\u001b[0m Trial 47 finished with value: 0.12817177052164241 and parameters: {'bagging_freq': 8, 'min_data_in_leaf': 45, 'max_depth': 16, 'learning_rate': 0.0829836290732891, 'num_leaves': 61, 'num_threads': 9, 'min_sum_hessian_in_leaf': 6}. Best is trial 27 with value: 0.1274428161924825.\u001b[0m\n"
     ]
    },
    {
     "name": "stdout",
     "output_type": "stream",
     "text": [
      "[LightGBM] [Warning] min_data_in_leaf is set=38, min_child_samples=20 will be ignored. Current value: min_data_in_leaf=38\n",
      "[LightGBM] [Warning] min_sum_hessian_in_leaf is set=7, min_child_weight=0.001 will be ignored. Current value: min_sum_hessian_in_leaf=7\n",
      "[LightGBM] [Warning] num_threads is set=7, n_jobs=-1 will be ignored. Current value: num_threads=7\n",
      "[LightGBM] [Warning] bagging_freq is set=10, subsample_freq=0 will be ignored. Current value: bagging_freq=10\n"
     ]
    },
    {
     "name": "stderr",
     "output_type": "stream",
     "text": [
      "\u001b[32m[I 2021-06-21 17:51:54,911]\u001b[0m Trial 48 finished with value: 0.12982682960381275 and parameters: {'bagging_freq': 10, 'min_data_in_leaf': 38, 'max_depth': 12, 'learning_rate': 0.051965269510315625, 'num_leaves': 65, 'num_threads': 7, 'min_sum_hessian_in_leaf': 7}. Best is trial 27 with value: 0.1274428161924825.\u001b[0m\n"
     ]
    },
    {
     "name": "stdout",
     "output_type": "stream",
     "text": [
      "[LightGBM] [Warning] min_data_in_leaf is set=60, min_child_samples=20 will be ignored. Current value: min_data_in_leaf=60\n",
      "[LightGBM] [Warning] min_sum_hessian_in_leaf is set=6, min_child_weight=0.001 will be ignored. Current value: min_sum_hessian_in_leaf=6\n",
      "[LightGBM] [Warning] num_threads is set=9, n_jobs=-1 will be ignored. Current value: num_threads=9\n",
      "[LightGBM] [Warning] bagging_freq is set=9, subsample_freq=0 will be ignored. Current value: bagging_freq=9\n"
     ]
    },
    {
     "name": "stderr",
     "output_type": "stream",
     "text": [
      "\u001b[32m[I 2021-06-21 17:51:55,911]\u001b[0m Trial 49 finished with value: 0.13968415828102024 and parameters: {'bagging_freq': 9, 'min_data_in_leaf': 60, 'max_depth': 18, 'learning_rate': 0.016953067516764543, 'num_leaves': 60, 'num_threads': 9, 'min_sum_hessian_in_leaf': 6}. Best is trial 27 with value: 0.1274428161924825.\u001b[0m\n"
     ]
    },
    {
     "name": "stdout",
     "output_type": "stream",
     "text": [
      "Wall time: 51.4 s\n"
     ]
    }
   ],
   "source": [
    "%%time\n",
    "study = optuna.create_study()\n",
    "study.optimize(objective, n_trials=50)"
   ]
  },
  {
   "cell_type": "code",
   "execution_count": 11,
   "id": "64d0f7e1-991a-45b5-9759-6c139a4a967b",
   "metadata": {},
   "outputs": [
    {
     "name": "stdout",
     "output_type": "stream",
     "text": [
      "accuracy: 0.1274428161924825\n",
      "best hyperparameters: {'bagging_freq': 6, 'min_data_in_leaf': 10, 'max_depth': 19, 'learning_rate': 0.09917172784013813, 'num_leaves': 69, 'num_threads': 10, 'min_sum_hessian_in_leaf': 2}\n"
     ]
    }
   ],
   "source": [
    "trial = study.best_trial\n",
    "print('accuracy: {}'.format(trial.value))\n",
    "print('best hyperparameters: {}'.format(trial.params))"
   ]
  },
  {
   "cell_type": "code",
   "execution_count": 12,
   "id": "6fb097ca-ea21-4111-9457-314a4ed8fb53",
   "metadata": {},
   "outputs": [],
   "source": [
    "pd_param = pd.DataFrame([trial.params])\n",
    "pd_param.to_csv('model_params.csv', index=False)"
   ]
  },
  {
   "cell_type": "markdown",
   "id": "64b6790a-241a-48f5-9458-5b7da6ebfc77",
   "metadata": {},
   "source": [
    "# <font color='blue'>Model </font>"
   ]
  },
  {
   "cell_type": "code",
   "execution_count": 13,
   "id": "7c196ad2-56cb-4fab-b81a-8f5f17f37e84",
   "metadata": {},
   "outputs": [
    {
     "name": "stdout",
     "output_type": "stream",
     "text": [
      "[LightGBM] [Warning] min_data_in_leaf is set=10, min_child_samples=20 will be ignored. Current value: min_data_in_leaf=10\n",
      "[LightGBM] [Warning] min_sum_hessian_in_leaf is set=2, min_child_weight=0.001 will be ignored. Current value: min_sum_hessian_in_leaf=2\n",
      "[LightGBM] [Warning] num_threads is set=10, n_jobs=-1 will be ignored. Current value: num_threads=10\n",
      "[LightGBM] [Warning] bagging_freq is set=6, subsample_freq=0 will be ignored. Current value: bagging_freq=6\n",
      "Wall time: 877 ms\n"
     ]
    },
    {
     "data": {
      "text/plain": [
       "LGBMClassifier(bagging_freq=6, learning_rate=0.09917172784013813, max_depth=19,\n",
       "               min_data_in_leaf=10, min_sum_hessian_in_leaf=2, num_leaves=69,\n",
       "               num_threads=10)"
      ]
     },
     "execution_count": 13,
     "metadata": {},
     "output_type": "execute_result"
    }
   ],
   "source": [
    "%%time\n",
    "model = lightgbm.LGBMClassifier(bagging_freq=trial.params[\"bagging_freq\"], min_data_in_leaf=trial.params[\"min_data_in_leaf\"],\n",
    "                                max_depth=trial.params[\"max_depth\"],\n",
    "                                learning_rate=trial.params[\"learning_rate\"], num_leaves=trial.params[\"num_leaves\"],\n",
    "                                num_threads=trial.params[\"num_threads\"], min_sum_hessian_in_leaf=trial.params[\"min_sum_hessian_in_leaf\"])\n",
    "model.fit(X_train, Y_train)"
   ]
  },
  {
   "cell_type": "markdown",
   "id": "e6e327ff-4973-4f34-bfec-63477e157dc0",
   "metadata": {},
   "source": [
    "# <font color='blue'>Feature importance </font>"
   ]
  },
  {
   "cell_type": "code",
   "execution_count": 14,
   "id": "6a55adab-5c21-4f0c-9a73-72be5a7bb5e6",
   "metadata": {},
   "outputs": [
    {
     "data": {
      "image/png": "[encoded data removed]",
      "text/plain": [
       "<Figure size 1440x720 with 1 Axes>"
      ]
     },
     "metadata": {
      "needs_background": "light"
     },
     "output_type": "display_data"
    }
   ],
   "source": [
    "feature_imp = pd.DataFrame(sorted(zip(model.feature_importances_,X.columns)), columns=['Value','Feature'])\n",
    "\n",
    "plt.figure(figsize=(20, 10))\n",
    "sns.barplot(x=\"Value\", y=\"Feature\", data=feature_imp.sort_values(by=\"Value\", ascending=False))\n",
    "plt.title('Features')\n",
    "plt.tight_layout()\n",
    "plt.show()"
   ]
  },
  {
   "cell_type": "markdown",
   "id": "12583ac3-5dbf-4ddc-9639-32518330f4a6",
   "metadata": {},
   "source": [
    "# <font color='blue'>MODEL PRECISION </font>"
   ]
  },
  {
   "cell_type": "code",
   "execution_count": 15,
   "id": "06070666-6d74-430c-88d9-fb167fdbe223",
   "metadata": {},
   "outputs": [
    {
     "data": {
      "image/png": "[encoded data removed]",
      "text/plain": [
       "<Figure size 720x360 with 1 Axes>"
      ]
     },
     "metadata": {
      "needs_background": "light"
     },
     "output_type": "display_data"
    },
    {
     "name": "stdout",
     "output_type": "stream",
     "text": [
      "Wall time: 1.24 s\n"
     ]
    }
   ],
   "source": [
    "%%time\n",
    "plt.figure(figsize = (10,5))\n",
    "\n",
    "pred_proba = model.predict_proba(X_train)\n",
    "pred_proba_test = model.predict_proba(X_test)\n",
    "\n",
    "gmt = [\"accuracy train\", \"accuracy test\", \"log loss train\", \"log loss test\", \"brier score train\", \"brier score test\"]\n",
    "metrics = {'Labels': gmt,\n",
    "           'Value': [model.score(X_train, Y_train), model.score(X_test, Y_test),\n",
    "                     log_loss(Y_train, pred_proba),log_loss(Y_test, pred_proba_test),\n",
    "                     brier_score_loss(Y_train, pd.DataFrame(pred_proba)[1]),brier_score_loss(Y_test, pd.DataFrame(pred_proba_test)[1])]\n",
    "           }\n",
    "\n",
    "sns.set_context(rc = {'patch.linewidth': 2.0})\n",
    "sns.set(font_scale=1.3)\n",
    "ax = sns.barplot(x='Labels', y='Value', data=metrics, linewidth=2.0, edgecolor=\".2\", zorder=3, palette=sns.color_palette(\"deep\"))\n",
    "\n",
    "plt.ylabel('%')\n",
    "#plt.gca().yaxis.set_major_locator(ticker.MultipleLocator(.1))\n",
    "ax.grid(linewidth=1, color='white', zorder=0)\n",
    "ax.set_facecolor(\"#d7d7e0\")\n",
    "plt.title(\"Test metrics\")\n",
    "plt.show()"
   ]
  },
  {
   "cell_type": "code",
   "execution_count": 16,
   "id": "bec91f97-a136-4c9e-8bcd-d4dadd2b51ac",
   "metadata": {},
   "outputs": [
    {
     "name": "stdout",
     "output_type": "stream",
     "text": [
      "Brier score → 0.1274428161924825\n"
     ]
    }
   ],
   "source": [
    "print(\"Brier score → {}\".format(brier_score_loss(Y_test, pd.DataFrame(pred_proba_test)[1])))\n"
   ]
  },
  {
   "cell_type": "markdown",
   "id": "36809529-50ac-4ef1-afde-f6216c8e1bae",
   "metadata": {},
   "source": [
    "# <font color='blue'>REALIBITY CURVE </font>"
   ]
  },
  {
   "cell_type": "code",
   "execution_count": 17,
   "id": "0dc5cc59-ca86-46eb-8ec1-19aaeb561605",
   "metadata": {},
   "outputs": [
    {
     "data": {
      "image/png": "[encoded data removed]",
      "text/plain": [
       "<Figure size 1152x432 with 1 Axes>"
      ]
     },
     "metadata": {},
     "output_type": "display_data"
    },
    {
     "name": "stdout",
     "output_type": "stream",
     "text": [
      "Wall time: 176 ms\n"
     ]
    },
    {
     "data": {
      "text/plain": [
       "Text(0.5, 0, 'mean predicted value')"
      ]
     },
     "execution_count": 17,
     "metadata": {},
     "output_type": "execute_result"
    },
    {
     "data": {
      "image/png": "[encoded data removed]",
      "text/plain": [
       "<Figure size 1152x432 with 1 Axes>"
      ]
     },
     "metadata": {},
     "output_type": "display_data"
    }
   ],
   "source": [
    "%%time\n",
    "plt.figure(figsize=(16,6))\n",
    "plt.plot([0,1], [0,1], 'k:', label='flawless curve')\n",
    "x, y = calibration_curve(Y_test, pd.DataFrame(pred_proba_test)[1], n_bins=25)\n",
    "plt.plot(x, y, 's-', label='LGBM')\n",
    "plt.legend(loc='lower right')\n",
    "plt.title('Probability Calibration Curve')\n",
    "plt.ylabel('amount of positives')\n",
    "plt.xlabel('mean predicted value')\n",
    "plt.gca().xaxis.set_major_locator(ticker.MultipleLocator(0.1))\n",
    "plt.show()\n",
    "\n",
    "plt.figure(figsize=(16,6))\n",
    "plt.hist(pd.DataFrame(pred_proba_test)[1], range=(0,1), bins=25, histtype=\"step\", lw=2, fill=True, color='tab:green',\n",
    "        edgecolor='black', linewidth=1.5)\n",
    "plt.title('Predicted Value Distribution for LGBM')\n",
    "plt.ylabel('count')\n",
    "plt.xlabel('mean predicted value')"
   ]
  },
  {
   "cell_type": "markdown",
   "id": "c8d4e344-4c7c-4723-b7ca-e7f9575fa5f5",
   "metadata": {},
   "source": [
    "# <font color='blue'>CONFUSION MATRIX </font>"
   ]
  },
  {
   "cell_type": "code",
   "execution_count": 18,
   "id": "fdf833d6-f94d-4144-8104-19f92e41a9c4",
   "metadata": {},
   "outputs": [
    {
     "data": {
      "image/png": "[encoded data removed]",
      "text/plain": [
       "<Figure size 576x432 with 2 Axes>"
      ]
     },
     "metadata": {},
     "output_type": "display_data"
    }
   ],
   "source": [
    "plt.figure(figsize = (8,6))\n",
    "cm = confusion_matrix(Y_test, model.predict(X_test, num_iteration=50))\n",
    "cm = (cm/cm.sum(axis=1).reshape(-1,1))\n",
    "\n",
    "sns.heatmap(cm, cmap=\"YlGnBu\", vmin=0., vmax=1., annot=True, annot_kws={'size':45})\n",
    "plt.title(\"wa\", fontsize = 5)\n",
    "plt.ylabel('Predicted label')\n",
    "plt.xlabel('True label')\n",
    "plt.show()"
   ]
  },
  {
   "cell_type": "code",
   "execution_count": 18,
   "id": "0b9e7fb1-d11b-4f2a-9430-d0ce97655152",
   "metadata": {},
   "outputs": [
    {
     "data": {
      "text/plain": [
       "0.8069097643425968"
      ]
     },
     "execution_count": 18,
     "metadata": {},
     "output_type": "execute_result"
    }
   ],
   "source": [
    "Y_pred = model.predict(X_test)\n",
    "classification_report(Y_test, Y_pred, output_dict=True)[\"weighted avg\"][\"f1-score\"]"
   ]
  },
  {
   "cell_type": "code",
   "execution_count": null,
   "id": "5b51a526-6e16-4129-ab0b-f0380829b072",
   "metadata": {},
   "outputs": [],
   "source": []
  }
 ],
 "metadata": {
  "kernelspec": {
   "display_name": "Python 3",
   "language": "python",
   "name": "python3"
  },
  "language_info": {
   "codemirror_mode": {
    "name": "ipython",
    "version": 3
   },
   "file_extension": ".py",
   "mimetype": "text/x-python",
   "name": "python",
   "nbconvert_exporter": "python",
   "pygments_lexer": "ipython3",
   "version": "3.8.8"
  }
 },
 "nbformat": 4,
 "nbformat_minor": 5
}
