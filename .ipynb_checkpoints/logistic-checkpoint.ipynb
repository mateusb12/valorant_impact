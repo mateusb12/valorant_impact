{
 "cells": [
  {
   "cell_type": "markdown",
   "id": "bea40f83-ab9e-4a3c-b177-3b3a1fbc7e52",
   "metadata": {},
   "source": [
    "### <font color='blue'>1. Imports</font>"
   ]
  },
  {
   "cell_type": "markdown",
   "id": "5a66987e-2986-4f1d-b912-ea03dd110ffc",
   "metadata": {},
   "source": [
    "https://www.kaggle.com/giripujar/hr-analytics/tasks?taskId=3330\n",
    "\n",
    "https://www.youtube.com/watch?v=zM4VZR0px8E"
   ]
  },
  {
   "cell_type": "markdown",
   "id": "9971b80c-d553-4078-aa26-19120e421671",
   "metadata": {},
   "source": [
    "#### <font color='brown'>Examples</font>"
   ]
  },
  {
   "cell_type": "markdown",
   "id": "048831ce-6f9a-4ee4-a0dc-b3aabe964132",
   "metadata": {},
   "source": [
    "https://www.kaggle.com/naimamushfika/hr-analysis-by-logistic-regression#Feature-Selection:\n",
    "\n",
    "https://www.kaggle.com/rashikrahmanpritom/hr-analytics-and-modeling\n"
   ]
  },
  {
   "cell_type": "markdown",
   "id": "2a66e670-d357-46b6-8afb-c20680e50444",
   "metadata": {},
   "source": [
    "#### <font color='brown'>LGBM</font>"
   ]
  },
  {
   "cell_type": "markdown",
   "id": "54291d82-db73-4e02-8307-86157638bd51",
   "metadata": {},
   "source": [
    "https://www.kaggle.com/prashant111/lightgbm-classifier-in-python"
   ]
  },
  {
   "cell_type": "code",
   "execution_count": 1,
   "id": "7878affa-336f-4046-a349-a1df8f26b6db",
   "metadata": {},
   "outputs": [],
   "source": [
    "import pandas as pd\n",
    "import numpy as np\n",
    "import seaborn as sns\n",
    "import lightgbm\n",
    "from matplotlib import pyplot as plt\n",
    "from matplotlib.pyplot import figure\n",
    "from matplotlib import rc\n",
    "from sklearn.model_selection import train_test_split\n",
    "from sklearn.tree import DecisionTreeClassifier\n",
    "from sklearn.linear_model import LogisticRegression\n",
    "from sklearn.neighbors import KNeighborsClassifier\n",
    "from sklearn.metrics import r2_score, explained_variance_score, confusion_matrix, accuracy_score, classification_report, log_loss, brier_score_loss"
   ]
  },
  {
   "cell_type": "code",
   "execution_count": 2,
   "id": "97759d57-9bdf-4327-8b5b-0ad07d426c29",
   "metadata": {},
   "outputs": [],
   "source": [
    "path = 'D:\\\\Meus Documentos\\\\Python\\\\Notebooks\\\\Datascience\\\\Logistics_regression\\\\'\n",
    "dataset = pd.read_csv('{}HR_comma_sep.csv'.format(path))"
   ]
  },
  {
   "cell_type": "code",
   "execution_count": 3,
   "id": "fdebe623-897e-42be-bc3e-12a8fc0c01ec",
   "metadata": {},
   "outputs": [],
   "source": [
    "feature_types = {\n",
    "    'satisfaction_level': 'binary (0 or 1)',\n",
    "    'Work_accident': 'probability (0 ~ 1)',\n",
    "    'time_spend_company': 'cardinal (2,3,4,5,6,7,8,9,10)',\n",
    "    'average_montly_hours': 'continuous (100,200,300)',\n",
    "    'promotion_last_5years': 'binary (0 or 1)',\n",
    "    'number_project': 'cardinal (2,3,4,5,6,7)',\n",
    "    'salary': 'quality (low, medium, high)',\n",
    "    'department': 'quality (TI, management, etc)'\n",
    "}"
   ]
  },
  {
   "cell_type": "markdown",
   "id": "74d75f98-8d1b-4a73-a46a-bfd6e1c80c66",
   "metadata": {},
   "source": [
    "### <font color='blue'>2. Exploratory analysis</font>"
   ]
  },
  {
   "cell_type": "code",
   "execution_count": 4,
   "id": "37cbbe1a-465b-4c1a-a43e-2d64e5832317",
   "metadata": {},
   "outputs": [
    {
     "data": {
      "text/plain": [
       "left                     1.000000\n",
       "time_spend_company       0.144822\n",
       "average_montly_hours     0.071287\n",
       "number_project           0.023787\n",
       "last_evaluation          0.006567\n",
       "promotion_last_5years   -0.061788\n",
       "Work_accident           -0.154622\n",
       "satisfaction_level      -0.388375\n",
       "Name: left, dtype: float64"
      ]
     },
     "execution_count": 4,
     "metadata": {},
     "output_type": "execute_result"
    }
   ],
   "source": [
    "(dataset.corr())[\"left\"].sort_values(ascending=False)"
   ]
  },
  {
   "cell_type": "markdown",
   "id": "1aecbcc2-1c84-4bad-a0ec-04bb1ecfba69",
   "metadata": {},
   "source": [
    "### <font color='blue'> Checking for missing values</font>"
   ]
  },
  {
   "cell_type": "code",
   "execution_count": 5,
   "id": "fda9f634-255b-413f-8e55-5609f41a0827",
   "metadata": {},
   "outputs": [
    {
     "data": {
      "text/plain": [
       "satisfaction_level       0\n",
       "last_evaluation          0\n",
       "number_project           0\n",
       "average_montly_hours     0\n",
       "time_spend_company       0\n",
       "Work_accident            0\n",
       "left                     0\n",
       "promotion_last_5years    0\n",
       "Department               0\n",
       "salary                   0\n",
       "dtype: int64"
      ]
     },
     "execution_count": 5,
     "metadata": {},
     "output_type": "execute_result"
    }
   ],
   "source": [
    "dataset.isnull().sum()"
   ]
  },
  {
   "cell_type": "markdown",
   "id": "260e535d-9989-4fa3-80aa-415ec3a932a5",
   "metadata": {},
   "source": [
    "### <font color='blue'> Data types</font>"
   ]
  },
  {
   "cell_type": "code",
   "execution_count": 6,
   "id": "51e0a20c-f800-4cee-9b66-b876f59e2acd",
   "metadata": {},
   "outputs": [
    {
     "name": "stdout",
     "output_type": "stream",
     "text": [
      "<class 'pandas.core.frame.DataFrame'>\n",
      "RangeIndex: 14999 entries, 0 to 14998\n",
      "Data columns (total 10 columns):\n",
      " #   Column                 Non-Null Count  Dtype  \n",
      "---  ------                 --------------  -----  \n",
      " 0   satisfaction_level     14999 non-null  float64\n",
      " 1   last_evaluation        14999 non-null  float64\n",
      " 2   number_project         14999 non-null  int64  \n",
      " 3   average_montly_hours   14999 non-null  int64  \n",
      " 4   time_spend_company     14999 non-null  int64  \n",
      " 5   Work_accident          14999 non-null  int64  \n",
      " 6   left                   14999 non-null  int64  \n",
      " 7   promotion_last_5years  14999 non-null  int64  \n",
      " 8   Department             14999 non-null  object \n",
      " 9   salary                 14999 non-null  object \n",
      "dtypes: float64(2), int64(6), object(2)\n",
      "memory usage: 1.1+ MB\n"
     ]
    }
   ],
   "source": [
    "dataset.info()"
   ]
  },
  {
   "cell_type": "markdown",
   "id": "f184c6a7-da1f-4427-a6b0-d2b93049441c",
   "metadata": {},
   "source": [
    "### <font color='blue'>2.1 Employee salaries vs retention</font>"
   ]
  },
  {
   "cell_type": "code",
   "execution_count": 7,
   "id": "18d9bd0c-e7e7-4618-acb3-1d77e54d4e95",
   "metadata": {},
   "outputs": [
    {
     "data": {
      "text/plain": [
       "<AxesSubplot:xlabel='salary'>"
      ]
     },
     "execution_count": 7,
     "metadata": {},
     "output_type": "execute_result"
    },
    {
     "data": {
      "image/png": "[encoded data removed]",
      "text/plain": [
       "<Figure size 864x360 with 1 Axes>"
      ]
     },
     "metadata": {
      "needs_background": "light"
     },
     "output_type": "display_data"
    }
   ],
   "source": [
    "pd.crosstab(dataset.salary,dataset.left).plot(kind='bar', figsize=(12,5))"
   ]
  },
  {
   "cell_type": "markdown",
   "id": "06cb8452-04f1-40de-b747-94b958eea574",
   "metadata": {},
   "source": [
    "### <font color='blue'>2.2 Employee department vs retention</font>"
   ]
  },
  {
   "cell_type": "code",
   "execution_count": 8,
   "id": "33310825-aa99-4c02-9ded-7f500aafd1c8",
   "metadata": {},
   "outputs": [
    {
     "data": {
      "text/plain": [
       "<AxesSubplot:xlabel='Department'>"
      ]
     },
     "execution_count": 8,
     "metadata": {},
     "output_type": "execute_result"
    },
    {
     "data": {
      "image/png": "[encoded data removed]",
      "text/plain": [
       "<Figure size 864x360 with 1 Axes>"
      ]
     },
     "metadata": {
      "needs_background": "light"
     },
     "output_type": "display_data"
    }
   ],
   "source": [
    "pd.crosstab(dataset.Department,dataset.left).plot(kind='bar', figsize=(12,5))"
   ]
  },
  {
   "cell_type": "markdown",
   "id": "27ea4942-862e-4370-9da9-bf2b69ee69d7",
   "metadata": {},
   "source": [
    "### <font color='blue'>2.3 Creating dummies</font>"
   ]
  },
  {
   "cell_type": "code",
   "execution_count": 9,
   "id": "cea265c5-1080-4d66-a032-af260a910928",
   "metadata": {},
   "outputs": [],
   "source": [
    "dataset = pd.get_dummies(dataset, columns=['salary', 'Department'])"
   ]
  },
  {
   "cell_type": "markdown",
   "id": "1307cc9c-9951-44a3-b235-6833c8044334",
   "metadata": {},
   "source": [
    "### <font color='blue'>3. Selecting features</font>"
   ]
  },
  {
   "cell_type": "code",
   "execution_count": 10,
   "id": "1ccc9348-9bde-48d1-a57f-88229d68dea4",
   "metadata": {},
   "outputs": [],
   "source": [
    "X = dataset.drop(['left'], axis='columns')\n",
    "Y = dataset.left"
   ]
  },
  {
   "cell_type": "code",
   "execution_count": 11,
   "id": "acadfe18-e197-41aa-9491-22eb2a655299",
   "metadata": {},
   "outputs": [
    {
     "data": {
      "text/plain": [
       "DecisionTreeClassifier(criterion='entropy', max_depth=10, random_state=15)"
      ]
     },
     "execution_count": 11,
     "metadata": {},
     "output_type": "execute_result"
    }
   ],
   "source": [
    "dt = DecisionTreeClassifier(criterion='entropy', max_depth=10, random_state=15)\n",
    "\n",
    "dt.fit(X, Y)"
   ]
  },
  {
   "cell_type": "code",
   "execution_count": 12,
   "id": "b4552a44-b563-4be0-9a45-ca4a86f015f4",
   "metadata": {},
   "outputs": [
    {
     "name": "stdout",
     "output_type": "stream",
     "text": [
      "The feature importance for satisfaction_level is 36.9\n",
      "The feature importance for last_evaluation is 13.44\n",
      "The feature importance for number_project is 19.26\n",
      "The feature importance for average_montly_hours is 8.04\n",
      "The feature importance for time_spend_company is 21.51\n",
      "The feature importance for Work_accident is 0.09\n",
      "The feature importance for promotion_last_5years is 0.0\n",
      "The feature importance for salary_high is 0.24\n",
      "The feature importance for salary_low is 0.09\n",
      "The feature importance for salary_medium is 0.06\n",
      "The feature importance for Department_IT is 0.04\n",
      "The feature importance for Department_RandD is 0.0\n",
      "The feature importance for Department_accounting is 0.07\n",
      "The feature importance for Department_hr is 0.09\n",
      "The feature importance for Department_management is 0.0\n",
      "The feature importance for Department_marketing is 0.0\n",
      "The feature importance for Department_product_mng is 0.0\n",
      "The feature importance for Department_sales is 0.13\n",
      "The feature importance for Department_support is 0.03\n",
      "The feature importance for Department_technical is 0.0\n"
     ]
    }
   ],
   "source": [
    "feature_column = []\n",
    "feature_value = []\n",
    "\n",
    "for i, column in enumerate(X):\n",
    "    print('The feature importance for {} is {}'.format(column, round(dt.feature_importances_[i]*100, 2)))\n",
    "    feature_column.append(column)\n",
    "    feature_value.append(dt.feature_importances_[i])\n",
    "    \n",
    "feature_df = pd.DataFrame(zip(feature_column, feature_value), columns=['Feature', 'Feature Importance'])\n",
    "feature_df = feature_df.sort_values('Feature Importance', ascending = False).reset_index()"
   ]
  },
  {
   "cell_type": "code",
   "execution_count": 13,
   "id": "e7e4359c-28e3-43f7-a6a9-53b9a8b18774",
   "metadata": {
    "scrolled": true,
    "tags": []
   },
   "outputs": [
    {
     "data": {
      "text/html": [
       "<div>\n",
       "<style scoped>\n",
       "    .dataframe tbody tr th:only-of-type {\n",
       "        vertical-align: middle;\n",
       "    }\n",
       "\n",
       "    .dataframe tbody tr th {\n",
       "        vertical-align: top;\n",
       "    }\n",
       "\n",
       "    .dataframe thead th {\n",
       "        text-align: right;\n",
       "    }\n",
       "</style>\n",
       "<table border=\"1\" class=\"dataframe\">\n",
       "  <thead>\n",
       "    <tr style=\"text-align: right;\">\n",
       "      <th></th>\n",
       "      <th>index</th>\n",
       "      <th>Feature</th>\n",
       "      <th>Feature Importance</th>\n",
       "    </tr>\n",
       "  </thead>\n",
       "  <tbody>\n",
       "    <tr>\n",
       "      <th>0</th>\n",
       "      <td>0</td>\n",
       "      <td>satisfaction_level</td>\n",
       "      <td>0.369030</td>\n",
       "    </tr>\n",
       "    <tr>\n",
       "      <th>1</th>\n",
       "      <td>4</td>\n",
       "      <td>time_spend_company</td>\n",
       "      <td>0.215142</td>\n",
       "    </tr>\n",
       "    <tr>\n",
       "      <th>2</th>\n",
       "      <td>2</td>\n",
       "      <td>number_project</td>\n",
       "      <td>0.192638</td>\n",
       "    </tr>\n",
       "    <tr>\n",
       "      <th>3</th>\n",
       "      <td>1</td>\n",
       "      <td>last_evaluation</td>\n",
       "      <td>0.134442</td>\n",
       "    </tr>\n",
       "    <tr>\n",
       "      <th>4</th>\n",
       "      <td>3</td>\n",
       "      <td>average_montly_hours</td>\n",
       "      <td>0.080384</td>\n",
       "    </tr>\n",
       "    <tr>\n",
       "      <th>5</th>\n",
       "      <td>7</td>\n",
       "      <td>salary_high</td>\n",
       "      <td>0.002448</td>\n",
       "    </tr>\n",
       "    <tr>\n",
       "      <th>6</th>\n",
       "      <td>17</td>\n",
       "      <td>Department_sales</td>\n",
       "      <td>0.001278</td>\n",
       "    </tr>\n",
       "    <tr>\n",
       "      <th>7</th>\n",
       "      <td>13</td>\n",
       "      <td>Department_hr</td>\n",
       "      <td>0.000917</td>\n",
       "    </tr>\n",
       "    <tr>\n",
       "      <th>8</th>\n",
       "      <td>8</td>\n",
       "      <td>salary_low</td>\n",
       "      <td>0.000884</td>\n",
       "    </tr>\n",
       "    <tr>\n",
       "      <th>9</th>\n",
       "      <td>5</td>\n",
       "      <td>Work_accident</td>\n",
       "      <td>0.000856</td>\n",
       "    </tr>\n",
       "    <tr>\n",
       "      <th>10</th>\n",
       "      <td>12</td>\n",
       "      <td>Department_accounting</td>\n",
       "      <td>0.000665</td>\n",
       "    </tr>\n",
       "    <tr>\n",
       "      <th>11</th>\n",
       "      <td>9</td>\n",
       "      <td>salary_medium</td>\n",
       "      <td>0.000581</td>\n",
       "    </tr>\n",
       "    <tr>\n",
       "      <th>12</th>\n",
       "      <td>10</td>\n",
       "      <td>Department_IT</td>\n",
       "      <td>0.000387</td>\n",
       "    </tr>\n",
       "    <tr>\n",
       "      <th>13</th>\n",
       "      <td>18</td>\n",
       "      <td>Department_support</td>\n",
       "      <td>0.000349</td>\n",
       "    </tr>\n",
       "    <tr>\n",
       "      <th>14</th>\n",
       "      <td>11</td>\n",
       "      <td>Department_RandD</td>\n",
       "      <td>0.000000</td>\n",
       "    </tr>\n",
       "    <tr>\n",
       "      <th>15</th>\n",
       "      <td>14</td>\n",
       "      <td>Department_management</td>\n",
       "      <td>0.000000</td>\n",
       "    </tr>\n",
       "    <tr>\n",
       "      <th>16</th>\n",
       "      <td>15</td>\n",
       "      <td>Department_marketing</td>\n",
       "      <td>0.000000</td>\n",
       "    </tr>\n",
       "    <tr>\n",
       "      <th>17</th>\n",
       "      <td>16</td>\n",
       "      <td>Department_product_mng</td>\n",
       "      <td>0.000000</td>\n",
       "    </tr>\n",
       "    <tr>\n",
       "      <th>18</th>\n",
       "      <td>6</td>\n",
       "      <td>promotion_last_5years</td>\n",
       "      <td>0.000000</td>\n",
       "    </tr>\n",
       "    <tr>\n",
       "      <th>19</th>\n",
       "      <td>19</td>\n",
       "      <td>Department_technical</td>\n",
       "      <td>0.000000</td>\n",
       "    </tr>\n",
       "  </tbody>\n",
       "</table>\n",
       "</div>"
      ],
      "text/plain": [
       "    index                 Feature  Feature Importance\n",
       "0       0      satisfaction_level            0.369030\n",
       "1       4      time_spend_company            0.215142\n",
       "2       2          number_project            0.192638\n",
       "3       1         last_evaluation            0.134442\n",
       "4       3    average_montly_hours            0.080384\n",
       "5       7             salary_high            0.002448\n",
       "6      17        Department_sales            0.001278\n",
       "7      13           Department_hr            0.000917\n",
       "8       8              salary_low            0.000884\n",
       "9       5           Work_accident            0.000856\n",
       "10     12   Department_accounting            0.000665\n",
       "11      9           salary_medium            0.000581\n",
       "12     10           Department_IT            0.000387\n",
       "13     18      Department_support            0.000349\n",
       "14     11        Department_RandD            0.000000\n",
       "15     14   Department_management            0.000000\n",
       "16     15    Department_marketing            0.000000\n",
       "17     16  Department_product_mng            0.000000\n",
       "18      6   promotion_last_5years            0.000000\n",
       "19     19    Department_technical            0.000000"
      ]
     },
     "execution_count": 13,
     "metadata": {},
     "output_type": "execute_result"
    }
   ],
   "source": [
    "feature_df"
   ]
  },
  {
   "cell_type": "markdown",
   "id": "523b7236-606c-4b32-b536-a17c7cfeedb9",
   "metadata": {},
   "source": [
    "### <font color='blue'>4. Using features</font>"
   ]
  },
  {
   "cell_type": "code",
   "execution_count": 14,
   "id": "8675b470-ec49-46bb-a5f1-45ede7544083",
   "metadata": {},
   "outputs": [],
   "source": [
    "selected_features = feature_df['Feature'][0:13]"
   ]
  },
  {
   "cell_type": "code",
   "execution_count": 15,
   "id": "b4fd3518-243d-47ae-be54-53a34fb1cbb7",
   "metadata": {},
   "outputs": [
    {
     "data": {
      "text/plain": [
       "0        satisfaction_level\n",
       "1        time_spend_company\n",
       "2            number_project\n",
       "3           last_evaluation\n",
       "4      average_montly_hours\n",
       "5               salary_high\n",
       "6          Department_sales\n",
       "7             Department_hr\n",
       "8                salary_low\n",
       "9             Work_accident\n",
       "10    Department_accounting\n",
       "11            salary_medium\n",
       "12            Department_IT\n",
       "Name: Feature, dtype: object"
      ]
     },
     "execution_count": 15,
     "metadata": {},
     "output_type": "execute_result"
    }
   ],
   "source": [
    "selected_features"
   ]
  },
  {
   "cell_type": "code",
   "execution_count": 16,
   "id": "71a3ba02-b40b-4f20-bdd8-d65a3d17eccc",
   "metadata": {
    "scrolled": true,
    "tags": []
   },
   "outputs": [
    {
     "data": {
      "text/html": [
       "<div>\n",
       "<style scoped>\n",
       "    .dataframe tbody tr th:only-of-type {\n",
       "        vertical-align: middle;\n",
       "    }\n",
       "\n",
       "    .dataframe tbody tr th {\n",
       "        vertical-align: top;\n",
       "    }\n",
       "\n",
       "    .dataframe thead th {\n",
       "        text-align: right;\n",
       "    }\n",
       "</style>\n",
       "<table border=\"1\" class=\"dataframe\">\n",
       "  <thead>\n",
       "    <tr style=\"text-align: right;\">\n",
       "      <th></th>\n",
       "      <th>satisfaction_level</th>\n",
       "      <th>time_spend_company</th>\n",
       "      <th>number_project</th>\n",
       "      <th>last_evaluation</th>\n",
       "      <th>average_montly_hours</th>\n",
       "      <th>salary_high</th>\n",
       "      <th>Department_sales</th>\n",
       "      <th>Department_hr</th>\n",
       "      <th>salary_low</th>\n",
       "      <th>Work_accident</th>\n",
       "      <th>Department_accounting</th>\n",
       "      <th>salary_medium</th>\n",
       "      <th>Department_IT</th>\n",
       "    </tr>\n",
       "  </thead>\n",
       "  <tbody>\n",
       "    <tr>\n",
       "      <th>0</th>\n",
       "      <td>0.38</td>\n",
       "      <td>3</td>\n",
       "      <td>2</td>\n",
       "      <td>0.53</td>\n",
       "      <td>157</td>\n",
       "      <td>0</td>\n",
       "      <td>1</td>\n",
       "      <td>0</td>\n",
       "      <td>1</td>\n",
       "      <td>0</td>\n",
       "      <td>0</td>\n",
       "      <td>0</td>\n",
       "      <td>0</td>\n",
       "    </tr>\n",
       "    <tr>\n",
       "      <th>1</th>\n",
       "      <td>0.80</td>\n",
       "      <td>6</td>\n",
       "      <td>5</td>\n",
       "      <td>0.86</td>\n",
       "      <td>262</td>\n",
       "      <td>0</td>\n",
       "      <td>1</td>\n",
       "      <td>0</td>\n",
       "      <td>0</td>\n",
       "      <td>0</td>\n",
       "      <td>0</td>\n",
       "      <td>1</td>\n",
       "      <td>0</td>\n",
       "    </tr>\n",
       "    <tr>\n",
       "      <th>2</th>\n",
       "      <td>0.11</td>\n",
       "      <td>4</td>\n",
       "      <td>7</td>\n",
       "      <td>0.88</td>\n",
       "      <td>272</td>\n",
       "      <td>0</td>\n",
       "      <td>1</td>\n",
       "      <td>0</td>\n",
       "      <td>0</td>\n",
       "      <td>0</td>\n",
       "      <td>0</td>\n",
       "      <td>1</td>\n",
       "      <td>0</td>\n",
       "    </tr>\n",
       "    <tr>\n",
       "      <th>3</th>\n",
       "      <td>0.72</td>\n",
       "      <td>5</td>\n",
       "      <td>5</td>\n",
       "      <td>0.87</td>\n",
       "      <td>223</td>\n",
       "      <td>0</td>\n",
       "      <td>1</td>\n",
       "      <td>0</td>\n",
       "      <td>1</td>\n",
       "      <td>0</td>\n",
       "      <td>0</td>\n",
       "      <td>0</td>\n",
       "      <td>0</td>\n",
       "    </tr>\n",
       "    <tr>\n",
       "      <th>4</th>\n",
       "      <td>0.37</td>\n",
       "      <td>3</td>\n",
       "      <td>2</td>\n",
       "      <td>0.52</td>\n",
       "      <td>159</td>\n",
       "      <td>0</td>\n",
       "      <td>1</td>\n",
       "      <td>0</td>\n",
       "      <td>1</td>\n",
       "      <td>0</td>\n",
       "      <td>0</td>\n",
       "      <td>0</td>\n",
       "      <td>0</td>\n",
       "    </tr>\n",
       "    <tr>\n",
       "      <th>...</th>\n",
       "      <td>...</td>\n",
       "      <td>...</td>\n",
       "      <td>...</td>\n",
       "      <td>...</td>\n",
       "      <td>...</td>\n",
       "      <td>...</td>\n",
       "      <td>...</td>\n",
       "      <td>...</td>\n",
       "      <td>...</td>\n",
       "      <td>...</td>\n",
       "      <td>...</td>\n",
       "      <td>...</td>\n",
       "      <td>...</td>\n",
       "    </tr>\n",
       "    <tr>\n",
       "      <th>14994</th>\n",
       "      <td>0.40</td>\n",
       "      <td>3</td>\n",
       "      <td>2</td>\n",
       "      <td>0.57</td>\n",
       "      <td>151</td>\n",
       "      <td>0</td>\n",
       "      <td>0</td>\n",
       "      <td>0</td>\n",
       "      <td>1</td>\n",
       "      <td>0</td>\n",
       "      <td>0</td>\n",
       "      <td>0</td>\n",
       "      <td>0</td>\n",
       "    </tr>\n",
       "    <tr>\n",
       "      <th>14995</th>\n",
       "      <td>0.37</td>\n",
       "      <td>3</td>\n",
       "      <td>2</td>\n",
       "      <td>0.48</td>\n",
       "      <td>160</td>\n",
       "      <td>0</td>\n",
       "      <td>0</td>\n",
       "      <td>0</td>\n",
       "      <td>1</td>\n",
       "      <td>0</td>\n",
       "      <td>0</td>\n",
       "      <td>0</td>\n",
       "      <td>0</td>\n",
       "    </tr>\n",
       "    <tr>\n",
       "      <th>14996</th>\n",
       "      <td>0.37</td>\n",
       "      <td>3</td>\n",
       "      <td>2</td>\n",
       "      <td>0.53</td>\n",
       "      <td>143</td>\n",
       "      <td>0</td>\n",
       "      <td>0</td>\n",
       "      <td>0</td>\n",
       "      <td>1</td>\n",
       "      <td>0</td>\n",
       "      <td>0</td>\n",
       "      <td>0</td>\n",
       "      <td>0</td>\n",
       "    </tr>\n",
       "    <tr>\n",
       "      <th>14997</th>\n",
       "      <td>0.11</td>\n",
       "      <td>4</td>\n",
       "      <td>6</td>\n",
       "      <td>0.96</td>\n",
       "      <td>280</td>\n",
       "      <td>0</td>\n",
       "      <td>0</td>\n",
       "      <td>0</td>\n",
       "      <td>1</td>\n",
       "      <td>0</td>\n",
       "      <td>0</td>\n",
       "      <td>0</td>\n",
       "      <td>0</td>\n",
       "    </tr>\n",
       "    <tr>\n",
       "      <th>14998</th>\n",
       "      <td>0.37</td>\n",
       "      <td>3</td>\n",
       "      <td>2</td>\n",
       "      <td>0.52</td>\n",
       "      <td>158</td>\n",
       "      <td>0</td>\n",
       "      <td>0</td>\n",
       "      <td>0</td>\n",
       "      <td>1</td>\n",
       "      <td>0</td>\n",
       "      <td>0</td>\n",
       "      <td>0</td>\n",
       "      <td>0</td>\n",
       "    </tr>\n",
       "  </tbody>\n",
       "</table>\n",
       "<p>14999 rows × 13 columns</p>\n",
       "</div>"
      ],
      "text/plain": [
       "       satisfaction_level  time_spend_company  number_project  \\\n",
       "0                    0.38                   3               2   \n",
       "1                    0.80                   6               5   \n",
       "2                    0.11                   4               7   \n",
       "3                    0.72                   5               5   \n",
       "4                    0.37                   3               2   \n",
       "...                   ...                 ...             ...   \n",
       "14994                0.40                   3               2   \n",
       "14995                0.37                   3               2   \n",
       "14996                0.37                   3               2   \n",
       "14997                0.11                   4               6   \n",
       "14998                0.37                   3               2   \n",
       "\n",
       "       last_evaluation  average_montly_hours  salary_high  Department_sales  \\\n",
       "0                 0.53                   157            0                 1   \n",
       "1                 0.86                   262            0                 1   \n",
       "2                 0.88                   272            0                 1   \n",
       "3                 0.87                   223            0                 1   \n",
       "4                 0.52                   159            0                 1   \n",
       "...                ...                   ...          ...               ...   \n",
       "14994             0.57                   151            0                 0   \n",
       "14995             0.48                   160            0                 0   \n",
       "14996             0.53                   143            0                 0   \n",
       "14997             0.96                   280            0                 0   \n",
       "14998             0.52                   158            0                 0   \n",
       "\n",
       "       Department_hr  salary_low  Work_accident  Department_accounting  \\\n",
       "0                  0           1              0                      0   \n",
       "1                  0           0              0                      0   \n",
       "2                  0           0              0                      0   \n",
       "3                  0           1              0                      0   \n",
       "4                  0           1              0                      0   \n",
       "...              ...         ...            ...                    ...   \n",
       "14994              0           1              0                      0   \n",
       "14995              0           1              0                      0   \n",
       "14996              0           1              0                      0   \n",
       "14997              0           1              0                      0   \n",
       "14998              0           1              0                      0   \n",
       "\n",
       "       salary_medium  Department_IT  \n",
       "0                  0              0  \n",
       "1                  1              0  \n",
       "2                  1              0  \n",
       "3                  0              0  \n",
       "4                  0              0  \n",
       "...              ...            ...  \n",
       "14994              0              0  \n",
       "14995              0              0  \n",
       "14996              0              0  \n",
       "14997              0              0  \n",
       "14998              0              0  \n",
       "\n",
       "[14999 rows x 13 columns]"
      ]
     },
     "execution_count": 16,
     "metadata": {},
     "output_type": "execute_result"
    }
   ],
   "source": [
    "X = dataset[selected_features]\n",
    "X"
   ]
  },
  {
   "cell_type": "code",
   "execution_count": 17,
   "id": "8b0004e2-ac0a-4f8e-8c2a-f6371120d768",
   "metadata": {},
   "outputs": [
    {
     "data": {
      "text/plain": [
       "0        1\n",
       "1        1\n",
       "2        1\n",
       "3        1\n",
       "4        1\n",
       "        ..\n",
       "14994    1\n",
       "14995    1\n",
       "14996    1\n",
       "14997    1\n",
       "14998    1\n",
       "Name: left, Length: 14999, dtype: int32"
      ]
     },
     "execution_count": 17,
     "metadata": {},
     "output_type": "execute_result"
    }
   ],
   "source": [
    "Y = dataset.left\n",
    "Y = Y.astype(int)\n",
    "Y"
   ]
  },
  {
   "cell_type": "markdown",
   "id": "ca8bdcc0-5889-4c80-bd87-77a5dd9b77d9",
   "metadata": {},
   "source": [
    "### <font color='blue'>5. Splitting train and test</font>"
   ]
  },
  {
   "cell_type": "code",
   "execution_count": 18,
   "id": "070e415e-5c23-4704-9f1c-da0e365a6e3c",
   "metadata": {},
   "outputs": [],
   "source": [
    "X_train, X_test, Y_train, Y_test = train_test_split(X, Y, train_size=0.8, test_size=0.2, random_state=15)"
   ]
  },
  {
   "cell_type": "raw",
   "id": "05128bc2-fcb2-4dcd-921a-9f52418315b4",
   "metadata": {},
   "source": [
    "X_train, X_valid, Y_train, Y_valid = train_test_split(X_train, Y_train, train_size=0.9, test_size=0.1, random_state=15)"
   ]
  },
  {
   "cell_type": "code",
   "execution_count": 19,
   "id": "c584314d-93d6-4110-b2e3-fe8d73c3d68b",
   "metadata": {},
   "outputs": [
    {
     "data": {
      "text/plain": [
       "[Text(0.5, 0, 'TRAIN')]"
      ]
     },
     "execution_count": 19,
     "metadata": {},
     "output_type": "execute_result"
    },
    {
     "data": {
      "image/png": "[encoded data removed]",
      "text/plain": [
       "<Figure size 432x288 with 1 Axes>"
      ]
     },
     "metadata": {
      "needs_background": "light"
     },
     "output_type": "display_data"
    }
   ],
   "source": [
    "ax = sns.countplot(x=Y_train, palette='Set3')\n",
    "ax.set(xlabel='TRAIN')"
   ]
  },
  {
   "cell_type": "code",
   "execution_count": 20,
   "id": "7ec21366-fca4-4646-aade-02a17ed3a3d8",
   "metadata": {},
   "outputs": [
    {
     "data": {
      "text/plain": [
       "[Text(0.5, 0, 'TEST')]"
      ]
     },
     "execution_count": 20,
     "metadata": {},
     "output_type": "execute_result"
    },
    {
     "data": {
      "image/png": "[encoded data removed]",
      "text/plain": [
       "<Figure size 432x288 with 1 Axes>"
      ]
     },
     "metadata": {
      "needs_background": "light"
     },
     "output_type": "display_data"
    }
   ],
   "source": [
    "ax = sns.countplot(x=Y_train, palette='Set3')\n",
    "ax.set(xlabel='TEST')"
   ]
  },
  {
   "cell_type": "markdown",
   "id": "25991d92-d167-4f80-93ae-b7703052a330",
   "metadata": {},
   "source": [
    "### <font color='blue'>6. Logistic Regression</font>"
   ]
  },
  {
   "cell_type": "code",
   "execution_count": 21,
   "id": "087e0183-58d8-437c-a5f4-343652a5dc52",
   "metadata": {},
   "outputs": [
    {
     "data": {
      "text/plain": [
       "LogisticRegression(C=0.91, random_state=15, solver='liblinear')"
      ]
     },
     "execution_count": 21,
     "metadata": {},
     "output_type": "execute_result"
    }
   ],
   "source": [
    "log_reg = LogisticRegression(C=0.91, random_state=15, solver = 'liblinear')\n",
    "log_reg.fit(X_train, Y_train)"
   ]
  },
  {
   "cell_type": "markdown",
   "id": "8f6be072-4a31-4bc0-af4e-0e0a2e73be67",
   "metadata": {},
   "source": [
    "### <font color='blue'>7. Decision Tree</font>"
   ]
  },
  {
   "cell_type": "code",
   "execution_count": 22,
   "id": "4847e0c1-4b29-4389-ba1d-bc0642feb5bf",
   "metadata": {},
   "outputs": [
    {
     "data": {
      "text/plain": [
       "DecisionTreeClassifier(criterion='entropy', max_depth=88, max_features=8,\n",
       "                       random_state=251)"
      ]
     },
     "execution_count": 22,
     "metadata": {},
     "output_type": "execute_result"
    }
   ],
   "source": [
    "tree = DecisionTreeClassifier(criterion=\"entropy\", max_depth=88, max_features=8, random_state=251).fit(X_train, Y_train)\n",
    "tree.fit(X_train, Y_train)"
   ]
  },
  {
   "cell_type": "markdown",
   "id": "9803957c-7469-4080-883d-5bb2cddbe19d",
   "metadata": {},
   "source": [
    "### <font color='blue'>8. KNN</font>"
   ]
  },
  {
   "cell_type": "code",
   "execution_count": 23,
   "id": "0c65dfb4-3adb-486b-ab20-083d747bcd29",
   "metadata": {},
   "outputs": [
    {
     "data": {
      "text/plain": [
       "KNeighborsClassifier(n_neighbors=1, p=8)"
      ]
     },
     "execution_count": 23,
     "metadata": {},
     "output_type": "execute_result"
    }
   ],
   "source": [
    "knn = KNeighborsClassifier(n_neighbors=1, p=8)\n",
    "knn.fit(X_train,Y_train)"
   ]
  },
  {
   "cell_type": "markdown",
   "id": "ac34435c-a70e-4396-a0c0-3c386e36e9e3",
   "metadata": {},
   "source": [
    "### <font color='blue'>9. Light BGM</font>"
   ]
  },
  {
   "cell_type": "code",
   "execution_count": 24,
   "id": "891317b2-dd08-44ae-b476-27484161b2a8",
   "metadata": {},
   "outputs": [
    {
     "data": {
      "text/plain": [
       "LGBMClassifier()"
      ]
     },
     "execution_count": 24,
     "metadata": {},
     "output_type": "execute_result"
    }
   ],
   "source": [
    "LGBM = lightgbm.LGBMClassifier()\n",
    "LGBM.fit(X_train, Y_train)"
   ]
  },
  {
   "cell_type": "markdown",
   "id": "c96fa2b9-8d4e-4e0e-b566-432152b4d5dd",
   "metadata": {},
   "source": [
    "### <font color='blue'>Evaluating model </font>"
   ]
  },
  {
   "cell_type": "markdown",
   "id": "02d28900-b74a-4a2f-9d2c-eed1837abb2b",
   "metadata": {},
   "source": [
    "### <font color='blue'>Code for metric analytics </font>"
   ]
  },
  {
   "cell_type": "code",
   "execution_count": 25,
   "id": "904cab99-8c6b-4a0e-b43c-3ff438d1b6e3",
   "metadata": {},
   "outputs": [],
   "source": [
    "def get_model_metrics(func, data_table:dict):    \n",
    "    x_train = data_table['x_train']\n",
    "    y_train = data_table['y_train']\n",
    "    x_test = data_table['x_test']\n",
    "    y_test = data_table['y_test']\n",
    "    \n",
    "    metric_dict = {}\n",
    "    train_accuracy = func.score(x_train, y_train)\n",
    "    test_accuracy = func.score(x_test, y_test)\n",
    "\n",
    "    metric_dict[\"train_accuracy\"] = train_accuracy\n",
    "    metric_dict[\"test_accuracy\"] = test_accuracy\n",
    "    \n",
    "    Y_pred = func.predict(x_train)\n",
    "    pred_proba = func.predict_proba(X_train)\n",
    "    pred_proba_test = func.predict_proba(X_test)\n",
    "    \n",
    "    cm = confusion_matrix(y_train, Y_pred)\n",
    "    metric_dict[\"confusion_matrix\"] = cm\n",
    "\n",
    "    pred_proba_test = func.predict_proba(x_test)\n",
    "    metric_dict[\"log_loss_train\"] = log_loss(y_train, pred_proba)\n",
    "    metric_dict[\"log_loss_test\"] = log_loss(y_test, pred_proba_test)\n",
    "\n",
    "    metric_dict[\"brier_score_train\"] = brier_score_loss(y_train, pd.DataFrame(pred_proba)[0])\n",
    "    metric_dict[\"brier_score_test\"] = brier_score_loss(y_test, pd.DataFrame(pred_proba_test)[0])\n",
    "    \n",
    "    return metric_dict\n",
    "\n",
    "def plot_metrics_bars(dict_data: dict):\n",
    "    bar_data = dict_data.copy()\n",
    "    bar_data.pop(\"confusion_matrix\")\n",
    "\n",
    "    # Types of colors\n",
    "    color_types = ['#78C850','#78C850','#F08030','#F08030','#6890F0','#6890F0','#A8B820','#A8B820','#A8A878','#A040A0','#F8D030',  \n",
    "                '#E0C068','#EE99AC','#C03028','#F85888','#B8A038','#705898','#98D8D8','#7038F8']\n",
    "\n",
    "    mydict = {'a': 4500, 'b': 3000, 'c': 2500}\n",
    "\n",
    "    font = {'family' : 'sans-serif',\n",
    "            'weight' : 'ultralight',\n",
    "            'size'   : 14}\n",
    "\n",
    "    rc('font', **font)\n",
    "\n",
    "    fig = plt.figure()\n",
    "    plt.ylabel('%', fontsize=18)\n",
    "    plt.grid(zorder=0)\n",
    "\n",
    "    axes = plt.gca()\n",
    "    axes.set_ylim([0,1])\n",
    "\n",
    "    plot = plt.bar(bar_data.keys(), bar_data.values(), edgecolor='black', linewidth=2, color=color_types, zorder=3)\n",
    "    plt.gcf().set_size_inches(14, 9)\n",
    "\n",
    "def plot_confusion_matrix(cm, classes=None, title='Confusion matrix'):\n",
    "    \"\"\"Plots a confusion matrix.\"\"\"\n",
    "    if classes is not None:\n",
    "        sns.heatmap(cm, cmap=\"YlGnBu\", xticklabels=classes, yticklabels=classes, vmin=0., vmax=1., annot=True, annot_kws={'size':50})\n",
    "    else:\n",
    "        sns.heatmap(cm, vmin=0., vmax=1.)\n",
    "    plt.title(title)\n",
    "    plt.ylabel('Predicted label')\n",
    "    plt.xlabel('True label')\n",
    "    \n",
    "def show_confusion_matrix(func, dict_data: dict, data_table: dict):\n",
    "    cm = dict_data[\"confusion_matrix\"]\n",
    "    cm_norm = cm / cm.sum(axis=1).reshape(-1,1)\n",
    "    \n",
    "    y_train = data_table['y_train']\n",
    "\n",
    "    print(classification_report(y_train, func.predict(X_train)))\n",
    "    plot_confusion_matrix(cm_norm, classes = func.classes_, title='Confusion matrix')\n",
    "    plt.gcf().set_size_inches(10, 7)"
   ]
  },
  {
   "cell_type": "markdown",
   "id": "104cdaef-d66b-4bb0-b161-f1041ccb74b8",
   "metadata": {},
   "source": [
    "### <font color='blue'>Logistic Regression </font>"
   ]
  },
  {
   "cell_type": "code",
   "execution_count": 26,
   "id": "2b2d8654-bc96-48ae-86e7-f1d8ead21513",
   "metadata": {},
   "outputs": [],
   "source": [
    "dataset_dict = {\"x_train\": X_train, \"y_train\": Y_train, \"x_test\": X_test, \"y_test\": Y_test}\n",
    "model = log_reg"
   ]
  },
  {
   "cell_type": "code",
   "execution_count": 27,
   "id": "f64d5888-7477-403c-975f-387124dd249a",
   "metadata": {},
   "outputs": [
    {
     "data": {
      "image/png": "[encoded data removed]",
      "text/plain": [
       "<Figure size 1008x648 with 1 Axes>"
      ]
     },
     "metadata": {
      "needs_background": "light"
     },
     "output_type": "display_data"
    }
   ],
   "source": [
    "model_metrics = get_model_metrics(model, dataset_dict)\n",
    "plot_metrics_bars(model_metrics)"
   ]
  },
  {
   "cell_type": "code",
   "execution_count": 28,
   "id": "600242e9-731d-4c8f-84e0-9e223a3298b3",
   "metadata": {},
   "outputs": [
    {
     "name": "stdout",
     "output_type": "stream",
     "text": [
      "              precision    recall  f1-score   support\n",
      "\n",
      "           0       0.82      0.93      0.87      9137\n",
      "           1       0.59      0.34      0.43      2862\n",
      "\n",
      "    accuracy                           0.79     11999\n",
      "   macro avg       0.71      0.63      0.65     11999\n",
      "weighted avg       0.76      0.79      0.76     11999\n",
      "\n"
     ]
    },
    {
     "data": {
      "image/png": "[encoded data removed]",
      "text/plain": [
       "<Figure size 720x504 with 2 Axes>"
      ]
     },
     "metadata": {
      "needs_background": "light"
     },
     "output_type": "display_data"
    }
   ],
   "source": [
    "show_confusion_matrix(model, model_metrics, dataset_dict)"
   ]
  },
  {
   "cell_type": "markdown",
   "id": "c69bbc6c-20fb-4101-8e6b-137f2699e80b",
   "metadata": {},
   "source": [
    "#### <font color='brown'> True positives / False positives </font>"
   ]
  },
  {
   "cell_type": "markdown",
   "id": "55028e42-11c2-44c3-960e-169dc522aabe",
   "metadata": {},
   "source": [
    "#### <font color='brown'>False negatives / True negatives </font>"
   ]
  },
  {
   "cell_type": "markdown",
   "id": "08c1162d-1315-4c8e-af4e-fc801a78ecb2",
   "metadata": {},
   "source": [
    "### <font color='blue'>Decision Trees </font>"
   ]
  },
  {
   "cell_type": "code",
   "execution_count": 29,
   "id": "0d9597a6-f530-48dc-b847-ae197e1803a5",
   "metadata": {},
   "outputs": [],
   "source": [
    "model = tree"
   ]
  },
  {
   "cell_type": "code",
   "execution_count": 30,
   "id": "da311728-4ac1-4b43-a2ca-38cc1f25a3c2",
   "metadata": {},
   "outputs": [
    {
     "data": {
      "image/png": "[encoded data removed]",
      "text/plain": [
       "<Figure size 1008x648 with 1 Axes>"
      ]
     },
     "metadata": {
      "needs_background": "light"
     },
     "output_type": "display_data"
    }
   ],
   "source": [
    "model_metrics = get_model_metrics(model, dataset_dict)\n",
    "plot_metrics_bars(model_metrics)"
   ]
  },
  {
   "cell_type": "code",
   "execution_count": 31,
   "id": "0ce3c57e-703e-4b48-88e4-da6ed9bfb9be",
   "metadata": {},
   "outputs": [
    {
     "name": "stdout",
     "output_type": "stream",
     "text": [
      "              precision    recall  f1-score   support\n",
      "\n",
      "           0       1.00      1.00      1.00      9137\n",
      "           1       1.00      1.00      1.00      2862\n",
      "\n",
      "    accuracy                           1.00     11999\n",
      "   macro avg       1.00      1.00      1.00     11999\n",
      "weighted avg       1.00      1.00      1.00     11999\n",
      "\n"
     ]
    },
    {
     "data": {
      "image/png": "[encoded data removed]",
      "text/plain": [
       "<Figure size 720x504 with 2 Axes>"
      ]
     },
     "metadata": {
      "needs_background": "light"
     },
     "output_type": "display_data"
    }
   ],
   "source": [
    "show_confusion_matrix(model, model_metrics, dataset_dict)"
   ]
  },
  {
   "cell_type": "markdown",
   "id": "bb38ffea-448e-40da-831f-4ff6f92d3c7b",
   "metadata": {},
   "source": [
    "### <font color='blue'>KNN </font>"
   ]
  },
  {
   "cell_type": "code",
   "execution_count": 32,
   "id": "5fed7ac7-acfd-409d-ac1b-162d974f3cd1",
   "metadata": {},
   "outputs": [],
   "source": [
    "model = knn"
   ]
  },
  {
   "cell_type": "code",
   "execution_count": 33,
   "id": "4b3ccd0a-83aa-41d0-869b-e05e897945b6",
   "metadata": {},
   "outputs": [
    {
     "data": {
      "image/png": "[encoded data removed]",
      "text/plain": [
       "<Figure size 1008x648 with 1 Axes>"
      ]
     },
     "metadata": {
      "needs_background": "light"
     },
     "output_type": "display_data"
    }
   ],
   "source": [
    "model_metrics = get_model_metrics(model, dataset_dict)\n",
    "plot_metrics_bars(model_metrics)"
   ]
  },
  {
   "cell_type": "code",
   "execution_count": 34,
   "id": "5c9b716c-25ce-42b9-9008-c5fb9895c852",
   "metadata": {},
   "outputs": [
    {
     "name": "stdout",
     "output_type": "stream",
     "text": [
      "              precision    recall  f1-score   support\n",
      "\n",
      "           0       1.00      1.00      1.00      9137\n",
      "           1       1.00      1.00      1.00      2862\n",
      "\n",
      "    accuracy                           1.00     11999\n",
      "   macro avg       1.00      1.00      1.00     11999\n",
      "weighted avg       1.00      1.00      1.00     11999\n",
      "\n"
     ]
    },
    {
     "data": {
      "image/png": "[encoded data removed]",
      "text/plain": [
       "<Figure size 720x504 with 2 Axes>"
      ]
     },
     "metadata": {
      "needs_background": "light"
     },
     "output_type": "display_data"
    }
   ],
   "source": [
    "show_confusion_matrix(model, model_metrics, dataset_dict)"
   ]
  },
  {
   "cell_type": "markdown",
   "id": "217e0ceb-0809-44a7-bd42-da9f7b9bd6f2",
   "metadata": {},
   "source": [
    "### <font color='blue'>LGBM </font>"
   ]
  },
  {
   "cell_type": "code",
   "execution_count": 35,
   "id": "127054f3-e525-4eb6-9d8b-6dccb69ef6ac",
   "metadata": {},
   "outputs": [],
   "source": [
    "model = LGBM"
   ]
  },
  {
   "cell_type": "code",
   "execution_count": 36,
   "id": "3f75dc00-66b0-44d3-9d6a-9d2c7da71fc0",
   "metadata": {},
   "outputs": [
    {
     "data": {
      "image/png": "[encoded data removed]",
      "text/plain": [
       "<Figure size 1008x648 with 1 Axes>"
      ]
     },
     "metadata": {
      "needs_background": "light"
     },
     "output_type": "display_data"
    }
   ],
   "source": [
    "model_metrics = get_model_metrics(model, dataset_dict)\n",
    "plot_metrics_bars(model_metrics)"
   ]
  },
  {
   "cell_type": "code",
   "execution_count": 37,
   "id": "3a591741-240f-4e84-8071-b2795e3f4606",
   "metadata": {},
   "outputs": [
    {
     "name": "stdout",
     "output_type": "stream",
     "text": [
      "              precision    recall  f1-score   support\n",
      "\n",
      "           0       0.99      1.00      1.00      9137\n",
      "           1       1.00      0.98      0.99      2862\n",
      "\n",
      "    accuracy                           0.99     11999\n",
      "   macro avg       0.99      0.99      0.99     11999\n",
      "weighted avg       0.99      0.99      0.99     11999\n",
      "\n"
     ]
    },
    {
     "data": {
      "image/png": "[encoded data removed]",
      "text/plain": [
       "<Figure size 720x504 with 2 Axes>"
      ]
     },
     "metadata": {
      "needs_background": "light"
     },
     "output_type": "display_data"
    }
   ],
   "source": [
    "show_confusion_matrix(model, model_metrics, dataset_dict)"
   ]
  },
  {
   "cell_type": "code",
   "execution_count": null,
   "id": "4b91bcde-1951-4a21-9a53-df3d85b91d4d",
   "metadata": {},
   "outputs": [],
   "source": []
  },
  {
   "cell_type": "code",
   "execution_count": null,
   "id": "784c9887-9967-4188-ab12-f0c5ec3dea59",
   "metadata": {},
   "outputs": [],
   "source": []
  },
  {
   "cell_type": "code",
   "execution_count": null,
   "id": "36a4abc0-eb36-4f5a-875e-159c8356db9b",
   "metadata": {},
   "outputs": [],
   "source": []
  },
  {
   "cell_type": "code",
   "execution_count": null,
   "id": "dfdd59d1-7e53-4a05-8dec-86a01593bf0c",
   "metadata": {},
   "outputs": [],
   "source": []
  },
  {
   "cell_type": "markdown",
   "id": "c5e89ac5-d2b3-4cf9-bd77-0abaec057963",
   "metadata": {},
   "source": []
  },
  {
   "cell_type": "code",
   "execution_count": null,
   "id": "d2ecfadf-a0f4-4c28-929e-1bd36ef2076e",
   "metadata": {},
   "outputs": [],
   "source": []
  },
  {
   "cell_type": "markdown",
   "id": "35b04d6f-a31c-4192-81d5-bd29de703803",
   "metadata": {},
   "source": [
    "# <font color='blue'>CONFUSION MATRIX </font>"
   ]
  },
  {
   "cell_type": "code",
   "execution_count": 103,
   "id": "91dd3768-4445-4652-bd0f-203c2096904f",
   "metadata": {
    "tags": []
   },
   "outputs": [
    {
     "data": {
      "image/png": "[encoded data removed]",
      "text/plain": [
       "<Figure size 1152x1008 with 8 Axes>"
      ]
     },
     "metadata": {
      "needs_background": "light"
     },
     "output_type": "display_data"
    }
   ],
   "source": [
    "plt.figure(figsize = (16,14))\n",
    "\n",
    "model_list = [log_reg, tree, knn, LGBM]\n",
    "model_names = [\"Logistic regression\", \"Decision Tree\", \"K-neighbours\", \"LGBM\"]\n",
    "model_names_size = 25\n",
    "\n",
    "cm_list = [confusion_matrix(Y_train, func.predict(X_train)) for func in model_list]\n",
    "cm_list = [(cm/cm.sum(axis=1).reshape(-1,1)) for cm in cm_list]\n",
    "\n",
    "ax1 = plt.subplot(2,2,1)\n",
    "sns.heatmap(cm_list[0], cmap=\"YlGnBu\", vmin=0., vmax=1., annot=True, annot_kws={'size':45})\n",
    "plt.title(model_names[0], fontsize = model_names_size)\n",
    "plt.ylabel('Predicted label')\n",
    "plt.xlabel('True label')\n",
    "ax1.xaxis.set_label_coords(0.5, -0.015)\n",
    "ax1.yaxis.set_label_coords(-0.01, 0.5)\n",
    "\n",
    "ax2 = plt.subplot(2,2,2)\n",
    "sns.heatmap(cm_list[1], cmap=\"YlGnBu\", vmin=0., vmax=1., annot=True, annot_kws={'size':45})\n",
    "plt.title(model_names[1], fontsize = model_names_size)\n",
    "plt.ylabel('Predicted label')\n",
    "plt.xlabel('True label')\n",
    "ax2.xaxis.set_label_coords(0.5, -0.015)\n",
    "ax2.yaxis.set_label_coords(-0.01, 0.5)\n",
    "\n",
    "ax3 = plt.subplot(2,2,3)\n",
    "sns.heatmap(cm_list[2], cmap=\"YlGnBu\", vmin=0., vmax=1., annot=True, annot_kws={'size':45})\n",
    "plt.title(model_names[2], fontsize = model_names_size)\n",
    "plt.ylabel('Predicted label')\n",
    "plt.xlabel('True label')\n",
    "ax3.xaxis.set_label_coords(0.5, -0.015)\n",
    "ax3.yaxis.set_label_coords(-0.01, 0.5)\n",
    "\n",
    "ax4 = plt.subplot(2,2,4)\n",
    "sns.heatmap(cm_list[3], cmap=\"YlGnBu\", vmin=0., vmax=1., annot=True, annot_kws={'size':45})\n",
    "plt.title(model_names[3], fontsize = model_names_size)\n",
    "plt.ylabel('Predicted label')\n",
    "plt.xlabel('True label')\n",
    "ax4.xaxis.set_label_coords(0.5, -0.015)\n",
    "ax4.yaxis.set_label_coords(-0.01, 0.5)\n"
   ]
  },
  {
   "cell_type": "code",
   "execution_count": null,
   "id": "b26070cf-c7a4-45a3-a29a-0188169f43b0",
   "metadata": {},
   "outputs": [],
   "source": []
  },
  {
   "cell_type": "code",
   "execution_count": null,
   "id": "1f85a0a6-4b01-45f6-9398-b6554cd48c1e",
   "metadata": {
    "scrolled": true,
    "tags": []
   },
   "outputs": [],
   "source": []
  },
  {
   "cell_type": "code",
   "execution_count": null,
   "id": "0fdc0a1f-56b3-4383-ae7a-aef1cb487326",
   "metadata": {},
   "outputs": [],
   "source": []
  },
  {
   "cell_type": "code",
   "execution_count": null,
   "id": "085d6bba-e62e-4278-97c6-9a37d077144f",
   "metadata": {
    "scrolled": true,
    "tags": []
   },
   "outputs": [],
   "source": []
  },
  {
   "cell_type": "code",
   "execution_count": null,
   "id": "980d2e29-3979-4e06-9155-23afaf1c7b14",
   "metadata": {},
   "outputs": [],
   "source": []
  },
  {
   "cell_type": "code",
   "execution_count": null,
   "id": "b105acc9-27cb-409e-9822-5a5ebc1d7caa",
   "metadata": {},
   "outputs": [],
   "source": []
  },
  {
   "cell_type": "code",
   "execution_count": null,
   "id": "c2ba6ffb-8490-4cda-a180-ad44b04dfa56",
   "metadata": {},
   "outputs": [],
   "source": []
  },
  {
   "cell_type": "code",
   "execution_count": null,
   "id": "6b8685ba-7f63-4821-b350-f1f467784d42",
   "metadata": {},
   "outputs": [],
   "source": []
  },
  {
   "cell_type": "code",
   "execution_count": null,
   "id": "efc38bd1-07bb-491b-9b07-68717844c981",
   "metadata": {},
   "outputs": [],
   "source": []
  },
  {
   "cell_type": "code",
   "execution_count": null,
   "id": "346ee956-ef7f-4098-9ff5-066f2544e868",
   "metadata": {},
   "outputs": [],
   "source": []
  }
 ],
 "metadata": {
  "kernelspec": {
   "display_name": "Python 3",
   "language": "python",
   "name": "python3"
  },
  "language_info": {
   "codemirror_mode": {
    "name": "ipython",
    "version": 3
   },
   "file_extension": ".py",
   "mimetype": "text/x-python",
   "name": "python",
   "nbconvert_exporter": "python",
   "pygments_lexer": "ipython3",
   "version": "3.9.5"
  }
 },
 "nbformat": 4,
 "nbformat_minor": 5
}
