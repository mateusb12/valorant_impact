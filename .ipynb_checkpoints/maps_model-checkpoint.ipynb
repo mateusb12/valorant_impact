{
 "cells": [
  {
   "cell_type": "code",
   "execution_count": 2,
   "id": "4bb437c8-3537-4935-a79f-169c14eb3513",
   "metadata": {},
   "outputs": [
    {
     "data": {
      "image/png": "[encoded data removed]",
      "text/plain": [
       "<Figure size 432x288 with 1 Axes>"
      ]
     },
     "metadata": {
      "needs_background": "light"
     },
     "output_type": "display_data"
    }
   ],
   "source": [
    "import numpy as np\n",
    "import matplotlib.pyplot as plt\n",
    "from matplotlib.animation import FuncAnimation\n",
    "\n",
    "x_data = []\n",
    "y_data = []\n",
    "\n",
    "fig, ax = plt.subplots()\n",
    "ax.set_xlim(0, 105)\n",
    "ax.set_ylim(0, 12)\n",
    "line, = ax.plot(0, 0)\n",
    "\n",
    "def animation_frame(i):\n",
    "    x_data.append(i*10)\n",
    "    y_data.append(i)\n",
    "    \n",
    "    line.set_xdata(x_data)\n",
    "    line.set_ydata(y_data)\n",
    "    return line,\n",
    "\n",
    "animation = FuncAnimation(fig, func=animation_frame, frames=np.arange(0, 10, 0.01), interval=10)\n",
    "plt.show()"
   ]
  },
  {
   "cell_type": "code",
   "execution_count": null,
   "id": "4f57376c-98c7-4019-820b-ee9f9a06c9f6",
   "metadata": {},
   "outputs": [],
   "source": []
  }
 ],
 "metadata": {
  "kernelspec": {
   "display_name": "Python 3",
   "language": "python",
   "name": "python3"
  },
  "language_info": {
   "codemirror_mode": {
    "name": "ipython",
    "version": 3
   },
   "file_extension": ".py",
   "mimetype": "text/x-python",
   "name": "python",
   "nbconvert_exporter": "python",
   "pygments_lexer": "ipython3",
   "version": "3.8.8"
  }
 },
 "nbformat": 4,
 "nbformat_minor": 5
}
