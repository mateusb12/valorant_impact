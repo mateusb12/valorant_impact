{
 "cells": [
  {
   "cell_type": "markdown",
   "id": "46c90ae7-2c77-49c3-b516-ce31e0ff22b0",
   "metadata": {},
   "source": [
    "### <font color='blue'>1. Imports</font>"
   ]
  },
  {
   "cell_type": "code",
   "execution_count": 5,
   "id": "d2bf7c0e-6c8e-42c9-b05b-66b5ffffbea2",
   "metadata": {},
   "outputs": [],
   "source": [
    "import pandas as pd\n",
    "import numpy as np\n",
    "import seaborn as sns\n",
    "import lightgbm\n",
    "from matplotlib import pyplot as plt\n",
    "import matplotlib.ticker as ticker\n",
    "from matplotlib.pyplot import figure\n",
    "from matplotlib import rc\n",
    "from sklearn.model_selection import train_test_split\n",
    "from sklearn.tree import DecisionTreeClassifier\n",
    "from sklearn.linear_model import LogisticRegression\n",
    "from sklearn.neighbors import KNeighborsClassifier\n",
    "from sklearn.metrics import r2_score, explained_variance_score, confusion_matrix, accuracy_score, classification_report, log_loss, brier_score_loss"
   ]
  },
  {
   "cell_type": "code",
   "execution_count": 6,
   "id": "51391c1f-d49e-470d-82a2-6ad6496cac16",
   "metadata": {},
   "outputs": [],
   "source": [
    "path = 'D:\\\\Meus Documentos\\\\Python\\\\Notebooks\\\\Datascience\\\\Classification_datascience\\\\webscrapping\\\\matches\\\\rounds\\\\'\n",
    "dataset = pd.read_csv('{}combined_csv.csv'.format(path))"
   ]
  },
  {
   "cell_type": "code",
   "execution_count": 7,
   "id": "c1b8da9f-855b-49ab-ac20-cdfa23714814",
   "metadata": {},
   "outputs": [],
   "source": [
    "dataset = dataset.drop(['bestOF', 'RoundNumber', 'SeriesID', 'MatchID', 'RoundID', 'Spike_1_beep', 'Spike_2_beep'], axis=1)"
   ]
  },
  {
   "cell_type": "markdown",
   "id": "f468cbf6-fbe2-4c68-b33e-22a3375ba01b",
   "metadata": {},
   "source": [
    "### <font color='blue'>2. Exploratory analysis</font>"
   ]
  },
  {
   "cell_type": "code",
   "execution_count": 8,
   "id": "51a038a2-7196-400a-ad70-79f7a5e3fa5c",
   "metadata": {},
   "outputs": [
    {
     "data": {
      "text/plain": [
       "FinalWinner     1.000000\n",
       "ATK_alive       0.363306\n",
       "ATK_wealth      0.352964\n",
       "RoundTime       0.005816\n",
       "Def_has_Odin   -0.066448\n",
       "DEF_has_OP     -0.118722\n",
       "DEF_wealth     -0.354381\n",
       "DEF_alive      -0.370615\n",
       "Name: FinalWinner, dtype: float64"
      ]
     },
     "execution_count": 8,
     "metadata": {},
     "output_type": "execute_result"
    }
   ],
   "source": [
    "(dataset.corr())[\"FinalWinner\"].sort_values(ascending=False)"
   ]
  },
  {
   "cell_type": "markdown",
   "id": "6e0ec153-206d-4fa5-9307-3535a57bbce1",
   "metadata": {},
   "source": [
    "#### <font color='blue'> Checking for missing values</font>"
   ]
  },
  {
   "cell_type": "code",
   "execution_count": 9,
   "id": "aa9eea6d-2a62-4708-a810-e2ea39521ecc",
   "metadata": {},
   "outputs": [
    {
     "data": {
      "text/plain": [
       "RoundTime       0\n",
       "ATK_wealth      0\n",
       "DEF_wealth      0\n",
       "ATK_alive       0\n",
       "DEF_alive       0\n",
       "DEF_has_OP      0\n",
       "Def_has_Odin    0\n",
       "MapName         0\n",
       "FinalWinner     0\n",
       "dtype: int64"
      ]
     },
     "execution_count": 9,
     "metadata": {},
     "output_type": "execute_result"
    }
   ],
   "source": [
    "dataset.isnull().sum()"
   ]
  },
  {
   "cell_type": "markdown",
   "id": "3a5af641-5187-4b95-b50f-35036ac1a2bf",
   "metadata": {},
   "source": [
    "### <font color='blue'>2.1 Map vs Attack winrate</font>"
   ]
  },
  {
   "cell_type": "code",
   "execution_count": 16,
   "id": "b5fdc5aa-1466-4d0a-89c6-96bcb7c54ec6",
   "metadata": {},
   "outputs": [
    {
     "data": {
      "text/plain": [
       "<AxesSubplot:xlabel='MapName'>"
      ]
     },
     "execution_count": 16,
     "metadata": {},
     "output_type": "execute_result"
    },
    {
     "data": {
      "text/plain": [
       "<Figure size 432x288 with 0 Axes>"
      ]
     },
     "metadata": {},
     "output_type": "display_data"
    },
    {
     "data": {
      "image/png": "[encoded data removed]",
      "text/plain": [
       "<Figure size 1152x576 with 1 Axes>"
      ]
     },
     "metadata": {
      "needs_background": "light"
     },
     "output_type": "display_data"
    }
   ],
   "source": [
    "plt.figure()\n",
    "plt.rcParams.update({'font.size': 15}) # must set in top\n",
    "pd.crosstab(dataset.MapName,dataset.FinalWinner).plot(kind='bar', figsize=(16,8))"
   ]
  },
  {
   "cell_type": "markdown",
   "id": "04f8b0bb-0157-492b-88c3-c5851cca67c1",
   "metadata": {},
   "source": [
    "#### <font color='blue'>2.2 Creating dummies</font>"
   ]
  },
  {
   "cell_type": "code",
   "execution_count": 17,
   "id": "0a6d03fb-be04-4011-9cd9-a50ff0986e82",
   "metadata": {},
   "outputs": [],
   "source": [
    "dataset = pd.get_dummies(dataset, columns=['MapName'])"
   ]
  },
  {
   "cell_type": "markdown",
   "id": "95ee1f3e-8f7c-4875-a87f-27ad4623c68a",
   "metadata": {},
   "source": [
    "### <font color='blue'>3. Selecting features</font>"
   ]
  },
  {
   "cell_type": "code",
   "execution_count": 21,
   "id": "5a34d923-6696-4087-a0b6-00a3dc1c9af0",
   "metadata": {},
   "outputs": [],
   "source": [
    "X = dataset.drop(['FinalWinner'], axis='columns')\n",
    "Y = dataset.FinalWinner"
   ]
  },
  {
   "cell_type": "code",
   "execution_count": 22,
   "id": "58db49fc-f9ee-48a7-b0ca-ffff990def98",
   "metadata": {},
   "outputs": [
    {
     "data": {
      "text/plain": [
       "DecisionTreeClassifier(criterion='entropy', max_depth=10, random_state=15)"
      ]
     },
     "execution_count": 22,
     "metadata": {},
     "output_type": "execute_result"
    }
   ],
   "source": [
    "dt = DecisionTreeClassifier(criterion='entropy', max_depth=10, random_state=15)\n",
    "\n",
    "dt.fit(X, Y)"
   ]
  },
  {
   "cell_type": "code",
   "execution_count": 23,
   "id": "0c68d554-a876-4f13-a4c8-48c8e0dc59df",
   "metadata": {},
   "outputs": [
    {
     "name": "stdout",
     "output_type": "stream",
     "text": [
      "The feature importance for RoundTime is 0.89\n",
      "The feature importance for ATK_wealth is 35.13\n",
      "The feature importance for DEF_wealth is 21.69\n",
      "The feature importance for ATK_alive is 21.02\n",
      "The feature importance for DEF_alive is 21.04\n",
      "The feature importance for DEF_has_OP is 0.01\n",
      "The feature importance for Def_has_Odin is 0.02\n",
      "The feature importance for MapName_Ascent is 0.04\n",
      "The feature importance for MapName_Bind is 0.02\n",
      "The feature importance for MapName_Breeze is 0.01\n",
      "The feature importance for MapName_Haven is 0.05\n",
      "The feature importance for MapName_Icebox is 0.06\n",
      "The feature importance for MapName_Split is 0.03\n"
     ]
    }
   ],
   "source": [
    "feature_column = []\n",
    "feature_value = []\n",
    "\n",
    "for i, column in enumerate(X):\n",
    "    print('The feature importance for {} is {}'.format(column, round(dt.feature_importances_[i]*100, 2)))\n",
    "    feature_column.append(column)\n",
    "    feature_value.append(dt.feature_importances_[i])\n",
    "    \n",
    "feature_df = pd.DataFrame(zip(feature_column, feature_value), columns=['Feature', 'Feature Importance'])\n",
    "feature_df = feature_df.sort_values('Feature Importance', ascending = False).reset_index()"
   ]
  },
  {
   "cell_type": "code",
   "execution_count": 24,
   "id": "6146b2fd-f1f3-40da-94a1-d5728bb790fe",
   "metadata": {},
   "outputs": [
    {
     "data": {
      "text/html": [
       "<div>\n",
       "<style scoped>\n",
       "    .dataframe tbody tr th:only-of-type {\n",
       "        vertical-align: middle;\n",
       "    }\n",
       "\n",
       "    .dataframe tbody tr th {\n",
       "        vertical-align: top;\n",
       "    }\n",
       "\n",
       "    .dataframe thead th {\n",
       "        text-align: right;\n",
       "    }\n",
       "</style>\n",
       "<table border=\"1\" class=\"dataframe\">\n",
       "  <thead>\n",
       "    <tr style=\"text-align: right;\">\n",
       "      <th></th>\n",
       "      <th>index</th>\n",
       "      <th>Feature</th>\n",
       "      <th>Feature Importance</th>\n",
       "    </tr>\n",
       "  </thead>\n",
       "  <tbody>\n",
       "    <tr>\n",
       "      <th>0</th>\n",
       "      <td>1</td>\n",
       "      <td>ATK_wealth</td>\n",
       "      <td>0.351330</td>\n",
       "    </tr>\n",
       "    <tr>\n",
       "      <th>1</th>\n",
       "      <td>2</td>\n",
       "      <td>DEF_wealth</td>\n",
       "      <td>0.216882</td>\n",
       "    </tr>\n",
       "    <tr>\n",
       "      <th>2</th>\n",
       "      <td>4</td>\n",
       "      <td>DEF_alive</td>\n",
       "      <td>0.210360</td>\n",
       "    </tr>\n",
       "    <tr>\n",
       "      <th>3</th>\n",
       "      <td>3</td>\n",
       "      <td>ATK_alive</td>\n",
       "      <td>0.210191</td>\n",
       "    </tr>\n",
       "    <tr>\n",
       "      <th>4</th>\n",
       "      <td>0</td>\n",
       "      <td>RoundTime</td>\n",
       "      <td>0.008907</td>\n",
       "    </tr>\n",
       "    <tr>\n",
       "      <th>5</th>\n",
       "      <td>11</td>\n",
       "      <td>MapName_Icebox</td>\n",
       "      <td>0.000583</td>\n",
       "    </tr>\n",
       "    <tr>\n",
       "      <th>6</th>\n",
       "      <td>10</td>\n",
       "      <td>MapName_Haven</td>\n",
       "      <td>0.000454</td>\n",
       "    </tr>\n",
       "    <tr>\n",
       "      <th>7</th>\n",
       "      <td>7</td>\n",
       "      <td>MapName_Ascent</td>\n",
       "      <td>0.000435</td>\n",
       "    </tr>\n",
       "    <tr>\n",
       "      <th>8</th>\n",
       "      <td>12</td>\n",
       "      <td>MapName_Split</td>\n",
       "      <td>0.000252</td>\n",
       "    </tr>\n",
       "    <tr>\n",
       "      <th>9</th>\n",
       "      <td>8</td>\n",
       "      <td>MapName_Bind</td>\n",
       "      <td>0.000228</td>\n",
       "    </tr>\n",
       "    <tr>\n",
       "      <th>10</th>\n",
       "      <td>6</td>\n",
       "      <td>Def_has_Odin</td>\n",
       "      <td>0.000207</td>\n",
       "    </tr>\n",
       "    <tr>\n",
       "      <th>11</th>\n",
       "      <td>9</td>\n",
       "      <td>MapName_Breeze</td>\n",
       "      <td>0.000088</td>\n",
       "    </tr>\n",
       "    <tr>\n",
       "      <th>12</th>\n",
       "      <td>5</td>\n",
       "      <td>DEF_has_OP</td>\n",
       "      <td>0.000086</td>\n",
       "    </tr>\n",
       "  </tbody>\n",
       "</table>\n",
       "</div>"
      ],
      "text/plain": [
       "    index         Feature  Feature Importance\n",
       "0       1      ATK_wealth            0.351330\n",
       "1       2      DEF_wealth            0.216882\n",
       "2       4       DEF_alive            0.210360\n",
       "3       3       ATK_alive            0.210191\n",
       "4       0       RoundTime            0.008907\n",
       "5      11  MapName_Icebox            0.000583\n",
       "6      10   MapName_Haven            0.000454\n",
       "7       7  MapName_Ascent            0.000435\n",
       "8      12   MapName_Split            0.000252\n",
       "9       8    MapName_Bind            0.000228\n",
       "10      6    Def_has_Odin            0.000207\n",
       "11      9  MapName_Breeze            0.000088\n",
       "12      5      DEF_has_OP            0.000086"
      ]
     },
     "execution_count": 24,
     "metadata": {},
     "output_type": "execute_result"
    }
   ],
   "source": [
    "feature_df"
   ]
  },
  {
   "cell_type": "markdown",
   "id": "f74166a5-5941-466c-9ffe-9ce20979bc77",
   "metadata": {},
   "source": [
    "### <font color='blue'>4. Using selected features</font>"
   ]
  },
  {
   "cell_type": "code",
   "execution_count": 26,
   "id": "f80c22ad-fda9-4c4a-aa41-300dcc3ffc3a",
   "metadata": {
    "scrolled": true,
    "tags": []
   },
   "outputs": [
    {
     "data": {
      "text/plain": [
       "0         ATK_wealth\n",
       "1         DEF_wealth\n",
       "2          DEF_alive\n",
       "3          ATK_alive\n",
       "4          RoundTime\n",
       "5     MapName_Icebox\n",
       "6      MapName_Haven\n",
       "7     MapName_Ascent\n",
       "8      MapName_Split\n",
       "9       MapName_Bind\n",
       "10      Def_has_Odin\n",
       "11    MapName_Breeze\n",
       "12        DEF_has_OP\n",
       "Name: Feature, dtype: object"
      ]
     },
     "execution_count": 26,
     "metadata": {},
     "output_type": "execute_result"
    }
   ],
   "source": [
    "feature_df['Feature']"
   ]
  },
  {
   "cell_type": "markdown",
   "id": "882df78f-a30a-4163-8ee2-94a61945d239",
   "metadata": {},
   "source": [
    "### <font color='blue'>5. Splitting train and test</font>"
   ]
  },
  {
   "cell_type": "code",
   "execution_count": 27,
   "id": "32d5e448-a645-4f75-95eb-b6b1e789db60",
   "metadata": {},
   "outputs": [],
   "source": [
    "X_train, X_test, Y_train, Y_test = train_test_split(X, Y, train_size=0.8, test_size=0.2, random_state=15)"
   ]
  },
  {
   "cell_type": "code",
   "execution_count": 28,
   "id": "fbfe9b9a-d22b-486c-b415-2237278b3a49",
   "metadata": {},
   "outputs": [],
   "source": [
    "X_train, X_valid, Y_train, Y_valid = train_test_split(X_train, Y_train, train_size=0.9, test_size=0.1, random_state=15)"
   ]
  },
  {
   "cell_type": "code",
   "execution_count": 29,
   "id": "a29618cb-2346-4c7b-be01-4adf035fd642",
   "metadata": {},
   "outputs": [
    {
     "data": {
      "text/plain": [
       "Text(0.5, 0, 'train')"
      ]
     },
     "execution_count": 29,
     "metadata": {},
     "output_type": "execute_result"
    },
    {
     "data": {
      "image/png": "[encoded data removed]",
      "text/plain": [
       "<Figure size 432x288 with 1 Axes>"
      ]
     },
     "metadata": {
      "needs_background": "light"
     },
     "output_type": "display_data"
    }
   ],
   "source": [
    "ax = sns.countplot(x=Y_train, palette='Set3', linewidth=2.0, edgecolor=\".2\", zorder=3)\n",
    "plt.xlabel('train', fontsize=20, labelpad=-10)"
   ]
  },
  {
   "cell_type": "code",
   "execution_count": 30,
   "id": "3b95f5b2-4394-4d24-bad7-1e7d111cb679",
   "metadata": {},
   "outputs": [
    {
     "data": {
      "text/plain": [
       "Text(0.5, 0, 'test')"
      ]
     },
     "execution_count": 30,
     "metadata": {},
     "output_type": "execute_result"
    },
    {
     "data": {
      "image/png": "[encoded data removed]",
      "text/plain": [
       "<Figure size 432x288 with 1 Axes>"
      ]
     },
     "metadata": {
      "needs_background": "light"
     },
     "output_type": "display_data"
    }
   ],
   "source": [
    "ax = sns.countplot(x=Y_train, palette='Set3', linewidth=2.0, edgecolor=\".2\", zorder=3)\n",
    "plt.xlabel('test', fontsize=20, labelpad=-10)"
   ]
  },
  {
   "cell_type": "markdown",
   "id": "178fb725-57c0-4278-9a83-78c68121ff85",
   "metadata": {},
   "source": [
    "### <font color='blue'>6. Logistic Regression</font>"
   ]
  },
  {
   "cell_type": "code",
   "execution_count": 31,
   "id": "e73ee333-fa03-4028-9847-84bd6da44dea",
   "metadata": {},
   "outputs": [
    {
     "data": {
      "text/plain": [
       "LogisticRegression(C=0.91, random_state=15, solver='liblinear')"
      ]
     },
     "execution_count": 31,
     "metadata": {},
     "output_type": "execute_result"
    }
   ],
   "source": [
    "log_reg = LogisticRegression(C=0.91, random_state=15, solver = 'liblinear')\n",
    "log_reg.fit(X_train, Y_train)"
   ]
  },
  {
   "cell_type": "markdown",
   "id": "c5e07934-b442-4382-a0f6-00776e93754a",
   "metadata": {},
   "source": [
    "### <font color='blue'>7. Decision Tree</font>"
   ]
  },
  {
   "cell_type": "code",
   "execution_count": null,
   "id": "7b381594-8ede-41b1-869d-dc2b26e5dd93",
   "metadata": {},
   "outputs": [],
   "source": []
  },
  {
   "cell_type": "markdown",
   "id": "05abe4e4-dbfd-440b-a47f-d7462026773b",
   "metadata": {},
   "source": [
    "### <font color='blue'>8. KNN</font>"
   ]
  },
  {
   "cell_type": "code",
   "execution_count": null,
   "id": "ab66bd1a-2529-4066-9afc-71e2b881d857",
   "metadata": {},
   "outputs": [],
   "source": []
  },
  {
   "cell_type": "markdown",
   "id": "bc58dc45-2559-41dd-adc4-536db7839fdb",
   "metadata": {},
   "source": [
    "### <font color='blue'>9. Light BGM</font>"
   ]
  },
  {
   "cell_type": "code",
   "execution_count": null,
   "id": "81791e1f-f234-4405-b0b3-1e2a9ede9ef2",
   "metadata": {},
   "outputs": [],
   "source": []
  },
  {
   "cell_type": "markdown",
   "id": "36a70979-87c8-4895-b08d-24970735a7a2",
   "metadata": {},
   "source": [
    "#### <font color='green'>Evaluating model </font>"
   ]
  },
  {
   "cell_type": "markdown",
   "id": "240826f0-5467-4fdf-a67a-ed4a10ebcaca",
   "metadata": {},
   "source": [
    "### <font color='blue'>Code for metric analytics </font>"
   ]
  },
  {
   "cell_type": "code",
   "execution_count": null,
   "id": "4fa8c879-8e19-46dd-9fca-2573b05ba0c4",
   "metadata": {},
   "outputs": [],
   "source": []
  },
  {
   "cell_type": "markdown",
   "id": "7852faa0-3e89-46c7-b540-f584c810e7f5",
   "metadata": {},
   "source": [
    "### <font color='blue'>Parameters </font>"
   ]
  },
  {
   "cell_type": "code",
   "execution_count": null,
   "id": "ba58c97d-b8e6-4bf5-9d60-c1d92c432ce2",
   "metadata": {},
   "outputs": [],
   "source": []
  },
  {
   "cell_type": "markdown",
   "id": "82f68b7e-9c79-429c-b04a-f7d74b1f3402",
   "metadata": {},
   "source": [
    "# <font color='blue'>MODEL PRECISION </font>"
   ]
  },
  {
   "cell_type": "code",
   "execution_count": null,
   "id": "3c521d96-8662-4560-a60b-4af2f1c380bc",
   "metadata": {},
   "outputs": [],
   "source": []
  },
  {
   "cell_type": "markdown",
   "id": "5ffa519a-f382-4e3c-b2fe-a9b9f31f07a9",
   "metadata": {},
   "source": [
    "# <font color='blue'>OVERFITTING </font>"
   ]
  },
  {
   "cell_type": "code",
   "execution_count": null,
   "id": "ae0536f3-2c58-4f88-9504-b346ffd1968e",
   "metadata": {},
   "outputs": [],
   "source": []
  },
  {
   "cell_type": "markdown",
   "id": "6f16bdfa-472f-4c0e-9d67-ae385c93c129",
   "metadata": {},
   "source": [
    "# <font color='blue'>CONFUSION MATRIX </font>"
   ]
  },
  {
   "cell_type": "code",
   "execution_count": null,
   "id": "6a8e087d-260a-49bd-9fc4-f827f8fa7433",
   "metadata": {},
   "outputs": [],
   "source": []
  }
 ],
 "metadata": {
  "kernelspec": {
   "display_name": "Python 3",
   "language": "python",
   "name": "python3"
  },
  "language_info": {
   "codemirror_mode": {
    "name": "ipython",
    "version": 3
   },
   "file_extension": ".py",
   "mimetype": "text/x-python",
   "name": "python",
   "nbconvert_exporter": "python",
   "pygments_lexer": "ipython3",
   "version": "3.9.5"
  }
 },
 "nbformat": 4,
 "nbformat_minor": 5
}
