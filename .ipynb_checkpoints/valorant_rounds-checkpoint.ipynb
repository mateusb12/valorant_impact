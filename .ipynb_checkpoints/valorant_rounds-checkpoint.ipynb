{
 "cells": [
  {
   "cell_type": "markdown",
   "id": "46c90ae7-2c77-49c3-b516-ce31e0ff22b0",
   "metadata": {},
   "source": [
    "### <font color='blue'>1. Imports</font>"
   ]
  },
  {
   "cell_type": "code",
   "execution_count": 1,
   "id": "d2bf7c0e-6c8e-42c9-b05b-66b5ffffbea2",
   "metadata": {},
   "outputs": [],
   "source": [
    "import pandas as pd\n",
    "import numpy as np\n",
    "import seaborn as sns\n",
    "import lightgbm\n",
    "from matplotlib import pyplot as plt\n",
    "import matplotlib.ticker as ticker\n",
    "from matplotlib.pyplot import figure\n",
    "from matplotlib import rc\n",
    "from sklearn.model_selection import train_test_split\n",
    "from sklearn.tree import DecisionTreeClassifier\n",
    "from sklearn.linear_model import LogisticRegression\n",
    "from sklearn.neighbors import KNeighborsClassifier\n",
    "from sklearn.metrics import r2_score, explained_variance_score, confusion_matrix, accuracy_score, classification_report, log_loss, brier_score_loss"
   ]
  },
  {
   "cell_type": "code",
   "execution_count": 2,
   "id": "51391c1f-d49e-470d-82a2-6ad6496cac16",
   "metadata": {},
   "outputs": [],
   "source": [
    "path = 'D:\\\\Meus Documentos\\\\Python\\\\Notebooks\\\\Datascience\\\\Classification_datascience\\\\webscrapping\\\\matches\\\\rounds\\\\'\n",
    "dataset = pd.read_csv('{}combined_csv.csv'.format(path))"
   ]
  },
  {
   "cell_type": "code",
   "execution_count": 3,
   "id": "c1b8da9f-855b-49ab-ac20-cdfa23714814",
   "metadata": {},
   "outputs": [],
   "source": [
    "dataset = dataset.drop(['bestOF', 'RoundNumber', 'SeriesID', 'MatchID', 'RoundID', 'RoundTime'], axis=1)"
   ]
  },
  {
   "cell_type": "markdown",
   "id": "f468cbf6-fbe2-4c68-b33e-22a3375ba01b",
   "metadata": {},
   "source": [
    "### <font color='blue'>2. Exploratory analysis</font>"
   ]
  },
  {
   "cell_type": "code",
   "execution_count": 4,
   "id": "51a038a2-7196-400a-ad70-79f7a5e3fa5c",
   "metadata": {},
   "outputs": [
    {
     "data": {
      "text/plain": [
       "FinalWinner     1.000000\n",
       "ATK_alive       0.363306\n",
       "ATK_wealth      0.352964\n",
       "Spike_1_beep    0.018829\n",
       "Spike_2_beep    0.018427\n",
       "Def_has_Odin   -0.066448\n",
       "DEF_has_OP     -0.118722\n",
       "DEF_wealth     -0.354381\n",
       "DEF_alive      -0.370615\n",
       "Name: FinalWinner, dtype: float64"
      ]
     },
     "execution_count": 4,
     "metadata": {},
     "output_type": "execute_result"
    }
   ],
   "source": [
    "(dataset.corr())[\"FinalWinner\"].sort_values(ascending=False)"
   ]
  },
  {
   "cell_type": "markdown",
   "id": "6e0ec153-206d-4fa5-9307-3535a57bbce1",
   "metadata": {},
   "source": [
    "#### <font color='blue'> Checking for missing values</font>"
   ]
  },
  {
   "cell_type": "code",
   "execution_count": 5,
   "id": "aa9eea6d-2a62-4708-a810-e2ea39521ecc",
   "metadata": {},
   "outputs": [
    {
     "data": {
      "text/plain": [
       "ATK_wealth      0\n",
       "DEF_wealth      0\n",
       "ATK_alive       0\n",
       "DEF_alive       0\n",
       "DEF_has_OP      0\n",
       "Def_has_Odin    0\n",
       "Spike_1_beep    0\n",
       "Spike_2_beep    0\n",
       "MapName         0\n",
       "FinalWinner     0\n",
       "dtype: int64"
      ]
     },
     "execution_count": 5,
     "metadata": {},
     "output_type": "execute_result"
    }
   ],
   "source": [
    "dataset.isnull().sum()"
   ]
  },
  {
   "cell_type": "markdown",
   "id": "3a5af641-5187-4b95-b50f-35036ac1a2bf",
   "metadata": {},
   "source": [
    "### <font color='blue'>2.1 Map vs Attack winrate</font>"
   ]
  },
  {
   "cell_type": "code",
   "execution_count": 6,
   "id": "b5fdc5aa-1466-4d0a-89c6-96bcb7c54ec6",
   "metadata": {},
   "outputs": [
    {
     "data": {
      "text/plain": [
       "<AxesSubplot:xlabel='MapName'>"
      ]
     },
     "execution_count": 6,
     "metadata": {},
     "output_type": "execute_result"
    },
    {
     "data": {
      "text/plain": [
       "<Figure size 432x288 with 0 Axes>"
      ]
     },
     "metadata": {},
     "output_type": "display_data"
    },
    {
     "data": {
      "image/png": "[encoded data removed]",
      "text/plain": [
       "<Figure size 1152x576 with 1 Axes>"
      ]
     },
     "metadata": {
      "needs_background": "light"
     },
     "output_type": "display_data"
    }
   ],
   "source": [
    "plt.figure()\n",
    "plt.rcParams.update({'font.size': 15}) # must set in top\n",
    "pd.crosstab(dataset.MapName,dataset.FinalWinner).plot(kind='bar', figsize=(16,8))"
   ]
  },
  {
   "cell_type": "markdown",
   "id": "04f8b0bb-0157-492b-88c3-c5851cca67c1",
   "metadata": {},
   "source": [
    "#### <font color='blue'>2.2 Creating dummies</font>"
   ]
  },
  {
   "cell_type": "code",
   "execution_count": 7,
   "id": "0a6d03fb-be04-4011-9cd9-a50ff0986e82",
   "metadata": {},
   "outputs": [],
   "source": [
    "dataset = pd.get_dummies(dataset, columns=['MapName'])"
   ]
  },
  {
   "cell_type": "markdown",
   "id": "95ee1f3e-8f7c-4875-a87f-27ad4623c68a",
   "metadata": {},
   "source": [
    "### <font color='blue'>3. Selecting features</font>"
   ]
  },
  {
   "cell_type": "code",
   "execution_count": 8,
   "id": "5a34d923-6696-4087-a0b6-00a3dc1c9af0",
   "metadata": {},
   "outputs": [],
   "source": [
    "X = dataset.drop(['FinalWinner'], axis='columns')\n",
    "Y = dataset.FinalWinner"
   ]
  },
  {
   "cell_type": "code",
   "execution_count": 9,
   "id": "58db49fc-f9ee-48a7-b0ca-ffff990def98",
   "metadata": {},
   "outputs": [
    {
     "data": {
      "text/plain": [
       "DecisionTreeClassifier(criterion='entropy', max_depth=10, random_state=15)"
      ]
     },
     "execution_count": 9,
     "metadata": {},
     "output_type": "execute_result"
    }
   ],
   "source": [
    "dt = DecisionTreeClassifier(criterion='entropy', max_depth=10, random_state=15)\n",
    "\n",
    "dt.fit(X, Y)"
   ]
  },
  {
   "cell_type": "code",
   "execution_count": 10,
   "id": "0c68d554-a876-4f13-a4c8-48c8e0dc59df",
   "metadata": {},
   "outputs": [
    {
     "name": "stdout",
     "output_type": "stream",
     "text": [
      "The feature importance for ATK_wealth is 35.34\n",
      "The feature importance for DEF_wealth is 21.81\n",
      "The feature importance for ATK_alive is 21.12\n",
      "The feature importance for DEF_alive is 21.12\n",
      "The feature importance for DEF_has_OP is 0.03\n",
      "The feature importance for Def_has_Odin is 0.02\n",
      "The feature importance for Spike_1_beep is 0.12\n",
      "The feature importance for Spike_2_beep is 0.17\n",
      "The feature importance for MapName_Ascent is 0.06\n",
      "The feature importance for MapName_Bind is 0.03\n",
      "The feature importance for MapName_Breeze is 0.02\n",
      "The feature importance for MapName_Haven is 0.06\n",
      "The feature importance for MapName_Icebox is 0.06\n",
      "The feature importance for MapName_Split is 0.05\n"
     ]
    }
   ],
   "source": [
    "feature_column = []\n",
    "feature_value = []\n",
    "\n",
    "for i, column in enumerate(X):\n",
    "    print('The feature importance for {} is {}'.format(column, round(dt.feature_importances_[i]*100, 2)))\n",
    "    feature_column.append(column)\n",
    "    feature_value.append(dt.feature_importances_[i])\n",
    "    \n",
    "feature_df = pd.DataFrame(zip(feature_column, feature_value), columns=['Feature', 'Feature Importance'])\n",
    "feature_df = feature_df.sort_values('Feature Importance', ascending = False).reset_index()"
   ]
  },
  {
   "cell_type": "code",
   "execution_count": 11,
   "id": "6146b2fd-f1f3-40da-94a1-d5728bb790fe",
   "metadata": {},
   "outputs": [
    {
     "data": {
      "text/html": [
       "<div>\n",
       "<style scoped>\n",
       "    .dataframe tbody tr th:only-of-type {\n",
       "        vertical-align: middle;\n",
       "    }\n",
       "\n",
       "    .dataframe tbody tr th {\n",
       "        vertical-align: top;\n",
       "    }\n",
       "\n",
       "    .dataframe thead th {\n",
       "        text-align: right;\n",
       "    }\n",
       "</style>\n",
       "<table border=\"1\" class=\"dataframe\">\n",
       "  <thead>\n",
       "    <tr style=\"text-align: right;\">\n",
       "      <th></th>\n",
       "      <th>index</th>\n",
       "      <th>Feature</th>\n",
       "      <th>Feature Importance</th>\n",
       "    </tr>\n",
       "  </thead>\n",
       "  <tbody>\n",
       "    <tr>\n",
       "      <th>0</th>\n",
       "      <td>0</td>\n",
       "      <td>ATK_wealth</td>\n",
       "      <td>0.353379</td>\n",
       "    </tr>\n",
       "    <tr>\n",
       "      <th>1</th>\n",
       "      <td>1</td>\n",
       "      <td>DEF_wealth</td>\n",
       "      <td>0.218136</td>\n",
       "    </tr>\n",
       "    <tr>\n",
       "      <th>2</th>\n",
       "      <td>3</td>\n",
       "      <td>DEF_alive</td>\n",
       "      <td>0.211175</td>\n",
       "    </tr>\n",
       "    <tr>\n",
       "      <th>3</th>\n",
       "      <td>2</td>\n",
       "      <td>ATK_alive</td>\n",
       "      <td>0.211155</td>\n",
       "    </tr>\n",
       "    <tr>\n",
       "      <th>4</th>\n",
       "      <td>7</td>\n",
       "      <td>Spike_2_beep</td>\n",
       "      <td>0.001714</td>\n",
       "    </tr>\n",
       "    <tr>\n",
       "      <th>5</th>\n",
       "      <td>6</td>\n",
       "      <td>Spike_1_beep</td>\n",
       "      <td>0.001157</td>\n",
       "    </tr>\n",
       "    <tr>\n",
       "      <th>6</th>\n",
       "      <td>12</td>\n",
       "      <td>MapName_Icebox</td>\n",
       "      <td>0.000646</td>\n",
       "    </tr>\n",
       "    <tr>\n",
       "      <th>7</th>\n",
       "      <td>8</td>\n",
       "      <td>MapName_Ascent</td>\n",
       "      <td>0.000620</td>\n",
       "    </tr>\n",
       "    <tr>\n",
       "      <th>8</th>\n",
       "      <td>11</td>\n",
       "      <td>MapName_Haven</td>\n",
       "      <td>0.000557</td>\n",
       "    </tr>\n",
       "    <tr>\n",
       "      <th>9</th>\n",
       "      <td>13</td>\n",
       "      <td>MapName_Split</td>\n",
       "      <td>0.000511</td>\n",
       "    </tr>\n",
       "    <tr>\n",
       "      <th>10</th>\n",
       "      <td>9</td>\n",
       "      <td>MapName_Bind</td>\n",
       "      <td>0.000339</td>\n",
       "    </tr>\n",
       "    <tr>\n",
       "      <th>11</th>\n",
       "      <td>4</td>\n",
       "      <td>DEF_has_OP</td>\n",
       "      <td>0.000252</td>\n",
       "    </tr>\n",
       "    <tr>\n",
       "      <th>12</th>\n",
       "      <td>5</td>\n",
       "      <td>Def_has_Odin</td>\n",
       "      <td>0.000207</td>\n",
       "    </tr>\n",
       "    <tr>\n",
       "      <th>13</th>\n",
       "      <td>10</td>\n",
       "      <td>MapName_Breeze</td>\n",
       "      <td>0.000152</td>\n",
       "    </tr>\n",
       "  </tbody>\n",
       "</table>\n",
       "</div>"
      ],
      "text/plain": [
       "    index         Feature  Feature Importance\n",
       "0       0      ATK_wealth            0.353379\n",
       "1       1      DEF_wealth            0.218136\n",
       "2       3       DEF_alive            0.211175\n",
       "3       2       ATK_alive            0.211155\n",
       "4       7    Spike_2_beep            0.001714\n",
       "5       6    Spike_1_beep            0.001157\n",
       "6      12  MapName_Icebox            0.000646\n",
       "7       8  MapName_Ascent            0.000620\n",
       "8      11   MapName_Haven            0.000557\n",
       "9      13   MapName_Split            0.000511\n",
       "10      9    MapName_Bind            0.000339\n",
       "11      4      DEF_has_OP            0.000252\n",
       "12      5    Def_has_Odin            0.000207\n",
       "13     10  MapName_Breeze            0.000152"
      ]
     },
     "execution_count": 11,
     "metadata": {},
     "output_type": "execute_result"
    }
   ],
   "source": [
    "feature_df"
   ]
  },
  {
   "cell_type": "markdown",
   "id": "f74166a5-5941-466c-9ffe-9ce20979bc77",
   "metadata": {},
   "source": [
    "### <font color='blue'>4. Using selected features</font>"
   ]
  },
  {
   "cell_type": "code",
   "execution_count": 12,
   "id": "f80c22ad-fda9-4c4a-aa41-300dcc3ffc3a",
   "metadata": {
    "scrolled": true,
    "tags": []
   },
   "outputs": [
    {
     "data": {
      "text/plain": [
       "0         ATK_wealth\n",
       "1         DEF_wealth\n",
       "2          DEF_alive\n",
       "3          ATK_alive\n",
       "4       Spike_2_beep\n",
       "5       Spike_1_beep\n",
       "6     MapName_Icebox\n",
       "7     MapName_Ascent\n",
       "8      MapName_Haven\n",
       "9      MapName_Split\n",
       "10      MapName_Bind\n",
       "11        DEF_has_OP\n",
       "12      Def_has_Odin\n",
       "13    MapName_Breeze\n",
       "Name: Feature, dtype: object"
      ]
     },
     "execution_count": 12,
     "metadata": {},
     "output_type": "execute_result"
    }
   ],
   "source": [
    "feature_df['Feature']"
   ]
  },
  {
   "cell_type": "markdown",
   "id": "882df78f-a30a-4163-8ee2-94a61945d239",
   "metadata": {},
   "source": [
    "### <font color='blue'>5. Splitting train and test</font>"
   ]
  },
  {
   "cell_type": "code",
   "execution_count": 13,
   "id": "32d5e448-a645-4f75-95eb-b6b1e789db60",
   "metadata": {},
   "outputs": [],
   "source": [
    "X_train, X_test, Y_train, Y_test = train_test_split(X, Y, train_size=0.8, test_size=0.2, random_state=15)"
   ]
  },
  {
   "cell_type": "code",
   "execution_count": 14,
   "id": "fbfe9b9a-d22b-486c-b415-2237278b3a49",
   "metadata": {},
   "outputs": [],
   "source": [
    "X_train, X_valid, Y_train, Y_valid = train_test_split(X_train, Y_train, train_size=0.9, test_size=0.1, random_state=15)"
   ]
  },
  {
   "cell_type": "code",
   "execution_count": 15,
   "id": "a29618cb-2346-4c7b-be01-4adf035fd642",
   "metadata": {},
   "outputs": [
    {
     "data": {
      "text/plain": [
       "Text(0.5, 0, 'train')"
      ]
     },
     "execution_count": 15,
     "metadata": {},
     "output_type": "execute_result"
    },
    {
     "data": {
      "image/png": "[encoded data removed]",
      "text/plain": [
       "<Figure size 432x288 with 1 Axes>"
      ]
     },
     "metadata": {
      "needs_background": "light"
     },
     "output_type": "display_data"
    }
   ],
   "source": [
    "ax = sns.countplot(x=Y_train, palette='Set3', linewidth=2.0, edgecolor=\".2\", zorder=3)\n",
    "plt.xlabel('train', fontsize=20, labelpad=-10)"
   ]
  },
  {
   "cell_type": "code",
   "execution_count": 16,
   "id": "3b95f5b2-4394-4d24-bad7-1e7d111cb679",
   "metadata": {},
   "outputs": [
    {
     "data": {
      "text/plain": [
       "Text(0.5, 0, 'test')"
      ]
     },
     "execution_count": 16,
     "metadata": {},
     "output_type": "execute_result"
    },
    {
     "data": {
      "image/png": "[encoded data removed]",
      "text/plain": [
       "<Figure size 432x288 with 1 Axes>"
      ]
     },
     "metadata": {
      "needs_background": "light"
     },
     "output_type": "display_data"
    }
   ],
   "source": [
    "ax = sns.countplot(x=Y_train, palette='Set3', linewidth=2.0, edgecolor=\".2\", zorder=3)\n",
    "plt.xlabel('test', fontsize=20, labelpad=-10)"
   ]
  },
  {
   "cell_type": "markdown",
   "id": "178fb725-57c0-4278-9a83-78c68121ff85",
   "metadata": {},
   "source": [
    "### <font color='blue'>6. Logistic Regression</font>"
   ]
  },
  {
   "cell_type": "code",
   "execution_count": 17,
   "id": "e73ee333-fa03-4028-9847-84bd6da44dea",
   "metadata": {},
   "outputs": [
    {
     "data": {
      "text/plain": [
       "LogisticRegression(C=0.91, random_state=15, solver='liblinear')"
      ]
     },
     "execution_count": 17,
     "metadata": {},
     "output_type": "execute_result"
    }
   ],
   "source": [
    "log_reg = LogisticRegression(C=0.91, random_state=15, solver = 'liblinear')\n",
    "log_reg.fit(X_train, Y_train)"
   ]
  },
  {
   "cell_type": "markdown",
   "id": "c5e07934-b442-4382-a0f6-00776e93754a",
   "metadata": {},
   "source": [
    "### <font color='blue'>7. Decision Tree</font>"
   ]
  },
  {
   "cell_type": "code",
   "execution_count": 18,
   "id": "7b381594-8ede-41b1-869d-dc2b26e5dd93",
   "metadata": {},
   "outputs": [
    {
     "data": {
      "text/plain": [
       "DecisionTreeClassifier()"
      ]
     },
     "execution_count": 18,
     "metadata": {},
     "output_type": "execute_result"
    }
   ],
   "source": [
    "tree = DecisionTreeClassifier(criterion=\"gini\").fit(X_train, Y_train)\n",
    "tree.fit(X_train, Y_train)"
   ]
  },
  {
   "cell_type": "markdown",
   "id": "05abe4e4-dbfd-440b-a47f-d7462026773b",
   "metadata": {},
   "source": [
    "### <font color='blue'>8. KNN</font>"
   ]
  },
  {
   "cell_type": "code",
   "execution_count": 19,
   "id": "ab66bd1a-2529-4066-9afc-71e2b881d857",
   "metadata": {},
   "outputs": [
    {
     "data": {
      "text/plain": [
       "KNeighborsClassifier(n_neighbors=2, p=8)"
      ]
     },
     "execution_count": 19,
     "metadata": {},
     "output_type": "execute_result"
    }
   ],
   "source": [
    "knn = KNeighborsClassifier(n_neighbors=2, p=8)\n",
    "knn.fit(X_train,Y_train)"
   ]
  },
  {
   "cell_type": "markdown",
   "id": "bc58dc45-2559-41dd-adc4-536db7839fdb",
   "metadata": {},
   "source": [
    "### <font color='blue'>9. Light BGM</font>"
   ]
  },
  {
   "cell_type": "code",
   "execution_count": 20,
   "id": "81791e1f-f234-4405-b0b3-1e2a9ede9ef2",
   "metadata": {},
   "outputs": [
    {
     "data": {
      "text/plain": [
       "LGBMClassifier(boosting_type='dart')"
      ]
     },
     "execution_count": 20,
     "metadata": {},
     "output_type": "execute_result"
    }
   ],
   "source": [
    "LGBM = lightgbm.LGBMClassifier(boosting_type=\"dart\")\n",
    "LGBM.fit(X_train, Y_train)"
   ]
  },
  {
   "cell_type": "markdown",
   "id": "36a70979-87c8-4895-b08d-24970735a7a2",
   "metadata": {},
   "source": [
    "#### <font color='green'>Evaluating model </font>"
   ]
  },
  {
   "cell_type": "markdown",
   "id": "240826f0-5467-4fdf-a67a-ed4a10ebcaca",
   "metadata": {},
   "source": [
    "### <font color='blue'>Code for metric analytics </font>"
   ]
  },
  {
   "cell_type": "code",
   "execution_count": 21,
   "id": "4fa8c879-8e19-46dd-9fca-2573b05ba0c4",
   "metadata": {},
   "outputs": [],
   "source": [
    "def get_model_metrics(func, data_table:dict):\n",
    "    print(\"Hey! I'm getting the model metrics from {}\".format(func))\n",
    "    x_train = data_table['x_train']\n",
    "    y_train = data_table['y_train']\n",
    "    x_test = data_table['x_test']\n",
    "    y_test = data_table['y_test']\n",
    "    \n",
    "    metric_dict = {}\n",
    "    train_accuracy = func.score(x_train, y_train)\n",
    "    test_accuracy = func.score(x_test, y_test)\n",
    "\n",
    "    metric_dict[\"train_accuracy\"] = train_accuracy\n",
    "    metric_dict[\"test_accuracy\"] = test_accuracy\n",
    "    \n",
    "    Y_pred = func.predict(x_train)\n",
    "    pred_proba = func.predict_proba(X_train)\n",
    "    pred_proba_test = func.predict_proba(X_test)\n",
    "    \n",
    "    print(\"confusion matrix!\")\n",
    "    \n",
    "    cm = confusion_matrix(y_train, Y_pred)\n",
    "    metric_dict[\"confusion_matrix\"] = cm\n",
    "\n",
    "    pred_proba_test = func.predict_proba(x_test)\n",
    "    metric_dict[\"log_loss_train\"] = log_loss(y_train, pred_proba)\n",
    "    metric_dict[\"log_loss_test\"] = log_loss(y_test, pred_proba_test)\n",
    "\n",
    "    metric_dict[\"brier_score_train\"] = brier_score_loss(y_train, pd.DataFrame(pred_proba)[0])\n",
    "    metric_dict[\"brier_score_test\"] = brier_score_loss(y_test, pd.DataFrame(pred_proba_test)[0])\n",
    "    \n",
    "    return metric_dict"
   ]
  },
  {
   "cell_type": "markdown",
   "id": "7852faa0-3e89-46c7-b540-f584c810e7f5",
   "metadata": {},
   "source": [
    "### <font color='blue'>Parameters </font>"
   ]
  },
  {
   "cell_type": "code",
   "execution_count": 22,
   "id": "ba58c97d-b8e6-4bf5-9d60-c1d92c432ce2",
   "metadata": {},
   "outputs": [
    {
     "name": "stdout",
     "output_type": "stream",
     "text": [
      "Hey! I'm getting the model metrics from LogisticRegression(C=0.91, random_state=15, solver='liblinear')\n",
      "confusion matrix!\n",
      "Hey! I'm getting the model metrics from DecisionTreeClassifier()\n",
      "confusion matrix!\n",
      "Hey! I'm getting the model metrics from KNeighborsClassifier(n_neighbors=2, p=8)\n",
      "confusion matrix!\n",
      "Hey! I'm getting the model metrics from LGBMClassifier(boosting_type='dart')\n",
      "confusion matrix!\n"
     ]
    }
   ],
   "source": [
    "dataset_dict = {\"x_train\": X_train, \"y_train\": Y_train, \"x_test\": X_test, \"y_test\": Y_test}\n",
    "\n",
    "model_list = [log_reg, tree, knn, LGBM]\n",
    "metrics_list = [get_model_metrics(i, dataset_dict) for i in model_list]\n",
    "model_names = [\"Logistic regression\", \"Decision Tree\", \"K-neighbours\", \"LGBM\"]"
   ]
  },
  {
   "cell_type": "markdown",
   "id": "82f68b7e-9c79-429c-b04a-f7d74b1f3402",
   "metadata": {},
   "source": [
    "# <font color='blue'>MODEL PRECISION </font>"
   ]
  },
  {
   "cell_type": "code",
   "execution_count": 23,
   "id": "3c521d96-8662-4560-a60b-4af2f1c380bc",
   "metadata": {},
   "outputs": [
    {
     "data": {
      "image/png": "[encoded data removed]",
      "text/plain": [
       "<Figure size 1080x720 with 1 Axes>"
      ]
     },
     "metadata": {
      "needs_background": "light"
     },
     "output_type": "display_data"
    }
   ],
   "source": [
    "plt.figure(figsize = (15,10))\n",
    "\n",
    "mn = model_names\n",
    "gmt = [\"accuracy\", \"log loss\", \"brier score\"]\n",
    "\n",
    "d = {\n",
    "    'x':    [gmt[0], gmt[0],  gmt[0], gmt[0],\n",
    "             gmt[1], gmt[1], gmt[1], gmt[1],\n",
    "             gmt[2], gmt[2], gmt[2], gmt[2]],\n",
    "    \n",
    "    'y':    [metrics_list[0][\"test_accuracy\"], metrics_list[1][\"test_accuracy\"], metrics_list[2][\"test_accuracy\"], metrics_list[3][\"test_accuracy\"],\n",
    "             metrics_list[0][\"log_loss_test\"], metrics_list[1][\"log_loss_test\"], metrics_list[2][\"log_loss_test\"], metrics_list[3][\"log_loss_test\"],\n",
    "             metrics_list[0][\"brier_score_test\"], metrics_list[1][\"brier_score_test\"], metrics_list[2][\"brier_score_test\"], metrics_list[3][\"brier_score_test\"]],\n",
    "    \n",
    "    'group':[mn[0], mn[1], mn[2], mn[3],\n",
    "             mn[0], mn[1], mn[2], mn[3],\n",
    "             mn[0], mn[1], mn[2], mn[3]]\n",
    "}\n",
    "\n",
    "sns.set_context(rc = {'patch.linewidth': 2.0})\n",
    "ax = sns.barplot(x='x', y='y', hue=\"group\", data=d, linewidth=2.0, edgecolor=\".2\", zorder=3, palette=sns.color_palette(\"deep\"))\n",
    "\n",
    "plt.ylabel('%')\n",
    "plt.gca().yaxis.set_major_locator(ticker.MultipleLocator(.1))\n",
    "\n",
    "ax.grid(linewidth=1, color='white', zorder=0)\n",
    "ax.set_facecolor(\"#d7d7e0\")\n",
    "plt.title(\"Test metrics\")\n",
    "plt.show()"
   ]
  },
  {
   "cell_type": "markdown",
   "id": "5ffa519a-f382-4e3c-b2fe-a9b9f31f07a9",
   "metadata": {},
   "source": [
    "# <font color='blue'>OVERFITTING </font>"
   ]
  },
  {
   "cell_type": "code",
   "execution_count": 24,
   "id": "ae0536f3-2c58-4f88-9504-b346ffd1968e",
   "metadata": {},
   "outputs": [
    {
     "data": {
      "image/png": "[encoded data removed]",
      "text/plain": [
       "<Figure size 1080x720 with 1 Axes>"
      ]
     },
     "metadata": {
      "needs_background": "light"
     },
     "output_type": "display_data"
    }
   ],
   "source": [
    "dict(zip(model_names, metrics_list))\n",
    "\n",
    "overfit_dict = {}\n",
    "\n",
    "for i in zip(model_names, metrics_list):\n",
    "    aux = ((i[1][\"log_loss_test\"] - i[1][\"log_loss_train\"]) / i[1][\"log_loss_train\"])\n",
    "    overfit_dict[i[0]] = str(aux)\n",
    "\n",
    "keys = list(overfit_dict.keys())\n",
    "vals = [float(overfit_dict[k][:-1]) for k in keys]\n",
    "overfit_dict\n",
    "\n",
    "plt.figure(figsize = (15,10))\n",
    "\n",
    "sns.set_context(rc = {'patch.linewidth': 1.0})\n",
    "ax = sns.barplot(x=keys, y=vals, linewidth=2.0, edgecolor=\".2\", zorder=3, palette=sns.color_palette(\"deep\"))\n",
    "\n",
    "plt.ylabel('%')\n",
    "ax.grid(linewidth=1, color='white', zorder=0)\n",
    "ax.set_facecolor(\"#d7d7e0\")\n",
    "plt.title(\"Overfit ratio (test/train)\")\n",
    "plt.show()"
   ]
  },
  {
   "cell_type": "markdown",
   "id": "6f16bdfa-472f-4c0e-9d67-ae385c93c129",
   "metadata": {},
   "source": [
    "# <font color='blue'>CONFUSION MATRIX </font>"
   ]
  },
  {
   "cell_type": "code",
   "execution_count": 25,
   "id": "6a8e087d-260a-49bd-9fc4-f827f8fa7433",
   "metadata": {},
   "outputs": [
    {
     "data": {
      "image/png": "[encoded data removed]",
      "text/plain": [
       "<Figure size 1152x1008 with 8 Axes>"
      ]
     },
     "metadata": {
      "needs_background": "light"
     },
     "output_type": "display_data"
    }
   ],
   "source": [
    "plt.figure(figsize = (16,14))\n",
    "\n",
    "model_names_size = 25\n",
    "\n",
    "cm_list = [confusion_matrix(Y_test, func.predict(X_test)) for func in model_list]\n",
    "cm_list = [(cm/cm.sum(axis=1).reshape(-1,1)) for cm in cm_list]\n",
    "\n",
    "ax1 = plt.subplot(2,2,1)\n",
    "sns.heatmap(cm_list[0], cmap=\"YlGnBu\", vmin=0., vmax=1., annot=True, annot_kws={'size':45})\n",
    "plt.title(model_names[0], fontsize = model_names_size)\n",
    "plt.ylabel('Predicted label')\n",
    "plt.xlabel('True label')\n",
    "ax1.xaxis.set_label_coords(0.5, -0.015)\n",
    "ax1.yaxis.set_label_coords(-0.01, 0.5)\n",
    "\n",
    "ax2 = plt.subplot(2,2,2)\n",
    "sns.heatmap(cm_list[1], cmap=\"YlGnBu\", vmin=0., vmax=1., annot=True, annot_kws={'size':45})\n",
    "plt.title(model_names[1], fontsize = model_names_size)\n",
    "plt.ylabel('Predicted label')\n",
    "plt.xlabel('True label')\n",
    "ax2.xaxis.set_label_coords(0.5, -0.015)\n",
    "ax2.yaxis.set_label_coords(-0.01, 0.5)\n",
    "\n",
    "ax3 = plt.subplot(2,2,3)\n",
    "sns.heatmap(cm_list[2], cmap=\"YlGnBu\", vmin=0., vmax=1., annot=True, annot_kws={'size':45})\n",
    "plt.title(model_names[2], fontsize = model_names_size)\n",
    "plt.ylabel('Predicted label')\n",
    "plt.xlabel('True label')\n",
    "ax3.xaxis.set_label_coords(0.5, -0.015)\n",
    "ax3.yaxis.set_label_coords(-0.01, 0.5)\n",
    "\n",
    "ax4 = plt.subplot(2,2,4)\n",
    "sns.heatmap(cm_list[3], cmap=\"YlGnBu\", vmin=0., vmax=1., annot=True, annot_kws={'size':45})\n",
    "plt.title(model_names[3], fontsize = model_names_size)\n",
    "plt.ylabel('Predicted label')\n",
    "plt.xlabel('True label')\n",
    "ax4.xaxis.set_label_coords(0.5, -0.015)\n",
    "ax4.yaxis.set_label_coords(-0.01, 0.5)"
   ]
  },
  {
   "cell_type": "markdown",
   "id": "2a1c0d66-cc53-4b5f-b9e3-c46b7528e282",
   "metadata": {},
   "source": [
    "# <font color='blue'>Testing the model </font>"
   ]
  },
  {
   "cell_type": "code",
   "execution_count": 63,
   "id": "3e79b7b7-8431-42ac-bdf5-4367f063723e",
   "metadata": {},
   "outputs": [],
   "source": [
    "checkout = dataset.drop(['FinalWinner'], axis=1)"
   ]
  },
  {
   "cell_type": "code",
   "execution_count": 64,
   "id": "fe861a1b-bf09-4c12-ab66-b679f4309448",
   "metadata": {},
   "outputs": [],
   "source": [
    "example = checkout.sample()"
   ]
  },
  {
   "cell_type": "code",
   "execution_count": 65,
   "id": "5ae8d114-6ccd-4355-a5c5-f78db462f37d",
   "metadata": {},
   "outputs": [
    {
     "data": {
      "text/html": [
       "<div>\n",
       "<style scoped>\n",
       "    .dataframe tbody tr th:only-of-type {\n",
       "        vertical-align: middle;\n",
       "    }\n",
       "\n",
       "    .dataframe tbody tr th {\n",
       "        vertical-align: top;\n",
       "    }\n",
       "\n",
       "    .dataframe thead th {\n",
       "        text-align: right;\n",
       "    }\n",
       "</style>\n",
       "<table border=\"1\" class=\"dataframe\">\n",
       "  <thead>\n",
       "    <tr style=\"text-align: right;\">\n",
       "      <th></th>\n",
       "      <th>ATK_wealth</th>\n",
       "      <th>DEF_wealth</th>\n",
       "      <th>ATK_alive</th>\n",
       "      <th>DEF_alive</th>\n",
       "      <th>DEF_has_OP</th>\n",
       "      <th>Def_has_Odin</th>\n",
       "      <th>Spike_1_beep</th>\n",
       "      <th>Spike_2_beep</th>\n",
       "      <th>MapName_Ascent</th>\n",
       "      <th>MapName_Bind</th>\n",
       "      <th>MapName_Breeze</th>\n",
       "      <th>MapName_Haven</th>\n",
       "      <th>MapName_Icebox</th>\n",
       "      <th>MapName_Split</th>\n",
       "    </tr>\n",
       "  </thead>\n",
       "  <tbody>\n",
       "    <tr>\n",
       "      <th>178615</th>\n",
       "      <td>0.0</td>\n",
       "      <td>960.0</td>\n",
       "      <td>0</td>\n",
       "      <td>3</td>\n",
       "      <td>0</td>\n",
       "      <td>0</td>\n",
       "      <td>0</td>\n",
       "      <td>1</td>\n",
       "      <td>1</td>\n",
       "      <td>0</td>\n",
       "      <td>0</td>\n",
       "      <td>0</td>\n",
       "      <td>0</td>\n",
       "      <td>0</td>\n",
       "    </tr>\n",
       "  </tbody>\n",
       "</table>\n",
       "</div>"
      ],
      "text/plain": [
       "        ATK_wealth  DEF_wealth  ATK_alive  DEF_alive  DEF_has_OP  \\\n",
       "178615         0.0       960.0          0          3           0   \n",
       "\n",
       "        Def_has_Odin  Spike_1_beep  Spike_2_beep  MapName_Ascent  \\\n",
       "178615             0             0             1               1   \n",
       "\n",
       "        MapName_Bind  MapName_Breeze  MapName_Haven  MapName_Icebox  \\\n",
       "178615             0               0              0               0   \n",
       "\n",
       "        MapName_Split  \n",
       "178615              0  "
      ]
     },
     "execution_count": 65,
     "metadata": {},
     "output_type": "execute_result"
    }
   ],
   "source": [
    "example"
   ]
  },
  {
   "cell_type": "code",
   "execution_count": 66,
   "id": "5dc8a3e2-6375-4c2a-a4a0-45ad542c5408",
   "metadata": {},
   "outputs": [
    {
     "data": {
      "text/plain": [
       "(1, 14)"
      ]
     },
     "execution_count": 66,
     "metadata": {},
     "output_type": "execute_result"
    }
   ],
   "source": [
    "example.shape"
   ]
  },
  {
   "cell_type": "code",
   "execution_count": 67,
   "id": "c52ef2b0-fcdd-4441-8f40-4df50a7145b7",
   "metadata": {},
   "outputs": [
    {
     "data": {
      "text/plain": [
       "array([0], dtype=int64)"
      ]
     },
     "execution_count": 67,
     "metadata": {},
     "output_type": "execute_result"
    }
   ],
   "source": [
    "LGBM.predict(example)"
   ]
  },
  {
   "cell_type": "code",
   "execution_count": 72,
   "id": "28fd6728-f680-4736-8cde-e708fca18888",
   "metadata": {},
   "outputs": [],
   "source": [
    "data = {'ATK_wealth': [3320, 3320, 2740, 2740, 1740, 1740, 1740, 1160, 580, 0],\n",
    "        'DEF_wealth': [2900, 2320, 2320, 2320, 2320, 1740, 1160, 1160, 1160, 1160],\n",
    "       'ATK_alive': [5,5,4,4,3,3,3,2,1,0],\n",
    "       'DEF_alive': [5,4,4,4,4,3,2,2,2,2],\n",
    "       'Def_has_OP': [0,0,0,0,0,0,0,0,0,0],\n",
    "       'Def_has_Odin': [0,0,0,0,0,0,0,0,0,0],\n",
    "       'Spike_1_beep': [0,0,0,0,1,1,1,1,1,0],\n",
    "       'Spike_2_beep': [0,0,0,0,0,0,0,0,0,1],\n",
    "       'MapName_Ascent': [0,0,0,0,0,0,0,0,0,0],\n",
    "       'MapName_Bind': [0,0,0,0,0,0,0,0,0,0],\n",
    "       'MapName_Breeze': [0,0,0,0,0,0,0,0,0,0],\n",
    "       'MapName_Haven': [0,0,0,0,0,0,0,0,0,0],\n",
    "       'MapName_Icebox': [0,0,0,0,0,0,0,0,0,0],\n",
    "       'MapName_Split': [1,1,1,1,1,1,1,1,1,1]}  "
   ]
  },
  {
   "cell_type": "code",
   "execution_count": 73,
   "id": "47bf077b-2f03-49a9-a373-8952d86fbdc6",
   "metadata": {},
   "outputs": [],
   "source": [
    "round_test = pd.DataFrame(data)"
   ]
  },
  {
   "cell_type": "code",
   "execution_count": 74,
   "id": "bccf8a43-596f-4c39-9166-fc4d389ea66d",
   "metadata": {},
   "outputs": [
    {
     "data": {
      "text/html": [
       "<div>\n",
       "<style scoped>\n",
       "    .dataframe tbody tr th:only-of-type {\n",
       "        vertical-align: middle;\n",
       "    }\n",
       "\n",
       "    .dataframe tbody tr th {\n",
       "        vertical-align: top;\n",
       "    }\n",
       "\n",
       "    .dataframe thead th {\n",
       "        text-align: right;\n",
       "    }\n",
       "</style>\n",
       "<table border=\"1\" class=\"dataframe\">\n",
       "  <thead>\n",
       "    <tr style=\"text-align: right;\">\n",
       "      <th></th>\n",
       "      <th>ATK_wealth</th>\n",
       "      <th>DEF_wealth</th>\n",
       "      <th>ATK_alive</th>\n",
       "      <th>DEF_alive</th>\n",
       "      <th>Def_has_OP</th>\n",
       "      <th>Def_has_Odin</th>\n",
       "      <th>Spike_1_beep</th>\n",
       "      <th>Spike_2_beep</th>\n",
       "      <th>MapName_Ascent</th>\n",
       "      <th>MapName_Bind</th>\n",
       "      <th>MapName_Breeze</th>\n",
       "      <th>MapName_Haven</th>\n",
       "      <th>MapName_Icebox</th>\n",
       "      <th>MapName_Split</th>\n",
       "    </tr>\n",
       "  </thead>\n",
       "  <tbody>\n",
       "    <tr>\n",
       "      <th>0</th>\n",
       "      <td>3320</td>\n",
       "      <td>2900</td>\n",
       "      <td>5</td>\n",
       "      <td>5</td>\n",
       "      <td>0</td>\n",
       "      <td>0</td>\n",
       "      <td>0</td>\n",
       "      <td>0</td>\n",
       "      <td>0</td>\n",
       "      <td>0</td>\n",
       "      <td>0</td>\n",
       "      <td>0</td>\n",
       "      <td>0</td>\n",
       "      <td>1</td>\n",
       "    </tr>\n",
       "    <tr>\n",
       "      <th>1</th>\n",
       "      <td>3320</td>\n",
       "      <td>2320</td>\n",
       "      <td>5</td>\n",
       "      <td>4</td>\n",
       "      <td>0</td>\n",
       "      <td>0</td>\n",
       "      <td>0</td>\n",
       "      <td>0</td>\n",
       "      <td>0</td>\n",
       "      <td>0</td>\n",
       "      <td>0</td>\n",
       "      <td>0</td>\n",
       "      <td>0</td>\n",
       "      <td>1</td>\n",
       "    </tr>\n",
       "    <tr>\n",
       "      <th>2</th>\n",
       "      <td>2740</td>\n",
       "      <td>2320</td>\n",
       "      <td>4</td>\n",
       "      <td>4</td>\n",
       "      <td>0</td>\n",
       "      <td>0</td>\n",
       "      <td>0</td>\n",
       "      <td>0</td>\n",
       "      <td>0</td>\n",
       "      <td>0</td>\n",
       "      <td>0</td>\n",
       "      <td>0</td>\n",
       "      <td>0</td>\n",
       "      <td>1</td>\n",
       "    </tr>\n",
       "    <tr>\n",
       "      <th>3</th>\n",
       "      <td>2740</td>\n",
       "      <td>2320</td>\n",
       "      <td>4</td>\n",
       "      <td>4</td>\n",
       "      <td>0</td>\n",
       "      <td>0</td>\n",
       "      <td>0</td>\n",
       "      <td>0</td>\n",
       "      <td>0</td>\n",
       "      <td>0</td>\n",
       "      <td>0</td>\n",
       "      <td>0</td>\n",
       "      <td>0</td>\n",
       "      <td>1</td>\n",
       "    </tr>\n",
       "    <tr>\n",
       "      <th>4</th>\n",
       "      <td>1740</td>\n",
       "      <td>2320</td>\n",
       "      <td>3</td>\n",
       "      <td>4</td>\n",
       "      <td>0</td>\n",
       "      <td>0</td>\n",
       "      <td>1</td>\n",
       "      <td>0</td>\n",
       "      <td>0</td>\n",
       "      <td>0</td>\n",
       "      <td>0</td>\n",
       "      <td>0</td>\n",
       "      <td>0</td>\n",
       "      <td>1</td>\n",
       "    </tr>\n",
       "    <tr>\n",
       "      <th>5</th>\n",
       "      <td>1740</td>\n",
       "      <td>1740</td>\n",
       "      <td>3</td>\n",
       "      <td>3</td>\n",
       "      <td>0</td>\n",
       "      <td>0</td>\n",
       "      <td>1</td>\n",
       "      <td>0</td>\n",
       "      <td>0</td>\n",
       "      <td>0</td>\n",
       "      <td>0</td>\n",
       "      <td>0</td>\n",
       "      <td>0</td>\n",
       "      <td>1</td>\n",
       "    </tr>\n",
       "    <tr>\n",
       "      <th>6</th>\n",
       "      <td>1740</td>\n",
       "      <td>1160</td>\n",
       "      <td>3</td>\n",
       "      <td>2</td>\n",
       "      <td>0</td>\n",
       "      <td>0</td>\n",
       "      <td>1</td>\n",
       "      <td>0</td>\n",
       "      <td>0</td>\n",
       "      <td>0</td>\n",
       "      <td>0</td>\n",
       "      <td>0</td>\n",
       "      <td>0</td>\n",
       "      <td>1</td>\n",
       "    </tr>\n",
       "    <tr>\n",
       "      <th>7</th>\n",
       "      <td>1160</td>\n",
       "      <td>1160</td>\n",
       "      <td>2</td>\n",
       "      <td>2</td>\n",
       "      <td>0</td>\n",
       "      <td>0</td>\n",
       "      <td>1</td>\n",
       "      <td>0</td>\n",
       "      <td>0</td>\n",
       "      <td>0</td>\n",
       "      <td>0</td>\n",
       "      <td>0</td>\n",
       "      <td>0</td>\n",
       "      <td>1</td>\n",
       "    </tr>\n",
       "    <tr>\n",
       "      <th>8</th>\n",
       "      <td>580</td>\n",
       "      <td>1160</td>\n",
       "      <td>1</td>\n",
       "      <td>2</td>\n",
       "      <td>0</td>\n",
       "      <td>0</td>\n",
       "      <td>1</td>\n",
       "      <td>0</td>\n",
       "      <td>0</td>\n",
       "      <td>0</td>\n",
       "      <td>0</td>\n",
       "      <td>0</td>\n",
       "      <td>0</td>\n",
       "      <td>1</td>\n",
       "    </tr>\n",
       "    <tr>\n",
       "      <th>9</th>\n",
       "      <td>0</td>\n",
       "      <td>1160</td>\n",
       "      <td>0</td>\n",
       "      <td>2</td>\n",
       "      <td>0</td>\n",
       "      <td>0</td>\n",
       "      <td>0</td>\n",
       "      <td>1</td>\n",
       "      <td>0</td>\n",
       "      <td>0</td>\n",
       "      <td>0</td>\n",
       "      <td>0</td>\n",
       "      <td>0</td>\n",
       "      <td>1</td>\n",
       "    </tr>\n",
       "  </tbody>\n",
       "</table>\n",
       "</div>"
      ],
      "text/plain": [
       "   ATK_wealth  DEF_wealth  ATK_alive  DEF_alive  Def_has_OP  Def_has_Odin  \\\n",
       "0        3320        2900          5          5           0             0   \n",
       "1        3320        2320          5          4           0             0   \n",
       "2        2740        2320          4          4           0             0   \n",
       "3        2740        2320          4          4           0             0   \n",
       "4        1740        2320          3          4           0             0   \n",
       "5        1740        1740          3          3           0             0   \n",
       "6        1740        1160          3          2           0             0   \n",
       "7        1160        1160          2          2           0             0   \n",
       "8         580        1160          1          2           0             0   \n",
       "9           0        1160          0          2           0             0   \n",
       "\n",
       "   Spike_1_beep  Spike_2_beep  MapName_Ascent  MapName_Bind  MapName_Breeze  \\\n",
       "0             0             0               0             0               0   \n",
       "1             0             0               0             0               0   \n",
       "2             0             0               0             0               0   \n",
       "3             0             0               0             0               0   \n",
       "4             1             0               0             0               0   \n",
       "5             1             0               0             0               0   \n",
       "6             1             0               0             0               0   \n",
       "7             1             0               0             0               0   \n",
       "8             1             0               0             0               0   \n",
       "9             0             1               0             0               0   \n",
       "\n",
       "   MapName_Haven  MapName_Icebox  MapName_Split  \n",
       "0              0               0              1  \n",
       "1              0               0              1  \n",
       "2              0               0              1  \n",
       "3              0               0              1  \n",
       "4              0               0              1  \n",
       "5              0               0              1  \n",
       "6              0               0              1  \n",
       "7              0               0              1  \n",
       "8              0               0              1  \n",
       "9              0               0              1  "
      ]
     },
     "execution_count": 74,
     "metadata": {},
     "output_type": "execute_result"
    }
   ],
   "source": [
    "round_test"
   ]
  },
  {
   "cell_type": "code",
   "execution_count": 75,
   "id": "14076db6-410a-46e6-bea2-ebea86794da0",
   "metadata": {},
   "outputs": [
    {
     "data": {
      "text/plain": [
       "(10, 14)"
      ]
     },
     "execution_count": 75,
     "metadata": {},
     "output_type": "execute_result"
    }
   ],
   "source": [
    "round_test.shape"
   ]
  },
  {
   "cell_type": "code",
   "execution_count": 77,
   "id": "fd9f30f0-453f-4aa0-a502-e3e37e12cf96",
   "metadata": {},
   "outputs": [
    {
     "data": {
      "text/plain": [
       "array([[3320, 2900,    5,    5,    0,    0,    0,    0,    0,    0,    0,\n",
       "           0,    0,    1]], dtype=int64)"
      ]
     },
     "execution_count": 77,
     "metadata": {},
     "output_type": "execute_result"
    }
   ],
   "source": [
    "round_test.loc[0,:].to_numpy().reshape(1,-1)"
   ]
  },
  {
   "cell_type": "code",
   "execution_count": 94,
   "id": "bc5a544b-c5d7-489a-8aea-a89e6f74c747",
   "metadata": {},
   "outputs": [
    {
     "name": "stdout",
     "output_type": "stream",
     "text": [
      "49.8%\n",
      "67.80000000000001%\n",
      "50.1%\n",
      "50.1%\n",
      "27.800000000000004%\n",
      "49.6%\n",
      "75.2%\n",
      "50.3%\n",
      "18.6%\n",
      "3.0%\n"
     ]
    }
   ],
   "source": [
    "for i in range(0, 10):\n",
    "    aux = LGBM.predict_proba(round_test.loc[i,:].to_numpy().reshape(1,-1))[0][0]\n",
    "    print(\"{}%\".format(round(aux, 3)*100))"
   ]
  },
  {
   "cell_type": "code",
   "execution_count": null,
   "id": "a8eb2712-b495-467f-b935-f3b356c46e00",
   "metadata": {},
   "outputs": [],
   "source": []
  }
 ],
 "metadata": {
  "kernelspec": {
   "display_name": "Python 3",
   "language": "python",
   "name": "python3"
  },
  "language_info": {
   "codemirror_mode": {
    "name": "ipython",
    "version": 3
   },
   "file_extension": ".py",
   "mimetype": "text/x-python",
   "name": "python",
   "nbconvert_exporter": "python",
   "pygments_lexer": "ipython3",
   "version": "3.9.5"
  }
 },
 "nbformat": 4,
 "nbformat_minor": 5
}
