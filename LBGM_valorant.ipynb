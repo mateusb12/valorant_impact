{
 "cells": [
  {
   "cell_type": "markdown",
   "id": "63980c60-20f6-4bbb-9db1-1c204f838633",
   "metadata": {},
   "source": [
    "# <font color='blue'>Imports </font>"
   ]
  },
  {
   "cell_type": "code",
   "execution_count": 16,
   "id": "ebaca379-3d02-4ed2-9280-44fc8cd0b0b6",
   "metadata": {},
   "outputs": [
    {
     "name": "stdout",
     "output_type": "stream",
     "text": [
      "Wall time: 0 ns\n"
     ]
    }
   ],
   "source": [
    "%%time\n",
    "import pandas as pd\n",
    "import os\n",
    "import seaborn as sns\n",
    "import lightgbm\n",
    "import optuna\n",
    "import matplotlib.ticker as ticker\n",
    "from matplotlib import pyplot as plt\n",
    "from sklearn.calibration import calibration_curve\n",
    "from sklearn.model_selection import train_test_split\n",
    "from sklearn.metrics import confusion_matrix, classification_report, log_loss, brier_score_loss, f1_score"
   ]
  },
  {
   "cell_type": "code",
   "execution_count": 17,
   "id": "4954ed36-a5e7-4b6a-9cbc-6009bcd22b4e",
   "metadata": {},
   "outputs": [
    {
     "name": "stdout",
     "output_type": "stream",
     "text": [
      "Wall time: 4.09 s\n"
     ]
    }
   ],
   "source": [
    "%%time\n",
    "path = \"{}\\\\{}\\\\{}\\\\{}\\\\\".format(os.getcwd(), \"webscrapping\", \"matches\", \"rounds\")\n",
    "filename = \"vct_merged.csv\"\n",
    "dataset = pd.read_csv('{}{}'.format(path, filename))"
   ]
  },
  {
   "cell_type": "code",
   "execution_count": 18,
   "id": "ec46ee7f-ef6d-42db-b030-63178b0818b7",
   "metadata": {},
   "outputs": [
    {
     "data": {
      "text/plain": [
       "Index(['RoundID', 'RoundNumber', 'RoundTime', 'ATK_wealth', 'DEF_wealth',\n",
       "       'ATK_alive', 'DEF_alive', 'DEF_has_OP', 'Def_has_Odin', 'RegularTime',\n",
       "       'SpikeTime', 'ATK_bank', 'DEF_bank', 'ATK_initiators', 'ATK_duelists',\n",
       "       'ATK_sentinels', 'ATK_controllers', 'DEF_initiators', 'DEF_duelists',\n",
       "       'DEF_sentinels', 'DEF_controllers', 'ATK_Shields', 'DEF_Shields',\n",
       "       'MapName', 'MatchID', 'SeriesID', 'bestOF', 'FinalWinner', 'Team_A_ID',\n",
       "       'Team_A_Name', 'Team_B_ID', 'Team_B_Name'],\n",
       "      dtype='object')"
      ]
     },
     "execution_count": 18,
     "metadata": {},
     "output_type": "execute_result"
    }
   ],
   "source": [
    "dataset.columns"
   ]
  },
  {
   "cell_type": "code",
   "execution_count": 19,
   "id": "54b9f17f-ae58-49c8-b858-1be759aff22a",
   "metadata": {},
   "outputs": [
    {
     "data": {
      "text/html": [
       "<div>\n",
       "<style scoped>\n",
       "    .dataframe tbody tr th:only-of-type {\n",
       "        vertical-align: middle;\n",
       "    }\n",
       "\n",
       "    .dataframe tbody tr th {\n",
       "        vertical-align: top;\n",
       "    }\n",
       "\n",
       "    .dataframe thead th {\n",
       "        text-align: right;\n",
       "    }\n",
       "</style>\n",
       "<table border=\"1\" class=\"dataframe\">\n",
       "  <thead>\n",
       "    <tr style=\"text-align: right;\">\n",
       "      <th></th>\n",
       "      <th>RoundID</th>\n",
       "      <th>RoundNumber</th>\n",
       "      <th>RoundTime</th>\n",
       "      <th>ATK_wealth</th>\n",
       "      <th>DEF_wealth</th>\n",
       "      <th>ATK_alive</th>\n",
       "      <th>DEF_alive</th>\n",
       "      <th>DEF_has_OP</th>\n",
       "      <th>Def_has_Odin</th>\n",
       "      <th>RegularTime</th>\n",
       "      <th>...</th>\n",
       "      <th>DEF_Shields</th>\n",
       "      <th>MapName</th>\n",
       "      <th>MatchID</th>\n",
       "      <th>SeriesID</th>\n",
       "      <th>bestOF</th>\n",
       "      <th>FinalWinner</th>\n",
       "      <th>Team_A_ID</th>\n",
       "      <th>Team_A_Name</th>\n",
       "      <th>Team_B_ID</th>\n",
       "      <th>Team_B_Name</th>\n",
       "    </tr>\n",
       "  </thead>\n",
       "  <tbody>\n",
       "    <tr>\n",
       "      <th>0</th>\n",
       "      <td>172040</td>\n",
       "      <td>1</td>\n",
       "      <td>0</td>\n",
       "      <td>2000</td>\n",
       "      <td>2000</td>\n",
       "      <td>5</td>\n",
       "      <td>5</td>\n",
       "      <td>0</td>\n",
       "      <td>0</td>\n",
       "      <td>0</td>\n",
       "      <td>...</td>\n",
       "      <td>100</td>\n",
       "      <td>Ascent</td>\n",
       "      <td>10425</td>\n",
       "      <td>6113</td>\n",
       "      <td>3</td>\n",
       "      <td>0</td>\n",
       "      <td>230</td>\n",
       "      <td>Take Flyte</td>\n",
       "      <td>855</td>\n",
       "      <td>Dallas Vendetta</td>\n",
       "    </tr>\n",
       "    <tr>\n",
       "      <th>1</th>\n",
       "      <td>172040</td>\n",
       "      <td>1</td>\n",
       "      <td>5973</td>\n",
       "      <td>1500</td>\n",
       "      <td>2000</td>\n",
       "      <td>4</td>\n",
       "      <td>5</td>\n",
       "      <td>0</td>\n",
       "      <td>0</td>\n",
       "      <td>6</td>\n",
       "      <td>...</td>\n",
       "      <td>100</td>\n",
       "      <td>Ascent</td>\n",
       "      <td>10425</td>\n",
       "      <td>6113</td>\n",
       "      <td>3</td>\n",
       "      <td>0</td>\n",
       "      <td>230</td>\n",
       "      <td>Take Flyte</td>\n",
       "      <td>855</td>\n",
       "      <td>Dallas Vendetta</td>\n",
       "    </tr>\n",
       "    <tr>\n",
       "      <th>2</th>\n",
       "      <td>172040</td>\n",
       "      <td>1</td>\n",
       "      <td>20664</td>\n",
       "      <td>1000</td>\n",
       "      <td>2000</td>\n",
       "      <td>3</td>\n",
       "      <td>5</td>\n",
       "      <td>0</td>\n",
       "      <td>0</td>\n",
       "      <td>21</td>\n",
       "      <td>...</td>\n",
       "      <td>100</td>\n",
       "      <td>Ascent</td>\n",
       "      <td>10425</td>\n",
       "      <td>6113</td>\n",
       "      <td>3</td>\n",
       "      <td>0</td>\n",
       "      <td>230</td>\n",
       "      <td>Take Flyte</td>\n",
       "      <td>855</td>\n",
       "      <td>Dallas Vendetta</td>\n",
       "    </tr>\n",
       "    <tr>\n",
       "      <th>3</th>\n",
       "      <td>172040</td>\n",
       "      <td>1</td>\n",
       "      <td>24676</td>\n",
       "      <td>1000</td>\n",
       "      <td>1500</td>\n",
       "      <td>3</td>\n",
       "      <td>4</td>\n",
       "      <td>0</td>\n",
       "      <td>0</td>\n",
       "      <td>25</td>\n",
       "      <td>...</td>\n",
       "      <td>75</td>\n",
       "      <td>Ascent</td>\n",
       "      <td>10425</td>\n",
       "      <td>6113</td>\n",
       "      <td>3</td>\n",
       "      <td>0</td>\n",
       "      <td>230</td>\n",
       "      <td>Take Flyte</td>\n",
       "      <td>855</td>\n",
       "      <td>Dallas Vendetta</td>\n",
       "    </tr>\n",
       "    <tr>\n",
       "      <th>4</th>\n",
       "      <td>172040</td>\n",
       "      <td>1</td>\n",
       "      <td>26225</td>\n",
       "      <td>1000</td>\n",
       "      <td>1500</td>\n",
       "      <td>3</td>\n",
       "      <td>4</td>\n",
       "      <td>0</td>\n",
       "      <td>0</td>\n",
       "      <td>26</td>\n",
       "      <td>...</td>\n",
       "      <td>75</td>\n",
       "      <td>Ascent</td>\n",
       "      <td>10425</td>\n",
       "      <td>6113</td>\n",
       "      <td>3</td>\n",
       "      <td>0</td>\n",
       "      <td>230</td>\n",
       "      <td>Take Flyte</td>\n",
       "      <td>855</td>\n",
       "      <td>Dallas Vendetta</td>\n",
       "    </tr>\n",
       "  </tbody>\n",
       "</table>\n",
       "<p>5 rows × 32 columns</p>\n",
       "</div>"
      ],
      "text/plain": [
       "   RoundID  RoundNumber  RoundTime  ATK_wealth  DEF_wealth  ATK_alive  \\\n",
       "0   172040            1          0        2000        2000          5   \n",
       "1   172040            1       5973        1500        2000          4   \n",
       "2   172040            1      20664        1000        2000          3   \n",
       "3   172040            1      24676        1000        1500          3   \n",
       "4   172040            1      26225        1000        1500          3   \n",
       "\n",
       "   DEF_alive  DEF_has_OP  Def_has_Odin  RegularTime  ...  DEF_Shields  \\\n",
       "0          5           0             0            0  ...          100   \n",
       "1          5           0             0            6  ...          100   \n",
       "2          5           0             0           21  ...          100   \n",
       "3          4           0             0           25  ...           75   \n",
       "4          4           0             0           26  ...           75   \n",
       "\n",
       "   MapName  MatchID  SeriesID  bestOF  FinalWinner  Team_A_ID  Team_A_Name  \\\n",
       "0   Ascent    10425      6113       3            0        230   Take Flyte   \n",
       "1   Ascent    10425      6113       3            0        230   Take Flyte   \n",
       "2   Ascent    10425      6113       3            0        230   Take Flyte   \n",
       "3   Ascent    10425      6113       3            0        230   Take Flyte   \n",
       "4   Ascent    10425      6113       3            0        230   Take Flyte   \n",
       "\n",
       "   Team_B_ID      Team_B_Name  \n",
       "0        855  Dallas Vendetta  \n",
       "1        855  Dallas Vendetta  \n",
       "2        855  Dallas Vendetta  \n",
       "3        855  Dallas Vendetta  \n",
       "4        855  Dallas Vendetta  \n",
       "\n",
       "[5 rows x 32 columns]"
      ]
     },
     "execution_count": 19,
     "metadata": {},
     "output_type": "execute_result"
    }
   ],
   "source": [
    "dataset.head()"
   ]
  },
  {
   "cell_type": "markdown",
   "id": "435b208e-bfd1-49be-8781-6ba74da9123f",
   "metadata": {},
   "source": [
    "# <font color='blue'> Predict variable </font>"
   ]
  },
  {
   "cell_type": "code",
   "execution_count": 20,
   "id": "d7819c07-0d8d-45da-b2e7-21e1fbdf1366",
   "metadata": {},
   "outputs": [],
   "source": [
    "selected_features = ['ATK_wealth', 'DEF_wealth',\n",
    "                   'ATK_initiators', 'ATK_duelists', 'ATK_sentinels', 'ATK_controllers',\n",
    "                   'DEF_initiators', 'DEF_duelists', 'DEF_sentinels', 'DEF_controllers',\n",
    "                     'ATK_Shields', 'DEF_Shields',\n",
    "                   'DEF_has_OP', 'Def_has_Odin',\n",
    "                    'RegularTime', 'SpikeTime',\n",
    "                   'MapName',\n",
    "                   'FinalWinner']\n",
    "\n",
    "predict_variable = 'FinalWinner'"
   ]
  },
  {
   "cell_type": "markdown",
   "id": "cfba0313-f37e-45ad-abaf-e6d16ee4ad47",
   "metadata": {},
   "source": [
    "### <font color='black'> Trimming dataframe </font>"
   ]
  },
  {
   "cell_type": "code",
   "execution_count": 21,
   "id": "fb58b9b9-7ca6-4f09-a94f-6fd4964b7894",
   "metadata": {},
   "outputs": [],
   "source": [
    "dataset = dataset[selected_features]\n",
    "\n",
    "if 'MapName' in dataset.columns:\n",
    "    dataset = pd.get_dummies(dataset, columns=['MapName'])\n",
    "    \n",
    "X = dataset.drop([predict_variable], axis='columns')\n",
    "Y = dataset[predict_variable]\n",
    "\n",
    "X_train, X_test, Y_train, Y_test = train_test_split(X, Y, train_size=0.8, test_size=0.2, random_state=15)\n",
    "X_train, X_valid, Y_train, Y_valid = train_test_split(X_train, Y_train, train_size=0.9, test_size=0.1, random_state=15)"
   ]
  },
  {
   "cell_type": "code",
   "execution_count": 22,
   "id": "d5da178e-6738-434e-9038-7fa8392b3f6a",
   "metadata": {},
   "outputs": [
    {
     "data": {
      "text/html": [
       "<div>\n",
       "<style scoped>\n",
       "    .dataframe tbody tr th:only-of-type {\n",
       "        vertical-align: middle;\n",
       "    }\n",
       "\n",
       "    .dataframe tbody tr th {\n",
       "        vertical-align: top;\n",
       "    }\n",
       "\n",
       "    .dataframe thead th {\n",
       "        text-align: right;\n",
       "    }\n",
       "</style>\n",
       "<table border=\"1\" class=\"dataframe\">\n",
       "  <thead>\n",
       "    <tr style=\"text-align: right;\">\n",
       "      <th></th>\n",
       "      <th>ATK_wealth</th>\n",
       "      <th>DEF_wealth</th>\n",
       "      <th>ATK_initiators</th>\n",
       "      <th>ATK_duelists</th>\n",
       "      <th>ATK_sentinels</th>\n",
       "      <th>ATK_controllers</th>\n",
       "      <th>DEF_initiators</th>\n",
       "      <th>DEF_duelists</th>\n",
       "      <th>DEF_sentinels</th>\n",
       "      <th>DEF_controllers</th>\n",
       "      <th>...</th>\n",
       "      <th>Def_has_Odin</th>\n",
       "      <th>RegularTime</th>\n",
       "      <th>SpikeTime</th>\n",
       "      <th>FinalWinner</th>\n",
       "      <th>MapName_Ascent</th>\n",
       "      <th>MapName_Bind</th>\n",
       "      <th>MapName_Breeze</th>\n",
       "      <th>MapName_Haven</th>\n",
       "      <th>MapName_Icebox</th>\n",
       "      <th>MapName_Split</th>\n",
       "    </tr>\n",
       "  </thead>\n",
       "  <tbody>\n",
       "    <tr>\n",
       "      <th>0</th>\n",
       "      <td>2000</td>\n",
       "      <td>2000</td>\n",
       "      <td>1</td>\n",
       "      <td>2</td>\n",
       "      <td>1</td>\n",
       "      <td>1</td>\n",
       "      <td>1</td>\n",
       "      <td>2</td>\n",
       "      <td>1</td>\n",
       "      <td>1</td>\n",
       "      <td>...</td>\n",
       "      <td>0</td>\n",
       "      <td>0</td>\n",
       "      <td>0</td>\n",
       "      <td>0</td>\n",
       "      <td>1</td>\n",
       "      <td>0</td>\n",
       "      <td>0</td>\n",
       "      <td>0</td>\n",
       "      <td>0</td>\n",
       "      <td>0</td>\n",
       "    </tr>\n",
       "    <tr>\n",
       "      <th>1</th>\n",
       "      <td>1500</td>\n",
       "      <td>2000</td>\n",
       "      <td>1</td>\n",
       "      <td>1</td>\n",
       "      <td>1</td>\n",
       "      <td>1</td>\n",
       "      <td>1</td>\n",
       "      <td>2</td>\n",
       "      <td>1</td>\n",
       "      <td>1</td>\n",
       "      <td>...</td>\n",
       "      <td>0</td>\n",
       "      <td>6</td>\n",
       "      <td>0</td>\n",
       "      <td>0</td>\n",
       "      <td>1</td>\n",
       "      <td>0</td>\n",
       "      <td>0</td>\n",
       "      <td>0</td>\n",
       "      <td>0</td>\n",
       "      <td>0</td>\n",
       "    </tr>\n",
       "    <tr>\n",
       "      <th>2</th>\n",
       "      <td>1000</td>\n",
       "      <td>2000</td>\n",
       "      <td>1</td>\n",
       "      <td>1</td>\n",
       "      <td>0</td>\n",
       "      <td>1</td>\n",
       "      <td>1</td>\n",
       "      <td>2</td>\n",
       "      <td>1</td>\n",
       "      <td>1</td>\n",
       "      <td>...</td>\n",
       "      <td>0</td>\n",
       "      <td>21</td>\n",
       "      <td>0</td>\n",
       "      <td>0</td>\n",
       "      <td>1</td>\n",
       "      <td>0</td>\n",
       "      <td>0</td>\n",
       "      <td>0</td>\n",
       "      <td>0</td>\n",
       "      <td>0</td>\n",
       "    </tr>\n",
       "    <tr>\n",
       "      <th>3</th>\n",
       "      <td>1000</td>\n",
       "      <td>1500</td>\n",
       "      <td>1</td>\n",
       "      <td>1</td>\n",
       "      <td>0</td>\n",
       "      <td>1</td>\n",
       "      <td>1</td>\n",
       "      <td>1</td>\n",
       "      <td>1</td>\n",
       "      <td>1</td>\n",
       "      <td>...</td>\n",
       "      <td>0</td>\n",
       "      <td>25</td>\n",
       "      <td>0</td>\n",
       "      <td>0</td>\n",
       "      <td>1</td>\n",
       "      <td>0</td>\n",
       "      <td>0</td>\n",
       "      <td>0</td>\n",
       "      <td>0</td>\n",
       "      <td>0</td>\n",
       "    </tr>\n",
       "    <tr>\n",
       "      <th>4</th>\n",
       "      <td>1000</td>\n",
       "      <td>1500</td>\n",
       "      <td>1</td>\n",
       "      <td>1</td>\n",
       "      <td>0</td>\n",
       "      <td>1</td>\n",
       "      <td>1</td>\n",
       "      <td>1</td>\n",
       "      <td>1</td>\n",
       "      <td>1</td>\n",
       "      <td>...</td>\n",
       "      <td>0</td>\n",
       "      <td>26</td>\n",
       "      <td>0</td>\n",
       "      <td>0</td>\n",
       "      <td>1</td>\n",
       "      <td>0</td>\n",
       "      <td>0</td>\n",
       "      <td>0</td>\n",
       "      <td>0</td>\n",
       "      <td>0</td>\n",
       "    </tr>\n",
       "  </tbody>\n",
       "</table>\n",
       "<p>5 rows × 23 columns</p>\n",
       "</div>"
      ],
      "text/plain": [
       "   ATK_wealth  DEF_wealth  ATK_initiators  ATK_duelists  ATK_sentinels  \\\n",
       "0        2000        2000               1             2              1   \n",
       "1        1500        2000               1             1              1   \n",
       "2        1000        2000               1             1              0   \n",
       "3        1000        1500               1             1              0   \n",
       "4        1000        1500               1             1              0   \n",
       "\n",
       "   ATK_controllers  DEF_initiators  DEF_duelists  DEF_sentinels  \\\n",
       "0                1               1             2              1   \n",
       "1                1               1             2              1   \n",
       "2                1               1             2              1   \n",
       "3                1               1             1              1   \n",
       "4                1               1             1              1   \n",
       "\n",
       "   DEF_controllers  ...  Def_has_Odin  RegularTime  SpikeTime  FinalWinner  \\\n",
       "0                1  ...             0            0          0            0   \n",
       "1                1  ...             0            6          0            0   \n",
       "2                1  ...             0           21          0            0   \n",
       "3                1  ...             0           25          0            0   \n",
       "4                1  ...             0           26          0            0   \n",
       "\n",
       "   MapName_Ascent  MapName_Bind  MapName_Breeze  MapName_Haven  \\\n",
       "0               1             0               0              0   \n",
       "1               1             0               0              0   \n",
       "2               1             0               0              0   \n",
       "3               1             0               0              0   \n",
       "4               1             0               0              0   \n",
       "\n",
       "   MapName_Icebox  MapName_Split  \n",
       "0               0              0  \n",
       "1               0              0  \n",
       "2               0              0  \n",
       "3               0              0  \n",
       "4               0              0  \n",
       "\n",
       "[5 rows x 23 columns]"
      ]
     },
     "execution_count": 22,
     "metadata": {},
     "output_type": "execute_result"
    }
   ],
   "source": [
    "dataset.head()"
   ]
  },
  {
   "cell_type": "markdown",
   "id": "3a4b3eac-d591-45dd-b1bd-e32cf9cf0640",
   "metadata": {},
   "source": [
    "# <font color='blue'>Parameter tuning </font>"
   ]
  },
  {
   "cell_type": "code",
   "execution_count": 23,
   "id": "b881d960-25e1-4bbd-a8bf-dab3efc7a9ad",
   "metadata": {},
   "outputs": [],
   "source": [
    "def objective(trial):\n",
    "    bagging_freq =  trial.suggest_int('bagging_freq',1,10),\n",
    "    min_data_in_leaf =  trial.suggest_int('min_data_in_leaf',2,100),\n",
    "    max_depth = trial.suggest_int('max_depth',1,20),\n",
    "    learning_rate = trial.suggest_loguniform('learning_rate',0.001,0.1),\n",
    "    num_leaves = trial.suggest_int('num_leaves',2,70),\n",
    "    num_threads = trial.suggest_int('num_threads',1,10),\n",
    "    min_sum_hessian_in_leaf = trial.suggest_int('min_sum_hessian_in_leaf',1,10),\n",
    "    \n",
    "    model = lightgbm.LGBMClassifier(bagging_freq=bagging_freq,\n",
    "                                    min_data_in_leaf=min_data_in_leaf,\n",
    "                                   max_depth=max_depth,\n",
    "                                   learning_rate=learning_rate,\n",
    "                                   num_leaves=num_leaves,\n",
    "                                   num_threads=num_threads,\n",
    "                                   min_sum_hessian_in_leaf=min_sum_hessian_in_leaf)\n",
    "    model.fit(X_train,Y_train)\n",
    "    pred_proba_test = model.predict_proba(X_test)\n",
    "    score = brier_score_loss(Y_test, pd.DataFrame(pred_proba_test)[1])\n",
    "    return score"
   ]
  },
  {
   "cell_type": "code",
   "execution_count": 24,
   "id": "0f1c22f9-6229-453c-992f-0af06f24b1bc",
   "metadata": {
    "scrolled": true,
    "tags": []
   },
   "outputs": [
    {
     "name": "stderr",
     "output_type": "stream",
     "text": [
      "\u001b[32m[I 2021-11-29 20:03:01,067]\u001b[0m A new study created in memory with name: no-name-8ace0b0e-857a-4c7f-8a08-c6b4f42e1d95\u001b[0m\n",
      "\u001b[32m[I 2021-11-29 20:03:04,054]\u001b[0m Trial 0 finished with value: 0.1493330937308014 and parameters: {'bagging_freq': 6, 'min_data_in_leaf': 42, 'max_depth': 2, 'learning_rate': 0.026619737819902473, 'num_leaves': 9, 'num_threads': 5, 'min_sum_hessian_in_leaf': 9}. Best is trial 0 with value: 0.1493330937308014.\u001b[0m\n"
     ]
    },
    {
     "name": "stdout",
     "output_type": "stream",
     "text": [
      "[LightGBM] [Warning] min_data_in_leaf is set=22, min_child_samples=20 will be ignored. Current value: min_data_in_leaf=22\n",
      "[LightGBM] [Warning] min_sum_hessian_in_leaf is set=3, min_child_weight=0.001 will be ignored. Current value: min_sum_hessian_in_leaf=3\n",
      "[LightGBM] [Warning] num_threads is set=1, n_jobs=-1 will be ignored. Current value: num_threads=1\n",
      "[LightGBM] [Warning] bagging_freq is set=1, subsample_freq=0 will be ignored. Current value: bagging_freq=1\n"
     ]
    },
    {
     "name": "stderr",
     "output_type": "stream",
     "text": [
      "\u001b[32m[I 2021-11-29 20:03:19,612]\u001b[0m Trial 1 finished with value: 0.18868562762437058 and parameters: {'bagging_freq': 1, 'min_data_in_leaf': 22, 'max_depth': 4, 'learning_rate': 0.004673475071856659, 'num_leaves': 65, 'num_threads': 1, 'min_sum_hessian_in_leaf': 3}. Best is trial 0 with value: 0.1493330937308014.\u001b[0m\n"
     ]
    },
    {
     "name": "stdout",
     "output_type": "stream",
     "text": [
      "[LightGBM] [Warning] min_data_in_leaf is set=22, min_child_samples=20 will be ignored. Current value: min_data_in_leaf=22\n",
      "[LightGBM] [Warning] min_sum_hessian_in_leaf is set=1, min_child_weight=0.001 will be ignored. Current value: min_sum_hessian_in_leaf=1\n",
      "[LightGBM] [Warning] num_threads is set=1, n_jobs=-1 will be ignored. Current value: num_threads=1\n",
      "[LightGBM] [Warning] bagging_freq is set=3, subsample_freq=0 will be ignored. Current value: bagging_freq=3\n"
     ]
    },
    {
     "name": "stderr",
     "output_type": "stream",
     "text": [
      "\u001b[32m[I 2021-11-29 20:03:33,229]\u001b[0m Trial 2 finished with value: 0.18152640357923078 and parameters: {'bagging_freq': 3, 'min_data_in_leaf': 22, 'max_depth': 3, 'learning_rate': 0.006493172855894224, 'num_leaves': 59, 'num_threads': 1, 'min_sum_hessian_in_leaf': 1}. Best is trial 0 with value: 0.1493330937308014.\u001b[0m\n"
     ]
    },
    {
     "name": "stdout",
     "output_type": "stream",
     "text": [
      "[LightGBM] [Warning] min_data_in_leaf is set=49, min_child_samples=20 will be ignored. Current value: min_data_in_leaf=49\n",
      "[LightGBM] [Warning] min_sum_hessian_in_leaf is set=2, min_child_weight=0.001 will be ignored. Current value: min_sum_hessian_in_leaf=2\n",
      "[LightGBM] [Warning] num_threads is set=1, n_jobs=-1 will be ignored. Current value: num_threads=1\n",
      "[LightGBM] [Warning] bagging_freq is set=3, subsample_freq=0 will be ignored. Current value: bagging_freq=3\n"
     ]
    },
    {
     "name": "stderr",
     "output_type": "stream",
     "text": [
      "\u001b[32m[I 2021-11-29 20:03:46,067]\u001b[0m Trial 3 finished with value: 0.20807277458230167 and parameters: {'bagging_freq': 3, 'min_data_in_leaf': 49, 'max_depth': 18, 'learning_rate': 0.003293424737815659, 'num_leaves': 6, 'num_threads': 1, 'min_sum_hessian_in_leaf': 2}. Best is trial 0 with value: 0.1493330937308014.\u001b[0m\n"
     ]
    },
    {
     "name": "stdout",
     "output_type": "stream",
     "text": [
      "[LightGBM] [Warning] min_data_in_leaf is set=27, min_child_samples=20 will be ignored. Current value: min_data_in_leaf=27\n",
      "[LightGBM] [Warning] min_sum_hessian_in_leaf is set=4, min_child_weight=0.001 will be ignored. Current value: min_sum_hessian_in_leaf=4\n",
      "[LightGBM] [Warning] num_threads is set=6, n_jobs=-1 will be ignored. Current value: num_threads=6\n",
      "[LightGBM] [Warning] bagging_freq is set=6, subsample_freq=0 will be ignored. Current value: bagging_freq=6\n"
     ]
    },
    {
     "name": "stderr",
     "output_type": "stream",
     "text": [
      "\u001b[32m[I 2021-11-29 20:03:50,526]\u001b[0m Trial 4 finished with value: 0.13233248966910277 and parameters: {'bagging_freq': 6, 'min_data_in_leaf': 27, 'max_depth': 20, 'learning_rate': 0.09590330542196761, 'num_leaves': 5, 'num_threads': 6, 'min_sum_hessian_in_leaf': 4}. Best is trial 4 with value: 0.13233248966910277.\u001b[0m\n"
     ]
    },
    {
     "name": "stdout",
     "output_type": "stream",
     "text": [
      "[LightGBM] [Warning] min_data_in_leaf is set=68, min_child_samples=20 will be ignored. Current value: min_data_in_leaf=68\n",
      "[LightGBM] [Warning] min_sum_hessian_in_leaf is set=10, min_child_weight=0.001 will be ignored. Current value: min_sum_hessian_in_leaf=10\n",
      "[LightGBM] [Warning] num_threads is set=4, n_jobs=-1 will be ignored. Current value: num_threads=4\n",
      "[LightGBM] [Warning] bagging_freq is set=2, subsample_freq=0 will be ignored. Current value: bagging_freq=2\n"
     ]
    },
    {
     "name": "stderr",
     "output_type": "stream",
     "text": [
      "\u001b[32m[I 2021-11-29 20:03:58,102]\u001b[0m Trial 5 finished with value: 0.13631374767959928 and parameters: {'bagging_freq': 2, 'min_data_in_leaf': 68, 'max_depth': 20, 'learning_rate': 0.020781716277807394, 'num_leaves': 50, 'num_threads': 4, 'min_sum_hessian_in_leaf': 10}. Best is trial 4 with value: 0.13233248966910277.\u001b[0m\n"
     ]
    },
    {
     "name": "stdout",
     "output_type": "stream",
     "text": [
      "[LightGBM] [Warning] min_data_in_leaf is set=43, min_child_samples=20 will be ignored. Current value: min_data_in_leaf=43\n",
      "[LightGBM] [Warning] min_sum_hessian_in_leaf is set=1, min_child_weight=0.001 will be ignored. Current value: min_sum_hessian_in_leaf=1\n",
      "[LightGBM] [Warning] num_threads is set=10, n_jobs=-1 will be ignored. Current value: num_threads=10\n",
      "[LightGBM] [Warning] bagging_freq is set=10, subsample_freq=0 will be ignored. Current value: bagging_freq=10\n"
     ]
    },
    {
     "name": "stderr",
     "output_type": "stream",
     "text": [
      "\u001b[32m[I 2021-11-29 20:04:10,173]\u001b[0m Trial 6 finished with value: 0.20072024185759307 and parameters: {'bagging_freq': 10, 'min_data_in_leaf': 43, 'max_depth': 10, 'learning_rate': 0.0029280028983717276, 'num_leaves': 67, 'num_threads': 10, 'min_sum_hessian_in_leaf': 1}. Best is trial 4 with value: 0.13233248966910277.\u001b[0m\n"
     ]
    },
    {
     "name": "stdout",
     "output_type": "stream",
     "text": [
      "[LightGBM] [Warning] min_data_in_leaf is set=49, min_child_samples=20 will be ignored. Current value: min_data_in_leaf=49\n",
      "[LightGBM] [Warning] min_sum_hessian_in_leaf is set=7, min_child_weight=0.001 will be ignored. Current value: min_sum_hessian_in_leaf=7\n",
      "[LightGBM] [Warning] num_threads is set=2, n_jobs=-1 will be ignored. Current value: num_threads=2\n",
      "[LightGBM] [Warning] bagging_freq is set=3, subsample_freq=0 will be ignored. Current value: bagging_freq=3\n"
     ]
    },
    {
     "name": "stderr",
     "output_type": "stream",
     "text": [
      "\u001b[32m[I 2021-11-29 20:04:23,434]\u001b[0m Trial 7 finished with value: 0.12909400382465258 and parameters: {'bagging_freq': 3, 'min_data_in_leaf': 49, 'max_depth': 20, 'learning_rate': 0.057577433153129444, 'num_leaves': 54, 'num_threads': 2, 'min_sum_hessian_in_leaf': 7}. Best is trial 7 with value: 0.12909400382465258.\u001b[0m\n"
     ]
    },
    {
     "name": "stdout",
     "output_type": "stream",
     "text": [
      "[LightGBM] [Warning] min_data_in_leaf is set=41, min_child_samples=20 will be ignored. Current value: min_data_in_leaf=41\n",
      "[LightGBM] [Warning] min_sum_hessian_in_leaf is set=8, min_child_weight=0.001 will be ignored. Current value: min_sum_hessian_in_leaf=8\n",
      "[LightGBM] [Warning] num_threads is set=7, n_jobs=-1 will be ignored. Current value: num_threads=7\n",
      "[LightGBM] [Warning] bagging_freq is set=4, subsample_freq=0 will be ignored. Current value: bagging_freq=4\n"
     ]
    },
    {
     "name": "stderr",
     "output_type": "stream",
     "text": [
      "\u001b[32m[I 2021-11-29 20:04:32,755]\u001b[0m Trial 8 finished with value: 0.20786675939153898 and parameters: {'bagging_freq': 4, 'min_data_in_leaf': 41, 'max_depth': 9, 'learning_rate': 0.0023992238731287852, 'num_leaves': 61, 'num_threads': 7, 'min_sum_hessian_in_leaf': 8}. Best is trial 7 with value: 0.12909400382465258.\u001b[0m\n"
     ]
    },
    {
     "name": "stdout",
     "output_type": "stream",
     "text": [
      "[LightGBM] [Warning] min_data_in_leaf is set=83, min_child_samples=20 will be ignored. Current value: min_data_in_leaf=83\n",
      "[LightGBM] [Warning] min_sum_hessian_in_leaf is set=3, min_child_weight=0.001 will be ignored. Current value: min_sum_hessian_in_leaf=3\n",
      "[LightGBM] [Warning] num_threads is set=8, n_jobs=-1 will be ignored. Current value: num_threads=8\n",
      "[LightGBM] [Warning] bagging_freq is set=9, subsample_freq=0 will be ignored. Current value: bagging_freq=9\n"
     ]
    },
    {
     "name": "stderr",
     "output_type": "stream",
     "text": [
      "\u001b[32m[I 2021-11-29 20:04:39,460]\u001b[0m Trial 9 finished with value: 0.18350102514012703 and parameters: {'bagging_freq': 9, 'min_data_in_leaf': 83, 'max_depth': 7, 'learning_rate': 0.0048531596402991645, 'num_leaves': 28, 'num_threads': 8, 'min_sum_hessian_in_leaf': 3}. Best is trial 7 with value: 0.12909400382465258.\u001b[0m\n"
     ]
    },
    {
     "name": "stdout",
     "output_type": "stream",
     "text": [
      "[LightGBM] [Warning] min_data_in_leaf is set=6, min_child_samples=20 will be ignored. Current value: min_data_in_leaf=6\n",
      "[LightGBM] [Warning] min_sum_hessian_in_leaf is set=6, min_child_weight=0.001 will be ignored. Current value: min_sum_hessian_in_leaf=6\n",
      "[LightGBM] [Warning] num_threads is set=3, n_jobs=-1 will be ignored. Current value: num_threads=3\n",
      "[LightGBM] [Warning] bagging_freq is set=8, subsample_freq=0 will be ignored. Current value: bagging_freq=8\n"
     ]
    },
    {
     "name": "stderr",
     "output_type": "stream",
     "text": [
      "\u001b[32m[I 2021-11-29 20:04:48,143]\u001b[0m Trial 10 finished with value: 0.1283314228591132 and parameters: {'bagging_freq': 8, 'min_data_in_leaf': 6, 'max_depth': 14, 'learning_rate': 0.09115815321669664, 'num_leaves': 38, 'num_threads': 3, 'min_sum_hessian_in_leaf': 6}. Best is trial 10 with value: 0.1283314228591132.\u001b[0m\n"
     ]
    },
    {
     "name": "stdout",
     "output_type": "stream",
     "text": [
      "[LightGBM] [Warning] min_data_in_leaf is set=3, min_child_samples=20 will be ignored. Current value: min_data_in_leaf=3\n",
      "[LightGBM] [Warning] min_sum_hessian_in_leaf is set=6, min_child_weight=0.001 will be ignored. Current value: min_sum_hessian_in_leaf=6\n",
      "[LightGBM] [Warning] num_threads is set=3, n_jobs=-1 will be ignored. Current value: num_threads=3\n",
      "[LightGBM] [Warning] bagging_freq is set=8, subsample_freq=0 will be ignored. Current value: bagging_freq=8\n"
     ]
    },
    {
     "name": "stderr",
     "output_type": "stream",
     "text": [
      "\u001b[32m[I 2021-11-29 20:04:56,906]\u001b[0m Trial 11 finished with value: 0.128167197957914 and parameters: {'bagging_freq': 8, 'min_data_in_leaf': 3, 'max_depth': 15, 'learning_rate': 0.09737709148082406, 'num_leaves': 40, 'num_threads': 3, 'min_sum_hessian_in_leaf': 6}. Best is trial 11 with value: 0.128167197957914.\u001b[0m\n"
     ]
    },
    {
     "name": "stdout",
     "output_type": "stream",
     "text": [
      "[LightGBM] [Warning] min_data_in_leaf is set=5, min_child_samples=20 will be ignored. Current value: min_data_in_leaf=5\n",
      "[LightGBM] [Warning] min_sum_hessian_in_leaf is set=6, min_child_weight=0.001 will be ignored. Current value: min_sum_hessian_in_leaf=6\n",
      "[LightGBM] [Warning] num_threads is set=3, n_jobs=-1 will be ignored. Current value: num_threads=3\n",
      "[LightGBM] [Warning] bagging_freq is set=8, subsample_freq=0 will be ignored. Current value: bagging_freq=8\n"
     ]
    },
    {
     "name": "stderr",
     "output_type": "stream",
     "text": [
      "\u001b[32m[I 2021-11-29 20:05:04,906]\u001b[0m Trial 12 finished with value: 0.22856564938658663 and parameters: {'bagging_freq': 8, 'min_data_in_leaf': 5, 'max_depth': 14, 'learning_rate': 0.0011105441670323402, 'num_leaves': 38, 'num_threads': 3, 'min_sum_hessian_in_leaf': 6}. Best is trial 11 with value: 0.128167197957914.\u001b[0m\n"
     ]
    },
    {
     "name": "stdout",
     "output_type": "stream",
     "text": [
      "[LightGBM] [Warning] min_data_in_leaf is set=2, min_child_samples=20 will be ignored. Current value: min_data_in_leaf=2\n",
      "[LightGBM] [Warning] min_sum_hessian_in_leaf is set=5, min_child_weight=0.001 will be ignored. Current value: min_sum_hessian_in_leaf=5\n",
      "[LightGBM] [Warning] num_threads is set=4, n_jobs=-1 will be ignored. Current value: num_threads=4\n",
      "[LightGBM] [Warning] bagging_freq is set=8, subsample_freq=0 will be ignored. Current value: bagging_freq=8\n"
     ]
    },
    {
     "name": "stderr",
     "output_type": "stream",
     "text": [
      "\u001b[32m[I 2021-11-29 20:05:12,844]\u001b[0m Trial 13 finished with value: 0.13150952397267396 and parameters: {'bagging_freq': 8, 'min_data_in_leaf': 2, 'max_depth': 14, 'learning_rate': 0.04012645003434948, 'num_leaves': 35, 'num_threads': 4, 'min_sum_hessian_in_leaf': 5}. Best is trial 11 with value: 0.128167197957914.\u001b[0m\n"
     ]
    },
    {
     "name": "stdout",
     "output_type": "stream",
     "text": [
      "[LightGBM] [Warning] min_data_in_leaf is set=14, min_child_samples=20 will be ignored. Current value: min_data_in_leaf=14\n",
      "[LightGBM] [Warning] min_sum_hessian_in_leaf is set=6, min_child_weight=0.001 will be ignored. Current value: min_sum_hessian_in_leaf=6\n",
      "[LightGBM] [Warning] num_threads is set=3, n_jobs=-1 will be ignored. Current value: num_threads=3\n",
      "[LightGBM] [Warning] bagging_freq is set=7, subsample_freq=0 will be ignored. Current value: bagging_freq=7\n"
     ]
    },
    {
     "name": "stderr",
     "output_type": "stream",
     "text": [
      "\u001b[32m[I 2021-11-29 20:05:21,141]\u001b[0m Trial 14 finished with value: 0.12931037985747204 and parameters: {'bagging_freq': 7, 'min_data_in_leaf': 14, 'max_depth': 14, 'learning_rate': 0.08626218754849886, 'num_leaves': 21, 'num_threads': 3, 'min_sum_hessian_in_leaf': 6}. Best is trial 11 with value: 0.128167197957914.\u001b[0m\n"
     ]
    },
    {
     "name": "stdout",
     "output_type": "stream",
     "text": [
      "[LightGBM] [Warning] min_data_in_leaf is set=94, min_child_samples=20 will be ignored. Current value: min_data_in_leaf=94\n",
      "[LightGBM] [Warning] min_sum_hessian_in_leaf is set=7, min_child_weight=0.001 will be ignored. Current value: min_sum_hessian_in_leaf=7\n",
      "[LightGBM] [Warning] num_threads is set=3, n_jobs=-1 will be ignored. Current value: num_threads=3\n",
      "[LightGBM] [Warning] bagging_freq is set=9, subsample_freq=0 will be ignored. Current value: bagging_freq=9\n"
     ]
    },
    {
     "name": "stderr",
     "output_type": "stream",
     "text": [
      "\u001b[32m[I 2021-11-29 20:05:29,649]\u001b[0m Trial 15 finished with value: 0.1440898251795932 and parameters: {'bagging_freq': 9, 'min_data_in_leaf': 94, 'max_depth': 16, 'learning_rate': 0.013912845529176349, 'num_leaves': 45, 'num_threads': 3, 'min_sum_hessian_in_leaf': 7}. Best is trial 11 with value: 0.128167197957914.\u001b[0m\n"
     ]
    },
    {
     "name": "stdout",
     "output_type": "stream",
     "text": [
      "[LightGBM] [Warning] min_data_in_leaf is set=62, min_child_samples=20 will be ignored. Current value: min_data_in_leaf=62\n",
      "[LightGBM] [Warning] min_sum_hessian_in_leaf is set=5, min_child_weight=0.001 will be ignored. Current value: min_sum_hessian_in_leaf=5\n",
      "[LightGBM] [Warning] num_threads is set=5, n_jobs=-1 will be ignored. Current value: num_threads=5\n",
      "[LightGBM] [Warning] bagging_freq is set=5, subsample_freq=0 will be ignored. Current value: bagging_freq=5\n"
     ]
    },
    {
     "name": "stderr",
     "output_type": "stream",
     "text": [
      "\u001b[32m[I 2021-11-29 20:05:36,088]\u001b[0m Trial 16 finished with value: 0.13167671261559585 and parameters: {'bagging_freq': 5, 'min_data_in_leaf': 62, 'max_depth': 12, 'learning_rate': 0.0461718498705244, 'num_leaves': 23, 'num_threads': 5, 'min_sum_hessian_in_leaf': 5}. Best is trial 11 with value: 0.128167197957914.\u001b[0m\n"
     ]
    },
    {
     "name": "stdout",
     "output_type": "stream",
     "text": [
      "[LightGBM] [Warning] min_data_in_leaf is set=10, min_child_samples=20 will be ignored. Current value: min_data_in_leaf=10\n",
      "[LightGBM] [Warning] min_sum_hessian_in_leaf is set=8, min_child_weight=0.001 will be ignored. Current value: min_sum_hessian_in_leaf=8\n",
      "[LightGBM] [Warning] num_threads is set=4, n_jobs=-1 will be ignored. Current value: num_threads=4\n",
      "[LightGBM] [Warning] bagging_freq is set=10, subsample_freq=0 will be ignored. Current value: bagging_freq=10\n"
     ]
    },
    {
     "name": "stderr",
     "output_type": "stream",
     "text": [
      "\u001b[32m[I 2021-11-29 20:05:43,062]\u001b[0m Trial 17 finished with value: 0.13386472545073613 and parameters: {'bagging_freq': 10, 'min_data_in_leaf': 10, 'max_depth': 17, 'learning_rate': 0.027064805614958547, 'num_leaves': 42, 'num_threads': 4, 'min_sum_hessian_in_leaf': 8}. Best is trial 11 with value: 0.128167197957914.\u001b[0m\n"
     ]
    },
    {
     "name": "stdout",
     "output_type": "stream",
     "text": [
      "[LightGBM] [Warning] min_data_in_leaf is set=32, min_child_samples=20 will be ignored. Current value: min_data_in_leaf=32\n",
      "[LightGBM] [Warning] min_sum_hessian_in_leaf is set=4, min_child_weight=0.001 will be ignored. Current value: min_sum_hessian_in_leaf=4\n",
      "[LightGBM] [Warning] num_threads is set=2, n_jobs=-1 will be ignored. Current value: num_threads=2\n",
      "[LightGBM] [Warning] bagging_freq is set=7, subsample_freq=0 will be ignored. Current value: bagging_freq=7\n"
     ]
    },
    {
     "name": "stderr",
     "output_type": "stream",
     "text": [
      "\u001b[32m[I 2021-11-29 20:05:53,522]\u001b[0m Trial 18 finished with value: 0.15396547735806634 and parameters: {'bagging_freq': 7, 'min_data_in_leaf': 32, 'max_depth': 12, 'learning_rate': 0.01031338062333935, 'num_leaves': 32, 'num_threads': 2, 'min_sum_hessian_in_leaf': 4}. Best is trial 11 with value: 0.128167197957914.\u001b[0m\n"
     ]
    },
    {
     "name": "stdout",
     "output_type": "stream",
     "text": [
      "[LightGBM] [Warning] min_data_in_leaf is set=16, min_child_samples=20 will be ignored. Current value: min_data_in_leaf=16\n",
      "[LightGBM] [Warning] min_sum_hessian_in_leaf is set=7, min_child_weight=0.001 will be ignored. Current value: min_sum_hessian_in_leaf=7\n",
      "[LightGBM] [Warning] num_threads is set=6, n_jobs=-1 will be ignored. Current value: num_threads=6\n",
      "[LightGBM] [Warning] bagging_freq is set=8, subsample_freq=0 will be ignored. Current value: bagging_freq=8\n"
     ]
    },
    {
     "name": "stderr",
     "output_type": "stream",
     "text": [
      "\u001b[32m[I 2021-11-29 20:06:00,124]\u001b[0m Trial 19 finished with value: 0.13068464652310957 and parameters: {'bagging_freq': 8, 'min_data_in_leaf': 16, 'max_depth': 7, 'learning_rate': 0.0665032691111841, 'num_leaves': 17, 'num_threads': 6, 'min_sum_hessian_in_leaf': 7}. Best is trial 11 with value: 0.128167197957914.\u001b[0m\n"
     ]
    },
    {
     "name": "stdout",
     "output_type": "stream",
     "text": [
      "[LightGBM] [Warning] min_data_in_leaf is set=33, min_child_samples=20 will be ignored. Current value: min_data_in_leaf=33\n",
      "[LightGBM] [Warning] min_sum_hessian_in_leaf is set=4, min_child_weight=0.001 will be ignored. Current value: min_sum_hessian_in_leaf=4\n",
      "[LightGBM] [Warning] num_threads is set=2, n_jobs=-1 will be ignored. Current value: num_threads=2\n",
      "[LightGBM] [Warning] bagging_freq is set=7, subsample_freq=0 will be ignored. Current value: bagging_freq=7\n"
     ]
    },
    {
     "name": "stderr",
     "output_type": "stream",
     "text": [
      "\u001b[32m[I 2021-11-29 20:06:11,978]\u001b[0m Trial 20 finished with value: 0.13111926464134052 and parameters: {'bagging_freq': 7, 'min_data_in_leaf': 33, 'max_depth': 16, 'learning_rate': 0.037261593768193615, 'num_leaves': 49, 'num_threads': 2, 'min_sum_hessian_in_leaf': 4}. Best is trial 11 with value: 0.128167197957914.\u001b[0m\n"
     ]
    },
    {
     "name": "stdout",
     "output_type": "stream",
     "text": [
      "[LightGBM] [Warning] min_data_in_leaf is set=59, min_child_samples=20 will be ignored. Current value: min_data_in_leaf=59\n",
      "[LightGBM] [Warning] min_sum_hessian_in_leaf is set=7, min_child_weight=0.001 will be ignored. Current value: min_sum_hessian_in_leaf=7\n",
      "[LightGBM] [Warning] num_threads is set=2, n_jobs=-1 will be ignored. Current value: num_threads=2\n",
      "[LightGBM] [Warning] bagging_freq is set=5, subsample_freq=0 will be ignored. Current value: bagging_freq=5\n"
     ]
    },
    {
     "name": "stderr",
     "output_type": "stream",
     "text": [
      "\u001b[32m[I 2021-11-29 20:06:24,112]\u001b[0m Trial 21 finished with value: 0.12940821933135194 and parameters: {'bagging_freq': 5, 'min_data_in_leaf': 59, 'max_depth': 18, 'learning_rate': 0.0534220523315702, 'num_leaves': 52, 'num_threads': 2, 'min_sum_hessian_in_leaf': 7}. Best is trial 11 with value: 0.128167197957914.\u001b[0m\n"
     ]
    },
    {
     "name": "stdout",
     "output_type": "stream",
     "text": [
      "[LightGBM] [Warning] min_data_in_leaf is set=73, min_child_samples=20 will be ignored. Current value: min_data_in_leaf=73\n",
      "[LightGBM] [Warning] min_sum_hessian_in_leaf is set=6, min_child_weight=0.001 will be ignored. Current value: min_sum_hessian_in_leaf=6\n",
      "[LightGBM] [Warning] num_threads is set=3, n_jobs=-1 will be ignored. Current value: num_threads=3\n",
      "[LightGBM] [Warning] bagging_freq is set=4, subsample_freq=0 will be ignored. Current value: bagging_freq=4\n"
     ]
    },
    {
     "name": "stderr",
     "output_type": "stream",
     "text": [
      "\u001b[32m[I 2021-11-29 20:06:32,984]\u001b[0m Trial 22 finished with value: 0.1285958153879792 and parameters: {'bagging_freq': 4, 'min_data_in_leaf': 73, 'max_depth': 12, 'learning_rate': 0.06870058453451504, 'num_leaves': 55, 'num_threads': 3, 'min_sum_hessian_in_leaf': 6}. Best is trial 11 with value: 0.128167197957914.\u001b[0m\n"
     ]
    },
    {
     "name": "stdout",
     "output_type": "stream",
     "text": [
      "[LightGBM] [Warning] min_data_in_leaf is set=77, min_child_samples=20 will be ignored. Current value: min_data_in_leaf=77\n",
      "[LightGBM] [Warning] min_sum_hessian_in_leaf is set=6, min_child_weight=0.001 will be ignored. Current value: min_sum_hessian_in_leaf=6\n",
      "[LightGBM] [Warning] num_threads is set=4, n_jobs=-1 will be ignored. Current value: num_threads=4\n",
      "[LightGBM] [Warning] bagging_freq is set=9, subsample_freq=0 will be ignored. Current value: bagging_freq=9\n"
     ]
    },
    {
     "name": "stderr",
     "output_type": "stream",
     "text": [
      "\u001b[32m[I 2021-11-29 20:06:39,902]\u001b[0m Trial 23 finished with value: 0.12812093774623573 and parameters: {'bagging_freq': 9, 'min_data_in_leaf': 77, 'max_depth': 12, 'learning_rate': 0.09542210298952122, 'num_leaves': 42, 'num_threads': 4, 'min_sum_hessian_in_leaf': 6}. Best is trial 23 with value: 0.12812093774623573.\u001b[0m\n"
     ]
    },
    {
     "name": "stdout",
     "output_type": "stream",
     "text": [
      "[LightGBM] [Warning] min_data_in_leaf is set=85, min_child_samples=20 will be ignored. Current value: min_data_in_leaf=85\n",
      "[LightGBM] [Warning] min_sum_hessian_in_leaf is set=5, min_child_weight=0.001 will be ignored. Current value: min_sum_hessian_in_leaf=5\n",
      "[LightGBM] [Warning] num_threads is set=4, n_jobs=-1 will be ignored. Current value: num_threads=4\n",
      "[LightGBM] [Warning] bagging_freq is set=9, subsample_freq=0 will be ignored. Current value: bagging_freq=9\n"
     ]
    },
    {
     "name": "stderr",
     "output_type": "stream",
     "text": [
      "\u001b[32m[I 2021-11-29 20:06:47,049]\u001b[0m Trial 24 finished with value: 0.1282124259522263 and parameters: {'bagging_freq': 9, 'min_data_in_leaf': 85, 'max_depth': 15, 'learning_rate': 0.09009621490228589, 'num_leaves': 43, 'num_threads': 4, 'min_sum_hessian_in_leaf': 5}. Best is trial 23 with value: 0.12812093774623573.\u001b[0m\n"
     ]
    },
    {
     "name": "stdout",
     "output_type": "stream",
     "text": [
      "[LightGBM] [Warning] min_data_in_leaf is set=96, min_child_samples=20 will be ignored. Current value: min_data_in_leaf=96\n",
      "[LightGBM] [Warning] min_sum_hessian_in_leaf is set=5, min_child_weight=0.001 will be ignored. Current value: min_sum_hessian_in_leaf=5\n",
      "[LightGBM] [Warning] num_threads is set=5, n_jobs=-1 will be ignored. Current value: num_threads=5\n",
      "[LightGBM] [Warning] bagging_freq is set=9, subsample_freq=0 will be ignored. Current value: bagging_freq=9\n"
     ]
    },
    {
     "name": "stderr",
     "output_type": "stream",
     "text": [
      "\u001b[32m[I 2021-11-29 20:06:53,113]\u001b[0m Trial 25 finished with value: 0.12810927715215786 and parameters: {'bagging_freq': 9, 'min_data_in_leaf': 96, 'max_depth': 8, 'learning_rate': 0.09909603687284604, 'num_leaves': 42, 'num_threads': 5, 'min_sum_hessian_in_leaf': 5}. Best is trial 25 with value: 0.12810927715215786.\u001b[0m\n"
     ]
    },
    {
     "name": "stdout",
     "output_type": "stream",
     "text": [
      "[LightGBM] [Warning] min_data_in_leaf is set=95, min_child_samples=20 will be ignored. Current value: min_data_in_leaf=95\n",
      "[LightGBM] [Warning] min_sum_hessian_in_leaf is set=8, min_child_weight=0.001 will be ignored. Current value: min_sum_hessian_in_leaf=8\n",
      "[LightGBM] [Warning] num_threads is set=7, n_jobs=-1 will be ignored. Current value: num_threads=7\n",
      "[LightGBM] [Warning] bagging_freq is set=10, subsample_freq=0 will be ignored. Current value: bagging_freq=10\n"
     ]
    },
    {
     "name": "stderr",
     "output_type": "stream",
     "text": [
      "\u001b[32m[I 2021-11-29 20:06:59,568]\u001b[0m Trial 26 finished with value: 0.13416887220535897 and parameters: {'bagging_freq': 10, 'min_data_in_leaf': 95, 'max_depth': 8, 'learning_rate': 0.02932165286191849, 'num_leaves': 30, 'num_threads': 7, 'min_sum_hessian_in_leaf': 8}. Best is trial 25 with value: 0.12810927715215786.\u001b[0m\n"
     ]
    },
    {
     "name": "stdout",
     "output_type": "stream",
     "text": [
      "[LightGBM] [Warning] min_data_in_leaf is set=99, min_child_samples=20 will be ignored. Current value: min_data_in_leaf=99\n",
      "[LightGBM] [Warning] min_sum_hessian_in_leaf is set=5, min_child_weight=0.001 will be ignored. Current value: min_sum_hessian_in_leaf=5\n",
      "[LightGBM] [Warning] num_threads is set=5, n_jobs=-1 will be ignored. Current value: num_threads=5\n",
      "[LightGBM] [Warning] bagging_freq is set=9, subsample_freq=0 will be ignored. Current value: bagging_freq=9\n"
     ]
    },
    {
     "name": "stderr",
     "output_type": "stream",
     "text": [
      "\u001b[32m[I 2021-11-29 20:07:04,422]\u001b[0m Trial 27 finished with value: 0.1390081290717022 and parameters: {'bagging_freq': 9, 'min_data_in_leaf': 99, 'max_depth': 5, 'learning_rate': 0.02058843873322233, 'num_leaves': 46, 'num_threads': 5, 'min_sum_hessian_in_leaf': 5}. Best is trial 25 with value: 0.12810927715215786.\u001b[0m\n"
     ]
    },
    {
     "name": "stdout",
     "output_type": "stream",
     "text": [
      "[LightGBM] [Warning] min_data_in_leaf is set=82, min_child_samples=20 will be ignored. Current value: min_data_in_leaf=82\n",
      "[LightGBM] [Warning] min_sum_hessian_in_leaf is set=4, min_child_weight=0.001 will be ignored. Current value: min_sum_hessian_in_leaf=4\n",
      "[LightGBM] [Warning] num_threads is set=7, n_jobs=-1 will be ignored. Current value: num_threads=7\n",
      "[LightGBM] [Warning] bagging_freq is set=10, subsample_freq=0 will be ignored. Current value: bagging_freq=10\n"
     ]
    },
    {
     "name": "stderr",
     "output_type": "stream",
     "text": [
      "\u001b[32m[I 2021-11-29 20:07:11,302]\u001b[0m Trial 28 finished with value: 0.12904885888383602 and parameters: {'bagging_freq': 10, 'min_data_in_leaf': 82, 'max_depth': 11, 'learning_rate': 0.06956609760796541, 'num_leaves': 40, 'num_threads': 7, 'min_sum_hessian_in_leaf': 4}. Best is trial 25 with value: 0.12810927715215786.\u001b[0m\n"
     ]
    },
    {
     "name": "stdout",
     "output_type": "stream",
     "text": [
      "[LightGBM] [Warning] min_data_in_leaf is set=76, min_child_samples=20 will be ignored. Current value: min_data_in_leaf=76\n",
      "[LightGBM] [Warning] min_sum_hessian_in_leaf is set=9, min_child_weight=0.001 will be ignored. Current value: min_sum_hessian_in_leaf=9\n",
      "[LightGBM] [Warning] num_threads is set=5, n_jobs=-1 will be ignored. Current value: num_threads=5\n",
      "[LightGBM] [Warning] bagging_freq is set=6, subsample_freq=0 will be ignored. Current value: bagging_freq=6\n"
     ]
    },
    {
     "name": "stderr",
     "output_type": "stream",
     "text": [
      "\u001b[32m[I 2021-11-29 20:07:16,349]\u001b[0m Trial 29 finished with value: 0.13263444563185078 and parameters: {'bagging_freq': 6, 'min_data_in_leaf': 76, 'max_depth': 6, 'learning_rate': 0.038841749502651596, 'num_leaves': 25, 'num_threads': 5, 'min_sum_hessian_in_leaf': 9}. Best is trial 25 with value: 0.12810927715215786.\u001b[0m\n"
     ]
    },
    {
     "name": "stdout",
     "output_type": "stream",
     "text": [
      "[LightGBM] [Warning] min_data_in_leaf is set=89, min_child_samples=20 will be ignored. Current value: min_data_in_leaf=89\n",
      "[LightGBM] [Warning] min_sum_hessian_in_leaf is set=3, min_child_weight=0.001 will be ignored. Current value: min_sum_hessian_in_leaf=3\n",
      "[LightGBM] [Warning] num_threads is set=9, n_jobs=-1 will be ignored. Current value: num_threads=9\n",
      "[LightGBM] [Warning] bagging_freq is set=7, subsample_freq=0 will be ignored. Current value: bagging_freq=7\n"
     ]
    },
    {
     "name": "stderr",
     "output_type": "stream",
     "text": [
      "\u001b[32m[I 2021-11-29 20:07:22,311]\u001b[0m Trial 30 finished with value: 0.12820327962009018 and parameters: {'bagging_freq': 7, 'min_data_in_leaf': 89, 'max_depth': 10, 'learning_rate': 0.09975873140770448, 'num_leaves': 35, 'num_threads': 9, 'min_sum_hessian_in_leaf': 3}. Best is trial 25 with value: 0.12810927715215786.\u001b[0m\n"
     ]
    },
    {
     "name": "stdout",
     "output_type": "stream",
     "text": [
      "[LightGBM] [Warning] min_data_in_leaf is set=89, min_child_samples=20 will be ignored. Current value: min_data_in_leaf=89\n",
      "[LightGBM] [Warning] min_sum_hessian_in_leaf is set=3, min_child_weight=0.001 will be ignored. Current value: min_sum_hessian_in_leaf=3\n",
      "[LightGBM] [Warning] num_threads is set=10, n_jobs=-1 will be ignored. Current value: num_threads=10\n",
      "[LightGBM] [Warning] bagging_freq is set=7, subsample_freq=0 will be ignored. Current value: bagging_freq=7\n"
     ]
    },
    {
     "name": "stderr",
     "output_type": "stream",
     "text": [
      "\u001b[32m[I 2021-11-29 20:07:26,863]\u001b[0m Trial 31 finished with value: 0.13084312487772576 and parameters: {'bagging_freq': 7, 'min_data_in_leaf': 89, 'max_depth': 10, 'learning_rate': 0.07022060793228903, 'num_leaves': 14, 'num_threads': 10, 'min_sum_hessian_in_leaf': 3}. Best is trial 25 with value: 0.12810927715215786.\u001b[0m\n"
     ]
    },
    {
     "name": "stdout",
     "output_type": "stream",
     "text": [
      "[LightGBM] [Warning] min_data_in_leaf is set=100, min_child_samples=20 will be ignored. Current value: min_data_in_leaf=100\n",
      "[LightGBM] [Warning] min_sum_hessian_in_leaf is set=2, min_child_weight=0.001 will be ignored. Current value: min_sum_hessian_in_leaf=2\n",
      "[LightGBM] [Warning] num_threads is set=9, n_jobs=-1 will be ignored. Current value: num_threads=9\n",
      "[LightGBM] [Warning] bagging_freq is set=8, subsample_freq=0 will be ignored. Current value: bagging_freq=8\n"
     ]
    },
    {
     "name": "stderr",
     "output_type": "stream",
     "text": [
      "\u001b[32m[I 2021-11-29 20:07:29,373]\u001b[0m Trial 32 finished with value: 0.1598120443162869 and parameters: {'bagging_freq': 8, 'min_data_in_leaf': 100, 'max_depth': 1, 'learning_rate': 0.05049419534723404, 'num_leaves': 34, 'num_threads': 9, 'min_sum_hessian_in_leaf': 2}. Best is trial 25 with value: 0.12810927715215786.\u001b[0m\n"
     ]
    },
    {
     "name": "stdout",
     "output_type": "stream",
     "text": [
      "[LightGBM] [Warning] min_data_in_leaf is set=77, min_child_samples=20 will be ignored. Current value: min_data_in_leaf=77\n",
      "[LightGBM] [Warning] min_sum_hessian_in_leaf is set=2, min_child_weight=0.001 will be ignored. Current value: min_sum_hessian_in_leaf=2\n",
      "[LightGBM] [Warning] num_threads is set=6, n_jobs=-1 will be ignored. Current value: num_threads=6\n",
      "[LightGBM] [Warning] bagging_freq is set=9, subsample_freq=0 will be ignored. Current value: bagging_freq=9\n"
     ]
    },
    {
     "name": "stderr",
     "output_type": "stream",
     "text": [
      "\u001b[32m[I 2021-11-29 20:07:34,749]\u001b[0m Trial 33 finished with value: 0.12820901210690094 and parameters: {'bagging_freq': 9, 'min_data_in_leaf': 77, 'max_depth': 8, 'learning_rate': 0.09024155341340374, 'num_leaves': 46, 'num_threads': 6, 'min_sum_hessian_in_leaf': 2}. Best is trial 25 with value: 0.12810927715215786.\u001b[0m\n"
     ]
    },
    {
     "name": "stdout",
     "output_type": "stream",
     "text": [
      "[LightGBM] [Warning] min_data_in_leaf is set=90, min_child_samples=20 will be ignored. Current value: min_data_in_leaf=90\n",
      "[LightGBM] [Warning] min_sum_hessian_in_leaf is set=3, min_child_weight=0.001 will be ignored. Current value: min_sum_hessian_in_leaf=3\n",
      "[LightGBM] [Warning] num_threads is set=9, n_jobs=-1 will be ignored. Current value: num_threads=9\n",
      "[LightGBM] [Warning] bagging_freq is set=7, subsample_freq=0 will be ignored. Current value: bagging_freq=7\n"
     ]
    },
    {
     "name": "stderr",
     "output_type": "stream",
     "text": [
      "\u001b[32m[I 2021-11-29 20:07:40,666]\u001b[0m Trial 34 finished with value: 0.13257093951479076 and parameters: {'bagging_freq': 7, 'min_data_in_leaf': 90, 'max_depth': 11, 'learning_rate': 0.03371873854558121, 'num_leaves': 36, 'num_threads': 9, 'min_sum_hessian_in_leaf': 3}. Best is trial 25 with value: 0.12810927715215786.\u001b[0m\n"
     ]
    },
    {
     "name": "stdout",
     "output_type": "stream",
     "text": [
      "[LightGBM] [Warning] min_data_in_leaf is set=66, min_child_samples=20 will be ignored. Current value: min_data_in_leaf=66\n",
      "[LightGBM] [Warning] min_sum_hessian_in_leaf is set=5, min_child_weight=0.001 will be ignored. Current value: min_sum_hessian_in_leaf=5\n",
      "[LightGBM] [Warning] num_threads is set=5, n_jobs=-1 will be ignored. Current value: num_threads=5\n",
      "[LightGBM] [Warning] bagging_freq is set=6, subsample_freq=0 will be ignored. Current value: bagging_freq=6\n"
     ]
    },
    {
     "name": "stderr",
     "output_type": "stream",
     "text": [
      "\u001b[32m[I 2021-11-29 20:07:44,065]\u001b[0m Trial 35 finished with value: 0.1341183464363115 and parameters: {'bagging_freq': 6, 'min_data_in_leaf': 66, 'max_depth': 3, 'learning_rate': 0.05685385606293093, 'num_leaves': 27, 'num_threads': 5, 'min_sum_hessian_in_leaf': 5}. Best is trial 25 with value: 0.12810927715215786.\u001b[0m\n"
     ]
    },
    {
     "name": "stdout",
     "output_type": "stream",
     "text": [
      "[LightGBM] [Warning] min_data_in_leaf is set=54, min_child_samples=20 will be ignored. Current value: min_data_in_leaf=54\n",
      "[LightGBM] [Warning] min_sum_hessian_in_leaf is set=6, min_child_weight=0.001 will be ignored. Current value: min_sum_hessian_in_leaf=6\n",
      "[LightGBM] [Warning] num_threads is set=4, n_jobs=-1 will be ignored. Current value: num_threads=4\n",
      "[LightGBM] [Warning] bagging_freq is set=8, subsample_freq=0 will be ignored. Current value: bagging_freq=8\n"
     ]
    },
    {
     "name": "stderr",
     "output_type": "stream",
     "text": [
      "\u001b[32m[I 2021-11-29 20:07:50,212]\u001b[0m Trial 36 finished with value: 0.12844224242792723 and parameters: {'bagging_freq': 8, 'min_data_in_leaf': 54, 'max_depth': 13, 'learning_rate': 0.09777251885141651, 'num_leaves': 31, 'num_threads': 4, 'min_sum_hessian_in_leaf': 6}. Best is trial 25 with value: 0.12810927715215786.\u001b[0m\n"
     ]
    },
    {
     "name": "stdout",
     "output_type": "stream",
     "text": [
      "[LightGBM] [Warning] min_data_in_leaf is set=88, min_child_samples=20 will be ignored. Current value: min_data_in_leaf=88\n",
      "[LightGBM] [Warning] min_sum_hessian_in_leaf is set=4, min_child_weight=0.001 will be ignored. Current value: min_sum_hessian_in_leaf=4\n",
      "[LightGBM] [Warning] num_threads is set=6, n_jobs=-1 will be ignored. Current value: num_threads=6\n",
      "[LightGBM] [Warning] bagging_freq is set=9, subsample_freq=0 will be ignored. Current value: bagging_freq=9\n"
     ]
    },
    {
     "name": "stderr",
     "output_type": "stream",
     "text": [
      "\u001b[32m[I 2021-11-29 20:07:56,292]\u001b[0m Trial 37 finished with value: 0.13905785025585637 and parameters: {'bagging_freq': 9, 'min_data_in_leaf': 88, 'max_depth': 10, 'learning_rate': 0.016893544094590235, 'num_leaves': 58, 'num_threads': 6, 'min_sum_hessian_in_leaf': 4}. Best is trial 25 with value: 0.12810927715215786.\u001b[0m\n"
     ]
    },
    {
     "name": "stdout",
     "output_type": "stream",
     "text": [
      "[LightGBM] [Warning] min_data_in_leaf is set=70, min_child_samples=20 will be ignored. Current value: min_data_in_leaf=70\n",
      "[LightGBM] [Warning] min_sum_hessian_in_leaf is set=1, min_child_weight=0.001 will be ignored. Current value: min_sum_hessian_in_leaf=1\n",
      "[LightGBM] [Warning] num_threads is set=8, n_jobs=-1 will be ignored. Current value: num_threads=8\n",
      "[LightGBM] [Warning] bagging_freq is set=1, subsample_freq=0 will be ignored. Current value: bagging_freq=1\n"
     ]
    },
    {
     "name": "stderr",
     "output_type": "stream",
     "text": [
      "\u001b[32m[I 2021-11-29 20:08:02,669]\u001b[0m Trial 38 finished with value: 0.1288725179741067 and parameters: {'bagging_freq': 1, 'min_data_in_leaf': 70, 'max_depth': 9, 'learning_rate': 0.07174491964709147, 'num_leaves': 41, 'num_threads': 8, 'min_sum_hessian_in_leaf': 1}. Best is trial 25 with value: 0.12810927715215786.\u001b[0m\n"
     ]
    },
    {
     "name": "stdout",
     "output_type": "stream",
     "text": [
      "[LightGBM] [Warning] min_data_in_leaf is set=79, min_child_samples=20 will be ignored. Current value: min_data_in_leaf=79\n",
      "[LightGBM] [Warning] min_sum_hessian_in_leaf is set=3, min_child_weight=0.001 will be ignored. Current value: min_sum_hessian_in_leaf=3\n",
      "[LightGBM] [Warning] num_threads is set=5, n_jobs=-1 will be ignored. Current value: num_threads=5\n",
      "[LightGBM] [Warning] bagging_freq is set=10, subsample_freq=0 will be ignored. Current value: bagging_freq=10\n"
     ]
    },
    {
     "name": "stderr",
     "output_type": "stream",
     "text": [
      "\u001b[32m[I 2021-11-29 20:08:07,629]\u001b[0m Trial 39 finished with value: 0.16543309975374204 and parameters: {'bagging_freq': 10, 'min_data_in_leaf': 79, 'max_depth': 5, 'learning_rate': 0.00769958419162868, 'num_leaves': 49, 'num_threads': 5, 'min_sum_hessian_in_leaf': 3}. Best is trial 25 with value: 0.12810927715215786.\u001b[0m\n"
     ]
    },
    {
     "name": "stdout",
     "output_type": "stream",
     "text": [
      "[LightGBM] [Warning] min_data_in_leaf is set=93, min_child_samples=20 will be ignored. Current value: min_data_in_leaf=93\n",
      "[LightGBM] [Warning] min_sum_hessian_in_leaf is set=9, min_child_weight=0.001 will be ignored. Current value: min_sum_hessian_in_leaf=9\n",
      "[LightGBM] [Warning] num_threads is set=4, n_jobs=-1 will be ignored. Current value: num_threads=4\n",
      "[LightGBM] [Warning] bagging_freq is set=6, subsample_freq=0 will be ignored. Current value: bagging_freq=6\n"
     ]
    },
    {
     "name": "stderr",
     "output_type": "stream",
     "text": [
      "\u001b[32m[I 2021-11-29 20:08:14,133]\u001b[0m Trial 40 finished with value: 0.13052942780103552 and parameters: {'bagging_freq': 6, 'min_data_in_leaf': 93, 'max_depth': 9, 'learning_rate': 0.04689385083535049, 'num_leaves': 38, 'num_threads': 4, 'min_sum_hessian_in_leaf': 9}. Best is trial 25 with value: 0.12810927715215786.\u001b[0m\n"
     ]
    },
    {
     "name": "stdout",
     "output_type": "stream",
     "text": [
      "[LightGBM] [Warning] min_data_in_leaf is set=77, min_child_samples=20 will be ignored. Current value: min_data_in_leaf=77\n",
      "[LightGBM] [Warning] min_sum_hessian_in_leaf is set=2, min_child_weight=0.001 will be ignored. Current value: min_sum_hessian_in_leaf=2\n",
      "[LightGBM] [Warning] num_threads is set=6, n_jobs=-1 will be ignored. Current value: num_threads=6\n",
      "[LightGBM] [Warning] bagging_freq is set=9, subsample_freq=0 will be ignored. Current value: bagging_freq=9\n"
     ]
    },
    {
     "name": "stderr",
     "output_type": "stream",
     "text": [
      "\u001b[32m[I 2021-11-29 20:08:19,644]\u001b[0m Trial 41 finished with value: 0.12801084670474797 and parameters: {'bagging_freq': 9, 'min_data_in_leaf': 77, 'max_depth': 8, 'learning_rate': 0.09922828091825911, 'num_leaves': 45, 'num_threads': 6, 'min_sum_hessian_in_leaf': 2}. Best is trial 41 with value: 0.12801084670474797.\u001b[0m\n"
     ]
    },
    {
     "name": "stdout",
     "output_type": "stream",
     "text": [
      "[LightGBM] [Warning] min_data_in_leaf is set=84, min_child_samples=20 will be ignored. Current value: min_data_in_leaf=84\n",
      "[LightGBM] [Warning] min_sum_hessian_in_leaf is set=2, min_child_weight=0.001 will be ignored. Current value: min_sum_hessian_in_leaf=2\n",
      "[LightGBM] [Warning] num_threads is set=1, n_jobs=-1 will be ignored. Current value: num_threads=1\n",
      "[LightGBM] [Warning] bagging_freq is set=9, subsample_freq=0 will be ignored. Current value: bagging_freq=9\n"
     ]
    },
    {
     "name": "stderr",
     "output_type": "stream",
     "text": [
      "\u001b[32m[I 2021-11-29 20:08:40,410]\u001b[0m Trial 42 finished with value: 0.12856477899405713 and parameters: {'bagging_freq': 9, 'min_data_in_leaf': 84, 'max_depth': 8, 'learning_rate': 0.07660159422589789, 'num_leaves': 45, 'num_threads': 1, 'min_sum_hessian_in_leaf': 2}. Best is trial 41 with value: 0.12801084670474797.\u001b[0m\n"
     ]
    },
    {
     "name": "stdout",
     "output_type": "stream",
     "text": [
      "[LightGBM] [Warning] min_data_in_leaf is set=72, min_child_samples=20 will be ignored. Current value: min_data_in_leaf=72\n",
      "[LightGBM] [Warning] min_sum_hessian_in_leaf is set=3, min_child_weight=0.001 will be ignored. Current value: min_sum_hessian_in_leaf=3\n",
      "[LightGBM] [Warning] num_threads is set=8, n_jobs=-1 will be ignored. Current value: num_threads=8\n",
      "[LightGBM] [Warning] bagging_freq is set=8, subsample_freq=0 will be ignored. Current value: bagging_freq=8\n"
     ]
    },
    {
     "name": "stderr",
     "output_type": "stream",
     "text": [
      "\u001b[32m[I 2021-11-29 20:08:46,442]\u001b[0m Trial 43 finished with value: 0.1299906822120147 and parameters: {'bagging_freq': 8, 'min_data_in_leaf': 72, 'max_depth': 6, 'learning_rate': 0.059793955285325384, 'num_leaves': 34, 'num_threads': 8, 'min_sum_hessian_in_leaf': 3}. Best is trial 41 with value: 0.12801084670474797.\u001b[0m\n"
     ]
    },
    {
     "name": "stdout",
     "output_type": "stream",
     "text": [
      "[LightGBM] [Warning] min_data_in_leaf is set=80, min_child_samples=20 will be ignored. Current value: min_data_in_leaf=80\n",
      "[LightGBM] [Warning] min_sum_hessian_in_leaf is set=2, min_child_weight=0.001 will be ignored. Current value: min_sum_hessian_in_leaf=2\n",
      "[LightGBM] [Warning] num_threads is set=9, n_jobs=-1 will be ignored. Current value: num_threads=9\n",
      "[LightGBM] [Warning] bagging_freq is set=9, subsample_freq=0 will be ignored. Current value: bagging_freq=9\n"
     ]
    },
    {
     "name": "stderr",
     "output_type": "stream",
     "text": [
      "\u001b[32m[I 2021-11-29 20:08:53,456]\u001b[0m Trial 44 finished with value: 0.12818073576195893 and parameters: {'bagging_freq': 9, 'min_data_in_leaf': 80, 'max_depth': 13, 'learning_rate': 0.09735991887184203, 'num_leaves': 39, 'num_threads': 9, 'min_sum_hessian_in_leaf': 2}. Best is trial 41 with value: 0.12801084670474797.\u001b[0m\n"
     ]
    },
    {
     "name": "stdout",
     "output_type": "stream",
     "text": [
      "[LightGBM] [Warning] min_data_in_leaf is set=65, min_child_samples=20 will be ignored. Current value: min_data_in_leaf=65\n",
      "[LightGBM] [Warning] min_sum_hessian_in_leaf is set=1, min_child_weight=0.001 will be ignored. Current value: min_sum_hessian_in_leaf=1\n",
      "[LightGBM] [Warning] num_threads is set=7, n_jobs=-1 will be ignored. Current value: num_threads=7\n",
      "[LightGBM] [Warning] bagging_freq is set=10, subsample_freq=0 will be ignored. Current value: bagging_freq=10\n"
     ]
    },
    {
     "name": "stderr",
     "output_type": "stream",
     "text": [
      "\u001b[32m[I 2021-11-29 20:09:00,684]\u001b[0m Trial 45 finished with value: 0.22372440774770092 and parameters: {'bagging_freq': 10, 'min_data_in_leaf': 65, 'max_depth': 13, 'learning_rate': 0.0013811145782894915, 'num_leaves': 48, 'num_threads': 7, 'min_sum_hessian_in_leaf': 1}. Best is trial 41 with value: 0.12801084670474797.\u001b[0m\n"
     ]
    },
    {
     "name": "stdout",
     "output_type": "stream",
     "text": [
      "[LightGBM] [Warning] min_data_in_leaf is set=44, min_child_samples=20 will be ignored. Current value: min_data_in_leaf=44\n",
      "[LightGBM] [Warning] min_sum_hessian_in_leaf is set=2, min_child_weight=0.001 will be ignored. Current value: min_sum_hessian_in_leaf=2\n",
      "[LightGBM] [Warning] num_threads is set=10, n_jobs=-1 will be ignored. Current value: num_threads=10\n",
      "[LightGBM] [Warning] bagging_freq is set=9, subsample_freq=0 will be ignored. Current value: bagging_freq=9\n"
     ]
    },
    {
     "name": "stderr",
     "output_type": "stream",
     "text": [
      "\u001b[32m[I 2021-11-29 20:09:07,060]\u001b[0m Trial 46 finished with value: 0.12826678096984032 and parameters: {'bagging_freq': 9, 'min_data_in_leaf': 44, 'max_depth': 13, 'learning_rate': 0.07950276783576612, 'num_leaves': 53, 'num_threads': 10, 'min_sum_hessian_in_leaf': 2}. Best is trial 41 with value: 0.12801084670474797.\u001b[0m\n"
     ]
    },
    {
     "name": "stdout",
     "output_type": "stream",
     "text": [
      "[LightGBM] [Warning] min_data_in_leaf is set=55, min_child_samples=20 will be ignored. Current value: min_data_in_leaf=55\n",
      "[LightGBM] [Warning] min_sum_hessian_in_leaf is set=10, min_child_weight=0.001 will be ignored. Current value: min_sum_hessian_in_leaf=10\n",
      "[LightGBM] [Warning] num_threads is set=6, n_jobs=-1 will be ignored. Current value: num_threads=6\n",
      "[LightGBM] [Warning] bagging_freq is set=10, subsample_freq=0 will be ignored. Current value: bagging_freq=10\n"
     ]
    },
    {
     "name": "stderr",
     "output_type": "stream",
     "text": [
      "\u001b[32m[I 2021-11-29 20:09:13,621]\u001b[0m Trial 47 finished with value: 0.12876684051045262 and parameters: {'bagging_freq': 10, 'min_data_in_leaf': 55, 'max_depth': 15, 'learning_rate': 0.05918034368527756, 'num_leaves': 64, 'num_threads': 6, 'min_sum_hessian_in_leaf': 10}. Best is trial 41 with value: 0.12801084670474797.\u001b[0m\n"
     ]
    },
    {
     "name": "stdout",
     "output_type": "stream",
     "text": [
      "[LightGBM] [Warning] min_data_in_leaf is set=81, min_child_samples=20 will be ignored. Current value: min_data_in_leaf=81\n",
      "[LightGBM] [Warning] min_sum_hessian_in_leaf is set=1, min_child_weight=0.001 will be ignored. Current value: min_sum_hessian_in_leaf=1\n",
      "[LightGBM] [Warning] num_threads is set=3, n_jobs=-1 will be ignored. Current value: num_threads=3\n",
      "[LightGBM] [Warning] bagging_freq is set=9, subsample_freq=0 will be ignored. Current value: bagging_freq=9\n"
     ]
    },
    {
     "name": "stderr",
     "output_type": "stream",
     "text": [
      "\u001b[32m[I 2021-11-29 20:09:22,604]\u001b[0m Trial 48 finished with value: 0.12753892135150183 and parameters: {'bagging_freq': 9, 'min_data_in_leaf': 81, 'max_depth': 19, 'learning_rate': 0.09954752387701224, 'num_leaves': 70, 'num_threads': 3, 'min_sum_hessian_in_leaf': 1}. Best is trial 48 with value: 0.12753892135150183.\u001b[0m\n"
     ]
    },
    {
     "name": "stdout",
     "output_type": "stream",
     "text": [
      "[LightGBM] [Warning] min_data_in_leaf is set=75, min_child_samples=20 will be ignored. Current value: min_data_in_leaf=75\n",
      "[LightGBM] [Warning] min_sum_hessian_in_leaf is set=1, min_child_weight=0.001 will be ignored. Current value: min_sum_hessian_in_leaf=1\n",
      "[LightGBM] [Warning] num_threads is set=3, n_jobs=-1 will be ignored. Current value: num_threads=3\n",
      "[LightGBM] [Warning] bagging_freq is set=8, subsample_freq=0 will be ignored. Current value: bagging_freq=8\n"
     ]
    },
    {
     "name": "stderr",
     "output_type": "stream",
     "text": [
      "\u001b[32m[I 2021-11-29 20:09:26,619]\u001b[0m Trial 49 finished with value: 0.14334220648747542 and parameters: {'bagging_freq': 8, 'min_data_in_leaf': 75, 'max_depth': 19, 'learning_rate': 0.049039004634379386, 'num_leaves': 3, 'num_threads': 3, 'min_sum_hessian_in_leaf': 1}. Best is trial 48 with value: 0.12753892135150183.\u001b[0m\n"
     ]
    },
    {
     "name": "stdout",
     "output_type": "stream",
     "text": [
      "Wall time: 6min 25s\n"
     ]
    }
   ],
   "source": [
    "%%time\n",
    "study = optuna.create_study()\n",
    "study.optimize(objective, n_trials=50)"
   ]
  },
  {
   "cell_type": "code",
   "execution_count": 26,
   "id": "b84a993a-cfad-41a9-86b7-353dc3b8aa67",
   "metadata": {},
   "outputs": [
    {
     "name": "stdout",
     "output_type": "stream",
     "text": [
      "accuracy: 0.12542261079607916\n",
      "best hyperparameters: {'bagging_freq': 2, 'min_data_in_leaf': 2, 'max_depth': 14, 'learning_rate': 0.09942289907056501, 'num_leaves': 70, 'num_threads': 8, 'min_sum_hessian_in_leaf': 4}\n"
     ]
    }
   ],
   "source": [
    "## trial = study.best_trial\n",
    "print('accuracy: {}'.format(trial.value))\n",
    "print('best hyperparameters: {}'.format(trial.params))"
   ]
  },
  {
   "cell_type": "code",
   "execution_count": 27,
   "id": "6fb097ca-ea21-4111-9457-314a4ed8fb53",
   "metadata": {},
   "outputs": [],
   "source": [
    "pd_param = pd.DataFrame([trial.params])\n",
    "pd_param.to_csv('model_params.csv', index=False)"
   ]
  },
  {
   "cell_type": "markdown",
   "id": "64b6790a-241a-48f5-9458-5b7da6ebfc77",
   "metadata": {},
   "source": [
    "# <font color='blue'>Model </font>"
   ]
  },
  {
   "cell_type": "code",
   "execution_count": 28,
   "id": "7c196ad2-56cb-4fab-b81a-8f5f17f37e84",
   "metadata": {},
   "outputs": [
    {
     "name": "stdout",
     "output_type": "stream",
     "text": [
      "[LightGBM] [Warning] min_data_in_leaf is set=2, min_child_samples=20 will be ignored. Current value: min_data_in_leaf=2\n",
      "[LightGBM] [Warning] min_sum_hessian_in_leaf is set=4, min_child_weight=0.001 will be ignored. Current value: min_sum_hessian_in_leaf=4\n",
      "[LightGBM] [Warning] num_threads is set=8, n_jobs=-1 will be ignored. Current value: num_threads=8\n",
      "[LightGBM] [Warning] bagging_freq is set=2, subsample_freq=0 will be ignored. Current value: bagging_freq=2\n",
      "Wall time: 6.29 s\n"
     ]
    },
    {
     "data": {
      "text/plain": [
       "LGBMClassifier(bagging_freq=2, learning_rate=0.09942289907056501, max_depth=14,\n",
       "               min_data_in_leaf=2, min_sum_hessian_in_leaf=4, num_leaves=70,\n",
       "               num_threads=8)"
      ]
     },
     "execution_count": 28,
     "metadata": {},
     "output_type": "execute_result"
    }
   ],
   "source": [
    "%%time\n",
    "model = lightgbm.LGBMClassifier(bagging_freq=trial.params[\"bagging_freq\"], min_data_in_leaf=trial.params[\"min_data_in_leaf\"],\n",
    "                                max_depth=trial.params[\"max_depth\"],\n",
    "                                learning_rate=trial.params[\"learning_rate\"], num_leaves=trial.params[\"num_leaves\"],\n",
    "                                num_threads=trial.params[\"num_threads\"], min_sum_hessian_in_leaf=trial.params[\"min_sum_hessian_in_leaf\"])\n",
    "model.fit(X_train, Y_train)"
   ]
  },
  {
   "cell_type": "markdown",
   "id": "e6e327ff-4973-4f34-bfec-63477e157dc0",
   "metadata": {},
   "source": [
    "# <font color='blue'>Feature importance </font>"
   ]
  },
  {
   "cell_type": "code",
   "execution_count": 29,
   "id": "6a55adab-5c21-4f0c-9a73-72be5a7bb5e6",
   "metadata": {},
   "outputs": [
    {
     "data": {
      "image/png": "[encoded data removed]",
      "text/plain": [
       "<Figure size 720x720 with 1 Axes>"
      ]
     },
     "metadata": {},
     "output_type": "display_data"
    }
   ],
   "source": [
    "feature_imp = pd.DataFrame(sorted(zip(model.feature_importances_,X.columns)), columns=['Value','Feature'])\n",
    "\n",
    "plt.figure(figsize=(10, 10))\n",
    "sns.barplot(x=\"Value\", y=\"Feature\", data=feature_imp.sort_values(by=\"Value\", ascending=False))\n",
    "sns.set(font_scale = 1)\n",
    "plt.title('Features')\n",
    "plt.tight_layout()\n",
    "plt.show()"
   ]
  },
  {
   "cell_type": "code",
   "execution_count": 30,
   "id": "2a665d06-9acf-4dbe-a9a6-c10592bb5afa",
   "metadata": {},
   "outputs": [
    {
     "data": {
      "text/plain": [
       "<AxesSubplot:title={'center':'Feature importance'}, xlabel='Feature importance', ylabel='Features'>"
      ]
     },
     "execution_count": 30,
     "metadata": {},
     "output_type": "execute_result"
    },
    {
     "data": {
      "image/png": "[encoded data removed]",
      "text/plain": [
       "<Figure size 1440x1080 with 1 Axes>"
      ]
     },
     "metadata": {},
     "output_type": "display_data"
    }
   ],
   "source": [
    "lightgbm.plot_importance(model, height=1, importance_type=\"gain\", precision=0, grid=False, figsize=(20,15), edgecolor='black')"
   ]
  },
  {
   "cell_type": "markdown",
   "id": "12583ac3-5dbf-4ddc-9639-32518330f4a6",
   "metadata": {},
   "source": [
    "# <font color='blue'>MODEL PRECISION </font>"
   ]
  },
  {
   "cell_type": "code",
   "execution_count": 31,
   "id": "06070666-6d74-430c-88d9-fb167fdbe223",
   "metadata": {},
   "outputs": [
    {
     "data": {
      "image/png": "[encoded data removed]",
      "text/plain": [
       "<Figure size 720x360 with 1 Axes>"
      ]
     },
     "metadata": {},
     "output_type": "display_data"
    },
    {
     "name": "stdout",
     "output_type": "stream",
     "text": [
      "Wall time: 8.49 s\n"
     ]
    }
   ],
   "source": [
    "%%time\n",
    "plt.figure(figsize = (10,5))\n",
    "\n",
    "pred_proba = model.predict_proba(X_train)\n",
    "pred_proba_test = model.predict_proba(X_test)\n",
    "\n",
    "gmt = [\"accuracy train\", \"accuracy test\", \"log loss train\", \"log loss test\", \"brier score train\", \"brier score test\"]\n",
    "metrics = {'Labels': gmt,\n",
    "           'Value': [model.score(X_train, Y_train), model.score(X_test, Y_test),\n",
    "                     log_loss(Y_train, pred_proba),log_loss(Y_test, pred_proba_test),\n",
    "                     brier_score_loss(Y_train, pd.DataFrame(pred_proba)[1]), brier_score_loss(Y_test, pd.DataFrame(pred_proba_test)[1])]\n",
    "           }\n",
    "\n",
    "sns.set_context(rc = {'patch.linewidth': 2.0})\n",
    "sns.set(font_scale=1.3)\n",
    "ax = sns.barplot(x='Labels', y='Value', data=metrics, linewidth=2.0, edgecolor=\".2\", zorder=3, palette=sns.color_palette(\"deep\"))\n",
    "\n",
    "plt.ylabel('%')\n",
    "#plt.gca().yaxis.set_major_locator(ticker.MultipleLocator(.1))\n",
    "ax.grid(linewidth=1, color='white', zorder=0)\n",
    "ax.set_facecolor(\"#d7d7e0\")\n",
    "plt.title(\"Test metrics\")\n",
    "plt.show()"
   ]
  },
  {
   "cell_type": "code",
   "execution_count": 32,
   "id": "bec91f97-a136-4c9e-8bcd-d4dadd2b51ac",
   "metadata": {},
   "outputs": [
    {
     "name": "stdout",
     "output_type": "stream",
     "text": [
      "Brier score → 0.12759734798611577\n"
     ]
    }
   ],
   "source": [
    "print(\"Brier score → {}\".format(brier_score_loss(Y_test, pd.DataFrame(pred_proba_test)[1])))\n"
   ]
  },
  {
   "cell_type": "markdown",
   "id": "36809529-50ac-4ef1-afde-f6216c8e1bae",
   "metadata": {},
   "source": [
    "# <font color='blue'>REALIBITY CURVE </font>"
   ]
  },
  {
   "cell_type": "code",
   "execution_count": 33,
   "id": "0dc5cc59-ca86-46eb-8ec1-19aaeb561605",
   "metadata": {},
   "outputs": [
    {
     "data": {
      "image/png": "[encoded data removed]",
      "text/plain": [
       "<Figure size 1152x432 with 1 Axes>"
      ]
     },
     "metadata": {},
     "output_type": "display_data"
    },
    {
     "name": "stdout",
     "output_type": "stream",
     "text": [
      "Wall time: 437 ms\n"
     ]
    },
    {
     "data": {
      "text/plain": [
       "Text(0.5, 0, 'mean predicted value')"
      ]
     },
     "execution_count": 33,
     "metadata": {},
     "output_type": "execute_result"
    },
    {
     "data": {
      "image/png": "[encoded data removed]",
      "text/plain": [
       "<Figure size 1152x432 with 1 Axes>"
      ]
     },
     "metadata": {},
     "output_type": "display_data"
    }
   ],
   "source": [
    "%%time\n",
    "plt.figure(figsize=(16,6))\n",
    "plt.plot([0,1], [0,1], 'k:', label='flawless curve')\n",
    "x, y = calibration_curve(Y_test, pd.DataFrame(pred_proba_test)[1], n_bins=25)\n",
    "plt.plot(x, y, 's-', label='LGBM')\n",
    "plt.legend(loc='lower right')\n",
    "plt.title('Probability Calibration Curve')\n",
    "plt.ylabel('amount of positives')\n",
    "plt.xlabel('mean predicted value')\n",
    "plt.gca().xaxis.set_major_locator(ticker.MultipleLocator(0.1))\n",
    "plt.show()\n",
    "\n",
    "plt.figure(figsize=(16,6))\n",
    "plt.hist(pd.DataFrame(pred_proba_test)[1], range=(0,1), bins=25, histtype=\"step\", lw=2, fill=True, color='tab:green',\n",
    "        edgecolor='black', linewidth=1.5)\n",
    "plt.title('Predicted Value Distribution for LGBM')\n",
    "plt.ylabel('count')\n",
    "plt.xlabel('mean predicted value')"
   ]
  },
  {
   "cell_type": "markdown",
   "id": "c8d4e344-4c7c-4723-b7ca-e7f9575fa5f5",
   "metadata": {},
   "source": [
    "# <font color='blue'>CONFUSION MATRIX </font>"
   ]
  },
  {
   "cell_type": "code",
   "execution_count": 34,
   "id": "fdf833d6-f94d-4144-8104-19f92e41a9c4",
   "metadata": {},
   "outputs": [
    {
     "data": {
      "image/png": "[encoded data removed]",
      "text/plain": [
       "<Figure size 576x432 with 2 Axes>"
      ]
     },
     "metadata": {},
     "output_type": "display_data"
    }
   ],
   "source": [
    "plt.figure(figsize = (8,6))\n",
    "cm = confusion_matrix(Y_test, model.predict(X_test, num_iteration=50))\n",
    "cm = (cm/cm.sum(axis=1).reshape(-1,1))\n",
    "\n",
    "sns.heatmap(cm, cmap=\"YlGnBu\", vmin=0., vmax=1., annot=True, annot_kws={'size':45})\n",
    "plt.title(\"wa\", fontsize = 5)\n",
    "plt.ylabel('Predicted label')\n",
    "plt.xlabel('True label')\n",
    "plt.show()"
   ]
  },
  {
   "cell_type": "code",
   "execution_count": 19,
   "id": "0b9e7fb1-d11b-4f2a-9430-d0ce97655152",
   "metadata": {},
   "outputs": [
    {
     "data": {
      "text/plain": [
       "0.8107425791483006"
      ]
     },
     "execution_count": 19,
     "metadata": {},
     "output_type": "execute_result"
    }
   ],
   "source": [
    "Y_pred = model.predict(X_test)\n",
    "classification_report(Y_test, Y_pred, output_dict=True)[\"weighted avg\"][\"f1-score\"]"
   ]
  },
  {
   "cell_type": "code",
   "execution_count": null,
   "id": "b838a4b6-48ce-4e07-ad07-dd08a50f8e95",
   "metadata": {},
   "outputs": [],
   "source": []
  }
 ],
 "metadata": {
  "kernelspec": {
   "display_name": "Python 3",
   "language": "python",
   "name": "python3"
  },
  "language_info": {
   "codemirror_mode": {
    "name": "ipython",
    "version": 3
   },
   "file_extension": ".py",
   "mimetype": "text/x-python",
   "name": "python",
   "nbconvert_exporter": "python",
   "pygments_lexer": "ipython3",
   "version": "3.8.8"
  }
 },
 "nbformat": 4,
 "nbformat_minor": 5
}
