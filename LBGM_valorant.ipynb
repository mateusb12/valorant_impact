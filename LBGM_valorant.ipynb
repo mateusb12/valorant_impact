{
 "cells": [
  {
   "cell_type": "markdown",
   "id": "63980c60-20f6-4bbb-9db1-1c204f838633",
   "metadata": {},
   "source": [
    "# <font color='blue'>Imports </font>"
   ]
  },
  {
   "cell_type": "code",
   "execution_count": 1,
   "id": "ebaca379-3d02-4ed2-9280-44fc8cd0b0b6",
   "metadata": {},
   "outputs": [
    {
     "name": "stdout",
     "output_type": "stream",
     "text": [
      "Wall time: 1.53 s\n"
     ]
    }
   ],
   "source": [
    "%%time\n",
    "import pandas as pd\n",
    "import numpy as np\n",
    "import seaborn as sns\n",
    "import lightgbm\n",
    "import optuna\n",
    "import optuna.integration.lightgbm as lgb\n",
    "import matplotlib.lines as line\n",
    "import matplotlib.ticker as ticker\n",
    "from matplotlib import pyplot as plt\n",
    "from matplotlib.pyplot import figure\n",
    "from matplotlib import rc\n",
    "import sklearn.datasets as skd\n",
    "from sklearn.model_selection import KFold\n",
    "from sklearn.ensemble import RandomForestClassifier\n",
    "from sklearn.calibration import calibration_curve\n",
    "from sklearn.model_selection import train_test_split, cross_val_score\n",
    "from sklearn.tree import DecisionTreeClassifier\n",
    "from sklearn.linear_model import LogisticRegression\n",
    "from sklearn.neighbors import KNeighborsClassifier\n",
    "from sklearn.metrics import r2_score, explained_variance_score, confusion_matrix, accuracy_score, classification_report, log_loss, brier_score_loss"
   ]
  },
  {
   "cell_type": "code",
   "execution_count": 8,
   "id": "4954ed36-a5e7-4b6a-9cbc-6009bcd22b4e",
   "metadata": {},
   "outputs": [
    {
     "name": "stdout",
     "output_type": "stream",
     "text": [
      "Wall time: 396 ms\n"
     ]
    }
   ],
   "source": [
    "%%time\n",
    "path = 'D:\\\\Documents\\\\GitHub\\\\Classification_datascience\\\\webscrapping\\\\matches\\\\rounds\\\\'\n",
    "dataset = pd.read_csv('{}combined_csv.csv'.format(path))"
   ]
  },
  {
   "cell_type": "code",
   "execution_count": 9,
   "id": "ec46ee7f-ef6d-42db-b030-63178b0818b7",
   "metadata": {},
   "outputs": [
    {
     "data": {
      "text/plain": [
       "Index(['RoundID', 'RoundNumber', 'RoundTime', 'ATK_wealth', 'DEF_wealth',\n",
       "       'ATK_alive', 'DEF_alive', 'DEF_has_OP', 'Def_has_Odin', 'RegularTime',\n",
       "       'SpikeTime', 'ATK_bank', 'DEF_bank', 'ATK_initiators', 'ATK_duelists',\n",
       "       'ATK_sentinels', 'ATK_controllers', 'DEF_initiators', 'DEF_duelists',\n",
       "       'DEF_sentinels', 'DEF_controllers', 'MapName', 'MatchID', 'SeriesID',\n",
       "       'bestOF', 'FinalWinner'],\n",
       "      dtype='object')"
      ]
     },
     "execution_count": 9,
     "metadata": {},
     "output_type": "execute_result"
    }
   ],
   "source": [
    "dataset.columns"
   ]
  },
  {
   "cell_type": "code",
   "execution_count": 10,
   "id": "fb58b9b9-7ca6-4f09-a94f-6fd4964b7894",
   "metadata": {},
   "outputs": [],
   "source": [
    "dataset = dataset[['ATK_wealth', 'DEF_wealth',\n",
    "                   'ATK_initiators', 'ATK_duelists', 'ATK_sentinels', 'ATK_controllers',\n",
    "                   'DEF_initiators', 'DEF_duelists', 'DEF_sentinels', 'DEF_controllers',\n",
    "                   'DEF_has_OP', 'Def_has_Odin',\n",
    "                    'RegularTime', 'SpikeTime',\n",
    "                   'MapName',\n",
    "                   'FinalWinner']]"
   ]
  },
  {
   "cell_type": "code",
   "execution_count": 11,
   "id": "ec59ea1e-144b-4ae2-992a-4300d0023de5",
   "metadata": {},
   "outputs": [],
   "source": [
    "dataset = pd.get_dummies(dataset, columns=['MapName'])"
   ]
  },
  {
   "cell_type": "code",
   "execution_count": 12,
   "id": "416fa483-0e80-44c4-a849-140e9408f7f8",
   "metadata": {},
   "outputs": [
    {
     "data": {
      "text/html": [
       "<div>\n",
       "<style scoped>\n",
       "    .dataframe tbody tr th:only-of-type {\n",
       "        vertical-align: middle;\n",
       "    }\n",
       "\n",
       "    .dataframe tbody tr th {\n",
       "        vertical-align: top;\n",
       "    }\n",
       "\n",
       "    .dataframe thead th {\n",
       "        text-align: right;\n",
       "    }\n",
       "</style>\n",
       "<table border=\"1\" class=\"dataframe\">\n",
       "  <thead>\n",
       "    <tr style=\"text-align: right;\">\n",
       "      <th></th>\n",
       "      <th>ATK_wealth</th>\n",
       "      <th>DEF_wealth</th>\n",
       "      <th>ATK_initiators</th>\n",
       "      <th>ATK_duelists</th>\n",
       "      <th>ATK_sentinels</th>\n",
       "      <th>ATK_controllers</th>\n",
       "      <th>DEF_initiators</th>\n",
       "      <th>DEF_duelists</th>\n",
       "      <th>DEF_sentinels</th>\n",
       "      <th>DEF_controllers</th>\n",
       "      <th>...</th>\n",
       "      <th>Def_has_Odin</th>\n",
       "      <th>RegularTime</th>\n",
       "      <th>SpikeTime</th>\n",
       "      <th>FinalWinner</th>\n",
       "      <th>MapName_Ascent</th>\n",
       "      <th>MapName_Bind</th>\n",
       "      <th>MapName_Breeze</th>\n",
       "      <th>MapName_Haven</th>\n",
       "      <th>MapName_Icebox</th>\n",
       "      <th>MapName_Split</th>\n",
       "    </tr>\n",
       "  </thead>\n",
       "  <tbody>\n",
       "    <tr>\n",
       "      <th>0</th>\n",
       "      <td>500.0</td>\n",
       "      <td>0.0</td>\n",
       "      <td>1</td>\n",
       "      <td>2</td>\n",
       "      <td>1</td>\n",
       "      <td>1</td>\n",
       "      <td>1</td>\n",
       "      <td>1</td>\n",
       "      <td>2</td>\n",
       "      <td>1</td>\n",
       "      <td>...</td>\n",
       "      <td>0</td>\n",
       "      <td>0</td>\n",
       "      <td>0</td>\n",
       "      <td>0</td>\n",
       "      <td>0</td>\n",
       "      <td>0</td>\n",
       "      <td>0</td>\n",
       "      <td>1</td>\n",
       "      <td>0</td>\n",
       "      <td>0</td>\n",
       "    </tr>\n",
       "    <tr>\n",
       "      <th>1</th>\n",
       "      <td>500.0</td>\n",
       "      <td>0.0</td>\n",
       "      <td>1</td>\n",
       "      <td>2</td>\n",
       "      <td>1</td>\n",
       "      <td>1</td>\n",
       "      <td>1</td>\n",
       "      <td>0</td>\n",
       "      <td>2</td>\n",
       "      <td>1</td>\n",
       "      <td>...</td>\n",
       "      <td>0</td>\n",
       "      <td>21</td>\n",
       "      <td>0</td>\n",
       "      <td>0</td>\n",
       "      <td>0</td>\n",
       "      <td>0</td>\n",
       "      <td>0</td>\n",
       "      <td>1</td>\n",
       "      <td>0</td>\n",
       "      <td>0</td>\n",
       "    </tr>\n",
       "    <tr>\n",
       "      <th>2</th>\n",
       "      <td>400.0</td>\n",
       "      <td>0.0</td>\n",
       "      <td>1</td>\n",
       "      <td>1</td>\n",
       "      <td>1</td>\n",
       "      <td>1</td>\n",
       "      <td>1</td>\n",
       "      <td>0</td>\n",
       "      <td>2</td>\n",
       "      <td>1</td>\n",
       "      <td>...</td>\n",
       "      <td>0</td>\n",
       "      <td>22</td>\n",
       "      <td>0</td>\n",
       "      <td>0</td>\n",
       "      <td>0</td>\n",
       "      <td>0</td>\n",
       "      <td>0</td>\n",
       "      <td>1</td>\n",
       "      <td>0</td>\n",
       "      <td>0</td>\n",
       "    </tr>\n",
       "    <tr>\n",
       "      <th>3</th>\n",
       "      <td>300.0</td>\n",
       "      <td>0.0</td>\n",
       "      <td>1</td>\n",
       "      <td>0</td>\n",
       "      <td>1</td>\n",
       "      <td>1</td>\n",
       "      <td>1</td>\n",
       "      <td>0</td>\n",
       "      <td>2</td>\n",
       "      <td>1</td>\n",
       "      <td>...</td>\n",
       "      <td>0</td>\n",
       "      <td>24</td>\n",
       "      <td>0</td>\n",
       "      <td>0</td>\n",
       "      <td>0</td>\n",
       "      <td>0</td>\n",
       "      <td>0</td>\n",
       "      <td>1</td>\n",
       "      <td>0</td>\n",
       "      <td>0</td>\n",
       "    </tr>\n",
       "    <tr>\n",
       "      <th>4</th>\n",
       "      <td>200.0</td>\n",
       "      <td>0.0</td>\n",
       "      <td>0</td>\n",
       "      <td>0</td>\n",
       "      <td>1</td>\n",
       "      <td>1</td>\n",
       "      <td>1</td>\n",
       "      <td>0</td>\n",
       "      <td>2</td>\n",
       "      <td>1</td>\n",
       "      <td>...</td>\n",
       "      <td>0</td>\n",
       "      <td>26</td>\n",
       "      <td>0</td>\n",
       "      <td>0</td>\n",
       "      <td>0</td>\n",
       "      <td>0</td>\n",
       "      <td>0</td>\n",
       "      <td>1</td>\n",
       "      <td>0</td>\n",
       "      <td>0</td>\n",
       "    </tr>\n",
       "  </tbody>\n",
       "</table>\n",
       "<p>5 rows × 21 columns</p>\n",
       "</div>"
      ],
      "text/plain": [
       "   ATK_wealth  DEF_wealth  ATK_initiators  ATK_duelists  ATK_sentinels  \\\n",
       "0       500.0         0.0               1             2              1   \n",
       "1       500.0         0.0               1             2              1   \n",
       "2       400.0         0.0               1             1              1   \n",
       "3       300.0         0.0               1             0              1   \n",
       "4       200.0         0.0               0             0              1   \n",
       "\n",
       "   ATK_controllers  DEF_initiators  DEF_duelists  DEF_sentinels  \\\n",
       "0                1               1             1              2   \n",
       "1                1               1             0              2   \n",
       "2                1               1             0              2   \n",
       "3                1               1             0              2   \n",
       "4                1               1             0              2   \n",
       "\n",
       "   DEF_controllers  ...  Def_has_Odin  RegularTime  SpikeTime  FinalWinner  \\\n",
       "0                1  ...             0            0          0            0   \n",
       "1                1  ...             0           21          0            0   \n",
       "2                1  ...             0           22          0            0   \n",
       "3                1  ...             0           24          0            0   \n",
       "4                1  ...             0           26          0            0   \n",
       "\n",
       "   MapName_Ascent  MapName_Bind  MapName_Breeze  MapName_Haven  \\\n",
       "0               0             0               0              1   \n",
       "1               0             0               0              1   \n",
       "2               0             0               0              1   \n",
       "3               0             0               0              1   \n",
       "4               0             0               0              1   \n",
       "\n",
       "   MapName_Icebox  MapName_Split  \n",
       "0               0              0  \n",
       "1               0              0  \n",
       "2               0              0  \n",
       "3               0              0  \n",
       "4               0              0  \n",
       "\n",
       "[5 rows x 21 columns]"
      ]
     },
     "execution_count": 12,
     "metadata": {},
     "output_type": "execute_result"
    }
   ],
   "source": [
    "dataset.head()"
   ]
  },
  {
   "cell_type": "code",
   "execution_count": 13,
   "id": "ee9dad22-5eec-4f12-a5b8-44a0cd01103f",
   "metadata": {},
   "outputs": [],
   "source": [
    "X = dataset.drop(['FinalWinner'], axis='columns')\n",
    "Y = dataset.FinalWinner\n",
    "\n",
    "X_train, X_test, Y_train, Y_test = train_test_split(X, Y, train_size=0.8, test_size=0.2, random_state=15)\n",
    "X_train, X_valid, Y_train, Y_valid = train_test_split(X_train, Y_train, train_size=0.9, test_size=0.1, random_state=15)"
   ]
  },
  {
   "cell_type": "markdown",
   "id": "3a4b3eac-d591-45dd-b1bd-e32cf9cf0640",
   "metadata": {},
   "source": [
    "# <font color='blue'>Parameter tuning </font>"
   ]
  },
  {
   "cell_type": "code",
   "execution_count": 14,
   "id": "b881d960-25e1-4bbd-a8bf-dab3efc7a9ad",
   "metadata": {},
   "outputs": [],
   "source": [
    "def objective(trial):\n",
    "    bagging_freq =  trial.suggest_int('bagging_freq',1,10),\n",
    "    min_data_in_leaf =  trial.suggest_int('min_data_in_leaf',2,100),\n",
    "    max_depth = trial.suggest_int('max_depth',1,20),\n",
    "    learning_rate = trial.suggest_loguniform('learning_rate',0.001,0.1),\n",
    "    num_leaves = trial.suggest_int('num_leaves',2,70),\n",
    "    num_threads = trial.suggest_int('num_threads',1,10),\n",
    "    min_sum_hessian_in_leaf = trial.suggest_int('min_sum_hessian_in_leaf',1,10),\n",
    "    \n",
    "    model = lightgbm.LGBMClassifier(bagging_freq=bagging_freq,\n",
    "                                    min_data_in_leaf=min_data_in_leaf,\n",
    "                                   max_depth=max_depth,\n",
    "                                   learning_rate=learning_rate,\n",
    "                                   num_leaves=num_leaves,\n",
    "                                   num_threads=num_threads,\n",
    "                                   min_sum_hessian_in_leaf=min_sum_hessian_in_leaf)\n",
    "    model.fit(X_train,Y_train)\n",
    "    pred_proba_test = model.predict_proba(X_test)\n",
    "    score = brier_score_loss(Y_test, pd.DataFrame(pred_proba_test)[1])\n",
    "    return score"
   ]
  },
  {
   "cell_type": "code",
   "execution_count": 15,
   "id": "0f1c22f9-6229-453c-992f-0af06f24b1bc",
   "metadata": {
    "scrolled": true,
    "tags": []
   },
   "outputs": [
    {
     "name": "stderr",
     "output_type": "stream",
     "text": [
      "\u001b[32m[I 2021-06-18 20:42:08,863]\u001b[0m A new study created in memory with name: no-name-d1013864-4c0c-4803-b86d-b3263defcb85\u001b[0m\n"
     ]
    },
    {
     "name": "stdout",
     "output_type": "stream",
     "text": [
      "[LightGBM] [Warning] min_data_in_leaf is set=49, min_child_samples=20 will be ignored. Current value: min_data_in_leaf=49\n",
      "[LightGBM] [Warning] min_sum_hessian_in_leaf is set=5, min_child_weight=0.001 will be ignored. Current value: min_sum_hessian_in_leaf=5\n",
      "[LightGBM] [Warning] num_threads is set=3, n_jobs=-1 will be ignored. Current value: num_threads=3\n",
      "[LightGBM] [Warning] bagging_freq is set=8, subsample_freq=0 will be ignored. Current value: bagging_freq=8\n"
     ]
    },
    {
     "name": "stderr",
     "output_type": "stream",
     "text": [
      "\u001b[32m[I 2021-06-18 20:42:09,633]\u001b[0m Trial 0 finished with value: 0.13345302098284365 and parameters: {'bagging_freq': 8, 'min_data_in_leaf': 49, 'max_depth': 4, 'learning_rate': 0.07286653076362465, 'num_leaves': 13, 'num_threads': 3, 'min_sum_hessian_in_leaf': 5}. Best is trial 0 with value: 0.13345302098284365.\u001b[0m\n"
     ]
    },
    {
     "name": "stdout",
     "output_type": "stream",
     "text": [
      "[LightGBM] [Warning] min_data_in_leaf is set=55, min_child_samples=20 will be ignored. Current value: min_data_in_leaf=55\n",
      "[LightGBM] [Warning] min_sum_hessian_in_leaf is set=6, min_child_weight=0.001 will be ignored. Current value: min_sum_hessian_in_leaf=6\n",
      "[LightGBM] [Warning] num_threads is set=7, n_jobs=-1 will be ignored. Current value: num_threads=7\n",
      "[LightGBM] [Warning] bagging_freq is set=8, subsample_freq=0 will be ignored. Current value: bagging_freq=8\n"
     ]
    },
    {
     "name": "stderr",
     "output_type": "stream",
     "text": [
      "\u001b[32m[I 2021-06-18 20:42:10,439]\u001b[0m Trial 1 finished with value: 0.14084078455271626 and parameters: {'bagging_freq': 8, 'min_data_in_leaf': 55, 'max_depth': 20, 'learning_rate': 0.02507897211331298, 'num_leaves': 23, 'num_threads': 7, 'min_sum_hessian_in_leaf': 6}. Best is trial 0 with value: 0.13345302098284365.\u001b[0m\n"
     ]
    },
    {
     "name": "stdout",
     "output_type": "stream",
     "text": [
      "[LightGBM] [Warning] min_data_in_leaf is set=48, min_child_samples=20 will be ignored. Current value: min_data_in_leaf=48\n",
      "[LightGBM] [Warning] min_sum_hessian_in_leaf is set=3, min_child_weight=0.001 will be ignored. Current value: min_sum_hessian_in_leaf=3\n",
      "[LightGBM] [Warning] num_threads is set=3, n_jobs=-1 will be ignored. Current value: num_threads=3\n",
      "[LightGBM] [Warning] bagging_freq is set=8, subsample_freq=0 will be ignored. Current value: bagging_freq=8\n"
     ]
    },
    {
     "name": "stderr",
     "output_type": "stream",
     "text": [
      "\u001b[32m[I 2021-06-18 20:42:11,263]\u001b[0m Trial 2 finished with value: 0.1486473687134053 and parameters: {'bagging_freq': 8, 'min_data_in_leaf': 48, 'max_depth': 15, 'learning_rate': 0.018338409676919517, 'num_leaves': 16, 'num_threads': 3, 'min_sum_hessian_in_leaf': 3}. Best is trial 0 with value: 0.13345302098284365.\u001b[0m\n"
     ]
    },
    {
     "name": "stdout",
     "output_type": "stream",
     "text": [
      "[LightGBM] [Warning] min_data_in_leaf is set=11, min_child_samples=20 will be ignored. Current value: min_data_in_leaf=11\n",
      "[LightGBM] [Warning] min_sum_hessian_in_leaf is set=5, min_child_weight=0.001 will be ignored. Current value: min_sum_hessian_in_leaf=5\n",
      "[LightGBM] [Warning] num_threads is set=1, n_jobs=-1 will be ignored. Current value: num_threads=1\n",
      "[LightGBM] [Warning] bagging_freq is set=3, subsample_freq=0 will be ignored. Current value: bagging_freq=3\n"
     ]
    },
    {
     "name": "stderr",
     "output_type": "stream",
     "text": [
      "\u001b[32m[I 2021-06-18 20:42:13,670]\u001b[0m Trial 3 finished with value: 0.13313844344785689 and parameters: {'bagging_freq': 3, 'min_data_in_leaf': 11, 'max_depth': 6, 'learning_rate': 0.04254436245886494, 'num_leaves': 47, 'num_threads': 1, 'min_sum_hessian_in_leaf': 5}. Best is trial 3 with value: 0.13313844344785689.\u001b[0m\n"
     ]
    },
    {
     "name": "stdout",
     "output_type": "stream",
     "text": [
      "[LightGBM] [Warning] min_data_in_leaf is set=51, min_child_samples=20 will be ignored. Current value: min_data_in_leaf=51\n",
      "[LightGBM] [Warning] min_sum_hessian_in_leaf is set=9, min_child_weight=0.001 will be ignored. Current value: min_sum_hessian_in_leaf=9\n",
      "[LightGBM] [Warning] num_threads is set=9, n_jobs=-1 will be ignored. Current value: num_threads=9\n",
      "[LightGBM] [Warning] bagging_freq is set=5, subsample_freq=0 will be ignored. Current value: bagging_freq=5\n"
     ]
    },
    {
     "name": "stderr",
     "output_type": "stream",
     "text": [
      "\u001b[32m[I 2021-06-18 20:42:14,050]\u001b[0m Trial 4 finished with value: 0.20625896084637188 and parameters: {'bagging_freq': 5, 'min_data_in_leaf': 51, 'max_depth': 1, 'learning_rate': 0.012149005849527285, 'num_leaves': 55, 'num_threads': 9, 'min_sum_hessian_in_leaf': 9}. Best is trial 3 with value: 0.13313844344785689.\u001b[0m\n"
     ]
    },
    {
     "name": "stdout",
     "output_type": "stream",
     "text": [
      "[LightGBM] [Warning] min_data_in_leaf is set=73, min_child_samples=20 will be ignored. Current value: min_data_in_leaf=73\n",
      "[LightGBM] [Warning] min_sum_hessian_in_leaf is set=9, min_child_weight=0.001 will be ignored. Current value: min_sum_hessian_in_leaf=9\n",
      "[LightGBM] [Warning] num_threads is set=6, n_jobs=-1 will be ignored. Current value: num_threads=6\n",
      "[LightGBM] [Warning] bagging_freq is set=3, subsample_freq=0 will be ignored. Current value: bagging_freq=3\n"
     ]
    },
    {
     "name": "stderr",
     "output_type": "stream",
     "text": [
      "\u001b[32m[I 2021-06-18 20:42:14,423]\u001b[0m Trial 5 finished with value: 0.17255633318732788 and parameters: {'bagging_freq': 3, 'min_data_in_leaf': 73, 'max_depth': 1, 'learning_rate': 0.03910788237138652, 'num_leaves': 16, 'num_threads': 6, 'min_sum_hessian_in_leaf': 9}. Best is trial 3 with value: 0.13313844344785689.\u001b[0m\n"
     ]
    },
    {
     "name": "stdout",
     "output_type": "stream",
     "text": [
      "[LightGBM] [Warning] min_data_in_leaf is set=85, min_child_samples=20 will be ignored. Current value: min_data_in_leaf=85\n",
      "[LightGBM] [Warning] min_sum_hessian_in_leaf is set=8, min_child_weight=0.001 will be ignored. Current value: min_sum_hessian_in_leaf=8\n",
      "[LightGBM] [Warning] num_threads is set=5, n_jobs=-1 will be ignored. Current value: num_threads=5\n",
      "[LightGBM] [Warning] bagging_freq is set=6, subsample_freq=0 will be ignored. Current value: bagging_freq=6\n"
     ]
    },
    {
     "name": "stderr",
     "output_type": "stream",
     "text": [
      "\u001b[32m[I 2021-06-18 20:42:15,033]\u001b[0m Trial 6 finished with value: 0.16121980390198531 and parameters: {'bagging_freq': 6, 'min_data_in_leaf': 85, 'max_depth': 4, 'learning_rate': 0.011656436615678629, 'num_leaves': 67, 'num_threads': 5, 'min_sum_hessian_in_leaf': 8}. Best is trial 3 with value: 0.13313844344785689.\u001b[0m\n"
     ]
    },
    {
     "name": "stdout",
     "output_type": "stream",
     "text": [
      "[LightGBM] [Warning] min_data_in_leaf is set=97, min_child_samples=20 will be ignored. Current value: min_data_in_leaf=97\n",
      "[LightGBM] [Warning] min_sum_hessian_in_leaf is set=4, min_child_weight=0.001 will be ignored. Current value: min_sum_hessian_in_leaf=4\n",
      "[LightGBM] [Warning] num_threads is set=8, n_jobs=-1 will be ignored. Current value: num_threads=8\n",
      "[LightGBM] [Warning] bagging_freq is set=3, subsample_freq=0 will be ignored. Current value: bagging_freq=3\n"
     ]
    },
    {
     "name": "stderr",
     "output_type": "stream",
     "text": [
      "\u001b[32m[I 2021-06-18 20:42:15,926]\u001b[0m Trial 7 finished with value: 0.16491815187190043 and parameters: {'bagging_freq': 3, 'min_data_in_leaf': 97, 'max_depth': 20, 'learning_rate': 0.008560455480042984, 'num_leaves': 36, 'num_threads': 8, 'min_sum_hessian_in_leaf': 4}. Best is trial 3 with value: 0.13313844344785689.\u001b[0m\n"
     ]
    },
    {
     "name": "stdout",
     "output_type": "stream",
     "text": [
      "[LightGBM] [Warning] min_data_in_leaf is set=84, min_child_samples=20 will be ignored. Current value: min_data_in_leaf=84\n",
      "[LightGBM] [Warning] min_sum_hessian_in_leaf is set=1, min_child_weight=0.001 will be ignored. Current value: min_sum_hessian_in_leaf=1\n",
      "[LightGBM] [Warning] num_threads is set=6, n_jobs=-1 will be ignored. Current value: num_threads=6\n",
      "[LightGBM] [Warning] bagging_freq is set=6, subsample_freq=0 will be ignored. Current value: bagging_freq=6\n"
     ]
    },
    {
     "name": "stderr",
     "output_type": "stream",
     "text": [
      "\u001b[32m[I 2021-06-18 20:42:16,417]\u001b[0m Trial 8 finished with value: 0.23841026065031265 and parameters: {'bagging_freq': 6, 'min_data_in_leaf': 84, 'max_depth': 18, 'learning_rate': 0.0022854431305820233, 'num_leaves': 2, 'num_threads': 6, 'min_sum_hessian_in_leaf': 1}. Best is trial 3 with value: 0.13313844344785689.\u001b[0m\n"
     ]
    },
    {
     "name": "stdout",
     "output_type": "stream",
     "text": [
      "[LightGBM] [Warning] min_data_in_leaf is set=27, min_child_samples=20 will be ignored. Current value: min_data_in_leaf=27\n",
      "[LightGBM] [Warning] min_sum_hessian_in_leaf is set=9, min_child_weight=0.001 will be ignored. Current value: min_sum_hessian_in_leaf=9\n",
      "[LightGBM] [Warning] num_threads is set=7, n_jobs=-1 will be ignored. Current value: num_threads=7\n",
      "[LightGBM] [Warning] bagging_freq is set=8, subsample_freq=0 will be ignored. Current value: bagging_freq=8\n"
     ]
    },
    {
     "name": "stderr",
     "output_type": "stream",
     "text": [
      "\u001b[32m[I 2021-06-18 20:42:17,596]\u001b[0m Trial 9 finished with value: 0.14415364034644337 and parameters: {'bagging_freq': 8, 'min_data_in_leaf': 27, 'max_depth': 13, 'learning_rate': 0.016326156381223852, 'num_leaves': 62, 'num_threads': 7, 'min_sum_hessian_in_leaf': 9}. Best is trial 3 with value: 0.13313844344785689.\u001b[0m\n"
     ]
    },
    {
     "name": "stdout",
     "output_type": "stream",
     "text": [
      "[LightGBM] [Warning] min_data_in_leaf is set=4, min_child_samples=20 will be ignored. Current value: min_data_in_leaf=4\n",
      "[LightGBM] [Warning] min_sum_hessian_in_leaf is set=1, min_child_weight=0.001 will be ignored. Current value: min_sum_hessian_in_leaf=1\n",
      "[LightGBM] [Warning] num_threads is set=1, n_jobs=-1 will be ignored. Current value: num_threads=1\n",
      "[LightGBM] [Warning] bagging_freq is set=1, subsample_freq=0 will be ignored. Current value: bagging_freq=1\n"
     ]
    },
    {
     "name": "stderr",
     "output_type": "stream",
     "text": [
      "\u001b[32m[I 2021-06-18 20:42:20,134]\u001b[0m Trial 10 finished with value: 0.12935493001536716 and parameters: {'bagging_freq': 1, 'min_data_in_leaf': 4, 'max_depth': 7, 'learning_rate': 0.07937475889321557, 'num_leaves': 48, 'num_threads': 1, 'min_sum_hessian_in_leaf': 1}. Best is trial 10 with value: 0.12935493001536716.\u001b[0m\n"
     ]
    },
    {
     "name": "stdout",
     "output_type": "stream",
     "text": [
      "[LightGBM] [Warning] min_data_in_leaf is set=3, min_child_samples=20 will be ignored. Current value: min_data_in_leaf=3\n",
      "[LightGBM] [Warning] min_sum_hessian_in_leaf is set=1, min_child_weight=0.001 will be ignored. Current value: min_sum_hessian_in_leaf=1\n",
      "[LightGBM] [Warning] num_threads is set=1, n_jobs=-1 will be ignored. Current value: num_threads=1\n",
      "[LightGBM] [Warning] bagging_freq is set=1, subsample_freq=0 will be ignored. Current value: bagging_freq=1\n"
     ]
    },
    {
     "name": "stderr",
     "output_type": "stream",
     "text": [
      "\u001b[32m[I 2021-06-18 20:42:22,635]\u001b[0m Trial 11 finished with value: 0.12877300350450718 and parameters: {'bagging_freq': 1, 'min_data_in_leaf': 3, 'max_depth': 8, 'learning_rate': 0.09778104438425568, 'num_leaves': 46, 'num_threads': 1, 'min_sum_hessian_in_leaf': 1}. Best is trial 11 with value: 0.12877300350450718.\u001b[0m\n"
     ]
    },
    {
     "name": "stdout",
     "output_type": "stream",
     "text": [
      "[LightGBM] [Warning] min_data_in_leaf is set=2, min_child_samples=20 will be ignored. Current value: min_data_in_leaf=2\n",
      "[LightGBM] [Warning] min_sum_hessian_in_leaf is set=1, min_child_weight=0.001 will be ignored. Current value: min_sum_hessian_in_leaf=1\n",
      "[LightGBM] [Warning] num_threads is set=1, n_jobs=-1 will be ignored. Current value: num_threads=1\n",
      "[LightGBM] [Warning] bagging_freq is set=1, subsample_freq=0 will be ignored. Current value: bagging_freq=1\n"
     ]
    },
    {
     "name": "stderr",
     "output_type": "stream",
     "text": [
      "\u001b[32m[I 2021-06-18 20:42:25,130]\u001b[0m Trial 12 finished with value: 0.1296851325414877 and parameters: {'bagging_freq': 1, 'min_data_in_leaf': 2, 'max_depth': 9, 'learning_rate': 0.08140729170953112, 'num_leaves': 41, 'num_threads': 1, 'min_sum_hessian_in_leaf': 1}. Best is trial 11 with value: 0.12877300350450718.\u001b[0m\n"
     ]
    },
    {
     "name": "stdout",
     "output_type": "stream",
     "text": [
      "[LightGBM] [Warning] min_data_in_leaf is set=20, min_child_samples=20 will be ignored. Current value: min_data_in_leaf=20\n",
      "[LightGBM] [Warning] min_sum_hessian_in_leaf is set=2, min_child_weight=0.001 will be ignored. Current value: min_sum_hessian_in_leaf=2\n",
      "[LightGBM] [Warning] num_threads is set=3, n_jobs=-1 will be ignored. Current value: num_threads=3\n",
      "[LightGBM] [Warning] bagging_freq is set=1, subsample_freq=0 will be ignored. Current value: bagging_freq=1\n"
     ]
    },
    {
     "name": "stderr",
     "output_type": "stream",
     "text": [
      "\u001b[32m[I 2021-06-18 20:42:26,167]\u001b[0m Trial 13 finished with value: 0.1905401743269725 and parameters: {'bagging_freq': 1, 'min_data_in_leaf': 20, 'max_depth': 10, 'learning_rate': 0.004199821927014484, 'num_leaves': 53, 'num_threads': 3, 'min_sum_hessian_in_leaf': 2}. Best is trial 11 with value: 0.12877300350450718.\u001b[0m\n"
     ]
    },
    {
     "name": "stdout",
     "output_type": "stream",
     "text": [
      "[LightGBM] [Warning] min_data_in_leaf is set=3, min_child_samples=20 will be ignored. Current value: min_data_in_leaf=3\n",
      "[LightGBM] [Warning] min_sum_hessian_in_leaf is set=1, min_child_weight=0.001 will be ignored. Current value: min_sum_hessian_in_leaf=1\n",
      "[LightGBM] [Warning] num_threads is set=1, n_jobs=-1 will be ignored. Current value: num_threads=1\n",
      "[LightGBM] [Warning] bagging_freq is set=1, subsample_freq=0 will be ignored. Current value: bagging_freq=1\n"
     ]
    },
    {
     "name": "stderr",
     "output_type": "stream",
     "text": [
      "\u001b[32m[I 2021-06-18 20:42:28,481]\u001b[0m Trial 14 finished with value: 0.12980213732082987 and parameters: {'bagging_freq': 1, 'min_data_in_leaf': 3, 'max_depth': 8, 'learning_rate': 0.09574428752649392, 'num_leaves': 28, 'num_threads': 1, 'min_sum_hessian_in_leaf': 1}. Best is trial 11 with value: 0.12877300350450718.\u001b[0m\n"
     ]
    },
    {
     "name": "stdout",
     "output_type": "stream",
     "text": [
      "[LightGBM] [Warning] min_data_in_leaf is set=32, min_child_samples=20 will be ignored. Current value: min_data_in_leaf=32\n",
      "[LightGBM] [Warning] min_sum_hessian_in_leaf is set=3, min_child_weight=0.001 will be ignored. Current value: min_sum_hessian_in_leaf=3\n",
      "[LightGBM] [Warning] num_threads is set=2, n_jobs=-1 will be ignored. Current value: num_threads=2\n",
      "[LightGBM] [Warning] bagging_freq is set=10, subsample_freq=0 will be ignored. Current value: bagging_freq=10\n"
     ]
    },
    {
     "name": "stderr",
     "output_type": "stream",
     "text": [
      "\u001b[32m[I 2021-06-18 20:42:29,912]\u001b[0m Trial 15 finished with value: 0.13238130349255942 and parameters: {'bagging_freq': 10, 'min_data_in_leaf': 32, 'max_depth': 12, 'learning_rate': 0.04375955085225524, 'num_leaves': 45, 'num_threads': 2, 'min_sum_hessian_in_leaf': 3}. Best is trial 11 with value: 0.12877300350450718.\u001b[0m\n"
     ]
    },
    {
     "name": "stdout",
     "output_type": "stream",
     "text": [
      "[LightGBM] [Warning] min_data_in_leaf is set=16, min_child_samples=20 will be ignored. Current value: min_data_in_leaf=16\n",
      "[LightGBM] [Warning] min_sum_hessian_in_leaf is set=2, min_child_weight=0.001 will be ignored. Current value: min_sum_hessian_in_leaf=2\n",
      "[LightGBM] [Warning] num_threads is set=4, n_jobs=-1 will be ignored. Current value: num_threads=4\n",
      "[LightGBM] [Warning] bagging_freq is set=2, subsample_freq=0 will be ignored. Current value: bagging_freq=2\n"
     ]
    },
    {
     "name": "stderr",
     "output_type": "stream",
     "text": [
      "\u001b[32m[I 2021-06-18 20:42:30,767]\u001b[0m Trial 16 finished with value: 0.1286417729892089 and parameters: {'bagging_freq': 2, 'min_data_in_leaf': 16, 'max_depth': 6, 'learning_rate': 0.09929201829051462, 'num_leaves': 56, 'num_threads': 4, 'min_sum_hessian_in_leaf': 2}. Best is trial 16 with value: 0.1286417729892089.\u001b[0m\n"
     ]
    },
    {
     "name": "stdout",
     "output_type": "stream",
     "text": [
      "[LightGBM] [Warning] min_data_in_leaf is set=18, min_child_samples=20 will be ignored. Current value: min_data_in_leaf=18\n",
      "[LightGBM] [Warning] min_sum_hessian_in_leaf is set=3, min_child_weight=0.001 will be ignored. Current value: min_sum_hessian_in_leaf=3\n",
      "[LightGBM] [Warning] num_threads is set=4, n_jobs=-1 will be ignored. Current value: num_threads=4\n",
      "[LightGBM] [Warning] bagging_freq is set=4, subsample_freq=0 will be ignored. Current value: bagging_freq=4\n"
     ]
    },
    {
     "name": "stderr",
     "output_type": "stream",
     "text": [
      "\u001b[32m[I 2021-06-18 20:42:31,435]\u001b[0m Trial 17 finished with value: 0.2256274757938213 and parameters: {'bagging_freq': 4, 'min_data_in_leaf': 18, 'max_depth': 4, 'learning_rate': 0.0015054803503695578, 'num_leaves': 70, 'num_threads': 4, 'min_sum_hessian_in_leaf': 3}. Best is trial 16 with value: 0.1286417729892089.\u001b[0m\n"
     ]
    },
    {
     "name": "stdout",
     "output_type": "stream",
     "text": [
      "[LightGBM] [Warning] min_data_in_leaf is set=35, min_child_samples=20 will be ignored. Current value: min_data_in_leaf=35\n",
      "[LightGBM] [Warning] min_sum_hessian_in_leaf is set=7, min_child_weight=0.001 will be ignored. Current value: min_sum_hessian_in_leaf=7\n",
      "[LightGBM] [Warning] num_threads is set=4, n_jobs=-1 will be ignored. Current value: num_threads=4\n",
      "[LightGBM] [Warning] bagging_freq is set=2, subsample_freq=0 will be ignored. Current value: bagging_freq=2\n"
     ]
    },
    {
     "name": "stderr",
     "output_type": "stream",
     "text": [
      "\u001b[32m[I 2021-06-18 20:42:32,293]\u001b[0m Trial 18 finished with value: 0.1798828644252265 and parameters: {'bagging_freq': 2, 'min_data_in_leaf': 35, 'max_depth': 6, 'learning_rate': 0.005590638301849611, 'num_leaves': 60, 'num_threads': 4, 'min_sum_hessian_in_leaf': 7}. Best is trial 16 with value: 0.1286417729892089.\u001b[0m\n"
     ]
    },
    {
     "name": "stdout",
     "output_type": "stream",
     "text": [
      "[LightGBM] [Warning] min_data_in_leaf is set=13, min_child_samples=20 will be ignored. Current value: min_data_in_leaf=13\n",
      "[LightGBM] [Warning] min_sum_hessian_in_leaf is set=2, min_child_weight=0.001 will be ignored. Current value: min_sum_hessian_in_leaf=2\n",
      "[LightGBM] [Warning] num_threads is set=10, n_jobs=-1 will be ignored. Current value: num_threads=10\n",
      "[LightGBM] [Warning] bagging_freq is set=2, subsample_freq=0 will be ignored. Current value: bagging_freq=2\n"
     ]
    },
    {
     "name": "stderr",
     "output_type": "stream",
     "text": [
      "\u001b[32m[I 2021-06-18 20:42:33,144]\u001b[0m Trial 19 finished with value: 0.13714142259654108 and parameters: {'bagging_freq': 2, 'min_data_in_leaf': 13, 'max_depth': 11, 'learning_rate': 0.029456042324748948, 'num_leaves': 33, 'num_threads': 10, 'min_sum_hessian_in_leaf': 2}. Best is trial 16 with value: 0.1286417729892089.\u001b[0m\n"
     ]
    },
    {
     "name": "stdout",
     "output_type": "stream",
     "text": [
      "[LightGBM] [Warning] min_data_in_leaf is set=39, min_child_samples=20 will be ignored. Current value: min_data_in_leaf=39\n",
      "[LightGBM] [Warning] min_sum_hessian_in_leaf is set=2, min_child_weight=0.001 will be ignored. Current value: min_sum_hessian_in_leaf=2\n",
      "[LightGBM] [Warning] num_threads is set=2, n_jobs=-1 will be ignored. Current value: num_threads=2\n",
      "[LightGBM] [Warning] bagging_freq is set=2, subsample_freq=0 will be ignored. Current value: bagging_freq=2\n"
     ]
    },
    {
     "name": "stderr",
     "output_type": "stream",
     "text": [
      "\u001b[32m[I 2021-06-18 20:42:34,649]\u001b[0m Trial 20 finished with value: 0.13071579325473612 and parameters: {'bagging_freq': 2, 'min_data_in_leaf': 39, 'max_depth': 15, 'learning_rate': 0.05447767615708494, 'num_leaves': 55, 'num_threads': 2, 'min_sum_hessian_in_leaf': 2}. Best is trial 16 with value: 0.1286417729892089.\u001b[0m\n"
     ]
    },
    {
     "name": "stdout",
     "output_type": "stream",
     "text": [
      "[LightGBM] [Warning] min_data_in_leaf is set=4, min_child_samples=20 will be ignored. Current value: min_data_in_leaf=4\n",
      "[LightGBM] [Warning] min_sum_hessian_in_leaf is set=1, min_child_weight=0.001 will be ignored. Current value: min_sum_hessian_in_leaf=1\n",
      "[LightGBM] [Warning] num_threads is set=2, n_jobs=-1 will be ignored. Current value: num_threads=2\n",
      "[LightGBM] [Warning] bagging_freq is set=1, subsample_freq=0 will be ignored. Current value: bagging_freq=1\n"
     ]
    },
    {
     "name": "stderr",
     "output_type": "stream",
     "text": [
      "\u001b[32m[I 2021-06-18 20:42:36,057]\u001b[0m Trial 21 finished with value: 0.12911409824443254 and parameters: {'bagging_freq': 1, 'min_data_in_leaf': 4, 'max_depth': 7, 'learning_rate': 0.08825135690484648, 'num_leaves': 47, 'num_threads': 2, 'min_sum_hessian_in_leaf': 1}. Best is trial 16 with value: 0.1286417729892089.\u001b[0m\n"
     ]
    },
    {
     "name": "stdout",
     "output_type": "stream",
     "text": [
      "[LightGBM] [Warning] min_data_in_leaf is set=9, min_child_samples=20 will be ignored. Current value: min_data_in_leaf=9\n",
      "[LightGBM] [Warning] min_sum_hessian_in_leaf is set=2, min_child_weight=0.001 will be ignored. Current value: min_sum_hessian_in_leaf=2\n",
      "[LightGBM] [Warning] num_threads is set=2, n_jobs=-1 will be ignored. Current value: num_threads=2\n",
      "[LightGBM] [Warning] bagging_freq is set=2, subsample_freq=0 will be ignored. Current value: bagging_freq=2\n"
     ]
    },
    {
     "name": "stderr",
     "output_type": "stream",
     "text": [
      "\u001b[32m[I 2021-06-18 20:42:37,294]\u001b[0m Trial 22 finished with value: 0.1300192911547884 and parameters: {'bagging_freq': 2, 'min_data_in_leaf': 9, 'max_depth': 5, 'learning_rate': 0.09688775789919848, 'num_leaves': 42, 'num_threads': 2, 'min_sum_hessian_in_leaf': 2}. Best is trial 16 with value: 0.1286417729892089.\u001b[0m\n"
     ]
    },
    {
     "name": "stdout",
     "output_type": "stream",
     "text": [
      "[LightGBM] [Warning] min_data_in_leaf is set=24, min_child_samples=20 will be ignored. Current value: min_data_in_leaf=24\n",
      "[LightGBM] [Warning] min_sum_hessian_in_leaf is set=4, min_child_weight=0.001 will be ignored. Current value: min_sum_hessian_in_leaf=4\n",
      "[LightGBM] [Warning] num_threads is set=4, n_jobs=-1 will be ignored. Current value: num_threads=4\n",
      "[LightGBM] [Warning] bagging_freq is set=4, subsample_freq=0 will be ignored. Current value: bagging_freq=4\n"
     ]
    },
    {
     "name": "stderr",
     "output_type": "stream",
     "text": [
      "\u001b[32m[I 2021-06-18 20:42:38,214]\u001b[0m Trial 23 finished with value: 0.13051800647335712 and parameters: {'bagging_freq': 4, 'min_data_in_leaf': 24, 'max_depth': 9, 'learning_rate': 0.05525307816109322, 'num_leaves': 62, 'num_threads': 4, 'min_sum_hessian_in_leaf': 4}. Best is trial 16 with value: 0.1286417729892089.\u001b[0m\n"
     ]
    },
    {
     "name": "stdout",
     "output_type": "stream",
     "text": [
      "[LightGBM] [Warning] min_data_in_leaf is set=2, min_child_samples=20 will be ignored. Current value: min_data_in_leaf=2\n",
      "[LightGBM] [Warning] min_sum_hessian_in_leaf is set=1, min_child_weight=0.001 will be ignored. Current value: min_sum_hessian_in_leaf=1\n",
      "[LightGBM] [Warning] num_threads is set=2, n_jobs=-1 will be ignored. Current value: num_threads=2\n",
      "[LightGBM] [Warning] bagging_freq is set=1, subsample_freq=0 will be ignored. Current value: bagging_freq=1\n"
     ]
    },
    {
     "name": "stderr",
     "output_type": "stream",
     "text": [
      "\u001b[32m[I 2021-06-18 20:42:39,001]\u001b[0m Trial 24 finished with value: 0.13798523317556532 and parameters: {'bagging_freq': 1, 'min_data_in_leaf': 2, 'max_depth': 2, 'learning_rate': 0.08965700208887221, 'num_leaves': 50, 'num_threads': 2, 'min_sum_hessian_in_leaf': 1}. Best is trial 16 with value: 0.1286417729892089.\u001b[0m\n"
     ]
    },
    {
     "name": "stdout",
     "output_type": "stream",
     "text": [
      "[LightGBM] [Warning] min_data_in_leaf is set=14, min_child_samples=20 will be ignored. Current value: min_data_in_leaf=14\n",
      "[LightGBM] [Warning] min_sum_hessian_in_leaf is set=3, min_child_weight=0.001 will be ignored. Current value: min_sum_hessian_in_leaf=3\n",
      "[LightGBM] [Warning] num_threads is set=5, n_jobs=-1 will be ignored. Current value: num_threads=5\n",
      "[LightGBM] [Warning] bagging_freq is set=4, subsample_freq=0 will be ignored. Current value: bagging_freq=4\n"
     ]
    },
    {
     "name": "stderr",
     "output_type": "stream",
     "text": [
      "\u001b[32m[I 2021-06-18 20:42:39,741]\u001b[0m Trial 25 finished with value: 0.1308697391043101 and parameters: {'bagging_freq': 4, 'min_data_in_leaf': 14, 'max_depth': 7, 'learning_rate': 0.062443162534635235, 'num_leaves': 40, 'num_threads': 5, 'min_sum_hessian_in_leaf': 3}. Best is trial 16 with value: 0.1286417729892089.\u001b[0m\n"
     ]
    },
    {
     "name": "stdout",
     "output_type": "stream",
     "text": [
      "[LightGBM] [Warning] min_data_in_leaf is set=8, min_child_samples=20 will be ignored. Current value: min_data_in_leaf=8\n",
      "[LightGBM] [Warning] min_sum_hessian_in_leaf is set=2, min_child_weight=0.001 will be ignored. Current value: min_sum_hessian_in_leaf=2\n",
      "[LightGBM] [Warning] num_threads is set=3, n_jobs=-1 will be ignored. Current value: num_threads=3\n",
      "[LightGBM] [Warning] bagging_freq is set=2, subsample_freq=0 will be ignored. Current value: bagging_freq=2\n"
     ]
    },
    {
     "name": "stderr",
     "output_type": "stream",
     "text": [
      "\u001b[32m[I 2021-06-18 20:42:40,425]\u001b[0m Trial 26 finished with value: 0.13362746986215077 and parameters: {'bagging_freq': 2, 'min_data_in_leaf': 8, 'max_depth': 3, 'learning_rate': 0.09964975002640283, 'num_leaves': 57, 'num_threads': 3, 'min_sum_hessian_in_leaf': 2}. Best is trial 16 with value: 0.1286417729892089.\u001b[0m\n"
     ]
    },
    {
     "name": "stdout",
     "output_type": "stream",
     "text": [
      "[LightGBM] [Warning] min_data_in_leaf is set=65, min_child_samples=20 will be ignored. Current value: min_data_in_leaf=65\n",
      "[LightGBM] [Warning] min_sum_hessian_in_leaf is set=4, min_child_weight=0.001 will be ignored. Current value: min_sum_hessian_in_leaf=4\n",
      "[LightGBM] [Warning] num_threads is set=4, n_jobs=-1 will be ignored. Current value: num_threads=4\n",
      "[LightGBM] [Warning] bagging_freq is set=3, subsample_freq=0 will be ignored. Current value: bagging_freq=3\n"
     ]
    },
    {
     "name": "stderr",
     "output_type": "stream",
     "text": [
      "\u001b[32m[I 2021-06-18 20:42:41,250]\u001b[0m Trial 27 finished with value: 0.13831047521416084 and parameters: {'bagging_freq': 3, 'min_data_in_leaf': 65, 'max_depth': 8, 'learning_rate': 0.025992455192923664, 'num_leaves': 36, 'num_threads': 4, 'min_sum_hessian_in_leaf': 4}. Best is trial 16 with value: 0.1286417729892089.\u001b[0m\n"
     ]
    },
    {
     "name": "stdout",
     "output_type": "stream",
     "text": [
      "[LightGBM] [Warning] min_data_in_leaf is set=26, min_child_samples=20 will be ignored. Current value: min_data_in_leaf=26\n",
      "[LightGBM] [Warning] min_sum_hessian_in_leaf is set=1, min_child_weight=0.001 will be ignored. Current value: min_sum_hessian_in_leaf=1\n",
      "[LightGBM] [Warning] num_threads is set=2, n_jobs=-1 will be ignored. Current value: num_threads=2\n",
      "[LightGBM] [Warning] bagging_freq is set=1, subsample_freq=0 will be ignored. Current value: bagging_freq=1\n"
     ]
    },
    {
     "name": "stderr",
     "output_type": "stream",
     "text": [
      "\u001b[32m[I 2021-06-18 20:42:42,789]\u001b[0m Trial 28 finished with value: 0.12961696168501943 and parameters: {'bagging_freq': 1, 'min_data_in_leaf': 26, 'max_depth': 10, 'learning_rate': 0.06369740495288029, 'num_leaves': 67, 'num_threads': 2, 'min_sum_hessian_in_leaf': 1}. Best is trial 16 with value: 0.1286417729892089.\u001b[0m\n"
     ]
    },
    {
     "name": "stdout",
     "output_type": "stream",
     "text": [
      "[LightGBM] [Warning] min_data_in_leaf is set=40, min_child_samples=20 will be ignored. Current value: min_data_in_leaf=40\n",
      "[LightGBM] [Warning] min_sum_hessian_in_leaf is set=5, min_child_weight=0.001 will be ignored. Current value: min_sum_hessian_in_leaf=5\n",
      "[LightGBM] [Warning] num_threads is set=3, n_jobs=-1 will be ignored. Current value: num_threads=3\n",
      "[LightGBM] [Warning] bagging_freq is set=10, subsample_freq=0 will be ignored. Current value: bagging_freq=10\n"
     ]
    },
    {
     "name": "stderr",
     "output_type": "stream",
     "text": [
      "\u001b[32m[I 2021-06-18 20:42:43,690]\u001b[0m Trial 29 finished with value: 0.13661114971788785 and parameters: {'bagging_freq': 10, 'min_data_in_leaf': 40, 'max_depth': 5, 'learning_rate': 0.03490709346301129, 'num_leaves': 29, 'num_threads': 3, 'min_sum_hessian_in_leaf': 5}. Best is trial 16 with value: 0.1286417729892089.\u001b[0m\n"
     ]
    },
    {
     "name": "stdout",
     "output_type": "stream",
     "text": [
      "[LightGBM] [Warning] min_data_in_leaf is set=15, min_child_samples=20 will be ignored. Current value: min_data_in_leaf=15\n",
      "[LightGBM] [Warning] min_sum_hessian_in_leaf is set=6, min_child_weight=0.001 will be ignored. Current value: min_sum_hessian_in_leaf=6\n",
      "[LightGBM] [Warning] num_threads is set=5, n_jobs=-1 will be ignored. Current value: num_threads=5\n",
      "[LightGBM] [Warning] bagging_freq is set=5, subsample_freq=0 will be ignored. Current value: bagging_freq=5\n"
     ]
    },
    {
     "name": "stderr",
     "output_type": "stream",
     "text": [
      "\u001b[32m[I 2021-06-18 20:42:44,490]\u001b[0m Trial 30 finished with value: 0.1301158200375063 and parameters: {'bagging_freq': 5, 'min_data_in_leaf': 15, 'max_depth': 7, 'learning_rate': 0.06794527493227857, 'num_leaves': 49, 'num_threads': 5, 'min_sum_hessian_in_leaf': 6}. Best is trial 16 with value: 0.1286417729892089.\u001b[0m\n"
     ]
    },
    {
     "name": "stdout",
     "output_type": "stream",
     "text": [
      "[LightGBM] [Warning] min_data_in_leaf is set=4, min_child_samples=20 will be ignored. Current value: min_data_in_leaf=4\n",
      "[LightGBM] [Warning] min_sum_hessian_in_leaf is set=1, min_child_weight=0.001 will be ignored. Current value: min_sum_hessian_in_leaf=1\n",
      "[LightGBM] [Warning] num_threads is set=1, n_jobs=-1 will be ignored. Current value: num_threads=1\n",
      "[LightGBM] [Warning] bagging_freq is set=1, subsample_freq=0 will be ignored. Current value: bagging_freq=1\n"
     ]
    },
    {
     "name": "stderr",
     "output_type": "stream",
     "text": [
      "\u001b[32m[I 2021-06-18 20:42:47,025]\u001b[0m Trial 31 finished with value: 0.1286662578961091 and parameters: {'bagging_freq': 1, 'min_data_in_leaf': 4, 'max_depth': 7, 'learning_rate': 0.09823704250795319, 'num_leaves': 52, 'num_threads': 1, 'min_sum_hessian_in_leaf': 1}. Best is trial 16 with value: 0.1286417729892089.\u001b[0m\n"
     ]
    },
    {
     "name": "stdout",
     "output_type": "stream",
     "text": [
      "[LightGBM] [Warning] min_data_in_leaf is set=7, min_child_samples=20 will be ignored. Current value: min_data_in_leaf=7\n",
      "[LightGBM] [Warning] min_sum_hessian_in_leaf is set=2, min_child_weight=0.001 will be ignored. Current value: min_sum_hessian_in_leaf=2\n",
      "[LightGBM] [Warning] num_threads is set=1, n_jobs=-1 will be ignored. Current value: num_threads=1\n",
      "[LightGBM] [Warning] bagging_freq is set=2, subsample_freq=0 will be ignored. Current value: bagging_freq=2\n"
     ]
    },
    {
     "name": "stderr",
     "output_type": "stream",
     "text": [
      "\u001b[32m[I 2021-06-18 20:42:49,460]\u001b[0m Trial 32 finished with value: 0.12873167980417066 and parameters: {'bagging_freq': 2, 'min_data_in_leaf': 7, 'max_depth': 6, 'learning_rate': 0.09970217698148282, 'num_leaves': 51, 'num_threads': 1, 'min_sum_hessian_in_leaf': 2}. Best is trial 16 with value: 0.1286417729892089.\u001b[0m\n"
     ]
    },
    {
     "name": "stdout",
     "output_type": "stream",
     "text": [
      "[LightGBM] [Warning] min_data_in_leaf is set=21, min_child_samples=20 will be ignored. Current value: min_data_in_leaf=21\n",
      "[LightGBM] [Warning] min_sum_hessian_in_leaf is set=2, min_child_weight=0.001 will be ignored. Current value: min_sum_hessian_in_leaf=2\n",
      "[LightGBM] [Warning] num_threads is set=1, n_jobs=-1 will be ignored. Current value: num_threads=1\n",
      "[LightGBM] [Warning] bagging_freq is set=2, subsample_freq=0 will be ignored. Current value: bagging_freq=2\n"
     ]
    },
    {
     "name": "stderr",
     "output_type": "stream",
     "text": [
      "\u001b[32m[I 2021-06-18 20:42:51,631]\u001b[0m Trial 33 finished with value: 0.1298981301872457 and parameters: {'bagging_freq': 2, 'min_data_in_leaf': 21, 'max_depth': 5, 'learning_rate': 0.09902106168274233, 'num_leaves': 59, 'num_threads': 1, 'min_sum_hessian_in_leaf': 2}. Best is trial 16 with value: 0.1286417729892089.\u001b[0m\n"
     ]
    },
    {
     "name": "stdout",
     "output_type": "stream",
     "text": [
      "[LightGBM] [Warning] min_data_in_leaf is set=8, min_child_samples=20 will be ignored. Current value: min_data_in_leaf=8\n",
      "[LightGBM] [Warning] min_sum_hessian_in_leaf is set=3, min_child_weight=0.001 will be ignored. Current value: min_sum_hessian_in_leaf=3\n",
      "[LightGBM] [Warning] num_threads is set=1, n_jobs=-1 will be ignored. Current value: num_threads=1\n",
      "[LightGBM] [Warning] bagging_freq is set=3, subsample_freq=0 will be ignored. Current value: bagging_freq=3\n"
     ]
    },
    {
     "name": "stderr",
     "output_type": "stream",
     "text": [
      "\u001b[32m[I 2021-06-18 20:42:53,259]\u001b[0m Trial 34 finished with value: 0.13909867230147138 and parameters: {'bagging_freq': 3, 'min_data_in_leaf': 8, 'max_depth': 3, 'learning_rate': 0.05165518002531491, 'num_leaves': 52, 'num_threads': 1, 'min_sum_hessian_in_leaf': 3}. Best is trial 16 with value: 0.1286417729892089.\u001b[0m\n"
     ]
    },
    {
     "name": "stdout",
     "output_type": "stream",
     "text": [
      "[LightGBM] [Warning] min_data_in_leaf is set=9, min_child_samples=20 will be ignored. Current value: min_data_in_leaf=9\n",
      "[LightGBM] [Warning] min_sum_hessian_in_leaf is set=2, min_child_weight=0.001 will be ignored. Current value: min_sum_hessian_in_leaf=2\n",
      "[LightGBM] [Warning] num_threads is set=3, n_jobs=-1 will be ignored. Current value: num_threads=3\n",
      "[LightGBM] [Warning] bagging_freq is set=2, subsample_freq=0 will be ignored. Current value: bagging_freq=2\n"
     ]
    },
    {
     "name": "stderr",
     "output_type": "stream",
     "text": [
      "\u001b[32m[I 2021-06-18 20:42:54,274]\u001b[0m Trial 35 finished with value: 0.1403015457827437 and parameters: {'bagging_freq': 2, 'min_data_in_leaf': 9, 'max_depth': 9, 'learning_rate': 0.021462819940855846, 'num_leaves': 44, 'num_threads': 3, 'min_sum_hessian_in_leaf': 2}. Best is trial 16 with value: 0.1286417729892089.\u001b[0m\n"
     ]
    },
    {
     "name": "stdout",
     "output_type": "stream",
     "text": [
      "[LightGBM] [Warning] min_data_in_leaf is set=18, min_child_samples=20 will be ignored. Current value: min_data_in_leaf=18\n",
      "[LightGBM] [Warning] min_sum_hessian_in_leaf is set=3, min_child_weight=0.001 will be ignored. Current value: min_sum_hessian_in_leaf=3\n",
      "[LightGBM] [Warning] num_threads is set=1, n_jobs=-1 will be ignored. Current value: num_threads=1\n",
      "[LightGBM] [Warning] bagging_freq is set=3, subsample_freq=0 will be ignored. Current value: bagging_freq=3\n"
     ]
    },
    {
     "name": "stderr",
     "output_type": "stream",
     "text": [
      "\u001b[32m[I 2021-06-18 20:42:56,942]\u001b[0m Trial 36 finished with value: 0.12925307601228592 and parameters: {'bagging_freq': 3, 'min_data_in_leaf': 18, 'max_depth': 8, 'learning_rate': 0.07243537941031485, 'num_leaves': 65, 'num_threads': 1, 'min_sum_hessian_in_leaf': 3}. Best is trial 16 with value: 0.1286417729892089.\u001b[0m\n"
     ]
    },
    {
     "name": "stdout",
     "output_type": "stream",
     "text": [
      "[LightGBM] [Warning] min_data_in_leaf is set=59, min_child_samples=20 will be ignored. Current value: min_data_in_leaf=59\n",
      "[LightGBM] [Warning] min_sum_hessian_in_leaf is set=1, min_child_weight=0.001 will be ignored. Current value: min_sum_hessian_in_leaf=1\n",
      "[LightGBM] [Warning] num_threads is set=2, n_jobs=-1 will be ignored. Current value: num_threads=2\n",
      "[LightGBM] [Warning] bagging_freq is set=7, subsample_freq=0 will be ignored. Current value: bagging_freq=7\n"
     ]
    },
    {
     "name": "stderr",
     "output_type": "stream",
     "text": [
      "\u001b[32m[I 2021-06-18 20:42:58,167]\u001b[0m Trial 37 finished with value: 0.13431311699507298 and parameters: {'bagging_freq': 7, 'min_data_in_leaf': 59, 'max_depth': 5, 'learning_rate': 0.044741295216124105, 'num_leaves': 53, 'num_threads': 2, 'min_sum_hessian_in_leaf': 1}. Best is trial 16 with value: 0.1286417729892089.\u001b[0m\n"
     ]
    },
    {
     "name": "stdout",
     "output_type": "stream",
     "text": [
      "[LightGBM] [Warning] min_data_in_leaf is set=30, min_child_samples=20 will be ignored. Current value: min_data_in_leaf=30\n",
      "[LightGBM] [Warning] min_sum_hessian_in_leaf is set=4, min_child_weight=0.001 will be ignored. Current value: min_sum_hessian_in_leaf=4\n",
      "[LightGBM] [Warning] num_threads is set=1, n_jobs=-1 will be ignored. Current value: num_threads=1\n",
      "[LightGBM] [Warning] bagging_freq is set=4, subsample_freq=0 will be ignored. Current value: bagging_freq=4\n"
     ]
    },
    {
     "name": "stderr",
     "output_type": "stream",
     "text": [
      "\u001b[32m[I 2021-06-18 20:43:00,636]\u001b[0m Trial 38 finished with value: 0.13454929343665525 and parameters: {'bagging_freq': 4, 'min_data_in_leaf': 30, 'max_depth': 6, 'learning_rate': 0.03466449337348726, 'num_leaves': 57, 'num_threads': 1, 'min_sum_hessian_in_leaf': 4}. Best is trial 16 with value: 0.1286417729892089.\u001b[0m\n"
     ]
    },
    {
     "name": "stdout",
     "output_type": "stream",
     "text": [
      "[LightGBM] [Warning] min_data_in_leaf is set=2, min_child_samples=20 will be ignored. Current value: min_data_in_leaf=2\n",
      "[LightGBM] [Warning] min_sum_hessian_in_leaf is set=10, min_child_weight=0.001 will be ignored. Current value: min_sum_hessian_in_leaf=10\n",
      "[LightGBM] [Warning] num_threads is set=3, n_jobs=-1 will be ignored. Current value: num_threads=3\n",
      "[LightGBM] [Warning] bagging_freq is set=3, subsample_freq=0 will be ignored. Current value: bagging_freq=3\n"
     ]
    },
    {
     "name": "stderr",
     "output_type": "stream",
     "text": [
      "\u001b[32m[I 2021-06-18 20:43:01,319]\u001b[0m Trial 39 finished with value: 0.13606821940484423 and parameters: {'bagging_freq': 3, 'min_data_in_leaf': 2, 'max_depth': 3, 'learning_rate': 0.07149111368637441, 'num_leaves': 39, 'num_threads': 3, 'min_sum_hessian_in_leaf': 10}. Best is trial 16 with value: 0.1286417729892089.\u001b[0m\n"
     ]
    },
    {
     "name": "stdout",
     "output_type": "stream",
     "text": [
      "[LightGBM] [Warning] min_data_in_leaf is set=46, min_child_samples=20 will be ignored. Current value: min_data_in_leaf=46\n",
      "[LightGBM] [Warning] min_sum_hessian_in_leaf is set=5, min_child_weight=0.001 will be ignored. Current value: min_sum_hessian_in_leaf=5\n",
      "[LightGBM] [Warning] num_threads is set=7, n_jobs=-1 will be ignored. Current value: num_threads=7\n",
      "[LightGBM] [Warning] bagging_freq is set=1, subsample_freq=0 will be ignored. Current value: bagging_freq=1\n"
     ]
    },
    {
     "name": "stderr",
     "output_type": "stream",
     "text": [
      "\u001b[32m[I 2021-06-18 20:43:02,274]\u001b[0m Trial 40 finished with value: 0.13140493749379922 and parameters: {'bagging_freq': 1, 'min_data_in_leaf': 46, 'max_depth': 11, 'learning_rate': 0.051570537809016444, 'num_leaves': 45, 'num_threads': 7, 'min_sum_hessian_in_leaf': 5}. Best is trial 16 with value: 0.1286417729892089.\u001b[0m\n"
     ]
    },
    {
     "name": "stdout",
     "output_type": "stream",
     "text": [
      "[LightGBM] [Warning] min_data_in_leaf is set=6, min_child_samples=20 will be ignored. Current value: min_data_in_leaf=6\n",
      "[LightGBM] [Warning] min_sum_hessian_in_leaf is set=1, min_child_weight=0.001 will be ignored. Current value: min_sum_hessian_in_leaf=1\n",
      "[LightGBM] [Warning] num_threads is set=2, n_jobs=-1 will be ignored. Current value: num_threads=2\n",
      "[LightGBM] [Warning] bagging_freq is set=1, subsample_freq=0 will be ignored. Current value: bagging_freq=1\n"
     ]
    },
    {
     "name": "stderr",
     "output_type": "stream",
     "text": [
      "\u001b[32m[I 2021-06-18 20:43:03,718]\u001b[0m Trial 41 finished with value: 0.1292139373795982 and parameters: {'bagging_freq': 1, 'min_data_in_leaf': 6, 'max_depth': 6, 'learning_rate': 0.09095792536823012, 'num_leaves': 47, 'num_threads': 2, 'min_sum_hessian_in_leaf': 1}. Best is trial 16 with value: 0.1286417729892089.\u001b[0m\n"
     ]
    },
    {
     "name": "stdout",
     "output_type": "stream",
     "text": [
      "[LightGBM] [Warning] min_data_in_leaf is set=12, min_child_samples=20 will be ignored. Current value: min_data_in_leaf=12\n",
      "[LightGBM] [Warning] min_sum_hessian_in_leaf is set=2, min_child_weight=0.001 will be ignored. Current value: min_sum_hessian_in_leaf=2\n",
      "[LightGBM] [Warning] num_threads is set=1, n_jobs=-1 will be ignored. Current value: num_threads=1\n",
      "[LightGBM] [Warning] bagging_freq is set=2, subsample_freq=0 will be ignored. Current value: bagging_freq=2\n"
     ]
    },
    {
     "name": "stderr",
     "output_type": "stream",
     "text": [
      "\u001b[32m[I 2021-06-18 20:43:06,224]\u001b[0m Trial 42 finished with value: 0.12855000769903946 and parameters: {'bagging_freq': 2, 'min_data_in_leaf': 12, 'max_depth': 7, 'learning_rate': 0.09867970710104958, 'num_leaves': 51, 'num_threads': 1, 'min_sum_hessian_in_leaf': 2}. Best is trial 42 with value: 0.12855000769903946.\u001b[0m\n"
     ]
    },
    {
     "name": "stdout",
     "output_type": "stream",
     "text": [
      "[LightGBM] [Warning] min_data_in_leaf is set=13, min_child_samples=20 will be ignored. Current value: min_data_in_leaf=13\n",
      "[LightGBM] [Warning] min_sum_hessian_in_leaf is set=2, min_child_weight=0.001 will be ignored. Current value: min_sum_hessian_in_leaf=2\n",
      "[LightGBM] [Warning] num_threads is set=1, n_jobs=-1 will be ignored. Current value: num_threads=1\n",
      "[LightGBM] [Warning] bagging_freq is set=2, subsample_freq=0 will be ignored. Current value: bagging_freq=2\n"
     ]
    },
    {
     "name": "stderr",
     "output_type": "stream",
     "text": [
      "\u001b[32m[I 2021-06-18 20:43:08,757]\u001b[0m Trial 43 finished with value: 0.1285249938580993 and parameters: {'bagging_freq': 2, 'min_data_in_leaf': 13, 'max_depth': 8, 'learning_rate': 0.0990560427464879, 'num_leaves': 52, 'num_threads': 1, 'min_sum_hessian_in_leaf': 2}. Best is trial 43 with value: 0.1285249938580993.\u001b[0m\n"
     ]
    },
    {
     "name": "stdout",
     "output_type": "stream",
     "text": [
      "[LightGBM] [Warning] min_data_in_leaf is set=13, min_child_samples=20 will be ignored. Current value: min_data_in_leaf=13\n",
      "[LightGBM] [Warning] min_sum_hessian_in_leaf is set=3, min_child_weight=0.001 will be ignored. Current value: min_sum_hessian_in_leaf=3\n",
      "[LightGBM] [Warning] num_threads is set=1, n_jobs=-1 will be ignored. Current value: num_threads=1\n",
      "[LightGBM] [Warning] bagging_freq is set=2, subsample_freq=0 will be ignored. Current value: bagging_freq=2\n"
     ]
    },
    {
     "name": "stderr",
     "output_type": "stream",
     "text": [
      "\u001b[32m[I 2021-06-18 20:43:10,650]\u001b[0m Trial 44 finished with value: 0.1333175415872281 and parameters: {'bagging_freq': 2, 'min_data_in_leaf': 13, 'max_depth': 4, 'learning_rate': 0.07017351200207698, 'num_leaves': 52, 'num_threads': 1, 'min_sum_hessian_in_leaf': 3}. Best is trial 43 with value: 0.1285249938580993.\u001b[0m\n"
     ]
    },
    {
     "name": "stdout",
     "output_type": "stream",
     "text": [
      "[LightGBM] [Warning] min_data_in_leaf is set=21, min_child_samples=20 will be ignored. Current value: min_data_in_leaf=21\n",
      "[LightGBM] [Warning] min_sum_hessian_in_leaf is set=2, min_child_weight=0.001 will be ignored. Current value: min_sum_hessian_in_leaf=2\n",
      "[LightGBM] [Warning] num_threads is set=6, n_jobs=-1 will be ignored. Current value: num_threads=6\n",
      "[LightGBM] [Warning] bagging_freq is set=3, subsample_freq=0 will be ignored. Current value: bagging_freq=3\n"
     ]
    },
    {
     "name": "stderr",
     "output_type": "stream",
     "text": [
      "\u001b[32m[I 2021-06-18 20:43:11,459]\u001b[0m Trial 45 finished with value: 0.12887946946473117 and parameters: {'bagging_freq': 3, 'min_data_in_leaf': 21, 'max_depth': 7, 'learning_rate': 0.08221880619038753, 'num_leaves': 63, 'num_threads': 6, 'min_sum_hessian_in_leaf': 2}. Best is trial 43 with value: 0.1285249938580993.\u001b[0m\n"
     ]
    },
    {
     "name": "stdout",
     "output_type": "stream",
     "text": [
      "[LightGBM] [Warning] min_data_in_leaf is set=15, min_child_samples=20 will be ignored. Current value: min_data_in_leaf=15\n",
      "[LightGBM] [Warning] min_sum_hessian_in_leaf is set=2, min_child_weight=0.001 will be ignored. Current value: min_sum_hessian_in_leaf=2\n",
      "[LightGBM] [Warning] num_threads is set=1, n_jobs=-1 will be ignored. Current value: num_threads=1\n",
      "[LightGBM] [Warning] bagging_freq is set=2, subsample_freq=0 will be ignored. Current value: bagging_freq=2\n"
     ]
    },
    {
     "name": "stderr",
     "output_type": "stream",
     "text": [
      "\u001b[32m[I 2021-06-18 20:43:14,032]\u001b[0m Trial 46 finished with value: 0.12826450269578224 and parameters: {'bagging_freq': 2, 'min_data_in_leaf': 15, 'max_depth': 9, 'learning_rate': 0.09957593241877248, 'num_leaves': 57, 'num_threads': 1, 'min_sum_hessian_in_leaf': 2}. Best is trial 46 with value: 0.12826450269578224.\u001b[0m\n"
     ]
    },
    {
     "name": "stdout",
     "output_type": "stream",
     "text": [
      "[LightGBM] [Warning] min_data_in_leaf is set=16, min_child_samples=20 will be ignored. Current value: min_data_in_leaf=16\n",
      "[LightGBM] [Warning] min_sum_hessian_in_leaf is set=3, min_child_weight=0.001 will be ignored. Current value: min_sum_hessian_in_leaf=3\n",
      "[LightGBM] [Warning] num_threads is set=8, n_jobs=-1 will be ignored. Current value: num_threads=8\n",
      "[LightGBM] [Warning] bagging_freq is set=3, subsample_freq=0 will be ignored. Current value: bagging_freq=3\n"
     ]
    },
    {
     "name": "stderr",
     "output_type": "stream",
     "text": [
      "\u001b[32m[I 2021-06-18 20:43:15,053]\u001b[0m Trial 47 finished with value: 0.13171488406021994 and parameters: {'bagging_freq': 3, 'min_data_in_leaf': 16, 'max_depth': 14, 'learning_rate': 0.04510018363057763, 'num_leaves': 56, 'num_threads': 8, 'min_sum_hessian_in_leaf': 3}. Best is trial 46 with value: 0.12826450269578224.\u001b[0m\n"
     ]
    },
    {
     "name": "stdout",
     "output_type": "stream",
     "text": [
      "[LightGBM] [Warning] min_data_in_leaf is set=27, min_child_samples=20 will be ignored. Current value: min_data_in_leaf=27\n",
      "[LightGBM] [Warning] min_sum_hessian_in_leaf is set=4, min_child_weight=0.001 will be ignored. Current value: min_sum_hessian_in_leaf=4\n",
      "[LightGBM] [Warning] num_threads is set=2, n_jobs=-1 will be ignored. Current value: num_threads=2\n",
      "[LightGBM] [Warning] bagging_freq is set=4, subsample_freq=0 will be ignored. Current value: bagging_freq=4\n"
     ]
    },
    {
     "name": "stderr",
     "output_type": "stream",
     "text": [
      "\u001b[32m[I 2021-06-18 20:43:16,517]\u001b[0m Trial 48 finished with value: 0.14524035596644733 and parameters: {'bagging_freq': 4, 'min_data_in_leaf': 27, 'max_depth': 9, 'learning_rate': 0.015725402743698328, 'num_leaves': 59, 'num_threads': 2, 'min_sum_hessian_in_leaf': 4}. Best is trial 46 with value: 0.12826450269578224.\u001b[0m\n"
     ]
    },
    {
     "name": "stdout",
     "output_type": "stream",
     "text": [
      "[LightGBM] [Warning] min_data_in_leaf is set=23, min_child_samples=20 will be ignored. Current value: min_data_in_leaf=23\n",
      "[LightGBM] [Warning] min_sum_hessian_in_leaf is set=2, min_child_weight=0.001 will be ignored. Current value: min_sum_hessian_in_leaf=2\n",
      "[LightGBM] [Warning] num_threads is set=1, n_jobs=-1 will be ignored. Current value: num_threads=1\n",
      "[LightGBM] [Warning] bagging_freq is set=2, subsample_freq=0 will be ignored. Current value: bagging_freq=2\n"
     ]
    },
    {
     "name": "stderr",
     "output_type": "stream",
     "text": [
      "\u001b[32m[I 2021-06-18 20:43:19,075]\u001b[0m Trial 49 finished with value: 0.20490124285870231 and parameters: {'bagging_freq': 2, 'min_data_in_leaf': 23, 'max_depth': 10, 'learning_rate': 0.0027882449164329565, 'num_leaves': 70, 'num_threads': 1, 'min_sum_hessian_in_leaf': 2}. Best is trial 46 with value: 0.12826450269578224.\u001b[0m\n"
     ]
    },
    {
     "name": "stdout",
     "output_type": "stream",
     "text": [
      "Wall time: 1min 10s\n"
     ]
    }
   ],
   "source": [
    "%%time\n",
    "study = optuna.create_study()\n",
    "study.optimize(objective, n_trials=50)"
   ]
  },
  {
   "cell_type": "code",
   "execution_count": 16,
   "id": "64d0f7e1-991a-45b5-9759-6c139a4a967b",
   "metadata": {},
   "outputs": [
    {
     "name": "stdout",
     "output_type": "stream",
     "text": [
      "accuracy: 0.12826450269578224\n",
      "best hyperparameters: {'bagging_freq': 2, 'min_data_in_leaf': 15, 'max_depth': 9, 'learning_rate': 0.09957593241877248, 'num_leaves': 57, 'num_threads': 1, 'min_sum_hessian_in_leaf': 2}\n"
     ]
    }
   ],
   "source": [
    "trial = study.best_trial\n",
    "print('accuracy: {}'.format(trial.value))\n",
    "print('best hyperparameters: {}'.format(trial.params))"
   ]
  },
  {
   "cell_type": "code",
   "execution_count": 17,
   "id": "6fb097ca-ea21-4111-9457-314a4ed8fb53",
   "metadata": {},
   "outputs": [],
   "source": [
    "pd_param = pd.DataFrame([trial.params])\n",
    "pd_param.to_csv('model_params.csv', index=False)"
   ]
  },
  {
   "cell_type": "markdown",
   "id": "64b6790a-241a-48f5-9458-5b7da6ebfc77",
   "metadata": {},
   "source": [
    "# <font color='blue'>Model </font>"
   ]
  },
  {
   "cell_type": "code",
   "execution_count": 18,
   "id": "7c196ad2-56cb-4fab-b81a-8f5f17f37e84",
   "metadata": {},
   "outputs": [
    {
     "name": "stdout",
     "output_type": "stream",
     "text": [
      "[LightGBM] [Warning] min_data_in_leaf is set=15, min_child_samples=20 will be ignored. Current value: min_data_in_leaf=15\n",
      "[LightGBM] [Warning] min_sum_hessian_in_leaf is set=2, min_child_weight=0.001 will be ignored. Current value: min_sum_hessian_in_leaf=2\n",
      "[LightGBM] [Warning] num_threads is set=1, n_jobs=-1 will be ignored. Current value: num_threads=1\n",
      "[LightGBM] [Warning] bagging_freq is set=2, subsample_freq=0 will be ignored. Current value: bagging_freq=2\n",
      "Wall time: 2.09 s\n"
     ]
    },
    {
     "data": {
      "text/plain": [
       "LGBMClassifier(bagging_freq=2, learning_rate=0.09957593241877248, max_depth=9,\n",
       "               min_data_in_leaf=15, min_sum_hessian_in_leaf=2, num_leaves=57,\n",
       "               num_threads=1)"
      ]
     },
     "execution_count": 18,
     "metadata": {},
     "output_type": "execute_result"
    }
   ],
   "source": [
    "%%time\n",
    "model = lightgbm.LGBMClassifier(bagging_freq=trial.params[\"bagging_freq\"], min_data_in_leaf=trial.params[\"min_data_in_leaf\"],\n",
    "                                max_depth=trial.params[\"max_depth\"],\n",
    "                                learning_rate=trial.params[\"learning_rate\"], num_leaves=trial.params[\"num_leaves\"],\n",
    "                                num_threads=trial.params[\"num_threads\"], min_sum_hessian_in_leaf=trial.params[\"min_sum_hessian_in_leaf\"])\n",
    "model.fit(X_train, Y_train)"
   ]
  },
  {
   "cell_type": "markdown",
   "id": "e6e327ff-4973-4f34-bfec-63477e157dc0",
   "metadata": {},
   "source": [
    "# <font color='blue'>Feature importance </font>"
   ]
  },
  {
   "cell_type": "code",
   "execution_count": 19,
   "id": "6a55adab-5c21-4f0c-9a73-72be5a7bb5e6",
   "metadata": {},
   "outputs": [
    {
     "data": {
      "image/png": "[encoded data removed]",
      "text/plain": [
       "<Figure size 1440x720 with 1 Axes>"
      ]
     },
     "metadata": {
      "needs_background": "light"
     },
     "output_type": "display_data"
    }
   ],
   "source": [
    "feature_imp = pd.DataFrame(sorted(zip(model.feature_importances_,X.columns)), columns=['Value','Feature'])\n",
    "\n",
    "plt.figure(figsize=(20, 10))\n",
    "sns.barplot(x=\"Value\", y=\"Feature\", data=feature_imp.sort_values(by=\"Value\", ascending=False))\n",
    "plt.title('Features')\n",
    "plt.tight_layout()\n",
    "plt.show()"
   ]
  },
  {
   "cell_type": "markdown",
   "id": "12583ac3-5dbf-4ddc-9639-32518330f4a6",
   "metadata": {},
   "source": [
    "# <font color='blue'>MODEL PRECISION </font>"
   ]
  },
  {
   "cell_type": "code",
   "execution_count": 20,
   "id": "06070666-6d74-430c-88d9-fb167fdbe223",
   "metadata": {},
   "outputs": [
    {
     "data": {
      "image/png": "[encoded data removed]",
      "text/plain": [
       "<Figure size 720x360 with 1 Axes>"
      ]
     },
     "metadata": {
      "needs_background": "light"
     },
     "output_type": "display_data"
    },
    {
     "name": "stdout",
     "output_type": "stream",
     "text": [
      "Wall time: 4.51 s\n"
     ]
    }
   ],
   "source": [
    "%%time\n",
    "plt.figure(figsize = (10,5))\n",
    "\n",
    "pred_proba = model.predict_proba(X_train)\n",
    "pred_proba_test = model.predict_proba(X_test)\n",
    "\n",
    "gmt = [\"accuracy train\", \"accuracy test\", \"log loss train\", \"log loss test\", \"brier score train\", \"brier score test\"]\n",
    "metrics = {'Labels': gmt,\n",
    "           'Value': [model.score(X_train, Y_train), model.score(X_test, Y_test),\n",
    "                     log_loss(Y_train, pred_proba),log_loss(Y_test, pred_proba_test),\n",
    "                     brier_score_loss(Y_train, pd.DataFrame(pred_proba)[1]),brier_score_loss(Y_test, pd.DataFrame(pred_proba_test)[1])]\n",
    "           }\n",
    "\n",
    "sns.set_context(rc = {'patch.linewidth': 2.0})\n",
    "sns.set(font_scale=1.3)\n",
    "ax = sns.barplot(x='Labels', y='Value', data=metrics, linewidth=2.0, edgecolor=\".2\", zorder=3, palette=sns.color_palette(\"deep\"))\n",
    "\n",
    "plt.ylabel('%')\n",
    "#plt.gca().yaxis.set_major_locator(ticker.MultipleLocator(.1))\n",
    "ax.grid(linewidth=1, color='white', zorder=0)\n",
    "ax.set_facecolor(\"#d7d7e0\")\n",
    "plt.title(\"Test metrics\")\n",
    "plt.show()"
   ]
  },
  {
   "cell_type": "code",
   "execution_count": null,
   "id": "bec91f97-a136-4c9e-8bcd-d4dadd2b51ac",
   "metadata": {},
   "outputs": [],
   "source": [
    "print(\"Brier score → {}\".format(brier_score_loss(Y_test, pd.DataFrame(pred_proba_test)[1])))\n"
   ]
  },
  {
   "cell_type": "markdown",
   "id": "36809529-50ac-4ef1-afde-f6216c8e1bae",
   "metadata": {},
   "source": [
    "# <font color='blue'>REALIBITY CURVE </font>"
   ]
  },
  {
   "cell_type": "code",
   "execution_count": 21,
   "id": "0dc5cc59-ca86-46eb-8ec1-19aaeb561605",
   "metadata": {},
   "outputs": [
    {
     "data": {
      "image/png": "[encoded data removed]",
      "text/plain": [
       "<Figure size 1152x432 with 1 Axes>"
      ]
     },
     "metadata": {},
     "output_type": "display_data"
    },
    {
     "name": "stdout",
     "output_type": "stream",
     "text": [
      "Wall time: 169 ms\n"
     ]
    },
    {
     "data": {
      "text/plain": [
       "Text(0.5, 0, 'mean predicted value')"
      ]
     },
     "execution_count": 21,
     "metadata": {},
     "output_type": "execute_result"
    },
    {
     "data": {
      "image/png": "[encoded data removed]",
      "text/plain": [
       "<Figure size 1152x432 with 1 Axes>"
      ]
     },
     "metadata": {},
     "output_type": "display_data"
    }
   ],
   "source": [
    "%%time\n",
    "plt.figure(figsize=(16,6))\n",
    "plt.plot([0,1], [0,1], 'k:', label='flawless curve')\n",
    "x, y = calibration_curve(Y_test, pd.DataFrame(pred_proba_test)[1], n_bins=25)\n",
    "plt.plot(x, y, 's-', label='LGBM')\n",
    "plt.legend(loc='lower right')\n",
    "plt.title('Probability Calibration Curve')\n",
    "plt.ylabel('amount of positives')\n",
    "plt.xlabel('mean predicted value')\n",
    "plt.gca().xaxis.set_major_locator(ticker.MultipleLocator(0.1))\n",
    "plt.show()\n",
    "\n",
    "plt.figure(figsize=(16,6))\n",
    "plt.hist(pd.DataFrame(pred_proba_test)[1], range=(0,1), bins=25, histtype=\"step\", lw=2, fill=True, color='tab:green',\n",
    "        edgecolor='black', linewidth=1.5)\n",
    "plt.title('Predicted Value Distribution for LGBM')\n",
    "plt.ylabel('count')\n",
    "plt.xlabel('mean predicted value')"
   ]
  },
  {
   "cell_type": "markdown",
   "id": "c8d4e344-4c7c-4723-b7ca-e7f9575fa5f5",
   "metadata": {},
   "source": [
    "# <font color='blue'>CONFUSION MATRIX </font>"
   ]
  },
  {
   "cell_type": "code",
   "execution_count": 22,
   "id": "fdf833d6-f94d-4144-8104-19f92e41a9c4",
   "metadata": {},
   "outputs": [
    {
     "data": {
      "image/png": "[encoded data removed]",
      "text/plain": [
       "<Figure size 576x432 with 2 Axes>"
      ]
     },
     "metadata": {},
     "output_type": "display_data"
    }
   ],
   "source": [
    "plt.figure(figsize = (8,6))\n",
    "cm = confusion_matrix(Y_test, model.predict(X_test, num_iteration=50))\n",
    "cm = (cm/cm.sum(axis=1).reshape(-1,1))\n",
    "\n",
    "sns.heatmap(cm, cmap=\"YlGnBu\", vmin=0., vmax=1., annot=True, annot_kws={'size':45})\n",
    "plt.title(\"wa\", fontsize = 5)\n",
    "plt.ylabel('Predicted label')\n",
    "plt.xlabel('True label')\n",
    "plt.show()"
   ]
  },
  {
   "cell_type": "code",
   "execution_count": null,
   "id": "0b9e7fb1-d11b-4f2a-9430-d0ce97655152",
   "metadata": {},
   "outputs": [],
   "source": [
    "Y_pred = model.predict(X_test)\n",
    "classification_report(Y_test, Y_pred, output_dict=True)[\"weighted avg\"][\"f1-score\"]"
   ]
  }
 ],
 "metadata": {
  "kernelspec": {
   "display_name": "Python 3",
   "language": "python",
   "name": "python3"
  },
  "language_info": {
   "codemirror_mode": {
    "name": "ipython",
    "version": 3
   },
   "file_extension": ".py",
   "mimetype": "text/x-python",
   "name": "python",
   "nbconvert_exporter": "python",
   "pygments_lexer": "ipython3",
   "version": "3.8.8"
  }
 },
 "nbformat": 4,
 "nbformat_minor": 5
}
