{
 "cells": [
  {
   "cell_type": "markdown",
   "id": "63980c60-20f6-4bbb-9db1-1c204f838633",
   "metadata": {},
   "source": [
    "# <font color='blue'>Imports </font>"
   ]
  },
  {
   "cell_type": "code",
   "execution_count": 19,
   "id": "ebaca379-3d02-4ed2-9280-44fc8cd0b0b6",
   "metadata": {},
   "outputs": [],
   "source": [
    "import pandas as pd\n",
    "import numpy as np\n",
    "import seaborn as sns\n",
    "import lightgbm\n",
    "from matplotlib import pyplot as plt\n",
    "import matplotlib.ticker as ticker\n",
    "from matplotlib.pyplot import figure\n",
    "from matplotlib import rc\n",
    "from sklearn.model_selection import train_test_split\n",
    "from sklearn.tree import DecisionTreeClassifier\n",
    "from sklearn.linear_model import LogisticRegression\n",
    "from sklearn.neighbors import KNeighborsClassifier\n",
    "from sklearn.metrics import r2_score, explained_variance_score, confusion_matrix, accuracy_score, classification_report, log_loss, brier_score_loss"
   ]
  },
  {
   "cell_type": "code",
   "execution_count": 32,
   "id": "4954ed36-a5e7-4b6a-9cbc-6009bcd22b4e",
   "metadata": {},
   "outputs": [],
   "source": [
    "path = 'D:\\\\Meus Documentos\\\\Python\\\\Notebooks\\\\Datascience\\\\Classification_datascience\\\\webscrapping\\\\matches\\\\rounds\\\\'\n",
    "dataset = pd.read_csv('{}combined_csv.csv'.format(path))"
   ]
  },
  {
   "cell_type": "code",
   "execution_count": 33,
   "id": "fb58b9b9-7ca6-4f09-a94f-6fd4964b7894",
   "metadata": {},
   "outputs": [],
   "source": [
    "dataset = dataset.drop(['bestOF', 'RoundNumber', 'SeriesID', 'MatchID', 'RoundID', 'RoundTime'], axis=1)"
   ]
  },
  {
   "cell_type": "code",
   "execution_count": 34,
   "id": "ec59ea1e-144b-4ae2-992a-4300d0023de5",
   "metadata": {},
   "outputs": [],
   "source": [
    "dataset = pd.get_dummies(dataset, columns=['MapName'])"
   ]
  },
  {
   "cell_type": "code",
   "execution_count": 35,
   "id": "ee9dad22-5eec-4f12-a5b8-44a0cd01103f",
   "metadata": {},
   "outputs": [],
   "source": [
    "X = dataset.drop(['FinalWinner'], axis='columns')\n",
    "Y = dataset.FinalWinner\n",
    "\n",
    "X_train, X_test, Y_train, Y_test = train_test_split(X, Y, train_size=0.8, test_size=0.2, random_state=15)\n",
    "X_train, X_valid, Y_train, Y_valid = train_test_split(X_train, Y_train, train_size=0.9, test_size=0.1, random_state=15)"
   ]
  },
  {
   "cell_type": "code",
   "execution_count": null,
   "id": "1de92841-1e51-4588-ac80-ada152f699d9",
   "metadata": {},
   "outputs": [],
   "source": []
  },
  {
   "cell_type": "code",
   "execution_count": 36,
   "id": "b300499e-7538-4c1a-9b57-404601b7de47",
   "metadata": {},
   "outputs": [
    {
     "data": {
      "text/plain": [
       "LGBMClassifier(boosting_type='dart')"
      ]
     },
     "execution_count": 36,
     "metadata": {},
     "output_type": "execute_result"
    }
   ],
   "source": [
    "LGBM = lightgbm.LGBMClassifier(boosting_type=\"dart\")\n",
    "LGBM.fit(X_train, Y_train)"
   ]
  },
  {
   "cell_type": "code",
   "execution_count": null,
   "id": "3932fd9d-7e1a-4f14-9d7a-e934c3fd768a",
   "metadata": {},
   "outputs": [],
   "source": []
  },
  {
   "cell_type": "code",
   "execution_count": 37,
   "id": "114f426c-32c7-4ccd-883d-bb23392ec2ab",
   "metadata": {},
   "outputs": [],
   "source": [
    "data = {'ATK_wealth': [3320, 3320, 2740, 2740, 1740, 1740, 1740, 1160, 580, 0],\n",
    "        'DEF_wealth': [2900, 2320, 2320, 2320, 2320, 1740, 1160, 1160, 1160, 1160],\n",
    "       'ATK_alive': [5,5,4,4,3,3,3,2,1,0],\n",
    "       'DEF_alive': [5,4,4,4,4,3,2,2,2,2],\n",
    "       'Def_has_OP': [0,0,0,0,0,0,0,0,0,0],\n",
    "       'Def_has_Odin': [0,0,0,0,0,0,0,0,0,0],\n",
    "       'Spike_1_beep': [0,0,0,0,1,1,1,1,1,0],\n",
    "       'Spike_2_beep': [0,0,0,0,0,0,0,0,0,1],\n",
    "       'MapName_Ascent': [0,0,0,0,0,0,0,0,0,0],\n",
    "       'MapName_Bind': [0,0,0,0,0,0,0,0,0,0],\n",
    "       'MapName_Breeze': [0,0,0,0,0,0,0,0,0,0],\n",
    "       'MapName_Haven': [0,0,0,0,0,0,0,0,0,0],\n",
    "       'MapName_Icebox': [0,0,0,0,0,0,0,0,0,0],\n",
    "       'MapName_Split': [1,1,1,1,1,1,1,1,1,1]}"
   ]
  },
  {
   "cell_type": "code",
   "execution_count": 38,
   "id": "56dadd76-4f7a-43be-a077-4ff47f024359",
   "metadata": {},
   "outputs": [
    {
     "name": "stdout",
     "output_type": "stream",
     "text": [
      "50.2%\n",
      "32.2%\n",
      "49.9%\n",
      "49.9%\n",
      "72.2%\n",
      "50.4%\n",
      "24.8%\n",
      "49.7%\n",
      "81.39999999999999%\n",
      "97.0%\n"
     ]
    }
   ],
   "source": [
    "round_test = pd.DataFrame(data)\n",
    "\n",
    "for i in range(0, 10):\n",
    "    aux = LGBM.predict_proba(round_test.loc[i,:].to_numpy().reshape(1,-1))[0][0]\n",
    "    print(\"{}%\".format(round(aux, 3)*100))"
   ]
  },
  {
   "cell_type": "code",
   "execution_count": null,
   "id": "0c31da5b-7f8a-47cb-b043-30b9f3388199",
   "metadata": {},
   "outputs": [],
   "source": []
  }
 ],
 "metadata": {
  "kernelspec": {
   "display_name": "Python 3",
   "language": "python",
   "name": "python3"
  },
  "language_info": {
   "codemirror_mode": {
    "name": "ipython",
    "version": 3
   },
   "file_extension": ".py",
   "mimetype": "text/x-python",
   "name": "python",
   "nbconvert_exporter": "python",
   "pygments_lexer": "ipython3",
   "version": "3.9.5"
  }
 },
 "nbformat": 4,
 "nbformat_minor": 5
}
