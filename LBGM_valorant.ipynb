{
 "cells": [
  {
   "cell_type": "markdown",
   "id": "63980c60-20f6-4bbb-9db1-1c204f838633",
   "metadata": {},
   "source": [
    "# <font color='blue'>Imports </font>"
   ]
  },
  {
   "cell_type": "code",
   "execution_count": 1,
   "id": "ebaca379-3d02-4ed2-9280-44fc8cd0b0b6",
   "metadata": {},
   "outputs": [
    {
     "name": "stdout",
     "output_type": "stream",
     "text": [
      "Wall time: 2.12 s\n"
     ]
    }
   ],
   "source": [
    "%%time\n",
    "import pandas as pd\n",
    "import numpy as np\n",
    "import seaborn as sns\n",
    "import lightgbm\n",
    "import optuna\n",
    "import optuna.integration.lightgbm as lgb\n",
    "import matplotlib.lines as line\n",
    "import matplotlib.ticker as ticker\n",
    "from matplotlib import pyplot as plt\n",
    "from matplotlib.pyplot import figure\n",
    "from matplotlib import rc\n",
    "import sklearn.datasets as skd\n",
    "from sklearn.model_selection import KFold\n",
    "from sklearn.ensemble import RandomForestClassifier\n",
    "from sklearn.calibration import calibration_curve\n",
    "from sklearn.model_selection import train_test_split, cross_val_score\n",
    "from sklearn.tree import DecisionTreeClassifier\n",
    "from sklearn.linear_model import LogisticRegression\n",
    "from sklearn.neighbors import KNeighborsClassifier\n",
    "from sklearn.metrics import r2_score, explained_variance_score, confusion_matrix, accuracy_score, classification_report, log_loss, brier_score_loss"
   ]
  },
  {
   "cell_type": "code",
   "execution_count": 2,
   "id": "4954ed36-a5e7-4b6a-9cbc-6009bcd22b4e",
   "metadata": {},
   "outputs": [],
   "source": [
    "path = 'D:\\\\Python\\\\Notebooks\\\\Datascience\\\\Classification_datascience\\\\webscrapping\\\\matches\\\\rounds\\\\'\n",
    "dataset = pd.read_csv('{}combined_csv.csv'.format(path))"
   ]
  },
  {
   "cell_type": "code",
   "execution_count": 7,
   "id": "fb58b9b9-7ca6-4f09-a94f-6fd4964b7894",
   "metadata": {},
   "outputs": [],
   "source": [
    "#dataset = dataset.drop(['bestOF', 'RoundNumber', 'SeriesID', 'MatchID', 'RoundID', 'RoundTime'], axis=1)\n",
    "dataset = dataset[[\"ATK_wealth\", \"DEF_wealth\", \"ATK_alive\", \"DEF_alive\", \"DEF_has_OP\", \"Def_has_Odin\",\n",
    "                    \"RegularTime\", \"SpikeTime\", \"MapName\", \"FinalWinner\"]]"
   ]
  },
  {
   "cell_type": "code",
   "execution_count": 8,
   "id": "ec59ea1e-144b-4ae2-992a-4300d0023de5",
   "metadata": {},
   "outputs": [],
   "source": [
    "dataset = pd.get_dummies(dataset, columns=['MapName'])"
   ]
  },
  {
   "cell_type": "code",
   "execution_count": 9,
   "id": "416fa483-0e80-44c4-a849-140e9408f7f8",
   "metadata": {},
   "outputs": [
    {
     "data": {
      "text/html": [
       "<div>\n",
       "<style scoped>\n",
       "    .dataframe tbody tr th:only-of-type {\n",
       "        vertical-align: middle;\n",
       "    }\n",
       "\n",
       "    .dataframe tbody tr th {\n",
       "        vertical-align: top;\n",
       "    }\n",
       "\n",
       "    .dataframe thead th {\n",
       "        text-align: right;\n",
       "    }\n",
       "</style>\n",
       "<table border=\"1\" class=\"dataframe\">\n",
       "  <thead>\n",
       "    <tr style=\"text-align: right;\">\n",
       "      <th></th>\n",
       "      <th>ATK_wealth</th>\n",
       "      <th>DEF_wealth</th>\n",
       "      <th>ATK_alive</th>\n",
       "      <th>DEF_alive</th>\n",
       "      <th>DEF_has_OP</th>\n",
       "      <th>Def_has_Odin</th>\n",
       "      <th>RegularTime</th>\n",
       "      <th>SpikeTime</th>\n",
       "      <th>FinalWinner</th>\n",
       "      <th>MapName_Ascent</th>\n",
       "      <th>MapName_Bind</th>\n",
       "      <th>MapName_Breeze</th>\n",
       "      <th>MapName_Haven</th>\n",
       "      <th>MapName_Icebox</th>\n",
       "      <th>MapName_Split</th>\n",
       "    </tr>\n",
       "  </thead>\n",
       "  <tbody>\n",
       "    <tr>\n",
       "      <th>0</th>\n",
       "      <td>500.0</td>\n",
       "      <td>0.0</td>\n",
       "      <td>5</td>\n",
       "      <td>5</td>\n",
       "      <td>0</td>\n",
       "      <td>0</td>\n",
       "      <td>0</td>\n",
       "      <td>0</td>\n",
       "      <td>0</td>\n",
       "      <td>0</td>\n",
       "      <td>0</td>\n",
       "      <td>0</td>\n",
       "      <td>1</td>\n",
       "      <td>0</td>\n",
       "      <td>0</td>\n",
       "    </tr>\n",
       "    <tr>\n",
       "      <th>1</th>\n",
       "      <td>500.0</td>\n",
       "      <td>0.0</td>\n",
       "      <td>5</td>\n",
       "      <td>4</td>\n",
       "      <td>0</td>\n",
       "      <td>0</td>\n",
       "      <td>21</td>\n",
       "      <td>0</td>\n",
       "      <td>0</td>\n",
       "      <td>0</td>\n",
       "      <td>0</td>\n",
       "      <td>0</td>\n",
       "      <td>1</td>\n",
       "      <td>0</td>\n",
       "      <td>0</td>\n",
       "    </tr>\n",
       "    <tr>\n",
       "      <th>2</th>\n",
       "      <td>400.0</td>\n",
       "      <td>0.0</td>\n",
       "      <td>4</td>\n",
       "      <td>4</td>\n",
       "      <td>0</td>\n",
       "      <td>0</td>\n",
       "      <td>22</td>\n",
       "      <td>0</td>\n",
       "      <td>0</td>\n",
       "      <td>0</td>\n",
       "      <td>0</td>\n",
       "      <td>0</td>\n",
       "      <td>1</td>\n",
       "      <td>0</td>\n",
       "      <td>0</td>\n",
       "    </tr>\n",
       "    <tr>\n",
       "      <th>3</th>\n",
       "      <td>300.0</td>\n",
       "      <td>0.0</td>\n",
       "      <td>3</td>\n",
       "      <td>4</td>\n",
       "      <td>0</td>\n",
       "      <td>0</td>\n",
       "      <td>24</td>\n",
       "      <td>0</td>\n",
       "      <td>0</td>\n",
       "      <td>0</td>\n",
       "      <td>0</td>\n",
       "      <td>0</td>\n",
       "      <td>1</td>\n",
       "      <td>0</td>\n",
       "      <td>0</td>\n",
       "    </tr>\n",
       "    <tr>\n",
       "      <th>4</th>\n",
       "      <td>200.0</td>\n",
       "      <td>0.0</td>\n",
       "      <td>2</td>\n",
       "      <td>4</td>\n",
       "      <td>0</td>\n",
       "      <td>0</td>\n",
       "      <td>26</td>\n",
       "      <td>0</td>\n",
       "      <td>0</td>\n",
       "      <td>0</td>\n",
       "      <td>0</td>\n",
       "      <td>0</td>\n",
       "      <td>1</td>\n",
       "      <td>0</td>\n",
       "      <td>0</td>\n",
       "    </tr>\n",
       "  </tbody>\n",
       "</table>\n",
       "</div>"
      ],
      "text/plain": [
       "   ATK_wealth  DEF_wealth  ATK_alive  DEF_alive  DEF_has_OP  Def_has_Odin  \\\n",
       "0       500.0         0.0          5          5           0             0   \n",
       "1       500.0         0.0          5          4           0             0   \n",
       "2       400.0         0.0          4          4           0             0   \n",
       "3       300.0         0.0          3          4           0             0   \n",
       "4       200.0         0.0          2          4           0             0   \n",
       "\n",
       "   RegularTime  SpikeTime  FinalWinner  MapName_Ascent  MapName_Bind  \\\n",
       "0            0          0            0               0             0   \n",
       "1           21          0            0               0             0   \n",
       "2           22          0            0               0             0   \n",
       "3           24          0            0               0             0   \n",
       "4           26          0            0               0             0   \n",
       "\n",
       "   MapName_Breeze  MapName_Haven  MapName_Icebox  MapName_Split  \n",
       "0               0              1               0              0  \n",
       "1               0              1               0              0  \n",
       "2               0              1               0              0  \n",
       "3               0              1               0              0  \n",
       "4               0              1               0              0  "
      ]
     },
     "execution_count": 9,
     "metadata": {},
     "output_type": "execute_result"
    }
   ],
   "source": [
    "dataset.head()"
   ]
  },
  {
   "cell_type": "code",
   "execution_count": 10,
   "id": "ee9dad22-5eec-4f12-a5b8-44a0cd01103f",
   "metadata": {},
   "outputs": [],
   "source": [
    "X = dataset.drop(['FinalWinner'], axis='columns')\n",
    "Y = dataset.FinalWinner\n",
    "\n",
    "X_train, X_test, Y_train, Y_test = train_test_split(X, Y, train_size=0.8, test_size=0.2, random_state=15)\n",
    "X_train, X_valid, Y_train, Y_valid = train_test_split(X_train, Y_train, train_size=0.9, test_size=0.1, random_state=15)"
   ]
  },
  {
   "cell_type": "markdown",
   "id": "3a4b3eac-d591-45dd-b1bd-e32cf9cf0640",
   "metadata": {},
   "source": [
    "# <font color='blue'>Parameter tuning </font>"
   ]
  },
  {
   "cell_type": "code",
   "execution_count": 11,
   "id": "b881d960-25e1-4bbd-a8bf-dab3efc7a9ad",
   "metadata": {},
   "outputs": [],
   "source": [
    "def objective(trial):\n",
    "    bagging_freq =  trial.suggest_int('bagging_freq',1,10),\n",
    "    min_data_in_leaf =  trial.suggest_int('min_data_in_leaf',2,100),\n",
    "    max_depth = trial.suggest_int('max_depth',1,20),\n",
    "    learning_rate = trial.suggest_loguniform('learning_rate',0.001,0.1),\n",
    "    num_leaves = trial.suggest_int('num_leaves',2,70),\n",
    "    num_threads = trial.suggest_int('num_threads',1,10),\n",
    "    min_sum_hessian_in_leaf = trial.suggest_int('min_sum_hessian_in_leaf',1,10),\n",
    "    \n",
    "    model = lightgbm.LGBMClassifier(bagging_freq=bagging_freq,\n",
    "                                    min_data_in_leaf=min_data_in_leaf,\n",
    "                                   max_depth=max_depth,\n",
    "                                   learning_rate=learning_rate,\n",
    "                                   num_leaves=num_leaves,\n",
    "                                   num_threads=num_threads,\n",
    "                                   min_sum_hessian_in_leaf=min_sum_hessian_in_leaf)\n",
    "    model.fit(X_train,Y_train)\n",
    "    pred_proba_test = model.predict_proba(X_test)\n",
    "    score = brier_score_loss(Y_test, pd.DataFrame(pred_proba_test)[1])\n",
    "    return score"
   ]
  },
  {
   "cell_type": "code",
   "execution_count": 12,
   "id": "0f1c22f9-6229-453c-992f-0af06f24b1bc",
   "metadata": {
    "scrolled": true,
    "tags": []
   },
   "outputs": [
    {
     "name": "stderr",
     "output_type": "stream",
     "text": [
      "\u001b[32m[I 2021-06-18 18:21:59,511]\u001b[0m A new study created in memory with name: no-name-4afb57ad-215a-4836-99ef-51693f7fc1ea\u001b[0m\n"
     ]
    },
    {
     "name": "stdout",
     "output_type": "stream",
     "text": [
      "[LightGBM] [Warning] min_data_in_leaf is set=55, min_child_samples=20 will be ignored. Current value: min_data_in_leaf=55\n",
      "[LightGBM] [Warning] min_sum_hessian_in_leaf is set=1, min_child_weight=0.001 will be ignored. Current value: min_sum_hessian_in_leaf=1\n",
      "[LightGBM] [Warning] num_threads is set=8, n_jobs=-1 will be ignored. Current value: num_threads=8\n",
      "[LightGBM] [Warning] bagging_freq is set=10, subsample_freq=0 will be ignored. Current value: bagging_freq=10\n"
     ]
    },
    {
     "name": "stderr",
     "output_type": "stream",
     "text": [
      "\u001b[32m[I 2021-06-18 18:22:00,357]\u001b[0m Trial 0 finished with value: 0.15163679603689795 and parameters: {'bagging_freq': 10, 'min_data_in_leaf': 55, 'max_depth': 14, 'learning_rate': 0.008668521065884978, 'num_leaves': 60, 'num_threads': 8, 'min_sum_hessian_in_leaf': 1}. Best is trial 0 with value: 0.15163679603689795.\u001b[0m\n"
     ]
    },
    {
     "name": "stdout",
     "output_type": "stream",
     "text": [
      "[LightGBM] [Warning] min_data_in_leaf is set=51, min_child_samples=20 will be ignored. Current value: min_data_in_leaf=51\n",
      "[LightGBM] [Warning] min_sum_hessian_in_leaf is set=4, min_child_weight=0.001 will be ignored. Current value: min_sum_hessian_in_leaf=4\n",
      "[LightGBM] [Warning] num_threads is set=6, n_jobs=-1 will be ignored. Current value: num_threads=6\n",
      "[LightGBM] [Warning] bagging_freq is set=6, subsample_freq=0 will be ignored. Current value: bagging_freq=6\n"
     ]
    },
    {
     "name": "stderr",
     "output_type": "stream",
     "text": [
      "\u001b[32m[I 2021-06-18 18:22:00,728]\u001b[0m Trial 1 finished with value: 0.14054632929522 and parameters: {'bagging_freq': 6, 'min_data_in_leaf': 51, 'max_depth': 3, 'learning_rate': 0.021124977232918906, 'num_leaves': 47, 'num_threads': 6, 'min_sum_hessian_in_leaf': 4}. Best is trial 1 with value: 0.14054632929522.\u001b[0m\n"
     ]
    },
    {
     "name": "stdout",
     "output_type": "stream",
     "text": [
      "[LightGBM] [Warning] min_data_in_leaf is set=47, min_child_samples=20 will be ignored. Current value: min_data_in_leaf=47\n",
      "[LightGBM] [Warning] min_sum_hessian_in_leaf is set=6, min_child_weight=0.001 will be ignored. Current value: min_sum_hessian_in_leaf=6\n",
      "[LightGBM] [Warning] num_threads is set=5, n_jobs=-1 will be ignored. Current value: num_threads=5\n",
      "[LightGBM] [Warning] bagging_freq is set=3, subsample_freq=0 will be ignored. Current value: bagging_freq=3\n"
     ]
    },
    {
     "name": "stderr",
     "output_type": "stream",
     "text": [
      "\u001b[32m[I 2021-06-18 18:22:01,097]\u001b[0m Trial 2 finished with value: 0.13999759527061714 and parameters: {'bagging_freq': 3, 'min_data_in_leaf': 47, 'max_depth': 2, 'learning_rate': 0.0314773436117258, 'num_leaves': 8, 'num_threads': 5, 'min_sum_hessian_in_leaf': 6}. Best is trial 2 with value: 0.13999759527061714.\u001b[0m\n"
     ]
    },
    {
     "name": "stdout",
     "output_type": "stream",
     "text": [
      "[LightGBM] [Warning] min_data_in_leaf is set=100, min_child_samples=20 will be ignored. Current value: min_data_in_leaf=100\n",
      "[LightGBM] [Warning] min_sum_hessian_in_leaf is set=4, min_child_weight=0.001 will be ignored. Current value: min_sum_hessian_in_leaf=4\n",
      "[LightGBM] [Warning] num_threads is set=1, n_jobs=-1 will be ignored. Current value: num_threads=1\n",
      "[LightGBM] [Warning] bagging_freq is set=7, subsample_freq=0 will be ignored. Current value: bagging_freq=7\n"
     ]
    },
    {
     "name": "stderr",
     "output_type": "stream",
     "text": [
      "\u001b[32m[I 2021-06-18 18:22:03,334]\u001b[0m Trial 3 finished with value: 0.12812922337756413 and parameters: {'bagging_freq': 7, 'min_data_in_leaf': 100, 'max_depth': 11, 'learning_rate': 0.055176571182775025, 'num_leaves': 66, 'num_threads': 1, 'min_sum_hessian_in_leaf': 4}. Best is trial 3 with value: 0.12812922337756413.\u001b[0m\n"
     ]
    },
    {
     "name": "stdout",
     "output_type": "stream",
     "text": [
      "[LightGBM] [Warning] min_data_in_leaf is set=9, min_child_samples=20 will be ignored. Current value: min_data_in_leaf=9\n",
      "[LightGBM] [Warning] min_sum_hessian_in_leaf is set=8, min_child_weight=0.001 will be ignored. Current value: min_sum_hessian_in_leaf=8\n",
      "[LightGBM] [Warning] num_threads is set=10, n_jobs=-1 will be ignored. Current value: num_threads=10\n",
      "[LightGBM] [Warning] bagging_freq is set=1, subsample_freq=0 will be ignored. Current value: bagging_freq=1\n"
     ]
    },
    {
     "name": "stderr",
     "output_type": "stream",
     "text": [
      "\u001b[32m[I 2021-06-18 18:22:04,010]\u001b[0m Trial 4 finished with value: 0.16193033544820615 and parameters: {'bagging_freq': 1, 'min_data_in_leaf': 9, 'max_depth': 20, 'learning_rate': 0.0069661592960773054, 'num_leaves': 38, 'num_threads': 10, 'min_sum_hessian_in_leaf': 8}. Best is trial 3 with value: 0.12812922337756413.\u001b[0m\n"
     ]
    },
    {
     "name": "stdout",
     "output_type": "stream",
     "text": [
      "[LightGBM] [Warning] min_data_in_leaf is set=31, min_child_samples=20 will be ignored. Current value: min_data_in_leaf=31\n",
      "[LightGBM] [Warning] min_sum_hessian_in_leaf is set=2, min_child_weight=0.001 will be ignored. Current value: min_sum_hessian_in_leaf=2\n",
      "[LightGBM] [Warning] num_threads is set=2, n_jobs=-1 will be ignored. Current value: num_threads=2\n",
      "[LightGBM] [Warning] bagging_freq is set=4, subsample_freq=0 will be ignored. Current value: bagging_freq=4\n"
     ]
    },
    {
     "name": "stderr",
     "output_type": "stream",
     "text": [
      "\u001b[32m[I 2021-06-18 18:22:05,154]\u001b[0m Trial 5 finished with value: 0.20310885836615145 and parameters: {'bagging_freq': 4, 'min_data_in_leaf': 31, 'max_depth': 7, 'learning_rate': 0.0025979867285264133, 'num_leaves': 50, 'num_threads': 2, 'min_sum_hessian_in_leaf': 2}. Best is trial 3 with value: 0.12812922337756413.\u001b[0m\n"
     ]
    },
    {
     "name": "stdout",
     "output_type": "stream",
     "text": [
      "[LightGBM] [Warning] min_data_in_leaf is set=69, min_child_samples=20 will be ignored. Current value: min_data_in_leaf=69\n",
      "[LightGBM] [Warning] min_sum_hessian_in_leaf is set=8, min_child_weight=0.001 will be ignored. Current value: min_sum_hessian_in_leaf=8\n",
      "[LightGBM] [Warning] num_threads is set=7, n_jobs=-1 will be ignored. Current value: num_threads=7\n",
      "[LightGBM] [Warning] bagging_freq is set=5, subsample_freq=0 will be ignored. Current value: bagging_freq=5\n"
     ]
    },
    {
     "name": "stderr",
     "output_type": "stream",
     "text": [
      "\u001b[32m[I 2021-06-18 18:22:05,984]\u001b[0m Trial 6 finished with value: 0.12779814871174622 and parameters: {'bagging_freq': 5, 'min_data_in_leaf': 69, 'max_depth': 13, 'learning_rate': 0.09238534917993242, 'num_leaves': 70, 'num_threads': 7, 'min_sum_hessian_in_leaf': 8}. Best is trial 6 with value: 0.12779814871174622.\u001b[0m\n"
     ]
    },
    {
     "name": "stdout",
     "output_type": "stream",
     "text": [
      "[LightGBM] [Warning] min_data_in_leaf is set=43, min_child_samples=20 will be ignored. Current value: min_data_in_leaf=43\n",
      "[LightGBM] [Warning] min_sum_hessian_in_leaf is set=2, min_child_weight=0.001 will be ignored. Current value: min_sum_hessian_in_leaf=2\n",
      "[LightGBM] [Warning] num_threads is set=5, n_jobs=-1 will be ignored. Current value: num_threads=5\n",
      "[LightGBM] [Warning] bagging_freq is set=9, subsample_freq=0 will be ignored. Current value: bagging_freq=9\n"
     ]
    },
    {
     "name": "stderr",
     "output_type": "stream",
     "text": [
      "\u001b[32m[I 2021-06-18 18:22:06,406]\u001b[0m Trial 7 finished with value: 0.13700180171249574 and parameters: {'bagging_freq': 9, 'min_data_in_leaf': 43, 'max_depth': 3, 'learning_rate': 0.025749089477997845, 'num_leaves': 30, 'num_threads': 5, 'min_sum_hessian_in_leaf': 2}. Best is trial 6 with value: 0.12779814871174622.\u001b[0m\n"
     ]
    },
    {
     "name": "stdout",
     "output_type": "stream",
     "text": [
      "[LightGBM] [Warning] min_data_in_leaf is set=39, min_child_samples=20 will be ignored. Current value: min_data_in_leaf=39\n",
      "[LightGBM] [Warning] min_sum_hessian_in_leaf is set=7, min_child_weight=0.001 will be ignored. Current value: min_sum_hessian_in_leaf=7\n",
      "[LightGBM] [Warning] num_threads is set=8, n_jobs=-1 will be ignored. Current value: num_threads=8\n",
      "[LightGBM] [Warning] bagging_freq is set=7, subsample_freq=0 will be ignored. Current value: bagging_freq=7\n"
     ]
    },
    {
     "name": "stderr",
     "output_type": "stream",
     "text": [
      "\u001b[32m[I 2021-06-18 18:22:07,257]\u001b[0m Trial 8 finished with value: 0.2072963616904879 and parameters: {'bagging_freq': 7, 'min_data_in_leaf': 39, 'max_depth': 18, 'learning_rate': 0.0022933114329289437, 'num_leaves': 53, 'num_threads': 8, 'min_sum_hessian_in_leaf': 7}. Best is trial 6 with value: 0.12779814871174622.\u001b[0m\n"
     ]
    },
    {
     "name": "stdout",
     "output_type": "stream",
     "text": [
      "[LightGBM] [Warning] min_data_in_leaf is set=46, min_child_samples=20 will be ignored. Current value: min_data_in_leaf=46\n",
      "[LightGBM] [Warning] min_sum_hessian_in_leaf is set=4, min_child_weight=0.001 will be ignored. Current value: min_sum_hessian_in_leaf=4\n",
      "[LightGBM] [Warning] num_threads is set=1, n_jobs=-1 will be ignored. Current value: num_threads=1\n",
      "[LightGBM] [Warning] bagging_freq is set=9, subsample_freq=0 will be ignored. Current value: bagging_freq=9\n"
     ]
    },
    {
     "name": "stderr",
     "output_type": "stream",
     "text": [
      "\u001b[32m[I 2021-06-18 18:22:08,890]\u001b[0m Trial 9 finished with value: 0.12846868757463686 and parameters: {'bagging_freq': 9, 'min_data_in_leaf': 46, 'max_depth': 8, 'learning_rate': 0.08077441487622825, 'num_leaves': 14, 'num_threads': 1, 'min_sum_hessian_in_leaf': 4}. Best is trial 6 with value: 0.12779814871174622.\u001b[0m\n"
     ]
    },
    {
     "name": "stdout",
     "output_type": "stream",
     "text": [
      "[LightGBM] [Warning] min_data_in_leaf is set=85, min_child_samples=20 will be ignored. Current value: min_data_in_leaf=85\n",
      "[LightGBM] [Warning] min_sum_hessian_in_leaf is set=10, min_child_weight=0.001 will be ignored. Current value: min_sum_hessian_in_leaf=10\n",
      "[LightGBM] [Warning] num_threads is set=10, n_jobs=-1 will be ignored. Current value: num_threads=10\n",
      "[LightGBM] [Warning] bagging_freq is set=1, subsample_freq=0 will be ignored. Current value: bagging_freq=1\n"
     ]
    },
    {
     "name": "stderr",
     "output_type": "stream",
     "text": [
      "\u001b[32m[I 2021-06-18 18:22:09,723]\u001b[0m Trial 10 finished with value: 0.12785381910812751 and parameters: {'bagging_freq': 1, 'min_data_in_leaf': 85, 'max_depth': 15, 'learning_rate': 0.09024402041960032, 'num_leaves': 70, 'num_threads': 10, 'min_sum_hessian_in_leaf': 10}. Best is trial 6 with value: 0.12779814871174622.\u001b[0m\n"
     ]
    },
    {
     "name": "stdout",
     "output_type": "stream",
     "text": [
      "[LightGBM] [Warning] min_data_in_leaf is set=85, min_child_samples=20 will be ignored. Current value: min_data_in_leaf=85\n",
      "[LightGBM] [Warning] min_sum_hessian_in_leaf is set=10, min_child_weight=0.001 will be ignored. Current value: min_sum_hessian_in_leaf=10\n",
      "[LightGBM] [Warning] num_threads is set=10, n_jobs=-1 will be ignored. Current value: num_threads=10\n",
      "[LightGBM] [Warning] bagging_freq is set=1, subsample_freq=0 will be ignored. Current value: bagging_freq=1\n"
     ]
    },
    {
     "name": "stderr",
     "output_type": "stream",
     "text": [
      "\u001b[32m[I 2021-06-18 18:22:10,504]\u001b[0m Trial 11 finished with value: 0.12787837645899808 and parameters: {'bagging_freq': 1, 'min_data_in_leaf': 85, 'max_depth': 15, 'learning_rate': 0.08892527744078825, 'num_leaves': 68, 'num_threads': 10, 'min_sum_hessian_in_leaf': 10}. Best is trial 6 with value: 0.12779814871174622.\u001b[0m\n"
     ]
    },
    {
     "name": "stdout",
     "output_type": "stream",
     "text": [
      "[LightGBM] [Warning] min_data_in_leaf is set=80, min_child_samples=20 will be ignored. Current value: min_data_in_leaf=80\n",
      "[LightGBM] [Warning] min_sum_hessian_in_leaf is set=10, min_child_weight=0.001 will be ignored. Current value: min_sum_hessian_in_leaf=10\n",
      "[LightGBM] [Warning] num_threads is set=8, n_jobs=-1 will be ignored. Current value: num_threads=8\n",
      "[LightGBM] [Warning] bagging_freq is set=3, subsample_freq=0 will be ignored. Current value: bagging_freq=3\n"
     ]
    },
    {
     "name": "stderr",
     "output_type": "stream",
     "text": [
      "\u001b[32m[I 2021-06-18 18:22:11,341]\u001b[0m Trial 12 finished with value: 0.1279238047968814 and parameters: {'bagging_freq': 3, 'min_data_in_leaf': 80, 'max_depth': 15, 'learning_rate': 0.09298227201695372, 'num_leaves': 68, 'num_threads': 8, 'min_sum_hessian_in_leaf': 10}. Best is trial 6 with value: 0.12779814871174622.\u001b[0m\n"
     ]
    },
    {
     "name": "stdout",
     "output_type": "stream",
     "text": [
      "[LightGBM] [Warning] min_data_in_leaf is set=72, min_child_samples=20 will be ignored. Current value: min_data_in_leaf=72\n",
      "[LightGBM] [Warning] min_sum_hessian_in_leaf is set=9, min_child_weight=0.001 will be ignored. Current value: min_sum_hessian_in_leaf=9\n",
      "[LightGBM] [Warning] num_threads is set=7, n_jobs=-1 will be ignored. Current value: num_threads=7\n",
      "[LightGBM] [Warning] bagging_freq is set=4, subsample_freq=0 will be ignored. Current value: bagging_freq=4\n"
     ]
    },
    {
     "name": "stderr",
     "output_type": "stream",
     "text": [
      "\u001b[32m[I 2021-06-18 18:22:12,260]\u001b[0m Trial 13 finished with value: 0.128217849105089 and parameters: {'bagging_freq': 4, 'min_data_in_leaf': 72, 'max_depth': 12, 'learning_rate': 0.04387045722689773, 'num_leaves': 70, 'num_threads': 7, 'min_sum_hessian_in_leaf': 9}. Best is trial 6 with value: 0.12779814871174622.\u001b[0m\n"
     ]
    },
    {
     "name": "stdout",
     "output_type": "stream",
     "text": [
      "[LightGBM] [Warning] min_data_in_leaf is set=96, min_child_samples=20 will be ignored. Current value: min_data_in_leaf=96\n",
      "[LightGBM] [Warning] min_sum_hessian_in_leaf is set=8, min_child_weight=0.001 will be ignored. Current value: min_sum_hessian_in_leaf=8\n",
      "[LightGBM] [Warning] num_threads is set=3, n_jobs=-1 will be ignored. Current value: num_threads=3\n",
      "[LightGBM] [Warning] bagging_freq is set=2, subsample_freq=0 will be ignored. Current value: bagging_freq=2\n"
     ]
    },
    {
     "name": "stderr",
     "output_type": "stream",
     "text": [
      "\u001b[32m[I 2021-06-18 18:22:12,999]\u001b[0m Trial 14 finished with value: 0.1383097781684216 and parameters: {'bagging_freq': 2, 'min_data_in_leaf': 96, 'max_depth': 18, 'learning_rate': 0.015549694453237364, 'num_leaves': 21, 'num_threads': 3, 'min_sum_hessian_in_leaf': 8}. Best is trial 6 with value: 0.12779814871174622.\u001b[0m\n"
     ]
    },
    {
     "name": "stdout",
     "output_type": "stream",
     "text": [
      "[LightGBM] [Warning] min_data_in_leaf is set=68, min_child_samples=20 will be ignored. Current value: min_data_in_leaf=68\n",
      "[LightGBM] [Warning] min_sum_hessian_in_leaf is set=10, min_child_weight=0.001 will be ignored. Current value: min_sum_hessian_in_leaf=10\n",
      "[LightGBM] [Warning] num_threads is set=10, n_jobs=-1 will be ignored. Current value: num_threads=10\n",
      "[LightGBM] [Warning] bagging_freq is set=5, subsample_freq=0 will be ignored. Current value: bagging_freq=5\n"
     ]
    },
    {
     "name": "stderr",
     "output_type": "stream",
     "text": [
      "\u001b[32m[I 2021-06-18 18:22:13,800]\u001b[0m Trial 15 finished with value: 0.22877076446633474 and parameters: {'bagging_freq': 5, 'min_data_in_leaf': 68, 'max_depth': 8, 'learning_rate': 0.0010088561685076666, 'num_leaves': 59, 'num_threads': 10, 'min_sum_hessian_in_leaf': 10}. Best is trial 6 with value: 0.12779814871174622.\u001b[0m\n"
     ]
    },
    {
     "name": "stdout",
     "output_type": "stream",
     "text": [
      "[LightGBM] [Warning] min_data_in_leaf is set=66, min_child_samples=20 will be ignored. Current value: min_data_in_leaf=66\n",
      "[LightGBM] [Warning] min_sum_hessian_in_leaf is set=8, min_child_weight=0.001 will be ignored. Current value: min_sum_hessian_in_leaf=8\n",
      "[LightGBM] [Warning] num_threads is set=9, n_jobs=-1 will be ignored. Current value: num_threads=9\n",
      "[LightGBM] [Warning] bagging_freq is set=1, subsample_freq=0 will be ignored. Current value: bagging_freq=1\n"
     ]
    },
    {
     "name": "stderr",
     "output_type": "stream",
     "text": [
      "\u001b[32m[I 2021-06-18 18:22:14,530]\u001b[0m Trial 16 finished with value: 0.12817897712499304 and parameters: {'bagging_freq': 1, 'min_data_in_leaf': 66, 'max_depth': 13, 'learning_rate': 0.0524708675644768, 'num_leaves': 41, 'num_threads': 9, 'min_sum_hessian_in_leaf': 8}. Best is trial 6 with value: 0.12779814871174622.\u001b[0m\n"
     ]
    },
    {
     "name": "stdout",
     "output_type": "stream",
     "text": [
      "[LightGBM] [Warning] min_data_in_leaf is set=87, min_child_samples=20 will be ignored. Current value: min_data_in_leaf=87\n",
      "[LightGBM] [Warning] min_sum_hessian_in_leaf is set=6, min_child_weight=0.001 will be ignored. Current value: min_sum_hessian_in_leaf=6\n",
      "[LightGBM] [Warning] num_threads is set=4, n_jobs=-1 will be ignored. Current value: num_threads=4\n",
      "[LightGBM] [Warning] bagging_freq is set=7, subsample_freq=0 will be ignored. Current value: bagging_freq=7\n"
     ]
    },
    {
     "name": "stderr",
     "output_type": "stream",
     "text": [
      "\u001b[32m[I 2021-06-18 18:22:15,273]\u001b[0m Trial 17 finished with value: 0.12789823642728276 and parameters: {'bagging_freq': 7, 'min_data_in_leaf': 87, 'max_depth': 17, 'learning_rate': 0.0886343740856558, 'num_leaves': 59, 'num_threads': 4, 'min_sum_hessian_in_leaf': 6}. Best is trial 6 with value: 0.12779814871174622.\u001b[0m\n"
     ]
    },
    {
     "name": "stdout",
     "output_type": "stream",
     "text": [
      "[LightGBM] [Warning] min_data_in_leaf is set=59, min_child_samples=20 will be ignored. Current value: min_data_in_leaf=59\n",
      "[LightGBM] [Warning] min_sum_hessian_in_leaf is set=9, min_child_weight=0.001 will be ignored. Current value: min_sum_hessian_in_leaf=9\n",
      "[LightGBM] [Warning] num_threads is set=7, n_jobs=-1 will be ignored. Current value: num_threads=7\n",
      "[LightGBM] [Warning] bagging_freq is set=5, subsample_freq=0 will be ignored. Current value: bagging_freq=5\n"
     ]
    },
    {
     "name": "stderr",
     "output_type": "stream",
     "text": [
      "\u001b[32m[I 2021-06-18 18:22:15,991]\u001b[0m Trial 18 finished with value: 0.14022366094231778 and parameters: {'bagging_freq': 5, 'min_data_in_leaf': 59, 'max_depth': 10, 'learning_rate': 0.013590330916979544, 'num_leaves': 27, 'num_threads': 7, 'min_sum_hessian_in_leaf': 9}. Best is trial 6 with value: 0.12779814871174622.\u001b[0m\n"
     ]
    },
    {
     "name": "stdout",
     "output_type": "stream",
     "text": [
      "[LightGBM] [Warning] min_data_in_leaf is set=95, min_child_samples=20 will be ignored. Current value: min_data_in_leaf=95\n",
      "[LightGBM] [Warning] min_sum_hessian_in_leaf is set=9, min_child_weight=0.001 will be ignored. Current value: min_sum_hessian_in_leaf=9\n",
      "[LightGBM] [Warning] num_threads is set=9, n_jobs=-1 will be ignored. Current value: num_threads=9\n",
      "[LightGBM] [Warning] bagging_freq is set=2, subsample_freq=0 will be ignored. Current value: bagging_freq=2\n"
     ]
    },
    {
     "name": "stderr",
     "output_type": "stream",
     "text": [
      "\u001b[32m[I 2021-06-18 18:22:16,823]\u001b[0m Trial 19 finished with value: 0.17528466778604856 and parameters: {'bagging_freq': 2, 'min_data_in_leaf': 95, 'max_depth': 20, 'learning_rate': 0.0049663818689219, 'num_leaves': 62, 'num_threads': 9, 'min_sum_hessian_in_leaf': 9}. Best is trial 6 with value: 0.12779814871174622.\u001b[0m\n"
     ]
    },
    {
     "name": "stdout",
     "output_type": "stream",
     "text": [
      "[LightGBM] [Warning] min_data_in_leaf is set=77, min_child_samples=20 will be ignored. Current value: min_data_in_leaf=77\n",
      "[LightGBM] [Warning] min_sum_hessian_in_leaf is set=7, min_child_weight=0.001 will be ignored. Current value: min_sum_hessian_in_leaf=7\n",
      "[LightGBM] [Warning] num_threads is set=6, n_jobs=-1 will be ignored. Current value: num_threads=6\n",
      "[LightGBM] [Warning] bagging_freq is set=6, subsample_freq=0 will be ignored. Current value: bagging_freq=6\n"
     ]
    },
    {
     "name": "stderr",
     "output_type": "stream",
     "text": [
      "\u001b[32m[I 2021-06-18 18:22:17,479]\u001b[0m Trial 20 finished with value: 0.12849670177483388 and parameters: {'bagging_freq': 6, 'min_data_in_leaf': 77, 'max_depth': 16, 'learning_rate': 0.03888797433698327, 'num_leaves': 44, 'num_threads': 6, 'min_sum_hessian_in_leaf': 7}. Best is trial 6 with value: 0.12779814871174622.\u001b[0m\n"
     ]
    },
    {
     "name": "stdout",
     "output_type": "stream",
     "text": [
      "[LightGBM] [Warning] min_data_in_leaf is set=86, min_child_samples=20 will be ignored. Current value: min_data_in_leaf=86\n",
      "[LightGBM] [Warning] min_sum_hessian_in_leaf is set=10, min_child_weight=0.001 will be ignored. Current value: min_sum_hessian_in_leaf=10\n",
      "[LightGBM] [Warning] num_threads is set=10, n_jobs=-1 will be ignored. Current value: num_threads=10\n",
      "[LightGBM] [Warning] bagging_freq is set=1, subsample_freq=0 will be ignored. Current value: bagging_freq=1\n"
     ]
    },
    {
     "name": "stderr",
     "output_type": "stream",
     "text": [
      "\u001b[32m[I 2021-06-18 18:22:18,329]\u001b[0m Trial 21 finished with value: 0.12780377164309048 and parameters: {'bagging_freq': 1, 'min_data_in_leaf': 86, 'max_depth': 14, 'learning_rate': 0.09293768757664568, 'num_leaves': 70, 'num_threads': 10, 'min_sum_hessian_in_leaf': 10}. Best is trial 6 with value: 0.12779814871174622.\u001b[0m\n"
     ]
    },
    {
     "name": "stdout",
     "output_type": "stream",
     "text": [
      "[LightGBM] [Warning] min_data_in_leaf is set=89, min_child_samples=20 will be ignored. Current value: min_data_in_leaf=89\n",
      "[LightGBM] [Warning] min_sum_hessian_in_leaf is set=10, min_child_weight=0.001 will be ignored. Current value: min_sum_hessian_in_leaf=10\n",
      "[LightGBM] [Warning] num_threads is set=9, n_jobs=-1 will be ignored. Current value: num_threads=9\n",
      "[LightGBM] [Warning] bagging_freq is set=2, subsample_freq=0 will be ignored. Current value: bagging_freq=2\n"
     ]
    },
    {
     "name": "stderr",
     "output_type": "stream",
     "text": [
      "\u001b[32m[I 2021-06-18 18:22:19,130]\u001b[0m Trial 22 finished with value: 0.12801915042195544 and parameters: {'bagging_freq': 2, 'min_data_in_leaf': 89, 'max_depth': 13, 'learning_rate': 0.06609385668391446, 'num_leaves': 54, 'num_threads': 9, 'min_sum_hessian_in_leaf': 10}. Best is trial 6 with value: 0.12779814871174622.\u001b[0m\n"
     ]
    },
    {
     "name": "stdout",
     "output_type": "stream",
     "text": [
      "[LightGBM] [Warning] min_data_in_leaf is set=62, min_child_samples=20 will be ignored. Current value: min_data_in_leaf=62\n",
      "[LightGBM] [Warning] min_sum_hessian_in_leaf is set=9, min_child_weight=0.001 will be ignored. Current value: min_sum_hessian_in_leaf=9\n",
      "[LightGBM] [Warning] num_threads is set=10, n_jobs=-1 will be ignored. Current value: num_threads=10\n",
      "[LightGBM] [Warning] bagging_freq is set=3, subsample_freq=0 will be ignored. Current value: bagging_freq=3\n"
     ]
    },
    {
     "name": "stderr",
     "output_type": "stream",
     "text": [
      "\u001b[32m[I 2021-06-18 18:22:19,904]\u001b[0m Trial 23 finished with value: 0.12787948952355546 and parameters: {'bagging_freq': 3, 'min_data_in_leaf': 62, 'max_depth': 10, 'learning_rate': 0.09876137367609901, 'num_leaves': 70, 'num_threads': 10, 'min_sum_hessian_in_leaf': 9}. Best is trial 6 with value: 0.12779814871174622.\u001b[0m\n"
     ]
    },
    {
     "name": "stdout",
     "output_type": "stream",
     "text": [
      "[LightGBM] [Warning] min_data_in_leaf is set=77, min_child_samples=20 will be ignored. Current value: min_data_in_leaf=77\n",
      "[LightGBM] [Warning] min_sum_hessian_in_leaf is set=10, min_child_weight=0.001 will be ignored. Current value: min_sum_hessian_in_leaf=10\n",
      "[LightGBM] [Warning] num_threads is set=7, n_jobs=-1 will be ignored. Current value: num_threads=7\n",
      "[LightGBM] [Warning] bagging_freq is set=1, subsample_freq=0 will be ignored. Current value: bagging_freq=1\n"
     ]
    },
    {
     "name": "stderr",
     "output_type": "stream",
     "text": [
      "\u001b[32m[I 2021-06-18 18:22:20,794]\u001b[0m Trial 24 finished with value: 0.12798983644048215 and parameters: {'bagging_freq': 1, 'min_data_in_leaf': 77, 'max_depth': 14, 'learning_rate': 0.06486935716898057, 'num_leaves': 64, 'num_threads': 7, 'min_sum_hessian_in_leaf': 10}. Best is trial 6 with value: 0.12779814871174622.\u001b[0m\n"
     ]
    },
    {
     "name": "stdout",
     "output_type": "stream",
     "text": [
      "[LightGBM] [Warning] min_data_in_leaf is set=91, min_child_samples=20 will be ignored. Current value: min_data_in_leaf=91\n",
      "[LightGBM] [Warning] min_sum_hessian_in_leaf is set=7, min_child_weight=0.001 will be ignored. Current value: min_sum_hessian_in_leaf=7\n",
      "[LightGBM] [Warning] num_threads is set=9, n_jobs=-1 will be ignored. Current value: num_threads=9\n",
      "[LightGBM] [Warning] bagging_freq is set=4, subsample_freq=0 will be ignored. Current value: bagging_freq=4\n"
     ]
    },
    {
     "name": "stderr",
     "output_type": "stream",
     "text": [
      "\u001b[32m[I 2021-06-18 18:22:21,603]\u001b[0m Trial 25 finished with value: 0.12849369710738567 and parameters: {'bagging_freq': 4, 'min_data_in_leaf': 91, 'max_depth': 17, 'learning_rate': 0.03701310231486298, 'num_leaves': 58, 'num_threads': 9, 'min_sum_hessian_in_leaf': 7}. Best is trial 6 with value: 0.12779814871174622.\u001b[0m\n"
     ]
    },
    {
     "name": "stdout",
     "output_type": "stream",
     "text": [
      "[LightGBM] [Warning] min_data_in_leaf is set=81, min_child_samples=20 will be ignored. Current value: min_data_in_leaf=81\n",
      "[LightGBM] [Warning] min_sum_hessian_in_leaf is set=8, min_child_weight=0.001 will be ignored. Current value: min_sum_hessian_in_leaf=8\n",
      "[LightGBM] [Warning] num_threads is set=8, n_jobs=-1 will be ignored. Current value: num_threads=8\n",
      "[LightGBM] [Warning] bagging_freq is set=2, subsample_freq=0 will be ignored. Current value: bagging_freq=2\n"
     ]
    },
    {
     "name": "stderr",
     "output_type": "stream",
     "text": [
      "\u001b[32m[I 2021-06-18 18:22:22,433]\u001b[0m Trial 26 finished with value: 0.12780933235410036 and parameters: {'bagging_freq': 2, 'min_data_in_leaf': 81, 'max_depth': 12, 'learning_rate': 0.098090199442589, 'num_leaves': 70, 'num_threads': 8, 'min_sum_hessian_in_leaf': 8}. Best is trial 6 with value: 0.12779814871174622.\u001b[0m\n"
     ]
    },
    {
     "name": "stdout",
     "output_type": "stream",
     "text": [
      "[LightGBM] [Warning] min_data_in_leaf is set=72, min_child_samples=20 will be ignored. Current value: min_data_in_leaf=72\n",
      "[LightGBM] [Warning] min_sum_hessian_in_leaf is set=8, min_child_weight=0.001 will be ignored. Current value: min_sum_hessian_in_leaf=8\n",
      "[LightGBM] [Warning] num_threads is set=8, n_jobs=-1 will be ignored. Current value: num_threads=8\n",
      "[LightGBM] [Warning] bagging_freq is set=2, subsample_freq=0 will be ignored. Current value: bagging_freq=2\n"
     ]
    },
    {
     "name": "stderr",
     "output_type": "stream",
     "text": [
      "\u001b[32m[I 2021-06-18 18:22:23,183]\u001b[0m Trial 27 finished with value: 0.1281905020160065 and parameters: {'bagging_freq': 2, 'min_data_in_leaf': 72, 'max_depth': 6, 'learning_rate': 0.06070984448210973, 'num_leaves': 55, 'num_threads': 8, 'min_sum_hessian_in_leaf': 8}. Best is trial 6 with value: 0.12779814871174622.\u001b[0m\n"
     ]
    },
    {
     "name": "stdout",
     "output_type": "stream",
     "text": [
      "[LightGBM] [Warning] min_data_in_leaf is set=100, min_child_samples=20 will be ignored. Current value: min_data_in_leaf=100\n",
      "[LightGBM] [Warning] min_sum_hessian_in_leaf is set=5, min_child_weight=0.001 will be ignored. Current value: min_sum_hessian_in_leaf=5\n",
      "[LightGBM] [Warning] num_threads is set=7, n_jobs=-1 will be ignored. Current value: num_threads=7\n",
      "[LightGBM] [Warning] bagging_freq is set=3, subsample_freq=0 will be ignored. Current value: bagging_freq=3\n"
     ]
    },
    {
     "name": "stderr",
     "output_type": "stream",
     "text": [
      "\u001b[32m[I 2021-06-18 18:22:23,540]\u001b[0m Trial 28 finished with value: 0.18490950315429353 and parameters: {'bagging_freq': 3, 'min_data_in_leaf': 100, 'max_depth': 11, 'learning_rate': 0.021660332808940804, 'num_leaves': 2, 'num_threads': 7, 'min_sum_hessian_in_leaf': 5}. Best is trial 6 with value: 0.12779814871174622.\u001b[0m\n"
     ]
    },
    {
     "name": "stdout",
     "output_type": "stream",
     "text": [
      "[LightGBM] [Warning] min_data_in_leaf is set=58, min_child_samples=20 will be ignored. Current value: min_data_in_leaf=58\n",
      "[LightGBM] [Warning] min_sum_hessian_in_leaf is set=7, min_child_weight=0.001 will be ignored. Current value: min_sum_hessian_in_leaf=7\n",
      "[LightGBM] [Warning] num_threads is set=8, n_jobs=-1 will be ignored. Current value: num_threads=8\n",
      "[LightGBM] [Warning] bagging_freq is set=10, subsample_freq=0 will be ignored. Current value: bagging_freq=10\n"
     ]
    },
    {
     "name": "stderr",
     "output_type": "stream",
     "text": [
      "\u001b[32m[I 2021-06-18 18:22:24,394]\u001b[0m Trial 29 finished with value: 0.12819215427665356 and parameters: {'bagging_freq': 10, 'min_data_in_leaf': 58, 'max_depth': 13, 'learning_rate': 0.04566966330489894, 'num_leaves': 65, 'num_threads': 8, 'min_sum_hessian_in_leaf': 7}. Best is trial 6 with value: 0.12779814871174622.\u001b[0m\n"
     ]
    },
    {
     "name": "stdout",
     "output_type": "stream",
     "text": [
      "[LightGBM] [Warning] min_data_in_leaf is set=80, min_child_samples=20 will be ignored. Current value: min_data_in_leaf=80\n",
      "[LightGBM] [Warning] min_sum_hessian_in_leaf is set=9, min_child_weight=0.001 will be ignored. Current value: min_sum_hessian_in_leaf=9\n",
      "[LightGBM] [Warning] num_threads is set=6, n_jobs=-1 will be ignored. Current value: num_threads=6\n",
      "[LightGBM] [Warning] bagging_freq is set=8, subsample_freq=0 will be ignored. Current value: bagging_freq=8\n"
     ]
    },
    {
     "name": "stderr",
     "output_type": "stream",
     "text": [
      "\u001b[32m[I 2021-06-18 18:22:25,071]\u001b[0m Trial 30 finished with value: 0.1290874533740861 and parameters: {'bagging_freq': 8, 'min_data_in_leaf': 80, 'max_depth': 9, 'learning_rate': 0.028814086364160958, 'num_leaves': 63, 'num_threads': 6, 'min_sum_hessian_in_leaf': 9}. Best is trial 6 with value: 0.12779814871174622.\u001b[0m\n"
     ]
    },
    {
     "name": "stdout",
     "output_type": "stream",
     "text": [
      "[LightGBM] [Warning] min_data_in_leaf is set=84, min_child_samples=20 will be ignored. Current value: min_data_in_leaf=84\n",
      "[LightGBM] [Warning] min_sum_hessian_in_leaf is set=8, min_child_weight=0.001 will be ignored. Current value: min_sum_hessian_in_leaf=8\n",
      "[LightGBM] [Warning] num_threads is set=9, n_jobs=-1 will be ignored. Current value: num_threads=9\n",
      "[LightGBM] [Warning] bagging_freq is set=1, subsample_freq=0 will be ignored. Current value: bagging_freq=1\n"
     ]
    },
    {
     "name": "stderr",
     "output_type": "stream",
     "text": [
      "\u001b[32m[I 2021-06-18 18:22:25,877]\u001b[0m Trial 31 finished with value: 0.12783215621940727 and parameters: {'bagging_freq': 1, 'min_data_in_leaf': 84, 'max_depth': 15, 'learning_rate': 0.09979639122764883, 'num_leaves': 70, 'num_threads': 9, 'min_sum_hessian_in_leaf': 8}. Best is trial 6 with value: 0.12779814871174622.\u001b[0m\n"
     ]
    },
    {
     "name": "stdout",
     "output_type": "stream",
     "text": [
      "[LightGBM] [Warning] min_data_in_leaf is set=72, min_child_samples=20 will be ignored. Current value: min_data_in_leaf=72\n",
      "[LightGBM] [Warning] min_sum_hessian_in_leaf is set=8, min_child_weight=0.001 will be ignored. Current value: min_sum_hessian_in_leaf=8\n",
      "[LightGBM] [Warning] num_threads is set=9, n_jobs=-1 will be ignored. Current value: num_threads=9\n",
      "[LightGBM] [Warning] bagging_freq is set=2, subsample_freq=0 will be ignored. Current value: bagging_freq=2\n"
     ]
    },
    {
     "name": "stderr",
     "output_type": "stream",
     "text": [
      "\u001b[32m[I 2021-06-18 18:22:26,683]\u001b[0m Trial 32 finished with value: 0.12783074875241934 and parameters: {'bagging_freq': 2, 'min_data_in_leaf': 72, 'max_depth': 12, 'learning_rate': 0.0993852186006416, 'num_leaves': 70, 'num_threads': 9, 'min_sum_hessian_in_leaf': 8}. Best is trial 6 with value: 0.12779814871174622.\u001b[0m\n"
     ]
    },
    {
     "name": "stdout",
     "output_type": "stream",
     "text": [
      "[LightGBM] [Warning] min_data_in_leaf is set=72, min_child_samples=20 will be ignored. Current value: min_data_in_leaf=72\n",
      "[LightGBM] [Warning] min_sum_hessian_in_leaf is set=6, min_child_weight=0.001 will be ignored. Current value: min_sum_hessian_in_leaf=6\n",
      "[LightGBM] [Warning] num_threads is set=7, n_jobs=-1 will be ignored. Current value: num_threads=7\n",
      "[LightGBM] [Warning] bagging_freq is set=2, subsample_freq=0 will be ignored. Current value: bagging_freq=2\n"
     ]
    },
    {
     "name": "stderr",
     "output_type": "stream",
     "text": [
      "\u001b[32m[I 2021-06-18 18:22:27,524]\u001b[0m Trial 33 finished with value: 0.1278748196999054 and parameters: {'bagging_freq': 2, 'min_data_in_leaf': 72, 'max_depth': 12, 'learning_rate': 0.0758054235541891, 'num_leaves': 62, 'num_threads': 7, 'min_sum_hessian_in_leaf': 6}. Best is trial 6 with value: 0.12779814871174622.\u001b[0m\n"
     ]
    },
    {
     "name": "stdout",
     "output_type": "stream",
     "text": [
      "[LightGBM] [Warning] min_data_in_leaf is set=54, min_child_samples=20 will be ignored. Current value: min_data_in_leaf=54\n",
      "[LightGBM] [Warning] min_sum_hessian_in_leaf is set=5, min_child_weight=0.001 will be ignored. Current value: min_sum_hessian_in_leaf=5\n",
      "[LightGBM] [Warning] num_threads is set=8, n_jobs=-1 will be ignored. Current value: num_threads=8\n",
      "[LightGBM] [Warning] bagging_freq is set=3, subsample_freq=0 will be ignored. Current value: bagging_freq=3\n"
     ]
    },
    {
     "name": "stderr",
     "output_type": "stream",
     "text": [
      "\u001b[32m[I 2021-06-18 18:22:28,380]\u001b[0m Trial 34 finished with value: 0.12793202217427213 and parameters: {'bagging_freq': 3, 'min_data_in_leaf': 54, 'max_depth': 12, 'learning_rate': 0.06532074655447384, 'num_leaves': 70, 'num_threads': 8, 'min_sum_hessian_in_leaf': 5}. Best is trial 6 with value: 0.12779814871174622.\u001b[0m\n"
     ]
    },
    {
     "name": "stdout",
     "output_type": "stream",
     "text": [
      "[LightGBM] [Warning] min_data_in_leaf is set=63, min_child_samples=20 will be ignored. Current value: min_data_in_leaf=63\n",
      "[LightGBM] [Warning] min_sum_hessian_in_leaf is set=7, min_child_weight=0.001 will be ignored. Current value: min_sum_hessian_in_leaf=7\n",
      "[LightGBM] [Warning] num_threads is set=9, n_jobs=-1 will be ignored. Current value: num_threads=9\n",
      "[LightGBM] [Warning] bagging_freq is set=4, subsample_freq=0 will be ignored. Current value: bagging_freq=4\n"
     ]
    },
    {
     "name": "stderr",
     "output_type": "stream",
     "text": [
      "\u001b[32m[I 2021-06-18 18:22:29,182]\u001b[0m Trial 35 finished with value: 0.1281100628700993 and parameters: {'bagging_freq': 4, 'min_data_in_leaf': 63, 'max_depth': 14, 'learning_rate': 0.05157990127032065, 'num_leaves': 47, 'num_threads': 9, 'min_sum_hessian_in_leaf': 7}. Best is trial 6 with value: 0.12779814871174622.\u001b[0m\n"
     ]
    },
    {
     "name": "stdout",
     "output_type": "stream",
     "text": [
      "[LightGBM] [Warning] min_data_in_leaf is set=94, min_child_samples=20 will be ignored. Current value: min_data_in_leaf=94\n",
      "[LightGBM] [Warning] min_sum_hessian_in_leaf is set=8, min_child_weight=0.001 will be ignored. Current value: min_sum_hessian_in_leaf=8\n",
      "[LightGBM] [Warning] num_threads is set=6, n_jobs=-1 will be ignored. Current value: num_threads=6\n",
      "[LightGBM] [Warning] bagging_freq is set=5, subsample_freq=0 will be ignored. Current value: bagging_freq=5\n"
     ]
    },
    {
     "name": "stderr",
     "output_type": "stream",
     "text": [
      "\u001b[32m[I 2021-06-18 18:22:29,925]\u001b[0m Trial 36 finished with value: 0.12776754889473627 and parameters: {'bagging_freq': 5, 'min_data_in_leaf': 94, 'max_depth': 11, 'learning_rate': 0.09839661106334678, 'num_leaves': 65, 'num_threads': 6, 'min_sum_hessian_in_leaf': 8}. Best is trial 36 with value: 0.12776754889473627.\u001b[0m\n"
     ]
    },
    {
     "name": "stdout",
     "output_type": "stream",
     "text": [
      "[LightGBM] [Warning] min_data_in_leaf is set=95, min_child_samples=20 will be ignored. Current value: min_data_in_leaf=95\n",
      "[LightGBM] [Warning] min_sum_hessian_in_leaf is set=9, min_child_weight=0.001 will be ignored. Current value: min_sum_hessian_in_leaf=9\n",
      "[LightGBM] [Warning] num_threads is set=5, n_jobs=-1 will be ignored. Current value: num_threads=5\n",
      "[LightGBM] [Warning] bagging_freq is set=5, subsample_freq=0 will be ignored. Current value: bagging_freq=5\n"
     ]
    },
    {
     "name": "stderr",
     "output_type": "stream",
     "text": [
      "\u001b[32m[I 2021-06-18 18:22:30,631]\u001b[0m Trial 37 finished with value: 0.12845736689284648 and parameters: {'bagging_freq': 5, 'min_data_in_leaf': 95, 'max_depth': 11, 'learning_rate': 0.03739466079318396, 'num_leaves': 65, 'num_threads': 5, 'min_sum_hessian_in_leaf': 9}. Best is trial 36 with value: 0.12776754889473627.\u001b[0m\n"
     ]
    },
    {
     "name": "stdout",
     "output_type": "stream",
     "text": [
      "[LightGBM] [Warning] min_data_in_leaf is set=91, min_child_samples=20 will be ignored. Current value: min_data_in_leaf=91\n",
      "[LightGBM] [Warning] min_sum_hessian_in_leaf is set=6, min_child_weight=0.001 will be ignored. Current value: min_sum_hessian_in_leaf=6\n",
      "[LightGBM] [Warning] num_threads is set=6, n_jobs=-1 will be ignored. Current value: num_threads=6\n",
      "[LightGBM] [Warning] bagging_freq is set=6, subsample_freq=0 will be ignored. Current value: bagging_freq=6\n"
     ]
    },
    {
     "name": "stderr",
     "output_type": "stream",
     "text": [
      "\u001b[32m[I 2021-06-18 18:22:31,249]\u001b[0m Trial 38 finished with value: 0.1281373157133337 and parameters: {'bagging_freq': 6, 'min_data_in_leaf': 91, 'max_depth': 6, 'learning_rate': 0.07262393996859424, 'num_leaves': 56, 'num_threads': 6, 'min_sum_hessian_in_leaf': 6}. Best is trial 36 with value: 0.12776754889473627.\u001b[0m\n"
     ]
    },
    {
     "name": "stdout",
     "output_type": "stream",
     "text": [
      "[LightGBM] [Warning] min_data_in_leaf is set=2, min_child_samples=20 will be ignored. Current value: min_data_in_leaf=2\n",
      "[LightGBM] [Warning] min_sum_hessian_in_leaf is set=8, min_child_weight=0.001 will be ignored. Current value: min_sum_hessian_in_leaf=8\n",
      "[LightGBM] [Warning] num_threads is set=4, n_jobs=-1 will be ignored. Current value: num_threads=4\n",
      "[LightGBM] [Warning] bagging_freq is set=6, subsample_freq=0 will be ignored. Current value: bagging_freq=6\n"
     ]
    },
    {
     "name": "stderr",
     "output_type": "stream",
     "text": [
      "\u001b[32m[I 2021-06-18 18:22:31,987]\u001b[0m Trial 39 finished with value: 0.1560471896273935 and parameters: {'bagging_freq': 6, 'min_data_in_leaf': 2, 'max_depth': 9, 'learning_rate': 0.007842317723454449, 'num_leaves': 50, 'num_threads': 4, 'min_sum_hessian_in_leaf': 8}. Best is trial 36 with value: 0.12776754889473627.\u001b[0m\n"
     ]
    },
    {
     "name": "stdout",
     "output_type": "stream",
     "text": [
      "[LightGBM] [Warning] min_data_in_leaf is set=100, min_child_samples=20 will be ignored. Current value: min_data_in_leaf=100\n",
      "[LightGBM] [Warning] min_sum_hessian_in_leaf is set=9, min_child_weight=0.001 will be ignored. Current value: min_sum_hessian_in_leaf=9\n",
      "[LightGBM] [Warning] num_threads is set=6, n_jobs=-1 will be ignored. Current value: num_threads=6\n",
      "[LightGBM] [Warning] bagging_freq is set=5, subsample_freq=0 will be ignored. Current value: bagging_freq=5\n"
     ]
    },
    {
     "name": "stderr",
     "output_type": "stream",
     "text": [
      "\u001b[32m[I 2021-06-18 18:22:32,645]\u001b[0m Trial 40 finished with value: 0.17208138741173157 and parameters: {'bagging_freq': 5, 'min_data_in_leaf': 100, 'max_depth': 14, 'learning_rate': 0.005308421606996377, 'num_leaves': 67, 'num_threads': 6, 'min_sum_hessian_in_leaf': 9}. Best is trial 36 with value: 0.12776754889473627.\u001b[0m\n"
     ]
    },
    {
     "name": "stdout",
     "output_type": "stream",
     "text": [
      "[LightGBM] [Warning] min_data_in_leaf is set=79, min_child_samples=20 will be ignored. Current value: min_data_in_leaf=79\n",
      "[LightGBM] [Warning] min_sum_hessian_in_leaf is set=8, min_child_weight=0.001 will be ignored. Current value: min_sum_hessian_in_leaf=8\n",
      "[LightGBM] [Warning] num_threads is set=7, n_jobs=-1 will be ignored. Current value: num_threads=7\n",
      "[LightGBM] [Warning] bagging_freq is set=4, subsample_freq=0 will be ignored. Current value: bagging_freq=4\n"
     ]
    },
    {
     "name": "stderr",
     "output_type": "stream",
     "text": [
      "\u001b[32m[I 2021-06-18 18:22:33,488]\u001b[0m Trial 41 finished with value: 0.1277501881352337 and parameters: {'bagging_freq': 4, 'min_data_in_leaf': 79, 'max_depth': 12, 'learning_rate': 0.0973296606794155, 'num_leaves': 66, 'num_threads': 7, 'min_sum_hessian_in_leaf': 8}. Best is trial 41 with value: 0.1277501881352337.\u001b[0m\n"
     ]
    },
    {
     "name": "stdout",
     "output_type": "stream",
     "text": [
      "[LightGBM] [Warning] min_data_in_leaf is set=82, min_child_samples=20 will be ignored. Current value: min_data_in_leaf=82\n",
      "[LightGBM] [Warning] min_sum_hessian_in_leaf is set=7, min_child_weight=0.001 will be ignored. Current value: min_sum_hessian_in_leaf=7\n",
      "[LightGBM] [Warning] num_threads is set=5, n_jobs=-1 will be ignored. Current value: num_threads=5\n",
      "[LightGBM] [Warning] bagging_freq is set=4, subsample_freq=0 will be ignored. Current value: bagging_freq=4\n"
     ]
    },
    {
     "name": "stderr",
     "output_type": "stream",
     "text": [
      "\u001b[32m[I 2021-06-18 18:22:34,175]\u001b[0m Trial 42 finished with value: 0.1279172947952802 and parameters: {'bagging_freq': 4, 'min_data_in_leaf': 82, 'max_depth': 11, 'learning_rate': 0.07483065083529022, 'num_leaves': 62, 'num_threads': 5, 'min_sum_hessian_in_leaf': 7}. Best is trial 41 with value: 0.1277501881352337.\u001b[0m\n"
     ]
    },
    {
     "name": "stdout",
     "output_type": "stream",
     "text": [
      "[LightGBM] [Warning] min_data_in_leaf is set=77, min_child_samples=20 will be ignored. Current value: min_data_in_leaf=77\n",
      "[LightGBM] [Warning] min_sum_hessian_in_leaf is set=8, min_child_weight=0.001 will be ignored. Current value: min_sum_hessian_in_leaf=8\n",
      "[LightGBM] [Warning] num_threads is set=7, n_jobs=-1 will be ignored. Current value: num_threads=7\n",
      "[LightGBM] [Warning] bagging_freq is set=5, subsample_freq=0 will be ignored. Current value: bagging_freq=5\n"
     ]
    },
    {
     "name": "stderr",
     "output_type": "stream",
     "text": [
      "\u001b[32m[I 2021-06-18 18:22:35,128]\u001b[0m Trial 43 finished with value: 0.12805248617229106 and parameters: {'bagging_freq': 5, 'min_data_in_leaf': 77, 'max_depth': 13, 'learning_rate': 0.05513232371605456, 'num_leaves': 66, 'num_threads': 7, 'min_sum_hessian_in_leaf': 8}. Best is trial 41 with value: 0.1277501881352337.\u001b[0m\n"
     ]
    },
    {
     "name": "stdout",
     "output_type": "stream",
     "text": [
      "[LightGBM] [Warning] min_data_in_leaf is set=92, min_child_samples=20 will be ignored. Current value: min_data_in_leaf=92\n",
      "[LightGBM] [Warning] min_sum_hessian_in_leaf is set=3, min_child_weight=0.001 will be ignored. Current value: min_sum_hessian_in_leaf=3\n",
      "[LightGBM] [Warning] num_threads is set=6, n_jobs=-1 will be ignored. Current value: num_threads=6\n",
      "[LightGBM] [Warning] bagging_freq is set=7, subsample_freq=0 will be ignored. Current value: bagging_freq=7\n"
     ]
    },
    {
     "name": "stderr",
     "output_type": "stream",
     "text": [
      "\u001b[32m[I 2021-06-18 18:22:35,661]\u001b[0m Trial 44 finished with value: 0.12800696758896868 and parameters: {'bagging_freq': 7, 'min_data_in_leaf': 92, 'max_depth': 9, 'learning_rate': 0.09589408790837856, 'num_leaves': 35, 'num_threads': 6, 'min_sum_hessian_in_leaf': 3}. Best is trial 41 with value: 0.1277501881352337.\u001b[0m\n"
     ]
    },
    {
     "name": "stdout",
     "output_type": "stream",
     "text": [
      "[LightGBM] [Warning] min_data_in_leaf is set=87, min_child_samples=20 will be ignored. Current value: min_data_in_leaf=87\n",
      "[LightGBM] [Warning] min_sum_hessian_in_leaf is set=7, min_child_weight=0.001 will be ignored. Current value: min_sum_hessian_in_leaf=7\n",
      "[LightGBM] [Warning] num_threads is set=5, n_jobs=-1 will be ignored. Current value: num_threads=5\n",
      "[LightGBM] [Warning] bagging_freq is set=6, subsample_freq=0 will be ignored. Current value: bagging_freq=6\n"
     ]
    },
    {
     "name": "stderr",
     "output_type": "stream",
     "text": [
      "\u001b[32m[I 2021-06-18 18:22:36,342]\u001b[0m Trial 45 finished with value: 0.12785263286880974 and parameters: {'bagging_freq': 6, 'min_data_in_leaf': 87, 'max_depth': 10, 'learning_rate': 0.09959216761734889, 'num_leaves': 67, 'num_threads': 5, 'min_sum_hessian_in_leaf': 7}. Best is trial 41 with value: 0.1277501881352337.\u001b[0m\n"
     ]
    },
    {
     "name": "stdout",
     "output_type": "stream",
     "text": [
      "[LightGBM] [Warning] min_data_in_leaf is set=67, min_child_samples=20 will be ignored. Current value: min_data_in_leaf=67\n",
      "[LightGBM] [Warning] min_sum_hessian_in_leaf is set=8, min_child_weight=0.001 will be ignored. Current value: min_sum_hessian_in_leaf=8\n",
      "[LightGBM] [Warning] num_threads is set=8, n_jobs=-1 will be ignored. Current value: num_threads=8\n",
      "[LightGBM] [Warning] bagging_freq is set=4, subsample_freq=0 will be ignored. Current value: bagging_freq=4\n"
     ]
    },
    {
     "name": "stderr",
     "output_type": "stream",
     "text": [
      "\u001b[32m[I 2021-06-18 18:22:37,151]\u001b[0m Trial 46 finished with value: 0.12791161913113175 and parameters: {'bagging_freq': 4, 'min_data_in_leaf': 67, 'max_depth': 16, 'learning_rate': 0.07836071437694522, 'num_leaves': 60, 'num_threads': 8, 'min_sum_hessian_in_leaf': 8}. Best is trial 41 with value: 0.1277501881352337.\u001b[0m\n"
     ]
    },
    {
     "name": "stdout",
     "output_type": "stream",
     "text": [
      "[LightGBM] [Warning] min_data_in_leaf is set=19, min_child_samples=20 will be ignored. Current value: min_data_in_leaf=19\n",
      "[LightGBM] [Warning] min_sum_hessian_in_leaf is set=9, min_child_weight=0.001 will be ignored. Current value: min_sum_hessian_in_leaf=9\n",
      "[LightGBM] [Warning] num_threads is set=7, n_jobs=-1 will be ignored. Current value: num_threads=7\n",
      "[LightGBM] [Warning] bagging_freq is set=3, subsample_freq=0 will be ignored. Current value: bagging_freq=3\n"
     ]
    },
    {
     "name": "stderr",
     "output_type": "stream",
     "text": [
      "\u001b[32m[I 2021-06-18 18:22:37,999]\u001b[0m Trial 47 finished with value: 0.12821297379478092 and parameters: {'bagging_freq': 3, 'min_data_in_leaf': 19, 'max_depth': 12, 'learning_rate': 0.04671111172713249, 'num_leaves': 51, 'num_threads': 7, 'min_sum_hessian_in_leaf': 9}. Best is trial 41 with value: 0.1277501881352337.\u001b[0m\n"
     ]
    },
    {
     "name": "stdout",
     "output_type": "stream",
     "text": [
      "[LightGBM] [Warning] min_data_in_leaf is set=80, min_child_samples=20 will be ignored. Current value: min_data_in_leaf=80\n",
      "[LightGBM] [Warning] min_sum_hessian_in_leaf is set=5, min_child_weight=0.001 will be ignored. Current value: min_sum_hessian_in_leaf=5\n",
      "[LightGBM] [Warning] num_threads is set=4, n_jobs=-1 will be ignored. Current value: num_threads=4\n",
      "[LightGBM] [Warning] bagging_freq is set=5, subsample_freq=0 will be ignored. Current value: bagging_freq=5\n"
     ]
    },
    {
     "name": "stderr",
     "output_type": "stream",
     "text": [
      "\u001b[32m[I 2021-06-18 18:22:38,814]\u001b[0m Trial 48 finished with value: 0.12987653776694316 and parameters: {'bagging_freq': 5, 'min_data_in_leaf': 80, 'max_depth': 13, 'learning_rate': 0.024046471510236082, 'num_leaves': 70, 'num_threads': 4, 'min_sum_hessian_in_leaf': 5}. Best is trial 41 with value: 0.1277501881352337.\u001b[0m\n"
     ]
    },
    {
     "name": "stdout",
     "output_type": "stream",
     "text": [
      "[LightGBM] [Warning] min_data_in_leaf is set=100, min_child_samples=20 will be ignored. Current value: min_data_in_leaf=100\n",
      "[LightGBM] [Warning] min_sum_hessian_in_leaf is set=6, min_child_weight=0.001 will be ignored. Current value: min_sum_hessian_in_leaf=6\n",
      "[LightGBM] [Warning] num_threads is set=8, n_jobs=-1 will be ignored. Current value: num_threads=8\n",
      "[LightGBM] [Warning] bagging_freq is set=7, subsample_freq=0 will be ignored. Current value: bagging_freq=7\n"
     ]
    },
    {
     "name": "stderr",
     "output_type": "stream",
     "text": [
      "\u001b[32m[I 2021-06-18 18:22:39,615]\u001b[0m Trial 49 finished with value: 0.12784211457070221 and parameters: {'bagging_freq': 7, 'min_data_in_leaf': 100, 'max_depth': 16, 'learning_rate': 0.08312606849543004, 'num_leaves': 57, 'num_threads': 8, 'min_sum_hessian_in_leaf': 6}. Best is trial 41 with value: 0.1277501881352337.\u001b[0m\n"
     ]
    },
    {
     "name": "stdout",
     "output_type": "stream",
     "text": [
      "Wall time: 40.1 s\n"
     ]
    }
   ],
   "source": [
    "%%time\n",
    "study = optuna.create_study()\n",
    "study.optimize(objective, n_trials=50)"
   ]
  },
  {
   "cell_type": "code",
   "execution_count": 13,
   "id": "64d0f7e1-991a-45b5-9759-6c139a4a967b",
   "metadata": {},
   "outputs": [
    {
     "name": "stdout",
     "output_type": "stream",
     "text": [
      "accuracy: 0.1277501881352337\n",
      "best hyperparameters: {'bagging_freq': 4, 'min_data_in_leaf': 79, 'max_depth': 12, 'learning_rate': 0.0973296606794155, 'num_leaves': 66, 'num_threads': 7, 'min_sum_hessian_in_leaf': 8}\n"
     ]
    }
   ],
   "source": [
    "trial = study.best_trial\n",
    "print('accuracy: {}'.format(trial.value))\n",
    "print('best hyperparameters: {}'.format(trial.params))"
   ]
  },
  {
   "cell_type": "code",
   "execution_count": 14,
   "id": "6fb097ca-ea21-4111-9457-314a4ed8fb53",
   "metadata": {},
   "outputs": [],
   "source": [
    "pd_param = pd.DataFrame([trial.params])\n",
    "pd_param.to_csv('model_params.csv', index=False)"
   ]
  },
  {
   "cell_type": "markdown",
   "id": "64b6790a-241a-48f5-9458-5b7da6ebfc77",
   "metadata": {},
   "source": [
    "# <font color='blue'>Model </font>"
   ]
  },
  {
   "cell_type": "code",
   "execution_count": 15,
   "id": "7c196ad2-56cb-4fab-b81a-8f5f17f37e84",
   "metadata": {},
   "outputs": [
    {
     "name": "stdout",
     "output_type": "stream",
     "text": [
      "[LightGBM] [Warning] min_data_in_leaf is set=79, min_child_samples=20 will be ignored. Current value: min_data_in_leaf=79\n",
      "[LightGBM] [Warning] min_sum_hessian_in_leaf is set=8, min_child_weight=0.001 will be ignored. Current value: min_sum_hessian_in_leaf=8\n",
      "[LightGBM] [Warning] num_threads is set=7, n_jobs=-1 will be ignored. Current value: num_threads=7\n",
      "[LightGBM] [Warning] bagging_freq is set=4, subsample_freq=0 will be ignored. Current value: bagging_freq=4\n",
      "Wall time: 725 ms\n"
     ]
    },
    {
     "data": {
      "text/plain": [
       "LGBMClassifier(bagging_freq=4, learning_rate=0.0973296606794155, max_depth=12,\n",
       "               min_data_in_leaf=79, min_sum_hessian_in_leaf=8, num_leaves=66,\n",
       "               num_threads=7)"
      ]
     },
     "execution_count": 15,
     "metadata": {},
     "output_type": "execute_result"
    }
   ],
   "source": [
    "%%time\n",
    "model = lightgbm.LGBMClassifier(bagging_freq=trial.params[\"bagging_freq\"], min_data_in_leaf=trial.params[\"min_data_in_leaf\"],\n",
    "                                max_depth=trial.params[\"max_depth\"],\n",
    "                                learning_rate=trial.params[\"learning_rate\"], num_leaves=trial.params[\"num_leaves\"],\n",
    "                                num_threads=trial.params[\"num_threads\"], min_sum_hessian_in_leaf=trial.params[\"min_sum_hessian_in_leaf\"])\n",
    "model.fit(X_train, Y_train)"
   ]
  },
  {
   "cell_type": "markdown",
   "id": "e6e327ff-4973-4f34-bfec-63477e157dc0",
   "metadata": {},
   "source": [
    "# <font color='blue'>Feature importance </font>"
   ]
  },
  {
   "cell_type": "code",
   "execution_count": 16,
   "id": "6a55adab-5c21-4f0c-9a73-72be5a7bb5e6",
   "metadata": {},
   "outputs": [
    {
     "data": {
      "image/png": "[encoded data removed]",
      "text/plain": [
       "<Figure size 1440x720 with 1 Axes>"
      ]
     },
     "metadata": {
      "needs_background": "light"
     },
     "output_type": "display_data"
    }
   ],
   "source": [
    "feature_imp = pd.DataFrame(sorted(zip(model.feature_importances_,X.columns)), columns=['Value','Feature'])\n",
    "\n",
    "plt.figure(figsize=(20, 10))\n",
    "sns.barplot(x=\"Value\", y=\"Feature\", data=feature_imp.sort_values(by=\"Value\", ascending=False))\n",
    "plt.title('Features')\n",
    "plt.tight_layout()\n",
    "plt.show()"
   ]
  },
  {
   "cell_type": "markdown",
   "id": "12583ac3-5dbf-4ddc-9639-32518330f4a6",
   "metadata": {},
   "source": [
    "# <font color='blue'>MODEL PRECISION </font>"
   ]
  },
  {
   "cell_type": "code",
   "execution_count": 17,
   "id": "06070666-6d74-430c-88d9-fb167fdbe223",
   "metadata": {},
   "outputs": [
    {
     "data": {
      "image/png": "[encoded data removed]",
      "text/plain": [
       "<Figure size 720x360 with 1 Axes>"
      ]
     },
     "metadata": {
      "needs_background": "light"
     },
     "output_type": "display_data"
    },
    {
     "name": "stdout",
     "output_type": "stream",
     "text": [
      "Wall time: 1.13 s\n"
     ]
    }
   ],
   "source": [
    "%%time\n",
    "plt.figure(figsize = (10,5))\n",
    "\n",
    "pred_proba = model.predict_proba(X_train)\n",
    "pred_proba_test = model.predict_proba(X_test)\n",
    "\n",
    "gmt = [\"accuracy train\", \"accuracy test\", \"log loss train\", \"log loss test\", \"brier score train\", \"brier score test\"]\n",
    "metrics = {'Labels': gmt,\n",
    "           'Value': [model.score(X_train, Y_train), model.score(X_test, Y_test),\n",
    "                     log_loss(Y_train, pred_proba),log_loss(Y_test, pred_proba_test),\n",
    "                     brier_score_loss(Y_train, pd.DataFrame(pred_proba)[1]),brier_score_loss(Y_test, pd.DataFrame(pred_proba_test)[1])]\n",
    "           }\n",
    "\n",
    "sns.set_context(rc = {'patch.linewidth': 2.0})\n",
    "sns.set(font_scale=1.3)\n",
    "ax = sns.barplot(x='Labels', y='Value', data=metrics, linewidth=2.0, edgecolor=\".2\", zorder=3, palette=sns.color_palette(\"deep\"))\n",
    "\n",
    "plt.ylabel('%')\n",
    "#plt.gca().yaxis.set_major_locator(ticker.MultipleLocator(.1))\n",
    "ax.grid(linewidth=1, color='white', zorder=0)\n",
    "ax.set_facecolor(\"#d7d7e0\")\n",
    "plt.title(\"Test metrics\")\n",
    "plt.show()"
   ]
  },
  {
   "cell_type": "markdown",
   "id": "36809529-50ac-4ef1-afde-f6216c8e1bae",
   "metadata": {},
   "source": [
    "# <font color='blue'>REALIBITY CURVE </font>"
   ]
  },
  {
   "cell_type": "code",
   "execution_count": 19,
   "id": "0dc5cc59-ca86-46eb-8ec1-19aaeb561605",
   "metadata": {},
   "outputs": [
    {
     "data": {
      "image/png": "[encoded data removed]",
      "text/plain": [
       "<Figure size 1152x432 with 1 Axes>"
      ]
     },
     "metadata": {},
     "output_type": "display_data"
    },
    {
     "name": "stdout",
     "output_type": "stream",
     "text": [
      "Wall time: 171 ms\n"
     ]
    },
    {
     "data": {
      "text/plain": [
       "Text(0.5, 0, 'mean predicted value')"
      ]
     },
     "execution_count": 19,
     "metadata": {},
     "output_type": "execute_result"
    },
    {
     "data": {
      "image/png": "[encoded data removed]",
      "text/plain": [
       "<Figure size 1152x432 with 1 Axes>"
      ]
     },
     "metadata": {},
     "output_type": "display_data"
    }
   ],
   "source": [
    "%%time\n",
    "plt.figure(figsize=(16,6))\n",
    "plt.plot([0,1], [0,1], 'k:', label='flawless curve')\n",
    "x, y = calibration_curve(Y_test, pd.DataFrame(pred_proba_test)[1], n_bins=25)\n",
    "plt.plot(x, y, 's-', label='LGBM')\n",
    "plt.legend(loc='lower right')\n",
    "plt.title('Probability Calibration Curve')\n",
    "plt.ylabel('amount of positives')\n",
    "plt.xlabel('mean predicted value')\n",
    "plt.gca().xaxis.set_major_locator(ticker.MultipleLocator(0.1))\n",
    "plt.show()\n",
    "\n",
    "plt.figure(figsize=(16,6))\n",
    "plt.hist(pd.DataFrame(pred_proba_test)[1], range=(0,1), bins=25, histtype=\"step\", lw=2, fill=True, color='tab:green',\n",
    "        edgecolor='black', linewidth=1.5)\n",
    "plt.title('Predicted Value Distribution for LGBM')\n",
    "plt.ylabel('count')\n",
    "plt.xlabel('mean predicted value')"
   ]
  },
  {
   "cell_type": "markdown",
   "id": "c8d4e344-4c7c-4723-b7ca-e7f9575fa5f5",
   "metadata": {},
   "source": [
    "# <font color='blue'>CONFUSION MATRIX </font>"
   ]
  },
  {
   "cell_type": "code",
   "execution_count": 20,
   "id": "fdf833d6-f94d-4144-8104-19f92e41a9c4",
   "metadata": {},
   "outputs": [
    {
     "data": {
      "image/png": "[encoded data removed]",
      "text/plain": [
       "<Figure size 576x432 with 2 Axes>"
      ]
     },
     "metadata": {},
     "output_type": "display_data"
    }
   ],
   "source": [
    "plt.figure(figsize = (8,6))\n",
    "cm = confusion_matrix(Y_test, model.predict(X_test, num_iteration=50))\n",
    "cm = (cm/cm.sum(axis=1).reshape(-1,1))\n",
    "\n",
    "sns.heatmap(cm, cmap=\"YlGnBu\", vmin=0., vmax=1., annot=True, annot_kws={'size':45})\n",
    "plt.title(\"wa\", fontsize = 5)\n",
    "plt.ylabel('Predicted label')\n",
    "plt.xlabel('True label')\n",
    "plt.show()"
   ]
  },
  {
   "cell_type": "code",
   "execution_count": 21,
   "id": "0b9e7fb1-d11b-4f2a-9430-d0ce97655152",
   "metadata": {},
   "outputs": [
    {
     "data": {
      "text/plain": [
       "0.8072180956749032"
      ]
     },
     "execution_count": 21,
     "metadata": {},
     "output_type": "execute_result"
    }
   ],
   "source": [
    "Y_pred = model.predict(X_test)\n",
    "classification_report(Y_test, Y_pred, output_dict=True)[\"weighted avg\"][\"f1-score\"]"
   ]
  }
 ],
 "metadata": {
  "kernelspec": {
   "display_name": "Python 3",
   "language": "python",
   "name": "python3"
  },
  "language_info": {
   "codemirror_mode": {
    "name": "ipython",
    "version": 3
   },
   "file_extension": ".py",
   "mimetype": "text/x-python",
   "name": "python",
   "nbconvert_exporter": "python",
   "pygments_lexer": "ipython3",
   "version": "3.8.8"
  }
 },
 "nbformat": 4,
 "nbformat_minor": 5
}
