{
 "cells": [
  {
   "cell_type": "markdown",
   "id": "63980c60-20f6-4bbb-9db1-1c204f838633",
   "metadata": {},
   "source": [
    "# <font color='blue'>Imports </font>"
   ]
  },
  {
   "cell_type": "code",
   "execution_count": 1,
   "id": "ebaca379-3d02-4ed2-9280-44fc8cd0b0b6",
   "metadata": {},
   "outputs": [
    {
     "name": "stdout",
     "output_type": "stream",
     "text": [
      "Wall time: 1.64 s\n"
     ]
    }
   ],
   "source": [
    "%%time\n",
    "import pandas as pd\n",
    "import numpy as np\n",
    "import seaborn as sns\n",
    "import lightgbm\n",
    "import optuna\n",
    "import optuna.integration.lightgbm as lgb\n",
    "import matplotlib.lines as line\n",
    "import matplotlib.ticker as ticker\n",
    "from matplotlib import pyplot as plt\n",
    "from matplotlib.pyplot import figure\n",
    "from matplotlib import rc\n",
    "import sklearn.datasets as skd\n",
    "from sklearn.model_selection import KFold\n",
    "from sklearn.ensemble import RandomForestClassifier\n",
    "from sklearn.calibration import calibration_curve\n",
    "from sklearn.model_selection import train_test_split, cross_val_score\n",
    "from sklearn.tree import DecisionTreeClassifier\n",
    "from sklearn.linear_model import LogisticRegression\n",
    "from sklearn.neighbors import KNeighborsClassifier\n",
    "from sklearn.metrics import r2_score, explained_variance_score, confusion_matrix, accuracy_score, classification_report, log_loss, brier_score_loss"
   ]
  },
  {
   "cell_type": "code",
   "execution_count": 2,
   "id": "4954ed36-a5e7-4b6a-9cbc-6009bcd22b4e",
   "metadata": {},
   "outputs": [
    {
     "name": "stdout",
     "output_type": "stream",
     "text": [
      "Wall time: 422 ms\n"
     ]
    }
   ],
   "source": [
    "%%time\n",
    "path = 'D:\\\\Documents\\\\GitHub\\\\Classification_datascience\\\\webscrapping\\\\matches\\\\rounds\\\\'\n",
    "dataset = pd.read_csv('{}combined_csv.csv'.format(path))"
   ]
  },
  {
   "cell_type": "code",
   "execution_count": 3,
   "id": "ec46ee7f-ef6d-42db-b030-63178b0818b7",
   "metadata": {},
   "outputs": [
    {
     "data": {
      "text/plain": [
       "Index(['RoundID', 'RoundNumber', 'RoundTime', 'ATK_wealth', 'DEF_wealth',\n",
       "       'ATK_alive', 'DEF_alive', 'DEF_has_OP', 'Def_has_Odin', 'RegularTime',\n",
       "       'SpikeTime', 'ATK_bank', 'DEF_bank', 'ATK_initiators', 'ATK_duelists',\n",
       "       'ATK_sentinels', 'ATK_controllers', 'DEF_initiators', 'DEF_duelists',\n",
       "       'DEF_sentinels', 'DEF_controllers', 'MapName', 'MatchID', 'SeriesID',\n",
       "       'bestOF', 'FinalWinner'],\n",
       "      dtype='object')"
      ]
     },
     "execution_count": 3,
     "metadata": {},
     "output_type": "execute_result"
    }
   ],
   "source": [
    "dataset.columns"
   ]
  },
  {
   "cell_type": "markdown",
   "id": "435b208e-bfd1-49be-8781-6ba74da9123f",
   "metadata": {},
   "source": [
    "# <font color='blue'> Predict variable </font>"
   ]
  },
  {
   "cell_type": "code",
   "execution_count": 4,
   "id": "d7819c07-0d8d-45da-b2e7-21e1fbdf1366",
   "metadata": {},
   "outputs": [],
   "source": [
    "selected_features = ['ATK_wealth', 'DEF_wealth',\n",
    "                   'ATK_initiators', 'ATK_duelists', 'ATK_sentinels', 'ATK_controllers',\n",
    "                   'DEF_initiators', 'DEF_duelists', 'DEF_sentinels', 'DEF_controllers',\n",
    "                   'DEF_has_OP', 'Def_has_Odin',\n",
    "                    'RegularTime', 'SpikeTime',\n",
    "                   'MapName',\n",
    "                   'FinalWinner']\n",
    "\n",
    "predict_variable = 'FinalWinner'"
   ]
  },
  {
   "cell_type": "markdown",
   "id": "cfba0313-f37e-45ad-abaf-e6d16ee4ad47",
   "metadata": {},
   "source": [
    "### <font color='black'> Trimming dataframe </font>"
   ]
  },
  {
   "cell_type": "code",
   "execution_count": 5,
   "id": "fb58b9b9-7ca6-4f09-a94f-6fd4964b7894",
   "metadata": {},
   "outputs": [],
   "source": [
    "dataset = dataset[selected_features]\n",
    "\n",
    "if 'MapName' in dataset.columns:\n",
    "    dataset = pd.get_dummies(dataset, columns=['MapName'])\n",
    "    \n",
    "X = dataset.drop([predict_variable], axis='columns')\n",
    "Y = dataset[predict_variable]\n",
    "\n",
    "X_train, X_test, Y_train, Y_test = train_test_split(X, Y, train_size=0.8, test_size=0.2, random_state=15)\n",
    "X_train, X_valid, Y_train, Y_valid = train_test_split(X_train, Y_train, train_size=0.9, test_size=0.1, random_state=15)"
   ]
  },
  {
   "cell_type": "code",
   "execution_count": 6,
   "id": "d5da178e-6738-434e-9038-7fa8392b3f6a",
   "metadata": {},
   "outputs": [
    {
     "data": {
      "text/html": [
       "<div>\n",
       "<style scoped>\n",
       "    .dataframe tbody tr th:only-of-type {\n",
       "        vertical-align: middle;\n",
       "    }\n",
       "\n",
       "    .dataframe tbody tr th {\n",
       "        vertical-align: top;\n",
       "    }\n",
       "\n",
       "    .dataframe thead th {\n",
       "        text-align: right;\n",
       "    }\n",
       "</style>\n",
       "<table border=\"1\" class=\"dataframe\">\n",
       "  <thead>\n",
       "    <tr style=\"text-align: right;\">\n",
       "      <th></th>\n",
       "      <th>ATK_wealth</th>\n",
       "      <th>DEF_wealth</th>\n",
       "      <th>ATK_initiators</th>\n",
       "      <th>ATK_duelists</th>\n",
       "      <th>ATK_sentinels</th>\n",
       "      <th>ATK_controllers</th>\n",
       "      <th>DEF_initiators</th>\n",
       "      <th>DEF_duelists</th>\n",
       "      <th>DEF_sentinels</th>\n",
       "      <th>DEF_controllers</th>\n",
       "      <th>...</th>\n",
       "      <th>Def_has_Odin</th>\n",
       "      <th>RegularTime</th>\n",
       "      <th>SpikeTime</th>\n",
       "      <th>FinalWinner</th>\n",
       "      <th>MapName_Ascent</th>\n",
       "      <th>MapName_Bind</th>\n",
       "      <th>MapName_Breeze</th>\n",
       "      <th>MapName_Haven</th>\n",
       "      <th>MapName_Icebox</th>\n",
       "      <th>MapName_Split</th>\n",
       "    </tr>\n",
       "  </thead>\n",
       "  <tbody>\n",
       "    <tr>\n",
       "      <th>0</th>\n",
       "      <td>500.0</td>\n",
       "      <td>0.0</td>\n",
       "      <td>1</td>\n",
       "      <td>2</td>\n",
       "      <td>1</td>\n",
       "      <td>1</td>\n",
       "      <td>1</td>\n",
       "      <td>1</td>\n",
       "      <td>2</td>\n",
       "      <td>1</td>\n",
       "      <td>...</td>\n",
       "      <td>0</td>\n",
       "      <td>0</td>\n",
       "      <td>0</td>\n",
       "      <td>0</td>\n",
       "      <td>0</td>\n",
       "      <td>0</td>\n",
       "      <td>0</td>\n",
       "      <td>1</td>\n",
       "      <td>0</td>\n",
       "      <td>0</td>\n",
       "    </tr>\n",
       "    <tr>\n",
       "      <th>1</th>\n",
       "      <td>500.0</td>\n",
       "      <td>0.0</td>\n",
       "      <td>1</td>\n",
       "      <td>2</td>\n",
       "      <td>1</td>\n",
       "      <td>1</td>\n",
       "      <td>1</td>\n",
       "      <td>0</td>\n",
       "      <td>2</td>\n",
       "      <td>1</td>\n",
       "      <td>...</td>\n",
       "      <td>0</td>\n",
       "      <td>21</td>\n",
       "      <td>0</td>\n",
       "      <td>0</td>\n",
       "      <td>0</td>\n",
       "      <td>0</td>\n",
       "      <td>0</td>\n",
       "      <td>1</td>\n",
       "      <td>0</td>\n",
       "      <td>0</td>\n",
       "    </tr>\n",
       "    <tr>\n",
       "      <th>2</th>\n",
       "      <td>400.0</td>\n",
       "      <td>0.0</td>\n",
       "      <td>1</td>\n",
       "      <td>1</td>\n",
       "      <td>1</td>\n",
       "      <td>1</td>\n",
       "      <td>1</td>\n",
       "      <td>0</td>\n",
       "      <td>2</td>\n",
       "      <td>1</td>\n",
       "      <td>...</td>\n",
       "      <td>0</td>\n",
       "      <td>22</td>\n",
       "      <td>0</td>\n",
       "      <td>0</td>\n",
       "      <td>0</td>\n",
       "      <td>0</td>\n",
       "      <td>0</td>\n",
       "      <td>1</td>\n",
       "      <td>0</td>\n",
       "      <td>0</td>\n",
       "    </tr>\n",
       "    <tr>\n",
       "      <th>3</th>\n",
       "      <td>300.0</td>\n",
       "      <td>0.0</td>\n",
       "      <td>1</td>\n",
       "      <td>0</td>\n",
       "      <td>1</td>\n",
       "      <td>1</td>\n",
       "      <td>1</td>\n",
       "      <td>0</td>\n",
       "      <td>2</td>\n",
       "      <td>1</td>\n",
       "      <td>...</td>\n",
       "      <td>0</td>\n",
       "      <td>24</td>\n",
       "      <td>0</td>\n",
       "      <td>0</td>\n",
       "      <td>0</td>\n",
       "      <td>0</td>\n",
       "      <td>0</td>\n",
       "      <td>1</td>\n",
       "      <td>0</td>\n",
       "      <td>0</td>\n",
       "    </tr>\n",
       "    <tr>\n",
       "      <th>4</th>\n",
       "      <td>200.0</td>\n",
       "      <td>0.0</td>\n",
       "      <td>0</td>\n",
       "      <td>0</td>\n",
       "      <td>1</td>\n",
       "      <td>1</td>\n",
       "      <td>1</td>\n",
       "      <td>0</td>\n",
       "      <td>2</td>\n",
       "      <td>1</td>\n",
       "      <td>...</td>\n",
       "      <td>0</td>\n",
       "      <td>26</td>\n",
       "      <td>0</td>\n",
       "      <td>0</td>\n",
       "      <td>0</td>\n",
       "      <td>0</td>\n",
       "      <td>0</td>\n",
       "      <td>1</td>\n",
       "      <td>0</td>\n",
       "      <td>0</td>\n",
       "    </tr>\n",
       "  </tbody>\n",
       "</table>\n",
       "<p>5 rows × 21 columns</p>\n",
       "</div>"
      ],
      "text/plain": [
       "   ATK_wealth  DEF_wealth  ATK_initiators  ATK_duelists  ATK_sentinels  \\\n",
       "0       500.0         0.0               1             2              1   \n",
       "1       500.0         0.0               1             2              1   \n",
       "2       400.0         0.0               1             1              1   \n",
       "3       300.0         0.0               1             0              1   \n",
       "4       200.0         0.0               0             0              1   \n",
       "\n",
       "   ATK_controllers  DEF_initiators  DEF_duelists  DEF_sentinels  \\\n",
       "0                1               1             1              2   \n",
       "1                1               1             0              2   \n",
       "2                1               1             0              2   \n",
       "3                1               1             0              2   \n",
       "4                1               1             0              2   \n",
       "\n",
       "   DEF_controllers  ...  Def_has_Odin  RegularTime  SpikeTime  FinalWinner  \\\n",
       "0                1  ...             0            0          0            0   \n",
       "1                1  ...             0           21          0            0   \n",
       "2                1  ...             0           22          0            0   \n",
       "3                1  ...             0           24          0            0   \n",
       "4                1  ...             0           26          0            0   \n",
       "\n",
       "   MapName_Ascent  MapName_Bind  MapName_Breeze  MapName_Haven  \\\n",
       "0               0             0               0              1   \n",
       "1               0             0               0              1   \n",
       "2               0             0               0              1   \n",
       "3               0             0               0              1   \n",
       "4               0             0               0              1   \n",
       "\n",
       "   MapName_Icebox  MapName_Split  \n",
       "0               0              0  \n",
       "1               0              0  \n",
       "2               0              0  \n",
       "3               0              0  \n",
       "4               0              0  \n",
       "\n",
       "[5 rows x 21 columns]"
      ]
     },
     "execution_count": 6,
     "metadata": {},
     "output_type": "execute_result"
    }
   ],
   "source": [
    "dataset.head()"
   ]
  },
  {
   "cell_type": "markdown",
   "id": "3a4b3eac-d591-45dd-b1bd-e32cf9cf0640",
   "metadata": {},
   "source": [
    "# <font color='blue'>Parameter tuning </font>"
   ]
  },
  {
   "cell_type": "code",
   "execution_count": 8,
   "id": "b881d960-25e1-4bbd-a8bf-dab3efc7a9ad",
   "metadata": {},
   "outputs": [],
   "source": [
    "def objective(trial):\n",
    "    bagging_freq =  trial.suggest_int('bagging_freq',1,10),\n",
    "    min_data_in_leaf =  trial.suggest_int('min_data_in_leaf',2,100),\n",
    "    max_depth = trial.suggest_int('max_depth',1,20),\n",
    "    learning_rate = trial.suggest_loguniform('learning_rate',0.001,0.1),\n",
    "    num_leaves = trial.suggest_int('num_leaves',2,70),\n",
    "    num_threads = trial.suggest_int('num_threads',1,10),\n",
    "    min_sum_hessian_in_leaf = trial.suggest_int('min_sum_hessian_in_leaf',1,10),\n",
    "    \n",
    "    model = lightgbm.LGBMClassifier(bagging_freq=bagging_freq,\n",
    "                                    min_data_in_leaf=min_data_in_leaf,\n",
    "                                   max_depth=max_depth,\n",
    "                                   learning_rate=learning_rate,\n",
    "                                   num_leaves=num_leaves,\n",
    "                                   num_threads=num_threads,\n",
    "                                   min_sum_hessian_in_leaf=min_sum_hessian_in_leaf)\n",
    "    model.fit(X_train,Y_train)\n",
    "    pred_proba_test = model.predict_proba(X_test)\n",
    "    score = brier_score_loss(Y_test, pd.DataFrame(pred_proba_test)[1])\n",
    "    return score"
   ]
  },
  {
   "cell_type": "code",
   "execution_count": 9,
   "id": "0f1c22f9-6229-453c-992f-0af06f24b1bc",
   "metadata": {
    "scrolled": true,
    "tags": []
   },
   "outputs": [
    {
     "name": "stderr",
     "output_type": "stream",
     "text": [
      "\u001b[32m[I 2021-06-18 23:51:40,403]\u001b[0m A new study created in memory with name: no-name-aefe096b-cd55-40e4-ab90-5da1e0a55756\u001b[0m\n"
     ]
    },
    {
     "name": "stdout",
     "output_type": "stream",
     "text": [
      "[LightGBM] [Warning] min_data_in_leaf is set=33, min_child_samples=20 will be ignored. Current value: min_data_in_leaf=33\n",
      "[LightGBM] [Warning] min_sum_hessian_in_leaf is set=3, min_child_weight=0.001 will be ignored. Current value: min_sum_hessian_in_leaf=3\n",
      "[LightGBM] [Warning] num_threads is set=8, n_jobs=-1 will be ignored. Current value: num_threads=8\n",
      "[LightGBM] [Warning] bagging_freq is set=6, subsample_freq=0 will be ignored. Current value: bagging_freq=6\n"
     ]
    },
    {
     "name": "stderr",
     "output_type": "stream",
     "text": [
      "\u001b[32m[I 2021-06-18 23:51:41,049]\u001b[0m Trial 0 finished with value: 0.19618362503210407 and parameters: {'bagging_freq': 6, 'min_data_in_leaf': 33, 'max_depth': 11, 'learning_rate': 0.004873679909200431, 'num_leaves': 7, 'num_threads': 8, 'min_sum_hessian_in_leaf': 3}. Best is trial 0 with value: 0.19618362503210407.\u001b[0m\n"
     ]
    },
    {
     "name": "stdout",
     "output_type": "stream",
     "text": [
      "[LightGBM] [Warning] min_data_in_leaf is set=52, min_child_samples=20 will be ignored. Current value: min_data_in_leaf=52\n",
      "[LightGBM] [Warning] min_sum_hessian_in_leaf is set=2, min_child_weight=0.001 will be ignored. Current value: min_sum_hessian_in_leaf=2\n",
      "[LightGBM] [Warning] num_threads is set=6, n_jobs=-1 will be ignored. Current value: num_threads=6\n",
      "[LightGBM] [Warning] bagging_freq is set=2, subsample_freq=0 will be ignored. Current value: bagging_freq=2\n"
     ]
    },
    {
     "name": "stderr",
     "output_type": "stream",
     "text": [
      "\u001b[32m[I 2021-06-18 23:51:41,567]\u001b[0m Trial 1 finished with value: 0.2223649262845251 and parameters: {'bagging_freq': 2, 'min_data_in_leaf': 52, 'max_depth': 2, 'learning_rate': 0.002453145797244537, 'num_leaves': 43, 'num_threads': 6, 'min_sum_hessian_in_leaf': 2}. Best is trial 0 with value: 0.19618362503210407.\u001b[0m\n"
     ]
    },
    {
     "name": "stdout",
     "output_type": "stream",
     "text": [
      "[LightGBM] [Warning] min_data_in_leaf is set=35, min_child_samples=20 will be ignored. Current value: min_data_in_leaf=35\n",
      "[LightGBM] [Warning] min_sum_hessian_in_leaf is set=10, min_child_weight=0.001 will be ignored. Current value: min_sum_hessian_in_leaf=10\n",
      "[LightGBM] [Warning] num_threads is set=2, n_jobs=-1 will be ignored. Current value: num_threads=2\n",
      "[LightGBM] [Warning] bagging_freq is set=9, subsample_freq=0 will be ignored. Current value: bagging_freq=9\n"
     ]
    },
    {
     "name": "stderr",
     "output_type": "stream",
     "text": [
      "\u001b[32m[I 2021-06-18 23:51:42,230]\u001b[0m Trial 2 finished with value: 0.2415717243605169 and parameters: {'bagging_freq': 9, 'min_data_in_leaf': 35, 'max_depth': 1, 'learning_rate': 0.0016203946372202415, 'num_leaves': 25, 'num_threads': 2, 'min_sum_hessian_in_leaf': 10}. Best is trial 0 with value: 0.19618362503210407.\u001b[0m\n"
     ]
    },
    {
     "name": "stdout",
     "output_type": "stream",
     "text": [
      "[LightGBM] [Warning] min_data_in_leaf is set=12, min_child_samples=20 will be ignored. Current value: min_data_in_leaf=12\n",
      "[LightGBM] [Warning] min_sum_hessian_in_leaf is set=6, min_child_weight=0.001 will be ignored. Current value: min_sum_hessian_in_leaf=6\n",
      "[LightGBM] [Warning] num_threads is set=4, n_jobs=-1 will be ignored. Current value: num_threads=4\n",
      "[LightGBM] [Warning] bagging_freq is set=10, subsample_freq=0 will be ignored. Current value: bagging_freq=10\n"
     ]
    },
    {
     "name": "stderr",
     "output_type": "stream",
     "text": [
      "\u001b[32m[I 2021-06-18 23:51:43,282]\u001b[0m Trial 3 finished with value: 0.2279127240164831 and parameters: {'bagging_freq': 10, 'min_data_in_leaf': 12, 'max_depth': 19, 'learning_rate': 0.0011859348822222699, 'num_leaves': 62, 'num_threads': 4, 'min_sum_hessian_in_leaf': 6}. Best is trial 0 with value: 0.19618362503210407.\u001b[0m\n"
     ]
    },
    {
     "name": "stdout",
     "output_type": "stream",
     "text": [
      "[LightGBM] [Warning] min_data_in_leaf is set=5, min_child_samples=20 will be ignored. Current value: min_data_in_leaf=5\n",
      "[LightGBM] [Warning] min_sum_hessian_in_leaf is set=1, min_child_weight=0.001 will be ignored. Current value: min_sum_hessian_in_leaf=1\n",
      "[LightGBM] [Warning] num_threads is set=5, n_jobs=-1 will be ignored. Current value: num_threads=5\n",
      "[LightGBM] [Warning] bagging_freq is set=3, subsample_freq=0 will be ignored. Current value: bagging_freq=3\n"
     ]
    },
    {
     "name": "stderr",
     "output_type": "stream",
     "text": [
      "\u001b[32m[I 2021-06-18 23:51:44,031]\u001b[0m Trial 4 finished with value: 0.22721274886556952 and parameters: {'bagging_freq': 3, 'min_data_in_leaf': 5, 'max_depth': 16, 'learning_rate': 0.0013005107939206104, 'num_leaves': 27, 'num_threads': 5, 'min_sum_hessian_in_leaf': 1}. Best is trial 0 with value: 0.19618362503210407.\u001b[0m\n"
     ]
    },
    {
     "name": "stdout",
     "output_type": "stream",
     "text": [
      "[LightGBM] [Warning] min_data_in_leaf is set=67, min_child_samples=20 will be ignored. Current value: min_data_in_leaf=67\n",
      "[LightGBM] [Warning] min_sum_hessian_in_leaf is set=3, min_child_weight=0.001 will be ignored. Current value: min_sum_hessian_in_leaf=3\n",
      "[LightGBM] [Warning] num_threads is set=8, n_jobs=-1 will be ignored. Current value: num_threads=8\n",
      "[LightGBM] [Warning] bagging_freq is set=5, subsample_freq=0 will be ignored. Current value: bagging_freq=5\n"
     ]
    },
    {
     "name": "stderr",
     "output_type": "stream",
     "text": [
      "\u001b[32m[I 2021-06-18 23:51:44,927]\u001b[0m Trial 5 finished with value: 0.1315992638662991 and parameters: {'bagging_freq': 5, 'min_data_in_leaf': 67, 'max_depth': 9, 'learning_rate': 0.08337588005387511, 'num_leaves': 15, 'num_threads': 8, 'min_sum_hessian_in_leaf': 3}. Best is trial 5 with value: 0.1315992638662991.\u001b[0m\n"
     ]
    },
    {
     "name": "stdout",
     "output_type": "stream",
     "text": [
      "[LightGBM] [Warning] min_data_in_leaf is set=14, min_child_samples=20 will be ignored. Current value: min_data_in_leaf=14\n",
      "[LightGBM] [Warning] min_sum_hessian_in_leaf is set=3, min_child_weight=0.001 will be ignored. Current value: min_sum_hessian_in_leaf=3\n",
      "[LightGBM] [Warning] num_threads is set=3, n_jobs=-1 will be ignored. Current value: num_threads=3\n",
      "[LightGBM] [Warning] bagging_freq is set=5, subsample_freq=0 will be ignored. Current value: bagging_freq=5\n"
     ]
    },
    {
     "name": "stderr",
     "output_type": "stream",
     "text": [
      "\u001b[32m[I 2021-06-18 23:51:46,271]\u001b[0m Trial 6 finished with value: 0.1314252664866665 and parameters: {'bagging_freq': 5, 'min_data_in_leaf': 14, 'max_depth': 20, 'learning_rate': 0.04864255186108831, 'num_leaves': 52, 'num_threads': 3, 'min_sum_hessian_in_leaf': 3}. Best is trial 6 with value: 0.1314252664866665.\u001b[0m\n"
     ]
    },
    {
     "name": "stdout",
     "output_type": "stream",
     "text": [
      "[LightGBM] [Warning] min_data_in_leaf is set=100, min_child_samples=20 will be ignored. Current value: min_data_in_leaf=100\n",
      "[LightGBM] [Warning] min_sum_hessian_in_leaf is set=2, min_child_weight=0.001 will be ignored. Current value: min_sum_hessian_in_leaf=2\n",
      "[LightGBM] [Warning] num_threads is set=6, n_jobs=-1 will be ignored. Current value: num_threads=6\n",
      "[LightGBM] [Warning] bagging_freq is set=10, subsample_freq=0 will be ignored. Current value: bagging_freq=10\n"
     ]
    },
    {
     "name": "stderr",
     "output_type": "stream",
     "text": [
      "\u001b[32m[I 2021-06-18 23:51:47,981]\u001b[0m Trial 7 finished with value: 0.21062173782782828 and parameters: {'bagging_freq': 10, 'min_data_in_leaf': 100, 'max_depth': 18, 'learning_rate': 0.0024121063174846282, 'num_leaves': 43, 'num_threads': 6, 'min_sum_hessian_in_leaf': 2}. Best is trial 6 with value: 0.1314252664866665.\u001b[0m\n"
     ]
    },
    {
     "name": "stdout",
     "output_type": "stream",
     "text": [
      "[LightGBM] [Warning] min_data_in_leaf is set=85, min_child_samples=20 will be ignored. Current value: min_data_in_leaf=85\n",
      "[LightGBM] [Warning] min_sum_hessian_in_leaf is set=2, min_child_weight=0.001 will be ignored. Current value: min_sum_hessian_in_leaf=2\n",
      "[LightGBM] [Warning] num_threads is set=9, n_jobs=-1 will be ignored. Current value: num_threads=9\n",
      "[LightGBM] [Warning] bagging_freq is set=10, subsample_freq=0 will be ignored. Current value: bagging_freq=10\n"
     ]
    },
    {
     "name": "stderr",
     "output_type": "stream",
     "text": [
      "\u001b[32m[I 2021-06-18 23:51:49,606]\u001b[0m Trial 8 finished with value: 0.13321858936337755 and parameters: {'bagging_freq': 10, 'min_data_in_leaf': 85, 'max_depth': 9, 'learning_rate': 0.03612798790160042, 'num_leaves': 58, 'num_threads': 9, 'min_sum_hessian_in_leaf': 2}. Best is trial 6 with value: 0.1314252664866665.\u001b[0m\n"
     ]
    },
    {
     "name": "stdout",
     "output_type": "stream",
     "text": [
      "[LightGBM] [Warning] min_data_in_leaf is set=24, min_child_samples=20 will be ignored. Current value: min_data_in_leaf=24\n",
      "[LightGBM] [Warning] min_sum_hessian_in_leaf is set=5, min_child_weight=0.001 will be ignored. Current value: min_sum_hessian_in_leaf=5\n",
      "[LightGBM] [Warning] num_threads is set=8, n_jobs=-1 will be ignored. Current value: num_threads=8\n",
      "[LightGBM] [Warning] bagging_freq is set=1, subsample_freq=0 will be ignored. Current value: bagging_freq=1\n"
     ]
    },
    {
     "name": "stderr",
     "output_type": "stream",
     "text": [
      "\u001b[32m[I 2021-06-18 23:51:50,918]\u001b[0m Trial 9 finished with value: 0.13778097054985242 and parameters: {'bagging_freq': 1, 'min_data_in_leaf': 24, 'max_depth': 8, 'learning_rate': 0.02536219267572993, 'num_leaves': 45, 'num_threads': 8, 'min_sum_hessian_in_leaf': 5}. Best is trial 6 with value: 0.1314252664866665.\u001b[0m\n"
     ]
    },
    {
     "name": "stdout",
     "output_type": "stream",
     "text": [
      "[LightGBM] [Warning] min_data_in_leaf is set=4, min_child_samples=20 will be ignored. Current value: min_data_in_leaf=4\n",
      "[LightGBM] [Warning] min_sum_hessian_in_leaf is set=8, min_child_weight=0.001 will be ignored. Current value: min_sum_hessian_in_leaf=8\n",
      "[LightGBM] [Warning] num_threads is set=1, n_jobs=-1 will be ignored. Current value: num_threads=1\n",
      "[LightGBM] [Warning] bagging_freq is set=7, subsample_freq=0 will be ignored. Current value: bagging_freq=7\n"
     ]
    },
    {
     "name": "stderr",
     "output_type": "stream",
     "text": [
      "\u001b[32m[I 2021-06-18 23:51:53,846]\u001b[0m Trial 10 finished with value: 0.1281180643718363 and parameters: {'bagging_freq': 7, 'min_data_in_leaf': 4, 'max_depth': 14, 'learning_rate': 0.09434748922706132, 'num_leaves': 70, 'num_threads': 1, 'min_sum_hessian_in_leaf': 8}. Best is trial 10 with value: 0.1281180643718363.\u001b[0m\n"
     ]
    },
    {
     "name": "stdout",
     "output_type": "stream",
     "text": [
      "[LightGBM] [Warning] min_data_in_leaf is set=3, min_child_samples=20 will be ignored. Current value: min_data_in_leaf=3\n",
      "[LightGBM] [Warning] min_sum_hessian_in_leaf is set=9, min_child_weight=0.001 will be ignored. Current value: min_sum_hessian_in_leaf=9\n",
      "[LightGBM] [Warning] num_threads is set=1, n_jobs=-1 will be ignored. Current value: num_threads=1\n",
      "[LightGBM] [Warning] bagging_freq is set=7, subsample_freq=0 will be ignored. Current value: bagging_freq=7\n"
     ]
    },
    {
     "name": "stderr",
     "output_type": "stream",
     "text": [
      "\u001b[32m[I 2021-06-18 23:51:56,937]\u001b[0m Trial 11 finished with value: 0.12815330283525653 and parameters: {'bagging_freq': 7, 'min_data_in_leaf': 3, 'max_depth': 14, 'learning_rate': 0.09528645534769647, 'num_leaves': 66, 'num_threads': 1, 'min_sum_hessian_in_leaf': 9}. Best is trial 10 with value: 0.1281180643718363.\u001b[0m\n"
     ]
    },
    {
     "name": "stdout",
     "output_type": "stream",
     "text": [
      "[LightGBM] [Warning] min_data_in_leaf is set=3, min_child_samples=20 will be ignored. Current value: min_data_in_leaf=3\n",
      "[LightGBM] [Warning] min_sum_hessian_in_leaf is set=10, min_child_weight=0.001 will be ignored. Current value: min_sum_hessian_in_leaf=10\n",
      "[LightGBM] [Warning] num_threads is set=1, n_jobs=-1 will be ignored. Current value: num_threads=1\n",
      "[LightGBM] [Warning] bagging_freq is set=7, subsample_freq=0 will be ignored. Current value: bagging_freq=7\n"
     ]
    },
    {
     "name": "stderr",
     "output_type": "stream",
     "text": [
      "\u001b[32m[I 2021-06-18 23:52:00,005]\u001b[0m Trial 12 finished with value: 0.12802638300934602 and parameters: {'bagging_freq': 7, 'min_data_in_leaf': 3, 'max_depth': 14, 'learning_rate': 0.09940588208353893, 'num_leaves': 69, 'num_threads': 1, 'min_sum_hessian_in_leaf': 10}. Best is trial 12 with value: 0.12802638300934602.\u001b[0m\n"
     ]
    },
    {
     "name": "stdout",
     "output_type": "stream",
     "text": [
      "[LightGBM] [Warning] min_data_in_leaf is set=47, min_child_samples=20 will be ignored. Current value: min_data_in_leaf=47\n",
      "[LightGBM] [Warning] min_sum_hessian_in_leaf is set=8, min_child_weight=0.001 will be ignored. Current value: min_sum_hessian_in_leaf=8\n",
      "[LightGBM] [Warning] num_threads is set=1, n_jobs=-1 will be ignored. Current value: num_threads=1\n",
      "[LightGBM] [Warning] bagging_freq is set=8, subsample_freq=0 will be ignored. Current value: bagging_freq=8\n"
     ]
    },
    {
     "name": "stderr",
     "output_type": "stream",
     "text": [
      "\u001b[32m[I 2021-06-18 23:52:03,044]\u001b[0m Trial 13 finished with value: 0.1466017378061896 and parameters: {'bagging_freq': 8, 'min_data_in_leaf': 47, 'max_depth': 13, 'learning_rate': 0.0143647156580515, 'num_leaves': 70, 'num_threads': 1, 'min_sum_hessian_in_leaf': 8}. Best is trial 12 with value: 0.12802638300934602.\u001b[0m\n"
     ]
    },
    {
     "name": "stdout",
     "output_type": "stream",
     "text": [
      "[LightGBM] [Warning] min_data_in_leaf is set=2, min_child_samples=20 will be ignored. Current value: min_data_in_leaf=2\n",
      "[LightGBM] [Warning] min_sum_hessian_in_leaf is set=7, min_child_weight=0.001 will be ignored. Current value: min_sum_hessian_in_leaf=7\n",
      "[LightGBM] [Warning] num_threads is set=1, n_jobs=-1 will be ignored. Current value: num_threads=1\n",
      "[LightGBM] [Warning] bagging_freq is set=7, subsample_freq=0 will be ignored. Current value: bagging_freq=7\n"
     ]
    },
    {
     "name": "stderr",
     "output_type": "stream",
     "text": [
      "\u001b[32m[I 2021-06-18 23:52:06,099]\u001b[0m Trial 14 finished with value: 0.12836923337514658 and parameters: {'bagging_freq': 7, 'min_data_in_leaf': 2, 'max_depth': 15, 'learning_rate': 0.0886223070840397, 'num_leaves': 69, 'num_threads': 1, 'min_sum_hessian_in_leaf': 7}. Best is trial 12 with value: 0.12802638300934602.\u001b[0m\n"
     ]
    },
    {
     "name": "stdout",
     "output_type": "stream",
     "text": [
      "[LightGBM] [Warning] min_data_in_leaf is set=20, min_child_samples=20 will be ignored. Current value: min_data_in_leaf=20\n",
      "[LightGBM] [Warning] min_sum_hessian_in_leaf is set=10, min_child_weight=0.001 will be ignored. Current value: min_sum_hessian_in_leaf=10\n",
      "[LightGBM] [Warning] num_threads is set=3, n_jobs=-1 will be ignored. Current value: num_threads=3\n",
      "[LightGBM] [Warning] bagging_freq is set=4, subsample_freq=0 will be ignored. Current value: bagging_freq=4\n"
     ]
    },
    {
     "name": "stderr",
     "output_type": "stream",
     "text": [
      "\u001b[32m[I 2021-06-18 23:52:07,218]\u001b[0m Trial 15 finished with value: 0.1513081145852308 and parameters: {'bagging_freq': 4, 'min_data_in_leaf': 20, 'max_depth': 5, 'learning_rate': 0.0144140330763832, 'num_leaves': 55, 'num_threads': 3, 'min_sum_hessian_in_leaf': 10}. Best is trial 12 with value: 0.12802638300934602.\u001b[0m\n"
     ]
    },
    {
     "name": "stdout",
     "output_type": "stream",
     "text": [
      "[LightGBM] [Warning] min_data_in_leaf is set=31, min_child_samples=20 will be ignored. Current value: min_data_in_leaf=31\n",
      "[LightGBM] [Warning] min_sum_hessian_in_leaf is set=8, min_child_weight=0.001 will be ignored. Current value: min_sum_hessian_in_leaf=8\n",
      "[LightGBM] [Warning] num_threads is set=2, n_jobs=-1 will be ignored. Current value: num_threads=2\n",
      "[LightGBM] [Warning] bagging_freq is set=8, subsample_freq=0 will be ignored. Current value: bagging_freq=8\n"
     ]
    },
    {
     "name": "stderr",
     "output_type": "stream",
     "text": [
      "\u001b[32m[I 2021-06-18 23:52:09,094]\u001b[0m Trial 16 finished with value: 0.13021120351054838 and parameters: {'bagging_freq': 8, 'min_data_in_leaf': 31, 'max_depth': 12, 'learning_rate': 0.0544957020975627, 'num_leaves': 70, 'num_threads': 2, 'min_sum_hessian_in_leaf': 8}. Best is trial 12 with value: 0.12802638300934602.\u001b[0m\n"
     ]
    },
    {
     "name": "stdout",
     "output_type": "stream",
     "text": [
      "[LightGBM] [Warning] min_data_in_leaf is set=2, min_child_samples=20 will be ignored. Current value: min_data_in_leaf=2\n",
      "[LightGBM] [Warning] min_sum_hessian_in_leaf is set=9, min_child_weight=0.001 will be ignored. Current value: min_sum_hessian_in_leaf=9\n",
      "[LightGBM] [Warning] num_threads is set=3, n_jobs=-1 will be ignored. Current value: num_threads=3\n",
      "[LightGBM] [Warning] bagging_freq is set=6, subsample_freq=0 will be ignored. Current value: bagging_freq=6\n"
     ]
    },
    {
     "name": "stderr",
     "output_type": "stream",
     "text": [
      "\u001b[32m[I 2021-06-18 23:52:10,138]\u001b[0m Trial 17 finished with value: 0.13998881966913676 and parameters: {'bagging_freq': 6, 'min_data_in_leaf': 2, 'max_depth': 16, 'learning_rate': 0.0234532570852375, 'num_leaves': 34, 'num_threads': 3, 'min_sum_hessian_in_leaf': 9}. Best is trial 12 with value: 0.12802638300934602.\u001b[0m\n"
     ]
    },
    {
     "name": "stdout",
     "output_type": "stream",
     "text": [
      "[LightGBM] [Warning] min_data_in_leaf is set=49, min_child_samples=20 will be ignored. Current value: min_data_in_leaf=49\n",
      "[LightGBM] [Warning] min_sum_hessian_in_leaf is set=6, min_child_weight=0.001 will be ignored. Current value: min_sum_hessian_in_leaf=6\n",
      "[LightGBM] [Warning] num_threads is set=2, n_jobs=-1 will be ignored. Current value: num_threads=2\n",
      "[LightGBM] [Warning] bagging_freq is set=8, subsample_freq=0 will be ignored. Current value: bagging_freq=8\n"
     ]
    },
    {
     "name": "stderr",
     "output_type": "stream",
     "text": [
      "\u001b[32m[I 2021-06-18 23:52:11,629]\u001b[0m Trial 18 finished with value: 0.17239273015951512 and parameters: {'bagging_freq': 8, 'min_data_in_leaf': 49, 'max_depth': 17, 'learning_rate': 0.006701168090503613, 'num_leaves': 50, 'num_threads': 2, 'min_sum_hessian_in_leaf': 6}. Best is trial 12 with value: 0.12802638300934602.\u001b[0m\n"
     ]
    },
    {
     "name": "stdout",
     "output_type": "stream",
     "text": [
      "[LightGBM] [Warning] min_data_in_leaf is set=66, min_child_samples=20 will be ignored. Current value: min_data_in_leaf=66\n",
      "[LightGBM] [Warning] min_sum_hessian_in_leaf is set=9, min_child_weight=0.001 will be ignored. Current value: min_sum_hessian_in_leaf=9\n",
      "[LightGBM] [Warning] num_threads is set=5, n_jobs=-1 will be ignored. Current value: num_threads=5\n",
      "[LightGBM] [Warning] bagging_freq is set=7, subsample_freq=0 will be ignored. Current value: bagging_freq=7\n"
     ]
    },
    {
     "name": "stderr",
     "output_type": "stream",
     "text": [
      "\u001b[32m[I 2021-06-18 23:52:12,519]\u001b[0m Trial 19 finished with value: 0.13067482858705962 and parameters: {'bagging_freq': 7, 'min_data_in_leaf': 66, 'max_depth': 6, 'learning_rate': 0.061366761297665676, 'num_leaves': 62, 'num_threads': 5, 'min_sum_hessian_in_leaf': 9}. Best is trial 12 with value: 0.12802638300934602.\u001b[0m\n"
     ]
    },
    {
     "name": "stdout",
     "output_type": "stream",
     "text": [
      "[LightGBM] [Warning] min_data_in_leaf is set=12, min_child_samples=20 will be ignored. Current value: min_data_in_leaf=12\n",
      "[LightGBM] [Warning] min_sum_hessian_in_leaf is set=7, min_child_weight=0.001 will be ignored. Current value: min_sum_hessian_in_leaf=7\n",
      "[LightGBM] [Warning] num_threads is set=1, n_jobs=-1 will be ignored. Current value: num_threads=1\n",
      "[LightGBM] [Warning] bagging_freq is set=4, subsample_freq=0 will be ignored. Current value: bagging_freq=4\n"
     ]
    },
    {
     "name": "stderr",
     "output_type": "stream",
     "text": [
      "\u001b[32m[I 2021-06-18 23:52:15,427]\u001b[0m Trial 20 finished with value: 0.13461015193402925 and parameters: {'bagging_freq': 4, 'min_data_in_leaf': 12, 'max_depth': 14, 'learning_rate': 0.0301798710574212, 'num_leaves': 62, 'num_threads': 1, 'min_sum_hessian_in_leaf': 7}. Best is trial 12 with value: 0.12802638300934602.\u001b[0m\n"
     ]
    },
    {
     "name": "stdout",
     "output_type": "stream",
     "text": [
      "[LightGBM] [Warning] min_data_in_leaf is set=2, min_child_samples=20 will be ignored. Current value: min_data_in_leaf=2\n",
      "[LightGBM] [Warning] min_sum_hessian_in_leaf is set=10, min_child_weight=0.001 will be ignored. Current value: min_sum_hessian_in_leaf=10\n",
      "[LightGBM] [Warning] num_threads is set=1, n_jobs=-1 will be ignored. Current value: num_threads=1\n",
      "[LightGBM] [Warning] bagging_freq is set=7, subsample_freq=0 will be ignored. Current value: bagging_freq=7\n"
     ]
    },
    {
     "name": "stderr",
     "output_type": "stream",
     "text": [
      "\u001b[32m[I 2021-06-18 23:52:18,342]\u001b[0m Trial 21 finished with value: 0.12800299593887013 and parameters: {'bagging_freq': 7, 'min_data_in_leaf': 2, 'max_depth': 14, 'learning_rate': 0.09824525630883806, 'num_leaves': 70, 'num_threads': 1, 'min_sum_hessian_in_leaf': 10}. Best is trial 21 with value: 0.12800299593887013.\u001b[0m\n"
     ]
    },
    {
     "name": "stdout",
     "output_type": "stream",
     "text": [
      "[LightGBM] [Warning] min_data_in_leaf is set=20, min_child_samples=20 will be ignored. Current value: min_data_in_leaf=20\n",
      "[LightGBM] [Warning] min_sum_hessian_in_leaf is set=10, min_child_weight=0.001 will be ignored. Current value: min_sum_hessian_in_leaf=10\n",
      "[LightGBM] [Warning] num_threads is set=2, n_jobs=-1 will be ignored. Current value: num_threads=2\n",
      "[LightGBM] [Warning] bagging_freq is set=6, subsample_freq=0 will be ignored. Current value: bagging_freq=6\n"
     ]
    },
    {
     "name": "stderr",
     "output_type": "stream",
     "text": [
      "\u001b[32m[I 2021-06-18 23:52:19,962]\u001b[0m Trial 22 finished with value: 0.12801947436748198 and parameters: {'bagging_freq': 6, 'min_data_in_leaf': 20, 'max_depth': 12, 'learning_rate': 0.09913275392089253, 'num_leaves': 70, 'num_threads': 2, 'min_sum_hessian_in_leaf': 10}. Best is trial 21 with value: 0.12800299593887013.\u001b[0m\n"
     ]
    },
    {
     "name": "stdout",
     "output_type": "stream",
     "text": [
      "[LightGBM] [Warning] min_data_in_leaf is set=22, min_child_samples=20 will be ignored. Current value: min_data_in_leaf=22\n",
      "[LightGBM] [Warning] min_sum_hessian_in_leaf is set=10, min_child_weight=0.001 will be ignored. Current value: min_sum_hessian_in_leaf=10\n",
      "[LightGBM] [Warning] num_threads is set=2, n_jobs=-1 will be ignored. Current value: num_threads=2\n",
      "[LightGBM] [Warning] bagging_freq is set=6, subsample_freq=0 will be ignored. Current value: bagging_freq=6\n"
     ]
    },
    {
     "name": "stderr",
     "output_type": "stream",
     "text": [
      "\u001b[32m[I 2021-06-18 23:52:21,602]\u001b[0m Trial 23 finished with value: 0.12966169490563964 and parameters: {'bagging_freq': 6, 'min_data_in_leaf': 22, 'max_depth': 12, 'learning_rate': 0.06345587094182506, 'num_leaves': 64, 'num_threads': 2, 'min_sum_hessian_in_leaf': 10}. Best is trial 21 with value: 0.12800299593887013.\u001b[0m\n"
     ]
    },
    {
     "name": "stdout",
     "output_type": "stream",
     "text": [
      "[LightGBM] [Warning] min_data_in_leaf is set=15, min_child_samples=20 will be ignored. Current value: min_data_in_leaf=15\n",
      "[LightGBM] [Warning] min_sum_hessian_in_leaf is set=10, min_child_weight=0.001 will be ignored. Current value: min_sum_hessian_in_leaf=10\n",
      "[LightGBM] [Warning] num_threads is set=4, n_jobs=-1 will be ignored. Current value: num_threads=4\n",
      "[LightGBM] [Warning] bagging_freq is set=9, subsample_freq=0 will be ignored. Current value: bagging_freq=9\n"
     ]
    },
    {
     "name": "stderr",
     "output_type": "stream",
     "text": [
      "\u001b[32m[I 2021-06-18 23:52:22,702]\u001b[0m Trial 24 finished with value: 0.1330354018578241 and parameters: {'bagging_freq': 9, 'min_data_in_leaf': 15, 'max_depth': 11, 'learning_rate': 0.03715457296468686, 'num_leaves': 57, 'num_threads': 4, 'min_sum_hessian_in_leaf': 10}. Best is trial 21 with value: 0.12800299593887013.\u001b[0m\n"
     ]
    },
    {
     "name": "stdout",
     "output_type": "stream",
     "text": [
      "[LightGBM] [Warning] min_data_in_leaf is set=40, min_child_samples=20 will be ignored. Current value: min_data_in_leaf=40\n",
      "[LightGBM] [Warning] min_sum_hessian_in_leaf is set=9, min_child_weight=0.001 will be ignored. Current value: min_sum_hessian_in_leaf=9\n",
      "[LightGBM] [Warning] num_threads is set=2, n_jobs=-1 will be ignored. Current value: num_threads=2\n",
      "[LightGBM] [Warning] bagging_freq is set=5, subsample_freq=0 will be ignored. Current value: bagging_freq=5\n"
     ]
    },
    {
     "name": "stderr",
     "output_type": "stream",
     "text": [
      "\u001b[32m[I 2021-06-18 23:52:24,311]\u001b[0m Trial 25 finished with value: 0.12831157816420288 and parameters: {'bagging_freq': 5, 'min_data_in_leaf': 40, 'max_depth': 10, 'learning_rate': 0.09753185866994932, 'num_leaves': 67, 'num_threads': 2, 'min_sum_hessian_in_leaf': 9}. Best is trial 21 with value: 0.12800299593887013.\u001b[0m\n"
     ]
    },
    {
     "name": "stdout",
     "output_type": "stream",
     "text": [
      "[LightGBM] [Warning] min_data_in_leaf is set=10, min_child_samples=20 will be ignored. Current value: min_data_in_leaf=10\n",
      "[LightGBM] [Warning] min_sum_hessian_in_leaf is set=10, min_child_weight=0.001 will be ignored. Current value: min_sum_hessian_in_leaf=10\n",
      "[LightGBM] [Warning] num_threads is set=4, n_jobs=-1 will be ignored. Current value: num_threads=4\n",
      "[LightGBM] [Warning] bagging_freq is set=8, subsample_freq=0 will be ignored. Current value: bagging_freq=8\n"
     ]
    },
    {
     "name": "stderr",
     "output_type": "stream",
     "text": [
      "\u001b[32m[I 2021-06-18 23:52:25,331]\u001b[0m Trial 26 finished with value: 0.13013496284021162 and parameters: {'bagging_freq': 8, 'min_data_in_leaf': 10, 'max_depth': 13, 'learning_rate': 0.06464218494007681, 'num_leaves': 49, 'num_threads': 4, 'min_sum_hessian_in_leaf': 10}. Best is trial 21 with value: 0.12800299593887013.\u001b[0m\n"
     ]
    },
    {
     "name": "stdout",
     "output_type": "stream",
     "text": [
      "[LightGBM] [Warning] min_data_in_leaf is set=27, min_child_samples=20 will be ignored. Current value: min_data_in_leaf=27\n",
      "[LightGBM] [Warning] min_sum_hessian_in_leaf is set=9, min_child_weight=0.001 will be ignored. Current value: min_sum_hessian_in_leaf=9\n",
      "[LightGBM] [Warning] num_threads is set=3, n_jobs=-1 will be ignored. Current value: num_threads=3\n",
      "[LightGBM] [Warning] bagging_freq is set=6, subsample_freq=0 will be ignored. Current value: bagging_freq=6\n"
     ]
    },
    {
     "name": "stderr",
     "output_type": "stream",
     "text": [
      "\u001b[32m[I 2021-06-18 23:52:26,538]\u001b[0m Trial 27 finished with value: 0.1322783430678082 and parameters: {'bagging_freq': 6, 'min_data_in_leaf': 27, 'max_depth': 7, 'learning_rate': 0.0426315983360205, 'num_leaves': 59, 'num_threads': 3, 'min_sum_hessian_in_leaf': 9}. Best is trial 21 with value: 0.12800299593887013.\u001b[0m\n"
     ]
    },
    {
     "name": "stdout",
     "output_type": "stream",
     "text": [
      "[LightGBM] [Warning] min_data_in_leaf is set=8, min_child_samples=20 will be ignored. Current value: min_data_in_leaf=8\n",
      "[LightGBM] [Warning] min_sum_hessian_in_leaf is set=8, min_child_weight=0.001 will be ignored. Current value: min_sum_hessian_in_leaf=8\n",
      "[LightGBM] [Warning] num_threads is set=1, n_jobs=-1 will be ignored. Current value: num_threads=1\n",
      "[LightGBM] [Warning] bagging_freq is set=4, subsample_freq=0 will be ignored. Current value: bagging_freq=4\n"
     ]
    },
    {
     "name": "stderr",
     "output_type": "stream",
     "text": [
      "\u001b[32m[I 2021-06-18 23:52:29,299]\u001b[0m Trial 28 finished with value: 0.1428299084432703 and parameters: {'bagging_freq': 4, 'min_data_in_leaf': 8, 'max_depth': 16, 'learning_rate': 0.017161310006928762, 'num_leaves': 66, 'num_threads': 1, 'min_sum_hessian_in_leaf': 8}. Best is trial 21 with value: 0.12800299593887013.\u001b[0m\n"
     ]
    },
    {
     "name": "stdout",
     "output_type": "stream",
     "text": [
      "[LightGBM] [Warning] min_data_in_leaf is set=17, min_child_samples=20 will be ignored. Current value: min_data_in_leaf=17\n",
      "[LightGBM] [Warning] min_sum_hessian_in_leaf is set=4, min_child_weight=0.001 will be ignored. Current value: min_sum_hessian_in_leaf=4\n",
      "[LightGBM] [Warning] num_threads is set=7, n_jobs=-1 will be ignored. Current value: num_threads=7\n",
      "[LightGBM] [Warning] bagging_freq is set=9, subsample_freq=0 will be ignored. Current value: bagging_freq=9\n"
     ]
    },
    {
     "name": "stderr",
     "output_type": "stream",
     "text": [
      "\u001b[32m[I 2021-06-18 23:52:29,943]\u001b[0m Trial 29 finished with value: 0.13733153852368826 and parameters: {'bagging_freq': 9, 'min_data_in_leaf': 17, 'max_depth': 11, 'learning_rate': 0.07513049414214179, 'num_leaves': 5, 'num_threads': 7, 'min_sum_hessian_in_leaf': 4}. Best is trial 21 with value: 0.12800299593887013.\u001b[0m\n"
     ]
    },
    {
     "name": "stdout",
     "output_type": "stream",
     "text": [
      "[LightGBM] [Warning] min_data_in_leaf is set=39, min_child_samples=20 will be ignored. Current value: min_data_in_leaf=39\n",
      "[LightGBM] [Warning] min_sum_hessian_in_leaf is set=7, min_child_weight=0.001 will be ignored. Current value: min_sum_hessian_in_leaf=7\n",
      "[LightGBM] [Warning] num_threads is set=2, n_jobs=-1 will be ignored. Current value: num_threads=2\n",
      "[LightGBM] [Warning] bagging_freq is set=6, subsample_freq=0 will be ignored. Current value: bagging_freq=6\n"
     ]
    },
    {
     "name": "stderr",
     "output_type": "stream",
     "text": [
      "\u001b[32m[I 2021-06-18 23:52:31,357]\u001b[0m Trial 30 finished with value: 0.16986714846042558 and parameters: {'bagging_freq': 6, 'min_data_in_leaf': 39, 'max_depth': 12, 'learning_rate': 0.0074006405534657455, 'num_leaves': 38, 'num_threads': 2, 'min_sum_hessian_in_leaf': 7}. Best is trial 21 with value: 0.12800299593887013.\u001b[0m\n"
     ]
    },
    {
     "name": "stdout",
     "output_type": "stream",
     "text": [
      "[LightGBM] [Warning] min_data_in_leaf is set=4, min_child_samples=20 will be ignored. Current value: min_data_in_leaf=4\n",
      "[LightGBM] [Warning] min_sum_hessian_in_leaf is set=8, min_child_weight=0.001 will be ignored. Current value: min_sum_hessian_in_leaf=8\n",
      "[LightGBM] [Warning] num_threads is set=1, n_jobs=-1 will be ignored. Current value: num_threads=1\n",
      "[LightGBM] [Warning] bagging_freq is set=7, subsample_freq=0 will be ignored. Current value: bagging_freq=7\n"
     ]
    },
    {
     "name": "stderr",
     "output_type": "stream",
     "text": [
      "\u001b[32m[I 2021-06-18 23:52:34,188]\u001b[0m Trial 31 finished with value: 0.1279660008947356 and parameters: {'bagging_freq': 7, 'min_data_in_leaf': 4, 'max_depth': 14, 'learning_rate': 0.0980413357827496, 'num_leaves': 69, 'num_threads': 1, 'min_sum_hessian_in_leaf': 8}. Best is trial 31 with value: 0.1279660008947356.\u001b[0m\n"
     ]
    },
    {
     "name": "stdout",
     "output_type": "stream",
     "text": [
      "[LightGBM] [Warning] min_data_in_leaf is set=8, min_child_samples=20 will be ignored. Current value: min_data_in_leaf=8\n",
      "[LightGBM] [Warning] min_sum_hessian_in_leaf is set=10, min_child_weight=0.001 will be ignored. Current value: min_sum_hessian_in_leaf=10\n",
      "[LightGBM] [Warning] num_threads is set=1, n_jobs=-1 will be ignored. Current value: num_threads=1\n",
      "[LightGBM] [Warning] bagging_freq is set=7, subsample_freq=0 will be ignored. Current value: bagging_freq=7\n"
     ]
    },
    {
     "name": "stderr",
     "output_type": "stream",
     "text": [
      "\u001b[32m[I 2021-06-18 23:52:37,132]\u001b[0m Trial 32 finished with value: 0.1307019005194376 and parameters: {'bagging_freq': 7, 'min_data_in_leaf': 8, 'max_depth': 15, 'learning_rate': 0.04948769117397613, 'num_leaves': 68, 'num_threads': 1, 'min_sum_hessian_in_leaf': 10}. Best is trial 31 with value: 0.1279660008947356.\u001b[0m\n"
     ]
    },
    {
     "name": "stdout",
     "output_type": "stream",
     "text": [
      "[LightGBM] [Warning] min_data_in_leaf is set=2, min_child_samples=20 will be ignored. Current value: min_data_in_leaf=2\n",
      "[LightGBM] [Warning] min_sum_hessian_in_leaf is set=9, min_child_weight=0.001 will be ignored. Current value: min_sum_hessian_in_leaf=9\n",
      "[LightGBM] [Warning] num_threads is set=2, n_jobs=-1 will be ignored. Current value: num_threads=2\n",
      "[LightGBM] [Warning] bagging_freq is set=7, subsample_freq=0 will be ignored. Current value: bagging_freq=7\n"
     ]
    },
    {
     "name": "stderr",
     "output_type": "stream",
     "text": [
      "\u001b[32m[I 2021-06-18 23:52:38,251]\u001b[0m Trial 33 finished with value: 0.13176704994687993 and parameters: {'bagging_freq': 7, 'min_data_in_leaf': 2, 'max_depth': 13, 'learning_rate': 0.09969190812273271, 'num_leaves': 11, 'num_threads': 2, 'min_sum_hessian_in_leaf': 9}. Best is trial 31 with value: 0.1279660008947356.\u001b[0m\n"
     ]
    },
    {
     "name": "stdout",
     "output_type": "stream",
     "text": [
      "[LightGBM] [Warning] min_data_in_leaf is set=18, min_child_samples=20 will be ignored. Current value: min_data_in_leaf=18\n",
      "[LightGBM] [Warning] min_sum_hessian_in_leaf is set=10, min_child_weight=0.001 will be ignored. Current value: min_sum_hessian_in_leaf=10\n",
      "[LightGBM] [Warning] num_threads is set=1, n_jobs=-1 will be ignored. Current value: num_threads=1\n",
      "[LightGBM] [Warning] bagging_freq is set=8, subsample_freq=0 will be ignored. Current value: bagging_freq=8\n"
     ]
    },
    {
     "name": "stderr",
     "output_type": "stream",
     "text": [
      "\u001b[32m[I 2021-06-18 23:52:41,090]\u001b[0m Trial 34 finished with value: 0.12942138511771276 and parameters: {'bagging_freq': 8, 'min_data_in_leaf': 18, 'max_depth': 18, 'learning_rate': 0.06980127800817251, 'num_leaves': 61, 'num_threads': 1, 'min_sum_hessian_in_leaf': 10}. Best is trial 31 with value: 0.1279660008947356.\u001b[0m\n"
     ]
    },
    {
     "name": "stdout",
     "output_type": "stream",
     "text": [
      "[LightGBM] [Warning] min_data_in_leaf is set=31, min_child_samples=20 will be ignored. Current value: min_data_in_leaf=31\n",
      "[LightGBM] [Warning] min_sum_hessian_in_leaf is set=8, min_child_weight=0.001 will be ignored. Current value: min_sum_hessian_in_leaf=8\n",
      "[LightGBM] [Warning] num_threads is set=3, n_jobs=-1 will be ignored. Current value: num_threads=3\n",
      "[LightGBM] [Warning] bagging_freq is set=9, subsample_freq=0 will be ignored. Current value: bagging_freq=9\n"
     ]
    },
    {
     "name": "stderr",
     "output_type": "stream",
     "text": [
      "\u001b[32m[I 2021-06-18 23:52:42,272]\u001b[0m Trial 35 finished with value: 0.1291017572701758 and parameters: {'bagging_freq': 9, 'min_data_in_leaf': 31, 'max_depth': 15, 'learning_rate': 0.0778408870573739, 'num_leaves': 54, 'num_threads': 3, 'min_sum_hessian_in_leaf': 8}. Best is trial 31 with value: 0.1279660008947356.\u001b[0m\n"
     ]
    },
    {
     "name": "stdout",
     "output_type": "stream",
     "text": [
      "[LightGBM] [Warning] min_data_in_leaf is set=7, min_child_samples=20 will be ignored. Current value: min_data_in_leaf=7\n",
      "[LightGBM] [Warning] min_sum_hessian_in_leaf is set=10, min_child_weight=0.001 will be ignored. Current value: min_sum_hessian_in_leaf=10\n",
      "[LightGBM] [Warning] num_threads is set=2, n_jobs=-1 will be ignored. Current value: num_threads=2\n",
      "[LightGBM] [Warning] bagging_freq is set=5, subsample_freq=0 will be ignored. Current value: bagging_freq=5\n"
     ]
    },
    {
     "name": "stderr",
     "output_type": "stream",
     "text": [
      "\u001b[32m[I 2021-06-18 23:52:43,863]\u001b[0m Trial 36 finished with value: 0.20547420893113735 and parameters: {'bagging_freq': 5, 'min_data_in_leaf': 7, 'max_depth': 10, 'learning_rate': 0.0027414619816131633, 'num_leaves': 70, 'num_threads': 2, 'min_sum_hessian_in_leaf': 10}. Best is trial 31 with value: 0.1279660008947356.\u001b[0m\n"
     ]
    },
    {
     "name": "stdout",
     "output_type": "stream",
     "text": [
      "[LightGBM] [Warning] min_data_in_leaf is set=67, min_child_samples=20 will be ignored. Current value: min_data_in_leaf=67\n",
      "[LightGBM] [Warning] min_sum_hessian_in_leaf is set=9, min_child_weight=0.001 will be ignored. Current value: min_sum_hessian_in_leaf=9\n",
      "[LightGBM] [Warning] num_threads is set=1, n_jobs=-1 will be ignored. Current value: num_threads=1\n",
      "[LightGBM] [Warning] bagging_freq is set=6, subsample_freq=0 will be ignored. Current value: bagging_freq=6\n"
     ]
    },
    {
     "name": "stderr",
     "output_type": "stream",
     "text": [
      "\u001b[32m[I 2021-06-18 23:52:46,774]\u001b[0m Trial 37 finished with value: 0.13116494360354186 and parameters: {'bagging_freq': 6, 'min_data_in_leaf': 67, 'max_depth': 17, 'learning_rate': 0.046395838048671784, 'num_leaves': 65, 'num_threads': 1, 'min_sum_hessian_in_leaf': 9}. Best is trial 31 with value: 0.1279660008947356.\u001b[0m\n"
     ]
    },
    {
     "name": "stdout",
     "output_type": "stream",
     "text": [
      "[LightGBM] [Warning] min_data_in_leaf is set=25, min_child_samples=20 will be ignored. Current value: min_data_in_leaf=25\n",
      "[LightGBM] [Warning] min_sum_hessian_in_leaf is set=6, min_child_weight=0.001 will be ignored. Current value: min_sum_hessian_in_leaf=6\n",
      "[LightGBM] [Warning] num_threads is set=10, n_jobs=-1 will be ignored. Current value: num_threads=10\n",
      "[LightGBM] [Warning] bagging_freq is set=7, subsample_freq=0 will be ignored. Current value: bagging_freq=7\n"
     ]
    },
    {
     "name": "stderr",
     "output_type": "stream",
     "text": [
      "\u001b[32m[I 2021-06-18 23:52:47,695]\u001b[0m Trial 38 finished with value: 0.1298083635122033 and parameters: {'bagging_freq': 7, 'min_data_in_leaf': 25, 'max_depth': 20, 'learning_rate': 0.09420141165562398, 'num_leaves': 27, 'num_threads': 10, 'min_sum_hessian_in_leaf': 6}. Best is trial 31 with value: 0.1279660008947356.\u001b[0m\n"
     ]
    },
    {
     "name": "stdout",
     "output_type": "stream",
     "text": [
      "[LightGBM] [Warning] min_data_in_leaf is set=58, min_child_samples=20 will be ignored. Current value: min_data_in_leaf=58\n",
      "[LightGBM] [Warning] min_sum_hessian_in_leaf is set=7, min_child_weight=0.001 will be ignored. Current value: min_sum_hessian_in_leaf=7\n",
      "[LightGBM] [Warning] num_threads is set=4, n_jobs=-1 will be ignored. Current value: num_threads=4\n",
      "[LightGBM] [Warning] bagging_freq is set=5, subsample_freq=0 will be ignored. Current value: bagging_freq=5\n"
     ]
    },
    {
     "name": "stderr",
     "output_type": "stream",
     "text": [
      "\u001b[32m[I 2021-06-18 23:52:48,928]\u001b[0m Trial 39 finished with value: 0.1341945995568536 and parameters: {'bagging_freq': 5, 'min_data_in_leaf': 58, 'max_depth': 13, 'learning_rate': 0.03176990781794929, 'num_leaves': 59, 'num_threads': 4, 'min_sum_hessian_in_leaf': 7}. Best is trial 31 with value: 0.1279660008947356.\u001b[0m\n"
     ]
    },
    {
     "name": "stdout",
     "output_type": "stream",
     "text": [
      "[LightGBM] [Warning] min_data_in_leaf is set=13, min_child_samples=20 will be ignored. Current value: min_data_in_leaf=13\n",
      "[LightGBM] [Warning] min_sum_hessian_in_leaf is set=10, min_child_weight=0.001 will be ignored. Current value: min_sum_hessian_in_leaf=10\n",
      "[LightGBM] [Warning] num_threads is set=3, n_jobs=-1 will be ignored. Current value: num_threads=3\n",
      "[LightGBM] [Warning] bagging_freq is set=8, subsample_freq=0 will be ignored. Current value: bagging_freq=8\n"
     ]
    },
    {
     "name": "stderr",
     "output_type": "stream",
     "text": [
      "\u001b[32m[I 2021-06-18 23:52:49,904]\u001b[0m Trial 40 finished with value: 0.13309027669111206 and parameters: {'bagging_freq': 8, 'min_data_in_leaf': 13, 'max_depth': 9, 'learning_rate': 0.05762878824042231, 'num_leaves': 18, 'num_threads': 3, 'min_sum_hessian_in_leaf': 10}. Best is trial 31 with value: 0.1279660008947356.\u001b[0m\n"
     ]
    },
    {
     "name": "stdout",
     "output_type": "stream",
     "text": [
      "[LightGBM] [Warning] min_data_in_leaf is set=2, min_child_samples=20 will be ignored. Current value: min_data_in_leaf=2\n",
      "[LightGBM] [Warning] min_sum_hessian_in_leaf is set=8, min_child_weight=0.001 will be ignored. Current value: min_sum_hessian_in_leaf=8\n",
      "[LightGBM] [Warning] num_threads is set=1, n_jobs=-1 will be ignored. Current value: num_threads=1\n",
      "[LightGBM] [Warning] bagging_freq is set=7, subsample_freq=0 will be ignored. Current value: bagging_freq=7\n"
     ]
    },
    {
     "name": "stderr",
     "output_type": "stream",
     "text": [
      "\u001b[32m[I 2021-06-18 23:52:53,000]\u001b[0m Trial 41 finished with value: 0.12802594023962563 and parameters: {'bagging_freq': 7, 'min_data_in_leaf': 2, 'max_depth': 14, 'learning_rate': 0.09783092511292227, 'num_leaves': 70, 'num_threads': 1, 'min_sum_hessian_in_leaf': 8}. Best is trial 31 with value: 0.1279660008947356.\u001b[0m\n"
     ]
    },
    {
     "name": "stdout",
     "output_type": "stream",
     "text": [
      "[LightGBM] [Warning] min_data_in_leaf is set=2, min_child_samples=20 will be ignored. Current value: min_data_in_leaf=2\n",
      "[LightGBM] [Warning] min_sum_hessian_in_leaf is set=5, min_child_weight=0.001 will be ignored. Current value: min_sum_hessian_in_leaf=5\n",
      "[LightGBM] [Warning] num_threads is set=2, n_jobs=-1 will be ignored. Current value: num_threads=2\n",
      "[LightGBM] [Warning] bagging_freq is set=6, subsample_freq=0 will be ignored. Current value: bagging_freq=6\n"
     ]
    },
    {
     "name": "stderr",
     "output_type": "stream",
     "text": [
      "\u001b[32m[I 2021-06-18 23:52:54,622]\u001b[0m Trial 42 finished with value: 0.12815276883519192 and parameters: {'bagging_freq': 6, 'min_data_in_leaf': 2, 'max_depth': 14, 'learning_rate': 0.09913181849752228, 'num_leaves': 64, 'num_threads': 2, 'min_sum_hessian_in_leaf': 5}. Best is trial 31 with value: 0.1279660008947356.\u001b[0m\n"
     ]
    },
    {
     "name": "stdout",
     "output_type": "stream",
     "text": [
      "[LightGBM] [Warning] min_data_in_leaf is set=8, min_child_samples=20 will be ignored. Current value: min_data_in_leaf=8\n",
      "[LightGBM] [Warning] min_sum_hessian_in_leaf is set=8, min_child_weight=0.001 will be ignored. Current value: min_sum_hessian_in_leaf=8\n",
      "[LightGBM] [Warning] num_threads is set=1, n_jobs=-1 will be ignored. Current value: num_threads=1\n",
      "[LightGBM] [Warning] bagging_freq is set=7, subsample_freq=0 will be ignored. Current value: bagging_freq=7\n"
     ]
    },
    {
     "name": "stderr",
     "output_type": "stream",
     "text": [
      "\u001b[32m[I 2021-06-18 23:52:57,517]\u001b[0m Trial 43 finished with value: 0.1286991588355047 and parameters: {'bagging_freq': 7, 'min_data_in_leaf': 8, 'max_depth': 12, 'learning_rate': 0.0770757061766055, 'num_leaves': 70, 'num_threads': 1, 'min_sum_hessian_in_leaf': 8}. Best is trial 31 with value: 0.1279660008947356.\u001b[0m\n"
     ]
    },
    {
     "name": "stdout",
     "output_type": "stream",
     "text": [
      "[LightGBM] [Warning] min_data_in_leaf is set=13, min_child_samples=20 will be ignored. Current value: min_data_in_leaf=13\n",
      "[LightGBM] [Warning] min_sum_hessian_in_leaf is set=9, min_child_weight=0.001 will be ignored. Current value: min_sum_hessian_in_leaf=9\n",
      "[LightGBM] [Warning] num_threads is set=1, n_jobs=-1 will be ignored. Current value: num_threads=1\n",
      "[LightGBM] [Warning] bagging_freq is set=6, subsample_freq=0 will be ignored. Current value: bagging_freq=6\n"
     ]
    },
    {
     "name": "stderr",
     "output_type": "stream",
     "text": [
      "\u001b[32m[I 2021-06-18 23:53:00,323]\u001b[0m Trial 44 finished with value: 0.1282294790695539 and parameters: {'bagging_freq': 6, 'min_data_in_leaf': 13, 'max_depth': 15, 'learning_rate': 0.09981387936181674, 'num_leaves': 66, 'num_threads': 1, 'min_sum_hessian_in_leaf': 9}. Best is trial 31 with value: 0.1279660008947356.\u001b[0m\n"
     ]
    },
    {
     "name": "stdout",
     "output_type": "stream",
     "text": [
      "[LightGBM] [Warning] min_data_in_leaf is set=2, min_child_samples=20 will be ignored. Current value: min_data_in_leaf=2\n",
      "[LightGBM] [Warning] min_sum_hessian_in_leaf is set=7, min_child_weight=0.001 will be ignored. Current value: min_sum_hessian_in_leaf=7\n",
      "[LightGBM] [Warning] num_threads is set=2, n_jobs=-1 will be ignored. Current value: num_threads=2\n",
      "[LightGBM] [Warning] bagging_freq is set=7, subsample_freq=0 will be ignored. Current value: bagging_freq=7\n"
     ]
    },
    {
     "name": "stderr",
     "output_type": "stream",
     "text": [
      "\u001b[32m[I 2021-06-18 23:53:02,008]\u001b[0m Trial 45 finished with value: 0.12870910631945393 and parameters: {'bagging_freq': 7, 'min_data_in_leaf': 2, 'max_depth': 17, 'learning_rate': 0.07829274855920304, 'num_leaves': 70, 'num_threads': 2, 'min_sum_hessian_in_leaf': 7}. Best is trial 31 with value: 0.1279660008947356.\u001b[0m\n"
     ]
    },
    {
     "name": "stdout",
     "output_type": "stream",
     "text": [
      "[LightGBM] [Warning] min_data_in_leaf is set=98, min_child_samples=20 will be ignored. Current value: min_data_in_leaf=98\n",
      "[LightGBM] [Warning] min_sum_hessian_in_leaf is set=8, min_child_weight=0.001 will be ignored. Current value: min_sum_hessian_in_leaf=8\n",
      "[LightGBM] [Warning] num_threads is set=1, n_jobs=-1 will be ignored. Current value: num_threads=1\n",
      "[LightGBM] [Warning] bagging_freq is set=8, subsample_freq=0 will be ignored. Current value: bagging_freq=8\n"
     ]
    },
    {
     "name": "stderr",
     "output_type": "stream",
     "text": [
      "\u001b[32m[I 2021-06-18 23:53:04,912]\u001b[0m Trial 46 finished with value: 0.1320675767303199 and parameters: {'bagging_freq': 8, 'min_data_in_leaf': 98, 'max_depth': 16, 'learning_rate': 0.0410967200940939, 'num_leaves': 62, 'num_threads': 1, 'min_sum_hessian_in_leaf': 8}. Best is trial 31 with value: 0.1279660008947356.\u001b[0m\n"
     ]
    },
    {
     "name": "stdout",
     "output_type": "stream",
     "text": [
      "[LightGBM] [Warning] min_data_in_leaf is set=6, min_child_samples=20 will be ignored. Current value: min_data_in_leaf=6\n",
      "[LightGBM] [Warning] min_sum_hessian_in_leaf is set=9, min_child_weight=0.001 will be ignored. Current value: min_sum_hessian_in_leaf=9\n",
      "[LightGBM] [Warning] num_threads is set=2, n_jobs=-1 will be ignored. Current value: num_threads=2\n",
      "[LightGBM] [Warning] bagging_freq is set=7, subsample_freq=0 will be ignored. Current value: bagging_freq=7\n"
     ]
    },
    {
     "name": "stderr",
     "output_type": "stream",
     "text": [
      "\u001b[32m[I 2021-06-18 23:53:06,549]\u001b[0m Trial 47 finished with value: 0.13079856485294764 and parameters: {'bagging_freq': 7, 'min_data_in_leaf': 6, 'max_depth': 14, 'learning_rate': 0.05219727705854251, 'num_leaves': 56, 'num_threads': 2, 'min_sum_hessian_in_leaf': 9}. Best is trial 31 with value: 0.1279660008947356.\u001b[0m\n"
     ]
    },
    {
     "name": "stdout",
     "output_type": "stream",
     "text": [
      "[LightGBM] [Warning] min_data_in_leaf is set=20, min_child_samples=20 will be ignored. Current value: min_data_in_leaf=20\n",
      "[LightGBM] [Warning] min_sum_hessian_in_leaf is set=6, min_child_weight=0.001 will be ignored. Current value: min_sum_hessian_in_leaf=6\n",
      "[LightGBM] [Warning] num_threads is set=5, n_jobs=-1 will be ignored. Current value: num_threads=5\n",
      "[LightGBM] [Warning] bagging_freq is set=9, subsample_freq=0 will be ignored. Current value: bagging_freq=9\n"
     ]
    },
    {
     "name": "stderr",
     "output_type": "stream",
     "text": [
      "\u001b[32m[I 2021-06-18 23:53:07,712]\u001b[0m Trial 48 finished with value: 0.23068662283992306 and parameters: {'bagging_freq': 9, 'min_data_in_leaf': 20, 'max_depth': 11, 'learning_rate': 0.0010166052560357595, 'num_leaves': 67, 'num_threads': 5, 'min_sum_hessian_in_leaf': 6}. Best is trial 31 with value: 0.1279660008947356.\u001b[0m\n"
     ]
    },
    {
     "name": "stdout",
     "output_type": "stream",
     "text": [
      "[LightGBM] [Warning] min_data_in_leaf is set=16, min_child_samples=20 will be ignored. Current value: min_data_in_leaf=16\n",
      "[LightGBM] [Warning] min_sum_hessian_in_leaf is set=5, min_child_weight=0.001 will be ignored. Current value: min_sum_hessian_in_leaf=5\n",
      "[LightGBM] [Warning] num_threads is set=1, n_jobs=-1 will be ignored. Current value: num_threads=1\n",
      "[LightGBM] [Warning] bagging_freq is set=5, subsample_freq=0 will be ignored. Current value: bagging_freq=5\n"
     ]
    },
    {
     "name": "stderr",
     "output_type": "stream",
     "text": [
      "\u001b[32m[I 2021-06-18 23:53:10,509]\u001b[0m Trial 49 finished with value: 0.12905126056404392 and parameters: {'bagging_freq': 5, 'min_data_in_leaf': 16, 'max_depth': 18, 'learning_rate': 0.0791141342693928, 'num_leaves': 60, 'num_threads': 1, 'min_sum_hessian_in_leaf': 5}. Best is trial 31 with value: 0.1279660008947356.\u001b[0m\n"
     ]
    },
    {
     "name": "stdout",
     "output_type": "stream",
     "text": [
      "Wall time: 1min 30s\n"
     ]
    }
   ],
   "source": [
    "%%time\n",
    "study = optuna.create_study()\n",
    "study.optimize(objective, n_trials=50)"
   ]
  },
  {
   "cell_type": "code",
   "execution_count": 10,
   "id": "64d0f7e1-991a-45b5-9759-6c139a4a967b",
   "metadata": {},
   "outputs": [
    {
     "name": "stdout",
     "output_type": "stream",
     "text": [
      "accuracy: 0.1279660008947356\n",
      "best hyperparameters: {'bagging_freq': 7, 'min_data_in_leaf': 4, 'max_depth': 14, 'learning_rate': 0.0980413357827496, 'num_leaves': 69, 'num_threads': 1, 'min_sum_hessian_in_leaf': 8}\n"
     ]
    }
   ],
   "source": [
    "trial = study.best_trial\n",
    "print('accuracy: {}'.format(trial.value))\n",
    "print('best hyperparameters: {}'.format(trial.params))"
   ]
  },
  {
   "cell_type": "code",
   "execution_count": 11,
   "id": "6fb097ca-ea21-4111-9457-314a4ed8fb53",
   "metadata": {},
   "outputs": [],
   "source": [
    "pd_param = pd.DataFrame([trial.params])\n",
    "pd_param.to_csv('model_params.csv', index=False)"
   ]
  },
  {
   "cell_type": "markdown",
   "id": "64b6790a-241a-48f5-9458-5b7da6ebfc77",
   "metadata": {},
   "source": [
    "# <font color='blue'>Model </font>"
   ]
  },
  {
   "cell_type": "code",
   "execution_count": 12,
   "id": "7c196ad2-56cb-4fab-b81a-8f5f17f37e84",
   "metadata": {},
   "outputs": [
    {
     "name": "stdout",
     "output_type": "stream",
     "text": [
      "[LightGBM] [Warning] min_data_in_leaf is set=4, min_child_samples=20 will be ignored. Current value: min_data_in_leaf=4\n",
      "[LightGBM] [Warning] min_sum_hessian_in_leaf is set=8, min_child_weight=0.001 will be ignored. Current value: min_sum_hessian_in_leaf=8\n",
      "[LightGBM] [Warning] num_threads is set=1, n_jobs=-1 will be ignored. Current value: num_threads=1\n",
      "[LightGBM] [Warning] bagging_freq is set=7, subsample_freq=0 will be ignored. Current value: bagging_freq=7\n",
      "Wall time: 2.26 s\n"
     ]
    },
    {
     "data": {
      "text/plain": [
       "LGBMClassifier(bagging_freq=7, learning_rate=0.0980413357827496, max_depth=14,\n",
       "               min_data_in_leaf=4, min_sum_hessian_in_leaf=8, num_leaves=69,\n",
       "               num_threads=1)"
      ]
     },
     "execution_count": 12,
     "metadata": {},
     "output_type": "execute_result"
    }
   ],
   "source": [
    "%%time\n",
    "model = lightgbm.LGBMClassifier(bagging_freq=trial.params[\"bagging_freq\"], min_data_in_leaf=trial.params[\"min_data_in_leaf\"],\n",
    "                                max_depth=trial.params[\"max_depth\"],\n",
    "                                learning_rate=trial.params[\"learning_rate\"], num_leaves=trial.params[\"num_leaves\"],\n",
    "                                num_threads=trial.params[\"num_threads\"], min_sum_hessian_in_leaf=trial.params[\"min_sum_hessian_in_leaf\"])\n",
    "model.fit(X_train, Y_train)"
   ]
  },
  {
   "cell_type": "markdown",
   "id": "e6e327ff-4973-4f34-bfec-63477e157dc0",
   "metadata": {},
   "source": [
    "# <font color='blue'>Feature importance </font>"
   ]
  },
  {
   "cell_type": "code",
   "execution_count": 13,
   "id": "6a55adab-5c21-4f0c-9a73-72be5a7bb5e6",
   "metadata": {},
   "outputs": [
    {
     "data": {
      "image/png": "[encoded data removed]",
      "text/plain": [
       "<Figure size 1440x720 with 1 Axes>"
      ]
     },
     "metadata": {
      "needs_background": "light"
     },
     "output_type": "display_data"
    }
   ],
   "source": [
    "feature_imp = pd.DataFrame(sorted(zip(model.feature_importances_,X.columns)), columns=['Value','Feature'])\n",
    "\n",
    "plt.figure(figsize=(20, 10))\n",
    "sns.barplot(x=\"Value\", y=\"Feature\", data=feature_imp.sort_values(by=\"Value\", ascending=False))\n",
    "plt.title('Features')\n",
    "plt.tight_layout()\n",
    "plt.show()"
   ]
  },
  {
   "cell_type": "markdown",
   "id": "12583ac3-5dbf-4ddc-9639-32518330f4a6",
   "metadata": {},
   "source": [
    "# <font color='blue'>MODEL PRECISION </font>"
   ]
  },
  {
   "cell_type": "code",
   "execution_count": 14,
   "id": "06070666-6d74-430c-88d9-fb167fdbe223",
   "metadata": {},
   "outputs": [
    {
     "data": {
      "image/png": "[encoded data removed]",
      "text/plain": [
       "<Figure size 720x360 with 1 Axes>"
      ]
     },
     "metadata": {
      "needs_background": "light"
     },
     "output_type": "display_data"
    },
    {
     "name": "stdout",
     "output_type": "stream",
     "text": [
      "Wall time: 4.79 s\n"
     ]
    }
   ],
   "source": [
    "%%time\n",
    "plt.figure(figsize = (10,5))\n",
    "\n",
    "pred_proba = model.predict_proba(X_train)\n",
    "pred_proba_test = model.predict_proba(X_test)\n",
    "\n",
    "gmt = [\"accuracy train\", \"accuracy test\", \"log loss train\", \"log loss test\", \"brier score train\", \"brier score test\"]\n",
    "metrics = {'Labels': gmt,\n",
    "           'Value': [model.score(X_train, Y_train), model.score(X_test, Y_test),\n",
    "                     log_loss(Y_train, pred_proba),log_loss(Y_test, pred_proba_test),\n",
    "                     brier_score_loss(Y_train, pd.DataFrame(pred_proba)[1]),brier_score_loss(Y_test, pd.DataFrame(pred_proba_test)[1])]\n",
    "           }\n",
    "\n",
    "sns.set_context(rc = {'patch.linewidth': 2.0})\n",
    "sns.set(font_scale=1.3)\n",
    "ax = sns.barplot(x='Labels', y='Value', data=metrics, linewidth=2.0, edgecolor=\".2\", zorder=3, palette=sns.color_palette(\"deep\"))\n",
    "\n",
    "plt.ylabel('%')\n",
    "#plt.gca().yaxis.set_major_locator(ticker.MultipleLocator(.1))\n",
    "ax.grid(linewidth=1, color='white', zorder=0)\n",
    "ax.set_facecolor(\"#d7d7e0\")\n",
    "plt.title(\"Test metrics\")\n",
    "plt.show()"
   ]
  },
  {
   "cell_type": "code",
   "execution_count": 15,
   "id": "bec91f97-a136-4c9e-8bcd-d4dadd2b51ac",
   "metadata": {},
   "outputs": [
    {
     "name": "stdout",
     "output_type": "stream",
     "text": [
      "Brier score → 0.1279660008947356\n"
     ]
    }
   ],
   "source": [
    "print(\"Brier score → {}\".format(brier_score_loss(Y_test, pd.DataFrame(pred_proba_test)[1])))\n"
   ]
  },
  {
   "cell_type": "markdown",
   "id": "36809529-50ac-4ef1-afde-f6216c8e1bae",
   "metadata": {},
   "source": [
    "# <font color='blue'>REALIBITY CURVE </font>"
   ]
  },
  {
   "cell_type": "code",
   "execution_count": 16,
   "id": "0dc5cc59-ca86-46eb-8ec1-19aaeb561605",
   "metadata": {},
   "outputs": [
    {
     "data": {
      "image/png": "[encoded data removed]",
      "text/plain": [
       "<Figure size 1152x432 with 1 Axes>"
      ]
     },
     "metadata": {},
     "output_type": "display_data"
    },
    {
     "name": "stdout",
     "output_type": "stream",
     "text": [
      "Wall time: 171 ms\n"
     ]
    },
    {
     "data": {
      "text/plain": [
       "Text(0.5, 0, 'mean predicted value')"
      ]
     },
     "execution_count": 16,
     "metadata": {},
     "output_type": "execute_result"
    },
    {
     "data": {
      "image/png": "[encoded data removed]",
      "text/plain": [
       "<Figure size 1152x432 with 1 Axes>"
      ]
     },
     "metadata": {},
     "output_type": "display_data"
    }
   ],
   "source": [
    "%%time\n",
    "plt.figure(figsize=(16,6))\n",
    "plt.plot([0,1], [0,1], 'k:', label='flawless curve')\n",
    "x, y = calibration_curve(Y_test, pd.DataFrame(pred_proba_test)[1], n_bins=25)\n",
    "plt.plot(x, y, 's-', label='LGBM')\n",
    "plt.legend(loc='lower right')\n",
    "plt.title('Probability Calibration Curve')\n",
    "plt.ylabel('amount of positives')\n",
    "plt.xlabel('mean predicted value')\n",
    "plt.gca().xaxis.set_major_locator(ticker.MultipleLocator(0.1))\n",
    "plt.show()\n",
    "\n",
    "plt.figure(figsize=(16,6))\n",
    "plt.hist(pd.DataFrame(pred_proba_test)[1], range=(0,1), bins=25, histtype=\"step\", lw=2, fill=True, color='tab:green',\n",
    "        edgecolor='black', linewidth=1.5)\n",
    "plt.title('Predicted Value Distribution for LGBM')\n",
    "plt.ylabel('count')\n",
    "plt.xlabel('mean predicted value')"
   ]
  },
  {
   "cell_type": "markdown",
   "id": "c8d4e344-4c7c-4723-b7ca-e7f9575fa5f5",
   "metadata": {},
   "source": [
    "# <font color='blue'>CONFUSION MATRIX </font>"
   ]
  },
  {
   "cell_type": "code",
   "execution_count": 17,
   "id": "fdf833d6-f94d-4144-8104-19f92e41a9c4",
   "metadata": {},
   "outputs": [
    {
     "data": {
      "image/png": "[encoded data removed]",
      "text/plain": [
       "<Figure size 576x432 with 2 Axes>"
      ]
     },
     "metadata": {},
     "output_type": "display_data"
    }
   ],
   "source": [
    "plt.figure(figsize = (8,6))\n",
    "cm = confusion_matrix(Y_test, model.predict(X_test, num_iteration=50))\n",
    "cm = (cm/cm.sum(axis=1).reshape(-1,1))\n",
    "\n",
    "sns.heatmap(cm, cmap=\"YlGnBu\", vmin=0., vmax=1., annot=True, annot_kws={'size':45})\n",
    "plt.title(\"wa\", fontsize = 5)\n",
    "plt.ylabel('Predicted label')\n",
    "plt.xlabel('True label')\n",
    "plt.show()"
   ]
  },
  {
   "cell_type": "code",
   "execution_count": 18,
   "id": "0b9e7fb1-d11b-4f2a-9430-d0ce97655152",
   "metadata": {},
   "outputs": [
    {
     "data": {
      "text/plain": [
       "0.8069097643425968"
      ]
     },
     "execution_count": 18,
     "metadata": {},
     "output_type": "execute_result"
    }
   ],
   "source": [
    "Y_pred = model.predict(X_test)\n",
    "classification_report(Y_test, Y_pred, output_dict=True)[\"weighted avg\"][\"f1-score\"]"
   ]
  }
 ],
 "metadata": {
  "kernelspec": {
   "display_name": "Python 3",
   "language": "python",
   "name": "python3"
  },
  "language_info": {
   "codemirror_mode": {
    "name": "ipython",
    "version": 3
   },
   "file_extension": ".py",
   "mimetype": "text/x-python",
   "name": "python",
   "nbconvert_exporter": "python",
   "pygments_lexer": "ipython3",
   "version": "3.8.8"
  }
 },
 "nbformat": 4,
 "nbformat_minor": 5
}
