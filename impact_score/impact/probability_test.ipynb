{
 "cells": [
  {
   "cell_type": "code",
   "execution_count": 1,
   "metadata": {
    "collapsed": true,
    "pycharm": {
     "name": "#%%\n"
    }
   },
   "outputs": [
    {
     "name": "stdout",
     "output_type": "stream",
     "text": [
      "[LightGBM] [Warning] min_data_in_leaf is set=60, min_child_samples=20 will be ignored. Current value: min_data_in_leaf=60\n",
      "[LightGBM] [Warning] min_sum_hessian_in_leaf is set=3, min_child_weight=0.001 will be ignored. Current value: min_sum_hessian_in_leaf=3\n",
      "[LightGBM] [Warning] num_threads is set=9, n_jobs=-1 will be ignored. Current value: num_threads=9\n",
      "[LightGBM] [Warning] bagging_freq is set=7, subsample_freq=0 will be ignored. Current value: bagging_freq=7\n"
     ]
    }
   ],
   "source": [
    "from impact_score.json_analyser.wrap.gamestate_exporter import ProbabilityTester\n",
    "\n",
    "pt = ProbabilityTester()"
   ]
  },
  {
   "cell_type": "code",
   "execution_count": 11,
   "outputs": [
    {
     "name": "stdout",
     "output_type": "stream",
     "text": [
      "{'RegularTime': 0, 'SpikeTime': 0, 'ATK_operators': 0, 'ATK_kills': 1, 'ATK_Initiator': 1, 'ATK_Duelist': 0, 'ATK_Sentinel': 0, 'ATK_Controller': 2, 'DEF_operators': 0, 'DEF_kills': 2, 'DEF_Initiator': 2, 'DEF_Duelist': 1, 'DEF_Sentinel': 0, 'DEF_Controller': 1, 'Loadout_diff': -7850, 'atkCompaction': 124.71803625343355, 'defCompaction': 138.72404610366047}\n",
      "0.304093076610989\n"
     ]
    }
   ],
   "source": [
    "pt.import_gamestate(match_id=74099, round_number=21, event_index=4)\n",
    "print(pt.gamestate)\n",
    "print(pt.test_probability())"
   ],
   "metadata": {
    "collapsed": false,
    "pycharm": {
     "name": "#%%\n"
    }
   }
  },
  {
   "cell_type": "code",
   "execution_count": 6,
   "outputs": [
    {
     "data": {
      "text/plain": "{'RegularTime': 0,\n 'SpikeTime': 21,\n 'ATK_operators': 0,\n 'ATK_kills': 0,\n 'ATK_Initiator': 1,\n 'ATK_Duelist': 0,\n 'ATK_Sentinel': 0,\n 'ATK_Controller': 2,\n 'DEF_operators': 0,\n 'DEF_kills': 2,\n 'DEF_Initiator': 2,\n 'DEF_Duelist': 1,\n 'DEF_Sentinel': 0,\n 'DEF_Controller': 2,\n 'Loadout_diff': -12350,\n 'atkCompaction': 153.98943821846908,\n 'defCompaction': 117.10386406627924}"
     },
     "execution_count": 6,
     "metadata": {},
     "output_type": "execute_result"
    }
   ],
   "source": [
    "example = pt.gamestate\n",
    "example"
   ],
   "metadata": {
    "collapsed": false,
    "pycharm": {
     "name": "#%%\n"
    }
   }
  },
  {
   "cell_type": "code",
   "execution_count": 59,
   "outputs": [
    {
     "data": {
      "text/plain": "0.4900011804094436"
     },
     "execution_count": 59,
     "metadata": {},
     "output_type": "execute_result"
    }
   ],
   "source": [],
   "metadata": {
    "collapsed": false,
    "pycharm": {
     "name": "#%%\n"
    }
   }
  }
 ],
 "metadata": {
  "kernelspec": {
   "display_name": "Python 3",
   "language": "python",
   "name": "python3"
  },
  "language_info": {
   "codemirror_mode": {
    "name": "ipython",
    "version": 2
   },
   "file_extension": ".py",
   "mimetype": "text/x-python",
   "name": "python",
   "nbconvert_exporter": "python",
   "pygments_lexer": "ipython2",
   "version": "2.7.6"
  }
 },
 "nbformat": 4,
 "nbformat_minor": 0
}