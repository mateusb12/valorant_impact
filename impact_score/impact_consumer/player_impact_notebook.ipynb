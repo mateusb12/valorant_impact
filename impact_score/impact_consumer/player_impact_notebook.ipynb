{
 "cells": [
  {
   "cell_type": "code",
   "execution_count": 1,
   "metadata": {
    "collapsed": true
   },
   "outputs": [
    {
     "name": "stdout",
     "output_type": "stream",
     "text": [
      "Analyser created!\n"
     ]
    }
   ],
   "source": [
    "from impact_consumer import export_impact, export_players_impact\n",
    "from impact_score.json_analyser.analyse_json import Analyser\n",
    "import pandas as pd\n",
    "a = Analyser()"
   ]
  },
  {
   "cell_type": "code",
   "execution_count": 2,
   "outputs": [],
   "source": [
    "test = export_impact(match_id=60206, input_analyser=a)"
   ],
   "metadata": {
    "collapsed": false,
    "pycharm": {
     "name": "#%%\n"
    }
   }
  },
  {
   "cell_type": "code",
   "execution_count": 5,
   "outputs": [
    {
     "data": {
      "text/plain": "1.8279845737396045"
     },
     "execution_count": 5,
     "metadata": {},
     "output_type": "execute_result"
    }
   ],
   "source": [
    "example = export_players_impact(match_id=60206, input_analyser=a, player_name='ScreaM')\n",
    "example"
   ],
   "metadata": {
    "collapsed": false,
    "pycharm": {
     "name": "#%%\n"
    }
   }
  },
  {
   "cell_type": "code",
   "execution_count": 22,
   "outputs": [
    {
     "name": "stdout",
     "output_type": "stream",
     "text": [
      "Processing match 58764\n",
      "Processing match 58763\n",
      "Processing match 58762\n",
      "Processing match 58165\n",
      "Processing match 58164\n",
      "Processing match 58021\n",
      "Processing match 58020\n",
      "Processing match 56546\n",
      "Processing match 56545\n",
      "Processing match 56544\n",
      "Processing match 55752\n",
      "Processing match 55751\n",
      "Processing match 55750\n",
      "Processing match 55035\n",
      "Processing match 55034\n",
      "Processing match 55033\n",
      "Processing match 54529\n",
      "Processing match 54528\n",
      "Processing match 54527\n",
      "Processing match 44888\n",
      "Match 44888 failed\n",
      "Processing match 44887\n",
      "Match 44887 failed\n",
      "Processing match 44886\n",
      "Match 44886 failed\n",
      "Processing match 44851\n",
      "Match 44851 failed\n",
      "Processing match 44850\n",
      "Match 44850 failed\n",
      "Processing match 44849\n",
      "Match 44849 failed\n",
      "Processing match 43620\n",
      "Match 43620 failed\n",
      "Processing match 43619\n",
      "Match 43619 failed\n",
      "Processing match 43618\n",
      "Match 43618 failed\n",
      "Processing match 37814\n",
      "Match 37814 failed\n",
      "Processing match 37813\n",
      "Match 37813 failed\n",
      "Processing match 37547\n",
      "Match 37547 failed\n",
      "Processing match 37546\n",
      "Match 37546 failed\n",
      "Processing match 37545\n",
      "Match 37545 failed\n",
      "Processing match 37543\n",
      "Match 37543 failed\n",
      "Processing match 37542\n",
      "Match 37542 failed\n",
      "Processing match 37472\n",
      "Match 37472 failed\n",
      "Processing match 37471\n",
      "Match 37471 failed\n",
      "Processing match 37470\n",
      "Match 37470 failed\n",
      "Processing match 37469\n",
      "Match 37469 failed\n",
      "Processing match 37468\n",
      "Match 37468 failed\n",
      "Processing match 35172\n",
      "Match 35172 failed\n",
      "Processing match 35171\n",
      "Match 35171 failed\n",
      "Processing match 35170\n",
      "Match 35170 failed\n",
      "Processing match 35169\n",
      "Match 35169 failed\n",
      "Processing match 35009\n",
      "Match 35009 failed\n",
      "Processing match 35008\n",
      "Match 35008 failed\n",
      "Processing match 34995\n",
      "Match 34995 failed\n",
      "Processing match 34994\n",
      "Match 34994 failed\n",
      "Processing match 34124\n",
      "Match 34124 failed\n",
      "Processing match 34123\n",
      "Match 34123 failed\n",
      "Processing match 34122\n",
      "Match 34122 failed\n",
      "Processing match 30562\n",
      "Match 30562 failed\n",
      "Processing match 30561\n",
      "Match 30561 failed\n",
      "Processing match 30560\n",
      "Match 30560 failed\n",
      "Processing match 30559\n",
      "Match 30559 failed\n",
      "Processing match 30557\n",
      "Match 30557 failed\n",
      "Processing match 30556\n",
      "Match 30556 failed\n",
      "Processing match 30513\n",
      "Match 30513 failed\n",
      "Processing match 30512\n",
      "Match 30512 failed\n",
      "Processing match 30504\n",
      "Match 30504 failed\n",
      "Processing match 30503\n",
      "Match 30503 failed\n",
      "Processing match 30418\n",
      "Match 30418 failed\n",
      "Processing match 30417\n",
      "Match 30417 failed\n",
      "Processing match 30416\n",
      "Match 30416 failed\n",
      "Processing match 29826\n",
      "Match 29826 failed\n",
      "Processing match 29825\n",
      "Match 29825 failed\n",
      "Processing match 29824\n",
      "Match 29824 failed\n",
      "Processing match 29376\n",
      "Match 29376 failed\n",
      "Processing match 29375\n",
      "Match 29375 failed\n",
      "Processing match 29374\n",
      "Match 29374 failed\n",
      "Processing match 29208\n",
      "Match 29208 failed\n",
      "Processing match 29207\n",
      "Match 29207 failed\n",
      "Processing match 25663\n",
      "Match 25663 failed\n",
      "Processing match 25662\n",
      "Match 25662 failed\n",
      "Processing match 25661\n",
      "Match 25661 failed\n",
      "Processing match 25649\n",
      "Match 25649 failed\n",
      "Processing match 25648\n",
      "Match 25648 failed\n",
      "Processing match 25609\n",
      "Match 25609 failed\n",
      "Processing match 25608\n",
      "Match 25608 failed\n",
      "Processing match 25352\n",
      "Match 25352 failed\n",
      "Processing match 25351\n",
      "Match 25351 failed\n",
      "Processing match 23697\n",
      "Match 23697 failed\n",
      "Processing match 23696\n",
      "Match 23696 failed\n",
      "Processing match 23695\n",
      "Match 23695 failed\n",
      "Processing match 23604\n",
      "Match 23604 failed\n",
      "Processing match 23603\n",
      "Match 23603 failed\n",
      "Processing match 23602\n",
      "Match 23602 failed\n",
      "Processing match 23505\n",
      "Match 23505 failed\n",
      "Processing match 23504\n",
      "Match 23504 failed\n",
      "Processing match 23503\n",
      "Match 23503 failed\n",
      "Processing match 23308\n",
      "Match 23308 failed\n",
      "Processing match 23307\n",
      "Match 23307 failed\n",
      "Processing match 23306\n",
      "Match 23306 failed\n",
      "Processing match 22874\n",
      "Match 22874 failed\n",
      "Processing match 22873\n",
      "Match 22873 failed\n",
      "Processing match 22872\n",
      "Match 22872 failed\n",
      "Processing match 22870\n",
      "Match 22870 failed\n",
      "Processing match 22869\n",
      "Match 22869 failed\n",
      "Processing match 22703\n",
      "Match 22703 failed\n",
      "Processing match 22702\n",
      "Match 22702 failed\n",
      "Processing match 22701\n",
      "Match 22701 failed\n",
      "Processing match 22681\n",
      "Match 22681 failed\n",
      "Processing match 22680\n",
      "Match 22680 failed\n",
      "Processing match 22573\n",
      "Match 22573 failed\n",
      "Processing match 22572\n",
      "Match 22572 failed\n",
      "Processing match 22571\n",
      "Match 22571 failed\n",
      "Processing match 22326\n",
      "Match 22326 failed\n",
      "Processing match 22325\n",
      "Match 22325 failed\n",
      "Processing match 21862\n",
      "Match 21862 failed\n",
      "Processing match 21861\n",
      "Match 21861 failed\n",
      "Processing match 21844\n",
      "Match 21844 failed\n",
      "Processing match 21843\n",
      "Match 21843 failed\n",
      "Processing match 21745\n",
      "Match 21745 failed\n",
      "Processing match 21744\n",
      "Match 21744 failed\n",
      "Processing match 21466\n",
      "Match 21466 failed\n",
      "Processing match 21465\n",
      "Match 21465 failed\n",
      "Processing match 21430\n",
      "Match 21430 failed\n",
      "Processing match 21429\n",
      "Match 21429 failed\n",
      "Processing match 18649\n",
      "Match 18649 failed\n",
      "Processing match 18648\n",
      "Match 18648 failed\n",
      "Processing match 18540\n",
      "Match 18540 failed\n",
      "Processing match 18539\n",
      "Match 18539 failed\n",
      "Processing match 18247\n",
      "Match 18247 failed\n",
      "Processing match 18246\n",
      "Match 18246 failed\n",
      "Processing match 18208\n",
      "Match 18208 failed\n",
      "Processing match 18207\n",
      "Match 18207 failed\n",
      "Processing match 16388\n",
      "Match 16388 failed\n",
      "Processing match 16387\n",
      "Match 16387 failed\n",
      "Processing match 16386\n",
      "Match 16386 failed\n",
      "Processing match 16139\n",
      "Match 16139 failed\n",
      "Processing match 16138\n",
      "Match 16138 failed\n",
      "Processing match 15675\n",
      "Match 15675 failed\n",
      "Processing match 15674\n",
      "Match 15674 failed\n",
      "Processing match 15480\n",
      "Match 15480 failed\n",
      "Processing match 15479\n",
      "Match 15479 failed\n",
      "Processing match 15478\n",
      "Match 15478 failed\n"
     ]
    },
    {
     "data": {
      "text/plain": "{58764: 3.497877347425029,\n 58763: 2.0882763413943786,\n 58762: 5.261092897958224,\n 58165: 0.408223061900787,\n 58164: 2.78385053300817,\n 58021: 1.8077270306463407,\n 58020: 1.3730187769785986,\n 56546: 2.3960769324045508,\n 56545: 2.9884290771631505,\n 56544: 1.0608115101667082,\n 55752: 1.9582016457676796,\n 55751: 3.627069248689473,\n 55750: 1.3553457038127947,\n 55035: 3.567615107622294,\n 55034: 3.3285957939468416,\n 55033: 3.4885361080370316,\n 54529: 3.5164455613753844,\n 54528: 3.658289132202327,\n 54527: 3.1826231376936795}"
     },
     "execution_count": 22,
     "metadata": {},
     "output_type": "execute_result"
    }
   ],
   "source": [
    "filename = \"tenz_matches.csv\"\n",
    "playername = 'TenZ'\n",
    "raw_ids = pd.read_csv(filename)\n",
    "raw_ids.columns = [c.replace(' ', '_') for c in raw_ids.columns]\n",
    "player_ids = raw_ids[\"Match_Id\"].to_list()\n",
    "impact_dict = {}\n",
    "for match in player_ids:\n",
    "    print(f\"Processing match {match}\")\n",
    "    try:\n",
    "        player_impact = export_players_impact(match_id=match, input_analyser=a, player_name=playername)\n",
    "        impact_dict[match] = player_impact\n",
    "    except TypeError:\n",
    "        print(f\"Match {match} failed\")\n",
    "        continue\n",
    "\n",
    "impact_dict"
   ],
   "metadata": {
    "collapsed": false,
    "pycharm": {
     "name": "#%%\n"
    }
   }
  },
  {
   "cell_type": "code",
   "execution_count": 24,
   "outputs": [
    {
     "data": {
      "text/plain": "[(58762, 5.261092897958224),\n (54528, 3.658289132202327),\n (55751, 3.627069248689473),\n (55035, 3.567615107622294),\n (54529, 3.5164455613753844),\n (58764, 3.497877347425029),\n (55033, 3.4885361080370316),\n (55034, 3.3285957939468416),\n (54527, 3.1826231376936795),\n (56545, 2.9884290771631505),\n (58164, 2.78385053300817),\n (56546, 2.3960769324045508),\n (58763, 2.0882763413943786),\n (55752, 1.9582016457676796),\n (58021, 1.8077270306463407),\n (58020, 1.3730187769785986),\n (55750, 1.3553457038127947),\n (56544, 1.0608115101667082),\n (58165, 0.408223061900787)]"
     },
     "execution_count": 24,
     "metadata": {},
     "output_type": "execute_result"
    }
   ],
   "source": [
    "# Sort impact_dict by value\n",
    "sorted_impact = sorted(impact_dict.items(), key=lambda x: x[1], reverse=True)\n",
    "sorted_impact"
   ],
   "metadata": {
    "collapsed": false,
    "pycharm": {
     "name": "#%%\n"
    }
   }
  },
  {
   "cell_type": "code",
   "execution_count": null,
   "outputs": [],
   "source": [],
   "metadata": {
    "collapsed": false,
    "pycharm": {
     "name": "#%%\n"
    }
   }
  }
 ],
 "metadata": {
  "kernelspec": {
   "display_name": "Python 3",
   "language": "python",
   "name": "python3"
  },
  "language_info": {
   "codemirror_mode": {
    "name": "ipython",
    "version": 2
   },
   "file_extension": ".py",
   "mimetype": "text/x-python",
   "name": "python",
   "nbconvert_exporter": "python",
   "pygments_lexer": "ipython2",
   "version": "2.7.6"
  }
 },
 "nbformat": 4,
 "nbformat_minor": 0
}