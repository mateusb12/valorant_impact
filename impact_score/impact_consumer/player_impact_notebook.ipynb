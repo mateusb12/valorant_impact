{
 "cells": [
  {
   "cell_type": "code",
   "execution_count": 48,
   "metadata": {
    "collapsed": true
   },
   "outputs": [
    {
     "name": "stdout",
     "output_type": "stream",
     "text": [
      "Analyser created!\n"
     ]
    }
   ],
   "source": [
    "from impact_consumer import export_impact, export_players_impact, export_probability_points, generate_probability_dataframe\n",
    "from impact_score.json_analyser.api_consumer import get_impact_details\n",
    "from impact_score.json_analyser.analyse_json import Analyser\n",
    "import pandas as pd\n",
    "from matplotlib.lines import Line2D\n",
    "import matplotlib.pyplot as plt\n",
    "import matplotlib.patches as mpatches\n",
    "a = Analyser()"
   ]
  },
  {
   "cell_type": "code",
   "execution_count": 2,
   "outputs": [],
   "source": [
    "match_id = 60206"
   ],
   "metadata": {
    "collapsed": false,
    "pycharm": {
     "name": "#%%\n"
    }
   }
  },
  {
   "cell_type": "code",
   "execution_count": 3,
   "outputs": [],
   "source": [
    "data = export_probability_points(match_id)[\"Round_3\"]\n",
    "y_values = data[\"probability_points\"]\n",
    "x_values = data[\"timestamp_points\"]"
   ],
   "metadata": {
    "collapsed": false,
    "pycharm": {
     "name": "#%%\n"
    }
   }
  },
  {
   "cell_type": "code",
   "execution_count": 5,
   "outputs": [
    {
     "data": {
      "text/plain": "{'probability_points': [0.5314892479257054,\n  0.5314892479257054,\n  0.5729435024829793,\n  0.33180982892057026,\n  0.34917054646553625,\n  0.5725792996409509,\n  0.5725792996409509,\n  0.7551727497024044,\n  0.7475576436764222,\n  0.9029712151166737,\n  0.9325508909217101,\n  0.9325508909217101,\n  0.9325508909217101,\n  0.9847887774577264,\n  0.9876428608558843,\n  1.0],\n 'timestamp_points': [0.0,\n  0.0,\n  8.299,\n  8.299,\n  42.78,\n  42.78,\n  44.737,\n  44.737,\n  56.215,\n  56.215,\n  63.842,\n  63.842,\n  64.286,\n  64.286,\n  92.686,\n  92.686],\n 'kill_feed_points': ['Delz1k Spectre Nivera',\n  'Jamppi Vandal keznit',\n  'Jamppi Vandal Klaus',\n  'Jamppi Vandal Delz1k',\n  'L1NK planted the bomb',\n  'Jamppi Vandal Mazino',\n  'ScreaM Vandal NagZ']}"
     },
     "execution_count": 5,
     "metadata": {},
     "output_type": "execute_result"
    }
   ],
   "source": [
    "data"
   ],
   "metadata": {
    "collapsed": false,
    "pycharm": {
     "name": "#%%\n"
    }
   }
  },
  {
   "cell_type": "code",
   "execution_count": 7,
   "outputs": [
    {
     "data": {
      "text/plain": "    timestamp  probability label              kill_feed\n0       0.000     0.531489     A            Round Start\n1       0.000     0.531489  None                   None\n2       8.299     0.572944     B  Delz1k Spectre Nivera\n3       8.299     0.331810  None                   None\n4      42.780     0.349171     C   Jamppi Vandal keznit\n5      42.780     0.572579  None                   None\n6      44.737     0.572579     D    Jamppi Vandal Klaus\n7      44.737     0.755173  None                   None\n8      56.215     0.747558     E   Jamppi Vandal Delz1k\n9      56.215     0.902971  None                   None\n10     63.842     0.932551     F  L1NK planted the bomb\n11     63.842     0.932551  None                   None\n12     64.286     0.932551     G   Jamppi Vandal Mazino\n13     64.286     0.984789  None                   None\n14     92.686     0.987643     H     ScreaM Vandal NagZ\n15     92.686     1.000000  None                   None",
      "text/html": "<div>\n<style scoped>\n    .dataframe tbody tr th:only-of-type {\n        vertical-align: middle;\n    }\n\n    .dataframe tbody tr th {\n        vertical-align: top;\n    }\n\n    .dataframe thead th {\n        text-align: right;\n    }\n</style>\n<table border=\"1\" class=\"dataframe\">\n  <thead>\n    <tr style=\"text-align: right;\">\n      <th></th>\n      <th>timestamp</th>\n      <th>probability</th>\n      <th>label</th>\n      <th>kill_feed</th>\n    </tr>\n  </thead>\n  <tbody>\n    <tr>\n      <th>0</th>\n      <td>0.000</td>\n      <td>0.531489</td>\n      <td>A</td>\n      <td>Round Start</td>\n    </tr>\n    <tr>\n      <th>1</th>\n      <td>0.000</td>\n      <td>0.531489</td>\n      <td>None</td>\n      <td>None</td>\n    </tr>\n    <tr>\n      <th>2</th>\n      <td>8.299</td>\n      <td>0.572944</td>\n      <td>B</td>\n      <td>Delz1k Spectre Nivera</td>\n    </tr>\n    <tr>\n      <th>3</th>\n      <td>8.299</td>\n      <td>0.331810</td>\n      <td>None</td>\n      <td>None</td>\n    </tr>\n    <tr>\n      <th>4</th>\n      <td>42.780</td>\n      <td>0.349171</td>\n      <td>C</td>\n      <td>Jamppi Vandal keznit</td>\n    </tr>\n    <tr>\n      <th>5</th>\n      <td>42.780</td>\n      <td>0.572579</td>\n      <td>None</td>\n      <td>None</td>\n    </tr>\n    <tr>\n      <th>6</th>\n      <td>44.737</td>\n      <td>0.572579</td>\n      <td>D</td>\n      <td>Jamppi Vandal Klaus</td>\n    </tr>\n    <tr>\n      <th>7</th>\n      <td>44.737</td>\n      <td>0.755173</td>\n      <td>None</td>\n      <td>None</td>\n    </tr>\n    <tr>\n      <th>8</th>\n      <td>56.215</td>\n      <td>0.747558</td>\n      <td>E</td>\n      <td>Jamppi Vandal Delz1k</td>\n    </tr>\n    <tr>\n      <th>9</th>\n      <td>56.215</td>\n      <td>0.902971</td>\n      <td>None</td>\n      <td>None</td>\n    </tr>\n    <tr>\n      <th>10</th>\n      <td>63.842</td>\n      <td>0.932551</td>\n      <td>F</td>\n      <td>L1NK planted the bomb</td>\n    </tr>\n    <tr>\n      <th>11</th>\n      <td>63.842</td>\n      <td>0.932551</td>\n      <td>None</td>\n      <td>None</td>\n    </tr>\n    <tr>\n      <th>12</th>\n      <td>64.286</td>\n      <td>0.932551</td>\n      <td>G</td>\n      <td>Jamppi Vandal Mazino</td>\n    </tr>\n    <tr>\n      <th>13</th>\n      <td>64.286</td>\n      <td>0.984789</td>\n      <td>None</td>\n      <td>None</td>\n    </tr>\n    <tr>\n      <th>14</th>\n      <td>92.686</td>\n      <td>0.987643</td>\n      <td>H</td>\n      <td>ScreaM Vandal NagZ</td>\n    </tr>\n    <tr>\n      <th>15</th>\n      <td>92.686</td>\n      <td>1.000000</td>\n      <td>None</td>\n      <td>None</td>\n    </tr>\n  </tbody>\n</table>\n</div>"
     },
     "execution_count": 7,
     "metadata": {},
     "output_type": "execute_result"
    }
   ],
   "source": [
    "df = generate_probability_dataframe(data)\n",
    "df"
   ],
   "metadata": {
    "collapsed": false,
    "pycharm": {
     "name": "#%%\n"
    }
   }
  },
  {
   "cell_type": "code",
   "execution_count": 51,
   "outputs": [
    {
     "data": {
      "text/plain": "[<matplotlib.lines.Line2D at 0x26dee9eac70>]"
     },
     "execution_count": 51,
     "metadata": {},
     "output_type": "execute_result"
    },
    {
     "data": {
      "text/plain": "<Figure size 864x360 with 1 Axes>",
      "image/png": "[encoded data removed]"
     },
     "metadata": {
      "needs_background": "light"
     },
     "output_type": "display_data"
    }
   ],
   "source": [
    "plt.figure(figsize=(12, 5))\n",
    "plt.title('Attackers probability over time')\n",
    "plt.xlabel('Time (s)')\n",
    "plt.ylabel('Probability (%)')\n",
    "markers_on = list(range(1, len(x_values), 2))\n",
    "n = list(df[\"label\"])\n",
    "\n",
    "for i, txt in enumerate(n):\n",
    "    if txt is None:\n",
    "        plt.text(x_values[i], y_values[i]+0.007, n[i-1], horizontalalignment='center', verticalalignment='bottom',\n",
    "                 fontsize=12)\n",
    "\n",
    "legend_elements = [Line2D([0], [0], marker='o', color='w', label='Scatter', markerfacecolor='g', markersize=10),\n",
    "                   Line2D([0], [0], marker='o', color='w', label='Scatter', markerfacecolor='g', markersize=10),]\n",
    "plt.legend(handles=legend_elements, loc=(1.04,0.8))\n",
    "\n",
    "plt.plot(df[\"timestamp\"], df[\"probability\"], color=\"red\", linewidth=1.0,\n",
    "         marker='o', markersize=6, markerfacecolor=\"black\", markevery=markers_on)"
   ],
   "metadata": {
    "collapsed": false,
    "pycharm": {
     "name": "#%%\n"
    }
   }
  },
  {
   "cell_type": "code",
   "execution_count": 27,
   "outputs": [
    {
     "data": {
      "text/plain": "[1, 3, 5, 7, 9, 11, 13, 15]"
     },
     "execution_count": 27,
     "metadata": {},
     "output_type": "execute_result"
    }
   ],
   "source": [
    "# Create odd numbers until 16\n",
    "odd_numbers = list(range(1, len(x_values), 2))\n",
    "odd_numbers"
   ],
   "metadata": {
    "collapsed": false,
    "pycharm": {
     "name": "#%%\n"
    }
   }
  },
  {
   "cell_type": "code",
   "execution_count": 7,
   "outputs": [
    {
     "data": {
      "text/plain": "[1, 3, 5, 7, 9, 11, 13, 15]"
     },
     "execution_count": 7,
     "metadata": {},
     "output_type": "execute_result"
    }
   ],
   "source": [
    "markers_on"
   ],
   "metadata": {
    "collapsed": false,
    "pycharm": {
     "name": "#%%\n"
    }
   }
  },
  {
   "cell_type": "code",
   "execution_count": 12,
   "outputs": [],
   "source": [],
   "metadata": {
    "collapsed": false,
    "pycharm": {
     "name": "#%%\n"
    }
   }
  },
  {
   "cell_type": "code",
   "execution_count": null,
   "outputs": [],
   "source": [],
   "metadata": {
    "collapsed": false,
    "pycharm": {
     "name": "#%%\n"
    }
   }
  }
 ],
 "metadata": {
  "kernelspec": {
   "display_name": "Python 3",
   "language": "python",
   "name": "python3"
  },
  "language_info": {
   "codemirror_mode": {
    "name": "ipython",
    "version": 2
   },
   "file_extension": ".py",
   "mimetype": "text/x-python",
   "name": "python",
   "nbconvert_exporter": "python",
   "pygments_lexer": "ipython2",
   "version": "2.7.6"
  }
 },
 "nbformat": 4,
 "nbformat_minor": 0
}