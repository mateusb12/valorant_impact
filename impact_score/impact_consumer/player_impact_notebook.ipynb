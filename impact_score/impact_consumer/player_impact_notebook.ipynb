{
 "cells": [
  {
   "cell_type": "code",
   "execution_count": 1,
   "metadata": {
    "pycharm": {
     "name": "#%%\n"
    }
   },
   "outputs": [],
   "source": [
    "from impact_score.json_analyser.pool.analyser_pool import analyser_pool\n",
    "from impact_consumer import export_impact, export_probability_points, generate_probability_dataframe\n",
    "import pandas as pd\n",
    "from matplotlib.lines import Line2D\n",
    "import matplotlib.pyplot as plt\n",
    "from matplotlib import ticker\n",
    "import time\n",
    "from impact_score.impact_consumer.probability_consumer import export_probabilities\n",
    "from impact_score.json_analyser.wrap.analyser_exporter import AnalyserExporter\n",
    "from impact_score.json_analyser.wrap.analyser_loader import get_analyser\n",
    "from impact_score.json_analyser.wrap.analyser_wrapper import AnalyserWrapper"
   ]
  },
  {
   "cell_type": "code",
   "execution_count": 2,
   "metadata": {
    "collapsed": false,
    "jupyter": {
     "outputs_hidden": false
    },
    "pycharm": {
     "name": "#%%\n"
    }
   },
   "outputs": [],
   "source": [
    "match_id = 76730"
   ]
  },
  {
   "cell_type": "code",
   "execution_count": 3,
   "outputs": [
    {
     "name": "stdout",
     "output_type": "stream",
     "text": [
      "\u001B[33mRound 1 selected\u001B[0m\n",
      "\u001B[33mRound 2 selected\u001B[0m\n",
      "\u001B[33mRound 3 selected\u001B[0m\n",
      "\u001B[33mRound 4 selected\u001B[0m\n",
      "\u001B[33mRound 5 selected\u001B[0m\n",
      "\u001B[33mRound 6 selected\u001B[0m\n",
      "\u001B[33mRound 7 selected\u001B[0m\n",
      "\u001B[33mRound 8 selected\u001B[0m\n",
      "\u001B[33mRound 9 selected\u001B[0m\n",
      "\u001B[33mRound 10 selected\u001B[0m\n",
      "\u001B[33mRound 11 selected\u001B[0m\n",
      "\u001B[33mRound 12 selected\u001B[0m\n",
      "\u001B[33mRound 13 selected\u001B[0m\n",
      "\u001B[33mRound 14 selected\u001B[0m\n",
      "\u001B[33mRound 15 selected\u001B[0m\n",
      "\u001B[33mRound 16 selected\u001B[0m\n",
      "\u001B[33mRound 17 selected\u001B[0m\n"
     ]
    }
   ],
   "source": [
    "a = get_analyser(match_id)\n",
    "ae = AnalyserExporter(a)\n",
    "w = AnalyserWrapper(a)\n",
    "prob_df = pd.DataFrame(export_probabilities(match_id))\n",
    "half_df = export_impact(core_analyser=a, exporter=ae, prob_df=prob_df)"
   ],
   "metadata": {
    "collapsed": false,
    "pycharm": {
     "name": "#%%\n"
    }
   }
  },
  {
   "cell_type": "code",
   "execution_count": 4,
   "outputs": [
    {
     "data": {
      "text/plain": "     Round  EventID EventType  Probability_before_event  \\\n0        1        0     start                  0.487584   \n1        1  9727807      kill                  0.483847   \n2        1  9727805      kill                  0.317038   \n3        1  9727806      kill                  0.515017   \n4        1  9727801      kill                  0.738299   \n..     ...      ...       ...                       ...   \n148     17  9727913      kill                  0.577102   \n149     17  9727917      kill                  0.282698   \n150     17  9727916      kill                  0.047800   \n151     17  9727915      kill                  0.357674   \n152     17   914558    defuse                  0.015546   \n\n     Probability_after_event    Impact  \n0                   0.487584  0.000000  \n1                   0.317038  0.166809  \n2                   0.515017  0.197980  \n3                   0.739235  0.224218  \n4                   0.917555  0.179256  \n..                       ...       ...  \n148                 0.256031  0.321071  \n149                 0.023683  0.259015  \n150                 0.103944  0.056144  \n151                 0.025434  0.332240  \n152                 0.000000  0.015546  \n\n[153 rows x 6 columns]",
      "text/html": "<div>\n<style scoped>\n    .dataframe tbody tr th:only-of-type {\n        vertical-align: middle;\n    }\n\n    .dataframe tbody tr th {\n        vertical-align: top;\n    }\n\n    .dataframe thead th {\n        text-align: right;\n    }\n</style>\n<table border=\"1\" class=\"dataframe\">\n  <thead>\n    <tr style=\"text-align: right;\">\n      <th></th>\n      <th>Round</th>\n      <th>EventID</th>\n      <th>EventType</th>\n      <th>Probability_before_event</th>\n      <th>Probability_after_event</th>\n      <th>Impact</th>\n    </tr>\n  </thead>\n  <tbody>\n    <tr>\n      <th>0</th>\n      <td>1</td>\n      <td>0</td>\n      <td>start</td>\n      <td>0.487584</td>\n      <td>0.487584</td>\n      <td>0.000000</td>\n    </tr>\n    <tr>\n      <th>1</th>\n      <td>1</td>\n      <td>9727807</td>\n      <td>kill</td>\n      <td>0.483847</td>\n      <td>0.317038</td>\n      <td>0.166809</td>\n    </tr>\n    <tr>\n      <th>2</th>\n      <td>1</td>\n      <td>9727805</td>\n      <td>kill</td>\n      <td>0.317038</td>\n      <td>0.515017</td>\n      <td>0.197980</td>\n    </tr>\n    <tr>\n      <th>3</th>\n      <td>1</td>\n      <td>9727806</td>\n      <td>kill</td>\n      <td>0.515017</td>\n      <td>0.739235</td>\n      <td>0.224218</td>\n    </tr>\n    <tr>\n      <th>4</th>\n      <td>1</td>\n      <td>9727801</td>\n      <td>kill</td>\n      <td>0.738299</td>\n      <td>0.917555</td>\n      <td>0.179256</td>\n    </tr>\n    <tr>\n      <th>...</th>\n      <td>...</td>\n      <td>...</td>\n      <td>...</td>\n      <td>...</td>\n      <td>...</td>\n      <td>...</td>\n    </tr>\n    <tr>\n      <th>148</th>\n      <td>17</td>\n      <td>9727913</td>\n      <td>kill</td>\n      <td>0.577102</td>\n      <td>0.256031</td>\n      <td>0.321071</td>\n    </tr>\n    <tr>\n      <th>149</th>\n      <td>17</td>\n      <td>9727917</td>\n      <td>kill</td>\n      <td>0.282698</td>\n      <td>0.023683</td>\n      <td>0.259015</td>\n    </tr>\n    <tr>\n      <th>150</th>\n      <td>17</td>\n      <td>9727916</td>\n      <td>kill</td>\n      <td>0.047800</td>\n      <td>0.103944</td>\n      <td>0.056144</td>\n    </tr>\n    <tr>\n      <th>151</th>\n      <td>17</td>\n      <td>9727915</td>\n      <td>kill</td>\n      <td>0.357674</td>\n      <td>0.025434</td>\n      <td>0.332240</td>\n    </tr>\n    <tr>\n      <th>152</th>\n      <td>17</td>\n      <td>914558</td>\n      <td>defuse</td>\n      <td>0.015546</td>\n      <td>0.000000</td>\n      <td>0.015546</td>\n    </tr>\n  </tbody>\n</table>\n<p>153 rows × 6 columns</p>\n</div>"
     },
     "execution_count": 4,
     "metadata": {},
     "output_type": "execute_result"
    }
   ],
   "source": [
    "prob_df"
   ],
   "metadata": {
    "collapsed": false,
    "pycharm": {
     "name": "#%%\n"
    }
   }
  },
  {
   "cell_type": "code",
   "execution_count": 5,
   "outputs": [
    {
     "data": {
      "text/plain": "     round_number  timing   author    victim   event damage_type  weapon_id  \\\n0               1       0        0         0   start           0          0   \n1               1    7350    Bazzi   Haodong    kill      weapon         12   \n2               1    8188     Life     Bazzi    kill      weapon         12   \n3               1    8417     Life  Estrella    kill      weapon         12   \n4               1   25462   ZmjjKK       eKo    kill      weapon         10   \n..            ...     ...      ...       ...     ...         ...        ...   \n148            17   42578  Haodong       eKo    kill      weapon          6   \n149            17   43519   nobody   GodDead    kill      weapon          4   \n150            17   49381       TS    nobody    kill     ability          0   \n151            17   53263     Life        TS    kill      weapon          4   \n152            17   59152  CHICHOO         0  defuse           0          0   \n\n            ability  kill_id  round_id  ...  Round  EventID  EventType  \\\n0                 0        0   1195741  ...      1        0      start   \n1                 0  9727807   1195741  ...      1  9727807       kill   \n2                 0  9727805   1195741  ...      1  9727805       kill   \n3                 0  9727806   1195741  ...      1  9727806       kill   \n4                 0  9727801   1195741  ...      1  9727801       kill   \n..              ...      ...       ...  ...    ...      ...        ...   \n148               0  9727913   1195757  ...     17  9727913       kill   \n149               0  9727917   1195757  ...     17  9727917       kill   \n150  Orbital Strike  9727916   1195757  ...     17  9727916       kill   \n151               0  9727915   1195757  ...     17  9727915       kill   \n152               0        0   1195757  ...     17   914558     defuse   \n\n     Probability_before_event Probability_after_event    Impact  author_agent  \\\n0                    0.487584                0.487584  0.000000             0   \n1                    0.483847                0.317038  0.166809          Neon   \n2                    0.317038                0.515017  0.197980          Raze   \n3                    0.515017                0.739235  0.224218          Raze   \n4                    0.738299                0.917555  0.179256       Chamber   \n..                        ...                     ...       ...           ...   \n148                  0.577102                0.256031  0.321071          Neon   \n149                  0.282698                0.023683  0.259015        Breach   \n150                  0.047800                0.103944  0.056144     Brimstone   \n151                  0.357674                0.025434  0.332240          Raze   \n152                  0.015546                0.000000  0.015546     Brimstone   \n\n     victim_agent weapon_name           means  \n0               0           0               0  \n1            Neon       Ghost           Ghost  \n2            Neon       Ghost           Ghost  \n3          Breach       Ghost           Ghost  \n4           KAY/O      Frenzy          Frenzy  \n..            ...         ...             ...  \n148         KAY/O     Phantom         Phantom  \n149       Chamber      Vandal          Vandal  \n150        Breach           0  Orbital Strike  \n151     Brimstone      Vandal          Vandal  \n152             0           0               0  \n\n[153 rows x 22 columns]",
      "text/html": "<div>\n<style scoped>\n    .dataframe tbody tr th:only-of-type {\n        vertical-align: middle;\n    }\n\n    .dataframe tbody tr th {\n        vertical-align: top;\n    }\n\n    .dataframe thead th {\n        text-align: right;\n    }\n</style>\n<table border=\"1\" class=\"dataframe\">\n  <thead>\n    <tr style=\"text-align: right;\">\n      <th></th>\n      <th>round_number</th>\n      <th>timing</th>\n      <th>author</th>\n      <th>victim</th>\n      <th>event</th>\n      <th>damage_type</th>\n      <th>weapon_id</th>\n      <th>ability</th>\n      <th>kill_id</th>\n      <th>round_id</th>\n      <th>...</th>\n      <th>Round</th>\n      <th>EventID</th>\n      <th>EventType</th>\n      <th>Probability_before_event</th>\n      <th>Probability_after_event</th>\n      <th>Impact</th>\n      <th>author_agent</th>\n      <th>victim_agent</th>\n      <th>weapon_name</th>\n      <th>means</th>\n    </tr>\n  </thead>\n  <tbody>\n    <tr>\n      <th>0</th>\n      <td>1</td>\n      <td>0</td>\n      <td>0</td>\n      <td>0</td>\n      <td>start</td>\n      <td>0</td>\n      <td>0</td>\n      <td>0</td>\n      <td>0</td>\n      <td>1195741</td>\n      <td>...</td>\n      <td>1</td>\n      <td>0</td>\n      <td>start</td>\n      <td>0.487584</td>\n      <td>0.487584</td>\n      <td>0.000000</td>\n      <td>0</td>\n      <td>0</td>\n      <td>0</td>\n      <td>0</td>\n    </tr>\n    <tr>\n      <th>1</th>\n      <td>1</td>\n      <td>7350</td>\n      <td>Bazzi</td>\n      <td>Haodong</td>\n      <td>kill</td>\n      <td>weapon</td>\n      <td>12</td>\n      <td>0</td>\n      <td>9727807</td>\n      <td>1195741</td>\n      <td>...</td>\n      <td>1</td>\n      <td>9727807</td>\n      <td>kill</td>\n      <td>0.483847</td>\n      <td>0.317038</td>\n      <td>0.166809</td>\n      <td>Neon</td>\n      <td>Neon</td>\n      <td>Ghost</td>\n      <td>Ghost</td>\n    </tr>\n    <tr>\n      <th>2</th>\n      <td>1</td>\n      <td>8188</td>\n      <td>Life</td>\n      <td>Bazzi</td>\n      <td>kill</td>\n      <td>weapon</td>\n      <td>12</td>\n      <td>0</td>\n      <td>9727805</td>\n      <td>1195741</td>\n      <td>...</td>\n      <td>1</td>\n      <td>9727805</td>\n      <td>kill</td>\n      <td>0.317038</td>\n      <td>0.515017</td>\n      <td>0.197980</td>\n      <td>Raze</td>\n      <td>Neon</td>\n      <td>Ghost</td>\n      <td>Ghost</td>\n    </tr>\n    <tr>\n      <th>3</th>\n      <td>1</td>\n      <td>8417</td>\n      <td>Life</td>\n      <td>Estrella</td>\n      <td>kill</td>\n      <td>weapon</td>\n      <td>12</td>\n      <td>0</td>\n      <td>9727806</td>\n      <td>1195741</td>\n      <td>...</td>\n      <td>1</td>\n      <td>9727806</td>\n      <td>kill</td>\n      <td>0.515017</td>\n      <td>0.739235</td>\n      <td>0.224218</td>\n      <td>Raze</td>\n      <td>Breach</td>\n      <td>Ghost</td>\n      <td>Ghost</td>\n    </tr>\n    <tr>\n      <th>4</th>\n      <td>1</td>\n      <td>25462</td>\n      <td>ZmjjKK</td>\n      <td>eKo</td>\n      <td>kill</td>\n      <td>weapon</td>\n      <td>10</td>\n      <td>0</td>\n      <td>9727801</td>\n      <td>1195741</td>\n      <td>...</td>\n      <td>1</td>\n      <td>9727801</td>\n      <td>kill</td>\n      <td>0.738299</td>\n      <td>0.917555</td>\n      <td>0.179256</td>\n      <td>Chamber</td>\n      <td>KAY/O</td>\n      <td>Frenzy</td>\n      <td>Frenzy</td>\n    </tr>\n    <tr>\n      <th>...</th>\n      <td>...</td>\n      <td>...</td>\n      <td>...</td>\n      <td>...</td>\n      <td>...</td>\n      <td>...</td>\n      <td>...</td>\n      <td>...</td>\n      <td>...</td>\n      <td>...</td>\n      <td>...</td>\n      <td>...</td>\n      <td>...</td>\n      <td>...</td>\n      <td>...</td>\n      <td>...</td>\n      <td>...</td>\n      <td>...</td>\n      <td>...</td>\n      <td>...</td>\n      <td>...</td>\n    </tr>\n    <tr>\n      <th>148</th>\n      <td>17</td>\n      <td>42578</td>\n      <td>Haodong</td>\n      <td>eKo</td>\n      <td>kill</td>\n      <td>weapon</td>\n      <td>6</td>\n      <td>0</td>\n      <td>9727913</td>\n      <td>1195757</td>\n      <td>...</td>\n      <td>17</td>\n      <td>9727913</td>\n      <td>kill</td>\n      <td>0.577102</td>\n      <td>0.256031</td>\n      <td>0.321071</td>\n      <td>Neon</td>\n      <td>KAY/O</td>\n      <td>Phantom</td>\n      <td>Phantom</td>\n    </tr>\n    <tr>\n      <th>149</th>\n      <td>17</td>\n      <td>43519</td>\n      <td>nobody</td>\n      <td>GodDead</td>\n      <td>kill</td>\n      <td>weapon</td>\n      <td>4</td>\n      <td>0</td>\n      <td>9727917</td>\n      <td>1195757</td>\n      <td>...</td>\n      <td>17</td>\n      <td>9727917</td>\n      <td>kill</td>\n      <td>0.282698</td>\n      <td>0.023683</td>\n      <td>0.259015</td>\n      <td>Breach</td>\n      <td>Chamber</td>\n      <td>Vandal</td>\n      <td>Vandal</td>\n    </tr>\n    <tr>\n      <th>150</th>\n      <td>17</td>\n      <td>49381</td>\n      <td>TS</td>\n      <td>nobody</td>\n      <td>kill</td>\n      <td>ability</td>\n      <td>0</td>\n      <td>Orbital Strike</td>\n      <td>9727916</td>\n      <td>1195757</td>\n      <td>...</td>\n      <td>17</td>\n      <td>9727916</td>\n      <td>kill</td>\n      <td>0.047800</td>\n      <td>0.103944</td>\n      <td>0.056144</td>\n      <td>Brimstone</td>\n      <td>Breach</td>\n      <td>0</td>\n      <td>Orbital Strike</td>\n    </tr>\n    <tr>\n      <th>151</th>\n      <td>17</td>\n      <td>53263</td>\n      <td>Life</td>\n      <td>TS</td>\n      <td>kill</td>\n      <td>weapon</td>\n      <td>4</td>\n      <td>0</td>\n      <td>9727915</td>\n      <td>1195757</td>\n      <td>...</td>\n      <td>17</td>\n      <td>9727915</td>\n      <td>kill</td>\n      <td>0.357674</td>\n      <td>0.025434</td>\n      <td>0.332240</td>\n      <td>Raze</td>\n      <td>Brimstone</td>\n      <td>Vandal</td>\n      <td>Vandal</td>\n    </tr>\n    <tr>\n      <th>152</th>\n      <td>17</td>\n      <td>59152</td>\n      <td>CHICHOO</td>\n      <td>0</td>\n      <td>defuse</td>\n      <td>0</td>\n      <td>0</td>\n      <td>0</td>\n      <td>0</td>\n      <td>1195757</td>\n      <td>...</td>\n      <td>17</td>\n      <td>914558</td>\n      <td>defuse</td>\n      <td>0.015546</td>\n      <td>0.000000</td>\n      <td>0.015546</td>\n      <td>Brimstone</td>\n      <td>0</td>\n      <td>0</td>\n      <td>0</td>\n    </tr>\n  </tbody>\n</table>\n<p>153 rows × 22 columns</p>\n</div>"
     },
     "execution_count": 5,
     "metadata": {},
     "output_type": "execute_result"
    }
   ],
   "source": [
    "half_df"
   ],
   "metadata": {
    "collapsed": false,
    "pycharm": {
     "name": "#%%\n"
    }
   }
  },
  {
   "cell_type": "code",
   "execution_count": 7,
   "outputs": [
    {
     "data": {
      "text/plain": "     round_number  timing   author    victim   event damage_type  weapon_id  \\\n0               1       0        0         0   start           0          0   \n1               1    7350    Bazzi   Haodong    kill      weapon         12   \n2               1    8188     Life     Bazzi    kill      weapon         12   \n3               1    8417     Life  Estrella    kill      weapon         12   \n4               1   25462   ZmjjKK       eKo    kill      weapon         10   \n..            ...     ...      ...       ...     ...         ...        ...   \n148            17   42578  Haodong       eKo    kill      weapon          6   \n149            17   43519   nobody   GodDead    kill      weapon          4   \n150            17   49381       TS    nobody    kill     ability          0   \n151            17   53263     Life        TS    kill      weapon          4   \n152            17   59152  CHICHOO         0  defuse           0          0   \n\n            ability  kill_id  round_id  ...  DEF_compaction  Team_A_ID  \\\n0                 0        0   1195741  ...      240.141515        808   \n1                 0  9727807   1195741  ...      240.141515        808   \n2                 0  9727805   1195741  ...      257.719752        808   \n3                 0  9727806   1195741  ...      256.983010        808   \n4                 0  9727801   1195741  ...       93.529083        808   \n..              ...      ...       ...  ...             ...        ...   \n148               0  9727913   1195757  ...      150.910466        808   \n149               0  9727917   1195757  ...      153.531887        808   \n150  Orbital Strike  9727916   1195757  ...      133.323646        808   \n151               0  9727915   1195757  ...      174.922609        808   \n152               0        0   1195757  ...      197.771162        808   \n\n       Team_A_Name  Team_B_ID Team_B_Name  Sentinel_loadout_diff  \\\n0    EDward Gaming       5373  On Sla2ers                    -50   \n1    EDward Gaming       5373  On Sla2ers                    -50   \n2    EDward Gaming       5373  On Sla2ers                    -50   \n3    EDward Gaming       5373  On Sla2ers                    -50   \n4    EDward Gaming       5373  On Sla2ers                    -50   \n..             ...        ...         ...                    ...   \n148  EDward Gaming       5373  On Sla2ers                   1950   \n149  EDward Gaming       5373  On Sla2ers                      0   \n150  EDward Gaming       5373  On Sla2ers                      0   \n151  EDward Gaming       5373  On Sla2ers                      0   \n152  EDward Gaming       5373  On Sla2ers                      0   \n\n     Initiator_loadout_diff  Controller_loadout_diff Duelist_loadout_diff  \\\n0                      -800                       50                  800   \n1                      -800                       50                    0   \n2                      -800                       50                  700   \n3                       -50                       50                  700   \n4                       700                       50                  700   \n..                      ...                      ...                  ...   \n148                   -4600                    -1950                -9200   \n149                   -4600                    -1950                -9200   \n150                       0                    -1950                -9200   \n151                       0                    -4650                -9200   \n152                       0                    -4650                -9200   \n\n    Loadout_diff  \n0              0  \n1           -800  \n2           -100  \n3            650  \n4           1400  \n..           ...  \n148       -13800  \n149       -15750  \n150       -11150  \n151       -13850  \n152       -13850  \n\n[153 rows x 61 columns]",
      "text/html": "<div>\n<style scoped>\n    .dataframe tbody tr th:only-of-type {\n        vertical-align: middle;\n    }\n\n    .dataframe tbody tr th {\n        vertical-align: top;\n    }\n\n    .dataframe thead th {\n        text-align: right;\n    }\n</style>\n<table border=\"1\" class=\"dataframe\">\n  <thead>\n    <tr style=\"text-align: right;\">\n      <th></th>\n      <th>round_number</th>\n      <th>timing</th>\n      <th>author</th>\n      <th>victim</th>\n      <th>event</th>\n      <th>damage_type</th>\n      <th>weapon_id</th>\n      <th>ability</th>\n      <th>kill_id</th>\n      <th>round_id</th>\n      <th>...</th>\n      <th>DEF_compaction</th>\n      <th>Team_A_ID</th>\n      <th>Team_A_Name</th>\n      <th>Team_B_ID</th>\n      <th>Team_B_Name</th>\n      <th>Sentinel_loadout_diff</th>\n      <th>Initiator_loadout_diff</th>\n      <th>Controller_loadout_diff</th>\n      <th>Duelist_loadout_diff</th>\n      <th>Loadout_diff</th>\n    </tr>\n  </thead>\n  <tbody>\n    <tr>\n      <th>0</th>\n      <td>1</td>\n      <td>0</td>\n      <td>0</td>\n      <td>0</td>\n      <td>start</td>\n      <td>0</td>\n      <td>0</td>\n      <td>0</td>\n      <td>0</td>\n      <td>1195741</td>\n      <td>...</td>\n      <td>240.141515</td>\n      <td>808</td>\n      <td>EDward Gaming</td>\n      <td>5373</td>\n      <td>On Sla2ers</td>\n      <td>-50</td>\n      <td>-800</td>\n      <td>50</td>\n      <td>800</td>\n      <td>0</td>\n    </tr>\n    <tr>\n      <th>1</th>\n      <td>1</td>\n      <td>7350</td>\n      <td>Bazzi</td>\n      <td>Haodong</td>\n      <td>kill</td>\n      <td>weapon</td>\n      <td>12</td>\n      <td>0</td>\n      <td>9727807</td>\n      <td>1195741</td>\n      <td>...</td>\n      <td>240.141515</td>\n      <td>808</td>\n      <td>EDward Gaming</td>\n      <td>5373</td>\n      <td>On Sla2ers</td>\n      <td>-50</td>\n      <td>-800</td>\n      <td>50</td>\n      <td>0</td>\n      <td>-800</td>\n    </tr>\n    <tr>\n      <th>2</th>\n      <td>1</td>\n      <td>8188</td>\n      <td>Life</td>\n      <td>Bazzi</td>\n      <td>kill</td>\n      <td>weapon</td>\n      <td>12</td>\n      <td>0</td>\n      <td>9727805</td>\n      <td>1195741</td>\n      <td>...</td>\n      <td>257.719752</td>\n      <td>808</td>\n      <td>EDward Gaming</td>\n      <td>5373</td>\n      <td>On Sla2ers</td>\n      <td>-50</td>\n      <td>-800</td>\n      <td>50</td>\n      <td>700</td>\n      <td>-100</td>\n    </tr>\n    <tr>\n      <th>3</th>\n      <td>1</td>\n      <td>8417</td>\n      <td>Life</td>\n      <td>Estrella</td>\n      <td>kill</td>\n      <td>weapon</td>\n      <td>12</td>\n      <td>0</td>\n      <td>9727806</td>\n      <td>1195741</td>\n      <td>...</td>\n      <td>256.983010</td>\n      <td>808</td>\n      <td>EDward Gaming</td>\n      <td>5373</td>\n      <td>On Sla2ers</td>\n      <td>-50</td>\n      <td>-50</td>\n      <td>50</td>\n      <td>700</td>\n      <td>650</td>\n    </tr>\n    <tr>\n      <th>4</th>\n      <td>1</td>\n      <td>25462</td>\n      <td>ZmjjKK</td>\n      <td>eKo</td>\n      <td>kill</td>\n      <td>weapon</td>\n      <td>10</td>\n      <td>0</td>\n      <td>9727801</td>\n      <td>1195741</td>\n      <td>...</td>\n      <td>93.529083</td>\n      <td>808</td>\n      <td>EDward Gaming</td>\n      <td>5373</td>\n      <td>On Sla2ers</td>\n      <td>-50</td>\n      <td>700</td>\n      <td>50</td>\n      <td>700</td>\n      <td>1400</td>\n    </tr>\n    <tr>\n      <th>...</th>\n      <td>...</td>\n      <td>...</td>\n      <td>...</td>\n      <td>...</td>\n      <td>...</td>\n      <td>...</td>\n      <td>...</td>\n      <td>...</td>\n      <td>...</td>\n      <td>...</td>\n      <td>...</td>\n      <td>...</td>\n      <td>...</td>\n      <td>...</td>\n      <td>...</td>\n      <td>...</td>\n      <td>...</td>\n      <td>...</td>\n      <td>...</td>\n      <td>...</td>\n      <td>...</td>\n    </tr>\n    <tr>\n      <th>148</th>\n      <td>17</td>\n      <td>42578</td>\n      <td>Haodong</td>\n      <td>eKo</td>\n      <td>kill</td>\n      <td>weapon</td>\n      <td>6</td>\n      <td>0</td>\n      <td>9727913</td>\n      <td>1195757</td>\n      <td>...</td>\n      <td>150.910466</td>\n      <td>808</td>\n      <td>EDward Gaming</td>\n      <td>5373</td>\n      <td>On Sla2ers</td>\n      <td>1950</td>\n      <td>-4600</td>\n      <td>-1950</td>\n      <td>-9200</td>\n      <td>-13800</td>\n    </tr>\n    <tr>\n      <th>149</th>\n      <td>17</td>\n      <td>43519</td>\n      <td>nobody</td>\n      <td>GodDead</td>\n      <td>kill</td>\n      <td>weapon</td>\n      <td>4</td>\n      <td>0</td>\n      <td>9727917</td>\n      <td>1195757</td>\n      <td>...</td>\n      <td>153.531887</td>\n      <td>808</td>\n      <td>EDward Gaming</td>\n      <td>5373</td>\n      <td>On Sla2ers</td>\n      <td>0</td>\n      <td>-4600</td>\n      <td>-1950</td>\n      <td>-9200</td>\n      <td>-15750</td>\n    </tr>\n    <tr>\n      <th>150</th>\n      <td>17</td>\n      <td>49381</td>\n      <td>TS</td>\n      <td>nobody</td>\n      <td>kill</td>\n      <td>ability</td>\n      <td>0</td>\n      <td>Orbital Strike</td>\n      <td>9727916</td>\n      <td>1195757</td>\n      <td>...</td>\n      <td>133.323646</td>\n      <td>808</td>\n      <td>EDward Gaming</td>\n      <td>5373</td>\n      <td>On Sla2ers</td>\n      <td>0</td>\n      <td>0</td>\n      <td>-1950</td>\n      <td>-9200</td>\n      <td>-11150</td>\n    </tr>\n    <tr>\n      <th>151</th>\n      <td>17</td>\n      <td>53263</td>\n      <td>Life</td>\n      <td>TS</td>\n      <td>kill</td>\n      <td>weapon</td>\n      <td>4</td>\n      <td>0</td>\n      <td>9727915</td>\n      <td>1195757</td>\n      <td>...</td>\n      <td>174.922609</td>\n      <td>808</td>\n      <td>EDward Gaming</td>\n      <td>5373</td>\n      <td>On Sla2ers</td>\n      <td>0</td>\n      <td>0</td>\n      <td>-4650</td>\n      <td>-9200</td>\n      <td>-13850</td>\n    </tr>\n    <tr>\n      <th>152</th>\n      <td>17</td>\n      <td>59152</td>\n      <td>CHICHOO</td>\n      <td>0</td>\n      <td>defuse</td>\n      <td>0</td>\n      <td>0</td>\n      <td>0</td>\n      <td>0</td>\n      <td>1195757</td>\n      <td>...</td>\n      <td>197.771162</td>\n      <td>808</td>\n      <td>EDward Gaming</td>\n      <td>5373</td>\n      <td>On Sla2ers</td>\n      <td>0</td>\n      <td>0</td>\n      <td>-4650</td>\n      <td>-9200</td>\n      <td>-13850</td>\n    </tr>\n  </tbody>\n</table>\n<p>153 rows × 61 columns</p>\n</div>"
     },
     "execution_count": 7,
     "metadata": {},
     "output_type": "execute_result"
    }
   ],
   "source": [
    "match_data = w.export_df()\n",
    "new_df = pd.merge(half_df, match_data,  how='left', left_on=['round_number','timing'], right_on = ['RoundNumber','RoundTime'])\n",
    "new_df"
   ],
   "metadata": {
    "collapsed": false,
    "pycharm": {
     "name": "#%%\n"
    }
   }
  },
  {
   "cell_type": "code",
   "execution_count": 30,
   "metadata": {
    "collapsed": false,
    "jupyter": {
     "outputs_hidden": false
    },
    "pycharm": {
     "name": "#%%\n"
    }
   },
   "outputs": [],
   "source": [
    "data = export_probability_points(match_id)[\"Round_3\"]\n",
    "y_values = data[\"probability_points\"]\n",
    "x_values = data[\"timestamp_points\"]"
   ]
  },
  {
   "cell_type": "code",
   "execution_count": 31,
   "metadata": {
    "collapsed": false,
    "jupyter": {
     "outputs_hidden": false
    },
    "pycharm": {
     "name": "#%%\n"
    }
   },
   "outputs": [
    {
     "data": {
      "text/plain": "    timestamp  probability label              kill_feed\n0           0     0.531489     A            Round Start\n1           0     0.531489  None                   None\n2        8299     0.572944     B  Delz1k Spectre Nivera\n3        8299     0.331810  None                   None\n4       42780     0.349171     C   Jamppi Vandal keznit\n5       42780     0.572579  None                   None\n6       44737     0.572579     D    Jamppi Vandal Klaus\n7       44737     0.755173  None                   None\n8       56215     0.747558     E   Jamppi Vandal Delz1k\n9       56215     0.902971  None                   None\n10      63842     0.932551     F  L1NK planted the bomb\n11      63842     0.932551  None                   None\n12      64286     0.932551     G   Jamppi Vandal Mazino\n13      64286     0.984789  None                   None\n14      92686     0.987643     H     ScreaM Vandal NagZ\n15      92686     1.000000  None                   None",
      "text/html": "<div>\n<style scoped>\n    .dataframe tbody tr th:only-of-type {\n        vertical-align: middle;\n    }\n\n    .dataframe tbody tr th {\n        vertical-align: top;\n    }\n\n    .dataframe thead th {\n        text-align: right;\n    }\n</style>\n<table border=\"1\" class=\"dataframe\">\n  <thead>\n    <tr style=\"text-align: right;\">\n      <th></th>\n      <th>timestamp</th>\n      <th>probability</th>\n      <th>label</th>\n      <th>kill_feed</th>\n    </tr>\n  </thead>\n  <tbody>\n    <tr>\n      <th>0</th>\n      <td>0</td>\n      <td>0.531489</td>\n      <td>A</td>\n      <td>Round Start</td>\n    </tr>\n    <tr>\n      <th>1</th>\n      <td>0</td>\n      <td>0.531489</td>\n      <td>None</td>\n      <td>None</td>\n    </tr>\n    <tr>\n      <th>2</th>\n      <td>8299</td>\n      <td>0.572944</td>\n      <td>B</td>\n      <td>Delz1k Spectre Nivera</td>\n    </tr>\n    <tr>\n      <th>3</th>\n      <td>8299</td>\n      <td>0.331810</td>\n      <td>None</td>\n      <td>None</td>\n    </tr>\n    <tr>\n      <th>4</th>\n      <td>42780</td>\n      <td>0.349171</td>\n      <td>C</td>\n      <td>Jamppi Vandal keznit</td>\n    </tr>\n    <tr>\n      <th>5</th>\n      <td>42780</td>\n      <td>0.572579</td>\n      <td>None</td>\n      <td>None</td>\n    </tr>\n    <tr>\n      <th>6</th>\n      <td>44737</td>\n      <td>0.572579</td>\n      <td>D</td>\n      <td>Jamppi Vandal Klaus</td>\n    </tr>\n    <tr>\n      <th>7</th>\n      <td>44737</td>\n      <td>0.755173</td>\n      <td>None</td>\n      <td>None</td>\n    </tr>\n    <tr>\n      <th>8</th>\n      <td>56215</td>\n      <td>0.747558</td>\n      <td>E</td>\n      <td>Jamppi Vandal Delz1k</td>\n    </tr>\n    <tr>\n      <th>9</th>\n      <td>56215</td>\n      <td>0.902971</td>\n      <td>None</td>\n      <td>None</td>\n    </tr>\n    <tr>\n      <th>10</th>\n      <td>63842</td>\n      <td>0.932551</td>\n      <td>F</td>\n      <td>L1NK planted the bomb</td>\n    </tr>\n    <tr>\n      <th>11</th>\n      <td>63842</td>\n      <td>0.932551</td>\n      <td>None</td>\n      <td>None</td>\n    </tr>\n    <tr>\n      <th>12</th>\n      <td>64286</td>\n      <td>0.932551</td>\n      <td>G</td>\n      <td>Jamppi Vandal Mazino</td>\n    </tr>\n    <tr>\n      <th>13</th>\n      <td>64286</td>\n      <td>0.984789</td>\n      <td>None</td>\n      <td>None</td>\n    </tr>\n    <tr>\n      <th>14</th>\n      <td>92686</td>\n      <td>0.987643</td>\n      <td>H</td>\n      <td>ScreaM Vandal NagZ</td>\n    </tr>\n    <tr>\n      <th>15</th>\n      <td>92686</td>\n      <td>1.000000</td>\n      <td>None</td>\n      <td>None</td>\n    </tr>\n  </tbody>\n</table>\n</div>"
     },
     "execution_count": 31,
     "metadata": {},
     "output_type": "execute_result"
    }
   ],
   "source": [
    "df = generate_probability_dataframe(data)\n",
    "df"
   ]
  },
  {
   "cell_type": "code",
   "execution_count": 6,
   "metadata": {
    "collapsed": false,
    "jupyter": {
     "outputs_hidden": false
    },
    "pycharm": {
     "name": "#%%\n"
    }
   },
   "outputs": [
    {
     "ename": "NameError",
     "evalue": "name 'x_values' is not defined",
     "output_type": "error",
     "traceback": [
      "\u001B[1;31m---------------------------------------------------------------------------\u001B[0m",
      "\u001B[1;31mNameError\u001B[0m                                 Traceback (most recent call last)",
      "Input \u001B[1;32mIn [6]\u001B[0m, in \u001B[0;36m<cell line: 5>\u001B[1;34m()\u001B[0m\n\u001B[0;32m      3\u001B[0m plt\u001B[38;5;241m.\u001B[39mxlabel(\u001B[38;5;124m'\u001B[39m\u001B[38;5;124mTime (s)\u001B[39m\u001B[38;5;124m'\u001B[39m)\n\u001B[0;32m      4\u001B[0m plt\u001B[38;5;241m.\u001B[39mylabel(\u001B[38;5;124m'\u001B[39m\u001B[38;5;124mProbability (\u001B[39m\u001B[38;5;124m%\u001B[39m\u001B[38;5;124m)\u001B[39m\u001B[38;5;124m'\u001B[39m)\n\u001B[1;32m----> 5\u001B[0m markers_on \u001B[38;5;241m=\u001B[39m \u001B[38;5;28mlist\u001B[39m(\u001B[38;5;28mrange\u001B[39m(\u001B[38;5;241m1\u001B[39m, \u001B[38;5;28mlen\u001B[39m(\u001B[43mx_values\u001B[49m), \u001B[38;5;241m2\u001B[39m))\n\u001B[0;32m      6\u001B[0m ax \u001B[38;5;241m=\u001B[39m plt\u001B[38;5;241m.\u001B[39mgca()\n\u001B[0;32m      7\u001B[0m n \u001B[38;5;241m=\u001B[39m \u001B[38;5;28mlist\u001B[39m(df[\u001B[38;5;124m\"\u001B[39m\u001B[38;5;124mlabel\u001B[39m\u001B[38;5;124m\"\u001B[39m])\n",
      "\u001B[1;31mNameError\u001B[0m: name 'x_values' is not defined"
     ]
    },
    {
     "data": {
      "text/plain": "<Figure size 864x360 with 1 Axes>",
      "image/png": "[encoded data removed]"
     },
     "metadata": {
      "needs_background": "light"
     },
     "output_type": "display_data"
    }
   ],
   "source": [
    "plt.figure(figsize=(12, 5))\n",
    "plt.title('Attackers probability over time')\n",
    "plt.xlabel('Time (s)')\n",
    "plt.ylabel('Probability (%)')\n",
    "markers_on = list(range(1, len(x_values), 2))\n",
    "ax = plt.gca()\n",
    "n = list(df[\"label\"])\n",
    "\n",
    "for i, txt in enumerate(n):\n",
    "    if txt is None:\n",
    "        plt.text(x_values[i], y_values[i]+0.007, n[i-1], horizontalalignment='center', verticalalignment='bottom',\n",
    "                 fontsize=12)\n",
    "\n",
    "legend_elements = []\n",
    "\n",
    "for event in df[\"kill_feed\"]:\n",
    "    if event is not None:\n",
    "        label_index = chr(65 + len(legend_elements))\n",
    "        new_label = f\"{label_index} → {event}\"\n",
    "        new_element = Line2D([0], [0], marker='o', color='w', label=new_label, markerfacecolor='r', markersize=10)\n",
    "        legend_elements.append(new_element)\n",
    "plt.legend(handles=legend_elements, loc=(1.04,0.45))\n",
    "plt.grid(linewidth=0.4)\n",
    "\n",
    "plt.plot(df[\"timestamp\"], df[\"probability\"], color=\"red\", linewidth=1.0,\n",
    "         marker='o', markersize=6, markerfacecolor=\"black\", markevery=markers_on)\n",
    "\n",
    "current_values = plt.gca().get_yticks()\n",
    "plt.axhline(y=0, color='white', linestyle='-')\n",
    "\n",
    "bomb_query = df[df['kill_feed'].str.contains(\"bomb\")==True]\n",
    "if len(bomb_query) == 1:\n",
    "    bomb_stamp = bomb_query[\"timestamp\"].to_list()[0]\n",
    "    plt.axvline(x=bomb_stamp, color='pink', linestyle='-', linewidth=2.0)\n",
    "\n",
    "formatter = ticker.FuncFormatter(lambda ms, x: time.strftime('%M:%S', time.gmtime(ms // 1000)))\n",
    "ax.xaxis.set_major_formatter(formatter)\n",
    "ax.yaxis.set_major_formatter(ticker.PercentFormatter(xmax=1))\n",
    "plt.show()"
   ]
  },
  {
   "cell_type": "code",
   "execution_count": 27,
   "metadata": {
    "collapsed": false,
    "jupyter": {
     "outputs_hidden": false
    },
    "pycharm": {
     "name": "#%%\n"
    }
   },
   "outputs": [
    {
     "data": {
      "text/plain": [
       "[1, 3, 5, 7, 9, 11, 13, 15]"
      ]
     },
     "execution_count": 27,
     "metadata": {},
     "output_type": "execute_result"
    }
   ],
   "source": [
    "# Create odd numbers until 16\n",
    "odd_numbers = list(range(1, len(x_values), 2))\n",
    "odd_numbers"
   ]
  },
  {
   "cell_type": "code",
   "execution_count": 16,
   "metadata": {
    "collapsed": false,
    "jupyter": {
     "outputs_hidden": false
    },
    "pycharm": {
     "name": "#%%\n"
    }
   },
   "outputs": [
    {
     "data": {
      "text/plain": [
       "63842"
      ]
     },
     "execution_count": 16,
     "metadata": {},
     "output_type": "execute_result"
    }
   ],
   "source": [
    "#df_row = df.loc[df[\"kill_feed\"].str.contains(\"bomb\")]\n",
    "df_row = df[df['kill_feed'].str.contains(\"bomb\")==True][\"timestamp\"].to_list()[0]\n",
    "df_row"
   ]
  },
  {
   "cell_type": "code",
   "execution_count": 22,
   "metadata": {
    "collapsed": false,
    "jupyter": {
     "outputs_hidden": false
    },
    "pycharm": {
     "name": "#%%\n"
    }
   },
   "outputs": [
    {
     "data": {
      "text/plain": [
       "1"
      ]
     },
     "execution_count": 22,
     "metadata": {},
     "output_type": "execute_result"
    }
   ],
   "source": [
    "bomb_query = df[df['kill_feed'].str.contains(\"bomb\")==True]\n",
    "len(bomb_query)"
   ]
  },
  {
   "cell_type": "code",
   "execution_count": null,
   "metadata": {
    "collapsed": false,
    "jupyter": {
     "outputs_hidden": false
    },
    "pycharm": {
     "name": "#%%\n"
    }
   },
   "outputs": [],
   "source": []
  }
 ],
 "metadata": {
  "kernelspec": {
   "display_name": "Python 3 (ipykernel)",
   "language": "python",
   "name": "python3"
  },
  "language_info": {
   "codemirror_mode": {
    "name": "ipython",
    "version": 3
   },
   "file_extension": ".py",
   "mimetype": "text/x-python",
   "name": "python",
   "nbconvert_exporter": "python",
   "pygments_lexer": "ipython3",
   "version": "3.9.7"
  }
 },
 "nbformat": 4,
 "nbformat_minor": 4
}