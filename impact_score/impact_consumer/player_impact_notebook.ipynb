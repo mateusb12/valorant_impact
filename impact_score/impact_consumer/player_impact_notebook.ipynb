{
 "cells": [
  {
   "cell_type": "code",
   "execution_count": 28,
   "metadata": {
    "pycharm": {
     "name": "#%%\n"
    }
   },
   "outputs": [
    {
     "name": "stdout",
     "output_type": "stream",
     "text": [
      "Analyser created!\n"
     ]
    }
   ],
   "source": [
    "from impact_consumer import export_impact, export_players_impact, export_probability_points, generate_probability_dataframe\n",
    "from impact_score.json_analyser.api_consumer import get_impact_details\n",
    "from impact_score.json_analyser.analyse_json import Analyser\n",
    "import pandas as pd\n",
    "from matplotlib.lines import Line2D\n",
    "import matplotlib.pyplot as plt\n",
    "from matplotlib import ticker\n",
    "import time\n",
    "import matplotlib.patches as mpatches\n",
    "a = Analyser()"
   ]
  },
  {
   "cell_type": "code",
   "execution_count": 29,
   "metadata": {
    "collapsed": false,
    "jupyter": {
     "outputs_hidden": false
    },
    "pycharm": {
     "name": "#%%\n"
    }
   },
   "outputs": [],
   "source": [
    "match_id = 60206"
   ]
  },
  {
   "cell_type": "code",
   "execution_count": 30,
   "metadata": {
    "collapsed": false,
    "jupyter": {
     "outputs_hidden": false
    },
    "pycharm": {
     "name": "#%%\n"
    }
   },
   "outputs": [],
   "source": [
    "data = export_probability_points(match_id)[\"Round_3\"]\n",
    "y_values = data[\"probability_points\"]\n",
    "x_values = data[\"timestamp_points\"]"
   ]
  },
  {
   "cell_type": "code",
   "execution_count": 31,
   "metadata": {
    "collapsed": false,
    "jupyter": {
     "outputs_hidden": false
    },
    "pycharm": {
     "name": "#%%\n"
    }
   },
   "outputs": [
    {
     "data": {
      "text/plain": "    timestamp  probability label              kill_feed\n0           0     0.531489     A            Round Start\n1           0     0.531489  None                   None\n2        8299     0.572944     B  Delz1k Spectre Nivera\n3        8299     0.331810  None                   None\n4       42780     0.349171     C   Jamppi Vandal keznit\n5       42780     0.572579  None                   None\n6       44737     0.572579     D    Jamppi Vandal Klaus\n7       44737     0.755173  None                   None\n8       56215     0.747558     E   Jamppi Vandal Delz1k\n9       56215     0.902971  None                   None\n10      63842     0.932551     F  L1NK planted the bomb\n11      63842     0.932551  None                   None\n12      64286     0.932551     G   Jamppi Vandal Mazino\n13      64286     0.984789  None                   None\n14      92686     0.987643     H     ScreaM Vandal NagZ\n15      92686     1.000000  None                   None",
      "text/html": "<div>\n<style scoped>\n    .dataframe tbody tr th:only-of-type {\n        vertical-align: middle;\n    }\n\n    .dataframe tbody tr th {\n        vertical-align: top;\n    }\n\n    .dataframe thead th {\n        text-align: right;\n    }\n</style>\n<table border=\"1\" class=\"dataframe\">\n  <thead>\n    <tr style=\"text-align: right;\">\n      <th></th>\n      <th>timestamp</th>\n      <th>probability</th>\n      <th>label</th>\n      <th>kill_feed</th>\n    </tr>\n  </thead>\n  <tbody>\n    <tr>\n      <th>0</th>\n      <td>0</td>\n      <td>0.531489</td>\n      <td>A</td>\n      <td>Round Start</td>\n    </tr>\n    <tr>\n      <th>1</th>\n      <td>0</td>\n      <td>0.531489</td>\n      <td>None</td>\n      <td>None</td>\n    </tr>\n    <tr>\n      <th>2</th>\n      <td>8299</td>\n      <td>0.572944</td>\n      <td>B</td>\n      <td>Delz1k Spectre Nivera</td>\n    </tr>\n    <tr>\n      <th>3</th>\n      <td>8299</td>\n      <td>0.331810</td>\n      <td>None</td>\n      <td>None</td>\n    </tr>\n    <tr>\n      <th>4</th>\n      <td>42780</td>\n      <td>0.349171</td>\n      <td>C</td>\n      <td>Jamppi Vandal keznit</td>\n    </tr>\n    <tr>\n      <th>5</th>\n      <td>42780</td>\n      <td>0.572579</td>\n      <td>None</td>\n      <td>None</td>\n    </tr>\n    <tr>\n      <th>6</th>\n      <td>44737</td>\n      <td>0.572579</td>\n      <td>D</td>\n      <td>Jamppi Vandal Klaus</td>\n    </tr>\n    <tr>\n      <th>7</th>\n      <td>44737</td>\n      <td>0.755173</td>\n      <td>None</td>\n      <td>None</td>\n    </tr>\n    <tr>\n      <th>8</th>\n      <td>56215</td>\n      <td>0.747558</td>\n      <td>E</td>\n      <td>Jamppi Vandal Delz1k</td>\n    </tr>\n    <tr>\n      <th>9</th>\n      <td>56215</td>\n      <td>0.902971</td>\n      <td>None</td>\n      <td>None</td>\n    </tr>\n    <tr>\n      <th>10</th>\n      <td>63842</td>\n      <td>0.932551</td>\n      <td>F</td>\n      <td>L1NK planted the bomb</td>\n    </tr>\n    <tr>\n      <th>11</th>\n      <td>63842</td>\n      <td>0.932551</td>\n      <td>None</td>\n      <td>None</td>\n    </tr>\n    <tr>\n      <th>12</th>\n      <td>64286</td>\n      <td>0.932551</td>\n      <td>G</td>\n      <td>Jamppi Vandal Mazino</td>\n    </tr>\n    <tr>\n      <th>13</th>\n      <td>64286</td>\n      <td>0.984789</td>\n      <td>None</td>\n      <td>None</td>\n    </tr>\n    <tr>\n      <th>14</th>\n      <td>92686</td>\n      <td>0.987643</td>\n      <td>H</td>\n      <td>ScreaM Vandal NagZ</td>\n    </tr>\n    <tr>\n      <th>15</th>\n      <td>92686</td>\n      <td>1.000000</td>\n      <td>None</td>\n      <td>None</td>\n    </tr>\n  </tbody>\n</table>\n</div>"
     },
     "execution_count": 31,
     "metadata": {},
     "output_type": "execute_result"
    }
   ],
   "source": [
    "df = generate_probability_dataframe(data)\n",
    "df"
   ]
  },
  {
   "cell_type": "code",
   "execution_count": 27,
   "metadata": {
    "collapsed": false,
    "jupyter": {
     "outputs_hidden": false
    },
    "pycharm": {
     "name": "#%%\n"
    }
   },
   "outputs": [
    {
     "data": {
      "image/png": "[encoded data removed]",
      "text/plain": [
       "<Figure size 864x360 with 1 Axes>"
      ]
     },
     "metadata": {
      "needs_background": "light"
     },
     "output_type": "display_data"
    }
   ],
   "source": [
    "plt.figure(figsize=(12, 5))\n",
    "plt.title('Attackers probability over time')\n",
    "plt.xlabel('Time (s)')\n",
    "plt.ylabel('Probability (%)')\n",
    "markers_on = list(range(1, len(x_values), 2))\n",
    "ax = plt.gca()\n",
    "n = list(df[\"label\"])\n",
    "\n",
    "for i, txt in enumerate(n):\n",
    "    if txt is None:\n",
    "        plt.text(x_values[i], y_values[i]+0.007, n[i-1], horizontalalignment='center', verticalalignment='bottom',\n",
    "                 fontsize=12)\n",
    "\n",
    "legend_elements = []\n",
    "\n",
    "for event in df[\"kill_feed\"]:\n",
    "    if event is not None:\n",
    "        label_index = chr(65 + len(legend_elements))\n",
    "        new_label = f\"{label_index} → {event}\"\n",
    "        new_element = Line2D([0], [0], marker='o', color='w', label=new_label, markerfacecolor='r', markersize=10)\n",
    "        legend_elements.append(new_element)\n",
    "plt.legend(handles=legend_elements, loc=(1.04,0.45))\n",
    "plt.grid(linewidth=0.4)\n",
    "\n",
    "plt.plot(df[\"timestamp\"], df[\"probability\"], color=\"red\", linewidth=1.0,\n",
    "         marker='o', markersize=6, markerfacecolor=\"black\", markevery=markers_on)\n",
    "\n",
    "current_values = plt.gca().get_yticks()\n",
    "plt.axhline(y=0, color='white', linestyle='-')\n",
    "\n",
    "bomb_query = df[df['kill_feed'].str.contains(\"bomb\")==True]\n",
    "if len(bomb_query) == 1:\n",
    "    bomb_stamp = bomb_query[\"timestamp\"].to_list()[0]\n",
    "    plt.axvline(x=bomb_stamp, color='pink', linestyle='-', linewidth=2.0)\n",
    "\n",
    "formatter = ticker.FuncFormatter(lambda ms, x: time.strftime('%M:%S', time.gmtime(ms // 1000)))\n",
    "ax.xaxis.set_major_formatter(formatter)\n",
    "ax.yaxis.set_major_formatter(ticker.PercentFormatter(xmax=1))\n",
    "plt.show()"
   ]
  },
  {
   "cell_type": "code",
   "execution_count": 27,
   "metadata": {
    "collapsed": false,
    "jupyter": {
     "outputs_hidden": false
    },
    "pycharm": {
     "name": "#%%\n"
    }
   },
   "outputs": [
    {
     "data": {
      "text/plain": [
       "[1, 3, 5, 7, 9, 11, 13, 15]"
      ]
     },
     "execution_count": 27,
     "metadata": {},
     "output_type": "execute_result"
    }
   ],
   "source": [
    "# Create odd numbers until 16\n",
    "odd_numbers = list(range(1, len(x_values), 2))\n",
    "odd_numbers"
   ]
  },
  {
   "cell_type": "code",
   "execution_count": 16,
   "metadata": {
    "collapsed": false,
    "jupyter": {
     "outputs_hidden": false
    },
    "pycharm": {
     "name": "#%%\n"
    }
   },
   "outputs": [
    {
     "data": {
      "text/plain": [
       "63842"
      ]
     },
     "execution_count": 16,
     "metadata": {},
     "output_type": "execute_result"
    }
   ],
   "source": [
    "#df_row = df.loc[df[\"kill_feed\"].str.contains(\"bomb\")]\n",
    "df_row = df[df['kill_feed'].str.contains(\"bomb\")==True][\"timestamp\"].to_list()[0]\n",
    "df_row"
   ]
  },
  {
   "cell_type": "code",
   "execution_count": 22,
   "metadata": {
    "collapsed": false,
    "jupyter": {
     "outputs_hidden": false
    },
    "pycharm": {
     "name": "#%%\n"
    }
   },
   "outputs": [
    {
     "data": {
      "text/plain": [
       "1"
      ]
     },
     "execution_count": 22,
     "metadata": {},
     "output_type": "execute_result"
    }
   ],
   "source": [
    "bomb_query = df[df['kill_feed'].str.contains(\"bomb\")==True]\n",
    "len(bomb_query)"
   ]
  },
  {
   "cell_type": "code",
   "execution_count": null,
   "metadata": {
    "collapsed": false,
    "jupyter": {
     "outputs_hidden": false
    },
    "pycharm": {
     "name": "#%%\n"
    }
   },
   "outputs": [],
   "source": []
  }
 ],
 "metadata": {
  "kernelspec": {
   "display_name": "Python 3 (ipykernel)",
   "language": "python",
   "name": "python3"
  },
  "language_info": {
   "codemirror_mode": {
    "name": "ipython",
    "version": 3
   },
   "file_extension": ".py",
   "mimetype": "text/x-python",
   "name": "python",
   "nbconvert_exporter": "python",
   "pygments_lexer": "ipython3",
   "version": "3.9.7"
  }
 },
 "nbformat": 4,
 "nbformat_minor": 4
}