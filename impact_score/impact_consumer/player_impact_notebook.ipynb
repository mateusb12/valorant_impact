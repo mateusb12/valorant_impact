{
 "cells": [
  {
   "cell_type": "code",
   "execution_count": 1,
   "metadata": {
    "collapsed": true
   },
   "outputs": [
    {
     "name": "stdout",
     "output_type": "stream",
     "text": [
      "Analyser created!\n"
     ]
    }
   ],
   "source": [
    "from impact_consumer import export_impact, export_players_impact\n",
    "from impact_score.json_analyser.api_consumer import get_impact_details\n",
    "from impact_score.json_analyser.analyse_json import Analyser\n",
    "import pandas as pd\n",
    "a = Analyser()"
   ]
  },
  {
   "cell_type": "code",
   "execution_count": 48,
   "outputs": [],
   "source": [
    "match_id = 60206"
   ],
   "metadata": {
    "collapsed": false,
    "pycharm": {
     "name": "#%%\n"
    }
   }
  },
  {
   "cell_type": "code",
   "execution_count": 49,
   "outputs": [],
   "source": [
    "data = get_impact_details(match_id)"
   ],
   "metadata": {
    "collapsed": false,
    "pycharm": {
     "name": "#%%\n"
    }
   }
  },
  {
   "cell_type": "code",
   "execution_count": 50,
   "outputs": [],
   "source": [
    "probability_points = []\n",
    "kill_feed_points = []\n",
    "\n",
    "for event in data[\"Round_3\"]:\n",
    "    probability_points.extend((event[\"probability_before\"], event[\"probability_after\"]))\n",
    "\n",
    "    if event['author'] is not None:\n",
    "        kill_feed_string = \"\"\n",
    "        if event['event'] == 'kill':\n",
    "            means = \"b\"\n",
    "            if event['damage_type'] == 'weapon':\n",
    "                means = event['weapon_name']\n",
    "            elif event['damage_type'] == 'ability':\n",
    "                means = event['ability']\n",
    "            kill_feed_string = f\"{event['author']} {means} {event['victim']}\"\n",
    "        elif event['event'] == 'plant':\n",
    "            kill_feed_string = f\"{event['author']} planted the bomb\"\n",
    "        elif event['event'] == 'defuse':\n",
    "            kill_feed_string = f\"{event['author']} defused the bomb\"\n",
    "        elif event['event'] == 'revival':\n",
    "            kill_feed_string = f\"{event['author']} revived {event['victim']}\"\n",
    "        kill_feed_points.append(kill_feed_string)"
   ],
   "metadata": {
    "collapsed": false,
    "pycharm": {
     "name": "#%%\n"
    }
   }
  },
  {
   "cell_type": "code",
   "execution_count": 60,
   "outputs": [
    {
     "data": {
      "text/plain": "18"
     },
     "execution_count": 60,
     "metadata": {},
     "output_type": "execute_result"
    }
   ],
   "source": [
    "# Remove the last 5 characters of dictionary keys and store it into round_numbers list\n",
    "round_numbers = [int(key[6:]) for key in data.keys()]\n",
    "max(round_numbers)"
   ],
   "metadata": {
    "collapsed": false,
    "pycharm": {
     "name": "#%%\n"
    }
   }
  },
  {
   "cell_type": "code",
   "execution_count": 52,
   "outputs": [
    {
     "data": {
      "text/plain": "['Delz1k Spectre Nivera',\n 'Jamppi Vandal keznit',\n 'Jamppi Vandal Klaus',\n 'Jamppi Vandal Delz1k',\n 'L1NK planted the bomb',\n 'Jamppi Vandal Mazino',\n 'ScreaM Vandal NagZ']"
     },
     "execution_count": 52,
     "metadata": {},
     "output_type": "execute_result"
    }
   ],
   "source": [
    "kill_feed_points"
   ],
   "metadata": {
    "collapsed": false,
    "pycharm": {
     "name": "#%%\n"
    }
   }
  },
  {
   "cell_type": "code",
   "execution_count": 17,
   "outputs": [
    {
     "data": {
      "text/plain": "{'ability': None,\n 'author': 'Jamppi',\n 'author_agent': 'Breach',\n 'damage_type': 'weapon',\n 'event': 'kill',\n 'impact': '0.19992861438808485',\n 'probability_after': '0.47091060559827136',\n 'probability_before': '0.2709819912101865',\n 'round_number': 1,\n 'timing': 27177,\n 'victim': 'keznit',\n 'victim_agent': 'Jett',\n 'weapon_id': 11,\n 'weapon_name': 'Classic'}"
     },
     "execution_count": 17,
     "metadata": {},
     "output_type": "execute_result"
    }
   ],
   "source": [
    "data[\"Round_1\"][4]"
   ],
   "metadata": {
    "collapsed": false,
    "pycharm": {
     "name": "#%%\n"
    }
   }
  },
  {
   "cell_type": "code",
   "execution_count": 3,
   "outputs": [],
   "source": [],
   "metadata": {
    "collapsed": false,
    "pycharm": {
     "name": "#%%\n"
    }
   }
  },
  {
   "cell_type": "code",
   "execution_count": null,
   "outputs": [],
   "source": [],
   "metadata": {
    "collapsed": false,
    "pycharm": {
     "name": "#%%\n"
    }
   }
  }
 ],
 "metadata": {
  "kernelspec": {
   "display_name": "Python 3",
   "language": "python",
   "name": "python3"
  },
  "language_info": {
   "codemirror_mode": {
    "name": "ipython",
    "version": 2
   },
   "file_extension": ".py",
   "mimetype": "text/x-python",
   "name": "python",
   "nbconvert_exporter": "python",
   "pygments_lexer": "ipython2",
   "version": "2.7.6"
  }
 },
 "nbformat": 4,
 "nbformat_minor": 0
}