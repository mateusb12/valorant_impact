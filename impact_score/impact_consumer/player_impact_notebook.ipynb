{
 "cells": [
  {
   "cell_type": "code",
   "execution_count": 1,
   "metadata": {
    "collapsed": true
   },
   "outputs": [
    {
     "name": "stdout",
     "output_type": "stream",
     "text": [
      "Analyser created!\n"
     ]
    }
   ],
   "source": [
    "from impact_consumer import export_impact, export_players_impact, export_probability_points\n",
    "from impact_score.json_analyser.api_consumer import get_impact_details\n",
    "from impact_score.json_analyser.analyse_json import Analyser\n",
    "import pandas as pd\n",
    "import matplotlib.pyplot as plt\n",
    "a = Analyser()"
   ]
  },
  {
   "cell_type": "code",
   "execution_count": 2,
   "outputs": [],
   "source": [
    "match_id = 60206"
   ],
   "metadata": {
    "collapsed": false,
    "pycharm": {
     "name": "#%%\n"
    }
   }
  },
  {
   "cell_type": "code",
   "execution_count": 3,
   "outputs": [],
   "source": [
    "data = export_probability_points(match_id)[\"Round_3\"]\n",
    "y_values = data[\"probability_points\"]\n",
    "x_values = data[\"timestamp_points\"]"
   ],
   "metadata": {
    "collapsed": false,
    "pycharm": {
     "name": "#%%\n"
    }
   }
  },
  {
   "cell_type": "code",
   "execution_count": 4,
   "outputs": [
    {
     "data": {
      "text/plain": "16"
     },
     "execution_count": 4,
     "metadata": {},
     "output_type": "execute_result"
    }
   ],
   "source": [
    "# Plot x_values using scatterplot\n",
    "len(y_values)"
   ],
   "metadata": {
    "collapsed": false,
    "pycharm": {
     "name": "#%%\n"
    }
   }
  },
  {
   "cell_type": "code",
   "execution_count": 20,
   "outputs": [
    {
     "data": {
      "text/plain": "[<matplotlib.lines.Line2D at 0x1b2fe264b80>]"
     },
     "execution_count": 20,
     "metadata": {},
     "output_type": "execute_result"
    },
    {
     "data": {
      "text/plain": "<Figure size 1080x360 with 1 Axes>",
      "image/png": "[encoded data removed]"
     },
     "metadata": {
      "needs_background": "light"
     },
     "output_type": "display_data"
    }
   ],
   "source": [
    "plt.figure(figsize=(15, 5))\n",
    "plt.title('Attackers probability over time')\n",
    "plt.xlabel('Time (s)')\n",
    "plt.ylabel('Probability (%)')\n",
    "# Change figsize\n",
    "plt.plot(x_values, y_values, color=\"red\", linewidth=1.0, marker='o', markersize=5, markerfacecolor=\"black\")"
   ],
   "metadata": {
    "collapsed": false,
    "pycharm": {
     "name": "#%%\n"
    }
   }
  },
  {
   "cell_type": "code",
   "execution_count": 12,
   "outputs": [
    {
     "data": {
      "text/plain": "[0.5314892479257054,\n 0.5314892479257054,\n 0.5729435024829793,\n 0.33180982892057026,\n 0.34917054646553625,\n 0.5725792996409509,\n 0.5725792996409509,\n 0.7551727497024044,\n 0.7475576436764222,\n 0.9029712151166737,\n 0.9325508909217101,\n 0.9325508909217101,\n 0.9325508909217101,\n 0.9847887774577264,\n 0.9876428608558843,\n 1.0]"
     },
     "execution_count": 12,
     "metadata": {},
     "output_type": "execute_result"
    }
   ],
   "source": [
    "y_values"
   ],
   "metadata": {
    "collapsed": false,
    "pycharm": {
     "name": "#%%\n"
    }
   }
  },
  {
   "cell_type": "code",
   "execution_count": null,
   "outputs": [],
   "source": [],
   "metadata": {
    "collapsed": false,
    "pycharm": {
     "name": "#%%\n"
    }
   }
  }
 ],
 "metadata": {
  "kernelspec": {
   "display_name": "Python 3",
   "language": "python",
   "name": "python3"
  },
  "language_info": {
   "codemirror_mode": {
    "name": "ipython",
    "version": 2
   },
   "file_extension": ".py",
   "mimetype": "text/x-python",
   "name": "python",
   "nbconvert_exporter": "python",
   "pygments_lexer": "ipython2",
   "version": "2.7.6"
  }
 },
 "nbformat": 4,
 "nbformat_minor": 0
}