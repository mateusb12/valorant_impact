{
 "cells": [
  {
   "cell_type": "markdown",
   "id": "00547978-0890-4b47-bb06-3458c9aaa647",
   "metadata": {},
   "source": [
    "# <font color='brown'>Setup </font>"
   ]
  },
  {
   "cell_type": "code",
   "execution_count": 29,
   "id": "4d030103-6aff-4404-af0d-8159b4c0fce3",
   "metadata": {},
   "outputs": [
    {
     "name": "stdout",
     "output_type": "stream",
     "text": [
      "Wall time: 0 ns\n"
     ]
    }
   ],
   "source": [
    "%%time\n",
    "import os\n",
    "import pandas as pd\n",
    "import numpy as np\n",
    "from sklearn.model_selection import train_test_split, cross_val_score\n",
    "from sklearn.metrics import precision_score\n",
    "import lightgbm as lgb"
   ]
  },
  {
   "cell_type": "code",
   "execution_count": 12,
   "id": "198edf27-66a3-4c2c-a1e7-68e86a6bac8e",
   "metadata": {},
   "outputs": [],
   "source": [
    "path = 'D:\\\\Documents\\\\GitHub\\\\Classification_datascience\\\\webscrapping\\\\matches\\\\rounds\\\\'\n",
    "df = pd.read_csv('{}matches_csv.csv'.format(path))"
   ]
  },
  {
   "cell_type": "code",
   "execution_count": 13,
   "id": "d2adda0a-d096-4fe4-9e09-a835caa4dc57",
   "metadata": {},
   "outputs": [
    {
     "data": {
      "text/html": [
       "<div>\n",
       "<style scoped>\n",
       "    .dataframe tbody tr th:only-of-type {\n",
       "        vertical-align: middle;\n",
       "    }\n",
       "\n",
       "    .dataframe tbody tr th {\n",
       "        vertical-align: top;\n",
       "    }\n",
       "\n",
       "    .dataframe thead th {\n",
       "        text-align: right;\n",
       "    }\n",
       "</style>\n",
       "<table border=\"1\" class=\"dataframe\">\n",
       "  <thead>\n",
       "    <tr style=\"text-align: right;\">\n",
       "      <th></th>\n",
       "      <th>MatchID</th>\n",
       "      <th>RoundNumber</th>\n",
       "      <th>AtkScore</th>\n",
       "      <th>DefScore</th>\n",
       "      <th>ATK_Bank</th>\n",
       "      <th>DEF_Bank</th>\n",
       "      <th>FinalWinner</th>\n",
       "    </tr>\n",
       "  </thead>\n",
       "  <tbody>\n",
       "    <tr>\n",
       "      <th>0</th>\n",
       "      <td>24579</td>\n",
       "      <td>1</td>\n",
       "      <td>0</td>\n",
       "      <td>1</td>\n",
       "      <td>300</td>\n",
       "      <td>100</td>\n",
       "      <td>1</td>\n",
       "    </tr>\n",
       "    <tr>\n",
       "      <th>1</th>\n",
       "      <td>24579</td>\n",
       "      <td>2</td>\n",
       "      <td>0</td>\n",
       "      <td>2</td>\n",
       "      <td>8800</td>\n",
       "      <td>2800</td>\n",
       "      <td>1</td>\n",
       "    </tr>\n",
       "    <tr>\n",
       "      <th>2</th>\n",
       "      <td>24579</td>\n",
       "      <td>3</td>\n",
       "      <td>0</td>\n",
       "      <td>3</td>\n",
       "      <td>900</td>\n",
       "      <td>14500</td>\n",
       "      <td>1</td>\n",
       "    </tr>\n",
       "    <tr>\n",
       "      <th>3</th>\n",
       "      <td>24579</td>\n",
       "      <td>4</td>\n",
       "      <td>0</td>\n",
       "      <td>4</td>\n",
       "      <td>9200</td>\n",
       "      <td>11000</td>\n",
       "      <td>1</td>\n",
       "    </tr>\n",
       "    <tr>\n",
       "      <th>4</th>\n",
       "      <td>24579</td>\n",
       "      <td>5</td>\n",
       "      <td>1</td>\n",
       "      <td>4</td>\n",
       "      <td>3400</td>\n",
       "      <td>19300</td>\n",
       "      <td>1</td>\n",
       "    </tr>\n",
       "  </tbody>\n",
       "</table>\n",
       "</div>"
      ],
      "text/plain": [
       "   MatchID  RoundNumber  AtkScore  DefScore  ATK_Bank  DEF_Bank  FinalWinner\n",
       "0    24579            1         0         1       300       100            1\n",
       "1    24579            2         0         2      8800      2800            1\n",
       "2    24579            3         0         3       900     14500            1\n",
       "3    24579            4         0         4      9200     11000            1\n",
       "4    24579            5         1         4      3400     19300            1"
      ]
     },
     "execution_count": 13,
     "metadata": {},
     "output_type": "execute_result"
    }
   ],
   "source": [
    "df.head()"
   ]
  },
  {
   "cell_type": "code",
   "execution_count": 14,
   "id": "fa284140-e06e-4308-b9b3-c8bf95ead77a",
   "metadata": {},
   "outputs": [],
   "source": [
    "X = df.drop(['FinalWinner'], axis='columns')\n",
    "Y = df.FinalWinner\n",
    "X_train, X_test, Y_train, Y_test = train_test_split(X, Y, train_size=0.8, test_size=0.2, random_state=15)"
   ]
  },
  {
   "cell_type": "code",
   "execution_count": 16,
   "id": "e750d756-af37-4aee-b3b2-abbb0441d838",
   "metadata": {},
   "outputs": [],
   "source": [
    "d_train=lgb.Dataset(X_train, label=Y_train)"
   ]
  },
  {
   "cell_type": "markdown",
   "id": "4fbf4922-0a37-46e4-a4c3-9c982ac7124b",
   "metadata": {},
   "source": [
    "# <font color='brown'>Model </font>"
   ]
  },
  {
   "cell_type": "code",
   "execution_count": 18,
   "id": "5a4412dd-216c-462a-a536-a89dd8f15906",
   "metadata": {},
   "outputs": [],
   "source": [
    "#setting up the parameters\n",
    "params={}\n",
    "params['learning_rate']=0.03\n",
    "params['boosting_type']='gbdt' #GradientBoostingDecisionTree\n",
    "params['objective']='multiclass' #Multi-class target feature\n",
    "params['metric']='multi_logloss' #metric for multi-class\n",
    "params['max_depth']=10\n",
    "params['num_class']=3 #no.of unique values in the target class not inclusive of the end value"
   ]
  },
  {
   "cell_type": "code",
   "execution_count": 19,
   "id": "3f68d7f6-fb5c-4cca-8731-9d1f392dabdd",
   "metadata": {},
   "outputs": [
    {
     "name": "stdout",
     "output_type": "stream",
     "text": [
      "[LightGBM] [Warning] Accuracy may be bad since you didn't explicitly set num_leaves OR 2^max_depth > num_leaves. (num_leaves=31).\n",
      "[LightGBM] [Warning] Accuracy may be bad since you didn't explicitly set num_leaves OR 2^max_depth > num_leaves. (num_leaves=31).\n",
      "[LightGBM] [Warning] Auto-choosing col-wise multi-threading, the overhead of testing was 0.001041 seconds.\n",
      "You can set `force_col_wise=true` to remove the overhead.\n",
      "[LightGBM] [Info] Total Bins 818\n",
      "[LightGBM] [Info] Number of data points in the train set: 22434, number of used features: 6\n",
      "[LightGBM] [Info] Start training from score -0.785155\n",
      "[LightGBM] [Info] Start training from score -0.861393\n",
      "[LightGBM] [Info] Start training from score -2.108843\n"
     ]
    }
   ],
   "source": [
    "clf = lgb.train(params,d_train,100)"
   ]
  },
  {
   "cell_type": "code",
   "execution_count": 22,
   "id": "9c3fc7a4-a4e2-4b18-83c7-e5e338a8f550",
   "metadata": {},
   "outputs": [],
   "source": [
    "y_pred_1 = clf.predict(X_test)"
   ]
  },
  {
   "cell_type": "code",
   "execution_count": 23,
   "id": "39f79b6a-f0bc-4a92-972f-9f1acdd92ab1",
   "metadata": {},
   "outputs": [
    {
     "data": {
      "text/plain": [
       "array([[0.12073922, 0.80318918, 0.0760716 ],\n",
       "       [0.19156331, 0.73106072, 0.07737598],\n",
       "       [0.31583543, 0.525336  , 0.15882857],\n",
       "       ...,\n",
       "       [0.50157516, 0.30240793, 0.19601691],\n",
       "       [0.54770703, 0.30736605, 0.14492691],\n",
       "       [0.20401178, 0.59575922, 0.200229  ]])"
      ]
     },
     "execution_count": 23,
     "metadata": {},
     "output_type": "execute_result"
    }
   ],
   "source": [
    "y_pred_1"
   ]
  },
  {
   "cell_type": "code",
   "execution_count": 30,
   "id": "535bb69a-ef6e-4737-967f-4e79e2f6b0c3",
   "metadata": {},
   "outputs": [
    {
     "data": {
      "text/plain": [
       "0.5747433561510799"
      ]
     },
     "execution_count": 30,
     "metadata": {},
     "output_type": "execute_result"
    }
   ],
   "source": [
    "y_pred_1 = [np.argmax(line) for line in y_pred_1]\n",
    "precision_score(y_pred_1,Y_test,average=None).mean()"
   ]
  },
  {
   "cell_type": "code",
   "execution_count": null,
   "id": "7b7ab114-4cc5-4b6a-910e-2832a87e4f0c",
   "metadata": {},
   "outputs": [],
   "source": []
  }
 ],
 "metadata": {
  "kernelspec": {
   "display_name": "Python 3",
   "language": "python",
   "name": "python3"
  },
  "language_info": {
   "codemirror_mode": {
    "name": "ipython",
    "version": 3
   },
   "file_extension": ".py",
   "mimetype": "text/x-python",
   "name": "python",
   "nbconvert_exporter": "python",
   "pygments_lexer": "ipython3",
   "version": "3.8.8"
  }
 },
 "nbformat": 4,
 "nbformat_minor": 5
}
