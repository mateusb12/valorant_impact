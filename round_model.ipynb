{
 "cells": [
  {
   "cell_type": "markdown",
   "id": "aec121bb-23f1-4482-ab8f-16d0a8322d0c",
   "metadata": {},
   "source": [
    "# <font color='brown'>Setup </font>"
   ]
  },
  {
   "cell_type": "code",
   "execution_count": 1,
   "id": "440266f6-91e9-4e88-9ce3-6da5068935b1",
   "metadata": {},
   "outputs": [
    {
     "name": "stdout",
     "output_type": "stream",
     "text": [
      "Wall time: 6.67 s\n"
     ]
    }
   ],
   "source": [
    "%%time\n",
    "import os\n",
    "import pandas as pd\n",
    "from sklearn.model_selection import train_test_split, cross_val_score\n",
    "import lightgbm\n",
    "from matplotlib import pyplot as plt\n",
    "import seaborn as sns"
   ]
  },
  {
   "cell_type": "code",
   "execution_count": 2,
   "id": "5672b0a4-035e-4f21-9226-a33ea6c1fd3c",
   "metadata": {},
   "outputs": [],
   "source": [
    "def get_current_folder():\n",
    "    return os.getcwd().split(\"\\\\\")[-1]"
   ]
  },
  {
   "cell_type": "code",
   "execution_count": 5,
   "id": "3f370eb4-8b6a-41a9-94c0-1458451bf106",
   "metadata": {},
   "outputs": [],
   "source": [
    "current_path = os.getcwd()\n",
    "raw_path = \"{}\\\\{}\\\\{}\".format(os.getcwd(), \"webscrapping\", \"matches\")\n",
    "path = \"{}\\\\{}\".format(raw_path, \"rounds\")\n",
    "filename = \"na_merged.csv\"\n",
    "full_path = \"{}\\\\{}\".format(path, filename)\n",
    "df = pd.read_csv(full_path)"
   ]
  },
  {
   "cell_type": "code",
   "execution_count": 6,
   "id": "98476a3d-6c14-420e-af07-902424f2a706",
   "metadata": {},
   "outputs": [
    {
     "data": {
      "text/plain": "   RoundID  RoundNumber  RoundTime  ATK_wealth  DEF_wealth  ATK_alive  \\\n0   172040            1          0        2000        2000          5   \n1   172040            1       5973        1500        2000          4   \n2   172040            1      20664        1000        2000          3   \n3   172040            1      24676        1000        1500          3   \n4   172040            1      26225        1000        1500          3   \n\n   DEF_alive  DEF_has_OP  Def_has_Odin  RegularTime  ...  DEF_duelists  \\\n0          5           0             0            0  ...             2   \n1          5           0             0            6  ...             2   \n2          5           0             0           21  ...             2   \n3          4           0             0           25  ...             1   \n4          4           0             0           26  ...             1   \n\n   DEF_sentinels  DEF_controllers  ATK_Shields  DEF_Shields  MapName  MatchID  \\\n0              1                1           25          100   Ascent    10425   \n1              1                1           25          100   Ascent    10425   \n2              1                1           25          100   Ascent    10425   \n3              1                1           25           75   Ascent    10425   \n4              1                1           25           75   Ascent    10425   \n\n   SeriesID  bestOF  FinalWinner  \n0      6113       3            0  \n1      6113       3            0  \n2      6113       3            0  \n3      6113       3            0  \n4      6113       3            0  \n\n[5 rows x 28 columns]",
      "text/html": "<div>\n<style scoped>\n    .dataframe tbody tr th:only-of-type {\n        vertical-align: middle;\n    }\n\n    .dataframe tbody tr th {\n        vertical-align: top;\n    }\n\n    .dataframe thead th {\n        text-align: right;\n    }\n</style>\n<table border=\"1\" class=\"dataframe\">\n  <thead>\n    <tr style=\"text-align: right;\">\n      <th></th>\n      <th>RoundID</th>\n      <th>RoundNumber</th>\n      <th>RoundTime</th>\n      <th>ATK_wealth</th>\n      <th>DEF_wealth</th>\n      <th>ATK_alive</th>\n      <th>DEF_alive</th>\n      <th>DEF_has_OP</th>\n      <th>Def_has_Odin</th>\n      <th>RegularTime</th>\n      <th>...</th>\n      <th>DEF_duelists</th>\n      <th>DEF_sentinels</th>\n      <th>DEF_controllers</th>\n      <th>ATK_Shields</th>\n      <th>DEF_Shields</th>\n      <th>MapName</th>\n      <th>MatchID</th>\n      <th>SeriesID</th>\n      <th>bestOF</th>\n      <th>FinalWinner</th>\n    </tr>\n  </thead>\n  <tbody>\n    <tr>\n      <th>0</th>\n      <td>172040</td>\n      <td>1</td>\n      <td>0</td>\n      <td>2000</td>\n      <td>2000</td>\n      <td>5</td>\n      <td>5</td>\n      <td>0</td>\n      <td>0</td>\n      <td>0</td>\n      <td>...</td>\n      <td>2</td>\n      <td>1</td>\n      <td>1</td>\n      <td>25</td>\n      <td>100</td>\n      <td>Ascent</td>\n      <td>10425</td>\n      <td>6113</td>\n      <td>3</td>\n      <td>0</td>\n    </tr>\n    <tr>\n      <th>1</th>\n      <td>172040</td>\n      <td>1</td>\n      <td>5973</td>\n      <td>1500</td>\n      <td>2000</td>\n      <td>4</td>\n      <td>5</td>\n      <td>0</td>\n      <td>0</td>\n      <td>6</td>\n      <td>...</td>\n      <td>2</td>\n      <td>1</td>\n      <td>1</td>\n      <td>25</td>\n      <td>100</td>\n      <td>Ascent</td>\n      <td>10425</td>\n      <td>6113</td>\n      <td>3</td>\n      <td>0</td>\n    </tr>\n    <tr>\n      <th>2</th>\n      <td>172040</td>\n      <td>1</td>\n      <td>20664</td>\n      <td>1000</td>\n      <td>2000</td>\n      <td>3</td>\n      <td>5</td>\n      <td>0</td>\n      <td>0</td>\n      <td>21</td>\n      <td>...</td>\n      <td>2</td>\n      <td>1</td>\n      <td>1</td>\n      <td>25</td>\n      <td>100</td>\n      <td>Ascent</td>\n      <td>10425</td>\n      <td>6113</td>\n      <td>3</td>\n      <td>0</td>\n    </tr>\n    <tr>\n      <th>3</th>\n      <td>172040</td>\n      <td>1</td>\n      <td>24676</td>\n      <td>1000</td>\n      <td>1500</td>\n      <td>3</td>\n      <td>4</td>\n      <td>0</td>\n      <td>0</td>\n      <td>25</td>\n      <td>...</td>\n      <td>1</td>\n      <td>1</td>\n      <td>1</td>\n      <td>25</td>\n      <td>75</td>\n      <td>Ascent</td>\n      <td>10425</td>\n      <td>6113</td>\n      <td>3</td>\n      <td>0</td>\n    </tr>\n    <tr>\n      <th>4</th>\n      <td>172040</td>\n      <td>1</td>\n      <td>26225</td>\n      <td>1000</td>\n      <td>1500</td>\n      <td>3</td>\n      <td>4</td>\n      <td>0</td>\n      <td>0</td>\n      <td>26</td>\n      <td>...</td>\n      <td>1</td>\n      <td>1</td>\n      <td>1</td>\n      <td>25</td>\n      <td>75</td>\n      <td>Ascent</td>\n      <td>10425</td>\n      <td>6113</td>\n      <td>3</td>\n      <td>0</td>\n    </tr>\n  </tbody>\n</table>\n<p>5 rows × 28 columns</p>\n</div>"
     },
     "execution_count": 6,
     "metadata": {},
     "output_type": "execute_result"
    }
   ],
   "source": [
    "df.head()"
   ]
  },
  {
   "cell_type": "code",
   "execution_count": 7,
   "id": "62662412-74fc-46d7-b634-77c276d169ca",
   "metadata": {},
   "outputs": [
    {
     "data": {
      "text/plain": "Index(['RoundID', 'RoundNumber', 'RoundTime', 'ATK_wealth', 'DEF_wealth',\n       'ATK_alive', 'DEF_alive', 'DEF_has_OP', 'Def_has_Odin', 'RegularTime',\n       'SpikeTime', 'ATK_bank', 'DEF_bank', 'ATK_initiators', 'ATK_duelists',\n       'ATK_sentinels', 'ATK_controllers', 'DEF_initiators', 'DEF_duelists',\n       'DEF_sentinels', 'DEF_controllers', 'ATK_Shields', 'DEF_Shields',\n       'MapName', 'MatchID', 'SeriesID', 'bestOF', 'FinalWinner'],\n      dtype='object')"
     },
     "execution_count": 7,
     "metadata": {},
     "output_type": "execute_result"
    }
   ],
   "source": [
    "df.columns"
   ]
  },
  {
   "cell_type": "code",
   "execution_count": 8,
   "id": "ba7badbd-39db-407f-93fc-b26d2d9822b5",
   "metadata": {},
   "outputs": [],
   "source": [
    "df = df[[\"ATK_wealth\", \"DEF_wealth\", \"ATK_alive\", \"DEF_alive\", \"DEF_has_OP\", \"Def_has_Odin\",\n",
    "         \"RegularTime\", \"SpikeTime\", \"MapName\", \"FinalWinner\"]]\n",
    "df = pd.get_dummies(df, columns=['MapName'])"
   ]
  },
  {
   "cell_type": "code",
   "execution_count": 9,
   "id": "e1f3711f-e0e8-44ad-870b-81af072f3cba",
   "metadata": {},
   "outputs": [],
   "source": [
    "X = df.drop(['FinalWinner'], axis='columns')\n",
    "Y = df.FinalWinner\n",
    "X_train, X_test, Y_train, Y_test = train_test_split(X, Y, train_size=0.8, test_size=0.2, random_state=15)"
   ]
  },
  {
   "cell_type": "code",
   "execution_count": 10,
   "id": "93a33350-119d-4179-9247-050b9ac8927d",
   "metadata": {},
   "outputs": [
    {
     "name": "stdout",
     "output_type": "stream",
     "text": [
      "Wall time: 3.99 ms\n"
     ]
    },
    {
     "data": {
      "text/plain": "{'bagging_freq': 2,\n 'min_data_in_leaf': 90,\n 'max_depth': 14,\n 'learning_rate': 0.0985717197543476,\n 'num_leaves': 70,\n 'num_threads': 2,\n 'min_sum_hessian_in_leaf': 2}"
     },
     "execution_count": 10,
     "metadata": {},
     "output_type": "execute_result"
    }
   ],
   "source": [
    "%%time\n",
    "params = pd.read_csv('model_params.csv', index_col=False)\n",
    "params = params.to_dict('records')[0]\n",
    "params"
   ]
  },
  {
   "cell_type": "code",
   "execution_count": 11,
   "id": "509acfbc-8264-4740-bfdb-308f0040501b",
   "metadata": {},
   "outputs": [
    {
     "name": "stdout",
     "output_type": "stream",
     "text": [
      "[LightGBM] [Warning] min_data_in_leaf is set=90, min_child_samples=20 will be ignored. Current value: min_data_in_leaf=90\n",
      "[LightGBM] [Warning] min_sum_hessian_in_leaf is set=2, min_child_weight=0.001 will be ignored. Current value: min_sum_hessian_in_leaf=2\n",
      "[LightGBM] [Warning] num_threads is set=2, n_jobs=-1 will be ignored. Current value: num_threads=2\n",
      "[LightGBM] [Warning] bagging_freq is set=2, subsample_freq=0 will be ignored. Current value: bagging_freq=2\n"
     ]
    },
    {
     "data": {
      "text/plain": "LGBMClassifier(bagging_freq=2, learning_rate=0.0985717197543476, max_depth=14,\n               min_data_in_leaf=90, min_sum_hessian_in_leaf=2, num_leaves=70,\n               num_threads=2)"
     },
     "execution_count": 11,
     "metadata": {},
     "output_type": "execute_result"
    }
   ],
   "source": [
    "model = lightgbm.LGBMClassifier(bagging_freq=params[\"bagging_freq\"], min_data_in_leaf=params[\"min_data_in_leaf\"],\n",
    "                                max_depth=params[\"max_depth\"],\n",
    "                                learning_rate=params[\"learning_rate\"], num_leaves=params[\"num_leaves\"],\n",
    "                                num_threads=params[\"num_threads\"], min_sum_hessian_in_leaf=params[\"min_sum_hessian_in_leaf\"])\n",
    "model.fit(X_train, Y_train)"
   ]
  },
  {
   "cell_type": "markdown",
   "id": "bbb687aa-3f3e-4c00-87b5-e7da88d2def0",
   "metadata": {},
   "source": [
    "# <font color='brown'>Dataframe </font>"
   ]
  },
  {
   "cell_type": "code",
   "execution_count": 12,
   "id": "7a59baed-02d8-4050-ad8f-8fdd2f707bde",
   "metadata": {},
   "outputs": [],
   "source": [
    "match = 41359\n",
    "series = 19407"
   ]
  },
  {
   "cell_type": "code",
   "execution_count": 14,
   "id": "3cb67f48-204e-4ce4-bb7f-d278ecce3b06",
   "metadata": {},
   "outputs": [],
   "source": [
    "import os\n",
    "from webscrapping.series_scrap import RIBScrapper\n",
    "from webscrapping.analyse_json import Analyser\n",
    "rb = RIBScrapper(open=False)\n",
    "existing_csv = rb.existing_file(\"{}.csv\".format(match), \"exports\")\n",
    "\n",
    "#if not existing_csv:\n",
    "#    download_link = rb.generate_single_link(series, match)\n",
    "#    rb.export_json_using_selenium(download_link)\n",
    "    \n",
    "#    a = Analyser(\"{}.json\".format(match))\n",
    "#    matchframe = a.export_df(match)\n",
    "#    matchframe.to_csv(r'matches\\exports\\{}.csv'.format(match), index=False)"
   ]
  },
  {
   "cell_type": "code",
   "execution_count": 27,
   "id": "1cfd75ec-6fed-44ad-bcdf-d405b6834872",
   "metadata": {},
   "outputs": [
    {
     "name": "stdout",
     "output_type": "stream",
     "text": [
      "carai\n"
     ]
    }
   ],
   "source": [
    "match_csv = \"{}.csv\".format(match)\n",
    "match_json = \"{}.json\".format(match)\n",
    "match_path = \"{}\\\\{}\\\\{}\".format(raw_path, \"exports\", match_csv)\n",
    "if not os.path.exists(match_path):\n",
    "    match_json_path = \"{}{}\".format(raw_path, \"json\")\n",
    "    if os.path.exists(match_json_path):\n",
    "        a = Analyser(match_json)\n",
    "        match_df = a.export_df(match)\n",
    "        match_df.to_csv(\"matches\\\\exports\\\\{}.csv\".format(match))\n",
    "    else:\n",
    "        print(\"carai\")"
   ]
  },
  {
   "cell_type": "code",
   "execution_count": 16,
   "id": "09bf66f2-d986-4b90-a167-6b349b93b684",
   "metadata": {},
   "outputs": [
    {
     "data": {
      "text/plain": "   ATK_wealth  DEF_wealth  ATK_alive  DEF_alive  DEF_has_OP  Def_has_Odin  \\\n0        2000        2000          5          5           0             0   \n1        1500        2000          4          5           0             0   \n2        1000        2000          3          5           0             0   \n3        1000        1500          3          4           0             0   \n4        1000        1500          3          4           0             0   \n\n   RegularTime  SpikeTime  FinalWinner  MapName_Ascent  MapName_Bind  \\\n0            0          0            0               1             0   \n1            6          0            0               1             0   \n2           21          0            0               1             0   \n3           25          0            0               1             0   \n4           26          0            0               1             0   \n\n   MapName_Breeze  MapName_Haven  MapName_Icebox  MapName_Split  \n0               0              0               0              0  \n1               0              0               0              0  \n2               0              0               0              0  \n3               0              0               0              0  \n4               0              0               0              0  ",
      "text/html": "<div>\n<style scoped>\n    .dataframe tbody tr th:only-of-type {\n        vertical-align: middle;\n    }\n\n    .dataframe tbody tr th {\n        vertical-align: top;\n    }\n\n    .dataframe thead th {\n        text-align: right;\n    }\n</style>\n<table border=\"1\" class=\"dataframe\">\n  <thead>\n    <tr style=\"text-align: right;\">\n      <th></th>\n      <th>ATK_wealth</th>\n      <th>DEF_wealth</th>\n      <th>ATK_alive</th>\n      <th>DEF_alive</th>\n      <th>DEF_has_OP</th>\n      <th>Def_has_Odin</th>\n      <th>RegularTime</th>\n      <th>SpikeTime</th>\n      <th>FinalWinner</th>\n      <th>MapName_Ascent</th>\n      <th>MapName_Bind</th>\n      <th>MapName_Breeze</th>\n      <th>MapName_Haven</th>\n      <th>MapName_Icebox</th>\n      <th>MapName_Split</th>\n    </tr>\n  </thead>\n  <tbody>\n    <tr>\n      <th>0</th>\n      <td>2000</td>\n      <td>2000</td>\n      <td>5</td>\n      <td>5</td>\n      <td>0</td>\n      <td>0</td>\n      <td>0</td>\n      <td>0</td>\n      <td>0</td>\n      <td>1</td>\n      <td>0</td>\n      <td>0</td>\n      <td>0</td>\n      <td>0</td>\n      <td>0</td>\n    </tr>\n    <tr>\n      <th>1</th>\n      <td>1500</td>\n      <td>2000</td>\n      <td>4</td>\n      <td>5</td>\n      <td>0</td>\n      <td>0</td>\n      <td>6</td>\n      <td>0</td>\n      <td>0</td>\n      <td>1</td>\n      <td>0</td>\n      <td>0</td>\n      <td>0</td>\n      <td>0</td>\n      <td>0</td>\n    </tr>\n    <tr>\n      <th>2</th>\n      <td>1000</td>\n      <td>2000</td>\n      <td>3</td>\n      <td>5</td>\n      <td>0</td>\n      <td>0</td>\n      <td>21</td>\n      <td>0</td>\n      <td>0</td>\n      <td>1</td>\n      <td>0</td>\n      <td>0</td>\n      <td>0</td>\n      <td>0</td>\n      <td>0</td>\n    </tr>\n    <tr>\n      <th>3</th>\n      <td>1000</td>\n      <td>1500</td>\n      <td>3</td>\n      <td>4</td>\n      <td>0</td>\n      <td>0</td>\n      <td>25</td>\n      <td>0</td>\n      <td>0</td>\n      <td>1</td>\n      <td>0</td>\n      <td>0</td>\n      <td>0</td>\n      <td>0</td>\n      <td>0</td>\n    </tr>\n    <tr>\n      <th>4</th>\n      <td>1000</td>\n      <td>1500</td>\n      <td>3</td>\n      <td>4</td>\n      <td>0</td>\n      <td>0</td>\n      <td>26</td>\n      <td>0</td>\n      <td>0</td>\n      <td>1</td>\n      <td>0</td>\n      <td>0</td>\n      <td>0</td>\n      <td>0</td>\n      <td>0</td>\n    </tr>\n  </tbody>\n</table>\n</div>"
     },
     "execution_count": 16,
     "metadata": {},
     "output_type": "execute_result"
    }
   ],
   "source": [
    "df.head()"
   ]
  },
  {
   "cell_type": "code",
   "execution_count": null,
   "id": "4fbaa90c-f9a7-4619-92cf-703ee7f2d8b0",
   "metadata": {},
   "outputs": [],
   "source": [
    "from typing import List\n",
    "\n",
    "class RoundReplay:\n",
    "    def __init__(self, match_id: int, df: pd.DataFrame, model):\n",
    "        self.match_id = match_id\n",
    "        self.query = df.query('MatchID == {}'.format(match_id))\n",
    "        self.round_table = self.get_round_table()\n",
    "        self.df = df\n",
    "        self.model = model\n",
    "\n",
    "    def get_round_table(self) -> dict:\n",
    "        g = self.query[[\"RoundNumber\", \"RoundID\"]]\n",
    "        g.drop_duplicates()\n",
    "        return dict(zip(g.RoundNumber, g.RoundID))\n",
    "\n",
    "    def get_round_winners(self) -> dict:\n",
    "        g = self.query[[\"RoundNumber\", \"FinalWinner\"]]\n",
    "        g.drop_duplicates()\n",
    "        return dict(zip(g.RoundNumber, g.FinalWinner))\n",
    "\n",
    "    def get_round_id(self, round_index: int) -> int:\n",
    "        return self.round_table[round_index]\n",
    "\n",
    "    def get_round_dataframe(self, round_index: int):\n",
    "        return self.df.query('RoundID == {}'.format(self.get_round_id(round_index)))\n",
    "\n",
    "    def get_plant_stamp(self, round_number: int) -> int or None:\n",
    "        rdf = self.get_round_dataframe(round_number)\n",
    "        if max(rdf.SpikeTime) == 0:\n",
    "            return None\n",
    "        for i in rdf.iterrows():\n",
    "            current_index = i[0]\n",
    "            current_time = i[1].RegularTime\n",
    "            next_time = tuple(rdf[\"RegularTime\"].loc[[current_index + 1]])[0]\n",
    "            if current_time != 0 and next_time == 0:\n",
    "                return round(tuple(rdf[\"RoundTime\"].loc[[current_index]])[0] / 1000, 0)\n",
    "        return None\n",
    "\n",
    "    def get_round_probability(self, round_number: int, **kwargs):\n",
    "        old_table = self.get_round_dataframe(round_number)\n",
    "        table = old_table[[\"ATK_wealth\", \"DEF_wealth\", \"ATK_alive\", \"DEF_alive\",\n",
    "                           \"DEF_has_OP\", \"Def_has_Odin\",\n",
    "                           \"RegularTime\", \"SpikeTime\", \"MapName\"]]\n",
    "        current_map = table.MapName.max()\n",
    "        map_names = [\"Ascent\", \"Bind\", \"Breeze\", \"Haven\", \"Icebox\", \"Split\"]\n",
    "        map_names.remove(current_map)\n",
    "        table = pd.get_dummies(table, columns=['MapName'])\n",
    "        for item in map_names:\n",
    "            table['MapName_{}'.format(item)] = 0\n",
    "        side = kwargs[\"side\"]\n",
    "        attack_pred = None\n",
    "        if side == \"atk\":\n",
    "            attack_pred = [round(i[1] * 100, 2) for i in self.model.predict_proba(table)]\n",
    "        elif side == \"def\":\n",
    "            attack_pred = [100 - round(i[1] * 100, 2) for i in self.model.predict_proba(table)]\n",
    "        table[\"Attack_win_probability\"] = attack_pred\n",
    "        raw_timings = [int(round(x / 1000, 0)) for x in old_table.RoundTime]\n",
    "        table[\"Round time\"] = raw_timings\n",
    "        return table[[\"Round time\", \"Attack_win_probability\"]]\n",
    "\n",
    "    def get_atk_scores(self) -> List[int]:\n",
    "        dfm = list(self.get_round_winners().values())\n",
    "        score_dict = {'atk': 0, 'def': 0}\n",
    "        atk_scores = []\n",
    "\n",
    "        for i in dfm[:12]:\n",
    "            if i == 1:\n",
    "                score_dict['atk'] += 1\n",
    "            atk_scores.append(score_dict['atk'])\n",
    "        for j in dfm[12:24]:\n",
    "            if j == 0:\n",
    "                score_dict['atk'] += 1\n",
    "            atk_scores.append(score_dict['atk'])\n",
    "\n",
    "        return atk_scores\n",
    "\n",
    "    def get_def_scores(self) -> List[int]:\n",
    "        dfm = list(self.get_round_winners().values())\n",
    "        score_dict = {'atk': 0, 'def': 0}\n",
    "        def_scores = []\n",
    "\n",
    "        for i in dfm[:12]:\n",
    "            if i == 0:\n",
    "                score_dict['def'] += 1\n",
    "            def_scores.append(score_dict['def'])\n",
    "        for j in dfm[12:24]:\n",
    "            if j == 1:\n",
    "                score_dict['def'] += 1\n",
    "            def_scores.append(score_dict['def'])\n",
    "\n",
    "        return def_scores\n",
    "\n",
    "    def get_match_winner(self) -> int:\n",
    "        atks = self.get_atk_scores()\n",
    "        defs = self.get_def_scores()\n",
    "\n",
    "        winner = 0\n",
    "        if atks[-1] == 12 and defs[-1] == 12:\n",
    "            winner = 2\n",
    "        elif atks[-1] == 13:\n",
    "            winner = 1\n",
    "        elif defs[-1] == 13:\n",
    "            winner = 0\n",
    "        return winner\n",
    "\n",
    "    def plot_round(self, round_number: int, **kwargs):\n",
    "        plt.figure(figsize=(12, 5))\n",
    "        chosen_side = kwargs[\"side\"]\n",
    "        color_dict = {\"atk\": \"red\", \"def\": \"blue\"}\n",
    "        round_data = self.get_round_probability(round_number, side=chosen_side)\n",
    "\n",
    "        sns.set_context(rc={'patch.linewidth': 2.0})\n",
    "        sns.set(font_scale=1.3)\n",
    "        ax = sns.lineplot(x=\"Round time\", y=\"Attack_win_probability\", data=round_data,\n",
    "                          linewidth=2.0, zorder=3, color=color_dict[chosen_side])\n",
    "        ax.set(xlabel='Round time (s)', ylabel='Win probability (%)')\n",
    "        ax.xaxis.labelpad = 10\n",
    "        ax.yaxis.labelpad = 12\n",
    "        ax.grid(linewidth=.4, color='gray', zorder=0)\n",
    "        title_dict = {\"atk\": \"Attack\", \"def\": \"Defense\"}\n",
    "        plt.title(\"{} win probability over time\".format(title_dict[chosen_side]))\n",
    "        ax.lines[0].set_marker(\"o\")\n",
    "        ax.lines[0].set_markersize(9)\n",
    "        plt.axhline(y=0, color=\"black\")\n",
    "        plt.axhline(y=50, linestyle=\"--\", color=\"grey\")\n",
    "        plant = self.get_plant_stamp(round_number)\n",
    "        if plant is not None:\n",
    "            plt.axvline(x=plant)\n",
    "\n",
    "        arrow = {'facecolor': 'tab:blue', 'shrink': 0.05, 'alpha': 0.75}\n",
    "        # plt.gca().annotate('nzr 2 frenzy kills', xy=(5.5, 61), xytext=(-8, 70), arrowprops=arrow, fontsize=13, color='green', weight='bold')\n",
    "        # plt.gca().annotate('khalil stinger kill', xy=(16.8, 91), xytext=(-1, 90), arrowprops=arrow, fontsize=13, color='green', weight='bold')\n",
    "        # plt.gca().annotate('zaks deleta o xand, \\nmas o round já estava encaminhado', xy=(24, 79), xytext=(16, 60), arrowprops=arrow, fontsize=13, color='red', weight='bold')\n",
    "        # plt.gca().annotate('FURIA only has 20% chance \\n of winning this round', xy=(0, 17), xytext=(10, 5), arrowprops=arrow, fontsize=13, color='red', weight='bold')\n"
   ]
  },
  {
   "cell_type": "code",
   "execution_count": null,
   "id": "3f31b943-06ed-461f-bb7c-dfcc433aedbd",
   "metadata": {},
   "outputs": [],
   "source": [
    "rr = RoundReplay(match, df, model)\n",
    "rr.plot_round(7, side=\"def\")"
   ]
  },
  {
   "cell_type": "code",
   "execution_count": null,
   "id": "4274a4af-37cb-44fe-a776-3e9e9cf0eee5",
   "metadata": {},
   "outputs": [],
   "source": [
    "rr.get_round_probability(7, side=\"def\")"
   ]
  },
  {
   "cell_type": "code",
   "execution_count": null,
   "id": "c1a4636f-170e-468a-a910-b3690ae7eaf6",
   "metadata": {
    "scrolled": true,
    "tags": []
   },
   "outputs": [],
   "source": [
    "rr.get_round_dataframe(7)"
   ]
  },
  {
   "cell_type": "code",
   "execution_count": null,
   "id": "0134b24a-f34f-4502-8e41-81096e2edc8e",
   "metadata": {},
   "outputs": [],
   "source": [
    "rr.get_match_winner()"
   ]
  },
  {
   "cell_type": "code",
   "execution_count": null,
   "id": "9f6491e0-9265-4a76-ae94-5f4d0b5f5605",
   "metadata": {},
   "outputs": [],
   "source": [
    "r_number = pd.Series(rr.get_round_table().keys())\n",
    "r_atk = pd.Series(rr.get_atk_scores())\n",
    "r_def = pd.Series(rr.get_def_scores())\n",
    "r_winner = pd.Series([rr.get_match_winner()] * len(r_number))\n",
    "r_ids = pd.Series([rr.match_id] * len(r_number))\n",
    "\n",
    "frame = {'MatchID': r_ids, 'RoundNumber': r_number, 'AtkScore': r_atk, 'DefScore': r_def, 'FinalWinner': r_winner}\n",
    "\n",
    "match_frame = pd.DataFrame(frame)"
   ]
  },
  {
   "cell_type": "code",
   "execution_count": null,
   "id": "d70e5490-69bc-4c8f-bc99-a8a6a333b7b7",
   "metadata": {},
   "outputs": [],
   "source": [
    "match_frame"
   ]
  },
  {
   "cell_type": "code",
   "execution_count": null,
   "id": "38231134-8db4-4a4c-96b3-a47331d8ad46",
   "metadata": {},
   "outputs": [],
   "source": []
  },
  {
   "cell_type": "code",
   "execution_count": null,
   "id": "d4392a7c-5cf1-4efc-8711-ce4d40ac329b",
   "metadata": {},
   "outputs": [],
   "source": []
  },
  {
   "cell_type": "code",
   "execution_count": null,
   "id": "a644c8d3-a098-4365-9ea7-e692edf9de23",
   "metadata": {},
   "outputs": [],
   "source": []
  },
  {
   "cell_type": "markdown",
   "id": "93e417df-711b-40ab-a903-a2d6b54ab0e5",
   "metadata": {},
   "source": [
    "https://runitback.gg/series/12745?match=25645&round=19&tab=replay"
   ]
  },
  {
   "cell_type": "markdown",
   "id": "9a5fb34b-c94a-4973-a5d5-26173041fc4a",
   "metadata": {},
   "source": [
    "# Match"
   ]
  },
  {
   "cell_type": "code",
   "execution_count": null,
   "id": "bbfcb91c-881a-42cc-bf53-9070ad7253e8",
   "metadata": {},
   "outputs": [],
   "source": [
    "match = 26508\n",
    "path2 = 'D:\\\\Documents\\\\GitHub\\\\Classification_datascience\\\\webscrapping\\\\matches\\\\rounds\\\\combined_csv.csv'\n",
    "data = pd.read_csv('{}'.format(path2))"
   ]
  },
  {
   "cell_type": "code",
   "execution_count": null,
   "id": "f20fabde-bc16-431c-b993-631f725fe998",
   "metadata": {},
   "outputs": [],
   "source": [
    "class MatchReplay:\n",
    "    def __init__(self, match_id: int, input_df: pd.DataFrame):\n",
    "        self.df: pd.DataFrame = input_df\n",
    "        self.match_id: int = match_id\n",
    "        self.query: pd.DataFrame = input_df.query('MatchID == {}'.format(match_id))\n",
    "\n",
    "    def get_round_table(self) -> dict:\n",
    "        g = self.query[[\"RoundNumber\", \"RoundID\"]]\n",
    "        g.drop_duplicates()\n",
    "        return dict(zip(g.RoundNumber, g.RoundID))\n",
    "\n",
    "    def get_atk_scores(self) -> List[int]:\n",
    "        dfm = list(self.get_round_winners().values())\n",
    "        score_dict = {'atk': 0, 'def': 0}\n",
    "        atk_scores = []\n",
    "\n",
    "        for i in dfm[:12]:\n",
    "            if i == 1:\n",
    "                score_dict['atk'] += 1\n",
    "            atk_scores.append(score_dict['atk'])\n",
    "        for j in dfm[12:24]:\n",
    "            if j == 0:\n",
    "                score_dict['atk'] += 1\n",
    "            atk_scores.append(score_dict['atk'])\n",
    "\n",
    "        return atk_scores\n",
    "\n",
    "    def get_round_winners(self) -> dict:\n",
    "        g = self.query[[\"RoundNumber\", \"FinalWinner\"]]\n",
    "        g.drop_duplicates()\n",
    "        return dict(zip(g.RoundNumber, g.FinalWinner))\n",
    "\n",
    "    def get_def_scores(self) -> List[int]:\n",
    "        dfm = list(self.get_round_winners().values())\n",
    "        score_dict = {'atk': 0, 'def': 0}\n",
    "        def_scores = []\n",
    "\n",
    "        for i in dfm[:12]:\n",
    "            if i == 0:\n",
    "                score_dict['def'] += 1\n",
    "            def_scores.append(score_dict['def'])\n",
    "        for j in dfm[12:24]:\n",
    "            if j == 1:\n",
    "                score_dict['def'] += 1\n",
    "            def_scores.append(score_dict['def'])\n",
    "\n",
    "        return def_scores\n",
    "\n",
    "    def get_match_winner(self) -> int:\n",
    "        atks = self.get_atk_scores()\n",
    "        defs = self.get_def_scores()\n",
    "\n",
    "        winner = 0\n",
    "        if atks[-1] == 12 and defs[-1] == 12:\n",
    "            winner = 2\n",
    "        elif atks[-1] == 13:\n",
    "            winner = 1\n",
    "        elif defs[-1] == 13:\n",
    "            winner = 0\n",
    "        return winner\n",
    "\n",
    "    def generate_match_dataframe(self) -> pd.DataFrame:\n",
    "        r_number = pd.Series(self.get_round_table().keys())\n",
    "        r_atk = pd.Series(self.get_atk_scores())\n",
    "        r_def = pd.Series(self.get_def_scores())\n",
    "        r_winner = pd.Series([self.get_match_winner()] * len(r_number))\n",
    "        r_ids = pd.Series([self.match_id] * len(r_number))\n",
    "\n",
    "        frame = {'MatchID': r_ids, 'RoundNumber': r_number, 'AtkScore': r_atk, 'DefScore': r_def,\n",
    "                 'FinalWinner': r_winner}\n",
    "\n",
    "        d_frame = pd.DataFrame(frame)\n",
    "        d_frame.dropna()\n",
    "\n",
    "        return d_frame\n",
    "\n",
    "    def get_all_matches(self) -> set:\n",
    "        return set(self.df.MatchID)\n",
    "    \n",
    "    def get_atk_bank(self):\n",
    "        return [\n",
    "            max(self.query.query('RoundNumber == {}'.format(r)).ATK_bank)\n",
    "            for r in self.get_round_table().keys()\n",
    "        ]\n",
    "\n",
    "    def get_big_dataframe(self):\n",
    "        df_list = []\n",
    "        match_indexes = list(self.get_all_matches())\n",
    "\n",
    "        for i in match_indexes:\n",
    "            self.match_id = i\n",
    "            self.query: pd.DataFrame = self.df.query('MatchID == {}'.format(i))\n",
    "            df_list.append(self.generate_match_dataframe())\n",
    "\n",
    "        merged = pd.concat(df_list)\n",
    "        merged.dropna(inplace=True)\n",
    "        merged[\"AtkScore\"] = merged[\"AtkScore\"].astype(int)\n",
    "        merged[\"DefScore\"] = merged[\"DefScore\"].astype(int)\n",
    "\n",
    "        return merged\n",
    "\n",
    "    def export_big_dataframe(self):\n",
    "        big_df = self.get_big_dataframe()\n",
    "        big_df.to_csv(r'matches\\rounds\\matches_csv.csv', index=False)\n",
    "        \n",
    "mr = MatchReplay(match, data)"
   ]
  },
  {
   "cell_type": "code",
   "execution_count": null,
   "id": "127f3426-3b47-4204-a414-403484ae918d",
   "metadata": {
    "scrolled": true,
    "tags": []
   },
   "outputs": [],
   "source": [
    "%%time\n",
    "qq = mr.get_big_dataframe()\n",
    "qq"
   ]
  },
  {
   "cell_type": "code",
   "execution_count": null,
   "id": "d6af9f61-1c73-42fd-8b13-e315dd86d7b4",
   "metadata": {},
   "outputs": [],
   "source": [
    "mr.get_atk_bank()"
   ]
  },
  {
   "cell_type": "code",
   "execution_count": null,
   "id": "85056435-e063-494a-aea9-711a63d7e049",
   "metadata": {},
   "outputs": [],
   "source": []
  },
  {
   "cell_type": "code",
   "execution_count": null,
   "id": "aef54412-2199-4132-b1b9-40c5727ae290",
   "metadata": {},
   "outputs": [],
   "source": [
    "mr.generate_match_dataframe()"
   ]
  },
  {
   "cell_type": "code",
   "execution_count": null,
   "id": "2404c87d-a5c0-4a04-9384-5f3dc0da70f5",
   "metadata": {},
   "outputs": [],
   "source": []
  }
 ],
 "metadata": {
  "kernelspec": {
   "display_name": "Python 3",
   "language": "python",
   "name": "python3"
  },
  "language_info": {
   "codemirror_mode": {
    "name": "ipython",
    "version": 3
   },
   "file_extension": ".py",
   "mimetype": "text/x-python",
   "name": "python",
   "nbconvert_exporter": "python",
   "pygments_lexer": "ipython3",
   "version": "3.8.8"
  }
 },
 "nbformat": 4,
 "nbformat_minor": 5
}