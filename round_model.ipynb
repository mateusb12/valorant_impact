{
 "cells": [
  {
   "cell_type": "markdown",
   "id": "aec121bb-23f1-4482-ab8f-16d0a8322d0c",
   "metadata": {},
   "source": [
    "# <font color='brown'>Setup </font>"
   ]
  },
  {
   "cell_type": "code",
   "execution_count": 1,
   "id": "440266f6-91e9-4e88-9ce3-6da5068935b1",
   "metadata": {},
   "outputs": [],
   "source": [
    "import pandas as pd\n",
    "from sklearn.model_selection import train_test_split, cross_val_score\n",
    "import lightgbm\n",
    "from matplotlib import pyplot as plt\n",
    "import seaborn as sns"
   ]
  },
  {
   "cell_type": "code",
   "execution_count": 2,
   "id": "3f370eb4-8b6a-41a9-94c0-1458451bf106",
   "metadata": {},
   "outputs": [],
   "source": [
    "path = 'D:\\\\Documents\\\\GitHub\\\\Classification_datascience\\\\webscrapping\\\\matches\\\\rounds\\\\'\n",
    "df = pd.read_csv('{}combined_csv.csv'.format(path))"
   ]
  },
  {
   "cell_type": "code",
   "execution_count": 3,
   "id": "ba7badbd-39db-407f-93fc-b26d2d9822b5",
   "metadata": {},
   "outputs": [],
   "source": [
    "df = df[[\"ATK_wealth\", \"DEF_wealth\", \"ATK_alive\", \"DEF_alive\", \"DEF_has_OP\", \"Def_has_Odin\",\n",
    "         \"RegularTime\", \"SpikeTime\", \"MapName\", \"FinalWinner\"]]\n",
    "df = pd.get_dummies(df, columns=['MapName'])"
   ]
  },
  {
   "cell_type": "code",
   "execution_count": 4,
   "id": "e1f3711f-e0e8-44ad-870b-81af072f3cba",
   "metadata": {},
   "outputs": [],
   "source": [
    "X = df.drop(['FinalWinner'], axis='columns')\n",
    "Y = df.FinalWinner\n",
    "X_train, X_test, Y_train, Y_test = train_test_split(X, Y, train_size=0.8, test_size=0.2, random_state=15)"
   ]
  },
  {
   "cell_type": "code",
   "execution_count": 5,
   "id": "93a33350-119d-4179-9247-050b9ac8927d",
   "metadata": {},
   "outputs": [
    {
     "name": "stdout",
     "output_type": "stream",
     "text": [
      "Wall time: 3.02 ms\n"
     ]
    },
    {
     "data": {
      "text/plain": [
       "{'bagging_freq': 6,\n",
       " 'min_data_in_leaf': 6,\n",
       " 'max_depth': 16,\n",
       " 'learning_rate': 0.0979917818893467,\n",
       " 'num_leaves': 65,\n",
       " 'num_threads': 4,\n",
       " 'min_sum_hessian_in_leaf': 6}"
      ]
     },
     "execution_count": 5,
     "metadata": {},
     "output_type": "execute_result"
    }
   ],
   "source": [
    "%%time\n",
    "params = pd.read_csv('model_params.csv', index_col=False)\n",
    "params = params.to_dict('records')[0]\n",
    "params"
   ]
  },
  {
   "cell_type": "code",
   "execution_count": 6,
   "id": "509acfbc-8264-4740-bfdb-308f0040501b",
   "metadata": {},
   "outputs": [
    {
     "name": "stdout",
     "output_type": "stream",
     "text": [
      "[LightGBM] [Warning] min_data_in_leaf is set=6, min_child_samples=20 will be ignored. Current value: min_data_in_leaf=6\n",
      "[LightGBM] [Warning] min_sum_hessian_in_leaf is set=6, min_child_weight=0.001 will be ignored. Current value: min_sum_hessian_in_leaf=6\n",
      "[LightGBM] [Warning] num_threads is set=4, n_jobs=-1 will be ignored. Current value: num_threads=4\n",
      "[LightGBM] [Warning] bagging_freq is set=6, subsample_freq=0 will be ignored. Current value: bagging_freq=6\n"
     ]
    },
    {
     "data": {
      "text/plain": [
       "LGBMClassifier(bagging_freq=6, learning_rate=0.0979917818893467, max_depth=16,\n",
       "               min_data_in_leaf=6, min_sum_hessian_in_leaf=6, num_leaves=65,\n",
       "               num_threads=4)"
      ]
     },
     "execution_count": 6,
     "metadata": {},
     "output_type": "execute_result"
    }
   ],
   "source": [
    "model = lightgbm.LGBMClassifier(bagging_freq=params[\"bagging_freq\"], min_data_in_leaf=params[\"min_data_in_leaf\"],\n",
    "                                max_depth=params[\"max_depth\"],\n",
    "                                learning_rate=params[\"learning_rate\"], num_leaves=params[\"num_leaves\"],\n",
    "                                num_threads=params[\"num_threads\"], min_sum_hessian_in_leaf=params[\"min_sum_hessian_in_leaf\"])\n",
    "model.fit(X_train, Y_train)"
   ]
  },
  {
   "cell_type": "markdown",
   "id": "bbb687aa-3f3e-4c00-87b5-e7da88d2def0",
   "metadata": {},
   "source": [
    "# <font color='brown'>Dataframe </font>"
   ]
  },
  {
   "cell_type": "code",
   "execution_count": 7,
   "id": "1cfd75ec-6fed-44ad-bcdf-d405b6834872",
   "metadata": {},
   "outputs": [],
   "source": [
    "df = pd.read_csv('{}combined_csv.csv'.format(path))"
   ]
  },
  {
   "cell_type": "code",
   "execution_count": 8,
   "id": "09bf66f2-d986-4b90-a167-6b349b93b684",
   "metadata": {},
   "outputs": [
    {
     "data": {
      "text/html": [
       "<div>\n",
       "<style scoped>\n",
       "    .dataframe tbody tr th:only-of-type {\n",
       "        vertical-align: middle;\n",
       "    }\n",
       "\n",
       "    .dataframe tbody tr th {\n",
       "        vertical-align: top;\n",
       "    }\n",
       "\n",
       "    .dataframe thead th {\n",
       "        text-align: right;\n",
       "    }\n",
       "</style>\n",
       "<table border=\"1\" class=\"dataframe\">\n",
       "  <thead>\n",
       "    <tr style=\"text-align: right;\">\n",
       "      <th></th>\n",
       "      <th>RoundID</th>\n",
       "      <th>RoundNumber</th>\n",
       "      <th>RoundTime</th>\n",
       "      <th>ATK_wealth</th>\n",
       "      <th>DEF_wealth</th>\n",
       "      <th>ATK_alive</th>\n",
       "      <th>DEF_alive</th>\n",
       "      <th>DEF_has_OP</th>\n",
       "      <th>Def_has_Odin</th>\n",
       "      <th>RegularTime</th>\n",
       "      <th>SpikeTime</th>\n",
       "      <th>MapName</th>\n",
       "      <th>MatchID</th>\n",
       "      <th>SeriesID</th>\n",
       "      <th>bestOF</th>\n",
       "      <th>FinalWinner</th>\n",
       "    </tr>\n",
       "  </thead>\n",
       "  <tbody>\n",
       "    <tr>\n",
       "      <th>0</th>\n",
       "      <td>315892</td>\n",
       "      <td>1</td>\n",
       "      <td>0</td>\n",
       "      <td>500.0</td>\n",
       "      <td>0.0</td>\n",
       "      <td>5</td>\n",
       "      <td>5</td>\n",
       "      <td>0</td>\n",
       "      <td>0</td>\n",
       "      <td>0</td>\n",
       "      <td>0</td>\n",
       "      <td>Haven</td>\n",
       "      <td>20000</td>\n",
       "      <td>10448</td>\n",
       "      <td>1</td>\n",
       "      <td>0</td>\n",
       "    </tr>\n",
       "    <tr>\n",
       "      <th>1</th>\n",
       "      <td>315892</td>\n",
       "      <td>1</td>\n",
       "      <td>21250</td>\n",
       "      <td>500.0</td>\n",
       "      <td>0.0</td>\n",
       "      <td>5</td>\n",
       "      <td>4</td>\n",
       "      <td>0</td>\n",
       "      <td>0</td>\n",
       "      <td>21</td>\n",
       "      <td>0</td>\n",
       "      <td>Haven</td>\n",
       "      <td>20000</td>\n",
       "      <td>10448</td>\n",
       "      <td>1</td>\n",
       "      <td>0</td>\n",
       "    </tr>\n",
       "    <tr>\n",
       "      <th>2</th>\n",
       "      <td>315892</td>\n",
       "      <td>1</td>\n",
       "      <td>21911</td>\n",
       "      <td>400.0</td>\n",
       "      <td>0.0</td>\n",
       "      <td>4</td>\n",
       "      <td>4</td>\n",
       "      <td>0</td>\n",
       "      <td>0</td>\n",
       "      <td>22</td>\n",
       "      <td>0</td>\n",
       "      <td>Haven</td>\n",
       "      <td>20000</td>\n",
       "      <td>10448</td>\n",
       "      <td>1</td>\n",
       "      <td>0</td>\n",
       "    </tr>\n",
       "    <tr>\n",
       "      <th>3</th>\n",
       "      <td>315892</td>\n",
       "      <td>1</td>\n",
       "      <td>23629</td>\n",
       "      <td>300.0</td>\n",
       "      <td>0.0</td>\n",
       "      <td>3</td>\n",
       "      <td>4</td>\n",
       "      <td>0</td>\n",
       "      <td>0</td>\n",
       "      <td>24</td>\n",
       "      <td>0</td>\n",
       "      <td>Haven</td>\n",
       "      <td>20000</td>\n",
       "      <td>10448</td>\n",
       "      <td>1</td>\n",
       "      <td>0</td>\n",
       "    </tr>\n",
       "    <tr>\n",
       "      <th>4</th>\n",
       "      <td>315892</td>\n",
       "      <td>1</td>\n",
       "      <td>25601</td>\n",
       "      <td>200.0</td>\n",
       "      <td>0.0</td>\n",
       "      <td>2</td>\n",
       "      <td>4</td>\n",
       "      <td>0</td>\n",
       "      <td>0</td>\n",
       "      <td>26</td>\n",
       "      <td>0</td>\n",
       "      <td>Haven</td>\n",
       "      <td>20000</td>\n",
       "      <td>10448</td>\n",
       "      <td>1</td>\n",
       "      <td>0</td>\n",
       "    </tr>\n",
       "  </tbody>\n",
       "</table>\n",
       "</div>"
      ],
      "text/plain": [
       "   RoundID  RoundNumber  RoundTime  ATK_wealth  DEF_wealth  ATK_alive  \\\n",
       "0   315892            1          0       500.0         0.0          5   \n",
       "1   315892            1      21250       500.0         0.0          5   \n",
       "2   315892            1      21911       400.0         0.0          4   \n",
       "3   315892            1      23629       300.0         0.0          3   \n",
       "4   315892            1      25601       200.0         0.0          2   \n",
       "\n",
       "   DEF_alive  DEF_has_OP  Def_has_Odin  RegularTime  SpikeTime MapName  \\\n",
       "0          5           0             0            0          0   Haven   \n",
       "1          4           0             0           21          0   Haven   \n",
       "2          4           0             0           22          0   Haven   \n",
       "3          4           0             0           24          0   Haven   \n",
       "4          4           0             0           26          0   Haven   \n",
       "\n",
       "   MatchID  SeriesID  bestOF  FinalWinner  \n",
       "0    20000     10448       1            0  \n",
       "1    20000     10448       1            0  \n",
       "2    20000     10448       1            0  \n",
       "3    20000     10448       1            0  \n",
       "4    20000     10448       1            0  "
      ]
     },
     "execution_count": 8,
     "metadata": {},
     "output_type": "execute_result"
    }
   ],
   "source": [
    "df.head()"
   ]
  },
  {
   "cell_type": "code",
   "execution_count": 74,
   "id": "4fbaa90c-f9a7-4619-92cf-703ee7f2d8b0",
   "metadata": {},
   "outputs": [],
   "source": [
    "class RoundReplay:\n",
    "    def __init__(self, match_id: int):\n",
    "        self.match_id = match_id\n",
    "        self.query = df.query('MatchID == {}'.format(match_id))\n",
    "        self.round_table = self.get_round_table()\n",
    "        \n",
    "    def get_round_table(self) -> dict:\n",
    "        g = self.query[[\"RoundNumber\", \"RoundID\"]]\n",
    "        g.drop_duplicates()\n",
    "        return dict(zip(g.RoundNumber, g.RoundID))\n",
    "    \n",
    "    def get_round_id(self, round_index: int) -> int:\n",
    "        return self.round_table[round_index]\n",
    "    \n",
    "    def get_round_dataframe(self, round_index: int):\n",
    "        return df.query('RoundID == {}'.format(self.get_round_id(round_index)))\n",
    "    \n",
    "    def get_round_probability(self, round_number: int, **kwargs):\n",
    "        old_table = self.get_round_dataframe(round_number)\n",
    "        table = old_table[[\"ATK_wealth\", \"DEF_wealth\", \"ATK_alive\", \"DEF_alive\",\n",
    "                           \"DEF_has_OP\", \"Def_has_Odin\",\n",
    "                           \"RegularTime\", \"SpikeTime\", \"MapName\"]]\n",
    "        current_map = table.MapName.max()\n",
    "        map_names = [\"Ascent\", \"Bind\", \"Breeze\", \"Haven\", \"Icebox\", \"Split\"]\n",
    "        map_names.remove(current_map)\n",
    "        table = pd.get_dummies(table, columns=['MapName'])\n",
    "        for item in map_names:\n",
    "            table['MapName_{}'.format(item)] = 0\n",
    "        side = kwargs[\"side\"]\n",
    "        if side == \"atk\":\n",
    "            attack_pred = [round(i[1] * 100, 2) for i in model.predict_proba(table)]\n",
    "        elif side == \"def\":\n",
    "            attack_pred = [100-round(i[1] * 100, 2) for i in model.predict_proba(table)]\n",
    "        table[\"Attack_win_probability\"] = attack_pred\n",
    "        raw_timings = [int(round(x / 1000, 0)) for x in old_table.RoundTime]\n",
    "        table[\"Round time\"] = raw_timings\n",
    "        return table[[\"Round time\", \"Attack_win_probability\"]]\n",
    "        \n",
    "    def plot_round(self, round_number: int, **kwargs):\n",
    "        plt.figure(figsize = (12,5))\n",
    "        round_data = self.get_round_probability(round_number, side=kwargs[\"side\"])\n",
    "\n",
    "        sns.set_context(rc = {'patch.linewidth': 2.0})\n",
    "        sns.set(font_scale=1.3)\n",
    "        ax = sns.lineplot(x=\"Round time\", y=\"Attack_win_probability\", data=round_data,\n",
    "                          linewidth=2.0, zorder=3, palette=sns.color_palette(\"deep\"))\n",
    "        ax.set(xlabel='Round time (s)', ylabel='Win probability (%)')\n",
    "        ax.xaxis.labelpad = 10\n",
    "        ax.yaxis.labelpad = 12\n",
    "        ax.grid(linewidth=.4, color='gray', zorder=0)\n",
    "        title_dict = {\"atk\": \"Attack\", \"def\": \"Defense\"}\n",
    "        plt.title(\"{} win probability over time\".format(title_dict[kwargs[\"side\"]]))"
   ]
  },
  {
   "cell_type": "code",
   "execution_count": 75,
   "id": "3f31b943-06ed-461f-bb7c-dfcc433aedbd",
   "metadata": {},
   "outputs": [],
   "source": [
    "rr = RoundReplay(25645)"
   ]
  },
  {
   "cell_type": "code",
   "execution_count": 78,
   "id": "c1a4636f-170e-468a-a910-b3690ae7eaf6",
   "metadata": {},
   "outputs": [
    {
     "data": {
      "image/png": "[encoded data removed]",
      "text/plain": [
       "<Figure size 864x360 with 1 Axes>"
      ]
     },
     "metadata": {},
     "output_type": "display_data"
    }
   ],
   "source": [
    "rr.plot_round(13, side=\"def\")"
   ]
  },
  {
   "cell_type": "code",
   "execution_count": null,
   "id": "d70e5490-69bc-4c8f-bc99-a8a6a333b7b7",
   "metadata": {},
   "outputs": [],
   "source": []
  },
  {
   "cell_type": "code",
   "execution_count": null,
   "id": "38231134-8db4-4a4c-96b3-a47331d8ad46",
   "metadata": {},
   "outputs": [],
   "source": []
  },
  {
   "cell_type": "code",
   "execution_count": null,
   "id": "d4392a7c-5cf1-4efc-8711-ce4d40ac329b",
   "metadata": {},
   "outputs": [],
   "source": []
  },
  {
   "cell_type": "code",
   "execution_count": null,
   "id": "a644c8d3-a098-4365-9ea7-e692edf9de23",
   "metadata": {},
   "outputs": [],
   "source": []
  },
  {
   "cell_type": "markdown",
   "id": "93e417df-711b-40ab-a903-a2d6b54ab0e5",
   "metadata": {},
   "source": [
    "https://runitback.gg/series/12745?match=25645&round=19&tab=replay"
   ]
  },
  {
   "cell_type": "code",
   "execution_count": null,
   "id": "95de6621-11b4-4546-b182-01de3129f9fd",
   "metadata": {},
   "outputs": [],
   "source": []
  }
 ],
 "metadata": {
  "kernelspec": {
   "display_name": "Python 3",
   "language": "python",
   "name": "python3"
  },
  "language_info": {
   "codemirror_mode": {
    "name": "ipython",
    "version": 3
   },
   "file_extension": ".py",
   "mimetype": "text/x-python",
   "name": "python",
   "nbconvert_exporter": "python",
   "pygments_lexer": "ipython3",
   "version": "3.8.8"
  }
 },
 "nbformat": 4,
 "nbformat_minor": 5
}
