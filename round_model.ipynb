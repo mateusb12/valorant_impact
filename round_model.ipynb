{
 "cells": [
  {
   "cell_type": "markdown",
   "id": "aec121bb-23f1-4482-ab8f-16d0a8322d0c",
   "metadata": {},
   "source": [
    "# <font color='brown'>Setup </font>"
   ]
  },
  {
   "cell_type": "code",
   "execution_count": 1,
   "id": "440266f6-91e9-4e88-9ce3-6da5068935b1",
   "metadata": {},
   "outputs": [],
   "source": [
    "import os\n",
    "import pandas as pd\n",
    "from sklearn.model_selection import train_test_split, cross_val_score\n",
    "import lightgbm\n",
    "from matplotlib import pyplot as plt\n",
    "import seaborn as sns"
   ]
  },
  {
   "cell_type": "code",
   "execution_count": 2,
   "id": "5672b0a4-035e-4f21-9226-a33ea6c1fd3c",
   "metadata": {},
   "outputs": [],
   "source": [
    "def get_current_folder():\n",
    "    return os.getcwd().split(\"\\\\\")[-1]"
   ]
  },
  {
   "cell_type": "code",
   "execution_count": 3,
   "id": "3f370eb4-8b6a-41a9-94c0-1458451bf106",
   "metadata": {},
   "outputs": [],
   "source": [
    "path = 'D:\\\\Documents\\\\GitHub\\\\Classification_datascience\\\\webscrapping\\\\matches\\\\rounds\\\\'\n",
    "df = pd.read_csv('{}combined_csv.csv'.format(path))"
   ]
  },
  {
   "cell_type": "code",
   "execution_count": null,
   "id": "98476a3d-6c14-420e-af07-902424f2a706",
   "metadata": {},
   "outputs": [],
   "source": [
    "df.head()"
   ]
  },
  {
   "cell_type": "code",
   "execution_count": 4,
   "id": "ba7badbd-39db-407f-93fc-b26d2d9822b5",
   "metadata": {},
   "outputs": [],
   "source": [
    "df = df[[\"ATK_wealth\", \"DEF_wealth\", \"ATK_alive\", \"DEF_alive\", \"DEF_has_OP\", \"Def_has_Odin\",\n",
    "         \"RegularTime\", \"SpikeTime\", \"MapName\", \"FinalWinner\"]]\n",
    "df = pd.get_dummies(df, columns=['MapName'])"
   ]
  },
  {
   "cell_type": "code",
   "execution_count": 5,
   "id": "e1f3711f-e0e8-44ad-870b-81af072f3cba",
   "metadata": {},
   "outputs": [],
   "source": [
    "X = df.drop(['FinalWinner'], axis='columns')\n",
    "Y = df.FinalWinner\n",
    "X_train, X_test, Y_train, Y_test = train_test_split(X, Y, train_size=0.8, test_size=0.2, random_state=15)"
   ]
  },
  {
   "cell_type": "code",
   "execution_count": 6,
   "id": "93a33350-119d-4179-9247-050b9ac8927d",
   "metadata": {},
   "outputs": [
    {
     "name": "stdout",
     "output_type": "stream",
     "text": [
      "Wall time: 3.99 ms\n"
     ]
    },
    {
     "data": {
      "text/plain": [
       "{'bagging_freq': 4,\n",
       " 'min_data_in_leaf': 79,\n",
       " 'max_depth': 12,\n",
       " 'learning_rate': 0.0973296606794155,\n",
       " 'num_leaves': 66,\n",
       " 'num_threads': 7,\n",
       " 'min_sum_hessian_in_leaf': 8}"
      ]
     },
     "execution_count": 6,
     "metadata": {},
     "output_type": "execute_result"
    }
   ],
   "source": [
    "%%time\n",
    "params = pd.read_csv('model_params.csv', index_col=False)\n",
    "params = params.to_dict('records')[0]\n",
    "params"
   ]
  },
  {
   "cell_type": "code",
   "execution_count": 7,
   "id": "509acfbc-8264-4740-bfdb-308f0040501b",
   "metadata": {},
   "outputs": [
    {
     "name": "stdout",
     "output_type": "stream",
     "text": [
      "[LightGBM] [Warning] min_data_in_leaf is set=79, min_child_samples=20 will be ignored. Current value: min_data_in_leaf=79\n",
      "[LightGBM] [Warning] min_sum_hessian_in_leaf is set=8, min_child_weight=0.001 will be ignored. Current value: min_sum_hessian_in_leaf=8\n",
      "[LightGBM] [Warning] num_threads is set=7, n_jobs=-1 will be ignored. Current value: num_threads=7\n",
      "[LightGBM] [Warning] bagging_freq is set=4, subsample_freq=0 will be ignored. Current value: bagging_freq=4\n"
     ]
    },
    {
     "data": {
      "text/plain": [
       "LGBMClassifier(bagging_freq=4, learning_rate=0.0973296606794155, max_depth=12,\n",
       "               min_data_in_leaf=79, min_sum_hessian_in_leaf=8, num_leaves=66,\n",
       "               num_threads=7)"
      ]
     },
     "execution_count": 7,
     "metadata": {},
     "output_type": "execute_result"
    }
   ],
   "source": [
    "model = lightgbm.LGBMClassifier(bagging_freq=params[\"bagging_freq\"], min_data_in_leaf=params[\"min_data_in_leaf\"],\n",
    "                                max_depth=params[\"max_depth\"],\n",
    "                                learning_rate=params[\"learning_rate\"], num_leaves=params[\"num_leaves\"],\n",
    "                                num_threads=params[\"num_threads\"], min_sum_hessian_in_leaf=params[\"min_sum_hessian_in_leaf\"])\n",
    "model.fit(X_train, Y_train)"
   ]
  },
  {
   "cell_type": "markdown",
   "id": "bbb687aa-3f3e-4c00-87b5-e7da88d2def0",
   "metadata": {},
   "source": [
    "# <font color='brown'>Dataframe </font>"
   ]
  },
  {
   "cell_type": "code",
   "execution_count": 8,
   "id": "7a59baed-02d8-4050-ad8f-8fdd2f707bde",
   "metadata": {},
   "outputs": [],
   "source": [
    "match = 26426\n",
    "series = 13189"
   ]
  },
  {
   "cell_type": "code",
   "execution_count": 9,
   "id": "3cb67f48-204e-4ce4-bb7f-d278ecce3b06",
   "metadata": {},
   "outputs": [],
   "source": [
    "import os\n",
    "from webscrapping.series_scrap import RIBScrapper\n",
    "from webscrapping.analyse_json import Analyser\n",
    "rb = RIBScrapper()\n",
    "existing_file = rb.existing_file(\"{}.csv\".format(match))\n",
    "\n",
    "if not existing_file:\n",
    "    download_link = rb.generate_single_link(series, match)\n",
    "    rb.export_json(download_link)\n",
    "    \n",
    "    a = Analyser(\"{}.json\".format(match))\n",
    "    matchframe = a.export_df(match)\n",
    "    matchframe.to_csv(r'matches\\exports\\{}.csv'.format(match), index=False)"
   ]
  },
  {
   "cell_type": "code",
   "execution_count": 10,
   "id": "1cfd75ec-6fed-44ad-bcdf-d405b6834872",
   "metadata": {},
   "outputs": [],
   "source": [
    "path2 = 'D:\\\\Documents\\\\GitHub\\\\Classification_datascience\\\\webscrapping\\\\matches\\\\exports\\\\'\n",
    "df = pd.read_csv('{}{}.csv'.format(path2,match))"
   ]
  },
  {
   "cell_type": "code",
   "execution_count": 11,
   "id": "09bf66f2-d986-4b90-a167-6b349b93b684",
   "metadata": {},
   "outputs": [
    {
     "data": {
      "text/html": [
       "<div>\n",
       "<style scoped>\n",
       "    .dataframe tbody tr th:only-of-type {\n",
       "        vertical-align: middle;\n",
       "    }\n",
       "\n",
       "    .dataframe tbody tr th {\n",
       "        vertical-align: top;\n",
       "    }\n",
       "\n",
       "    .dataframe thead th {\n",
       "        text-align: right;\n",
       "    }\n",
       "</style>\n",
       "<table border=\"1\" class=\"dataframe\">\n",
       "  <thead>\n",
       "    <tr style=\"text-align: right;\">\n",
       "      <th></th>\n",
       "      <th>RoundID</th>\n",
       "      <th>RoundNumber</th>\n",
       "      <th>RoundTime</th>\n",
       "      <th>ATK_wealth</th>\n",
       "      <th>DEF_wealth</th>\n",
       "      <th>ATK_alive</th>\n",
       "      <th>DEF_alive</th>\n",
       "      <th>DEF_has_OP</th>\n",
       "      <th>Def_has_Odin</th>\n",
       "      <th>RegularTime</th>\n",
       "      <th>SpikeTime</th>\n",
       "      <th>MapName</th>\n",
       "      <th>MatchID</th>\n",
       "      <th>SeriesID</th>\n",
       "      <th>bestOF</th>\n",
       "      <th>FinalWinner</th>\n",
       "    </tr>\n",
       "  </thead>\n",
       "  <tbody>\n",
       "    <tr>\n",
       "      <th>0</th>\n",
       "      <td>414364</td>\n",
       "      <td>1</td>\n",
       "      <td>0</td>\n",
       "      <td>400.0</td>\n",
       "      <td>400.0</td>\n",
       "      <td>5</td>\n",
       "      <td>5</td>\n",
       "      <td>0</td>\n",
       "      <td>0</td>\n",
       "      <td>0</td>\n",
       "      <td>0</td>\n",
       "      <td>Ascent</td>\n",
       "      <td>26426</td>\n",
       "      <td>13189</td>\n",
       "      <td>3</td>\n",
       "      <td>1</td>\n",
       "    </tr>\n",
       "    <tr>\n",
       "      <th>1</th>\n",
       "      <td>414364</td>\n",
       "      <td>1</td>\n",
       "      <td>5830</td>\n",
       "      <td>300.0</td>\n",
       "      <td>400.0</td>\n",
       "      <td>4</td>\n",
       "      <td>5</td>\n",
       "      <td>0</td>\n",
       "      <td>0</td>\n",
       "      <td>6</td>\n",
       "      <td>0</td>\n",
       "      <td>Ascent</td>\n",
       "      <td>26426</td>\n",
       "      <td>13189</td>\n",
       "      <td>3</td>\n",
       "      <td>1</td>\n",
       "    </tr>\n",
       "    <tr>\n",
       "      <th>2</th>\n",
       "      <td>414364</td>\n",
       "      <td>1</td>\n",
       "      <td>16279</td>\n",
       "      <td>300.0</td>\n",
       "      <td>300.0</td>\n",
       "      <td>4</td>\n",
       "      <td>4</td>\n",
       "      <td>0</td>\n",
       "      <td>0</td>\n",
       "      <td>16</td>\n",
       "      <td>0</td>\n",
       "      <td>Ascent</td>\n",
       "      <td>26426</td>\n",
       "      <td>13189</td>\n",
       "      <td>3</td>\n",
       "      <td>1</td>\n",
       "    </tr>\n",
       "    <tr>\n",
       "      <th>3</th>\n",
       "      <td>414364</td>\n",
       "      <td>1</td>\n",
       "      <td>17733</td>\n",
       "      <td>300.0</td>\n",
       "      <td>200.0</td>\n",
       "      <td>4</td>\n",
       "      <td>3</td>\n",
       "      <td>0</td>\n",
       "      <td>0</td>\n",
       "      <td>18</td>\n",
       "      <td>0</td>\n",
       "      <td>Ascent</td>\n",
       "      <td>26426</td>\n",
       "      <td>13189</td>\n",
       "      <td>3</td>\n",
       "      <td>1</td>\n",
       "    </tr>\n",
       "    <tr>\n",
       "      <th>4</th>\n",
       "      <td>414364</td>\n",
       "      <td>1</td>\n",
       "      <td>30605</td>\n",
       "      <td>300.0</td>\n",
       "      <td>200.0</td>\n",
       "      <td>4</td>\n",
       "      <td>2</td>\n",
       "      <td>0</td>\n",
       "      <td>0</td>\n",
       "      <td>31</td>\n",
       "      <td>0</td>\n",
       "      <td>Ascent</td>\n",
       "      <td>26426</td>\n",
       "      <td>13189</td>\n",
       "      <td>3</td>\n",
       "      <td>1</td>\n",
       "    </tr>\n",
       "  </tbody>\n",
       "</table>\n",
       "</div>"
      ],
      "text/plain": [
       "   RoundID  RoundNumber  RoundTime  ATK_wealth  DEF_wealth  ATK_alive  \\\n",
       "0   414364            1          0       400.0       400.0          5   \n",
       "1   414364            1       5830       300.0       400.0          4   \n",
       "2   414364            1      16279       300.0       300.0          4   \n",
       "3   414364            1      17733       300.0       200.0          4   \n",
       "4   414364            1      30605       300.0       200.0          4   \n",
       "\n",
       "   DEF_alive  DEF_has_OP  Def_has_Odin  RegularTime  SpikeTime MapName  \\\n",
       "0          5           0             0            0          0  Ascent   \n",
       "1          5           0             0            6          0  Ascent   \n",
       "2          4           0             0           16          0  Ascent   \n",
       "3          3           0             0           18          0  Ascent   \n",
       "4          2           0             0           31          0  Ascent   \n",
       "\n",
       "   MatchID  SeriesID  bestOF  FinalWinner  \n",
       "0    26426     13189       3            1  \n",
       "1    26426     13189       3            1  \n",
       "2    26426     13189       3            1  \n",
       "3    26426     13189       3            1  \n",
       "4    26426     13189       3            1  "
      ]
     },
     "execution_count": 11,
     "metadata": {},
     "output_type": "execute_result"
    }
   ],
   "source": [
    "df.head()"
   ]
  },
  {
   "cell_type": "code",
   "execution_count": 12,
   "id": "4fbaa90c-f9a7-4619-92cf-703ee7f2d8b0",
   "metadata": {},
   "outputs": [],
   "source": [
    "class RoundReplay:\n",
    "    def __init__(self, match_id: int):\n",
    "        self.match_id = match_id\n",
    "        self.query = df.query('MatchID == {}'.format(match_id))\n",
    "        self.round_table = self.get_round_table()\n",
    "        \n",
    "    def get_round_table(self) -> dict:\n",
    "        g = self.query[[\"RoundNumber\", \"RoundID\"]]\n",
    "        g.drop_duplicates()\n",
    "        return dict(zip(g.RoundNumber, g.RoundID))\n",
    "    \n",
    "    def get_round_id(self, round_index: int) -> int:\n",
    "        return self.round_table[round_index]\n",
    "    \n",
    "    def get_round_dataframe(self, round_index: int):\n",
    "        return df.query('RoundID == {}'.format(self.get_round_id(round_index)))\n",
    "    \n",
    "    def get_plant_stamp(self, round_number: int) -> int or None:\n",
    "        rdf = self.get_round_dataframe(round_number)\n",
    "        if max(rdf.SpikeTime) == 0:\n",
    "            return None\n",
    "        for i in rdf.iterrows():\n",
    "            current_index = i[0]\n",
    "            current_time = i[1].RegularTime\n",
    "            next_time = tuple(rdf[\"RegularTime\"].loc[[current_index + 1]])[0]\n",
    "            if current_time != 0 and next_time == 0:\n",
    "                return round(tuple(rdf[\"RoundTime\"].loc[[current_index]])[0] / 1000, 0)\n",
    "        return None\n",
    "    \n",
    "    def get_round_probability(self, round_number: int, **kwargs):\n",
    "        old_table = self.get_round_dataframe(round_number)\n",
    "        table = old_table[[\"ATK_wealth\", \"DEF_wealth\", \"ATK_alive\", \"DEF_alive\",\n",
    "                           \"DEF_has_OP\", \"Def_has_Odin\",\n",
    "                           \"RegularTime\", \"SpikeTime\", \"MapName\"]]\n",
    "        current_map = table.MapName.max()\n",
    "        map_names = [\"Ascent\", \"Bind\", \"Breeze\", \"Haven\", \"Icebox\", \"Split\"]\n",
    "        map_names.remove(current_map)\n",
    "        table = pd.get_dummies(table, columns=['MapName'])\n",
    "        for item in map_names:\n",
    "            table['MapName_{}'.format(item)] = 0\n",
    "        side = kwargs[\"side\"]\n",
    "        if side == \"atk\":\n",
    "            attack_pred = [round(i[1] * 100, 2) for i in model.predict_proba(table)]\n",
    "        elif side == \"def\":\n",
    "            attack_pred = [100-round(i[1] * 100, 2) for i in model.predict_proba(table)]\n",
    "        table[\"Attack_win_probability\"] = attack_pred\n",
    "        raw_timings = [int(round(x / 1000, 0)) for x in old_table.RoundTime]\n",
    "        table[\"Round time\"] = raw_timings\n",
    "        return table[[\"Round time\", \"Attack_win_probability\"]]\n",
    "        \n",
    "    def plot_round(self, round_number: int, **kwargs):\n",
    "        plt.figure(figsize = (12,5))\n",
    "        chosen_side=kwargs[\"side\"]\n",
    "        color_dict = {\"atk\": \"red\", \"def\": \"blue\"}\n",
    "        round_data = self.get_round_probability(round_number, side=chosen_side)\n",
    "\n",
    "        sns.set_context(rc = {'patch.linewidth': 2.0})\n",
    "        sns.set(font_scale=1.3)\n",
    "        ax = sns.lineplot(x=\"Round time\", y=\"Attack_win_probability\", data=round_data,\n",
    "                          linewidth=2.0, zorder=3, color=color_dict[chosen_side])\n",
    "        ax.set(xlabel='Round time (s)', ylabel='Win probability (%)')\n",
    "        ax.xaxis.labelpad = 10\n",
    "        ax.yaxis.labelpad = 12\n",
    "        ax.grid(linewidth=.4, color='gray', zorder=0)\n",
    "        title_dict = {\"atk\": \"Attack\", \"def\": \"Defense\"}\n",
    "        plt.title(\"{} win probability over time\".format(title_dict[chosen_side]))\n",
    "        ax.lines[0].set_marker(\"o\")\n",
    "        ax.lines[0].set_markersize(9)\n",
    "        plt.axhline(y=0, color=\"black\")\n",
    "        plt.axhline(y=50, linestyle=\"--\", color=\"grey\")\n",
    "        plant = self.get_plant_stamp(round_number)\n",
    "        if plant is not None:\n",
    "            plt.axvline(x=plant)\n",
    "            \n",
    "        arrow = {'facecolor': 'tab:blue', 'shrink': 0.05, 'alpha': 0.75}\n",
    "        plt.gca().annotate('nzr 2 frenzy kills', xy=(5.5, 61), xytext=(-8, 70), arrowprops=arrow, fontsize=13, color='green', weight='bold')\n",
    "        plt.gca().annotate('khalil stinger kill', xy=(16.8, 91), xytext=(-1, 90), arrowprops=arrow, fontsize=13, color='green', weight='bold')\n",
    "        plt.gca().annotate('zaks deleta o xand, \\nmas o round já estava encaminhado', xy=(24, 79), xytext=(16, 60), arrowprops=arrow, fontsize=13, color='red', weight='bold')\n",
    "        plt.gca().annotate('FURIA only has 20% chance \\n of winning this round', xy=(0, 17), xytext=(10, 5), arrowprops=arrow, fontsize=13, color='red', weight='bold')"
   ]
  },
  {
   "cell_type": "code",
   "execution_count": 13,
   "id": "3f31b943-06ed-461f-bb7c-dfcc433aedbd",
   "metadata": {},
   "outputs": [
    {
     "data": {
      "image/png": "[encoded data removed]",
      "text/plain": [
       "<Figure size 864x360 with 1 Axes>"
      ]
     },
     "metadata": {
      "needs_background": "light"
     },
     "output_type": "display_data"
    }
   ],
   "source": [
    "rr = RoundReplay(match)\n",
    "rr.plot_round(7, side=\"def\")"
   ]
  },
  {
   "cell_type": "code",
   "execution_count": 14,
   "id": "4274a4af-37cb-44fe-a776-3e9e9cf0eee5",
   "metadata": {},
   "outputs": [
    {
     "data": {
      "text/html": [
       "<div>\n",
       "<style scoped>\n",
       "    .dataframe tbody tr th:only-of-type {\n",
       "        vertical-align: middle;\n",
       "    }\n",
       "\n",
       "    .dataframe tbody tr th {\n",
       "        vertical-align: top;\n",
       "    }\n",
       "\n",
       "    .dataframe thead th {\n",
       "        text-align: right;\n",
       "    }\n",
       "</style>\n",
       "<table border=\"1\" class=\"dataframe\">\n",
       "  <thead>\n",
       "    <tr style=\"text-align: right;\">\n",
       "      <th></th>\n",
       "      <th>Round time</th>\n",
       "      <th>Attack_win_probability</th>\n",
       "    </tr>\n",
       "  </thead>\n",
       "  <tbody>\n",
       "    <tr>\n",
       "      <th>52</th>\n",
       "      <td>0</td>\n",
       "      <td>17.66</td>\n",
       "    </tr>\n",
       "    <tr>\n",
       "      <th>53</th>\n",
       "      <td>4</td>\n",
       "      <td>34.92</td>\n",
       "    </tr>\n",
       "    <tr>\n",
       "      <th>54</th>\n",
       "      <td>6</td>\n",
       "      <td>61.28</td>\n",
       "    </tr>\n",
       "    <tr>\n",
       "      <th>55</th>\n",
       "      <td>17</td>\n",
       "      <td>87.05</td>\n",
       "    </tr>\n",
       "    <tr>\n",
       "      <th>56</th>\n",
       "      <td>24</td>\n",
       "      <td>79.08</td>\n",
       "    </tr>\n",
       "    <tr>\n",
       "      <th>57</th>\n",
       "      <td>68</td>\n",
       "      <td>98.43</td>\n",
       "    </tr>\n",
       "    <tr>\n",
       "      <th>58</th>\n",
       "      <td>70</td>\n",
       "      <td>99.89</td>\n",
       "    </tr>\n",
       "  </tbody>\n",
       "</table>\n",
       "</div>"
      ],
      "text/plain": [
       "    Round time  Attack_win_probability\n",
       "52           0                   17.66\n",
       "53           4                   34.92\n",
       "54           6                   61.28\n",
       "55          17                   87.05\n",
       "56          24                   79.08\n",
       "57          68                   98.43\n",
       "58          70                   99.89"
      ]
     },
     "execution_count": 14,
     "metadata": {},
     "output_type": "execute_result"
    }
   ],
   "source": [
    "rr.get_round_probability(7, side=\"def\")"
   ]
  },
  {
   "cell_type": "code",
   "execution_count": 15,
   "id": "c1a4636f-170e-468a-a910-b3690ae7eaf6",
   "metadata": {},
   "outputs": [
    {
     "data": {
      "text/plain": [
       "{1: 414364,\n",
       " 2: 414365,\n",
       " 3: 414366,\n",
       " 4: 414367,\n",
       " 5: 414368,\n",
       " 6: 414369,\n",
       " 7: 414370,\n",
       " 8: 414371,\n",
       " 9: 414372,\n",
       " 10: 414373,\n",
       " 11: 414374,\n",
       " 12: 414375,\n",
       " 13: 414376,\n",
       " 14: 414377,\n",
       " 15: 414378,\n",
       " 16: 414379,\n",
       " 17: 414380,\n",
       " 18: 414381,\n",
       " 19: 414382,\n",
       " 20: 414383,\n",
       " 21: 414384,\n",
       " 22: 414385}"
      ]
     },
     "execution_count": 15,
     "metadata": {},
     "output_type": "execute_result"
    }
   ],
   "source": [
    "rr.get_round_table()"
   ]
  },
  {
   "cell_type": "code",
   "execution_count": null,
   "id": "d70e5490-69bc-4c8f-bc99-a8a6a333b7b7",
   "metadata": {},
   "outputs": [],
   "source": []
  },
  {
   "cell_type": "code",
   "execution_count": 16,
   "id": "38231134-8db4-4a4c-96b3-a47331d8ad46",
   "metadata": {},
   "outputs": [
    {
     "data": {
      "text/plain": [
       "{1: 'Breach',\n",
       " 2: 'Raze',\n",
       " 3: 'Cypher',\n",
       " 4: 'Sova',\n",
       " 5: 'Killjoy',\n",
       " 6: 'Viper',\n",
       " 7: 'Phoenix',\n",
       " 8: 'Brimstone',\n",
       " 9: 'Sage',\n",
       " 10: 'Reyna',\n",
       " 11: 'Omen',\n",
       " 13: 'Skye',\n",
       " 14: 'Yoru',\n",
       " 15: 'Astra'}"
      ]
     },
     "execution_count": 16,
     "metadata": {},
     "output_type": "execute_result"
    }
   ],
   "source": [
    "x = {15: 'Astra',\n",
    "     1: 'Breach',\n",
    "     8: 'Brimstone',\n",
    "     3: 'Cypher',\n",
    "     4: 'Jett',\n",
    "     5: 'Killjoy',\n",
    "     11: 'Omen',\n",
    "     7: 'Phoenix',\n",
    "     2: 'Raze',\n",
    "     10: 'Reyna',\n",
    "     9: 'Sage',\n",
    "     13: 'Skye',\n",
    "     4: 'Sova',\n",
    "     6: 'Viper',\n",
    "     14: 'Yoru'}\n",
    "{key: value for key, value in sorted(x.items(), key=lambda item: item[0])}"
   ]
  },
  {
   "cell_type": "code",
   "execution_count": null,
   "id": "d4392a7c-5cf1-4efc-8711-ce4d40ac329b",
   "metadata": {},
   "outputs": [],
   "source": []
  },
  {
   "cell_type": "code",
   "execution_count": null,
   "id": "a644c8d3-a098-4365-9ea7-e692edf9de23",
   "metadata": {},
   "outputs": [],
   "source": []
  },
  {
   "cell_type": "markdown",
   "id": "93e417df-711b-40ab-a903-a2d6b54ab0e5",
   "metadata": {},
   "source": [
    "https://runitback.gg/series/12745?match=25645&round=19&tab=replay"
   ]
  },
  {
   "cell_type": "code",
   "execution_count": null,
   "id": "95de6621-11b4-4546-b182-01de3129f9fd",
   "metadata": {},
   "outputs": [],
   "source": []
  }
 ],
 "metadata": {
  "kernelspec": {
   "display_name": "Python 3",
   "language": "python",
   "name": "python3"
  },
  "language_info": {
   "codemirror_mode": {
    "name": "ipython",
    "version": 3
   },
   "file_extension": ".py",
   "mimetype": "text/x-python",
   "name": "python",
   "nbconvert_exporter": "python",
   "pygments_lexer": "ipython3",
   "version": "3.8.8"
  }
 },
 "nbformat": 4,
 "nbformat_minor": 5
}
