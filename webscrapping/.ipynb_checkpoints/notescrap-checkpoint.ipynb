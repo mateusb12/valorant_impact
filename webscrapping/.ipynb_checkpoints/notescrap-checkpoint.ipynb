{
 "cells": [
  {
   "cell_type": "code",
   "execution_count": 5,
   "id": "9ed2d361-b73c-439c-9aaa-92b025837cf0",
   "metadata": {},
   "outputs": [],
   "source": [
    "test_dict = {401750 : {'id':401750, 'matchId':25608, 'number': 1,\n",
    "                       'winCondition': 'kills', 'winninTeamNumber':2, 'ceremony': 'closer',\n",
    "                       'team1LoadoutTier': None, 'team2LoadoutTier': None}}"
   ]
  },
  {
   "cell_type": "code",
   "execution_count": 6,
   "id": "a03887ff-1a61-4db5-b6ea-f68d61b18d6c",
   "metadata": {},
   "outputs": [],
   "source": [
    "dict2 = {'roundNumber':1, 'roundTimeMilis':'11970', 'playerId':'1614', 'assists': [], 'referencePlayerId': 3105,\n",
    "        'eventType': 'kill', 'damageType': 'weapon', 'weaponId': 11, 'ability': None, 'attackingTeamNumber': 2}"
   ]
  },
  {
   "cell_type": "code",
   "execution_count": 7,
   "id": "61a541a7-8fa1-441b-a7c0-a30e737197e1",
   "metadata": {},
   "outputs": [
    {
     "name": "stdout",
     "output_type": "stream",
     "text": [
      "Original Dictionary was :\n",
      "{401750: {'id': 401750, 'matchId': 25608, 'number': 1, 'winCondition': 'kills', 'winninTeamNumber': 2, 'ceremony': 'closer', 'team1LoadoutTier': None, 'team2LoadoutTier': None}}\n"
     ]
    }
   ],
   "source": [
    "print('Original Dictionary was :\\n'+str(test_dict))"
   ]
  },
  {
   "cell_type": "code",
   "execution_count": 4,
   "id": "2c1c2f8c-0d36-4ce3-be2e-154ef7a4ae79",
   "metadata": {},
   "outputs": [
    {
     "name": "stdout",
     "output_type": "stream",
     "text": [
      "Updated Dictionary is :\n",
      "{'Address': {'HouseNo.': 100, 'Street': 'ABC Street', 'Locality': 'XYZ', 'State': 'PQR', 'Country': 'INDIA'}}\n"
     ]
    }
   ],
   "source": [
    "test_dict[401750].update(dict2)\n",
    "print('Updated Dictionary is :\\n'+str(test_dict))"
   ]
  },
  {
   "cell_type": "code",
   "execution_count": null,
   "id": "ae032af0-2b86-4bef-b1bc-79ad8e40c46f",
   "metadata": {},
   "outputs": [],
   "source": []
  }
 ],
 "metadata": {
  "kernelspec": {
   "display_name": "Python 3",
   "language": "python",
   "name": "python3"
  },
  "language_info": {
   "codemirror_mode": {
    "name": "ipython",
    "version": 3
   },
   "file_extension": ".py",
   "mimetype": "text/x-python",
   "name": "python",
   "nbconvert_exporter": "python",
   "pygments_lexer": "ipython3",
   "version": "3.9.5"
  }
 },
 "nbformat": 4,
 "nbformat_minor": 5
}
