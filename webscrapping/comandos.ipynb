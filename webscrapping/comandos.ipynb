{
 "cells": [
  {
   "cell_type": "markdown",
   "id": "cb28fd41-7cbb-48d8-9eab-3ca99a4dbf50",
   "metadata": {},
   "source": [
    "### Pegar todos os eventos que um time participou"
   ]
  },
  {
   "cell_type": "markdown",
   "id": "c5986461-931c-470f-881c-a02f45d7667b",
   "metadata": {},
   "source": [
    "!rib events -team vikings"
   ]
  },
  {
   "cell_type": "markdown",
   "id": "0e88fb21-e78d-4077-a4dc-77586bcf8dda",
   "metadata": {},
   "source": [
    "### Pegar todas as partidas do time naquele evento"
   ]
  },
  {
   "cell_type": "markdown",
   "id": "6e96bd47-8c6f-4217-badc-c6fda1e40ea2",
   "metadata": {},
   "source": [
    "!rib matches -team vikings -event 502"
   ]
  },
  {
   "cell_type": "markdown",
   "id": "3e709ff4-2e3d-4452-bb97-b72d29837f8d",
   "metadata": {},
   "source": [
    "### Pegar todas as partidas do evento"
   ]
  },
  {
   "cell_type": "markdown",
   "id": "8e27bad9-4053-4c4c-9af2-2645fbfe1ed9",
   "metadata": {},
   "source": [
    "!rib matches -event 470"
   ]
  }
 ],
 "metadata": {
  "kernelspec": {
   "display_name": "Python 3",
   "language": "python",
   "name": "python3"
  },
  "language_info": {
   "codemirror_mode": {
    "name": "ipython",
    "version": 3
   },
   "file_extension": ".py",
   "mimetype": "text/x-python",
   "name": "python",
   "nbconvert_exporter": "python",
   "pygments_lexer": "ipython3",
   "version": "3.9.5"
  }
 },
 "nbformat": 4,
 "nbformat_minor": 5
}
