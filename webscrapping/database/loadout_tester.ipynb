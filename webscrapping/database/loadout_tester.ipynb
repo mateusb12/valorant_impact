{
 "cells": [
  {
   "cell_type": "code",
   "execution_count": 1,
   "outputs": [],
   "source": [
    "import json\n",
    "import pandas as pd\n",
    "from sql_queries import ValorantQueries"
   ],
   "metadata": {
    "collapsed": false,
    "pycharm": {
     "name": "#%%\n"
    }
   }
  },
  {
   "cell_type": "code",
   "execution_count": 8,
   "outputs": [
    {
     "name": "stdout",
     "output_type": "stream",
     "text": [
      "Connected to database valorant successfully\n",
      "[('teams',), ('roundevents',), ('players',), ('events',), ('series',), ('matches',), ('maps',), ('rounds',), ('roundeconomies',), ('roundlocations',), ('playermapinstance',), ('assists',)]\n"
     ]
    },
    {
     "data": {
      "text/plain": "     Match ID  Round ID  Round  Player ID Player Name  Team ID Starting Side  \\\n0       43621    695324      1       1843         ade      444       defense   \n1       43621    695324      1       1075       Bazzi      444       defense   \n2       43621    695324      1       1824      Fisker      444       defense   \n3       43621    695324      1       1877         frz       53        attack   \n4       43621    695324      1       3105      gtnziN       53        attack   \n..        ...       ...    ...        ...         ...      ...           ...   \n215     43621    695345     22        876    Munchkin      444       defense   \n216     43621    695345     22       2388        neth      444       defense   \n217     43621    695345     22       2895     Saadhak       53        attack   \n218     43621    695345     22       2294        Sacy       53        attack   \n219     43621    695345     22        194     sutecas       53        attack   \n\n    Agent Name Weapon Name  Weapon Price  Shield  Shield Price  Utility Value  \\\n0        Viper     Classic             0      25           400            200   \n1         Sova       Ghost           500       0             0            300   \n2         Jett     Sheriff           800       0             0              0   \n3        Reyna       Ghost           500       0             0            450   \n4         Jett       Ghost           500       0             0            200   \n..         ...         ...           ...     ...           ...            ...   \n215      KAY/O      Vandal          2900      50          1000            700   \n216       Sage     Stinger          1100      50          1000            450   \n217       Sage     Phantom          2900      50          1000            800   \n218       Sova     Phantom          2900      50          1000            700   \n219      Viper      Vandal          2900      50          1000           1400   \n\n     Remaining Creds  Agent ID  Weapon ID  Armor ID  \n0                  0         6         11         1  \n1                  0         4         12         0  \n2                  0        12         13         0  \n3                 50        10         12         0  \n4                100        12         12         0  \n..               ...       ...        ...       ...  \n215              750        16          4         2  \n216              100         9         19         2  \n217             2450         9          6         2  \n218             1300         4          6         2  \n219             3000         6          4         2  \n\n[220 rows x 17 columns]",
      "text/html": "<div>\n<style scoped>\n    .dataframe tbody tr th:only-of-type {\n        vertical-align: middle;\n    }\n\n    .dataframe tbody tr th {\n        vertical-align: top;\n    }\n\n    .dataframe thead th {\n        text-align: right;\n    }\n</style>\n<table border=\"1\" class=\"dataframe\">\n  <thead>\n    <tr style=\"text-align: right;\">\n      <th></th>\n      <th>Match ID</th>\n      <th>Round ID</th>\n      <th>Round</th>\n      <th>Player ID</th>\n      <th>Player Name</th>\n      <th>Team ID</th>\n      <th>Starting Side</th>\n      <th>Agent Name</th>\n      <th>Weapon Name</th>\n      <th>Weapon Price</th>\n      <th>Shield</th>\n      <th>Shield Price</th>\n      <th>Utility Value</th>\n      <th>Remaining Creds</th>\n      <th>Agent ID</th>\n      <th>Weapon ID</th>\n      <th>Armor ID</th>\n    </tr>\n  </thead>\n  <tbody>\n    <tr>\n      <th>0</th>\n      <td>43621</td>\n      <td>695324</td>\n      <td>1</td>\n      <td>1843</td>\n      <td>ade</td>\n      <td>444</td>\n      <td>defense</td>\n      <td>Viper</td>\n      <td>Classic</td>\n      <td>0</td>\n      <td>25</td>\n      <td>400</td>\n      <td>200</td>\n      <td>0</td>\n      <td>6</td>\n      <td>11</td>\n      <td>1</td>\n    </tr>\n    <tr>\n      <th>1</th>\n      <td>43621</td>\n      <td>695324</td>\n      <td>1</td>\n      <td>1075</td>\n      <td>Bazzi</td>\n      <td>444</td>\n      <td>defense</td>\n      <td>Sova</td>\n      <td>Ghost</td>\n      <td>500</td>\n      <td>0</td>\n      <td>0</td>\n      <td>300</td>\n      <td>0</td>\n      <td>4</td>\n      <td>12</td>\n      <td>0</td>\n    </tr>\n    <tr>\n      <th>2</th>\n      <td>43621</td>\n      <td>695324</td>\n      <td>1</td>\n      <td>1824</td>\n      <td>Fisker</td>\n      <td>444</td>\n      <td>defense</td>\n      <td>Jett</td>\n      <td>Sheriff</td>\n      <td>800</td>\n      <td>0</td>\n      <td>0</td>\n      <td>0</td>\n      <td>0</td>\n      <td>12</td>\n      <td>13</td>\n      <td>0</td>\n    </tr>\n    <tr>\n      <th>3</th>\n      <td>43621</td>\n      <td>695324</td>\n      <td>1</td>\n      <td>1877</td>\n      <td>frz</td>\n      <td>53</td>\n      <td>attack</td>\n      <td>Reyna</td>\n      <td>Ghost</td>\n      <td>500</td>\n      <td>0</td>\n      <td>0</td>\n      <td>450</td>\n      <td>50</td>\n      <td>10</td>\n      <td>12</td>\n      <td>0</td>\n    </tr>\n    <tr>\n      <th>4</th>\n      <td>43621</td>\n      <td>695324</td>\n      <td>1</td>\n      <td>3105</td>\n      <td>gtnziN</td>\n      <td>53</td>\n      <td>attack</td>\n      <td>Jett</td>\n      <td>Ghost</td>\n      <td>500</td>\n      <td>0</td>\n      <td>0</td>\n      <td>200</td>\n      <td>100</td>\n      <td>12</td>\n      <td>12</td>\n      <td>0</td>\n    </tr>\n    <tr>\n      <th>...</th>\n      <td>...</td>\n      <td>...</td>\n      <td>...</td>\n      <td>...</td>\n      <td>...</td>\n      <td>...</td>\n      <td>...</td>\n      <td>...</td>\n      <td>...</td>\n      <td>...</td>\n      <td>...</td>\n      <td>...</td>\n      <td>...</td>\n      <td>...</td>\n      <td>...</td>\n      <td>...</td>\n      <td>...</td>\n    </tr>\n    <tr>\n      <th>215</th>\n      <td>43621</td>\n      <td>695345</td>\n      <td>22</td>\n      <td>876</td>\n      <td>Munchkin</td>\n      <td>444</td>\n      <td>defense</td>\n      <td>KAY/O</td>\n      <td>Vandal</td>\n      <td>2900</td>\n      <td>50</td>\n      <td>1000</td>\n      <td>700</td>\n      <td>750</td>\n      <td>16</td>\n      <td>4</td>\n      <td>2</td>\n    </tr>\n    <tr>\n      <th>216</th>\n      <td>43621</td>\n      <td>695345</td>\n      <td>22</td>\n      <td>2388</td>\n      <td>neth</td>\n      <td>444</td>\n      <td>defense</td>\n      <td>Sage</td>\n      <td>Stinger</td>\n      <td>1100</td>\n      <td>50</td>\n      <td>1000</td>\n      <td>450</td>\n      <td>100</td>\n      <td>9</td>\n      <td>19</td>\n      <td>2</td>\n    </tr>\n    <tr>\n      <th>217</th>\n      <td>43621</td>\n      <td>695345</td>\n      <td>22</td>\n      <td>2895</td>\n      <td>Saadhak</td>\n      <td>53</td>\n      <td>attack</td>\n      <td>Sage</td>\n      <td>Phantom</td>\n      <td>2900</td>\n      <td>50</td>\n      <td>1000</td>\n      <td>800</td>\n      <td>2450</td>\n      <td>9</td>\n      <td>6</td>\n      <td>2</td>\n    </tr>\n    <tr>\n      <th>218</th>\n      <td>43621</td>\n      <td>695345</td>\n      <td>22</td>\n      <td>2294</td>\n      <td>Sacy</td>\n      <td>53</td>\n      <td>attack</td>\n      <td>Sova</td>\n      <td>Phantom</td>\n      <td>2900</td>\n      <td>50</td>\n      <td>1000</td>\n      <td>700</td>\n      <td>1300</td>\n      <td>4</td>\n      <td>6</td>\n      <td>2</td>\n    </tr>\n    <tr>\n      <th>219</th>\n      <td>43621</td>\n      <td>695345</td>\n      <td>22</td>\n      <td>194</td>\n      <td>sutecas</td>\n      <td>53</td>\n      <td>attack</td>\n      <td>Viper</td>\n      <td>Vandal</td>\n      <td>2900</td>\n      <td>50</td>\n      <td>1000</td>\n      <td>1400</td>\n      <td>3000</td>\n      <td>6</td>\n      <td>4</td>\n      <td>2</td>\n    </tr>\n  </tbody>\n</table>\n<p>220 rows × 17 columns</p>\n</div>"
     },
     "execution_count": 8,
     "metadata": {},
     "output_type": "execute_result"
    }
   ],
   "source": [
    "vq = ValorantQueries()\n",
    "vq.set_match(43621)\n",
    "vq.get_initial_state()"
   ],
   "metadata": {
    "collapsed": false,
    "pycharm": {
     "name": "#%%\n"
    }
   }
  },
  {
   "cell_type": "code",
   "execution_count": 6,
   "outputs": [
    {
     "data": {
      "text/plain": "     Match ID  Round ID  Round  Player ID Player Name  Team ID Starting Side  \\\n130     43621    695337     14       1843         ade      444       defense   \n131     43621    695337     14       1075       Bazzi      444       defense   \n132     43621    695337     14       1824      Fisker      444       defense   \n133     43621    695337     14       1877         frz       53        attack   \n134     43621    695337     14       3105      gtnziN       53        attack   \n135     43621    695337     14        876    Munchkin      444       defense   \n136     43621    695337     14       2388        neth      444       defense   \n137     43621    695337     14       2895     Saadhak       53        attack   \n138     43621    695337     14       2294        Sacy       53        attack   \n139     43621    695337     14        194     sutecas       53        attack   \n\n    Agent Name Weapon Name  Weapon Price  Shield  Shield Price  Utility Value  \\\n130      Viper     Spectre          1600      50          1000           1100   \n131       Sova     Spectre          1600      50          1000           1200   \n132       Jett    Guardian          2400      50          1000            900   \n133      Reyna     Classic             0       0             0            450   \n134       Jett     Classic             0       0             0              0   \n135      KAY/O     Spectre          1600      50          1000            700   \n136       Sage     Spectre          1600      50          1000           1300   \n137       Sage     Classic             0       0             0            400   \n138       Sova     Sheriff           800       0             0              0   \n139      Viper     Classic             0       0             0              0   \n\n     Remaining Creds  Agent ID  Weapon ID  Armor ID  \n130              200         6         18         2  \n131                0         4         18         2  \n132                0        12         16         2  \n133             1950        10         11         0  \n134             1900        12         11         0  \n135              500        16         18         2  \n136              300         9         18         2  \n137             1700         9         11         0  \n138             1400         4         13         0  \n139             2000         6         11         0  ",
      "text/html": "<div>\n<style scoped>\n    .dataframe tbody tr th:only-of-type {\n        vertical-align: middle;\n    }\n\n    .dataframe tbody tr th {\n        vertical-align: top;\n    }\n\n    .dataframe thead th {\n        text-align: right;\n    }\n</style>\n<table border=\"1\" class=\"dataframe\">\n  <thead>\n    <tr style=\"text-align: right;\">\n      <th></th>\n      <th>Match ID</th>\n      <th>Round ID</th>\n      <th>Round</th>\n      <th>Player ID</th>\n      <th>Player Name</th>\n      <th>Team ID</th>\n      <th>Starting Side</th>\n      <th>Agent Name</th>\n      <th>Weapon Name</th>\n      <th>Weapon Price</th>\n      <th>Shield</th>\n      <th>Shield Price</th>\n      <th>Utility Value</th>\n      <th>Remaining Creds</th>\n      <th>Agent ID</th>\n      <th>Weapon ID</th>\n      <th>Armor ID</th>\n    </tr>\n  </thead>\n  <tbody>\n    <tr>\n      <th>130</th>\n      <td>43621</td>\n      <td>695337</td>\n      <td>14</td>\n      <td>1843</td>\n      <td>ade</td>\n      <td>444</td>\n      <td>defense</td>\n      <td>Viper</td>\n      <td>Spectre</td>\n      <td>1600</td>\n      <td>50</td>\n      <td>1000</td>\n      <td>1100</td>\n      <td>200</td>\n      <td>6</td>\n      <td>18</td>\n      <td>2</td>\n    </tr>\n    <tr>\n      <th>131</th>\n      <td>43621</td>\n      <td>695337</td>\n      <td>14</td>\n      <td>1075</td>\n      <td>Bazzi</td>\n      <td>444</td>\n      <td>defense</td>\n      <td>Sova</td>\n      <td>Spectre</td>\n      <td>1600</td>\n      <td>50</td>\n      <td>1000</td>\n      <td>1200</td>\n      <td>0</td>\n      <td>4</td>\n      <td>18</td>\n      <td>2</td>\n    </tr>\n    <tr>\n      <th>132</th>\n      <td>43621</td>\n      <td>695337</td>\n      <td>14</td>\n      <td>1824</td>\n      <td>Fisker</td>\n      <td>444</td>\n      <td>defense</td>\n      <td>Jett</td>\n      <td>Guardian</td>\n      <td>2400</td>\n      <td>50</td>\n      <td>1000</td>\n      <td>900</td>\n      <td>0</td>\n      <td>12</td>\n      <td>16</td>\n      <td>2</td>\n    </tr>\n    <tr>\n      <th>133</th>\n      <td>43621</td>\n      <td>695337</td>\n      <td>14</td>\n      <td>1877</td>\n      <td>frz</td>\n      <td>53</td>\n      <td>attack</td>\n      <td>Reyna</td>\n      <td>Classic</td>\n      <td>0</td>\n      <td>0</td>\n      <td>0</td>\n      <td>450</td>\n      <td>1950</td>\n      <td>10</td>\n      <td>11</td>\n      <td>0</td>\n    </tr>\n    <tr>\n      <th>134</th>\n      <td>43621</td>\n      <td>695337</td>\n      <td>14</td>\n      <td>3105</td>\n      <td>gtnziN</td>\n      <td>53</td>\n      <td>attack</td>\n      <td>Jett</td>\n      <td>Classic</td>\n      <td>0</td>\n      <td>0</td>\n      <td>0</td>\n      <td>0</td>\n      <td>1900</td>\n      <td>12</td>\n      <td>11</td>\n      <td>0</td>\n    </tr>\n    <tr>\n      <th>135</th>\n      <td>43621</td>\n      <td>695337</td>\n      <td>14</td>\n      <td>876</td>\n      <td>Munchkin</td>\n      <td>444</td>\n      <td>defense</td>\n      <td>KAY/O</td>\n      <td>Spectre</td>\n      <td>1600</td>\n      <td>50</td>\n      <td>1000</td>\n      <td>700</td>\n      <td>500</td>\n      <td>16</td>\n      <td>18</td>\n      <td>2</td>\n    </tr>\n    <tr>\n      <th>136</th>\n      <td>43621</td>\n      <td>695337</td>\n      <td>14</td>\n      <td>2388</td>\n      <td>neth</td>\n      <td>444</td>\n      <td>defense</td>\n      <td>Sage</td>\n      <td>Spectre</td>\n      <td>1600</td>\n      <td>50</td>\n      <td>1000</td>\n      <td>1300</td>\n      <td>300</td>\n      <td>9</td>\n      <td>18</td>\n      <td>2</td>\n    </tr>\n    <tr>\n      <th>137</th>\n      <td>43621</td>\n      <td>695337</td>\n      <td>14</td>\n      <td>2895</td>\n      <td>Saadhak</td>\n      <td>53</td>\n      <td>attack</td>\n      <td>Sage</td>\n      <td>Classic</td>\n      <td>0</td>\n      <td>0</td>\n      <td>0</td>\n      <td>400</td>\n      <td>1700</td>\n      <td>9</td>\n      <td>11</td>\n      <td>0</td>\n    </tr>\n    <tr>\n      <th>138</th>\n      <td>43621</td>\n      <td>695337</td>\n      <td>14</td>\n      <td>2294</td>\n      <td>Sacy</td>\n      <td>53</td>\n      <td>attack</td>\n      <td>Sova</td>\n      <td>Sheriff</td>\n      <td>800</td>\n      <td>0</td>\n      <td>0</td>\n      <td>0</td>\n      <td>1400</td>\n      <td>4</td>\n      <td>13</td>\n      <td>0</td>\n    </tr>\n    <tr>\n      <th>139</th>\n      <td>43621</td>\n      <td>695337</td>\n      <td>14</td>\n      <td>194</td>\n      <td>sutecas</td>\n      <td>53</td>\n      <td>attack</td>\n      <td>Viper</td>\n      <td>Classic</td>\n      <td>0</td>\n      <td>0</td>\n      <td>0</td>\n      <td>0</td>\n      <td>2000</td>\n      <td>6</td>\n      <td>11</td>\n      <td>0</td>\n    </tr>\n  </tbody>\n</table>\n</div>"
     },
     "execution_count": 6,
     "metadata": {},
     "output_type": "execute_result"
    }
   ],
   "source": [
    "states = vq.get_initial_state()\n",
    "events = vq.get_event_table()\n",
    "player_alive_dict = {item: True for item in states[\"Player ID\"].unique()}\n",
    "\n",
    "current_round_alive_dict = player_alive_dict.copy()\n",
    "chosen_round = 14\n",
    "current_round_states = states[states['Round'] == chosen_round]\n",
    "current_round_events = events[events['Round'] == chosen_round]\n",
    "\n",
    "attacking_players = tuple(current_round_states[current_round_states['Starting Side'] == 'attack']['Player ID'].unique()) if chosen_round <= 12 else tuple(current_round_states[current_round_states['Starting Side'] == 'defense']['Player ID'].unique())\n",
    "defending_players = tuple(current_round_states[current_round_states['Starting Side'] == 'defense']['Player ID'].unique()) if chosen_round <= 12 else tuple(current_round_states[current_round_states['Starting Side'] == 'attack']['Player ID'].unique())\n",
    "\n",
    "atk_data = {\"Weapon Value\": 0, \"Shields\": 0}\n",
    "\n",
    "for item in current_round_events.iterrows():\n",
    "    event_type = item[1][\"EventType\"]\n",
    "    victim_id = item[1][\"VictimID\"]\n",
    "    if event_type == \"kill\":\n",
    "        current_round_alive_dict[victim_id] = False\n",
    "    player_data = current_round_states[current_round_states['Player ID'] == victim_id]\n",
    "current_round_states"
   ],
   "metadata": {
    "collapsed": false,
    "pycharm": {
     "name": "#%%\n"
    }
   }
  },
  {
   "cell_type": "code",
   "execution_count": 7,
   "outputs": [
    {
     "name": "stdout",
     "output_type": "stream",
     "text": [
      "Match ID             43621\n",
      "Round ID            695337\n",
      "Round                   14\n",
      "Player ID             1843\n",
      "Player Name            ade\n",
      "Team ID                444\n",
      "Starting Side      defense\n",
      "Agent Name           Viper\n",
      "Weapon Name        Spectre\n",
      "Weapon Price          1600\n",
      "Shield                  50\n",
      "Shield Price          1000\n",
      "Utility Value         1100\n",
      "Remaining Creds        200\n",
      "Agent ID                 6\n",
      "Weapon ID               18\n",
      "Armor ID                 2\n",
      "Name: 130, dtype: object\n",
      "Match ID             43621\n",
      "Round ID            695337\n",
      "Round                   14\n",
      "Player ID             1075\n",
      "Player Name          Bazzi\n",
      "Team ID                444\n",
      "Starting Side      defense\n",
      "Agent Name            Sova\n",
      "Weapon Name        Spectre\n",
      "Weapon Price          1600\n",
      "Shield                  50\n",
      "Shield Price          1000\n",
      "Utility Value         1200\n",
      "Remaining Creds          0\n",
      "Agent ID                 4\n",
      "Weapon ID               18\n",
      "Armor ID                 2\n",
      "Name: 131, dtype: object\n",
      "Match ID              43621\n",
      "Round ID             695337\n",
      "Round                    14\n",
      "Player ID              1824\n",
      "Player Name          Fisker\n",
      "Team ID                 444\n",
      "Starting Side       defense\n",
      "Agent Name             Jett\n",
      "Weapon Name        Guardian\n",
      "Weapon Price           2400\n",
      "Shield                   50\n",
      "Shield Price           1000\n",
      "Utility Value           900\n",
      "Remaining Creds           0\n",
      "Agent ID                 12\n",
      "Weapon ID                16\n",
      "Armor ID                  2\n",
      "Name: 132, dtype: object\n",
      "Match ID             43621\n",
      "Round ID            695337\n",
      "Round                   14\n",
      "Player ID             1877\n",
      "Player Name            frz\n",
      "Team ID                 53\n",
      "Starting Side       attack\n",
      "Agent Name           Reyna\n",
      "Weapon Name        Classic\n",
      "Weapon Price             0\n",
      "Shield                   0\n",
      "Shield Price             0\n",
      "Utility Value          450\n",
      "Remaining Creds       1950\n",
      "Agent ID                10\n",
      "Weapon ID               11\n",
      "Armor ID                 0\n",
      "Name: 133, dtype: object\n",
      "Match ID             43621\n",
      "Round ID            695337\n",
      "Round                   14\n",
      "Player ID             3105\n",
      "Player Name         gtnziN\n",
      "Team ID                 53\n",
      "Starting Side       attack\n",
      "Agent Name            Jett\n",
      "Weapon Name        Classic\n",
      "Weapon Price             0\n",
      "Shield                   0\n",
      "Shield Price             0\n",
      "Utility Value            0\n",
      "Remaining Creds       1900\n",
      "Agent ID                12\n",
      "Weapon ID               11\n",
      "Armor ID                 0\n",
      "Name: 134, dtype: object\n",
      "Match ID              43621\n",
      "Round ID             695337\n",
      "Round                    14\n",
      "Player ID               876\n",
      "Player Name        Munchkin\n",
      "Team ID                 444\n",
      "Starting Side       defense\n",
      "Agent Name            KAY/O\n",
      "Weapon Name         Spectre\n",
      "Weapon Price           1600\n",
      "Shield                   50\n",
      "Shield Price           1000\n",
      "Utility Value           700\n",
      "Remaining Creds         500\n",
      "Agent ID                 16\n",
      "Weapon ID                18\n",
      "Armor ID                  2\n",
      "Name: 135, dtype: object\n",
      "Match ID             43621\n",
      "Round ID            695337\n",
      "Round                   14\n",
      "Player ID             2388\n",
      "Player Name           neth\n",
      "Team ID                444\n",
      "Starting Side      defense\n",
      "Agent Name            Sage\n",
      "Weapon Name        Spectre\n",
      "Weapon Price          1600\n",
      "Shield                  50\n",
      "Shield Price          1000\n",
      "Utility Value         1300\n",
      "Remaining Creds        300\n",
      "Agent ID                 9\n",
      "Weapon ID               18\n",
      "Armor ID                 2\n",
      "Name: 136, dtype: object\n",
      "Match ID             43621\n",
      "Round ID            695337\n",
      "Round                   14\n",
      "Player ID             2895\n",
      "Player Name        Saadhak\n",
      "Team ID                 53\n",
      "Starting Side       attack\n",
      "Agent Name            Sage\n",
      "Weapon Name        Classic\n",
      "Weapon Price             0\n",
      "Shield                   0\n",
      "Shield Price             0\n",
      "Utility Value          400\n",
      "Remaining Creds       1700\n",
      "Agent ID                 9\n",
      "Weapon ID               11\n",
      "Armor ID                 0\n",
      "Name: 137, dtype: object\n",
      "Match ID             43621\n",
      "Round ID            695337\n",
      "Round                   14\n",
      "Player ID             2294\n",
      "Player Name           Sacy\n",
      "Team ID                 53\n",
      "Starting Side       attack\n",
      "Agent Name            Sova\n",
      "Weapon Name        Sheriff\n",
      "Weapon Price           800\n",
      "Shield                   0\n",
      "Shield Price             0\n",
      "Utility Value            0\n",
      "Remaining Creds       1400\n",
      "Agent ID                 4\n",
      "Weapon ID               13\n",
      "Armor ID                 0\n",
      "Name: 138, dtype: object\n",
      "Match ID             43621\n",
      "Round ID            695337\n",
      "Round                   14\n",
      "Player ID              194\n",
      "Player Name        sutecas\n",
      "Team ID                 53\n",
      "Starting Side       attack\n",
      "Agent Name           Viper\n",
      "Weapon Name        Classic\n",
      "Weapon Price             0\n",
      "Shield                   0\n",
      "Shield Price             0\n",
      "Utility Value            0\n",
      "Remaining Creds       2000\n",
      "Agent ID                 6\n",
      "Weapon ID               11\n",
      "Armor ID                 0\n",
      "Name: 139, dtype: object\n"
     ]
    }
   ],
   "source": [
    "for index, item in current_round_states.iterrows():\n",
    "    print(item)"
   ],
   "metadata": {
    "collapsed": false,
    "pycharm": {
     "name": "#%%\n"
    }
   }
  },
  {
   "cell_type": "markdown",
   "source": [
    "### AAA"
   ],
   "metadata": {
    "collapsed": false,
    "pycharm": {
     "name": "#%% md\n"
    }
   }
  },
  {
   "cell_type": "code",
   "execution_count": 12,
   "outputs": [
    {
     "data": {
      "text/plain": "[]"
     },
     "execution_count": 12,
     "metadata": {},
     "output_type": "execute_result"
    }
   ],
   "source": [
    "vq.get_full_loadouts()"
   ],
   "metadata": {
    "collapsed": false,
    "pycharm": {
     "name": "#%%\n"
    }
   }
  },
  {
   "cell_type": "code",
   "execution_count": null,
   "outputs": [],
   "source": [],
   "metadata": {
    "collapsed": false,
    "pycharm": {
     "name": "#%%\n"
    }
   }
  }
 ],
 "metadata": {
  "kernelspec": {
   "display_name": "Python 3",
   "language": "python",
   "name": "python3"
  },
  "language_info": {
   "codemirror_mode": {
    "name": "ipython",
    "version": 2
   },
   "file_extension": ".py",
   "mimetype": "text/x-python",
   "name": "python",
   "nbconvert_exporter": "python",
   "pygments_lexer": "ipython2",
   "version": "2.7.6"
  }
 },
 "nbformat": 4,
 "nbformat_minor": 0
}