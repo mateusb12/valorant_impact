{
 "cells": [
  {
   "cell_type": "code",
   "execution_count": 1,
   "outputs": [],
   "source": [
    "import json\n",
    "import pandas as pd\n",
    "from sql_queries import ValorantQueries"
   ],
   "metadata": {
    "collapsed": false,
    "pycharm": {
     "name": "#%%\n"
    }
   }
  },
  {
   "cell_type": "code",
   "execution_count": 2,
   "outputs": [
    {
     "name": "stdout",
     "output_type": "stream",
     "text": [
      "Connected to database valorant successfully\n",
      "[('teams',), ('roundevents',), ('players',), ('events',), ('series',), ('matches',), ('maps',), ('rounds',), ('roundeconomies',), ('roundlocations',), ('playermapinstance',), ('assists',)]\n"
     ]
    }
   ],
   "source": [
    "vq = ValorantQueries()\n",
    "vq.set_match(43621)"
   ],
   "metadata": {
    "collapsed": false,
    "pycharm": {
     "name": "#%%\n"
    }
   }
  },
  {
   "cell_type": "code",
   "execution_count": 3,
   "outputs": [
    {
     "data": {
      "text/plain": "   Timestamp EventType  ATK_Loadout_Value  ATK_Spread  ATK_Shield  \\\n0          0     start              24000    0.000000         250   \n1      72891      kill              24000  190.295863         250   \n2      73216      kill              18500  192.810376         200   \n3      80084      kill              13900  211.463987         150   \n4      80351      kill              13900  257.665641         150   \n5      86246      kill              13900  196.345859         150   \n6      88979      kill              13900  103.062265         150   \n7      92160     plant              13900  132.320204         150   \n8      95954      kill              13900  175.595798         150   \n\n   ATK_Weapon_Price  ATK_Initiator  ATK_Duelist  ATK_Controller Map_Name  ...  \\\n0             14500              1            2               1   Icebox  ...   \n1             14500              1            2               1   Icebox  ...   \n2             11600              1            2               1   Icebox  ...   \n3              8700              0            2               1   Icebox  ...   \n4              8700              0            2               1   Icebox  ...   \n5              8700              0            2               1   Icebox  ...   \n6              8700              0            2               1   Icebox  ...   \n7              8700              0            2               1   Icebox  ...   \n8              8700              0            2               1   Icebox  ...   \n\n   DEF_Spread  DEF_Loadout_Value  DEF_Shield  DEF_Weapon_Price  DEF_Initiator  \\\n0    0.000000              23250         200             16600              2   \n1  399.811147              18550         150             13700              2   \n2  430.281710              18550         150             13700              2   \n3  272.688024              18550         150             13700              2   \n4  270.320132              12900         125              8700              2   \n5  252.810508               8300          75              5800              1   \n6  322.981209               3700          25              2900              0   \n7    0.000000               3700          25              2900              0   \n8    0.000000                  0           0                 0              0   \n\n   DEF_Duelist  DEF_Controller  DEF_Sentinel  DEF_has_OP  FinalWinner  \n0            1               1             1           1            1  \n1            1               1             0           1            1  \n2            1               1             0           1            1  \n3            1               1             0           1            1  \n4            0               1             0           0            1  \n5            0               1             0           0            1  \n6            0               1             0           0            1  \n7            0               1             0           0            1  \n8            0               0             0           0            1  \n\n[9 rows x 22 columns]",
      "text/html": "<div>\n<style scoped>\n    .dataframe tbody tr th:only-of-type {\n        vertical-align: middle;\n    }\n\n    .dataframe tbody tr th {\n        vertical-align: top;\n    }\n\n    .dataframe thead th {\n        text-align: right;\n    }\n</style>\n<table border=\"1\" class=\"dataframe\">\n  <thead>\n    <tr style=\"text-align: right;\">\n      <th></th>\n      <th>Timestamp</th>\n      <th>EventType</th>\n      <th>ATK_Loadout_Value</th>\n      <th>ATK_Spread</th>\n      <th>ATK_Shield</th>\n      <th>ATK_Weapon_Price</th>\n      <th>ATK_Initiator</th>\n      <th>ATK_Duelist</th>\n      <th>ATK_Controller</th>\n      <th>Map_Name</th>\n      <th>...</th>\n      <th>DEF_Spread</th>\n      <th>DEF_Loadout_Value</th>\n      <th>DEF_Shield</th>\n      <th>DEF_Weapon_Price</th>\n      <th>DEF_Initiator</th>\n      <th>DEF_Duelist</th>\n      <th>DEF_Controller</th>\n      <th>DEF_Sentinel</th>\n      <th>DEF_has_OP</th>\n      <th>FinalWinner</th>\n    </tr>\n  </thead>\n  <tbody>\n    <tr>\n      <th>0</th>\n      <td>0</td>\n      <td>start</td>\n      <td>24000</td>\n      <td>0.000000</td>\n      <td>250</td>\n      <td>14500</td>\n      <td>1</td>\n      <td>2</td>\n      <td>1</td>\n      <td>Icebox</td>\n      <td>...</td>\n      <td>0.000000</td>\n      <td>23250</td>\n      <td>200</td>\n      <td>16600</td>\n      <td>2</td>\n      <td>1</td>\n      <td>1</td>\n      <td>1</td>\n      <td>1</td>\n      <td>1</td>\n    </tr>\n    <tr>\n      <th>1</th>\n      <td>72891</td>\n      <td>kill</td>\n      <td>24000</td>\n      <td>190.295863</td>\n      <td>250</td>\n      <td>14500</td>\n      <td>1</td>\n      <td>2</td>\n      <td>1</td>\n      <td>Icebox</td>\n      <td>...</td>\n      <td>399.811147</td>\n      <td>18550</td>\n      <td>150</td>\n      <td>13700</td>\n      <td>2</td>\n      <td>1</td>\n      <td>1</td>\n      <td>0</td>\n      <td>1</td>\n      <td>1</td>\n    </tr>\n    <tr>\n      <th>2</th>\n      <td>73216</td>\n      <td>kill</td>\n      <td>18500</td>\n      <td>192.810376</td>\n      <td>200</td>\n      <td>11600</td>\n      <td>1</td>\n      <td>2</td>\n      <td>1</td>\n      <td>Icebox</td>\n      <td>...</td>\n      <td>430.281710</td>\n      <td>18550</td>\n      <td>150</td>\n      <td>13700</td>\n      <td>2</td>\n      <td>1</td>\n      <td>1</td>\n      <td>0</td>\n      <td>1</td>\n      <td>1</td>\n    </tr>\n    <tr>\n      <th>3</th>\n      <td>80084</td>\n      <td>kill</td>\n      <td>13900</td>\n      <td>211.463987</td>\n      <td>150</td>\n      <td>8700</td>\n      <td>0</td>\n      <td>2</td>\n      <td>1</td>\n      <td>Icebox</td>\n      <td>...</td>\n      <td>272.688024</td>\n      <td>18550</td>\n      <td>150</td>\n      <td>13700</td>\n      <td>2</td>\n      <td>1</td>\n      <td>1</td>\n      <td>0</td>\n      <td>1</td>\n      <td>1</td>\n    </tr>\n    <tr>\n      <th>4</th>\n      <td>80351</td>\n      <td>kill</td>\n      <td>13900</td>\n      <td>257.665641</td>\n      <td>150</td>\n      <td>8700</td>\n      <td>0</td>\n      <td>2</td>\n      <td>1</td>\n      <td>Icebox</td>\n      <td>...</td>\n      <td>270.320132</td>\n      <td>12900</td>\n      <td>125</td>\n      <td>8700</td>\n      <td>2</td>\n      <td>0</td>\n      <td>1</td>\n      <td>0</td>\n      <td>0</td>\n      <td>1</td>\n    </tr>\n    <tr>\n      <th>5</th>\n      <td>86246</td>\n      <td>kill</td>\n      <td>13900</td>\n      <td>196.345859</td>\n      <td>150</td>\n      <td>8700</td>\n      <td>0</td>\n      <td>2</td>\n      <td>1</td>\n      <td>Icebox</td>\n      <td>...</td>\n      <td>252.810508</td>\n      <td>8300</td>\n      <td>75</td>\n      <td>5800</td>\n      <td>1</td>\n      <td>0</td>\n      <td>1</td>\n      <td>0</td>\n      <td>0</td>\n      <td>1</td>\n    </tr>\n    <tr>\n      <th>6</th>\n      <td>88979</td>\n      <td>kill</td>\n      <td>13900</td>\n      <td>103.062265</td>\n      <td>150</td>\n      <td>8700</td>\n      <td>0</td>\n      <td>2</td>\n      <td>1</td>\n      <td>Icebox</td>\n      <td>...</td>\n      <td>322.981209</td>\n      <td>3700</td>\n      <td>25</td>\n      <td>2900</td>\n      <td>0</td>\n      <td>0</td>\n      <td>1</td>\n      <td>0</td>\n      <td>0</td>\n      <td>1</td>\n    </tr>\n    <tr>\n      <th>7</th>\n      <td>92160</td>\n      <td>plant</td>\n      <td>13900</td>\n      <td>132.320204</td>\n      <td>150</td>\n      <td>8700</td>\n      <td>0</td>\n      <td>2</td>\n      <td>1</td>\n      <td>Icebox</td>\n      <td>...</td>\n      <td>0.000000</td>\n      <td>3700</td>\n      <td>25</td>\n      <td>2900</td>\n      <td>0</td>\n      <td>0</td>\n      <td>1</td>\n      <td>0</td>\n      <td>0</td>\n      <td>1</td>\n    </tr>\n    <tr>\n      <th>8</th>\n      <td>95954</td>\n      <td>kill</td>\n      <td>13900</td>\n      <td>175.595798</td>\n      <td>150</td>\n      <td>8700</td>\n      <td>0</td>\n      <td>2</td>\n      <td>1</td>\n      <td>Icebox</td>\n      <td>...</td>\n      <td>0.000000</td>\n      <td>0</td>\n      <td>0</td>\n      <td>0</td>\n      <td>0</td>\n      <td>0</td>\n      <td>0</td>\n      <td>0</td>\n      <td>0</td>\n      <td>1</td>\n    </tr>\n  </tbody>\n</table>\n<p>9 rows × 22 columns</p>\n</div>"
     },
     "execution_count": 3,
     "metadata": {},
     "output_type": "execute_result"
    }
   ],
   "source": [
    "vq.aggregate_gamestate(5)"
   ],
   "metadata": {
    "collapsed": false,
    "pycharm": {
     "name": "#%%\n"
    }
   }
  },
  {
   "cell_type": "code",
   "execution_count": 6,
   "outputs": [
    {
     "data": {
      "text/plain": "1"
     },
     "execution_count": 6,
     "metadata": {},
     "output_type": "execute_result"
    }
   ],
   "source": [
    "# Get score table where round_number == 1\n",
    "score_table = vq.get_full_round()\n",
    "score_table_df = pd.DataFrame(score_table, columns=[\"RoundID\", \"MatchID\", \"RoundNumber\", \"Attacking_Team\", \"WinningTeam\", \"Team_A_Economy\", \"Team_B_Economy\", \"Win_condition\", \"Ceremony\"])\n",
    "score_table_df = score_table_df[score_table_df[\"RoundNumber\"] == 5]\n",
    "attacking_team = int(score_table_df[\"Attacking_Team\"])\n",
    "winning_team = int(score_table_df[\"WinningTeam\"])\n",
    "winner = 1 if attacking_team == winning_team else 0\n",
    "winner"
   ],
   "metadata": {
    "collapsed": false,
    "pycharm": {
     "name": "#%%\n"
    }
   }
  },
  {
   "cell_type": "code",
   "execution_count": 3,
   "outputs": [
    {
     "data": {
      "text/plain": "[(695324, 43621, 1, 53, 53, 0, 0, 'kills', 'flawless'),\n (695325, 43621, 2, 53, 53, 3, 1, 'kills', 'team_ace'),\n (695326, 43621, 3, 53, 53, 3, 4, 'bomb', 'closer'),\n (695327, 43621, 4, 53, 53, 4, 3, 'bomb', 'default'),\n (695328, 43621, 5, 53, 53, 4, 4, 'kills', 'default'),\n (695329, 43621, 6, 53, 444, 4, 2, 'defuse', 'thrifty'),\n (695330, 43621, 7, 53, 444, 4, 4, 'defuse', 'default'),\n (695331, 43621, 8, 53, 444, 4, 4, 'defuse', 'default'),\n (695332, 43621, 9, 53, 53, 3, 4, 'kills', 'default'),\n (695333, 43621, 10, 53, 444, 4, 1, 'defuse', 'thrifty'),\n (695334, 43621, 11, 53, 444, 3, 4, 'defuse', 'default'),\n (695335, 43621, 12, 53, 444, 4, 4, 'time', 'default'),\n (695336, 43621, 13, 444, 444, 0, 0, 'kills', 'default'),\n (695337, 43621, 14, 444, 444, 1, 3, 'kills', 'default'),\n (695338, 43621, 15, 444, 53, 4, 3, 'kills', 'default'),\n (695339, 43621, 16, 444, 53, 4, 2, 'kills', 'flawless'),\n (695340, 43621, 17, 444, 53, 4, 4, 'time', 'default'),\n (695341, 43621, 18, 444, 53, 4, 3, 'defuse', 'default'),\n (695342, 43621, 19, 444, 53, 4, 3, 'kills', 'default'),\n (695343, 43621, 20, 444, 444, 4, 4, 'bomb', 'closer'),\n (695344, 43621, 21, 444, 53, 4, 3, 'defuse', 'default'),\n (695345, 43621, 22, 444, 53, 4, 3, 'defuse', 'default')]"
     },
     "execution_count": 3,
     "metadata": {},
     "output_type": "execute_result"
    }
   ],
   "source": [
    "vq.get_full_round()"
   ],
   "metadata": {
    "collapsed": false,
    "pycharm": {
     "name": "#%%\n"
    }
   }
  },
  {
   "cell_type": "code",
   "execution_count": null,
   "outputs": [],
   "source": [
    "score_table"
   ],
   "metadata": {
    "collapsed": false,
    "pycharm": {
     "name": "#%%\n"
    }
   }
  },
  {
   "cell_type": "code",
   "execution_count": 10,
   "outputs": [],
   "source": [],
   "metadata": {
    "collapsed": false,
    "pycharm": {
     "name": "#%%\n"
    }
   }
  },
  {
   "cell_type": "markdown",
   "source": [
    "### AAA"
   ],
   "metadata": {
    "collapsed": false,
    "pycharm": {
     "name": "#%% md\n"
    }
   }
  }
 ],
 "metadata": {
  "kernelspec": {
   "display_name": "Python 3",
   "language": "python",
   "name": "python3"
  },
  "language_info": {
   "codemirror_mode": {
    "name": "ipython",
    "version": 2
   },
   "file_extension": ".py",
   "mimetype": "text/x-python",
   "name": "python",
   "nbconvert_exporter": "python",
   "pygments_lexer": "ipython2",
   "version": "2.7.6"
  }
 },
 "nbformat": 4,
 "nbformat_minor": 0
}