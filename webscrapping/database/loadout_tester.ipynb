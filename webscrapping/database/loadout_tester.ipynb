{
 "cells": [
  {
   "cell_type": "code",
   "execution_count": 1,
   "outputs": [],
   "source": [
    "from webscrapping.database.sql_queries import ValorantQueries\n",
    "import pandas as pd"
   ],
   "metadata": {
    "collapsed": false,
    "pycharm": {
     "name": "#%%\n"
    }
   }
  },
  {
   "cell_type": "code",
   "execution_count": 2,
   "outputs": [
    {
     "name": "stdout",
     "output_type": "stream",
     "text": [
      "Connected to database valorant successfully\n",
      "[('teams',), ('roundevents',), ('players',), ('events',), ('series',), ('matches',), ('maps',), ('rounds',), ('roundeconomies',), ('roundlocations',), ('playermapinstance',), ('assists',)]\n"
     ]
    }
   ],
   "source": [
    "vq = ValorantQueries()\n",
    "vq.set_match(43621)"
   ],
   "metadata": {
    "collapsed": false,
    "pycharm": {
     "name": "#%%\n"
    }
   }
  },
  {
   "cell_type": "code",
   "execution_count": 4,
   "outputs": [
    {
     "data": {
      "text/plain": "{'attackers': [194, 1877, 2294, 2895, 3105],\n 'defenders': [876, 2388, 1824, 1843, 1075]}"
     },
     "execution_count": 4,
     "metadata": {},
     "output_type": "execute_result"
    }
   ],
   "source": [
    "vq.get_current_gamestate()"
   ],
   "metadata": {
    "collapsed": false,
    "pycharm": {
     "name": "#%%\n"
    }
   }
  },
  {
   "cell_type": "code",
   "execution_count": 2,
   "outputs": [
    {
     "name": "stdout",
     "output_type": "stream",
     "text": [
      "Connected to database valorant successfully\n",
      "[('teams',), ('roundevents',), ('players',), ('events',), ('series',), ('matches',), ('maps',), ('rounds',), ('roundeconomies',), ('roundlocations',), ('playermapinstance',), ('assists',)]\n"
     ]
    }
   ],
   "source": [
    "side_table = pd.DataFrame(vq.get_player_sides(), columns=['player_id', 'map_played', 'team_id', 'first_side', 'rounds_played'])\n",
    "attacking_players = list(side_table[side_table['first_side'] == 'attacker'][\"player_id\"])\n",
    "defending_players = list(side_table[side_table['first_side'] == 'defender'][\"player_id\"])\n",
    "round_amount = int(side_table[\"rounds_played\"].unique())\n",
    "round_amount = 27\n",
    "side_pattern = [\"normal\"] * 12\n",
    "if round_amount > 24:\n",
    "    side_pattern += [\"inverse\"] * 12\n",
    "    ot_rounds = round_amount - 24\n",
    "    for item in range(1, ot_rounds+1):\n",
    "        side_pattern += [\"normal\"] if item % 2 == 1 else [\"inverse\"]\n",
    "else:\n",
    "    remaining = round_amount - 12\n",
    "    side_pattern += [\"inverse\"] * remaining\n",
    "tuple(enumerate(side_pattern, 1))\n",
    "\n",
    "# Create a dict with enumerate(side_pattern, 1)\n",
    "side_pattern_dict = {i: side for i, side in enumerate(side_pattern, 1)}\n",
    "chosen_round = 15\n",
    "round_type = side_pattern_dict[chosen_round]\n",
    "if round_type == \"normal\":\n",
    "    return {\"attackers\": attacking_players, \"defenders\": defending_players}\n",
    "elif round_type == \"inverse\":\n",
    "    return {\"attackers\": defending_players, \"defenders\": attacking_players}"
   ],
   "metadata": {
    "collapsed": false,
    "pycharm": {
     "name": "#%%\n"
    }
   }
  },
  {
   "cell_type": "code",
   "execution_count": 36,
   "outputs": [
    {
     "data": {
      "text/plain": "'inverse'"
     },
     "execution_count": 36,
     "metadata": {},
     "output_type": "execute_result"
    }
   ],
   "source": [],
   "metadata": {
    "collapsed": false,
    "pycharm": {
     "name": "#%%\n"
    }
   }
  }
 ],
 "metadata": {
  "kernelspec": {
   "display_name": "Python 3",
   "language": "python",
   "name": "python3"
  },
  "language_info": {
   "codemirror_mode": {
    "name": "ipython",
    "version": 2
   },
   "file_extension": ".py",
   "mimetype": "text/x-python",
   "name": "python",
   "nbconvert_exporter": "python",
   "pygments_lexer": "ipython2",
   "version": "2.7.6"
  }
 },
 "nbformat": 4,
 "nbformat_minor": 0
}