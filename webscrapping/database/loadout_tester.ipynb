{
 "cells": [
  {
   "cell_type": "code",
   "execution_count": 1,
   "outputs": [],
   "source": [
    "import json\n",
    "import pandas as pd\n",
    "from sql_queries import ValorantQueries"
   ],
   "metadata": {
    "collapsed": false,
    "pycharm": {
     "name": "#%%\n"
    }
   }
  },
  {
   "cell_type": "code",
   "execution_count": 2,
   "outputs": [
    {
     "name": "stdout",
     "output_type": "stream",
     "text": [
      "Connected to database valorant successfully\n",
      "[('teams',), ('roundevents',), ('players',), ('events',), ('series',), ('matches',), ('maps',), ('rounds',), ('roundeconomies',), ('roundlocations',), ('playermapinstance',), ('assists',)]\n"
     ]
    }
   ],
   "source": [
    "vq = ValorantQueries()\n",
    "vq.set_match(43621)"
   ],
   "metadata": {
    "collapsed": false,
    "pycharm": {
     "name": "#%%\n"
    }
   }
  },
  {
   "cell_type": "code",
   "execution_count": 6,
   "outputs": [
    {
     "data": {
      "text/plain": "1"
     },
     "execution_count": 6,
     "metadata": {},
     "output_type": "execute_result"
    }
   ],
   "source": [
    "# Get score table where round_number == 1\n",
    "score_table = vq.get_full_round()\n",
    "score_table_df = pd.DataFrame(score_table, columns=[\"RoundID\", \"MatchID\", \"RoundNumber\", \"Attacking_Team\", \"WinningTeam\", \"Team_A_Economy\", \"Team_B_Economy\", \"Win_condition\", \"Ceremony\"])\n",
    "score_table_df = score_table_df[score_table_df[\"RoundNumber\"] == 5]\n",
    "attacking_team = int(score_table_df[\"Attacking_Team\"])\n",
    "winning_team = int(score_table_df[\"WinningTeam\"])\n",
    "winner = 1 if attacking_team == winning_team else 0\n",
    "winner"
   ],
   "metadata": {
    "collapsed": false,
    "pycharm": {
     "name": "#%%\n"
    }
   }
  },
  {
   "cell_type": "code",
   "execution_count": 3,
   "outputs": [
    {
     "data": {
      "text/plain": "[(695324, 43621, 1, 53, 53, 0, 0, 'kills', 'flawless'),\n (695325, 43621, 2, 53, 53, 3, 1, 'kills', 'team_ace'),\n (695326, 43621, 3, 53, 53, 3, 4, 'bomb', 'closer'),\n (695327, 43621, 4, 53, 53, 4, 3, 'bomb', 'default'),\n (695328, 43621, 5, 53, 53, 4, 4, 'kills', 'default'),\n (695329, 43621, 6, 53, 444, 4, 2, 'defuse', 'thrifty'),\n (695330, 43621, 7, 53, 444, 4, 4, 'defuse', 'default'),\n (695331, 43621, 8, 53, 444, 4, 4, 'defuse', 'default'),\n (695332, 43621, 9, 53, 53, 3, 4, 'kills', 'default'),\n (695333, 43621, 10, 53, 444, 4, 1, 'defuse', 'thrifty'),\n (695334, 43621, 11, 53, 444, 3, 4, 'defuse', 'default'),\n (695335, 43621, 12, 53, 444, 4, 4, 'time', 'default'),\n (695336, 43621, 13, 444, 444, 0, 0, 'kills', 'default'),\n (695337, 43621, 14, 444, 444, 1, 3, 'kills', 'default'),\n (695338, 43621, 15, 444, 53, 4, 3, 'kills', 'default'),\n (695339, 43621, 16, 444, 53, 4, 2, 'kills', 'flawless'),\n (695340, 43621, 17, 444, 53, 4, 4, 'time', 'default'),\n (695341, 43621, 18, 444, 53, 4, 3, 'defuse', 'default'),\n (695342, 43621, 19, 444, 53, 4, 3, 'kills', 'default'),\n (695343, 43621, 20, 444, 444, 4, 4, 'bomb', 'closer'),\n (695344, 43621, 21, 444, 53, 4, 3, 'defuse', 'default'),\n (695345, 43621, 22, 444, 53, 4, 3, 'defuse', 'default')]"
     },
     "execution_count": 3,
     "metadata": {},
     "output_type": "execute_result"
    }
   ],
   "source": [
    "vq.get_full_round()"
   ],
   "metadata": {
    "collapsed": false,
    "pycharm": {
     "name": "#%%\n"
    }
   }
  },
  {
   "cell_type": "code",
   "execution_count": null,
   "outputs": [],
   "source": [
    "score_table"
   ],
   "metadata": {
    "collapsed": false,
    "pycharm": {
     "name": "#%%\n"
    }
   }
  },
  {
   "cell_type": "code",
   "execution_count": 10,
   "outputs": [],
   "source": [],
   "metadata": {
    "collapsed": false,
    "pycharm": {
     "name": "#%%\n"
    }
   }
  },
  {
   "cell_type": "markdown",
   "source": [
    "### AAA"
   ],
   "metadata": {
    "collapsed": false,
    "pycharm": {
     "name": "#%% md\n"
    }
   }
  }
 ],
 "metadata": {
  "kernelspec": {
   "display_name": "Python 3",
   "language": "python",
   "name": "python3"
  },
  "language_info": {
   "codemirror_mode": {
    "name": "ipython",
    "version": 2
   },
   "file_extension": ".py",
   "mimetype": "text/x-python",
   "name": "python",
   "nbconvert_exporter": "python",
   "pygments_lexer": "ipython2",
   "version": "2.7.6"
  }
 },
 "nbformat": 4,
 "nbformat_minor": 0
}