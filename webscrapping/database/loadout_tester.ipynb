{
 "cells": [
  {
   "cell_type": "code",
   "execution_count": 1,
   "outputs": [],
   "source": [
    "import json\n",
    "import pandas as pd\n",
    "from sql_queries import ValorantQueries"
   ],
   "metadata": {
    "collapsed": false,
    "pycharm": {
     "name": "#%%\n"
    }
   }
  },
  {
   "cell_type": "code",
   "execution_count": 2,
   "outputs": [
    {
     "name": "stdout",
     "output_type": "stream",
     "text": [
      "Connected to database valorant successfully\n",
      "[('teams',), ('roundevents',), ('players',), ('events',), ('series',), ('matches',), ('maps',), ('rounds',), ('roundeconomies',), ('roundlocations',), ('playermapinstance',), ('assists',)]\n"
     ]
    }
   ],
   "source": [
    "vq = ValorantQueries()\n",
    "vq.set_match(43621)"
   ],
   "metadata": {
    "collapsed": false,
    "pycharm": {
     "name": "#%%\n"
    }
   }
  },
  {
   "cell_type": "code",
   "execution_count": 4,
   "outputs": [],
   "source": [
    "states = vq.get_initial_state()\n",
    "events = vq.get_event_table()\n",
    "player_alive_dict = {item: True for item in states[\"Player ID\"].unique()}\n",
    "\n",
    "current_round_alive_dict = player_alive_dict.copy()\n",
    "chosen_round = 2\n",
    "current_round_states = states[states['Round'] == chosen_round]\n",
    "current_round_events = events[events['Round'] == chosen_round]\n",
    "\n",
    "attacking_players = tuple(current_round_states[current_round_states['Starting Side'] == 'attack']['Player ID'].unique()) if chosen_round <= 12 else tuple(current_round_states[current_round_states['Starting Side'] == 'defense']['Player ID'].unique())\n",
    "defending_players = tuple(current_round_states[current_round_states['Starting Side'] == 'defense']['Player ID'].unique()) if chosen_round <= 12 else tuple(current_round_states[current_round_states['Starting Side'] == 'attack']['Player ID'].unique())\n",
    "\n",
    "current_gamestate_list = []\n",
    "\n",
    "for event in current_round_events.iterrows():\n",
    "    event_type = event[1][\"EventType\"]\n",
    "    victim_id = event[1][\"VictimID\"]\n",
    "    if event_type == \"kill\":\n",
    "        current_round_alive_dict[victim_id] = False\n",
    "        gs = vq.get_current_gamestate(current_round_states, current_round_alive_dict, attacking_players, defending_players)\n",
    "        current_gamestate_list.append(gs)\n",
    "    player_data = current_round_states[current_round_states['Player ID'] == victim_id]"
   ],
   "metadata": {
    "collapsed": false,
    "pycharm": {
     "name": "#%%\n"
    }
   }
  },
  {
   "cell_type": "code",
   "execution_count": 4,
   "outputs": [],
   "source": [],
   "metadata": {
    "collapsed": false,
    "pycharm": {
     "name": "#%%\n"
    }
   }
  },
  {
   "cell_type": "code",
   "execution_count": 7,
   "outputs": [],
   "source": [],
   "metadata": {
    "collapsed": false,
    "pycharm": {
     "name": "#%%\n"
    }
   }
  },
  {
   "cell_type": "markdown",
   "source": [
    "### AAA"
   ],
   "metadata": {
    "collapsed": false,
    "pycharm": {
     "name": "#%% md\n"
    }
   }
  },
  {
   "cell_type": "code",
   "execution_count": 4,
   "outputs": [],
   "source": [],
   "metadata": {
    "collapsed": false,
    "pycharm": {
     "name": "#%%\n"
    }
   }
  },
  {
   "cell_type": "code",
   "execution_count": null,
   "outputs": [],
   "source": [],
   "metadata": {
    "collapsed": false,
    "pycharm": {
     "name": "#%%\n"
    }
   }
  }
 ],
 "metadata": {
  "kernelspec": {
   "display_name": "Python 3",
   "language": "python",
   "name": "python3"
  },
  "language_info": {
   "codemirror_mode": {
    "name": "ipython",
    "version": 2
   },
   "file_extension": ".py",
   "mimetype": "text/x-python",
   "name": "python",
   "nbconvert_exporter": "python",
   "pygments_lexer": "ipython2",
   "version": "2.7.6"
  }
 },
 "nbformat": 4,
 "nbformat_minor": 0
}