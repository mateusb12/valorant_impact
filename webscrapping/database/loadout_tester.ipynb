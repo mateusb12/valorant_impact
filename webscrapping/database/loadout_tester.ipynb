{
 "cells": [
  {
   "cell_type": "code",
   "execution_count": 1,
   "outputs": [],
   "source": [
    "from webscrapping.database.sql_queries import ValorantQueries\n",
    "import pandas as pd"
   ],
   "metadata": {
    "collapsed": false,
    "pycharm": {
     "name": "#%%\n"
    }
   }
  },
  {
   "cell_type": "code",
   "execution_count": 2,
   "outputs": [
    {
     "name": "stdout",
     "output_type": "stream",
     "text": [
      "Connected to database valorant successfully\n",
      "[('teams',), ('roundevents',), ('players',), ('events',), ('series',), ('matches',), ('maps',), ('rounds',), ('roundeconomies',), ('roundlocations',), ('playermapinstance',), ('assists',)]\n"
     ]
    }
   ],
   "source": [
    "vq = ValorantQueries()\n",
    "vq.set_match(43621)"
   ],
   "metadata": {
    "collapsed": false,
    "pycharm": {
     "name": "#%%\n"
    }
   }
  },
  {
   "cell_type": "code",
   "execution_count": 3,
   "outputs": [],
   "source": [
    "states = vq.get_initial_state()\n",
    "events = vq.get_event_table()"
   ],
   "metadata": {
    "collapsed": false,
    "pycharm": {
     "name": "#%%\n"
    }
   }
  },
  {
   "cell_type": "code",
   "execution_count": 7,
   "outputs": [
    {
     "data": {
      "text/plain": "   Round  EventIndex   Time Player Side  Loadout Value  Weapon Price  Shield  \\\n0      5           0      0      attack          24000         14500     250   \n1      5           0      0     defense          23250         16600     200   \n0      5           1  72891      attack          24000         14500     250   \n1      5           1  72891     defense          18550         13700     150   \n0      5           2  73216      attack          18500         11600     200   \n1      5           2  73216     defense          18550         13700     150   \n0      5           3  80084      attack          13900          8700     150   \n1      5           3  80084     defense          18550         13700     150   \n0      5           4  80351      attack          13900          8700     150   \n1      5           4  80351     defense          12900          8700     125   \n0      5           5  86246      attack          13900          8700     150   \n1      5           5  86246     defense           8300          5800      75   \n0      5           6  88979      attack          13900          8700     150   \n1      5           6  88979     defense           3700          2900      25   \n0      5           7  92160      attack          13900          8700     150   \n1      5           7  92160     defense           3700          2900      25   \n0      5           8  95954      attack          13900          8700     150   \n\n   Remaining Creds  Controller  Duelist  Initiator  Sentinel  Has Operator  \n0            15900           1        2          1         1             0  \n1              750           1        1          2         1             1  \n0            15900           1        2          1         1             0  \n1              650           1        1          2         0             1  \n0            13450           1        2          1         0             0  \n1              650           1        1          2         0             1  \n0             8850           1        2          0         0             0  \n1              650           1        1          2         0             1  \n0             8850           1        2          0         0             0  \n1              450           1        0          2         0             0  \n0             8850           1        2          0         0             0  \n1              450           1        0          1         0             0  \n0             8850           1        2          0         0             0  \n1              200           1        0          0         0             0  \n0             8850           1        2          0         0             0  \n1              200           1        0          0         0             0  \n0             8850           1        2          0         0             0  ",
      "text/html": "<div>\n<style scoped>\n    .dataframe tbody tr th:only-of-type {\n        vertical-align: middle;\n    }\n\n    .dataframe tbody tr th {\n        vertical-align: top;\n    }\n\n    .dataframe thead th {\n        text-align: right;\n    }\n</style>\n<table border=\"1\" class=\"dataframe\">\n  <thead>\n    <tr style=\"text-align: right;\">\n      <th></th>\n      <th>Round</th>\n      <th>EventIndex</th>\n      <th>Time</th>\n      <th>Player Side</th>\n      <th>Loadout Value</th>\n      <th>Weapon Price</th>\n      <th>Shield</th>\n      <th>Remaining Creds</th>\n      <th>Controller</th>\n      <th>Duelist</th>\n      <th>Initiator</th>\n      <th>Sentinel</th>\n      <th>Has Operator</th>\n    </tr>\n  </thead>\n  <tbody>\n    <tr>\n      <th>0</th>\n      <td>5</td>\n      <td>0</td>\n      <td>0</td>\n      <td>attack</td>\n      <td>24000</td>\n      <td>14500</td>\n      <td>250</td>\n      <td>15900</td>\n      <td>1</td>\n      <td>2</td>\n      <td>1</td>\n      <td>1</td>\n      <td>0</td>\n    </tr>\n    <tr>\n      <th>1</th>\n      <td>5</td>\n      <td>0</td>\n      <td>0</td>\n      <td>defense</td>\n      <td>23250</td>\n      <td>16600</td>\n      <td>200</td>\n      <td>750</td>\n      <td>1</td>\n      <td>1</td>\n      <td>2</td>\n      <td>1</td>\n      <td>1</td>\n    </tr>\n    <tr>\n      <th>0</th>\n      <td>5</td>\n      <td>1</td>\n      <td>72891</td>\n      <td>attack</td>\n      <td>24000</td>\n      <td>14500</td>\n      <td>250</td>\n      <td>15900</td>\n      <td>1</td>\n      <td>2</td>\n      <td>1</td>\n      <td>1</td>\n      <td>0</td>\n    </tr>\n    <tr>\n      <th>1</th>\n      <td>5</td>\n      <td>1</td>\n      <td>72891</td>\n      <td>defense</td>\n      <td>18550</td>\n      <td>13700</td>\n      <td>150</td>\n      <td>650</td>\n      <td>1</td>\n      <td>1</td>\n      <td>2</td>\n      <td>0</td>\n      <td>1</td>\n    </tr>\n    <tr>\n      <th>0</th>\n      <td>5</td>\n      <td>2</td>\n      <td>73216</td>\n      <td>attack</td>\n      <td>18500</td>\n      <td>11600</td>\n      <td>200</td>\n      <td>13450</td>\n      <td>1</td>\n      <td>2</td>\n      <td>1</td>\n      <td>0</td>\n      <td>0</td>\n    </tr>\n    <tr>\n      <th>1</th>\n      <td>5</td>\n      <td>2</td>\n      <td>73216</td>\n      <td>defense</td>\n      <td>18550</td>\n      <td>13700</td>\n      <td>150</td>\n      <td>650</td>\n      <td>1</td>\n      <td>1</td>\n      <td>2</td>\n      <td>0</td>\n      <td>1</td>\n    </tr>\n    <tr>\n      <th>0</th>\n      <td>5</td>\n      <td>3</td>\n      <td>80084</td>\n      <td>attack</td>\n      <td>13900</td>\n      <td>8700</td>\n      <td>150</td>\n      <td>8850</td>\n      <td>1</td>\n      <td>2</td>\n      <td>0</td>\n      <td>0</td>\n      <td>0</td>\n    </tr>\n    <tr>\n      <th>1</th>\n      <td>5</td>\n      <td>3</td>\n      <td>80084</td>\n      <td>defense</td>\n      <td>18550</td>\n      <td>13700</td>\n      <td>150</td>\n      <td>650</td>\n      <td>1</td>\n      <td>1</td>\n      <td>2</td>\n      <td>0</td>\n      <td>1</td>\n    </tr>\n    <tr>\n      <th>0</th>\n      <td>5</td>\n      <td>4</td>\n      <td>80351</td>\n      <td>attack</td>\n      <td>13900</td>\n      <td>8700</td>\n      <td>150</td>\n      <td>8850</td>\n      <td>1</td>\n      <td>2</td>\n      <td>0</td>\n      <td>0</td>\n      <td>0</td>\n    </tr>\n    <tr>\n      <th>1</th>\n      <td>5</td>\n      <td>4</td>\n      <td>80351</td>\n      <td>defense</td>\n      <td>12900</td>\n      <td>8700</td>\n      <td>125</td>\n      <td>450</td>\n      <td>1</td>\n      <td>0</td>\n      <td>2</td>\n      <td>0</td>\n      <td>0</td>\n    </tr>\n    <tr>\n      <th>0</th>\n      <td>5</td>\n      <td>5</td>\n      <td>86246</td>\n      <td>attack</td>\n      <td>13900</td>\n      <td>8700</td>\n      <td>150</td>\n      <td>8850</td>\n      <td>1</td>\n      <td>2</td>\n      <td>0</td>\n      <td>0</td>\n      <td>0</td>\n    </tr>\n    <tr>\n      <th>1</th>\n      <td>5</td>\n      <td>5</td>\n      <td>86246</td>\n      <td>defense</td>\n      <td>8300</td>\n      <td>5800</td>\n      <td>75</td>\n      <td>450</td>\n      <td>1</td>\n      <td>0</td>\n      <td>1</td>\n      <td>0</td>\n      <td>0</td>\n    </tr>\n    <tr>\n      <th>0</th>\n      <td>5</td>\n      <td>6</td>\n      <td>88979</td>\n      <td>attack</td>\n      <td>13900</td>\n      <td>8700</td>\n      <td>150</td>\n      <td>8850</td>\n      <td>1</td>\n      <td>2</td>\n      <td>0</td>\n      <td>0</td>\n      <td>0</td>\n    </tr>\n    <tr>\n      <th>1</th>\n      <td>5</td>\n      <td>6</td>\n      <td>88979</td>\n      <td>defense</td>\n      <td>3700</td>\n      <td>2900</td>\n      <td>25</td>\n      <td>200</td>\n      <td>1</td>\n      <td>0</td>\n      <td>0</td>\n      <td>0</td>\n      <td>0</td>\n    </tr>\n    <tr>\n      <th>0</th>\n      <td>5</td>\n      <td>7</td>\n      <td>92160</td>\n      <td>attack</td>\n      <td>13900</td>\n      <td>8700</td>\n      <td>150</td>\n      <td>8850</td>\n      <td>1</td>\n      <td>2</td>\n      <td>0</td>\n      <td>0</td>\n      <td>0</td>\n    </tr>\n    <tr>\n      <th>1</th>\n      <td>5</td>\n      <td>7</td>\n      <td>92160</td>\n      <td>defense</td>\n      <td>3700</td>\n      <td>2900</td>\n      <td>25</td>\n      <td>200</td>\n      <td>1</td>\n      <td>0</td>\n      <td>0</td>\n      <td>0</td>\n      <td>0</td>\n    </tr>\n    <tr>\n      <th>0</th>\n      <td>5</td>\n      <td>8</td>\n      <td>95954</td>\n      <td>attack</td>\n      <td>13900</td>\n      <td>8700</td>\n      <td>150</td>\n      <td>8850</td>\n      <td>1</td>\n      <td>2</td>\n      <td>0</td>\n      <td>0</td>\n      <td>0</td>\n    </tr>\n  </tbody>\n</table>\n</div>"
     },
     "execution_count": 7,
     "metadata": {},
     "output_type": "execute_result"
    }
   ],
   "source": [
    "aux = vq.get_round_gamestate(5)\n",
    "pd.concat(aux)"
   ],
   "metadata": {
    "collapsed": false,
    "pycharm": {
     "name": "#%%\n"
    }
   }
  },
  {
   "cell_type": "code",
   "execution_count": 4,
   "outputs": [
    {
     "data": {
      "text/plain": "  Player Side  Remaining Creds  Loadout Value  Shield  Weapon Price  \\\n0      attack              250           3950      50          1500   \n1     defense                0           2200      50           500   \n\n   Controller  Duelist  Initiator  Sentinel  Has Operator  \n0           1        2          1         1             0  \n1           1        0          1         1             0  ",
      "text/html": "<div>\n<style scoped>\n    .dataframe tbody tr th:only-of-type {\n        vertical-align: middle;\n    }\n\n    .dataframe tbody tr th {\n        vertical-align: top;\n    }\n\n    .dataframe thead th {\n        text-align: right;\n    }\n</style>\n<table border=\"1\" class=\"dataframe\">\n  <thead>\n    <tr style=\"text-align: right;\">\n      <th></th>\n      <th>Player Side</th>\n      <th>Remaining Creds</th>\n      <th>Loadout Value</th>\n      <th>Shield</th>\n      <th>Weapon Price</th>\n      <th>Controller</th>\n      <th>Duelist</th>\n      <th>Initiator</th>\n      <th>Sentinel</th>\n      <th>Has Operator</th>\n    </tr>\n  </thead>\n  <tbody>\n    <tr>\n      <th>0</th>\n      <td>attack</td>\n      <td>250</td>\n      <td>3950</td>\n      <td>50</td>\n      <td>1500</td>\n      <td>1</td>\n      <td>2</td>\n      <td>1</td>\n      <td>1</td>\n      <td>0</td>\n    </tr>\n    <tr>\n      <th>1</th>\n      <td>defense</td>\n      <td>0</td>\n      <td>2200</td>\n      <td>50</td>\n      <td>500</td>\n      <td>1</td>\n      <td>0</td>\n      <td>1</td>\n      <td>1</td>\n      <td>0</td>\n    </tr>\n  </tbody>\n</table>\n</div>"
     },
     "execution_count": 4,
     "metadata": {},
     "output_type": "execute_result"
    }
   ],
   "source": [
    "mad = vq.generate_match_alive_dict()\n",
    "chosen_round = 1\n",
    "chosen_event = 2\n",
    "alive_list = mad[chosen_round][chosen_event]\n",
    "query = states[(states[\"Round\"] == chosen_round)]\n",
    "row_pot = []\n",
    "for row_index in range(len(query)):\n",
    "    row = states.iloc[row_index].copy()\n",
    "    player_name = row[\"Player Name\"]\n",
    "    status = row[\"Status\"]\n",
    "    is_alive = alive_list[player_name]\n",
    "    row[\"Status\"] = \"Alive\" if is_alive == 1 else \"Dead\"\n",
    "    row_pot.append(row)\n",
    "g = pd.DataFrame(row_pot)\n",
    "g = g[g[\"Status\"] == \"Alive\"]\n",
    "agg_dict = {\"Remaining Creds\": \"sum\", \"Loadout Value\": \"sum\", \"Shield\": \"sum\", \"Weapon Price\": \"sum\",\n",
    "            \"Controller\": \"sum\", \"Duelist\": \"sum\", \"Initiator\": \"sum\", \"Sentinel\": \"sum\", \"Has Operator\": \"sum\"}\n",
    "g.groupby([\"Player Side\"]).agg(agg_dict).reset_index()\n",
    "#g.apply(lambda x: x[x[\"Status\"] == \"Alive\"])."
   ],
   "metadata": {
    "collapsed": false,
    "pycharm": {
     "name": "#%%\n"
    }
   }
  },
  {
   "cell_type": "markdown",
   "source": [
    "# Json Style"
   ],
   "metadata": {
    "collapsed": false,
    "pycharm": {
     "name": "#%% md\n"
    }
   }
  },
  {
   "cell_type": "code",
   "execution_count": 10,
   "outputs": [
    {
     "data": {
      "text/plain": "  Player Side  Remaining Creds  Loadout Value  Shield  Weapon Price  \\\n0      attack            15900          24000     250         14500   \n1     defense              650          18550     150         13700   \n\n   Controller  Duelist  Initiator  Sentinel  Has Operator  \n0           1        2          1         1             0  \n1           1        1          2         0             1  ",
      "text/html": "<div>\n<style scoped>\n    .dataframe tbody tr th:only-of-type {\n        vertical-align: middle;\n    }\n\n    .dataframe tbody tr th {\n        vertical-align: top;\n    }\n\n    .dataframe thead th {\n        text-align: right;\n    }\n</style>\n<table border=\"1\" class=\"dataframe\">\n  <thead>\n    <tr style=\"text-align: right;\">\n      <th></th>\n      <th>Player Side</th>\n      <th>Remaining Creds</th>\n      <th>Loadout Value</th>\n      <th>Shield</th>\n      <th>Weapon Price</th>\n      <th>Controller</th>\n      <th>Duelist</th>\n      <th>Initiator</th>\n      <th>Sentinel</th>\n      <th>Has Operator</th>\n    </tr>\n  </thead>\n  <tbody>\n    <tr>\n      <th>0</th>\n      <td>attack</td>\n      <td>15900</td>\n      <td>24000</td>\n      <td>250</td>\n      <td>14500</td>\n      <td>1</td>\n      <td>2</td>\n      <td>1</td>\n      <td>1</td>\n      <td>0</td>\n    </tr>\n    <tr>\n      <th>1</th>\n      <td>defense</td>\n      <td>650</td>\n      <td>18550</td>\n      <td>150</td>\n      <td>13700</td>\n      <td>1</td>\n      <td>1</td>\n      <td>2</td>\n      <td>0</td>\n      <td>1</td>\n    </tr>\n  </tbody>\n</table>\n</div>"
     },
     "execution_count": 10,
     "metadata": {},
     "output_type": "execute_result"
    }
   ],
   "source": [
    "chosen_round = 5\n",
    "round_states = states[(states[\"Round\"] == chosen_round)]\n",
    "round_states = round_states.sort_values(by=[\"Player Side\"])\n",
    "round_events = events[(events[\"Round\"] == chosen_round)]\n",
    "alive_info = {item: \"alive\" for item in round_states[\"Player Name\"].unique()}\n",
    "agg_dict = {\"Remaining Creds\": \"sum\", \"Loadout Value\": \"sum\", \"Shield\": \"sum\", \"Weapon Price\": \"sum\",\n",
    "            \"Controller\": \"sum\", \"Duelist\": \"sum\", \"Initiator\": \"sum\", \"Sentinel\": \"sum\", \"Has Operator\": \"sum\"}\n",
    "gamestate_pot = [0]\n",
    "for row_index in range(len(round_events)):\n",
    "    row = round_events.iloc[row_index]\n",
    "    event_type = row[\"EventType\"]\n",
    "    victim_name = row[\"VictimName\"]\n",
    "    if event_type == \"kill\":\n",
    "        alive_info[victim_name] = \"dead\"\n",
    "    elif event_type == \"revival\":\n",
    "        alive_info[victim_name] = \"alive\"\n",
    "\n",
    "    state_pot = []\n",
    "    for state_index in range(len(round_states)):\n",
    "        state = round_states.iloc[state_index].copy()\n",
    "        player_name = state[\"Player Name\"]\n",
    "        state[\"Status\"] = alive_info[player_name]\n",
    "        state_pot.append(state)\n",
    "\n",
    "    alive_df = pd.DataFrame(state_pot)\n",
    "    alive_df = alive_df[alive_df[\"Status\"] == \"alive\"]\n",
    "    alive_df = alive_df.groupby([\"Player Side\"]).agg(agg_dict).reset_index()\n",
    "    gamestate_pot.append(alive_df)\n",
    "\n",
    "gamestate_pot[1]"
   ],
   "metadata": {
    "collapsed": false,
    "pycharm": {
     "name": "#%%\n"
    }
   }
  },
  {
   "cell_type": "code",
   "execution_count": 14,
   "outputs": [
    {
     "data": {
      "text/plain": "    Match ID  Round ID  Round  Player ID Player Name Status  Team ID  \\\n43     43621    695328      5       1877         frz  alive       53   \n44     43621    695328      5       3105      gtnziN  alive       53   \n47     43621    695328      5       2895     Saadhak  alive       53   \n48     43621    695328      5       2294        Sacy  alive       53   \n49     43621    695328      5        194     sutecas  alive       53   \n40     43621    695328      5       1843         ade  alive      444   \n41     43621    695328      5       1075       Bazzi  alive      444   \n42     43621    695328      5       1824      Fisker  alive      444   \n45     43621    695328      5        876    Munchkin  alive      444   \n46     43621    695328      5       2388        neth  alive      444   \n\n   Player Side  Remaining Creds  Loadout Value  ...  Weapon Name  \\\n43      attack             1450           4800  ...       Vandal   \n44      attack             4250           4600  ...       Vandal   \n47      attack             2450           5500  ...      Phantom   \n48      attack             4600           4600  ...      Phantom   \n49      attack             3150           4500  ...       Vandal   \n40     defense              200           3700  ...      Phantom   \n41     defense                0           4600  ...       Vandal   \n42     defense              200           5650  ...     Operator   \n45     defense              250           4600  ...       Vandal   \n46     defense              100           4700  ...      Phantom   \n\n    Weapon Price  Utility Value  Agent Name  Starting Side Controller  \\\n43          2900           4800       Reyna         attack          0   \n44          2900           4600        Jett         attack          0   \n47          2900           5500        Sage         attack          0   \n48          2900           4600        Sova         attack          0   \n49          2900           4500       Viper         attack          1   \n40          2900           3700       Viper        defense          1   \n41          2900           4600        Sova        defense          0   \n42          5000           5650        Jett        defense          0   \n45          2900           4600       KAY/O        defense          0   \n46          2900           4700        Sage        defense          0   \n\n    Duelist  Initiator Sentinel Has Operator  \n43        1          0        0        False  \n44        1          0        0        False  \n47        0          0        1        False  \n48        0          1        0        False  \n49        0          0        0        False  \n40        0          0        0        False  \n41        0          1        0        False  \n42        1          0        0         True  \n45        0          1        0        False  \n46        0          0        1        False  \n\n[10 rows x 25 columns]",
      "text/html": "<div>\n<style scoped>\n    .dataframe tbody tr th:only-of-type {\n        vertical-align: middle;\n    }\n\n    .dataframe tbody tr th {\n        vertical-align: top;\n    }\n\n    .dataframe thead th {\n        text-align: right;\n    }\n</style>\n<table border=\"1\" class=\"dataframe\">\n  <thead>\n    <tr style=\"text-align: right;\">\n      <th></th>\n      <th>Match ID</th>\n      <th>Round ID</th>\n      <th>Round</th>\n      <th>Player ID</th>\n      <th>Player Name</th>\n      <th>Status</th>\n      <th>Team ID</th>\n      <th>Player Side</th>\n      <th>Remaining Creds</th>\n      <th>Loadout Value</th>\n      <th>...</th>\n      <th>Weapon Name</th>\n      <th>Weapon Price</th>\n      <th>Utility Value</th>\n      <th>Agent Name</th>\n      <th>Starting Side</th>\n      <th>Controller</th>\n      <th>Duelist</th>\n      <th>Initiator</th>\n      <th>Sentinel</th>\n      <th>Has Operator</th>\n    </tr>\n  </thead>\n  <tbody>\n    <tr>\n      <th>43</th>\n      <td>43621</td>\n      <td>695328</td>\n      <td>5</td>\n      <td>1877</td>\n      <td>frz</td>\n      <td>alive</td>\n      <td>53</td>\n      <td>attack</td>\n      <td>1450</td>\n      <td>4800</td>\n      <td>...</td>\n      <td>Vandal</td>\n      <td>2900</td>\n      <td>4800</td>\n      <td>Reyna</td>\n      <td>attack</td>\n      <td>0</td>\n      <td>1</td>\n      <td>0</td>\n      <td>0</td>\n      <td>False</td>\n    </tr>\n    <tr>\n      <th>44</th>\n      <td>43621</td>\n      <td>695328</td>\n      <td>5</td>\n      <td>3105</td>\n      <td>gtnziN</td>\n      <td>alive</td>\n      <td>53</td>\n      <td>attack</td>\n      <td>4250</td>\n      <td>4600</td>\n      <td>...</td>\n      <td>Vandal</td>\n      <td>2900</td>\n      <td>4600</td>\n      <td>Jett</td>\n      <td>attack</td>\n      <td>0</td>\n      <td>1</td>\n      <td>0</td>\n      <td>0</td>\n      <td>False</td>\n    </tr>\n    <tr>\n      <th>47</th>\n      <td>43621</td>\n      <td>695328</td>\n      <td>5</td>\n      <td>2895</td>\n      <td>Saadhak</td>\n      <td>alive</td>\n      <td>53</td>\n      <td>attack</td>\n      <td>2450</td>\n      <td>5500</td>\n      <td>...</td>\n      <td>Phantom</td>\n      <td>2900</td>\n      <td>5500</td>\n      <td>Sage</td>\n      <td>attack</td>\n      <td>0</td>\n      <td>0</td>\n      <td>0</td>\n      <td>1</td>\n      <td>False</td>\n    </tr>\n    <tr>\n      <th>48</th>\n      <td>43621</td>\n      <td>695328</td>\n      <td>5</td>\n      <td>2294</td>\n      <td>Sacy</td>\n      <td>alive</td>\n      <td>53</td>\n      <td>attack</td>\n      <td>4600</td>\n      <td>4600</td>\n      <td>...</td>\n      <td>Phantom</td>\n      <td>2900</td>\n      <td>4600</td>\n      <td>Sova</td>\n      <td>attack</td>\n      <td>0</td>\n      <td>0</td>\n      <td>1</td>\n      <td>0</td>\n      <td>False</td>\n    </tr>\n    <tr>\n      <th>49</th>\n      <td>43621</td>\n      <td>695328</td>\n      <td>5</td>\n      <td>194</td>\n      <td>sutecas</td>\n      <td>alive</td>\n      <td>53</td>\n      <td>attack</td>\n      <td>3150</td>\n      <td>4500</td>\n      <td>...</td>\n      <td>Vandal</td>\n      <td>2900</td>\n      <td>4500</td>\n      <td>Viper</td>\n      <td>attack</td>\n      <td>1</td>\n      <td>0</td>\n      <td>0</td>\n      <td>0</td>\n      <td>False</td>\n    </tr>\n    <tr>\n      <th>40</th>\n      <td>43621</td>\n      <td>695328</td>\n      <td>5</td>\n      <td>1843</td>\n      <td>ade</td>\n      <td>alive</td>\n      <td>444</td>\n      <td>defense</td>\n      <td>200</td>\n      <td>3700</td>\n      <td>...</td>\n      <td>Phantom</td>\n      <td>2900</td>\n      <td>3700</td>\n      <td>Viper</td>\n      <td>defense</td>\n      <td>1</td>\n      <td>0</td>\n      <td>0</td>\n      <td>0</td>\n      <td>False</td>\n    </tr>\n    <tr>\n      <th>41</th>\n      <td>43621</td>\n      <td>695328</td>\n      <td>5</td>\n      <td>1075</td>\n      <td>Bazzi</td>\n      <td>alive</td>\n      <td>444</td>\n      <td>defense</td>\n      <td>0</td>\n      <td>4600</td>\n      <td>...</td>\n      <td>Vandal</td>\n      <td>2900</td>\n      <td>4600</td>\n      <td>Sova</td>\n      <td>defense</td>\n      <td>0</td>\n      <td>0</td>\n      <td>1</td>\n      <td>0</td>\n      <td>False</td>\n    </tr>\n    <tr>\n      <th>42</th>\n      <td>43621</td>\n      <td>695328</td>\n      <td>5</td>\n      <td>1824</td>\n      <td>Fisker</td>\n      <td>alive</td>\n      <td>444</td>\n      <td>defense</td>\n      <td>200</td>\n      <td>5650</td>\n      <td>...</td>\n      <td>Operator</td>\n      <td>5000</td>\n      <td>5650</td>\n      <td>Jett</td>\n      <td>defense</td>\n      <td>0</td>\n      <td>1</td>\n      <td>0</td>\n      <td>0</td>\n      <td>True</td>\n    </tr>\n    <tr>\n      <th>45</th>\n      <td>43621</td>\n      <td>695328</td>\n      <td>5</td>\n      <td>876</td>\n      <td>Munchkin</td>\n      <td>alive</td>\n      <td>444</td>\n      <td>defense</td>\n      <td>250</td>\n      <td>4600</td>\n      <td>...</td>\n      <td>Vandal</td>\n      <td>2900</td>\n      <td>4600</td>\n      <td>KAY/O</td>\n      <td>defense</td>\n      <td>0</td>\n      <td>0</td>\n      <td>1</td>\n      <td>0</td>\n      <td>False</td>\n    </tr>\n    <tr>\n      <th>46</th>\n      <td>43621</td>\n      <td>695328</td>\n      <td>5</td>\n      <td>2388</td>\n      <td>neth</td>\n      <td>alive</td>\n      <td>444</td>\n      <td>defense</td>\n      <td>100</td>\n      <td>4700</td>\n      <td>...</td>\n      <td>Phantom</td>\n      <td>2900</td>\n      <td>4700</td>\n      <td>Sage</td>\n      <td>defense</td>\n      <td>0</td>\n      <td>0</td>\n      <td>0</td>\n      <td>1</td>\n      <td>False</td>\n    </tr>\n  </tbody>\n</table>\n<p>10 rows × 25 columns</p>\n</div>"
     },
     "execution_count": 14,
     "metadata": {},
     "output_type": "execute_result"
    }
   ],
   "source": [
    "round_states"
   ],
   "metadata": {
    "collapsed": false,
    "pycharm": {
     "name": "#%%\n"
    }
   }
  }
 ],
 "metadata": {
  "kernelspec": {
   "display_name": "Python 3",
   "language": "python",
   "name": "python3"
  },
  "language_info": {
   "codemirror_mode": {
    "name": "ipython",
    "version": 2
   },
   "file_extension": ".py",
   "mimetype": "text/x-python",
   "name": "python",
   "nbconvert_exporter": "python",
   "pygments_lexer": "ipython2",
   "version": "2.7.6"
  }
 },
 "nbformat": 4,
 "nbformat_minor": 0
}