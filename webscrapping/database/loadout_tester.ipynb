{
 "cells": [
  {
   "cell_type": "code",
   "execution_count": 1,
   "outputs": [],
   "source": [
    "import json\n",
    "import pandas as pd\n",
    "from sql_queries import ValorantQueries"
   ],
   "metadata": {
    "collapsed": false,
    "pycharm": {
     "name": "#%%\n"
    }
   }
  },
  {
   "cell_type": "code",
   "execution_count": 2,
   "outputs": [
    {
     "name": "stdout",
     "output_type": "stream",
     "text": [
      "Connected to database valorant successfully\n",
      "[('teams',), ('roundevents',), ('players',), ('events',), ('series',), ('matches',), ('maps',), ('rounds',), ('roundeconomies',), ('roundlocations',), ('playermapinstance',), ('assists',)]\n"
     ]
    }
   ],
   "source": [
    "vq = ValorantQueries()\n",
    "vq.set_match(43621)"
   ],
   "metadata": {
    "collapsed": false,
    "pycharm": {
     "name": "#%%\n"
    }
   }
  },
  {
   "cell_type": "code",
   "execution_count": 48,
   "outputs": [
    {
     "data": {
      "text/plain": "    Timestamp EventType  ATK_Loadout_Value  ATK_Shield  ATK_Weapon_Price  \\\n0           0     start              23200         250             14500   \n1        7526      kill              18600         200             11600   \n2       12106   revival              23200         250             14500   \n3       16686      kill              18700         200             11600   \n4       17968      kill              18700         200             11600   \n5       79775      kill              18700         200             11600   \n6       89060     plant              18700         200             11600   \n7       91326   revival              18700         200             11600   \n8       93591      kill              14100         150              8700   \n9       94639      kill               9300         100              5800   \n10      96059      kill               4600          50              2900   \n11      96956      kill               4600          50              2900   \n12     100051      kill               4600          50              2900   \n13     100191      kill                  0           0                 0   \n14     121021    defuse                  0           0                 0   \n\n    ATK_Initiator  ATK_Duelist  ATK_Controller  ATK_Sentinel  \\\n0               1            2               1             1   \n1               0            2               1             1   \n2               1            2               1             1   \n3               1            2               0             1   \n4               1            2               0             1   \n5               1            2               0             1   \n6               1            2               0             1   \n7               1            2               0             1   \n8               1            1               0             1   \n9               1            0               0             1   \n10              1            0               0             0   \n11              1            0               0             0   \n12              1            0               0             0   \n13              0            0               0             0   \n14              0            0               0             0   \n\n    DEF_Loadout_Value  DEF_Shield  DEF_Weapon_Price  DEF_Initiator  \\\n0               24950         225             16600              2   \n1               24950         225             16600              2   \n2               24950         225             16600              2   \n3               24950         225             16600              2   \n4               19000         200             11600              2   \n5               13600         150              8700              1   \n6               13600         150              8700              1   \n7               19000         200             11600              2   \n8               19000         200             11600              2   \n9               19000         200             11600              2   \n10              19000         200             11600              2   \n11              14700         150              8700              2   \n12              10000         100              5800              2   \n13              10000         100              5800              2   \n14              10000         100              5800              2   \n\n    DEF_Duelist  DEF_Controller  DEF_Sentinel  \n0             1               1             1  \n1             1               1             1  \n2             1               1             1  \n3             1               1             1  \n4             0               1             1  \n5             0               1             1  \n6             0               1             1  \n7             0               1             1  \n8             0               1             1  \n9             0               1             1  \n10            0               1             1  \n11            0               0             1  \n12            0               0             0  \n13            0               0             0  \n14            0               0             0  ",
      "text/html": "<div>\n<style scoped>\n    .dataframe tbody tr th:only-of-type {\n        vertical-align: middle;\n    }\n\n    .dataframe tbody tr th {\n        vertical-align: top;\n    }\n\n    .dataframe thead th {\n        text-align: right;\n    }\n</style>\n<table border=\"1\" class=\"dataframe\">\n  <thead>\n    <tr style=\"text-align: right;\">\n      <th></th>\n      <th>Timestamp</th>\n      <th>EventType</th>\n      <th>ATK_Loadout_Value</th>\n      <th>ATK_Shield</th>\n      <th>ATK_Weapon_Price</th>\n      <th>ATK_Initiator</th>\n      <th>ATK_Duelist</th>\n      <th>ATK_Controller</th>\n      <th>ATK_Sentinel</th>\n      <th>DEF_Loadout_Value</th>\n      <th>DEF_Shield</th>\n      <th>DEF_Weapon_Price</th>\n      <th>DEF_Initiator</th>\n      <th>DEF_Duelist</th>\n      <th>DEF_Controller</th>\n      <th>DEF_Sentinel</th>\n    </tr>\n  </thead>\n  <tbody>\n    <tr>\n      <th>0</th>\n      <td>0</td>\n      <td>start</td>\n      <td>23200</td>\n      <td>250</td>\n      <td>14500</td>\n      <td>1</td>\n      <td>2</td>\n      <td>1</td>\n      <td>1</td>\n      <td>24950</td>\n      <td>225</td>\n      <td>16600</td>\n      <td>2</td>\n      <td>1</td>\n      <td>1</td>\n      <td>1</td>\n    </tr>\n    <tr>\n      <th>1</th>\n      <td>7526</td>\n      <td>kill</td>\n      <td>18600</td>\n      <td>200</td>\n      <td>11600</td>\n      <td>0</td>\n      <td>2</td>\n      <td>1</td>\n      <td>1</td>\n      <td>24950</td>\n      <td>225</td>\n      <td>16600</td>\n      <td>2</td>\n      <td>1</td>\n      <td>1</td>\n      <td>1</td>\n    </tr>\n    <tr>\n      <th>2</th>\n      <td>12106</td>\n      <td>revival</td>\n      <td>23200</td>\n      <td>250</td>\n      <td>14500</td>\n      <td>1</td>\n      <td>2</td>\n      <td>1</td>\n      <td>1</td>\n      <td>24950</td>\n      <td>225</td>\n      <td>16600</td>\n      <td>2</td>\n      <td>1</td>\n      <td>1</td>\n      <td>1</td>\n    </tr>\n    <tr>\n      <th>3</th>\n      <td>16686</td>\n      <td>kill</td>\n      <td>18700</td>\n      <td>200</td>\n      <td>11600</td>\n      <td>1</td>\n      <td>2</td>\n      <td>0</td>\n      <td>1</td>\n      <td>24950</td>\n      <td>225</td>\n      <td>16600</td>\n      <td>2</td>\n      <td>1</td>\n      <td>1</td>\n      <td>1</td>\n    </tr>\n    <tr>\n      <th>4</th>\n      <td>17968</td>\n      <td>kill</td>\n      <td>18700</td>\n      <td>200</td>\n      <td>11600</td>\n      <td>1</td>\n      <td>2</td>\n      <td>0</td>\n      <td>1</td>\n      <td>19000</td>\n      <td>200</td>\n      <td>11600</td>\n      <td>2</td>\n      <td>0</td>\n      <td>1</td>\n      <td>1</td>\n    </tr>\n    <tr>\n      <th>5</th>\n      <td>79775</td>\n      <td>kill</td>\n      <td>18700</td>\n      <td>200</td>\n      <td>11600</td>\n      <td>1</td>\n      <td>2</td>\n      <td>0</td>\n      <td>1</td>\n      <td>13600</td>\n      <td>150</td>\n      <td>8700</td>\n      <td>1</td>\n      <td>0</td>\n      <td>1</td>\n      <td>1</td>\n    </tr>\n    <tr>\n      <th>6</th>\n      <td>89060</td>\n      <td>plant</td>\n      <td>18700</td>\n      <td>200</td>\n      <td>11600</td>\n      <td>1</td>\n      <td>2</td>\n      <td>0</td>\n      <td>1</td>\n      <td>13600</td>\n      <td>150</td>\n      <td>8700</td>\n      <td>1</td>\n      <td>0</td>\n      <td>1</td>\n      <td>1</td>\n    </tr>\n    <tr>\n      <th>7</th>\n      <td>91326</td>\n      <td>revival</td>\n      <td>18700</td>\n      <td>200</td>\n      <td>11600</td>\n      <td>1</td>\n      <td>2</td>\n      <td>0</td>\n      <td>1</td>\n      <td>19000</td>\n      <td>200</td>\n      <td>11600</td>\n      <td>2</td>\n      <td>0</td>\n      <td>1</td>\n      <td>1</td>\n    </tr>\n    <tr>\n      <th>8</th>\n      <td>93591</td>\n      <td>kill</td>\n      <td>14100</td>\n      <td>150</td>\n      <td>8700</td>\n      <td>1</td>\n      <td>1</td>\n      <td>0</td>\n      <td>1</td>\n      <td>19000</td>\n      <td>200</td>\n      <td>11600</td>\n      <td>2</td>\n      <td>0</td>\n      <td>1</td>\n      <td>1</td>\n    </tr>\n    <tr>\n      <th>9</th>\n      <td>94639</td>\n      <td>kill</td>\n      <td>9300</td>\n      <td>100</td>\n      <td>5800</td>\n      <td>1</td>\n      <td>0</td>\n      <td>0</td>\n      <td>1</td>\n      <td>19000</td>\n      <td>200</td>\n      <td>11600</td>\n      <td>2</td>\n      <td>0</td>\n      <td>1</td>\n      <td>1</td>\n    </tr>\n    <tr>\n      <th>10</th>\n      <td>96059</td>\n      <td>kill</td>\n      <td>4600</td>\n      <td>50</td>\n      <td>2900</td>\n      <td>1</td>\n      <td>0</td>\n      <td>0</td>\n      <td>0</td>\n      <td>19000</td>\n      <td>200</td>\n      <td>11600</td>\n      <td>2</td>\n      <td>0</td>\n      <td>1</td>\n      <td>1</td>\n    </tr>\n    <tr>\n      <th>11</th>\n      <td>96956</td>\n      <td>kill</td>\n      <td>4600</td>\n      <td>50</td>\n      <td>2900</td>\n      <td>1</td>\n      <td>0</td>\n      <td>0</td>\n      <td>0</td>\n      <td>14700</td>\n      <td>150</td>\n      <td>8700</td>\n      <td>2</td>\n      <td>0</td>\n      <td>0</td>\n      <td>1</td>\n    </tr>\n    <tr>\n      <th>12</th>\n      <td>100051</td>\n      <td>kill</td>\n      <td>4600</td>\n      <td>50</td>\n      <td>2900</td>\n      <td>1</td>\n      <td>0</td>\n      <td>0</td>\n      <td>0</td>\n      <td>10000</td>\n      <td>100</td>\n      <td>5800</td>\n      <td>2</td>\n      <td>0</td>\n      <td>0</td>\n      <td>0</td>\n    </tr>\n    <tr>\n      <th>13</th>\n      <td>100191</td>\n      <td>kill</td>\n      <td>0</td>\n      <td>0</td>\n      <td>0</td>\n      <td>0</td>\n      <td>0</td>\n      <td>0</td>\n      <td>0</td>\n      <td>10000</td>\n      <td>100</td>\n      <td>5800</td>\n      <td>2</td>\n      <td>0</td>\n      <td>0</td>\n      <td>0</td>\n    </tr>\n    <tr>\n      <th>14</th>\n      <td>121021</td>\n      <td>defuse</td>\n      <td>0</td>\n      <td>0</td>\n      <td>0</td>\n      <td>0</td>\n      <td>0</td>\n      <td>0</td>\n      <td>0</td>\n      <td>10000</td>\n      <td>100</td>\n      <td>5800</td>\n      <td>2</td>\n      <td>0</td>\n      <td>0</td>\n      <td>0</td>\n    </tr>\n  </tbody>\n</table>\n</div>"
     },
     "execution_count": 48,
     "metadata": {},
     "output_type": "execute_result"
    }
   ],
   "source": [
    "states = vq.get_initial_state()\n",
    "events = vq.get_event_table()\n",
    "player_alive_dict = {item: True for item in states[\"Player ID\"].unique()}\n",
    "\n",
    "current_round_alive_dict = player_alive_dict.copy()\n",
    "chosen_round = 7\n",
    "current_round_states = states[states['Round'] == chosen_round]\n",
    "current_round_events = events[events['Round'] == chosen_round]\n",
    "\n",
    "attacking_players = tuple(current_round_states[current_round_states['Starting Side'] == 'attack']['Player ID'].unique()) if chosen_round <= 12 else tuple(current_round_states[current_round_states['Starting Side'] == 'defense']['Player ID'].unique())\n",
    "defending_players = tuple(current_round_states[current_round_states['Starting Side'] == 'defense']['Player ID'].unique()) if chosen_round <= 12 else tuple(current_round_states[current_round_states['Starting Side'] == 'attack']['Player ID'].unique())\n",
    "\n",
    "current_gamestate_list = []\n",
    "\n",
    "first_state = vq.get_current_gamestate(current_round_states, current_round_alive_dict, attacking_players, defending_players)\n",
    "current_gamestate_list.append(first_state)\n",
    "for event in current_round_events.iterrows():\n",
    "    event_type = event[1][\"EventType\"]\n",
    "    victim_id = event[1][\"VictimID\"]\n",
    "    if event_type == \"kill\":\n",
    "        current_round_alive_dict[victim_id] = False\n",
    "    elif event_type == \"revival\":\n",
    "        current_round_alive_dict[victim_id] = True\n",
    "    gs = vq.get_current_gamestate(current_round_states, current_round_alive_dict, attacking_players, defending_players)\n",
    "    current_gamestate_list.append(gs)\n",
    "    player_data = current_round_states[current_round_states['Player ID'] == victim_id]\n",
    "\n",
    "dummy_gamestate_list = []\n",
    "for gamestate in current_gamestate_list:\n",
    "    # Append \"ATK\" to the beginning of the keys of the attack gamestate\n",
    "    atk_gamestate = {f\"ATK {key}\".replace(\" \", \"_\"): value for key, value in gamestate[\"atk_data\"].items()}\n",
    "    def_gamestate = {f\"DEF {key}\".replace(\" \", \"_\"): value for key, value in gamestate[\"def_data\"].items()}\n",
    "    merged_gamestate = {**atk_gamestate, **def_gamestate}\n",
    "    dummy_gamestate_list.append(merged_gamestate)\n",
    "gamestate_df = pd.DataFrame(dummy_gamestate_list)\n",
    "timestamps = list(current_round_events[\"Round_time_millis\"])\n",
    "timestamps.insert(0, 0)\n",
    "gamestate_df.insert(0, \"Timestamp\", timestamps)\n",
    "event_type_column = list(current_round_events[\"EventType\"])\n",
    "event_type_column.insert(0, \"start\")\n",
    "gamestate_df.insert(1, \"EventType\", event_type_column)\n",
    "gamestate_df"
   ],
   "metadata": {
    "collapsed": false,
    "pycharm": {
     "name": "#%%\n"
    }
   }
  },
  {
   "cell_type": "code",
   "execution_count": 4,
   "outputs": [
    {
     "data": {
      "text/plain": "   Timestamp EventType  ATK_Loadout_Value  ATK_Shield  ATK_Weapon_Price  \\\n0          0     start              24000         250             14500   \n1      72891      kill              24000         250             14500   \n2      73216      kill              18500         200             11600   \n3      80084      kill              13900         150              8700   \n4      80351      kill              13900         150              8700   \n5      86246      kill              13900         150              8700   \n6      88979      kill              13900         150              8700   \n7      92160     plant              13900         150              8700   \n8      95954      kill              13900         150              8700   \n\n   ATK_Initiator  ATK_Duelist  ATK_Controller  ATK_Sentinel  \\\n0              1            2               1             1   \n1              1            2               1             1   \n2              1            2               1             0   \n3              0            2               1             0   \n4              0            2               1             0   \n5              0            2               1             0   \n6              0            2               1             0   \n7              0            2               1             0   \n8              0            2               1             0   \n\n   DEF_Loadout_Value  DEF_Shield  DEF_Weapon_Price  DEF_Initiator  \\\n0              23250         200             16600              2   \n1              18550         150             13700              2   \n2              18550         150             13700              2   \n3              18550         150             13700              2   \n4              12900         125              8700              2   \n5               8300          75              5800              1   \n6               3700          25              2900              0   \n7               3700          25              2900              0   \n8                  0           0                 0              0   \n\n   DEF_Duelist  DEF_Controller  DEF_Sentinel  \n0            1               1             1  \n1            1               1             0  \n2            1               1             0  \n3            1               1             0  \n4            0               1             0  \n5            0               1             0  \n6            0               1             0  \n7            0               1             0  \n8            0               0             0  ",
      "text/html": "<div>\n<style scoped>\n    .dataframe tbody tr th:only-of-type {\n        vertical-align: middle;\n    }\n\n    .dataframe tbody tr th {\n        vertical-align: top;\n    }\n\n    .dataframe thead th {\n        text-align: right;\n    }\n</style>\n<table border=\"1\" class=\"dataframe\">\n  <thead>\n    <tr style=\"text-align: right;\">\n      <th></th>\n      <th>Timestamp</th>\n      <th>EventType</th>\n      <th>ATK_Loadout_Value</th>\n      <th>ATK_Shield</th>\n      <th>ATK_Weapon_Price</th>\n      <th>ATK_Initiator</th>\n      <th>ATK_Duelist</th>\n      <th>ATK_Controller</th>\n      <th>ATK_Sentinel</th>\n      <th>DEF_Loadout_Value</th>\n      <th>DEF_Shield</th>\n      <th>DEF_Weapon_Price</th>\n      <th>DEF_Initiator</th>\n      <th>DEF_Duelist</th>\n      <th>DEF_Controller</th>\n      <th>DEF_Sentinel</th>\n    </tr>\n  </thead>\n  <tbody>\n    <tr>\n      <th>0</th>\n      <td>0</td>\n      <td>start</td>\n      <td>24000</td>\n      <td>250</td>\n      <td>14500</td>\n      <td>1</td>\n      <td>2</td>\n      <td>1</td>\n      <td>1</td>\n      <td>23250</td>\n      <td>200</td>\n      <td>16600</td>\n      <td>2</td>\n      <td>1</td>\n      <td>1</td>\n      <td>1</td>\n    </tr>\n    <tr>\n      <th>1</th>\n      <td>72891</td>\n      <td>kill</td>\n      <td>24000</td>\n      <td>250</td>\n      <td>14500</td>\n      <td>1</td>\n      <td>2</td>\n      <td>1</td>\n      <td>1</td>\n      <td>18550</td>\n      <td>150</td>\n      <td>13700</td>\n      <td>2</td>\n      <td>1</td>\n      <td>1</td>\n      <td>0</td>\n    </tr>\n    <tr>\n      <th>2</th>\n      <td>73216</td>\n      <td>kill</td>\n      <td>18500</td>\n      <td>200</td>\n      <td>11600</td>\n      <td>1</td>\n      <td>2</td>\n      <td>1</td>\n      <td>0</td>\n      <td>18550</td>\n      <td>150</td>\n      <td>13700</td>\n      <td>2</td>\n      <td>1</td>\n      <td>1</td>\n      <td>0</td>\n    </tr>\n    <tr>\n      <th>3</th>\n      <td>80084</td>\n      <td>kill</td>\n      <td>13900</td>\n      <td>150</td>\n      <td>8700</td>\n      <td>0</td>\n      <td>2</td>\n      <td>1</td>\n      <td>0</td>\n      <td>18550</td>\n      <td>150</td>\n      <td>13700</td>\n      <td>2</td>\n      <td>1</td>\n      <td>1</td>\n      <td>0</td>\n    </tr>\n    <tr>\n      <th>4</th>\n      <td>80351</td>\n      <td>kill</td>\n      <td>13900</td>\n      <td>150</td>\n      <td>8700</td>\n      <td>0</td>\n      <td>2</td>\n      <td>1</td>\n      <td>0</td>\n      <td>12900</td>\n      <td>125</td>\n      <td>8700</td>\n      <td>2</td>\n      <td>0</td>\n      <td>1</td>\n      <td>0</td>\n    </tr>\n    <tr>\n      <th>5</th>\n      <td>86246</td>\n      <td>kill</td>\n      <td>13900</td>\n      <td>150</td>\n      <td>8700</td>\n      <td>0</td>\n      <td>2</td>\n      <td>1</td>\n      <td>0</td>\n      <td>8300</td>\n      <td>75</td>\n      <td>5800</td>\n      <td>1</td>\n      <td>0</td>\n      <td>1</td>\n      <td>0</td>\n    </tr>\n    <tr>\n      <th>6</th>\n      <td>88979</td>\n      <td>kill</td>\n      <td>13900</td>\n      <td>150</td>\n      <td>8700</td>\n      <td>0</td>\n      <td>2</td>\n      <td>1</td>\n      <td>0</td>\n      <td>3700</td>\n      <td>25</td>\n      <td>2900</td>\n      <td>0</td>\n      <td>0</td>\n      <td>1</td>\n      <td>0</td>\n    </tr>\n    <tr>\n      <th>7</th>\n      <td>92160</td>\n      <td>plant</td>\n      <td>13900</td>\n      <td>150</td>\n      <td>8700</td>\n      <td>0</td>\n      <td>2</td>\n      <td>1</td>\n      <td>0</td>\n      <td>3700</td>\n      <td>25</td>\n      <td>2900</td>\n      <td>0</td>\n      <td>0</td>\n      <td>1</td>\n      <td>0</td>\n    </tr>\n    <tr>\n      <th>8</th>\n      <td>95954</td>\n      <td>kill</td>\n      <td>13900</td>\n      <td>150</td>\n      <td>8700</td>\n      <td>0</td>\n      <td>2</td>\n      <td>1</td>\n      <td>0</td>\n      <td>0</td>\n      <td>0</td>\n      <td>0</td>\n      <td>0</td>\n      <td>0</td>\n      <td>0</td>\n      <td>0</td>\n    </tr>\n  </tbody>\n</table>\n</div>"
     },
     "execution_count": 4,
     "metadata": {},
     "output_type": "execute_result"
    }
   ],
   "source": [
    "vq.aggregate_gamestate(5)"
   ],
   "metadata": {
    "collapsed": false,
    "pycharm": {
     "name": "#%%\n"
    }
   }
  },
  {
   "cell_type": "markdown",
   "source": [
    "### AAA"
   ],
   "metadata": {
    "collapsed": false,
    "pycharm": {
     "name": "#%% md\n"
    }
   }
  }
 ],
 "metadata": {
  "kernelspec": {
   "display_name": "Python 3",
   "language": "python",
   "name": "python3"
  },
  "language_info": {
   "codemirror_mode": {
    "name": "ipython",
    "version": 2
   },
   "file_extension": ".py",
   "mimetype": "text/x-python",
   "name": "python",
   "nbconvert_exporter": "python",
   "pygments_lexer": "ipython2",
   "version": "2.7.6"
  }
 },
 "nbformat": 4,
 "nbformat_minor": 0
}