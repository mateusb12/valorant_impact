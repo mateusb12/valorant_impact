{
 "cells": [
  {
   "cell_type": "code",
   "execution_count": 1,
   "outputs": [],
   "source": [
    "from webscrapping.database.sql_queries import ValorantQueries\n",
    "import pandas as pd"
   ],
   "metadata": {
    "collapsed": false,
    "pycharm": {
     "name": "#%%\n"
    }
   }
  },
  {
   "cell_type": "code",
   "execution_count": 2,
   "outputs": [
    {
     "name": "stdout",
     "output_type": "stream",
     "text": [
      "Connected to database valorant successfully\n",
      "[('teams',), ('roundevents',), ('players',), ('events',), ('series',), ('matches',), ('maps',), ('rounds',), ('roundeconomies',), ('roundlocations',), ('playermapinstance',), ('assists',)]\n"
     ]
    }
   ],
   "source": [
    "vq = ValorantQueries()\n",
    "vq.set_match(43621)"
   ],
   "metadata": {
    "collapsed": false,
    "pycharm": {
     "name": "#%%\n"
    }
   }
  },
  {
   "cell_type": "code",
   "execution_count": 3,
   "outputs": [
    {
     "data": {
      "text/plain": "     Match ID  Round ID  Round  Player ID Player Name Status  Team ID  \\\n0       43621    695324      1       1843         ade  alive      444   \n1       43621    695324      1       1075       Bazzi  alive      444   \n2       43621    695324      1       1824      Fisker  alive      444   \n3       43621    695324      1       1877         frz  alive       53   \n4       43621    695324      1       3105      gtnziN  alive       53   \n..        ...       ...    ...        ...         ...    ...      ...   \n215     43621    695345     22        876    Munchkin  alive      444   \n216     43621    695345     22       2388        neth  alive      444   \n217     43621    695345     22       2895     Saadhak  alive       53   \n218     43621    695345     22       2294        Sacy  alive       53   \n219     43621    695345     22        194     sutecas  alive       53   \n\n    Player Side  Remaining Creds  Loadout Value  ...  Weapon Name  \\\n0        attack                0            600  ...      Classic   \n1        attack                0            800  ...        Ghost   \n2        attack                0            800  ...      Sheriff   \n3       defense               50            950  ...        Ghost   \n4       defense              100            700  ...        Ghost   \n..          ...              ...            ...  ...          ...   \n215     defense              750           4600  ...       Vandal   \n216     defense              100           2550  ...      Stinger   \n217      attack             2450           4700  ...      Phantom   \n218      attack             1300           4600  ...      Phantom   \n219      attack             3000           5300  ...       Vandal   \n\n     Weapon Price  Utility Value  Agent Name  Starting Side Controller  \\\n0               0            600       Viper        defense          1   \n1             500            800        Sova        defense          0   \n2             800            800        Jett        defense          0   \n3             500            950       Reyna         attack          0   \n4             500            700        Jett         attack          0   \n..            ...            ...         ...            ...        ...   \n215          2900           4600       KAY/O        defense          0   \n216          1100           2550        Sage        defense          0   \n217          2900           4700        Sage         attack          0   \n218          2900           4600        Sova         attack          0   \n219          2900           5300       Viper         attack          1   \n\n     Duelist  Initiator Sentinel Has Operator  \n0          0          0        0        False  \n1          0          1        0        False  \n2          1          0        0        False  \n3          1          0        0        False  \n4          1          0        0        False  \n..       ...        ...      ...          ...  \n215        0          1        0        False  \n216        0          0        1        False  \n217        0          0        1        False  \n218        0          1        0        False  \n219        0          0        0        False  \n\n[220 rows x 25 columns]",
      "text/html": "<div>\n<style scoped>\n    .dataframe tbody tr th:only-of-type {\n        vertical-align: middle;\n    }\n\n    .dataframe tbody tr th {\n        vertical-align: top;\n    }\n\n    .dataframe thead th {\n        text-align: right;\n    }\n</style>\n<table border=\"1\" class=\"dataframe\">\n  <thead>\n    <tr style=\"text-align: right;\">\n      <th></th>\n      <th>Match ID</th>\n      <th>Round ID</th>\n      <th>Round</th>\n      <th>Player ID</th>\n      <th>Player Name</th>\n      <th>Status</th>\n      <th>Team ID</th>\n      <th>Player Side</th>\n      <th>Remaining Creds</th>\n      <th>Loadout Value</th>\n      <th>...</th>\n      <th>Weapon Name</th>\n      <th>Weapon Price</th>\n      <th>Utility Value</th>\n      <th>Agent Name</th>\n      <th>Starting Side</th>\n      <th>Controller</th>\n      <th>Duelist</th>\n      <th>Initiator</th>\n      <th>Sentinel</th>\n      <th>Has Operator</th>\n    </tr>\n  </thead>\n  <tbody>\n    <tr>\n      <th>0</th>\n      <td>43621</td>\n      <td>695324</td>\n      <td>1</td>\n      <td>1843</td>\n      <td>ade</td>\n      <td>alive</td>\n      <td>444</td>\n      <td>attack</td>\n      <td>0</td>\n      <td>600</td>\n      <td>...</td>\n      <td>Classic</td>\n      <td>0</td>\n      <td>600</td>\n      <td>Viper</td>\n      <td>defense</td>\n      <td>1</td>\n      <td>0</td>\n      <td>0</td>\n      <td>0</td>\n      <td>False</td>\n    </tr>\n    <tr>\n      <th>1</th>\n      <td>43621</td>\n      <td>695324</td>\n      <td>1</td>\n      <td>1075</td>\n      <td>Bazzi</td>\n      <td>alive</td>\n      <td>444</td>\n      <td>attack</td>\n      <td>0</td>\n      <td>800</td>\n      <td>...</td>\n      <td>Ghost</td>\n      <td>500</td>\n      <td>800</td>\n      <td>Sova</td>\n      <td>defense</td>\n      <td>0</td>\n      <td>0</td>\n      <td>1</td>\n      <td>0</td>\n      <td>False</td>\n    </tr>\n    <tr>\n      <th>2</th>\n      <td>43621</td>\n      <td>695324</td>\n      <td>1</td>\n      <td>1824</td>\n      <td>Fisker</td>\n      <td>alive</td>\n      <td>444</td>\n      <td>attack</td>\n      <td>0</td>\n      <td>800</td>\n      <td>...</td>\n      <td>Sheriff</td>\n      <td>800</td>\n      <td>800</td>\n      <td>Jett</td>\n      <td>defense</td>\n      <td>0</td>\n      <td>1</td>\n      <td>0</td>\n      <td>0</td>\n      <td>False</td>\n    </tr>\n    <tr>\n      <th>3</th>\n      <td>43621</td>\n      <td>695324</td>\n      <td>1</td>\n      <td>1877</td>\n      <td>frz</td>\n      <td>alive</td>\n      <td>53</td>\n      <td>defense</td>\n      <td>50</td>\n      <td>950</td>\n      <td>...</td>\n      <td>Ghost</td>\n      <td>500</td>\n      <td>950</td>\n      <td>Reyna</td>\n      <td>attack</td>\n      <td>0</td>\n      <td>1</td>\n      <td>0</td>\n      <td>0</td>\n      <td>False</td>\n    </tr>\n    <tr>\n      <th>4</th>\n      <td>43621</td>\n      <td>695324</td>\n      <td>1</td>\n      <td>3105</td>\n      <td>gtnziN</td>\n      <td>alive</td>\n      <td>53</td>\n      <td>defense</td>\n      <td>100</td>\n      <td>700</td>\n      <td>...</td>\n      <td>Ghost</td>\n      <td>500</td>\n      <td>700</td>\n      <td>Jett</td>\n      <td>attack</td>\n      <td>0</td>\n      <td>1</td>\n      <td>0</td>\n      <td>0</td>\n      <td>False</td>\n    </tr>\n    <tr>\n      <th>...</th>\n      <td>...</td>\n      <td>...</td>\n      <td>...</td>\n      <td>...</td>\n      <td>...</td>\n      <td>...</td>\n      <td>...</td>\n      <td>...</td>\n      <td>...</td>\n      <td>...</td>\n      <td>...</td>\n      <td>...</td>\n      <td>...</td>\n      <td>...</td>\n      <td>...</td>\n      <td>...</td>\n      <td>...</td>\n      <td>...</td>\n      <td>...</td>\n      <td>...</td>\n      <td>...</td>\n    </tr>\n    <tr>\n      <th>215</th>\n      <td>43621</td>\n      <td>695345</td>\n      <td>22</td>\n      <td>876</td>\n      <td>Munchkin</td>\n      <td>alive</td>\n      <td>444</td>\n      <td>defense</td>\n      <td>750</td>\n      <td>4600</td>\n      <td>...</td>\n      <td>Vandal</td>\n      <td>2900</td>\n      <td>4600</td>\n      <td>KAY/O</td>\n      <td>defense</td>\n      <td>0</td>\n      <td>0</td>\n      <td>1</td>\n      <td>0</td>\n      <td>False</td>\n    </tr>\n    <tr>\n      <th>216</th>\n      <td>43621</td>\n      <td>695345</td>\n      <td>22</td>\n      <td>2388</td>\n      <td>neth</td>\n      <td>alive</td>\n      <td>444</td>\n      <td>defense</td>\n      <td>100</td>\n      <td>2550</td>\n      <td>...</td>\n      <td>Stinger</td>\n      <td>1100</td>\n      <td>2550</td>\n      <td>Sage</td>\n      <td>defense</td>\n      <td>0</td>\n      <td>0</td>\n      <td>0</td>\n      <td>1</td>\n      <td>False</td>\n    </tr>\n    <tr>\n      <th>217</th>\n      <td>43621</td>\n      <td>695345</td>\n      <td>22</td>\n      <td>2895</td>\n      <td>Saadhak</td>\n      <td>alive</td>\n      <td>53</td>\n      <td>attack</td>\n      <td>2450</td>\n      <td>4700</td>\n      <td>...</td>\n      <td>Phantom</td>\n      <td>2900</td>\n      <td>4700</td>\n      <td>Sage</td>\n      <td>attack</td>\n      <td>0</td>\n      <td>0</td>\n      <td>0</td>\n      <td>1</td>\n      <td>False</td>\n    </tr>\n    <tr>\n      <th>218</th>\n      <td>43621</td>\n      <td>695345</td>\n      <td>22</td>\n      <td>2294</td>\n      <td>Sacy</td>\n      <td>alive</td>\n      <td>53</td>\n      <td>attack</td>\n      <td>1300</td>\n      <td>4600</td>\n      <td>...</td>\n      <td>Phantom</td>\n      <td>2900</td>\n      <td>4600</td>\n      <td>Sova</td>\n      <td>attack</td>\n      <td>0</td>\n      <td>0</td>\n      <td>1</td>\n      <td>0</td>\n      <td>False</td>\n    </tr>\n    <tr>\n      <th>219</th>\n      <td>43621</td>\n      <td>695345</td>\n      <td>22</td>\n      <td>194</td>\n      <td>sutecas</td>\n      <td>alive</td>\n      <td>53</td>\n      <td>attack</td>\n      <td>3000</td>\n      <td>5300</td>\n      <td>...</td>\n      <td>Vandal</td>\n      <td>2900</td>\n      <td>5300</td>\n      <td>Viper</td>\n      <td>attack</td>\n      <td>1</td>\n      <td>0</td>\n      <td>0</td>\n      <td>0</td>\n      <td>False</td>\n    </tr>\n  </tbody>\n</table>\n<p>220 rows × 25 columns</p>\n</div>"
     },
     "execution_count": 3,
     "metadata": {},
     "output_type": "execute_result"
    }
   ],
   "source": [
    "states = vq.get_initial_state()\n",
    "events = vq.get_event_table()\n",
    "states"
   ],
   "metadata": {
    "collapsed": false,
    "pycharm": {
     "name": "#%%\n"
    }
   }
  },
  {
   "cell_type": "code",
   "execution_count": 12,
   "outputs": [
    {
     "data": {
      "text/plain": "  Player Side  Remaining Creds  Loadout Value  Shield  Weapon Price  \\\n0      attack                0           2200      50           500   \n1     defense              250           3950      50          1500   \n\n   Controller  Duelist  Initiator  Sentinel  Has Operator  \n0           1        0          1         1             0  \n1           1        2          1         1             0  ",
      "text/html": "<div>\n<style scoped>\n    .dataframe tbody tr th:only-of-type {\n        vertical-align: middle;\n    }\n\n    .dataframe tbody tr th {\n        vertical-align: top;\n    }\n\n    .dataframe thead th {\n        text-align: right;\n    }\n</style>\n<table border=\"1\" class=\"dataframe\">\n  <thead>\n    <tr style=\"text-align: right;\">\n      <th></th>\n      <th>Player Side</th>\n      <th>Remaining Creds</th>\n      <th>Loadout Value</th>\n      <th>Shield</th>\n      <th>Weapon Price</th>\n      <th>Controller</th>\n      <th>Duelist</th>\n      <th>Initiator</th>\n      <th>Sentinel</th>\n      <th>Has Operator</th>\n    </tr>\n  </thead>\n  <tbody>\n    <tr>\n      <th>0</th>\n      <td>attack</td>\n      <td>0</td>\n      <td>2200</td>\n      <td>50</td>\n      <td>500</td>\n      <td>1</td>\n      <td>0</td>\n      <td>1</td>\n      <td>1</td>\n      <td>0</td>\n    </tr>\n    <tr>\n      <th>1</th>\n      <td>defense</td>\n      <td>250</td>\n      <td>3950</td>\n      <td>50</td>\n      <td>1500</td>\n      <td>1</td>\n      <td>2</td>\n      <td>1</td>\n      <td>1</td>\n      <td>0</td>\n    </tr>\n  </tbody>\n</table>\n</div>"
     },
     "execution_count": 12,
     "metadata": {},
     "output_type": "execute_result"
    }
   ],
   "source": [
    "mad = vq.generate_match_alive_dict()\n",
    "chosen_round = 1\n",
    "chosen_event = 2\n",
    "alive_list = mad[chosen_round][chosen_event]\n",
    "query = states[(states[\"Round\"] == chosen_round)]\n",
    "row_pot = []\n",
    "for row_index in range(len(query)):\n",
    "    row = states.iloc[row_index].copy()\n",
    "    player_name = row[\"Player Name\"]\n",
    "    status = row[\"Status\"]\n",
    "    is_alive = alive_list[player_name]\n",
    "    row[\"Status\"] = \"Alive\" if is_alive == 1 else \"Dead\"\n",
    "    row_pot.append(row)\n",
    "g = pd.DataFrame(row_pot)\n",
    "g = g[g[\"Status\"] == \"Alive\"]\n",
    "agg_dict = {\"Remaining Creds\": \"sum\", \"Loadout Value\": \"sum\", \"Shield\": \"sum\", \"Weapon Price\": \"sum\",\n",
    "            \"Controller\": \"sum\", \"Duelist\": \"sum\", \"Initiator\": \"sum\", \"Sentinel\": \"sum\", \"Has Operator\": \"sum\"}\n",
    "g.groupby([\"Player Side\"]).agg(agg_dict).reset_index()\n",
    "#g.apply(lambda x: x[x[\"Status\"] == \"Alive\"])."
   ],
   "metadata": {
    "collapsed": false,
    "pycharm": {
     "name": "#%%\n"
    }
   }
  },
  {
   "cell_type": "code",
   "execution_count": 17,
   "outputs": [
    {
     "data": {
      "text/plain": "{'ade': 1,\n 'Bazzi': 1,\n 'Fisker': 0,\n 'frz': 1,\n 'gtnziN': 1,\n 'Munchkin': 0,\n 'neth': 1,\n 'Saadhak': 1,\n 'Sacy': 1,\n 'sutecas': 1}"
     },
     "execution_count": 17,
     "metadata": {},
     "output_type": "execute_result"
    }
   ],
   "source": [
    "match_alive_dict[3][3]"
   ],
   "metadata": {
    "collapsed": false,
    "pycharm": {
     "name": "#%%\n"
    }
   }
  }
 ],
 "metadata": {
  "kernelspec": {
   "display_name": "Python 3",
   "language": "python",
   "name": "python3"
  },
  "language_info": {
   "codemirror_mode": {
    "name": "ipython",
    "version": 2
   },
   "file_extension": ".py",
   "mimetype": "text/x-python",
   "name": "python",
   "nbconvert_exporter": "python",
   "pygments_lexer": "ipython2",
   "version": "2.7.6"
  }
 },
 "nbformat": 4,
 "nbformat_minor": 0
}