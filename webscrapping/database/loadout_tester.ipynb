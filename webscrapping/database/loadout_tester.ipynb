{
 "cells": [
  {
   "cell_type": "code",
   "execution_count": 1,
   "outputs": [],
   "source": [
    "from webscrapping.database.sql_queries import ValorantQueries\n",
    "import pandas as pd"
   ],
   "metadata": {
    "collapsed": false,
    "pycharm": {
     "name": "#%%\n"
    }
   }
  },
  {
   "cell_type": "code",
   "execution_count": 2,
   "outputs": [
    {
     "name": "stdout",
     "output_type": "stream",
     "text": [
      "Connected to database valorant successfully\n",
      "[('teams',), ('roundevents',), ('players',), ('events',), ('series',), ('matches',), ('maps',), ('rounds',), ('roundeconomies',), ('roundlocations',), ('playermapinstance',), ('assists',)]\n"
     ]
    }
   ],
   "source": [
    "vq = ValorantQueries()\n",
    "vq.set_match(43621)"
   ],
   "metadata": {
    "collapsed": false,
    "pycharm": {
     "name": "#%%\n"
    }
   }
  },
  {
   "cell_type": "code",
   "execution_count": 3,
   "outputs": [
    {
     "data": {
      "text/plain": "    Timestamp EventType  ATK_Loadout_Value  ATK_Spread  ATK_Shield  \\\n0           0     start               3950    0.000000          50   \n1       17272      kill               3950  122.266135          50   \n2       29339      kill               3950  160.990222          50   \n3       29760      kill               3950  165.174399          50   \n4       37694     plant               3950  229.418092          50   \n..        ...       ...                ...         ...         ...   \n6       93788     plant               4750  315.346712         100   \n7       94458      kill               2550  294.703493          50   \n8      107910      kill               2550  141.243609          50   \n9      109289      kill                  0  121.361877           0   \n10     119321    defuse                  0    6.251896           0   \n\n    ATK_Weapon_Price  ATK_Initiator Map_Name  ATK_Duelist  ATK_Controller  \\\n0               1500              1   Icebox            2               1   \n1               1500              1   Icebox            2               1   \n2               1500              1   Icebox            2               1   \n3               1500              1   Icebox            2               1   \n4               1500              1   Icebox            2               1   \n..               ...            ...      ...          ...             ...   \n6               1900              0   Icebox            0               1   \n7               1100              0   Icebox            0               0   \n8               1100              0   Icebox            0               0   \n9                  0              0   Icebox            0               0   \n10                 0              0   Icebox            0               0   \n\n    ...  DEF_Spread  DEF_Loadout_Value  DEF_Shield  DEF_Weapon_Price  \\\n0   ...    0.000000               3750          50              1800   \n1   ...  315.665394               2950          50              1000   \n2   ...  267.709079               2200          50               500   \n3   ...  301.271910               1400          25               500   \n4   ...  224.051269               1400          25               500   \n..  ...         ...                ...         ...               ...   \n6   ...  108.325930              16150         150             10800   \n7   ...  116.540651              16150         150             10800   \n8   ...    0.000000              11450         100              7900   \n9   ...    0.000000              11450         100              7900   \n10  ...    0.000000              11450         100              7900   \n\n    DEF_Initiator  DEF_Duelist  DEF_Controller  DEF_Sentinel  DEF_has_OP  \\\n0               2            1               1             1           0   \n1               2            0               1             1           0   \n2               1            0               1             1           0   \n3               1            0               1             0           0   \n4               1            0               1             0           0   \n..            ...          ...             ...           ...         ...   \n6               1            1               0             1           1   \n7               1            1               0             1           1   \n8               1            1               0             0           1   \n9               1            1               0             0           1   \n10              1            1               0             0           1   \n\n    FinalWinner  \n0             1  \n1             1  \n2             1  \n3             1  \n4             1  \n..          ...  \n6             0  \n7             0  \n8             0  \n9             0  \n10            0  \n\n[223 rows x 22 columns]",
      "text/html": "<div>\n<style scoped>\n    .dataframe tbody tr th:only-of-type {\n        vertical-align: middle;\n    }\n\n    .dataframe tbody tr th {\n        vertical-align: top;\n    }\n\n    .dataframe thead th {\n        text-align: right;\n    }\n</style>\n<table border=\"1\" class=\"dataframe\">\n  <thead>\n    <tr style=\"text-align: right;\">\n      <th></th>\n      <th>Timestamp</th>\n      <th>EventType</th>\n      <th>ATK_Loadout_Value</th>\n      <th>ATK_Spread</th>\n      <th>ATK_Shield</th>\n      <th>ATK_Weapon_Price</th>\n      <th>ATK_Initiator</th>\n      <th>Map_Name</th>\n      <th>ATK_Duelist</th>\n      <th>ATK_Controller</th>\n      <th>...</th>\n      <th>DEF_Spread</th>\n      <th>DEF_Loadout_Value</th>\n      <th>DEF_Shield</th>\n      <th>DEF_Weapon_Price</th>\n      <th>DEF_Initiator</th>\n      <th>DEF_Duelist</th>\n      <th>DEF_Controller</th>\n      <th>DEF_Sentinel</th>\n      <th>DEF_has_OP</th>\n      <th>FinalWinner</th>\n    </tr>\n  </thead>\n  <tbody>\n    <tr>\n      <th>0</th>\n      <td>0</td>\n      <td>start</td>\n      <td>3950</td>\n      <td>0.000000</td>\n      <td>50</td>\n      <td>1500</td>\n      <td>1</td>\n      <td>Icebox</td>\n      <td>2</td>\n      <td>1</td>\n      <td>...</td>\n      <td>0.000000</td>\n      <td>3750</td>\n      <td>50</td>\n      <td>1800</td>\n      <td>2</td>\n      <td>1</td>\n      <td>1</td>\n      <td>1</td>\n      <td>0</td>\n      <td>1</td>\n    </tr>\n    <tr>\n      <th>1</th>\n      <td>17272</td>\n      <td>kill</td>\n      <td>3950</td>\n      <td>122.266135</td>\n      <td>50</td>\n      <td>1500</td>\n      <td>1</td>\n      <td>Icebox</td>\n      <td>2</td>\n      <td>1</td>\n      <td>...</td>\n      <td>315.665394</td>\n      <td>2950</td>\n      <td>50</td>\n      <td>1000</td>\n      <td>2</td>\n      <td>0</td>\n      <td>1</td>\n      <td>1</td>\n      <td>0</td>\n      <td>1</td>\n    </tr>\n    <tr>\n      <th>2</th>\n      <td>29339</td>\n      <td>kill</td>\n      <td>3950</td>\n      <td>160.990222</td>\n      <td>50</td>\n      <td>1500</td>\n      <td>1</td>\n      <td>Icebox</td>\n      <td>2</td>\n      <td>1</td>\n      <td>...</td>\n      <td>267.709079</td>\n      <td>2200</td>\n      <td>50</td>\n      <td>500</td>\n      <td>1</td>\n      <td>0</td>\n      <td>1</td>\n      <td>1</td>\n      <td>0</td>\n      <td>1</td>\n    </tr>\n    <tr>\n      <th>3</th>\n      <td>29760</td>\n      <td>kill</td>\n      <td>3950</td>\n      <td>165.174399</td>\n      <td>50</td>\n      <td>1500</td>\n      <td>1</td>\n      <td>Icebox</td>\n      <td>2</td>\n      <td>1</td>\n      <td>...</td>\n      <td>301.271910</td>\n      <td>1400</td>\n      <td>25</td>\n      <td>500</td>\n      <td>1</td>\n      <td>0</td>\n      <td>1</td>\n      <td>0</td>\n      <td>0</td>\n      <td>1</td>\n    </tr>\n    <tr>\n      <th>4</th>\n      <td>37694</td>\n      <td>plant</td>\n      <td>3950</td>\n      <td>229.418092</td>\n      <td>50</td>\n      <td>1500</td>\n      <td>1</td>\n      <td>Icebox</td>\n      <td>2</td>\n      <td>1</td>\n      <td>...</td>\n      <td>224.051269</td>\n      <td>1400</td>\n      <td>25</td>\n      <td>500</td>\n      <td>1</td>\n      <td>0</td>\n      <td>1</td>\n      <td>0</td>\n      <td>0</td>\n      <td>1</td>\n    </tr>\n    <tr>\n      <th>...</th>\n      <td>...</td>\n      <td>...</td>\n      <td>...</td>\n      <td>...</td>\n      <td>...</td>\n      <td>...</td>\n      <td>...</td>\n      <td>...</td>\n      <td>...</td>\n      <td>...</td>\n      <td>...</td>\n      <td>...</td>\n      <td>...</td>\n      <td>...</td>\n      <td>...</td>\n      <td>...</td>\n      <td>...</td>\n      <td>...</td>\n      <td>...</td>\n      <td>...</td>\n      <td>...</td>\n    </tr>\n    <tr>\n      <th>6</th>\n      <td>93788</td>\n      <td>plant</td>\n      <td>4750</td>\n      <td>315.346712</td>\n      <td>100</td>\n      <td>1900</td>\n      <td>0</td>\n      <td>Icebox</td>\n      <td>0</td>\n      <td>1</td>\n      <td>...</td>\n      <td>108.325930</td>\n      <td>16150</td>\n      <td>150</td>\n      <td>10800</td>\n      <td>1</td>\n      <td>1</td>\n      <td>0</td>\n      <td>1</td>\n      <td>1</td>\n      <td>0</td>\n    </tr>\n    <tr>\n      <th>7</th>\n      <td>94458</td>\n      <td>kill</td>\n      <td>2550</td>\n      <td>294.703493</td>\n      <td>50</td>\n      <td>1100</td>\n      <td>0</td>\n      <td>Icebox</td>\n      <td>0</td>\n      <td>0</td>\n      <td>...</td>\n      <td>116.540651</td>\n      <td>16150</td>\n      <td>150</td>\n      <td>10800</td>\n      <td>1</td>\n      <td>1</td>\n      <td>0</td>\n      <td>1</td>\n      <td>1</td>\n      <td>0</td>\n    </tr>\n    <tr>\n      <th>8</th>\n      <td>107910</td>\n      <td>kill</td>\n      <td>2550</td>\n      <td>141.243609</td>\n      <td>50</td>\n      <td>1100</td>\n      <td>0</td>\n      <td>Icebox</td>\n      <td>0</td>\n      <td>0</td>\n      <td>...</td>\n      <td>0.000000</td>\n      <td>11450</td>\n      <td>100</td>\n      <td>7900</td>\n      <td>1</td>\n      <td>1</td>\n      <td>0</td>\n      <td>0</td>\n      <td>1</td>\n      <td>0</td>\n    </tr>\n    <tr>\n      <th>9</th>\n      <td>109289</td>\n      <td>kill</td>\n      <td>0</td>\n      <td>121.361877</td>\n      <td>0</td>\n      <td>0</td>\n      <td>0</td>\n      <td>Icebox</td>\n      <td>0</td>\n      <td>0</td>\n      <td>...</td>\n      <td>0.000000</td>\n      <td>11450</td>\n      <td>100</td>\n      <td>7900</td>\n      <td>1</td>\n      <td>1</td>\n      <td>0</td>\n      <td>0</td>\n      <td>1</td>\n      <td>0</td>\n    </tr>\n    <tr>\n      <th>10</th>\n      <td>119321</td>\n      <td>defuse</td>\n      <td>0</td>\n      <td>6.251896</td>\n      <td>0</td>\n      <td>0</td>\n      <td>0</td>\n      <td>Icebox</td>\n      <td>0</td>\n      <td>0</td>\n      <td>...</td>\n      <td>0.000000</td>\n      <td>11450</td>\n      <td>100</td>\n      <td>7900</td>\n      <td>1</td>\n      <td>1</td>\n      <td>0</td>\n      <td>0</td>\n      <td>1</td>\n      <td>0</td>\n    </tr>\n  </tbody>\n</table>\n<p>223 rows × 22 columns</p>\n</div>"
     },
     "execution_count": 3,
     "metadata": {},
     "output_type": "execute_result"
    }
   ],
   "source": [
    "vq.aggregate_match_gamestate()"
   ],
   "metadata": {
    "collapsed": false,
    "pycharm": {
     "name": "#%%\n"
    }
   }
  },
  {
   "cell_type": "code",
   "execution_count": 9,
   "outputs": [
    {
     "name": "stdout",
     "output_type": "stream",
     "text": [
      "1\n",
      "2\n",
      "3\n",
      "4\n",
      "5\n",
      "6\n",
      "7\n",
      "8\n",
      "9\n",
      "10\n",
      "11\n",
      "12\n",
      "13\n",
      "14\n",
      "15\n",
      "16\n",
      "17\n",
      "18\n",
      "19\n",
      "20\n",
      "21\n",
      "22\n"
     ]
    }
   ],
   "source": [
    "# Get score table where round_number == 1\n",
    "score_table = vq.get_full_round()\n",
    "score_table_df = pd.DataFrame(score_table, columns=[\"RoundID\", \"MatchID\", \"RoundNumber\", \"Attacking_Team\", \"WinningTeam\", \"Team_A_Economy\", \"Team_B_Economy\", \"Win_condition\", \"Ceremony\"])\n",
    "score_table_df = score_table_df[score_table_df[\"RoundNumber\"] == 5]\n",
    "attacking_team = int(score_table_df[\"Attacking_Team\"])\n",
    "winning_team = int(score_table_df[\"WinningTeam\"])\n",
    "winner = 1 if attacking_team == winning_team else 0\n",
    "winner"
   ],
   "metadata": {
    "collapsed": false,
    "pycharm": {
     "name": "#%%\n"
    }
   }
  },
  {
   "cell_type": "code",
   "execution_count": 6,
   "outputs": [
    {
     "data": {
      "text/plain": "1"
     },
     "execution_count": 6,
     "metadata": {},
     "output_type": "execute_result"
    }
   ],
   "source": [
    "vq.get_full_round()"
   ],
   "metadata": {
    "collapsed": false,
    "pycharm": {
     "name": "#%%\n"
    }
   }
  },
  {
   "cell_type": "code",
   "execution_count": 3,
   "outputs": [
    {
     "data": {
      "text/plain": "[(695324, 43621, 1, 53, 53, 0, 0, 'kills', 'flawless'),\n (695325, 43621, 2, 53, 53, 3, 1, 'kills', 'team_ace'),\n (695326, 43621, 3, 53, 53, 3, 4, 'bomb', 'closer'),\n (695327, 43621, 4, 53, 53, 4, 3, 'bomb', 'default'),\n (695328, 43621, 5, 53, 53, 4, 4, 'kills', 'default'),\n (695329, 43621, 6, 53, 444, 4, 2, 'defuse', 'thrifty'),\n (695330, 43621, 7, 53, 444, 4, 4, 'defuse', 'default'),\n (695331, 43621, 8, 53, 444, 4, 4, 'defuse', 'default'),\n (695332, 43621, 9, 53, 53, 3, 4, 'kills', 'default'),\n (695333, 43621, 10, 53, 444, 4, 1, 'defuse', 'thrifty'),\n (695334, 43621, 11, 53, 444, 3, 4, 'defuse', 'default'),\n (695335, 43621, 12, 53, 444, 4, 4, 'time', 'default'),\n (695336, 43621, 13, 444, 444, 0, 0, 'kills', 'default'),\n (695337, 43621, 14, 444, 444, 1, 3, 'kills', 'default'),\n (695338, 43621, 15, 444, 53, 4, 3, 'kills', 'default'),\n (695339, 43621, 16, 444, 53, 4, 2, 'kills', 'flawless'),\n (695340, 43621, 17, 444, 53, 4, 4, 'time', 'default'),\n (695341, 43621, 18, 444, 53, 4, 3, 'defuse', 'default'),\n (695342, 43621, 19, 444, 53, 4, 3, 'kills', 'default'),\n (695343, 43621, 20, 444, 444, 4, 4, 'bomb', 'closer'),\n (695344, 43621, 21, 444, 53, 4, 3, 'defuse', 'default'),\n (695345, 43621, 22, 444, 53, 4, 3, 'defuse', 'default')]"
     },
     "execution_count": 3,
     "metadata": {},
     "output_type": "execute_result"
    }
   ],
   "source": [
    "score_table"
   ],
   "metadata": {
    "collapsed": false,
    "pycharm": {
     "name": "#%%\n"
    }
   }
  }
 ],
 "metadata": {
  "kernelspec": {
   "display_name": "Python 3",
   "language": "python",
   "name": "python3"
  },
  "language_info": {
   "codemirror_mode": {
    "name": "ipython",
    "version": 2
   },
   "file_extension": ".py",
   "mimetype": "text/x-python",
   "name": "python",
   "nbconvert_exporter": "python",
   "pygments_lexer": "ipython2",
   "version": "2.7.6"
  }
 },
 "nbformat": 4,
 "nbformat_minor": 0
}