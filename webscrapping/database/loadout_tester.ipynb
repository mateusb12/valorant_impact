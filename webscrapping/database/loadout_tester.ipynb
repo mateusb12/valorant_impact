{
 "cells": [
  {
   "cell_type": "code",
   "execution_count": 1,
   "outputs": [],
   "source": [
    "from webscrapping.database.sql_queries import ValorantQueries\n",
    "import pandas as pd"
   ],
   "metadata": {
    "collapsed": false,
    "pycharm": {
     "name": "#%%\n"
    }
   }
  },
  {
   "cell_type": "code",
   "execution_count": 2,
   "outputs": [
    {
     "name": "stdout",
     "output_type": "stream",
     "text": [
      "Connected to database valorant successfully\n",
      "[('teams',), ('roundevents',), ('players',), ('events',), ('series',), ('matches',), ('maps',), ('rounds',), ('roundeconomies',), ('roundlocations',), ('playermapinstance',), ('assists',)]\n"
     ]
    }
   ],
   "source": [
    "vq = ValorantQueries()\n",
    "vq.set_match(43621)"
   ],
   "metadata": {
    "collapsed": false,
    "pycharm": {
     "name": "#%%\n"
    }
   }
  },
  {
   "cell_type": "code",
   "execution_count": 3,
   "outputs": [
    {
     "data": {
      "text/plain": "     Round  EventIndex  Round_time_millis  PlayerID PlayerName  VictimID  \\\n0        1           1              17272       194    sutecas      1824   \n1        1           2              29339      2895    Saadhak       876   \n2        1           3              29760      1877        frz      2388   \n3        1           4              37694      2895    Saadhak         0   \n4        1           5              38461      1877        frz      1075   \n..     ...         ...                ...       ...        ...       ...   \n196     22           6              93788      2388       neth         0   \n197     22           7              94458      2294       Sacy      1843   \n198     22           8             107910      2388       neth      2895   \n199     22           9             109289      2294       Sacy      2388   \n200     22          10             119321      3105     gtnziN         0   \n\n    VictimName EventType DamageType  WeaponID  ... Alive_Bazzi  Alive_Fisker  \\\n0       Fisker      kill     weapon        12  ...           1             0   \n1     Munchkin      kill     weapon        11  ...           1             0   \n2         neth      kill     weapon        12  ...           1             0   \n3          NaN     plant       None         0  ...           1             0   \n4        Bazzi      kill     weapon        12  ...           0             0   \n..         ...       ...        ...       ...  ...         ...           ...   \n196        NaN     plant       None         0  ...           0             0   \n197        ade      kill     weapon         6  ...           0             0   \n198    Saadhak      kill     weapon        19  ...           0             0   \n199       neth      kill    ability         0  ...           0             0   \n200        NaN    defuse       None         0  ...           0             0   \n\n     Alive_Munchkin  Alive_Saadhak  Alive_Sacy  Alive_ade  Alive_frz  \\\n0                 1              1           1          1          1   \n1                 0              1           1          1          1   \n2                 0              1           1          1          1   \n3                 0              1           1          1          1   \n4                 0              1           1          1          1   \n..              ...            ...         ...        ...        ...   \n196               0              1           1          1          0   \n197               0              1           1          0          0   \n198               0              0           1          0          0   \n199               0              0           1          0          0   \n200               0              0           1          0          0   \n\n     Alive_gtnziN  Alive_neth  Alive_sutecas  \n0               1           1              1  \n1               1           1              1  \n2               1           0              1  \n3               1           0              1  \n4               1           0              1  \n..            ...         ...            ...  \n196             1           1              0  \n197             1           1              0  \n198             1           1              0  \n199             1           0              0  \n200             1           0              0  \n\n[201 rows x 21 columns]",
      "text/html": "<div>\n<style scoped>\n    .dataframe tbody tr th:only-of-type {\n        vertical-align: middle;\n    }\n\n    .dataframe tbody tr th {\n        vertical-align: top;\n    }\n\n    .dataframe thead th {\n        text-align: right;\n    }\n</style>\n<table border=\"1\" class=\"dataframe\">\n  <thead>\n    <tr style=\"text-align: right;\">\n      <th></th>\n      <th>Round</th>\n      <th>EventIndex</th>\n      <th>Round_time_millis</th>\n      <th>PlayerID</th>\n      <th>PlayerName</th>\n      <th>VictimID</th>\n      <th>VictimName</th>\n      <th>EventType</th>\n      <th>DamageType</th>\n      <th>WeaponID</th>\n      <th>...</th>\n      <th>Alive_Bazzi</th>\n      <th>Alive_Fisker</th>\n      <th>Alive_Munchkin</th>\n      <th>Alive_Saadhak</th>\n      <th>Alive_Sacy</th>\n      <th>Alive_ade</th>\n      <th>Alive_frz</th>\n      <th>Alive_gtnziN</th>\n      <th>Alive_neth</th>\n      <th>Alive_sutecas</th>\n    </tr>\n  </thead>\n  <tbody>\n    <tr>\n      <th>0</th>\n      <td>1</td>\n      <td>1</td>\n      <td>17272</td>\n      <td>194</td>\n      <td>sutecas</td>\n      <td>1824</td>\n      <td>Fisker</td>\n      <td>kill</td>\n      <td>weapon</td>\n      <td>12</td>\n      <td>...</td>\n      <td>1</td>\n      <td>0</td>\n      <td>1</td>\n      <td>1</td>\n      <td>1</td>\n      <td>1</td>\n      <td>1</td>\n      <td>1</td>\n      <td>1</td>\n      <td>1</td>\n    </tr>\n    <tr>\n      <th>1</th>\n      <td>1</td>\n      <td>2</td>\n      <td>29339</td>\n      <td>2895</td>\n      <td>Saadhak</td>\n      <td>876</td>\n      <td>Munchkin</td>\n      <td>kill</td>\n      <td>weapon</td>\n      <td>11</td>\n      <td>...</td>\n      <td>1</td>\n      <td>0</td>\n      <td>0</td>\n      <td>1</td>\n      <td>1</td>\n      <td>1</td>\n      <td>1</td>\n      <td>1</td>\n      <td>1</td>\n      <td>1</td>\n    </tr>\n    <tr>\n      <th>2</th>\n      <td>1</td>\n      <td>3</td>\n      <td>29760</td>\n      <td>1877</td>\n      <td>frz</td>\n      <td>2388</td>\n      <td>neth</td>\n      <td>kill</td>\n      <td>weapon</td>\n      <td>12</td>\n      <td>...</td>\n      <td>1</td>\n      <td>0</td>\n      <td>0</td>\n      <td>1</td>\n      <td>1</td>\n      <td>1</td>\n      <td>1</td>\n      <td>1</td>\n      <td>0</td>\n      <td>1</td>\n    </tr>\n    <tr>\n      <th>3</th>\n      <td>1</td>\n      <td>4</td>\n      <td>37694</td>\n      <td>2895</td>\n      <td>Saadhak</td>\n      <td>0</td>\n      <td>NaN</td>\n      <td>plant</td>\n      <td>None</td>\n      <td>0</td>\n      <td>...</td>\n      <td>1</td>\n      <td>0</td>\n      <td>0</td>\n      <td>1</td>\n      <td>1</td>\n      <td>1</td>\n      <td>1</td>\n      <td>1</td>\n      <td>0</td>\n      <td>1</td>\n    </tr>\n    <tr>\n      <th>4</th>\n      <td>1</td>\n      <td>5</td>\n      <td>38461</td>\n      <td>1877</td>\n      <td>frz</td>\n      <td>1075</td>\n      <td>Bazzi</td>\n      <td>kill</td>\n      <td>weapon</td>\n      <td>12</td>\n      <td>...</td>\n      <td>0</td>\n      <td>0</td>\n      <td>0</td>\n      <td>1</td>\n      <td>1</td>\n      <td>1</td>\n      <td>1</td>\n      <td>1</td>\n      <td>0</td>\n      <td>1</td>\n    </tr>\n    <tr>\n      <th>...</th>\n      <td>...</td>\n      <td>...</td>\n      <td>...</td>\n      <td>...</td>\n      <td>...</td>\n      <td>...</td>\n      <td>...</td>\n      <td>...</td>\n      <td>...</td>\n      <td>...</td>\n      <td>...</td>\n      <td>...</td>\n      <td>...</td>\n      <td>...</td>\n      <td>...</td>\n      <td>...</td>\n      <td>...</td>\n      <td>...</td>\n      <td>...</td>\n      <td>...</td>\n      <td>...</td>\n    </tr>\n    <tr>\n      <th>196</th>\n      <td>22</td>\n      <td>6</td>\n      <td>93788</td>\n      <td>2388</td>\n      <td>neth</td>\n      <td>0</td>\n      <td>NaN</td>\n      <td>plant</td>\n      <td>None</td>\n      <td>0</td>\n      <td>...</td>\n      <td>0</td>\n      <td>0</td>\n      <td>0</td>\n      <td>1</td>\n      <td>1</td>\n      <td>1</td>\n      <td>0</td>\n      <td>1</td>\n      <td>1</td>\n      <td>0</td>\n    </tr>\n    <tr>\n      <th>197</th>\n      <td>22</td>\n      <td>7</td>\n      <td>94458</td>\n      <td>2294</td>\n      <td>Sacy</td>\n      <td>1843</td>\n      <td>ade</td>\n      <td>kill</td>\n      <td>weapon</td>\n      <td>6</td>\n      <td>...</td>\n      <td>0</td>\n      <td>0</td>\n      <td>0</td>\n      <td>1</td>\n      <td>1</td>\n      <td>0</td>\n      <td>0</td>\n      <td>1</td>\n      <td>1</td>\n      <td>0</td>\n    </tr>\n    <tr>\n      <th>198</th>\n      <td>22</td>\n      <td>8</td>\n      <td>107910</td>\n      <td>2388</td>\n      <td>neth</td>\n      <td>2895</td>\n      <td>Saadhak</td>\n      <td>kill</td>\n      <td>weapon</td>\n      <td>19</td>\n      <td>...</td>\n      <td>0</td>\n      <td>0</td>\n      <td>0</td>\n      <td>0</td>\n      <td>1</td>\n      <td>0</td>\n      <td>0</td>\n      <td>1</td>\n      <td>1</td>\n      <td>0</td>\n    </tr>\n    <tr>\n      <th>199</th>\n      <td>22</td>\n      <td>9</td>\n      <td>109289</td>\n      <td>2294</td>\n      <td>Sacy</td>\n      <td>2388</td>\n      <td>neth</td>\n      <td>kill</td>\n      <td>ability</td>\n      <td>0</td>\n      <td>...</td>\n      <td>0</td>\n      <td>0</td>\n      <td>0</td>\n      <td>0</td>\n      <td>1</td>\n      <td>0</td>\n      <td>0</td>\n      <td>1</td>\n      <td>0</td>\n      <td>0</td>\n    </tr>\n    <tr>\n      <th>200</th>\n      <td>22</td>\n      <td>10</td>\n      <td>119321</td>\n      <td>3105</td>\n      <td>gtnziN</td>\n      <td>0</td>\n      <td>NaN</td>\n      <td>defuse</td>\n      <td>None</td>\n      <td>0</td>\n      <td>...</td>\n      <td>0</td>\n      <td>0</td>\n      <td>0</td>\n      <td>0</td>\n      <td>1</td>\n      <td>0</td>\n      <td>0</td>\n      <td>1</td>\n      <td>0</td>\n      <td>0</td>\n    </tr>\n  </tbody>\n</table>\n<p>201 rows × 21 columns</p>\n</div>"
     },
     "execution_count": 3,
     "metadata": {},
     "output_type": "execute_result"
    }
   ],
   "source": [
    "states = vq.get_initial_state()\n",
    "events = vq.get_event_table()\n",
    "events"
   ],
   "metadata": {
    "collapsed": false,
    "pycharm": {
     "name": "#%%\n"
    }
   }
  },
  {
   "cell_type": "code",
   "execution_count": 19,
   "outputs": [
    {
     "data": {
      "text/plain": "{'frz': 1,\n 'Saadhak': 0,\n 'neth': 0,\n 'gtnziN': 1,\n 'Bazzi': 1,\n 'Sacy': 0,\n 'sutecas': 1,\n 'Fisker': 0,\n 'ade': 1,\n 'Munchkin': 1}"
     },
     "execution_count": 19,
     "metadata": {},
     "output_type": "execute_result"
    }
   ],
   "source": [
    "id_dict = dict(zip(states[\"Player ID\"].unique(), states[\"Player Name\"].unique()))\n",
    "chosen_round = 5\n",
    "chosen_millis = 80351\n",
    "sides = vq.get_player_sides_by_round(5)\n",
    "attackers = [id_dict[item] for item in sides[\"attackers\"]]\n",
    "defenders = [id_dict[item] for item in sides[\"defenders\"]]\n",
    "players = [sub for sub in list(set(attackers + defenders))]\n",
    "all_players = [\"Alive_\" + sub for sub in list(set(attackers + defenders))]\n",
    "attackers_query = states[(states[\"Round\"] == chosen_round) & (states[\"Player Name\"].isin(attackers))]\n",
    "defenders_query = states[(states[\"Round\"] == chosen_round) & (states[\"Player Name\"].isin(defenders))]\n",
    "events_query = events[(events[\"Round\"] == chosen_round) & (events[\"Round_time_millis\"] == chosen_millis)]\n",
    "alive_dict = dict(zip(players, events_query[all_players].iloc[0]))\n",
    "alive_dict"
   ],
   "metadata": {
    "collapsed": false,
    "pycharm": {
     "name": "#%%\n"
    }
   }
  },
  {
   "cell_type": "code",
   "execution_count": 4,
   "outputs": [],
   "source": [],
   "metadata": {
    "collapsed": false,
    "pycharm": {
     "name": "#%%\n"
    }
   }
  },
  {
   "cell_type": "code",
   "execution_count": 4,
   "outputs": [],
   "source": [],
   "metadata": {
    "collapsed": false,
    "pycharm": {
     "name": "#%%\n"
    }
   }
  },
  {
   "cell_type": "code",
   "execution_count": null,
   "outputs": [],
   "source": [],
   "metadata": {
    "collapsed": false,
    "pycharm": {
     "name": "#%%\n"
    }
   }
  }
 ],
 "metadata": {
  "kernelspec": {
   "display_name": "Python 3",
   "language": "python",
   "name": "python3"
  },
  "language_info": {
   "codemirror_mode": {
    "name": "ipython",
    "version": 2
   },
   "file_extension": ".py",
   "mimetype": "text/x-python",
   "name": "python",
   "nbconvert_exporter": "python",
   "pygments_lexer": "ipython2",
   "version": "2.7.6"
  }
 },
 "nbformat": 4,
 "nbformat_minor": 0
}