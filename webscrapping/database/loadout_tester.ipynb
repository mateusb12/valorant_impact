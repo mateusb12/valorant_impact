{
 "cells": [
  {
   "cell_type": "code",
   "execution_count": 1,
   "outputs": [],
   "source": [
    "import json\n",
    "import pandas as pd\n",
    "from sql_queries import ValorantQueries"
   ],
   "metadata": {
    "collapsed": false,
    "pycharm": {
     "name": "#%%\n"
    }
   }
  },
  {
   "cell_type": "code",
   "execution_count": 2,
   "outputs": [
    {
     "name": "stdout",
     "output_type": "stream",
     "text": [
      "Connected to database valorant successfully\n",
      "[('teams',), ('roundevents',), ('players',), ('events',), ('series',), ('matches',), ('maps',), ('rounds',), ('roundeconomies',), ('roundlocations',), ('playermapinstance',), ('assists',)]\n"
     ]
    }
   ],
   "source": [
    "vq = ValorantQueries()\n",
    "vq.set_match(43621)"
   ],
   "metadata": {
    "collapsed": false,
    "pycharm": {
     "name": "#%%\n"
    }
   }
  },
  {
   "cell_type": "code",
   "execution_count": 4,
   "outputs": [
    {
     "data": {
      "text/plain": "   Timestamp EventType  ATK_Loadout_Value  ATK_Shield  ATK_Weapon_Price  \\\n0          0     start              24000         250             14500   \n1      72891      kill              24000         250             14500   \n2      73216      kill              18500         200             11600   \n3      80084      kill              13900         150              8700   \n4      80351      kill              13900         150              8700   \n5      86246      kill              13900         150              8700   \n6      88979      kill              13900         150              8700   \n7      92160     plant              13900         150              8700   \n8      95954      kill              13900         150              8700   \n\n   ATK_Initiator  ATK_Duelist  ATK_Controller  ATK_Sentinel  \\\n0              1            2               1             1   \n1              1            2               1             1   \n2              1            2               1             0   \n3              0            2               1             0   \n4              0            2               1             0   \n5              0            2               1             0   \n6              0            2               1             0   \n7              0            2               1             0   \n8              0            2               1             0   \n\n   DEF_Loadout_Value  DEF_Shield  DEF_Weapon_Price  DEF_Initiator  \\\n0              23250         200             16600              2   \n1              18550         150             13700              2   \n2              18550         150             13700              2   \n3              18550         150             13700              2   \n4              12900         125              8700              2   \n5               8300          75              5800              1   \n6               3700          25              2900              0   \n7               3700          25              2900              0   \n8                  0           0                 0              0   \n\n   DEF_Duelist  DEF_Controller  DEF_Sentinel  \n0            1               1             1  \n1            1               1             0  \n2            1               1             0  \n3            1               1             0  \n4            0               1             0  \n5            0               1             0  \n6            0               1             0  \n7            0               1             0  \n8            0               0             0  ",
      "text/html": "<div>\n<style scoped>\n    .dataframe tbody tr th:only-of-type {\n        vertical-align: middle;\n    }\n\n    .dataframe tbody tr th {\n        vertical-align: top;\n    }\n\n    .dataframe thead th {\n        text-align: right;\n    }\n</style>\n<table border=\"1\" class=\"dataframe\">\n  <thead>\n    <tr style=\"text-align: right;\">\n      <th></th>\n      <th>Timestamp</th>\n      <th>EventType</th>\n      <th>ATK_Loadout_Value</th>\n      <th>ATK_Shield</th>\n      <th>ATK_Weapon_Price</th>\n      <th>ATK_Initiator</th>\n      <th>ATK_Duelist</th>\n      <th>ATK_Controller</th>\n      <th>ATK_Sentinel</th>\n      <th>DEF_Loadout_Value</th>\n      <th>DEF_Shield</th>\n      <th>DEF_Weapon_Price</th>\n      <th>DEF_Initiator</th>\n      <th>DEF_Duelist</th>\n      <th>DEF_Controller</th>\n      <th>DEF_Sentinel</th>\n    </tr>\n  </thead>\n  <tbody>\n    <tr>\n      <th>0</th>\n      <td>0</td>\n      <td>start</td>\n      <td>24000</td>\n      <td>250</td>\n      <td>14500</td>\n      <td>1</td>\n      <td>2</td>\n      <td>1</td>\n      <td>1</td>\n      <td>23250</td>\n      <td>200</td>\n      <td>16600</td>\n      <td>2</td>\n      <td>1</td>\n      <td>1</td>\n      <td>1</td>\n    </tr>\n    <tr>\n      <th>1</th>\n      <td>72891</td>\n      <td>kill</td>\n      <td>24000</td>\n      <td>250</td>\n      <td>14500</td>\n      <td>1</td>\n      <td>2</td>\n      <td>1</td>\n      <td>1</td>\n      <td>18550</td>\n      <td>150</td>\n      <td>13700</td>\n      <td>2</td>\n      <td>1</td>\n      <td>1</td>\n      <td>0</td>\n    </tr>\n    <tr>\n      <th>2</th>\n      <td>73216</td>\n      <td>kill</td>\n      <td>18500</td>\n      <td>200</td>\n      <td>11600</td>\n      <td>1</td>\n      <td>2</td>\n      <td>1</td>\n      <td>0</td>\n      <td>18550</td>\n      <td>150</td>\n      <td>13700</td>\n      <td>2</td>\n      <td>1</td>\n      <td>1</td>\n      <td>0</td>\n    </tr>\n    <tr>\n      <th>3</th>\n      <td>80084</td>\n      <td>kill</td>\n      <td>13900</td>\n      <td>150</td>\n      <td>8700</td>\n      <td>0</td>\n      <td>2</td>\n      <td>1</td>\n      <td>0</td>\n      <td>18550</td>\n      <td>150</td>\n      <td>13700</td>\n      <td>2</td>\n      <td>1</td>\n      <td>1</td>\n      <td>0</td>\n    </tr>\n    <tr>\n      <th>4</th>\n      <td>80351</td>\n      <td>kill</td>\n      <td>13900</td>\n      <td>150</td>\n      <td>8700</td>\n      <td>0</td>\n      <td>2</td>\n      <td>1</td>\n      <td>0</td>\n      <td>12900</td>\n      <td>125</td>\n      <td>8700</td>\n      <td>2</td>\n      <td>0</td>\n      <td>1</td>\n      <td>0</td>\n    </tr>\n    <tr>\n      <th>5</th>\n      <td>86246</td>\n      <td>kill</td>\n      <td>13900</td>\n      <td>150</td>\n      <td>8700</td>\n      <td>0</td>\n      <td>2</td>\n      <td>1</td>\n      <td>0</td>\n      <td>8300</td>\n      <td>75</td>\n      <td>5800</td>\n      <td>1</td>\n      <td>0</td>\n      <td>1</td>\n      <td>0</td>\n    </tr>\n    <tr>\n      <th>6</th>\n      <td>88979</td>\n      <td>kill</td>\n      <td>13900</td>\n      <td>150</td>\n      <td>8700</td>\n      <td>0</td>\n      <td>2</td>\n      <td>1</td>\n      <td>0</td>\n      <td>3700</td>\n      <td>25</td>\n      <td>2900</td>\n      <td>0</td>\n      <td>0</td>\n      <td>1</td>\n      <td>0</td>\n    </tr>\n    <tr>\n      <th>7</th>\n      <td>92160</td>\n      <td>plant</td>\n      <td>13900</td>\n      <td>150</td>\n      <td>8700</td>\n      <td>0</td>\n      <td>2</td>\n      <td>1</td>\n      <td>0</td>\n      <td>3700</td>\n      <td>25</td>\n      <td>2900</td>\n      <td>0</td>\n      <td>0</td>\n      <td>1</td>\n      <td>0</td>\n    </tr>\n    <tr>\n      <th>8</th>\n      <td>95954</td>\n      <td>kill</td>\n      <td>13900</td>\n      <td>150</td>\n      <td>8700</td>\n      <td>0</td>\n      <td>2</td>\n      <td>1</td>\n      <td>0</td>\n      <td>0</td>\n      <td>0</td>\n      <td>0</td>\n      <td>0</td>\n      <td>0</td>\n      <td>0</td>\n      <td>0</td>\n    </tr>\n  </tbody>\n</table>\n</div>"
     },
     "execution_count": 4,
     "metadata": {},
     "output_type": "execute_result"
    }
   ],
   "source": [
    "vq.aggregate_gamestate(5)"
   ],
   "metadata": {
    "collapsed": false,
    "pycharm": {
     "name": "#%%\n"
    }
   }
  },
  {
   "cell_type": "code",
   "execution_count": 5,
   "outputs": [],
   "source": [],
   "metadata": {
    "collapsed": false,
    "pycharm": {
     "name": "#%%\n"
    }
   }
  },
  {
   "cell_type": "code",
   "execution_count": 5,
   "outputs": [],
   "source": [],
   "metadata": {
    "collapsed": false,
    "pycharm": {
     "name": "#%%\n"
    }
   }
  },
  {
   "cell_type": "markdown",
   "source": [
    "### AAA"
   ],
   "metadata": {
    "collapsed": false,
    "pycharm": {
     "name": "#%% md\n"
    }
   }
  }
 ],
 "metadata": {
  "kernelspec": {
   "display_name": "Python 3",
   "language": "python",
   "name": "python3"
  },
  "language_info": {
   "codemirror_mode": {
    "name": "ipython",
    "version": 2
   },
   "file_extension": ".py",
   "mimetype": "text/x-python",
   "name": "python",
   "nbconvert_exporter": "python",
   "pygments_lexer": "ipython2",
   "version": "2.7.6"
  }
 },
 "nbformat": 4,
 "nbformat_minor": 0
}