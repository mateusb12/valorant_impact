{
 "cells": [
  {
   "cell_type": "code",
   "execution_count": 1,
   "outputs": [],
   "source": [
    "import json\n",
    "import pandas as pd\n",
    "from sql_queries import ValorantQueries"
   ],
   "metadata": {
    "collapsed": false,
    "pycharm": {
     "name": "#%%\n"
    }
   }
  },
  {
   "cell_type": "code",
   "execution_count": 2,
   "outputs": [
    {
     "name": "stdout",
     "output_type": "stream",
     "text": [
      "Connected to database valorant successfully\n",
      "[('teams',), ('roundevents',), ('players',), ('events',), ('series',), ('matches',), ('maps',), ('rounds',), ('roundeconomies',), ('roundlocations',), ('playermapinstance',), ('assists',)]\n"
     ]
    }
   ],
   "source": [
    "vq = ValorantQueries()\n",
    "vq.set_match(43621)"
   ],
   "metadata": {
    "collapsed": false,
    "pycharm": {
     "name": "#%%\n"
    }
   }
  },
  {
   "cell_type": "code",
   "execution_count": 3,
   "outputs": [
    {
     "data": {
      "text/plain": "    Round_time_millis  atk_spread  def_spread\n0                   0    0.000000    0.000000\n1               30386   98.400694  163.579178\n2               32109  104.032075  120.372453\n3               43606  113.689677   73.226047\n4               53962  139.323198   39.519603\n5               55384  105.456996   19.501710\n6               58799   94.946453   28.289176\n7               61588  140.795703   38.184915\n8               64117  150.097386    0.000000\n9               70997  189.762401    0.000000\n10              76103    0.000000    0.000000",
      "text/html": "<div>\n<style scoped>\n    .dataframe tbody tr th:only-of-type {\n        vertical-align: middle;\n    }\n\n    .dataframe tbody tr th {\n        vertical-align: top;\n    }\n\n    .dataframe thead th {\n        text-align: right;\n    }\n</style>\n<table border=\"1\" class=\"dataframe\">\n  <thead>\n    <tr style=\"text-align: right;\">\n      <th></th>\n      <th>Round_time_millis</th>\n      <th>atk_spread</th>\n      <th>def_spread</th>\n    </tr>\n  </thead>\n  <tbody>\n    <tr>\n      <th>0</th>\n      <td>0</td>\n      <td>0.000000</td>\n      <td>0.000000</td>\n    </tr>\n    <tr>\n      <th>1</th>\n      <td>30386</td>\n      <td>98.400694</td>\n      <td>163.579178</td>\n    </tr>\n    <tr>\n      <th>2</th>\n      <td>32109</td>\n      <td>104.032075</td>\n      <td>120.372453</td>\n    </tr>\n    <tr>\n      <th>3</th>\n      <td>43606</td>\n      <td>113.689677</td>\n      <td>73.226047</td>\n    </tr>\n    <tr>\n      <th>4</th>\n      <td>53962</td>\n      <td>139.323198</td>\n      <td>39.519603</td>\n    </tr>\n    <tr>\n      <th>5</th>\n      <td>55384</td>\n      <td>105.456996</td>\n      <td>19.501710</td>\n    </tr>\n    <tr>\n      <th>6</th>\n      <td>58799</td>\n      <td>94.946453</td>\n      <td>28.289176</td>\n    </tr>\n    <tr>\n      <th>7</th>\n      <td>61588</td>\n      <td>140.795703</td>\n      <td>38.184915</td>\n    </tr>\n    <tr>\n      <th>8</th>\n      <td>64117</td>\n      <td>150.097386</td>\n      <td>0.000000</td>\n    </tr>\n    <tr>\n      <th>9</th>\n      <td>70997</td>\n      <td>189.762401</td>\n      <td>0.000000</td>\n    </tr>\n    <tr>\n      <th>10</th>\n      <td>76103</td>\n      <td>0.000000</td>\n      <td>0.000000</td>\n    </tr>\n  </tbody>\n</table>\n</div>"
     },
     "execution_count": 3,
     "metadata": {},
     "output_type": "execute_result"
    }
   ],
   "source": [
    "vq.get_compaction_from_round(3)"
   ],
   "metadata": {
    "collapsed": false,
    "pycharm": {
     "name": "#%%\n"
    }
   }
  },
  {
   "cell_type": "code",
   "execution_count": null,
   "outputs": [],
   "source": [],
   "metadata": {
    "collapsed": false,
    "pycharm": {
     "name": "#%%\n"
    }
   }
  },
  {
   "cell_type": "code",
   "execution_count": 10,
   "outputs": [],
   "source": [],
   "metadata": {
    "collapsed": false,
    "pycharm": {
     "name": "#%%\n"
    }
   }
  },
  {
   "cell_type": "markdown",
   "source": [
    "### AAA"
   ],
   "metadata": {
    "collapsed": false,
    "pycharm": {
     "name": "#%% md\n"
    }
   }
  }
 ],
 "metadata": {
  "kernelspec": {
   "display_name": "Python 3",
   "language": "python",
   "name": "python3"
  },
  "language_info": {
   "codemirror_mode": {
    "name": "ipython",
    "version": 2
   },
   "file_extension": ".py",
   "mimetype": "text/x-python",
   "name": "python",
   "nbconvert_exporter": "python",
   "pygments_lexer": "ipython2",
   "version": "2.7.6"
  }
 },
 "nbformat": 4,
 "nbformat_minor": 0
}