{
 "cells": [
  {
   "cell_type": "code",
   "execution_count": 1,
   "outputs": [],
   "source": [
    "import json\n",
    "import pandas as pd\n",
    "from sql_queries import ValorantQueries"
   ],
   "metadata": {
    "collapsed": false,
    "pycharm": {
     "name": "#%%\n"
    }
   }
  },
  {
   "cell_type": "code",
   "execution_count": 2,
   "outputs": [
    {
     "name": "stdout",
     "output_type": "stream",
     "text": [
      "Connected to database valorant successfully\n",
      "[('teams',), ('players',), ('events',), ('series',), ('matches',), ('rounds',), ('roundeconomies',), ('roundevents',), ('roundlocations',), ('playermapinstance',), ('assists',), ('maps',)]\n"
     ]
    }
   ],
   "source": [
    "vq = ValorantQueries()\n",
    "vq.set_match(10597)"
   ],
   "metadata": {
    "collapsed": false,
    "pycharm": {
     "name": "#%%\n"
    }
   }
  },
  {
   "cell_type": "code",
   "execution_count": 12,
   "outputs": [
    {
     "data": {
      "text/plain": "    Round  Team ID  Remaining Creds  Loadout Value  Shield Amount  \\\n0       1       78                0           3700             50   \n1       1      752              100           3800              0   \n2       2       78             3600          14300            250   \n3       2      752             8600           2600              0   \n4       3       78            13300          14400            175   \n5       3      752              400          22100            250   \n6       4       78             1700          23400            225   \n7       4      752             7600          22000            250   \n8       5       78             9200           5600             50   \n9       5      752            11200          24200            250   \n10      6       78             2500          21900            250   \n11      6      752            23000          26000            250   \n12      7       78             4700          23300            250   \n13      7      752            11300          24200            250   \n14      8       78             9600          23100            250   \n15      8      752             6500          18400            250   \n16      9       78            17200          23300            250   \n17      9      752             1900          21700            200   \n18     10       78            25600          24300            250   \n19     10      752             1100          18000            150   \n20     11       78            13200          23800            250   \n21     11      752             2300          19900            175   \n22     12       78             9000          23500            250   \n23     12      752             1000          14400            225   \n24     13       78                0           3800             50   \n25     13      752                0           3900             25   \n26     14       78              200          11400            225   \n27     14      752              900          15800            250   \n28     15       78             8000           5800              0   \n29     15      752             8100          13500            250   \n30     16       78             2700          22100            250   \n31     16      752            19000          16000            250   \n32     17       78            13000          22000            250   \n33     17      752             5500          24000            250   \n34     18       78            11800          22000            250   \n35     18      752              500          18100            175   \n36     19       78            21300          22000            250   \n37     19      752             9000           7700            100   \n38     20       78            31500          21900            250   \n39     20      752             1700          24000            250   \n40     21       78            24200          22100            250   \n41     21      752             1300          16700            225   \n42     22       78            27400          22000            250   \n43     22      752              500          11900            225   \n\n    Shield Price  Weapon Price  Economy  \n0            800          2000     3700  \n1              0          2500     3900  \n2           5000          5800    17900  \n3              0           500    11200  \n4           3400          7400    27700  \n5           5000         14500    22500  \n6           4400         16600    25100  \n7           5000         14500    29600  \n8            800          3500    14800  \n9           5000         16600    35400  \n10          5000         14500    24400  \n11          5000         16600    49000  \n12          5000         16100    28000  \n13          5000         16600    35500  \n14          5000         16100    32700  \n15          5000         10800    24900  \n16          5000         16100    40500  \n17          3800         15300    23600  \n18          5000         16600    49900  \n19          2600         13200    19100  \n20          5000         16600    37000  \n21          3200         14500    22200  \n22          5000         16600    32500  \n23          4400          7500    15400  \n24           800          2000     3800  \n25           400          2000     3900  \n26          4400          5500    11600  \n27          5000          8000    16700  \n28             0          4000    13800  \n29          5000          6500    21600  \n30          5000         14500    24800  \n31          5000          6500    35000  \n32          5000         14500    35000  \n33          5000         16600    29500  \n34          5000         14500    33800  \n35          3400         12700    18600  \n36          5000         14500    43300  \n37          1800          3800    16700  \n38          5000         14500    53400  \n39          5000         16600    25700  \n40          5000         14500    46300  \n41          4400         10100    18000  \n42          5000         14500    49400  \n43          4400          5500    12400  ",
      "text/html": "<div>\n<style scoped>\n    .dataframe tbody tr th:only-of-type {\n        vertical-align: middle;\n    }\n\n    .dataframe tbody tr th {\n        vertical-align: top;\n    }\n\n    .dataframe thead th {\n        text-align: right;\n    }\n</style>\n<table border=\"1\" class=\"dataframe\">\n  <thead>\n    <tr style=\"text-align: right;\">\n      <th></th>\n      <th>Round</th>\n      <th>Team ID</th>\n      <th>Remaining Creds</th>\n      <th>Loadout Value</th>\n      <th>Shield Amount</th>\n      <th>Shield Price</th>\n      <th>Weapon Price</th>\n      <th>Economy</th>\n    </tr>\n  </thead>\n  <tbody>\n    <tr>\n      <th>0</th>\n      <td>1</td>\n      <td>78</td>\n      <td>0</td>\n      <td>3700</td>\n      <td>50</td>\n      <td>800</td>\n      <td>2000</td>\n      <td>3700</td>\n    </tr>\n    <tr>\n      <th>1</th>\n      <td>1</td>\n      <td>752</td>\n      <td>100</td>\n      <td>3800</td>\n      <td>0</td>\n      <td>0</td>\n      <td>2500</td>\n      <td>3900</td>\n    </tr>\n    <tr>\n      <th>2</th>\n      <td>2</td>\n      <td>78</td>\n      <td>3600</td>\n      <td>14300</td>\n      <td>250</td>\n      <td>5000</td>\n      <td>5800</td>\n      <td>17900</td>\n    </tr>\n    <tr>\n      <th>3</th>\n      <td>2</td>\n      <td>752</td>\n      <td>8600</td>\n      <td>2600</td>\n      <td>0</td>\n      <td>0</td>\n      <td>500</td>\n      <td>11200</td>\n    </tr>\n    <tr>\n      <th>4</th>\n      <td>3</td>\n      <td>78</td>\n      <td>13300</td>\n      <td>14400</td>\n      <td>175</td>\n      <td>3400</td>\n      <td>7400</td>\n      <td>27700</td>\n    </tr>\n    <tr>\n      <th>5</th>\n      <td>3</td>\n      <td>752</td>\n      <td>400</td>\n      <td>22100</td>\n      <td>250</td>\n      <td>5000</td>\n      <td>14500</td>\n      <td>22500</td>\n    </tr>\n    <tr>\n      <th>6</th>\n      <td>4</td>\n      <td>78</td>\n      <td>1700</td>\n      <td>23400</td>\n      <td>225</td>\n      <td>4400</td>\n      <td>16600</td>\n      <td>25100</td>\n    </tr>\n    <tr>\n      <th>7</th>\n      <td>4</td>\n      <td>752</td>\n      <td>7600</td>\n      <td>22000</td>\n      <td>250</td>\n      <td>5000</td>\n      <td>14500</td>\n      <td>29600</td>\n    </tr>\n    <tr>\n      <th>8</th>\n      <td>5</td>\n      <td>78</td>\n      <td>9200</td>\n      <td>5600</td>\n      <td>50</td>\n      <td>800</td>\n      <td>3500</td>\n      <td>14800</td>\n    </tr>\n    <tr>\n      <th>9</th>\n      <td>5</td>\n      <td>752</td>\n      <td>11200</td>\n      <td>24200</td>\n      <td>250</td>\n      <td>5000</td>\n      <td>16600</td>\n      <td>35400</td>\n    </tr>\n    <tr>\n      <th>10</th>\n      <td>6</td>\n      <td>78</td>\n      <td>2500</td>\n      <td>21900</td>\n      <td>250</td>\n      <td>5000</td>\n      <td>14500</td>\n      <td>24400</td>\n    </tr>\n    <tr>\n      <th>11</th>\n      <td>6</td>\n      <td>752</td>\n      <td>23000</td>\n      <td>26000</td>\n      <td>250</td>\n      <td>5000</td>\n      <td>16600</td>\n      <td>49000</td>\n    </tr>\n    <tr>\n      <th>12</th>\n      <td>7</td>\n      <td>78</td>\n      <td>4700</td>\n      <td>23300</td>\n      <td>250</td>\n      <td>5000</td>\n      <td>16100</td>\n      <td>28000</td>\n    </tr>\n    <tr>\n      <th>13</th>\n      <td>7</td>\n      <td>752</td>\n      <td>11300</td>\n      <td>24200</td>\n      <td>250</td>\n      <td>5000</td>\n      <td>16600</td>\n      <td>35500</td>\n    </tr>\n    <tr>\n      <th>14</th>\n      <td>8</td>\n      <td>78</td>\n      <td>9600</td>\n      <td>23100</td>\n      <td>250</td>\n      <td>5000</td>\n      <td>16100</td>\n      <td>32700</td>\n    </tr>\n    <tr>\n      <th>15</th>\n      <td>8</td>\n      <td>752</td>\n      <td>6500</td>\n      <td>18400</td>\n      <td>250</td>\n      <td>5000</td>\n      <td>10800</td>\n      <td>24900</td>\n    </tr>\n    <tr>\n      <th>16</th>\n      <td>9</td>\n      <td>78</td>\n      <td>17200</td>\n      <td>23300</td>\n      <td>250</td>\n      <td>5000</td>\n      <td>16100</td>\n      <td>40500</td>\n    </tr>\n    <tr>\n      <th>17</th>\n      <td>9</td>\n      <td>752</td>\n      <td>1900</td>\n      <td>21700</td>\n      <td>200</td>\n      <td>3800</td>\n      <td>15300</td>\n      <td>23600</td>\n    </tr>\n    <tr>\n      <th>18</th>\n      <td>10</td>\n      <td>78</td>\n      <td>25600</td>\n      <td>24300</td>\n      <td>250</td>\n      <td>5000</td>\n      <td>16600</td>\n      <td>49900</td>\n    </tr>\n    <tr>\n      <th>19</th>\n      <td>10</td>\n      <td>752</td>\n      <td>1100</td>\n      <td>18000</td>\n      <td>150</td>\n      <td>2600</td>\n      <td>13200</td>\n      <td>19100</td>\n    </tr>\n    <tr>\n      <th>20</th>\n      <td>11</td>\n      <td>78</td>\n      <td>13200</td>\n      <td>23800</td>\n      <td>250</td>\n      <td>5000</td>\n      <td>16600</td>\n      <td>37000</td>\n    </tr>\n    <tr>\n      <th>21</th>\n      <td>11</td>\n      <td>752</td>\n      <td>2300</td>\n      <td>19900</td>\n      <td>175</td>\n      <td>3200</td>\n      <td>14500</td>\n      <td>22200</td>\n    </tr>\n    <tr>\n      <th>22</th>\n      <td>12</td>\n      <td>78</td>\n      <td>9000</td>\n      <td>23500</td>\n      <td>250</td>\n      <td>5000</td>\n      <td>16600</td>\n      <td>32500</td>\n    </tr>\n    <tr>\n      <th>23</th>\n      <td>12</td>\n      <td>752</td>\n      <td>1000</td>\n      <td>14400</td>\n      <td>225</td>\n      <td>4400</td>\n      <td>7500</td>\n      <td>15400</td>\n    </tr>\n    <tr>\n      <th>24</th>\n      <td>13</td>\n      <td>78</td>\n      <td>0</td>\n      <td>3800</td>\n      <td>50</td>\n      <td>800</td>\n      <td>2000</td>\n      <td>3800</td>\n    </tr>\n    <tr>\n      <th>25</th>\n      <td>13</td>\n      <td>752</td>\n      <td>0</td>\n      <td>3900</td>\n      <td>25</td>\n      <td>400</td>\n      <td>2000</td>\n      <td>3900</td>\n    </tr>\n    <tr>\n      <th>26</th>\n      <td>14</td>\n      <td>78</td>\n      <td>200</td>\n      <td>11400</td>\n      <td>225</td>\n      <td>4400</td>\n      <td>5500</td>\n      <td>11600</td>\n    </tr>\n    <tr>\n      <th>27</th>\n      <td>14</td>\n      <td>752</td>\n      <td>900</td>\n      <td>15800</td>\n      <td>250</td>\n      <td>5000</td>\n      <td>8000</td>\n      <td>16700</td>\n    </tr>\n    <tr>\n      <th>28</th>\n      <td>15</td>\n      <td>78</td>\n      <td>8000</td>\n      <td>5800</td>\n      <td>0</td>\n      <td>0</td>\n      <td>4000</td>\n      <td>13800</td>\n    </tr>\n    <tr>\n      <th>29</th>\n      <td>15</td>\n      <td>752</td>\n      <td>8100</td>\n      <td>13500</td>\n      <td>250</td>\n      <td>5000</td>\n      <td>6500</td>\n      <td>21600</td>\n    </tr>\n    <tr>\n      <th>30</th>\n      <td>16</td>\n      <td>78</td>\n      <td>2700</td>\n      <td>22100</td>\n      <td>250</td>\n      <td>5000</td>\n      <td>14500</td>\n      <td>24800</td>\n    </tr>\n    <tr>\n      <th>31</th>\n      <td>16</td>\n      <td>752</td>\n      <td>19000</td>\n      <td>16000</td>\n      <td>250</td>\n      <td>5000</td>\n      <td>6500</td>\n      <td>35000</td>\n    </tr>\n    <tr>\n      <th>32</th>\n      <td>17</td>\n      <td>78</td>\n      <td>13000</td>\n      <td>22000</td>\n      <td>250</td>\n      <td>5000</td>\n      <td>14500</td>\n      <td>35000</td>\n    </tr>\n    <tr>\n      <th>33</th>\n      <td>17</td>\n      <td>752</td>\n      <td>5500</td>\n      <td>24000</td>\n      <td>250</td>\n      <td>5000</td>\n      <td>16600</td>\n      <td>29500</td>\n    </tr>\n    <tr>\n      <th>34</th>\n      <td>18</td>\n      <td>78</td>\n      <td>11800</td>\n      <td>22000</td>\n      <td>250</td>\n      <td>5000</td>\n      <td>14500</td>\n      <td>33800</td>\n    </tr>\n    <tr>\n      <th>35</th>\n      <td>18</td>\n      <td>752</td>\n      <td>500</td>\n      <td>18100</td>\n      <td>175</td>\n      <td>3400</td>\n      <td>12700</td>\n      <td>18600</td>\n    </tr>\n    <tr>\n      <th>36</th>\n      <td>19</td>\n      <td>78</td>\n      <td>21300</td>\n      <td>22000</td>\n      <td>250</td>\n      <td>5000</td>\n      <td>14500</td>\n      <td>43300</td>\n    </tr>\n    <tr>\n      <th>37</th>\n      <td>19</td>\n      <td>752</td>\n      <td>9000</td>\n      <td>7700</td>\n      <td>100</td>\n      <td>1800</td>\n      <td>3800</td>\n      <td>16700</td>\n    </tr>\n    <tr>\n      <th>38</th>\n      <td>20</td>\n      <td>78</td>\n      <td>31500</td>\n      <td>21900</td>\n      <td>250</td>\n      <td>5000</td>\n      <td>14500</td>\n      <td>53400</td>\n    </tr>\n    <tr>\n      <th>39</th>\n      <td>20</td>\n      <td>752</td>\n      <td>1700</td>\n      <td>24000</td>\n      <td>250</td>\n      <td>5000</td>\n      <td>16600</td>\n      <td>25700</td>\n    </tr>\n    <tr>\n      <th>40</th>\n      <td>21</td>\n      <td>78</td>\n      <td>24200</td>\n      <td>22100</td>\n      <td>250</td>\n      <td>5000</td>\n      <td>14500</td>\n      <td>46300</td>\n    </tr>\n    <tr>\n      <th>41</th>\n      <td>21</td>\n      <td>752</td>\n      <td>1300</td>\n      <td>16700</td>\n      <td>225</td>\n      <td>4400</td>\n      <td>10100</td>\n      <td>18000</td>\n    </tr>\n    <tr>\n      <th>42</th>\n      <td>22</td>\n      <td>78</td>\n      <td>27400</td>\n      <td>22000</td>\n      <td>250</td>\n      <td>5000</td>\n      <td>14500</td>\n      <td>49400</td>\n    </tr>\n    <tr>\n      <th>43</th>\n      <td>22</td>\n      <td>752</td>\n      <td>500</td>\n      <td>11900</td>\n      <td>225</td>\n      <td>4400</td>\n      <td>5500</td>\n      <td>12400</td>\n    </tr>\n  </tbody>\n</table>\n</div>"
     },
     "execution_count": 12,
     "metadata": {},
     "output_type": "execute_result"
    }
   ],
   "source": [
    "loadout_df = vq.get_full_loadout_table()\n",
    "round_amount = loadout_df[\"Round\"].max()\n",
    "split_aux = {i: [] for i in range(1, round_amount + 1)}\n",
    "for row in loadout_df.iterrows():\n",
    "    content = row[1]\n",
    "    round_id = row[1].Round\n",
    "    split_aux[round_id].append(content)\n",
    "\n",
    "group_aux = {}\n",
    "for key, value in split_aux.items():\n",
    "    raw_group = pd.DataFrame(value)\n",
    "    compact = raw_group.groupby(['Team ID']).agg({'Remaining Creds': 'sum', 'Loadout Value': 'sum',\n",
    "                                                  'Shield': 'sum', 'Shield Price': 'sum',\n",
    "                                                  'Weapon Price': 'sum'})\n",
    "    compact[\"Round\"] = [key] * 2\n",
    "    compact[\"Team ID\"] = compact.index\n",
    "    clean_dict = {\"Round\": list(compact[\"Round\"]),\n",
    "                    \"Team ID\": list(compact[\"Team ID\"]),\n",
    "                    \"Remaining Creds\": list(compact[\"Remaining Creds\"]),\n",
    "                    \"Loadout Value\": list(compact[\"Loadout Value\"]),\n",
    "                    \"Shield Amount\": list(compact[\"Shield\"]),\n",
    "                    \"Shield Price\": list(compact[\"Shield Price\"]),\n",
    "                    \"Weapon Price\": list(compact[\"Weapon Price\"])}\n",
    "    compact = pd.DataFrame(clean_dict)\n",
    "    group_aux[key] = compact\n",
    "\n",
    "final_df = pd.concat(list(group_aux.values()), axis=0, ignore_index=True)\n",
    "final_df[\"Economy\"] = final_df[\"Remaining Creds\"] + final_df[\"Loadout Value\"]\n",
    "final_df"
   ],
   "metadata": {
    "collapsed": false,
    "pycharm": {
     "name": "#%%\n"
    }
   }
  },
  {
   "cell_type": "code",
   "execution_count": 7,
   "outputs": [
    {
     "data": {
      "text/plain": "     Match ID  Round ID  Round  Player ID  Team ID  Remaining Creds  \\\n0       10597    172631      1       1408       78                0   \n1       10597    172631      1       2062       78                0   \n2       10597    172631      1       3770      752                0   \n3       10597    172631      1        919      752              100   \n4       10597    172631      1       2476      752                0   \n..        ...       ...    ...        ...      ...              ...   \n215     10597    172652     22        102       78             7400   \n216     10597    172652     22       3769      752                0   \n217     10597    172652     22        639       78             1800   \n218     10597    172652     22        330      752              100   \n219     10597    172652     22       2354       78             6000   \n\n     Loadout Value  Agent ID  Weapon ID  Armor ID  Shield  Shield Price  \\\n0              500         3         12         0       0             0   \n1              800         4         11         1      25           400   \n2              600         3         10         0       0             0   \n3              700        11         12         0       0             0   \n4              800         4         12         0       0             0   \n..             ...       ...        ...       ...     ...           ...   \n215           4400        11          4         2      50          1000   \n216           2800        10         19         2      50          1000   \n217           4400        12          4         2      50          1000   \n218           2400        12         19         2      50          1000   \n219           4500         7          4         2      50          1000   \n\n    Weapon Name  Weapon Price  Utility Value  \n0         Ghost           500              0  \n1       Classic             0            400  \n2        Frenzy           500            100  \n3         Ghost           500            200  \n4         Ghost           500            300  \n..          ...           ...            ...  \n215      Vandal          2900            500  \n216     Stinger          1100            700  \n217      Vandal          2900            500  \n218     Stinger          1100            300  \n219      Vandal          2900            600  \n\n[220 rows x 15 columns]",
      "text/html": "<div>\n<style scoped>\n    .dataframe tbody tr th:only-of-type {\n        vertical-align: middle;\n    }\n\n    .dataframe tbody tr th {\n        vertical-align: top;\n    }\n\n    .dataframe thead th {\n        text-align: right;\n    }\n</style>\n<table border=\"1\" class=\"dataframe\">\n  <thead>\n    <tr style=\"text-align: right;\">\n      <th></th>\n      <th>Match ID</th>\n      <th>Round ID</th>\n      <th>Round</th>\n      <th>Player ID</th>\n      <th>Team ID</th>\n      <th>Remaining Creds</th>\n      <th>Loadout Value</th>\n      <th>Agent ID</th>\n      <th>Weapon ID</th>\n      <th>Armor ID</th>\n      <th>Shield</th>\n      <th>Shield Price</th>\n      <th>Weapon Name</th>\n      <th>Weapon Price</th>\n      <th>Utility Value</th>\n    </tr>\n  </thead>\n  <tbody>\n    <tr>\n      <th>0</th>\n      <td>10597</td>\n      <td>172631</td>\n      <td>1</td>\n      <td>1408</td>\n      <td>78</td>\n      <td>0</td>\n      <td>500</td>\n      <td>3</td>\n      <td>12</td>\n      <td>0</td>\n      <td>0</td>\n      <td>0</td>\n      <td>Ghost</td>\n      <td>500</td>\n      <td>0</td>\n    </tr>\n    <tr>\n      <th>1</th>\n      <td>10597</td>\n      <td>172631</td>\n      <td>1</td>\n      <td>2062</td>\n      <td>78</td>\n      <td>0</td>\n      <td>800</td>\n      <td>4</td>\n      <td>11</td>\n      <td>1</td>\n      <td>25</td>\n      <td>400</td>\n      <td>Classic</td>\n      <td>0</td>\n      <td>400</td>\n    </tr>\n    <tr>\n      <th>2</th>\n      <td>10597</td>\n      <td>172631</td>\n      <td>1</td>\n      <td>3770</td>\n      <td>752</td>\n      <td>0</td>\n      <td>600</td>\n      <td>3</td>\n      <td>10</td>\n      <td>0</td>\n      <td>0</td>\n      <td>0</td>\n      <td>Frenzy</td>\n      <td>500</td>\n      <td>100</td>\n    </tr>\n    <tr>\n      <th>3</th>\n      <td>10597</td>\n      <td>172631</td>\n      <td>1</td>\n      <td>919</td>\n      <td>752</td>\n      <td>100</td>\n      <td>700</td>\n      <td>11</td>\n      <td>12</td>\n      <td>0</td>\n      <td>0</td>\n      <td>0</td>\n      <td>Ghost</td>\n      <td>500</td>\n      <td>200</td>\n    </tr>\n    <tr>\n      <th>4</th>\n      <td>10597</td>\n      <td>172631</td>\n      <td>1</td>\n      <td>2476</td>\n      <td>752</td>\n      <td>0</td>\n      <td>800</td>\n      <td>4</td>\n      <td>12</td>\n      <td>0</td>\n      <td>0</td>\n      <td>0</td>\n      <td>Ghost</td>\n      <td>500</td>\n      <td>300</td>\n    </tr>\n    <tr>\n      <th>...</th>\n      <td>...</td>\n      <td>...</td>\n      <td>...</td>\n      <td>...</td>\n      <td>...</td>\n      <td>...</td>\n      <td>...</td>\n      <td>...</td>\n      <td>...</td>\n      <td>...</td>\n      <td>...</td>\n      <td>...</td>\n      <td>...</td>\n      <td>...</td>\n      <td>...</td>\n    </tr>\n    <tr>\n      <th>215</th>\n      <td>10597</td>\n      <td>172652</td>\n      <td>22</td>\n      <td>102</td>\n      <td>78</td>\n      <td>7400</td>\n      <td>4400</td>\n      <td>11</td>\n      <td>4</td>\n      <td>2</td>\n      <td>50</td>\n      <td>1000</td>\n      <td>Vandal</td>\n      <td>2900</td>\n      <td>500</td>\n    </tr>\n    <tr>\n      <th>216</th>\n      <td>10597</td>\n      <td>172652</td>\n      <td>22</td>\n      <td>3769</td>\n      <td>752</td>\n      <td>0</td>\n      <td>2800</td>\n      <td>10</td>\n      <td>19</td>\n      <td>2</td>\n      <td>50</td>\n      <td>1000</td>\n      <td>Stinger</td>\n      <td>1100</td>\n      <td>700</td>\n    </tr>\n    <tr>\n      <th>217</th>\n      <td>10597</td>\n      <td>172652</td>\n      <td>22</td>\n      <td>639</td>\n      <td>78</td>\n      <td>1800</td>\n      <td>4400</td>\n      <td>12</td>\n      <td>4</td>\n      <td>2</td>\n      <td>50</td>\n      <td>1000</td>\n      <td>Vandal</td>\n      <td>2900</td>\n      <td>500</td>\n    </tr>\n    <tr>\n      <th>218</th>\n      <td>10597</td>\n      <td>172652</td>\n      <td>22</td>\n      <td>330</td>\n      <td>752</td>\n      <td>100</td>\n      <td>2400</td>\n      <td>12</td>\n      <td>19</td>\n      <td>2</td>\n      <td>50</td>\n      <td>1000</td>\n      <td>Stinger</td>\n      <td>1100</td>\n      <td>300</td>\n    </tr>\n    <tr>\n      <th>219</th>\n      <td>10597</td>\n      <td>172652</td>\n      <td>22</td>\n      <td>2354</td>\n      <td>78</td>\n      <td>6000</td>\n      <td>4500</td>\n      <td>7</td>\n      <td>4</td>\n      <td>2</td>\n      <td>50</td>\n      <td>1000</td>\n      <td>Vandal</td>\n      <td>2900</td>\n      <td>600</td>\n    </tr>\n  </tbody>\n</table>\n<p>220 rows × 15 columns</p>\n</div>"
     },
     "execution_count": 7,
     "metadata": {},
     "output_type": "execute_result"
    }
   ],
   "source": [
    "loadout_df"
   ],
   "metadata": {
    "collapsed": false,
    "pycharm": {
     "name": "#%%\n"
    }
   }
  },
  {
   "cell_type": "markdown",
   "source": [
    "### AAA"
   ],
   "metadata": {
    "collapsed": false,
    "pycharm": {
     "name": "#%% md\n"
    }
   }
  },
  {
   "cell_type": "code",
   "execution_count": 3,
   "outputs": [],
   "source": [
    "loadouts_df = vq.get_full_loadout_table()\n",
    "side_info = vq.get_side_info()\n",
    "team_a: int = side_info[\"team_a\"]\n",
    "team_b: int = side_info[\"team_b\"]\n",
    "attacking_first = side_info[\"attacking_first\"]\n",
    "defending_first = side_info[\"defending_first\"]\n",
    "events = vq.get_events()\n",
    "gamestate_df = pd.DataFrame(columns=['MatchID', 'MapName', 'ATK_Guns', 'ATK_Shields'])\n",
    "trimmed_events = [e[:12] for e in events]\n",
    "events_raw_df = pd.DataFrame(trimmed_events, columns=[\"ta\", \"round_event_id\", \"round_id\", \"round_number\",\n",
    "                                              \"round_time_millis\", \"player_id\", \"victim_id\", \"event_type\",\n",
    "                                              \"damage_type\", \"weapon_id\", \"ability\", \"attacking_team_number\"])"
   ],
   "metadata": {
    "collapsed": false,
    "pycharm": {
     "name": "#%%\n"
    }
   }
  },
  {
   "cell_type": "code",
   "execution_count": 7,
   "outputs": [
    {
     "ename": "ValueError",
     "evalue": "Length of values (2) does not match length of index (1)",
     "output_type": "error",
     "traceback": [
      "\u001B[1;31m---------------------------------------------------------------------------\u001B[0m",
      "\u001B[1;31mValueError\u001B[0m                                Traceback (most recent call last)",
      "\u001B[1;32m<ipython-input-7-bfb2f569e9b5>\u001B[0m in \u001B[0;36m<module>\u001B[1;34m\u001B[0m\n\u001B[0;32m     15\u001B[0m         \u001B[0mraw_group\u001B[0m \u001B[1;33m=\u001B[0m \u001B[0mpd\u001B[0m\u001B[1;33m.\u001B[0m\u001B[0mDataFrame\u001B[0m\u001B[1;33m(\u001B[0m\u001B[0mvalue\u001B[0m\u001B[1;33m)\u001B[0m\u001B[1;33m\u001B[0m\u001B[1;33m\u001B[0m\u001B[0m\n\u001B[0;32m     16\u001B[0m         \u001B[0mcompact\u001B[0m \u001B[1;33m=\u001B[0m \u001B[0mraw_group\u001B[0m\u001B[1;33m.\u001B[0m\u001B[0mgroupby\u001B[0m\u001B[1;33m(\u001B[0m\u001B[1;33m[\u001B[0m\u001B[1;34m'Team ID'\u001B[0m\u001B[1;33m]\u001B[0m\u001B[1;33m)\u001B[0m\u001B[1;33m.\u001B[0m\u001B[0magg\u001B[0m\u001B[1;33m(\u001B[0m\u001B[1;33m{\u001B[0m\u001B[1;34m'Remaining Creds'\u001B[0m\u001B[1;33m:\u001B[0m \u001B[1;34m'sum'\u001B[0m\u001B[1;33m,\u001B[0m \u001B[1;34m'Loadout Value'\u001B[0m\u001B[1;33m:\u001B[0m \u001B[1;34m'sum'\u001B[0m\u001B[1;33m}\u001B[0m\u001B[1;33m)\u001B[0m\u001B[1;33m\u001B[0m\u001B[1;33m\u001B[0m\u001B[0m\n\u001B[1;32m---> 17\u001B[1;33m         \u001B[0mcompact\u001B[0m\u001B[1;33m[\u001B[0m\u001B[1;34m\"Round\"\u001B[0m\u001B[1;33m]\u001B[0m \u001B[1;33m=\u001B[0m \u001B[1;33m[\u001B[0m\u001B[0mkey\u001B[0m\u001B[1;33m]\u001B[0m \u001B[1;33m*\u001B[0m \u001B[1;36m2\u001B[0m\u001B[1;33m\u001B[0m\u001B[1;33m\u001B[0m\u001B[0m\n\u001B[0m\u001B[0;32m     18\u001B[0m         \u001B[0mcompact\u001B[0m\u001B[1;33m[\u001B[0m\u001B[1;34m\"Team ID\"\u001B[0m\u001B[1;33m]\u001B[0m \u001B[1;33m=\u001B[0m \u001B[0mcompact\u001B[0m\u001B[1;33m.\u001B[0m\u001B[0mindex\u001B[0m\u001B[1;33m\u001B[0m\u001B[1;33m\u001B[0m\u001B[0m\n\u001B[0;32m     19\u001B[0m         clean_dict = {\"Round\": list(compact[\"Round\"]),\n",
      "\u001B[1;32mc:\\users\\mateu\\appdata\\local\\programs\\python\\python38\\lib\\site-packages\\pandas\\core\\frame.py\u001B[0m in \u001B[0;36m__setitem__\u001B[1;34m(self, key, value)\u001B[0m\n\u001B[0;32m   3161\u001B[0m         \u001B[1;32melse\u001B[0m\u001B[1;33m:\u001B[0m\u001B[1;33m\u001B[0m\u001B[1;33m\u001B[0m\u001B[0m\n\u001B[0;32m   3162\u001B[0m             \u001B[1;31m# set column\u001B[0m\u001B[1;33m\u001B[0m\u001B[1;33m\u001B[0m\u001B[1;33m\u001B[0m\u001B[0m\n\u001B[1;32m-> 3163\u001B[1;33m             \u001B[0mself\u001B[0m\u001B[1;33m.\u001B[0m\u001B[0m_set_item\u001B[0m\u001B[1;33m(\u001B[0m\u001B[0mkey\u001B[0m\u001B[1;33m,\u001B[0m \u001B[0mvalue\u001B[0m\u001B[1;33m)\u001B[0m\u001B[1;33m\u001B[0m\u001B[1;33m\u001B[0m\u001B[0m\n\u001B[0m\u001B[0;32m   3164\u001B[0m \u001B[1;33m\u001B[0m\u001B[0m\n\u001B[0;32m   3165\u001B[0m     \u001B[1;32mdef\u001B[0m \u001B[0m_setitem_slice\u001B[0m\u001B[1;33m(\u001B[0m\u001B[0mself\u001B[0m\u001B[1;33m,\u001B[0m \u001B[0mkey\u001B[0m\u001B[1;33m:\u001B[0m \u001B[0mslice\u001B[0m\u001B[1;33m,\u001B[0m \u001B[0mvalue\u001B[0m\u001B[1;33m)\u001B[0m\u001B[1;33m:\u001B[0m\u001B[1;33m\u001B[0m\u001B[1;33m\u001B[0m\u001B[0m\n",
      "\u001B[1;32mc:\\users\\mateu\\appdata\\local\\programs\\python\\python38\\lib\\site-packages\\pandas\\core\\frame.py\u001B[0m in \u001B[0;36m_set_item\u001B[1;34m(self, key, value)\u001B[0m\n\u001B[0;32m   3240\u001B[0m         \"\"\"\n\u001B[0;32m   3241\u001B[0m         \u001B[0mself\u001B[0m\u001B[1;33m.\u001B[0m\u001B[0m_ensure_valid_index\u001B[0m\u001B[1;33m(\u001B[0m\u001B[0mvalue\u001B[0m\u001B[1;33m)\u001B[0m\u001B[1;33m\u001B[0m\u001B[1;33m\u001B[0m\u001B[0m\n\u001B[1;32m-> 3242\u001B[1;33m         \u001B[0mvalue\u001B[0m \u001B[1;33m=\u001B[0m \u001B[0mself\u001B[0m\u001B[1;33m.\u001B[0m\u001B[0m_sanitize_column\u001B[0m\u001B[1;33m(\u001B[0m\u001B[0mkey\u001B[0m\u001B[1;33m,\u001B[0m \u001B[0mvalue\u001B[0m\u001B[1;33m)\u001B[0m\u001B[1;33m\u001B[0m\u001B[1;33m\u001B[0m\u001B[0m\n\u001B[0m\u001B[0;32m   3243\u001B[0m         \u001B[0mNDFrame\u001B[0m\u001B[1;33m.\u001B[0m\u001B[0m_set_item\u001B[0m\u001B[1;33m(\u001B[0m\u001B[0mself\u001B[0m\u001B[1;33m,\u001B[0m \u001B[0mkey\u001B[0m\u001B[1;33m,\u001B[0m \u001B[0mvalue\u001B[0m\u001B[1;33m)\u001B[0m\u001B[1;33m\u001B[0m\u001B[1;33m\u001B[0m\u001B[0m\n\u001B[0;32m   3244\u001B[0m \u001B[1;33m\u001B[0m\u001B[0m\n",
      "\u001B[1;32mc:\\users\\mateu\\appdata\\local\\programs\\python\\python38\\lib\\site-packages\\pandas\\core\\frame.py\u001B[0m in \u001B[0;36m_sanitize_column\u001B[1;34m(self, key, value, broadcast)\u001B[0m\n\u001B[0;32m   3897\u001B[0m \u001B[1;33m\u001B[0m\u001B[0m\n\u001B[0;32m   3898\u001B[0m             \u001B[1;31m# turn me into an ndarray\u001B[0m\u001B[1;33m\u001B[0m\u001B[1;33m\u001B[0m\u001B[1;33m\u001B[0m\u001B[0m\n\u001B[1;32m-> 3899\u001B[1;33m             \u001B[0mvalue\u001B[0m \u001B[1;33m=\u001B[0m \u001B[0msanitize_index\u001B[0m\u001B[1;33m(\u001B[0m\u001B[0mvalue\u001B[0m\u001B[1;33m,\u001B[0m \u001B[0mself\u001B[0m\u001B[1;33m.\u001B[0m\u001B[0mindex\u001B[0m\u001B[1;33m)\u001B[0m\u001B[1;33m\u001B[0m\u001B[1;33m\u001B[0m\u001B[0m\n\u001B[0m\u001B[0;32m   3900\u001B[0m             \u001B[1;32mif\u001B[0m \u001B[1;32mnot\u001B[0m \u001B[0misinstance\u001B[0m\u001B[1;33m(\u001B[0m\u001B[0mvalue\u001B[0m\u001B[1;33m,\u001B[0m \u001B[1;33m(\u001B[0m\u001B[0mnp\u001B[0m\u001B[1;33m.\u001B[0m\u001B[0mndarray\u001B[0m\u001B[1;33m,\u001B[0m \u001B[0mIndex\u001B[0m\u001B[1;33m)\u001B[0m\u001B[1;33m)\u001B[0m\u001B[1;33m:\u001B[0m\u001B[1;33m\u001B[0m\u001B[1;33m\u001B[0m\u001B[0m\n\u001B[0;32m   3901\u001B[0m                 \u001B[1;32mif\u001B[0m \u001B[0misinstance\u001B[0m\u001B[1;33m(\u001B[0m\u001B[0mvalue\u001B[0m\u001B[1;33m,\u001B[0m \u001B[0mlist\u001B[0m\u001B[1;33m)\u001B[0m \u001B[1;32mand\u001B[0m \u001B[0mlen\u001B[0m\u001B[1;33m(\u001B[0m\u001B[0mvalue\u001B[0m\u001B[1;33m)\u001B[0m \u001B[1;33m>\u001B[0m \u001B[1;36m0\u001B[0m\u001B[1;33m:\u001B[0m\u001B[1;33m\u001B[0m\u001B[1;33m\u001B[0m\u001B[0m\n",
      "\u001B[1;32mc:\\users\\mateu\\appdata\\local\\programs\\python\\python38\\lib\\site-packages\\pandas\\core\\internals\\construction.py\u001B[0m in \u001B[0;36msanitize_index\u001B[1;34m(data, index)\u001B[0m\n\u001B[0;32m    749\u001B[0m     \"\"\"\n\u001B[0;32m    750\u001B[0m     \u001B[1;32mif\u001B[0m \u001B[0mlen\u001B[0m\u001B[1;33m(\u001B[0m\u001B[0mdata\u001B[0m\u001B[1;33m)\u001B[0m \u001B[1;33m!=\u001B[0m \u001B[0mlen\u001B[0m\u001B[1;33m(\u001B[0m\u001B[0mindex\u001B[0m\u001B[1;33m)\u001B[0m\u001B[1;33m:\u001B[0m\u001B[1;33m\u001B[0m\u001B[1;33m\u001B[0m\u001B[0m\n\u001B[1;32m--> 751\u001B[1;33m         raise ValueError(\n\u001B[0m\u001B[0;32m    752\u001B[0m             \u001B[1;34m\"Length of values \"\u001B[0m\u001B[1;33m\u001B[0m\u001B[1;33m\u001B[0m\u001B[0m\n\u001B[0;32m    753\u001B[0m             \u001B[1;34mf\"({len(data)}) \"\u001B[0m\u001B[1;33m\u001B[0m\u001B[1;33m\u001B[0m\u001B[0m\n",
      "\u001B[1;31mValueError\u001B[0m: Length of values (2) does not match length of index (1)"
     ]
    }
   ],
   "source": [],
   "metadata": {
    "collapsed": false,
    "pycharm": {
     "name": "#%%\n"
    }
   }
  }
 ],
 "metadata": {
  "kernelspec": {
   "display_name": "Python 3",
   "language": "python",
   "name": "python3"
  },
  "language_info": {
   "codemirror_mode": {
    "name": "ipython",
    "version": 2
   },
   "file_extension": ".py",
   "mimetype": "text/x-python",
   "name": "python",
   "nbconvert_exporter": "python",
   "pygments_lexer": "ipython2",
   "version": "2.7.6"
  }
 },
 "nbformat": 4,
 "nbformat_minor": 0
}