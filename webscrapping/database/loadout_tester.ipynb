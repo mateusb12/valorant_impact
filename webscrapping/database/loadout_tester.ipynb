{
 "cells": [
  {
   "cell_type": "code",
   "execution_count": 1,
   "outputs": [],
   "source": [
    "from webscrapping.database.sql_queries import ValorantQueries\n",
    "import pandas as pd"
   ],
   "metadata": {
    "collapsed": false,
    "pycharm": {
     "name": "#%%\n"
    }
   }
  },
  {
   "cell_type": "code",
   "execution_count": 2,
   "outputs": [
    {
     "name": "stdout",
     "output_type": "stream",
     "text": [
      "Connected to database valorant successfully\n",
      "[('teams',), ('roundevents',), ('players',), ('events',), ('series',), ('matches',), ('maps',), ('rounds',), ('roundeconomies',), ('roundlocations',), ('playermapinstance',), ('assists',)]\n"
     ]
    }
   ],
   "source": [
    "vq = ValorantQueries()\n",
    "vq.set_match(43621)"
   ],
   "metadata": {
    "collapsed": false,
    "pycharm": {
     "name": "#%%\n"
    }
   }
  },
  {
   "cell_type": "code",
   "execution_count": 20,
   "outputs": [
    {
     "data": {
      "text/plain": "     Round  Player ID Player Name Status  Alive_Bazzi\n0        1       1843         ade  alive            0\n1        1       1075       Bazzi  alive            1\n2        1       1824      Fisker  alive            0\n3        1       1877         frz  alive            0\n4        1       3105      gtnziN  alive            0\n..     ...        ...         ...    ...          ...\n215     22        876    Munchkin  alive            0\n216     22       2388        neth  alive            0\n217     22       2895     Saadhak  alive            0\n218     22       2294        Sacy  alive            0\n219     22        194     sutecas  alive            0\n\n[220 rows x 5 columns]",
      "text/html": "<div>\n<style scoped>\n    .dataframe tbody tr th:only-of-type {\n        vertical-align: middle;\n    }\n\n    .dataframe tbody tr th {\n        vertical-align: top;\n    }\n\n    .dataframe thead th {\n        text-align: right;\n    }\n</style>\n<table border=\"1\" class=\"dataframe\">\n  <thead>\n    <tr style=\"text-align: right;\">\n      <th></th>\n      <th>Round</th>\n      <th>Player ID</th>\n      <th>Player Name</th>\n      <th>Status</th>\n      <th>Alive_Bazzi</th>\n    </tr>\n  </thead>\n  <tbody>\n    <tr>\n      <th>0</th>\n      <td>1</td>\n      <td>1843</td>\n      <td>ade</td>\n      <td>alive</td>\n      <td>0</td>\n    </tr>\n    <tr>\n      <th>1</th>\n      <td>1</td>\n      <td>1075</td>\n      <td>Bazzi</td>\n      <td>alive</td>\n      <td>1</td>\n    </tr>\n    <tr>\n      <th>2</th>\n      <td>1</td>\n      <td>1824</td>\n      <td>Fisker</td>\n      <td>alive</td>\n      <td>0</td>\n    </tr>\n    <tr>\n      <th>3</th>\n      <td>1</td>\n      <td>1877</td>\n      <td>frz</td>\n      <td>alive</td>\n      <td>0</td>\n    </tr>\n    <tr>\n      <th>4</th>\n      <td>1</td>\n      <td>3105</td>\n      <td>gtnziN</td>\n      <td>alive</td>\n      <td>0</td>\n    </tr>\n    <tr>\n      <th>...</th>\n      <td>...</td>\n      <td>...</td>\n      <td>...</td>\n      <td>...</td>\n      <td>...</td>\n    </tr>\n    <tr>\n      <th>215</th>\n      <td>22</td>\n      <td>876</td>\n      <td>Munchkin</td>\n      <td>alive</td>\n      <td>0</td>\n    </tr>\n    <tr>\n      <th>216</th>\n      <td>22</td>\n      <td>2388</td>\n      <td>neth</td>\n      <td>alive</td>\n      <td>0</td>\n    </tr>\n    <tr>\n      <th>217</th>\n      <td>22</td>\n      <td>2895</td>\n      <td>Saadhak</td>\n      <td>alive</td>\n      <td>0</td>\n    </tr>\n    <tr>\n      <th>218</th>\n      <td>22</td>\n      <td>2294</td>\n      <td>Sacy</td>\n      <td>alive</td>\n      <td>0</td>\n    </tr>\n    <tr>\n      <th>219</th>\n      <td>22</td>\n      <td>194</td>\n      <td>sutecas</td>\n      <td>alive</td>\n      <td>0</td>\n    </tr>\n  </tbody>\n</table>\n<p>220 rows × 5 columns</p>\n</div>"
     },
     "execution_count": 20,
     "metadata": {},
     "output_type": "execute_result"
    }
   ],
   "source": [
    "aux = vq.get_initial_state()\n",
    "events = vq.get_event_table()\n",
    "#player_names = aux[\"Player Name\"].unique()\n",
    "#pd.get_dummies(aux[\"Player Name\"], prefix=\"Alive\")\n",
    "#pd.merge(events, aux, on=\"Round\")\n",
    "# Get aux columns \"Round\", \"Player ID\", \"Player Name\", \"Status\"\n",
    "aux_lit = aux.loc[:, [\"Round\", \"Player ID\", \"Player Name\", \"Status\", \"Alive_Bazzi\"]]\n",
    "aux_lit\n",
    "#pd.merge(events, aux_lit, on=\"Round\", how=\"inner\")"
   ],
   "metadata": {
    "collapsed": false,
    "pycharm": {
     "name": "#%%\n"
    }
   }
  },
  {
   "cell_type": "code",
   "execution_count": 12,
   "outputs": [
    {
     "data": {
      "text/plain": "    Round  Team ID  Remaining Creds  Loadout Value  Weapon Price  Shield  \\\n0       1       53              250           3950          1500      50   \n1       1      444               50           3750          1800      50   \n2       2       53             3800          16150          6800     250   \n3       2      444             7300           2850           800       0   \n4       3       53            14350          13650          6500     200   \n5       3      444              450          21250         14500     225   \n6       4       53             9200          23200         14500     250   \n7       4      444             7100          10250          5200     100   \n8       5       53            15900          24000         14500     250   \n9       5      444              750          23250         16600     200   \n10      6       53            22100          23200         14500     250   \n11      6      444             8900           7750          3400     100   \n12      7       53            11650          23200         14500     250   \n13      7      444             4450          24950         16600     225   \n14      8       53             4000          23050         14500     250   \n15      8      444             5150          24500         16600     225   \n16      9       53             3450          18800         12100     175   \n17      9      444             3350          22300         14500     250   \n18     10       53             7500          22450         14500     200   \n19     10      444             9950           4500          1600       0   \n20     11       53             8050          11800          7900     100   \n21     11      444             7850          25700         16600     250   \n22     12       53             1000          22700         14500     250   \n23     12      444             4850          26400         16600     250   \n24     13       53              250           3750          1800       0   \n25     13      444              250           3750          1500      50   \n26     14       53             8950           1650           800       0   \n27     14      444             1000          19000          8800     250   \n28     15       53              150          21400         14500     200   \n29     15      444             9500          17850          9000     250   \n30     16       53             3450          20400         13700     175   \n31     16      444            11100           9400          4400     100   \n32     17       53            15150          22350         13700     250   \n33     17      444             3650          21800         14500     200   \n34     18       53            19550          23200         14500     250   \n35     18      444             3500          17000          9700     225   \n36     19       53            14550          25300         16600     250   \n37     19      444             9450          11550          6300     125   \n38     20       53            16350          26600         16600     250   \n39     20      444             2800          23000         14500     250   \n40     21       53             5000          25200         16600     225   \n41     21      444             1600          19650         12900     200   \n42     22       53            10950          26250         16600     250   \n43     22      444             1100          16600          8700     250   \n\n    Controller  Duelist  Initiator  Sentinel  Has Operator  \n0            1        2          1         1         False  \n1            1        1          2         1         False  \n2            1        2          1         1         False  \n3            1        1          2         1         False  \n4            1        2          1         1         False  \n5            1        1          2         1         False  \n6            1        2          1         1         False  \n7            1        1          2         1         False  \n8            1        2          1         1         False  \n9            1        1          2         1          True  \n10           1        2          1         1         False  \n11           1        1          2         1         False  \n12           1        2          1         1         False  \n13           1        1          2         1          True  \n14           1        2          1         1         False  \n15           1        1          2         1          True  \n16           1        2          1         1         False  \n17           1        1          2         1          True  \n18           1        2          1         1         False  \n19           1        1          2         1         False  \n20           1        2          1         1         False  \n21           1        1          2         1          True  \n22           1        2          1         1         False  \n23           1        1          2         1          True  \n24           1        2          1         1         False  \n25           1        1          2         1         False  \n26           1        2          1         1         False  \n27           1        1          2         1         False  \n28           1        2          1         1         False  \n29           1        1          2         1         False  \n30           1        2          1         1         False  \n31           1        1          2         1         False  \n32           1        2          1         1         False  \n33           1        1          2         1         False  \n34           1        2          1         1         False  \n35           1        1          2         1         False  \n36           1        2          1         1          True  \n37           1        1          2         1         False  \n38           1        2          1         1          True  \n39           1        1          2         1         False  \n40           1        2          1         1          True  \n41           1        1          2         1         False  \n42           1        2          1         1          True  \n43           1        1          2         1         False  ",
      "text/html": "<div>\n<style scoped>\n    .dataframe tbody tr th:only-of-type {\n        vertical-align: middle;\n    }\n\n    .dataframe tbody tr th {\n        vertical-align: top;\n    }\n\n    .dataframe thead th {\n        text-align: right;\n    }\n</style>\n<table border=\"1\" class=\"dataframe\">\n  <thead>\n    <tr style=\"text-align: right;\">\n      <th></th>\n      <th>Round</th>\n      <th>Team ID</th>\n      <th>Remaining Creds</th>\n      <th>Loadout Value</th>\n      <th>Weapon Price</th>\n      <th>Shield</th>\n      <th>Controller</th>\n      <th>Duelist</th>\n      <th>Initiator</th>\n      <th>Sentinel</th>\n      <th>Has Operator</th>\n    </tr>\n  </thead>\n  <tbody>\n    <tr>\n      <th>0</th>\n      <td>1</td>\n      <td>53</td>\n      <td>250</td>\n      <td>3950</td>\n      <td>1500</td>\n      <td>50</td>\n      <td>1</td>\n      <td>2</td>\n      <td>1</td>\n      <td>1</td>\n      <td>False</td>\n    </tr>\n    <tr>\n      <th>1</th>\n      <td>1</td>\n      <td>444</td>\n      <td>50</td>\n      <td>3750</td>\n      <td>1800</td>\n      <td>50</td>\n      <td>1</td>\n      <td>1</td>\n      <td>2</td>\n      <td>1</td>\n      <td>False</td>\n    </tr>\n    <tr>\n      <th>2</th>\n      <td>2</td>\n      <td>53</td>\n      <td>3800</td>\n      <td>16150</td>\n      <td>6800</td>\n      <td>250</td>\n      <td>1</td>\n      <td>2</td>\n      <td>1</td>\n      <td>1</td>\n      <td>False</td>\n    </tr>\n    <tr>\n      <th>3</th>\n      <td>2</td>\n      <td>444</td>\n      <td>7300</td>\n      <td>2850</td>\n      <td>800</td>\n      <td>0</td>\n      <td>1</td>\n      <td>1</td>\n      <td>2</td>\n      <td>1</td>\n      <td>False</td>\n    </tr>\n    <tr>\n      <th>4</th>\n      <td>3</td>\n      <td>53</td>\n      <td>14350</td>\n      <td>13650</td>\n      <td>6500</td>\n      <td>200</td>\n      <td>1</td>\n      <td>2</td>\n      <td>1</td>\n      <td>1</td>\n      <td>False</td>\n    </tr>\n    <tr>\n      <th>5</th>\n      <td>3</td>\n      <td>444</td>\n      <td>450</td>\n      <td>21250</td>\n      <td>14500</td>\n      <td>225</td>\n      <td>1</td>\n      <td>1</td>\n      <td>2</td>\n      <td>1</td>\n      <td>False</td>\n    </tr>\n    <tr>\n      <th>6</th>\n      <td>4</td>\n      <td>53</td>\n      <td>9200</td>\n      <td>23200</td>\n      <td>14500</td>\n      <td>250</td>\n      <td>1</td>\n      <td>2</td>\n      <td>1</td>\n      <td>1</td>\n      <td>False</td>\n    </tr>\n    <tr>\n      <th>7</th>\n      <td>4</td>\n      <td>444</td>\n      <td>7100</td>\n      <td>10250</td>\n      <td>5200</td>\n      <td>100</td>\n      <td>1</td>\n      <td>1</td>\n      <td>2</td>\n      <td>1</td>\n      <td>False</td>\n    </tr>\n    <tr>\n      <th>8</th>\n      <td>5</td>\n      <td>53</td>\n      <td>15900</td>\n      <td>24000</td>\n      <td>14500</td>\n      <td>250</td>\n      <td>1</td>\n      <td>2</td>\n      <td>1</td>\n      <td>1</td>\n      <td>False</td>\n    </tr>\n    <tr>\n      <th>9</th>\n      <td>5</td>\n      <td>444</td>\n      <td>750</td>\n      <td>23250</td>\n      <td>16600</td>\n      <td>200</td>\n      <td>1</td>\n      <td>1</td>\n      <td>2</td>\n      <td>1</td>\n      <td>True</td>\n    </tr>\n    <tr>\n      <th>10</th>\n      <td>6</td>\n      <td>53</td>\n      <td>22100</td>\n      <td>23200</td>\n      <td>14500</td>\n      <td>250</td>\n      <td>1</td>\n      <td>2</td>\n      <td>1</td>\n      <td>1</td>\n      <td>False</td>\n    </tr>\n    <tr>\n      <th>11</th>\n      <td>6</td>\n      <td>444</td>\n      <td>8900</td>\n      <td>7750</td>\n      <td>3400</td>\n      <td>100</td>\n      <td>1</td>\n      <td>1</td>\n      <td>2</td>\n      <td>1</td>\n      <td>False</td>\n    </tr>\n    <tr>\n      <th>12</th>\n      <td>7</td>\n      <td>53</td>\n      <td>11650</td>\n      <td>23200</td>\n      <td>14500</td>\n      <td>250</td>\n      <td>1</td>\n      <td>2</td>\n      <td>1</td>\n      <td>1</td>\n      <td>False</td>\n    </tr>\n    <tr>\n      <th>13</th>\n      <td>7</td>\n      <td>444</td>\n      <td>4450</td>\n      <td>24950</td>\n      <td>16600</td>\n      <td>225</td>\n      <td>1</td>\n      <td>1</td>\n      <td>2</td>\n      <td>1</td>\n      <td>True</td>\n    </tr>\n    <tr>\n      <th>14</th>\n      <td>8</td>\n      <td>53</td>\n      <td>4000</td>\n      <td>23050</td>\n      <td>14500</td>\n      <td>250</td>\n      <td>1</td>\n      <td>2</td>\n      <td>1</td>\n      <td>1</td>\n      <td>False</td>\n    </tr>\n    <tr>\n      <th>15</th>\n      <td>8</td>\n      <td>444</td>\n      <td>5150</td>\n      <td>24500</td>\n      <td>16600</td>\n      <td>225</td>\n      <td>1</td>\n      <td>1</td>\n      <td>2</td>\n      <td>1</td>\n      <td>True</td>\n    </tr>\n    <tr>\n      <th>16</th>\n      <td>9</td>\n      <td>53</td>\n      <td>3450</td>\n      <td>18800</td>\n      <td>12100</td>\n      <td>175</td>\n      <td>1</td>\n      <td>2</td>\n      <td>1</td>\n      <td>1</td>\n      <td>False</td>\n    </tr>\n    <tr>\n      <th>17</th>\n      <td>9</td>\n      <td>444</td>\n      <td>3350</td>\n      <td>22300</td>\n      <td>14500</td>\n      <td>250</td>\n      <td>1</td>\n      <td>1</td>\n      <td>2</td>\n      <td>1</td>\n      <td>True</td>\n    </tr>\n    <tr>\n      <th>18</th>\n      <td>10</td>\n      <td>53</td>\n      <td>7500</td>\n      <td>22450</td>\n      <td>14500</td>\n      <td>200</td>\n      <td>1</td>\n      <td>2</td>\n      <td>1</td>\n      <td>1</td>\n      <td>False</td>\n    </tr>\n    <tr>\n      <th>19</th>\n      <td>10</td>\n      <td>444</td>\n      <td>9950</td>\n      <td>4500</td>\n      <td>1600</td>\n      <td>0</td>\n      <td>1</td>\n      <td>1</td>\n      <td>2</td>\n      <td>1</td>\n      <td>False</td>\n    </tr>\n    <tr>\n      <th>20</th>\n      <td>11</td>\n      <td>53</td>\n      <td>8050</td>\n      <td>11800</td>\n      <td>7900</td>\n      <td>100</td>\n      <td>1</td>\n      <td>2</td>\n      <td>1</td>\n      <td>1</td>\n      <td>False</td>\n    </tr>\n    <tr>\n      <th>21</th>\n      <td>11</td>\n      <td>444</td>\n      <td>7850</td>\n      <td>25700</td>\n      <td>16600</td>\n      <td>250</td>\n      <td>1</td>\n      <td>1</td>\n      <td>2</td>\n      <td>1</td>\n      <td>True</td>\n    </tr>\n    <tr>\n      <th>22</th>\n      <td>12</td>\n      <td>53</td>\n      <td>1000</td>\n      <td>22700</td>\n      <td>14500</td>\n      <td>250</td>\n      <td>1</td>\n      <td>2</td>\n      <td>1</td>\n      <td>1</td>\n      <td>False</td>\n    </tr>\n    <tr>\n      <th>23</th>\n      <td>12</td>\n      <td>444</td>\n      <td>4850</td>\n      <td>26400</td>\n      <td>16600</td>\n      <td>250</td>\n      <td>1</td>\n      <td>1</td>\n      <td>2</td>\n      <td>1</td>\n      <td>True</td>\n    </tr>\n    <tr>\n      <th>24</th>\n      <td>13</td>\n      <td>53</td>\n      <td>250</td>\n      <td>3750</td>\n      <td>1800</td>\n      <td>0</td>\n      <td>1</td>\n      <td>2</td>\n      <td>1</td>\n      <td>1</td>\n      <td>False</td>\n    </tr>\n    <tr>\n      <th>25</th>\n      <td>13</td>\n      <td>444</td>\n      <td>250</td>\n      <td>3750</td>\n      <td>1500</td>\n      <td>50</td>\n      <td>1</td>\n      <td>1</td>\n      <td>2</td>\n      <td>1</td>\n      <td>False</td>\n    </tr>\n    <tr>\n      <th>26</th>\n      <td>14</td>\n      <td>53</td>\n      <td>8950</td>\n      <td>1650</td>\n      <td>800</td>\n      <td>0</td>\n      <td>1</td>\n      <td>2</td>\n      <td>1</td>\n      <td>1</td>\n      <td>False</td>\n    </tr>\n    <tr>\n      <th>27</th>\n      <td>14</td>\n      <td>444</td>\n      <td>1000</td>\n      <td>19000</td>\n      <td>8800</td>\n      <td>250</td>\n      <td>1</td>\n      <td>1</td>\n      <td>2</td>\n      <td>1</td>\n      <td>False</td>\n    </tr>\n    <tr>\n      <th>28</th>\n      <td>15</td>\n      <td>53</td>\n      <td>150</td>\n      <td>21400</td>\n      <td>14500</td>\n      <td>200</td>\n      <td>1</td>\n      <td>2</td>\n      <td>1</td>\n      <td>1</td>\n      <td>False</td>\n    </tr>\n    <tr>\n      <th>29</th>\n      <td>15</td>\n      <td>444</td>\n      <td>9500</td>\n      <td>17850</td>\n      <td>9000</td>\n      <td>250</td>\n      <td>1</td>\n      <td>1</td>\n      <td>2</td>\n      <td>1</td>\n      <td>False</td>\n    </tr>\n    <tr>\n      <th>30</th>\n      <td>16</td>\n      <td>53</td>\n      <td>3450</td>\n      <td>20400</td>\n      <td>13700</td>\n      <td>175</td>\n      <td>1</td>\n      <td>2</td>\n      <td>1</td>\n      <td>1</td>\n      <td>False</td>\n    </tr>\n    <tr>\n      <th>31</th>\n      <td>16</td>\n      <td>444</td>\n      <td>11100</td>\n      <td>9400</td>\n      <td>4400</td>\n      <td>100</td>\n      <td>1</td>\n      <td>1</td>\n      <td>2</td>\n      <td>1</td>\n      <td>False</td>\n    </tr>\n    <tr>\n      <th>32</th>\n      <td>17</td>\n      <td>53</td>\n      <td>15150</td>\n      <td>22350</td>\n      <td>13700</td>\n      <td>250</td>\n      <td>1</td>\n      <td>2</td>\n      <td>1</td>\n      <td>1</td>\n      <td>False</td>\n    </tr>\n    <tr>\n      <th>33</th>\n      <td>17</td>\n      <td>444</td>\n      <td>3650</td>\n      <td>21800</td>\n      <td>14500</td>\n      <td>200</td>\n      <td>1</td>\n      <td>1</td>\n      <td>2</td>\n      <td>1</td>\n      <td>False</td>\n    </tr>\n    <tr>\n      <th>34</th>\n      <td>18</td>\n      <td>53</td>\n      <td>19550</td>\n      <td>23200</td>\n      <td>14500</td>\n      <td>250</td>\n      <td>1</td>\n      <td>2</td>\n      <td>1</td>\n      <td>1</td>\n      <td>False</td>\n    </tr>\n    <tr>\n      <th>35</th>\n      <td>18</td>\n      <td>444</td>\n      <td>3500</td>\n      <td>17000</td>\n      <td>9700</td>\n      <td>225</td>\n      <td>1</td>\n      <td>1</td>\n      <td>2</td>\n      <td>1</td>\n      <td>False</td>\n    </tr>\n    <tr>\n      <th>36</th>\n      <td>19</td>\n      <td>53</td>\n      <td>14550</td>\n      <td>25300</td>\n      <td>16600</td>\n      <td>250</td>\n      <td>1</td>\n      <td>2</td>\n      <td>1</td>\n      <td>1</td>\n      <td>True</td>\n    </tr>\n    <tr>\n      <th>37</th>\n      <td>19</td>\n      <td>444</td>\n      <td>9450</td>\n      <td>11550</td>\n      <td>6300</td>\n      <td>125</td>\n      <td>1</td>\n      <td>1</td>\n      <td>2</td>\n      <td>1</td>\n      <td>False</td>\n    </tr>\n    <tr>\n      <th>38</th>\n      <td>20</td>\n      <td>53</td>\n      <td>16350</td>\n      <td>26600</td>\n      <td>16600</td>\n      <td>250</td>\n      <td>1</td>\n      <td>2</td>\n      <td>1</td>\n      <td>1</td>\n      <td>True</td>\n    </tr>\n    <tr>\n      <th>39</th>\n      <td>20</td>\n      <td>444</td>\n      <td>2800</td>\n      <td>23000</td>\n      <td>14500</td>\n      <td>250</td>\n      <td>1</td>\n      <td>1</td>\n      <td>2</td>\n      <td>1</td>\n      <td>False</td>\n    </tr>\n    <tr>\n      <th>40</th>\n      <td>21</td>\n      <td>53</td>\n      <td>5000</td>\n      <td>25200</td>\n      <td>16600</td>\n      <td>225</td>\n      <td>1</td>\n      <td>2</td>\n      <td>1</td>\n      <td>1</td>\n      <td>True</td>\n    </tr>\n    <tr>\n      <th>41</th>\n      <td>21</td>\n      <td>444</td>\n      <td>1600</td>\n      <td>19650</td>\n      <td>12900</td>\n      <td>200</td>\n      <td>1</td>\n      <td>1</td>\n      <td>2</td>\n      <td>1</td>\n      <td>False</td>\n    </tr>\n    <tr>\n      <th>42</th>\n      <td>22</td>\n      <td>53</td>\n      <td>10950</td>\n      <td>26250</td>\n      <td>16600</td>\n      <td>250</td>\n      <td>1</td>\n      <td>2</td>\n      <td>1</td>\n      <td>1</td>\n      <td>True</td>\n    </tr>\n    <tr>\n      <th>43</th>\n      <td>22</td>\n      <td>444</td>\n      <td>1100</td>\n      <td>16600</td>\n      <td>8700</td>\n      <td>250</td>\n      <td>1</td>\n      <td>1</td>\n      <td>2</td>\n      <td>1</td>\n      <td>False</td>\n    </tr>\n  </tbody>\n</table>\n</div>"
     },
     "execution_count": 12,
     "metadata": {},
     "output_type": "execute_result"
    }
   ],
   "source": [
    "aux_a = aux[aux[\"Status\"] == \"alive\"]\n",
    "aux_b = aux.groupby([\"Round\", 'Team ID'])\n",
    "agg_columns = (\"Remaining Creds\", \"Loadout Value\", \"Weapon Price\", 'Shield', 'Controller', 'Duelist', 'Initiator', 'Sentinel')\n",
    "agg_dict = {col:'sum' for col in agg_columns}\n",
    "agg_dict[\"Has Operator\"] = \"any\"\n",
    "aux_c = aux_b.agg(agg_dict).reset_index()\n",
    "aux_c"
   ],
   "metadata": {
    "collapsed": false,
    "pycharm": {
     "name": "#%%\n"
    }
   }
  },
  {
   "cell_type": "code",
   "execution_count": 36,
   "outputs": [
    {
     "data": {
      "text/plain": "'inverse'"
     },
     "execution_count": 36,
     "metadata": {},
     "output_type": "execute_result"
    }
   ],
   "source": [],
   "metadata": {
    "collapsed": false,
    "pycharm": {
     "name": "#%%\n"
    }
   }
  }
 ],
 "metadata": {
  "kernelspec": {
   "display_name": "Python 3",
   "language": "python",
   "name": "python3"
  },
  "language_info": {
   "codemirror_mode": {
    "name": "ipython",
    "version": 2
   },
   "file_extension": ".py",
   "mimetype": "text/x-python",
   "name": "python",
   "nbconvert_exporter": "python",
   "pygments_lexer": "ipython2",
   "version": "2.7.6"
  }
 },
 "nbformat": 4,
 "nbformat_minor": 0
}