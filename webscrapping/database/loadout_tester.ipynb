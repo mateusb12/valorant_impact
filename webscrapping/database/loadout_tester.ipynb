{
 "cells": [
  {
   "cell_type": "code",
   "execution_count": 1,
   "outputs": [],
   "source": [
    "from webscrapping.database.sql_queries import ValorantQueries\n",
    "import pandas as pd"
   ],
   "metadata": {
    "collapsed": false,
    "pycharm": {
     "name": "#%%\n"
    }
   }
  },
  {
   "cell_type": "code",
   "execution_count": 2,
   "outputs": [
    {
     "name": "stdout",
     "output_type": "stream",
     "text": [
      "Connected to database valorant successfully\n",
      "[('teams',), ('roundevents',), ('players',), ('events',), ('series',), ('matches',), ('maps',), ('rounds',), ('roundeconomies',), ('roundlocations',), ('playermapinstance',), ('assists',)]\n"
     ]
    }
   ],
   "source": [
    "vq = ValorantQueries()\n",
    "vq.set_match(43621)"
   ],
   "metadata": {
    "collapsed": false,
    "pycharm": {
     "name": "#%%\n"
    }
   }
  },
  {
   "cell_type": "code",
   "execution_count": 3,
   "outputs": [],
   "source": [
    "states = vq.get_initial_state()\n",
    "events = vq.get_event_table()"
   ],
   "metadata": {
    "collapsed": false,
    "pycharm": {
     "name": "#%%\n"
    }
   }
  },
  {
   "cell_type": "markdown",
   "source": [
    "# Json Style"
   ],
   "metadata": {
    "collapsed": false,
    "pycharm": {
     "name": "#%% md\n"
    }
   }
  },
  {
   "cell_type": "code",
   "execution_count": 11,
   "outputs": [
    {
     "data": {
      "text/plain": "53"
     },
     "execution_count": 11,
     "metadata": {},
     "output_type": "execute_result"
    }
   ],
   "source": [
    "chosen_round = 5\n",
    "round_states = states[(states[\"Round\"] == chosen_round)]\n",
    "round_states = round_states.sort_values(by=[\"Player Side\"])\n",
    "round_events = events[(events[\"Round\"] == chosen_round)]\n",
    "alive_info = {item: \"alive\" for item in round_states[\"Player Name\"].unique()}\n",
    "player_info = {item: {} for item in round_states[\"Player Name\"].unique()}\n",
    "round_winner_table = vq.round_winner_dataframe()\n",
    "round_winner = int(round_winner_table[round_winner_table[\"round_number\"] == chosen_round][\"winning_team\"])\n",
    "round_winner\n",
    "# Get round_winner_table where round_number == chosen_round"
   ],
   "metadata": {
    "collapsed": false,
    "pycharm": {
     "name": "#%%\n"
    }
   }
  },
  {
   "cell_type": "code",
   "execution_count": 22,
   "outputs": [
    {
     "data": {
      "text/plain": "    Match ID  Round ID  Round  Player ID Player Name Status  Team ID  \\\n43     43621    695328      5       1877         frz  alive       53   \n44     43621    695328      5       3105      gtnziN  alive       53   \n47     43621    695328      5       2895     Saadhak  alive       53   \n48     43621    695328      5       2294        Sacy  alive       53   \n49     43621    695328      5        194     sutecas  alive       53   \n40     43621    695328      5       1843         ade  alive      444   \n41     43621    695328      5       1075       Bazzi  alive      444   \n42     43621    695328      5       1824      Fisker  alive      444   \n45     43621    695328      5        876    Munchkin  alive      444   \n46     43621    695328      5       2388        neth  alive      444   \n\n   Player Side  Remaining Creds  Loadout Value  ...  Weapon Name  \\\n43      attack             1450           4800  ...       Vandal   \n44      attack             4250           4600  ...       Vandal   \n47      attack             2450           5500  ...      Phantom   \n48      attack             4600           4600  ...      Phantom   \n49      attack             3150           4500  ...       Vandal   \n40     defense              200           3700  ...      Phantom   \n41     defense                0           4600  ...       Vandal   \n42     defense              200           5650  ...     Operator   \n45     defense              250           4600  ...       Vandal   \n46     defense              100           4700  ...      Phantom   \n\n    Weapon Price  Utility Value  Agent Name  Starting Side Controller  \\\n43          2900           4800       Reyna         attack          0   \n44          2900           4600        Jett         attack          0   \n47          2900           5500        Sage         attack          0   \n48          2900           4600        Sova         attack          0   \n49          2900           4500       Viper         attack          1   \n40          2900           3700       Viper        defense          1   \n41          2900           4600        Sova        defense          0   \n42          5000           5650        Jett        defense          0   \n45          2900           4600       KAY/O        defense          0   \n46          2900           4700        Sage        defense          0   \n\n    Duelist  Initiator Sentinel Has Operator  \n43        1          0        0        False  \n44        1          0        0        False  \n47        0          0        1        False  \n48        0          1        0        False  \n49        0          0        0        False  \n40        0          0        0        False  \n41        0          1        0        False  \n42        1          0        0         True  \n45        0          1        0        False  \n46        0          0        1        False  \n\n[10 rows x 25 columns]",
      "text/html": "<div>\n<style scoped>\n    .dataframe tbody tr th:only-of-type {\n        vertical-align: middle;\n    }\n\n    .dataframe tbody tr th {\n        vertical-align: top;\n    }\n\n    .dataframe thead th {\n        text-align: right;\n    }\n</style>\n<table border=\"1\" class=\"dataframe\">\n  <thead>\n    <tr style=\"text-align: right;\">\n      <th></th>\n      <th>Match ID</th>\n      <th>Round ID</th>\n      <th>Round</th>\n      <th>Player ID</th>\n      <th>Player Name</th>\n      <th>Status</th>\n      <th>Team ID</th>\n      <th>Player Side</th>\n      <th>Remaining Creds</th>\n      <th>Loadout Value</th>\n      <th>...</th>\n      <th>Weapon Name</th>\n      <th>Weapon Price</th>\n      <th>Utility Value</th>\n      <th>Agent Name</th>\n      <th>Starting Side</th>\n      <th>Controller</th>\n      <th>Duelist</th>\n      <th>Initiator</th>\n      <th>Sentinel</th>\n      <th>Has Operator</th>\n    </tr>\n  </thead>\n  <tbody>\n    <tr>\n      <th>43</th>\n      <td>43621</td>\n      <td>695328</td>\n      <td>5</td>\n      <td>1877</td>\n      <td>frz</td>\n      <td>alive</td>\n      <td>53</td>\n      <td>attack</td>\n      <td>1450</td>\n      <td>4800</td>\n      <td>...</td>\n      <td>Vandal</td>\n      <td>2900</td>\n      <td>4800</td>\n      <td>Reyna</td>\n      <td>attack</td>\n      <td>0</td>\n      <td>1</td>\n      <td>0</td>\n      <td>0</td>\n      <td>False</td>\n    </tr>\n    <tr>\n      <th>44</th>\n      <td>43621</td>\n      <td>695328</td>\n      <td>5</td>\n      <td>3105</td>\n      <td>gtnziN</td>\n      <td>alive</td>\n      <td>53</td>\n      <td>attack</td>\n      <td>4250</td>\n      <td>4600</td>\n      <td>...</td>\n      <td>Vandal</td>\n      <td>2900</td>\n      <td>4600</td>\n      <td>Jett</td>\n      <td>attack</td>\n      <td>0</td>\n      <td>1</td>\n      <td>0</td>\n      <td>0</td>\n      <td>False</td>\n    </tr>\n    <tr>\n      <th>47</th>\n      <td>43621</td>\n      <td>695328</td>\n      <td>5</td>\n      <td>2895</td>\n      <td>Saadhak</td>\n      <td>alive</td>\n      <td>53</td>\n      <td>attack</td>\n      <td>2450</td>\n      <td>5500</td>\n      <td>...</td>\n      <td>Phantom</td>\n      <td>2900</td>\n      <td>5500</td>\n      <td>Sage</td>\n      <td>attack</td>\n      <td>0</td>\n      <td>0</td>\n      <td>0</td>\n      <td>1</td>\n      <td>False</td>\n    </tr>\n    <tr>\n      <th>48</th>\n      <td>43621</td>\n      <td>695328</td>\n      <td>5</td>\n      <td>2294</td>\n      <td>Sacy</td>\n      <td>alive</td>\n      <td>53</td>\n      <td>attack</td>\n      <td>4600</td>\n      <td>4600</td>\n      <td>...</td>\n      <td>Phantom</td>\n      <td>2900</td>\n      <td>4600</td>\n      <td>Sova</td>\n      <td>attack</td>\n      <td>0</td>\n      <td>0</td>\n      <td>1</td>\n      <td>0</td>\n      <td>False</td>\n    </tr>\n    <tr>\n      <th>49</th>\n      <td>43621</td>\n      <td>695328</td>\n      <td>5</td>\n      <td>194</td>\n      <td>sutecas</td>\n      <td>alive</td>\n      <td>53</td>\n      <td>attack</td>\n      <td>3150</td>\n      <td>4500</td>\n      <td>...</td>\n      <td>Vandal</td>\n      <td>2900</td>\n      <td>4500</td>\n      <td>Viper</td>\n      <td>attack</td>\n      <td>1</td>\n      <td>0</td>\n      <td>0</td>\n      <td>0</td>\n      <td>False</td>\n    </tr>\n    <tr>\n      <th>40</th>\n      <td>43621</td>\n      <td>695328</td>\n      <td>5</td>\n      <td>1843</td>\n      <td>ade</td>\n      <td>alive</td>\n      <td>444</td>\n      <td>defense</td>\n      <td>200</td>\n      <td>3700</td>\n      <td>...</td>\n      <td>Phantom</td>\n      <td>2900</td>\n      <td>3700</td>\n      <td>Viper</td>\n      <td>defense</td>\n      <td>1</td>\n      <td>0</td>\n      <td>0</td>\n      <td>0</td>\n      <td>False</td>\n    </tr>\n    <tr>\n      <th>41</th>\n      <td>43621</td>\n      <td>695328</td>\n      <td>5</td>\n      <td>1075</td>\n      <td>Bazzi</td>\n      <td>alive</td>\n      <td>444</td>\n      <td>defense</td>\n      <td>0</td>\n      <td>4600</td>\n      <td>...</td>\n      <td>Vandal</td>\n      <td>2900</td>\n      <td>4600</td>\n      <td>Sova</td>\n      <td>defense</td>\n      <td>0</td>\n      <td>0</td>\n      <td>1</td>\n      <td>0</td>\n      <td>False</td>\n    </tr>\n    <tr>\n      <th>42</th>\n      <td>43621</td>\n      <td>695328</td>\n      <td>5</td>\n      <td>1824</td>\n      <td>Fisker</td>\n      <td>alive</td>\n      <td>444</td>\n      <td>defense</td>\n      <td>200</td>\n      <td>5650</td>\n      <td>...</td>\n      <td>Operator</td>\n      <td>5000</td>\n      <td>5650</td>\n      <td>Jett</td>\n      <td>defense</td>\n      <td>0</td>\n      <td>1</td>\n      <td>0</td>\n      <td>0</td>\n      <td>True</td>\n    </tr>\n    <tr>\n      <th>45</th>\n      <td>43621</td>\n      <td>695328</td>\n      <td>5</td>\n      <td>876</td>\n      <td>Munchkin</td>\n      <td>alive</td>\n      <td>444</td>\n      <td>defense</td>\n      <td>250</td>\n      <td>4600</td>\n      <td>...</td>\n      <td>Vandal</td>\n      <td>2900</td>\n      <td>4600</td>\n      <td>KAY/O</td>\n      <td>defense</td>\n      <td>0</td>\n      <td>0</td>\n      <td>1</td>\n      <td>0</td>\n      <td>False</td>\n    </tr>\n    <tr>\n      <th>46</th>\n      <td>43621</td>\n      <td>695328</td>\n      <td>5</td>\n      <td>2388</td>\n      <td>neth</td>\n      <td>alive</td>\n      <td>444</td>\n      <td>defense</td>\n      <td>100</td>\n      <td>4700</td>\n      <td>...</td>\n      <td>Phantom</td>\n      <td>2900</td>\n      <td>4700</td>\n      <td>Sage</td>\n      <td>defense</td>\n      <td>0</td>\n      <td>0</td>\n      <td>0</td>\n      <td>1</td>\n      <td>False</td>\n    </tr>\n  </tbody>\n</table>\n<p>10 rows × 25 columns</p>\n</div>"
     },
     "execution_count": 22,
     "metadata": {},
     "output_type": "execute_result"
    }
   ],
   "source": [
    "event_amount = round_events.shape[0]\n",
    "alive_dict = {r: {} for r in range(1, event_amount+1)}\n",
    "alive_event_info = {item: \"alive\" for item in round_states[\"Player Name\"].unique()}\n",
    "for row_index in range(len(round_events)):\n",
    "    row = round_events.iloc[row_index]\n",
    "    event_index = row[\"EventIndex\"]\n",
    "    victim = row[\"VictimName\"]\n",
    "    event_type = row[\"EventType\"]\n",
    "    if event_type == \"kill\":\n",
    "        alive_event_info[victim] = \"dead\"\n",
    "    elif event_type == \"revive\":\n",
    "        alive_event_info[victim] = \"alive\"\n",
    "    alive_dict[event_index] = alive_event_info\n",
    "round_states"
   ],
   "metadata": {
    "collapsed": false,
    "pycharm": {
     "name": "#%%\n"
    }
   }
  },
  {
   "cell_type": "code",
   "execution_count": 25,
   "outputs": [
    {
     "data": {
      "text/plain": "Match ID            43621\nRound ID           695328\nRound                   5\nPlayer ID            1877\nPlayer Name           frz\nStatus              alive\nTeam ID                53\nPlayer Side        attack\nRemaining Creds      1450\nLoadout Value        4800\nAgent ID               10\nWeapon ID               4\nArmor ID                2\nShield                 50\nShield Price         1000\nWeapon Name        Vandal\nWeapon Price         2900\nUtility Value        4800\nAgent Name          Reyna\nStarting Side      attack\nController              0\nDuelist                 1\nInitiator               0\nSentinel                0\nHas Operator        False\nName: 43, dtype: object"
     },
     "execution_count": 25,
     "metadata": {},
     "output_type": "execute_result"
    }
   ],
   "source": [
    "round_states.iloc[0]"
   ],
   "metadata": {
    "collapsed": false,
    "pycharm": {
     "name": "#%%\n"
    }
   }
  }
 ],
 "metadata": {
  "kernelspec": {
   "display_name": "Python 3",
   "language": "python",
   "name": "python3"
  },
  "language_info": {
   "codemirror_mode": {
    "name": "ipython",
    "version": 2
   },
   "file_extension": ".py",
   "mimetype": "text/x-python",
   "name": "python",
   "nbconvert_exporter": "python",
   "pygments_lexer": "ipython2",
   "version": "2.7.6"
  }
 },
 "nbformat": 4,
 "nbformat_minor": 0
}