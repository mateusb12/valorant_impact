{
 "cells": [
  {
   "cell_type": "code",
   "execution_count": 1,
   "outputs": [],
   "source": [
    "import json\n",
    "import pandas as pd\n",
    "from sql_queries import ValorantQueries"
   ],
   "metadata": {
    "collapsed": false,
    "pycharm": {
     "name": "#%%\n"
    }
   }
  },
  {
   "cell_type": "code",
   "execution_count": 2,
   "outputs": [
    {
     "name": "stdout",
     "output_type": "stream",
     "text": [
      "Connected to database valorant successfully\n",
      "[('teams',), ('players',), ('events',), ('series',), ('matches',), ('rounds',), ('roundeconomies',), ('roundevents',), ('roundlocations',), ('playermapinstance',), ('assists',), ('maps',)]\n"
     ]
    }
   ],
   "source": [
    "vq = ValorantQueries()\n",
    "vq.set_match(10597)"
   ],
   "metadata": {
    "collapsed": false,
    "pycharm": {
     "name": "#%%\n"
    }
   }
  },
  {
   "cell_type": "code",
   "execution_count": 3,
   "outputs": [
    {
     "data": {
      "text/plain": "     Match ID  Round ID  Round  Player ID  Team ID Starting Side Agent Name  \\\n0       10597    172631      1       1408       78       defense     Cypher   \n1       10597    172631      1       2062       78       defense       Sova   \n2       10597    172631      1       3770      752        attack     Cypher   \n3       10597    172631      1        919      752        attack       Omen   \n4       10597    172631      1       2476      752        attack       Sova   \n..        ...       ...    ...        ...      ...           ...        ...   \n215     10597    172652     22        102       78       defense       Omen   \n216     10597    172652     22       3769      752        attack      Reyna   \n217     10597    172652     22        639       78       defense       Jett   \n218     10597    172652     22        330      752        attack       Jett   \n219     10597    172652     22       2354       78       defense    Phoenix   \n\n    Weapon Name  Weapon Price  Shield  Shield Price  Utility Value  \\\n0         Ghost           500       0             0              0   \n1       Classic             0      25           400            400   \n2        Frenzy           500       0             0            100   \n3         Ghost           500       0             0            200   \n4         Ghost           500       0             0            300   \n..          ...           ...     ...           ...            ...   \n215      Vandal          2900      50          1000            500   \n216     Stinger          1100      50          1000            700   \n217      Vandal          2900      50          1000            500   \n218     Stinger          1100      50          1000            300   \n219      Vandal          2900      50          1000            600   \n\n     Remaining Creds  Agent ID  Weapon ID  Armor ID  \n0                  0         3         12         0  \n1                  0         4         11         1  \n2                  0         3         10         0  \n3                100        11         12         0  \n4                  0         4         12         0  \n..               ...       ...        ...       ...  \n215             7400        11          4         2  \n216                0        10         19         2  \n217             1800        12          4         2  \n218              100        12         19         2  \n219             6000         7          4         2  \n\n[220 rows x 16 columns]",
      "text/html": "<div>\n<style scoped>\n    .dataframe tbody tr th:only-of-type {\n        vertical-align: middle;\n    }\n\n    .dataframe tbody tr th {\n        vertical-align: top;\n    }\n\n    .dataframe thead th {\n        text-align: right;\n    }\n</style>\n<table border=\"1\" class=\"dataframe\">\n  <thead>\n    <tr style=\"text-align: right;\">\n      <th></th>\n      <th>Match ID</th>\n      <th>Round ID</th>\n      <th>Round</th>\n      <th>Player ID</th>\n      <th>Team ID</th>\n      <th>Starting Side</th>\n      <th>Agent Name</th>\n      <th>Weapon Name</th>\n      <th>Weapon Price</th>\n      <th>Shield</th>\n      <th>Shield Price</th>\n      <th>Utility Value</th>\n      <th>Remaining Creds</th>\n      <th>Agent ID</th>\n      <th>Weapon ID</th>\n      <th>Armor ID</th>\n    </tr>\n  </thead>\n  <tbody>\n    <tr>\n      <th>0</th>\n      <td>10597</td>\n      <td>172631</td>\n      <td>1</td>\n      <td>1408</td>\n      <td>78</td>\n      <td>defense</td>\n      <td>Cypher</td>\n      <td>Ghost</td>\n      <td>500</td>\n      <td>0</td>\n      <td>0</td>\n      <td>0</td>\n      <td>0</td>\n      <td>3</td>\n      <td>12</td>\n      <td>0</td>\n    </tr>\n    <tr>\n      <th>1</th>\n      <td>10597</td>\n      <td>172631</td>\n      <td>1</td>\n      <td>2062</td>\n      <td>78</td>\n      <td>defense</td>\n      <td>Sova</td>\n      <td>Classic</td>\n      <td>0</td>\n      <td>25</td>\n      <td>400</td>\n      <td>400</td>\n      <td>0</td>\n      <td>4</td>\n      <td>11</td>\n      <td>1</td>\n    </tr>\n    <tr>\n      <th>2</th>\n      <td>10597</td>\n      <td>172631</td>\n      <td>1</td>\n      <td>3770</td>\n      <td>752</td>\n      <td>attack</td>\n      <td>Cypher</td>\n      <td>Frenzy</td>\n      <td>500</td>\n      <td>0</td>\n      <td>0</td>\n      <td>100</td>\n      <td>0</td>\n      <td>3</td>\n      <td>10</td>\n      <td>0</td>\n    </tr>\n    <tr>\n      <th>3</th>\n      <td>10597</td>\n      <td>172631</td>\n      <td>1</td>\n      <td>919</td>\n      <td>752</td>\n      <td>attack</td>\n      <td>Omen</td>\n      <td>Ghost</td>\n      <td>500</td>\n      <td>0</td>\n      <td>0</td>\n      <td>200</td>\n      <td>100</td>\n      <td>11</td>\n      <td>12</td>\n      <td>0</td>\n    </tr>\n    <tr>\n      <th>4</th>\n      <td>10597</td>\n      <td>172631</td>\n      <td>1</td>\n      <td>2476</td>\n      <td>752</td>\n      <td>attack</td>\n      <td>Sova</td>\n      <td>Ghost</td>\n      <td>500</td>\n      <td>0</td>\n      <td>0</td>\n      <td>300</td>\n      <td>0</td>\n      <td>4</td>\n      <td>12</td>\n      <td>0</td>\n    </tr>\n    <tr>\n      <th>...</th>\n      <td>...</td>\n      <td>...</td>\n      <td>...</td>\n      <td>...</td>\n      <td>...</td>\n      <td>...</td>\n      <td>...</td>\n      <td>...</td>\n      <td>...</td>\n      <td>...</td>\n      <td>...</td>\n      <td>...</td>\n      <td>...</td>\n      <td>...</td>\n      <td>...</td>\n      <td>...</td>\n    </tr>\n    <tr>\n      <th>215</th>\n      <td>10597</td>\n      <td>172652</td>\n      <td>22</td>\n      <td>102</td>\n      <td>78</td>\n      <td>defense</td>\n      <td>Omen</td>\n      <td>Vandal</td>\n      <td>2900</td>\n      <td>50</td>\n      <td>1000</td>\n      <td>500</td>\n      <td>7400</td>\n      <td>11</td>\n      <td>4</td>\n      <td>2</td>\n    </tr>\n    <tr>\n      <th>216</th>\n      <td>10597</td>\n      <td>172652</td>\n      <td>22</td>\n      <td>3769</td>\n      <td>752</td>\n      <td>attack</td>\n      <td>Reyna</td>\n      <td>Stinger</td>\n      <td>1100</td>\n      <td>50</td>\n      <td>1000</td>\n      <td>700</td>\n      <td>0</td>\n      <td>10</td>\n      <td>19</td>\n      <td>2</td>\n    </tr>\n    <tr>\n      <th>217</th>\n      <td>10597</td>\n      <td>172652</td>\n      <td>22</td>\n      <td>639</td>\n      <td>78</td>\n      <td>defense</td>\n      <td>Jett</td>\n      <td>Vandal</td>\n      <td>2900</td>\n      <td>50</td>\n      <td>1000</td>\n      <td>500</td>\n      <td>1800</td>\n      <td>12</td>\n      <td>4</td>\n      <td>2</td>\n    </tr>\n    <tr>\n      <th>218</th>\n      <td>10597</td>\n      <td>172652</td>\n      <td>22</td>\n      <td>330</td>\n      <td>752</td>\n      <td>attack</td>\n      <td>Jett</td>\n      <td>Stinger</td>\n      <td>1100</td>\n      <td>50</td>\n      <td>1000</td>\n      <td>300</td>\n      <td>100</td>\n      <td>12</td>\n      <td>19</td>\n      <td>2</td>\n    </tr>\n    <tr>\n      <th>219</th>\n      <td>10597</td>\n      <td>172652</td>\n      <td>22</td>\n      <td>2354</td>\n      <td>78</td>\n      <td>defense</td>\n      <td>Phoenix</td>\n      <td>Vandal</td>\n      <td>2900</td>\n      <td>50</td>\n      <td>1000</td>\n      <td>600</td>\n      <td>6000</td>\n      <td>7</td>\n      <td>4</td>\n      <td>2</td>\n    </tr>\n  </tbody>\n</table>\n<p>220 rows × 16 columns</p>\n</div>"
     },
     "execution_count": 3,
     "metadata": {},
     "output_type": "execute_result"
    }
   ],
   "source": [
    "side_table = vq.get_side_info()\n",
    "side_dict = {side_table[\"attacking_first\"]: \"attack\", side_table[\"defending_first\"]: \"defense\"}\n",
    "vq.get_player_economy()"
   ],
   "metadata": {
    "collapsed": false,
    "pycharm": {
     "name": "#%%\n"
    }
   }
  },
  {
   "cell_type": "markdown",
   "source": [
    "### AAA"
   ],
   "metadata": {
    "collapsed": false,
    "pycharm": {
     "name": "#%% md\n"
    }
   }
  },
  {
   "cell_type": "code",
   "execution_count": 3,
   "outputs": [
    {
     "data": {
      "text/plain": "Remaining Creds    11200\nShield               250\nWeapon Price       16600\nUtility Value       2600\nName: 752, dtype: int64"
     },
     "execution_count": 3,
     "metadata": {},
     "output_type": "execute_result"
    }
   ],
   "source": [
    "loadouts_df = vq.get_player_economy()\n",
    "side_info = vq.get_side_info()\n",
    "team_a: int = side_info[\"team_a\"]\n",
    "team_b: int = side_info[\"team_b\"]\n",
    "attacking_first = side_info[\"attacking_first\"]\n",
    "defending_first = side_info[\"defending_first\"]\n",
    "events = vq.get_events()\n",
    "gamestate_df = pd.DataFrame(columns=['MatchID', 'MapName', 'ATK_Bank', 'ATK_Guns', 'ATK_Shields', 'ATK_Utility'])\n",
    "# Get all gamestate_df rows where Round == 1\n",
    "\n",
    "def get_round_initial_gamestate(round_num: int, chosen_team: int) -> pd.Series:\n",
    "    sliced = loadouts_df[loadouts_df['Round'] == round_num]\n",
    "    sliced = sliced[sliced['Team ID'] == chosen_team]\n",
    "    atk_sum = sliced.groupby(['Team ID']).sum()\n",
    "    return atk_sum[[\"Remaining Creds\", \"Shield\", \"Weapon Price\", \"Utility Value\"]].iloc[0]\n",
    "\n",
    "get_round_initial_gamestate(5, attacking_first)"
   ],
   "metadata": {
    "collapsed": false,
    "pycharm": {
     "name": "#%%\n"
    }
   }
  },
  {
   "cell_type": "code",
   "execution_count": 4,
   "outputs": [
    {
     "data": {
      "text/plain": "     Match ID  Round ID  Round  Player ID  Team ID  Remaining Creds  \\\n0       10597    172631      1       1408       78                0   \n1       10597    172631      1       2062       78                0   \n2       10597    172631      1       3770      752                0   \n3       10597    172631      1        919      752              100   \n4       10597    172631      1       2476      752                0   \n..        ...       ...    ...        ...      ...              ...   \n215     10597    172652     22        102       78             7400   \n216     10597    172652     22       3769      752                0   \n217     10597    172652     22        639       78             1800   \n218     10597    172652     22        330      752              100   \n219     10597    172652     22       2354       78             6000   \n\n     Loadout Value  Agent ID  Weapon ID  Armor ID  Shield  Shield Price  \\\n0              500         3         12         0       0             0   \n1              800         4         11         1      25           400   \n2              600         3         10         0       0             0   \n3              700        11         12         0       0             0   \n4              800         4         12         0       0             0   \n..             ...       ...        ...       ...     ...           ...   \n215           4400        11          4         2      50          1000   \n216           2800        10         19         2      50          1000   \n217           4400        12          4         2      50          1000   \n218           2400        12         19         2      50          1000   \n219           4500         7          4         2      50          1000   \n\n    Weapon Name  Weapon Price  Utility Value  \n0         Ghost           500              0  \n1       Classic             0            400  \n2        Frenzy           500            100  \n3         Ghost           500            200  \n4         Ghost           500            300  \n..          ...           ...            ...  \n215      Vandal          2900            500  \n216     Stinger          1100            700  \n217      Vandal          2900            500  \n218     Stinger          1100            300  \n219      Vandal          2900            600  \n\n[220 rows x 15 columns]",
      "text/html": "<div>\n<style scoped>\n    .dataframe tbody tr th:only-of-type {\n        vertical-align: middle;\n    }\n\n    .dataframe tbody tr th {\n        vertical-align: top;\n    }\n\n    .dataframe thead th {\n        text-align: right;\n    }\n</style>\n<table border=\"1\" class=\"dataframe\">\n  <thead>\n    <tr style=\"text-align: right;\">\n      <th></th>\n      <th>Match ID</th>\n      <th>Round ID</th>\n      <th>Round</th>\n      <th>Player ID</th>\n      <th>Team ID</th>\n      <th>Remaining Creds</th>\n      <th>Loadout Value</th>\n      <th>Agent ID</th>\n      <th>Weapon ID</th>\n      <th>Armor ID</th>\n      <th>Shield</th>\n      <th>Shield Price</th>\n      <th>Weapon Name</th>\n      <th>Weapon Price</th>\n      <th>Utility Value</th>\n    </tr>\n  </thead>\n  <tbody>\n    <tr>\n      <th>0</th>\n      <td>10597</td>\n      <td>172631</td>\n      <td>1</td>\n      <td>1408</td>\n      <td>78</td>\n      <td>0</td>\n      <td>500</td>\n      <td>3</td>\n      <td>12</td>\n      <td>0</td>\n      <td>0</td>\n      <td>0</td>\n      <td>Ghost</td>\n      <td>500</td>\n      <td>0</td>\n    </tr>\n    <tr>\n      <th>1</th>\n      <td>10597</td>\n      <td>172631</td>\n      <td>1</td>\n      <td>2062</td>\n      <td>78</td>\n      <td>0</td>\n      <td>800</td>\n      <td>4</td>\n      <td>11</td>\n      <td>1</td>\n      <td>25</td>\n      <td>400</td>\n      <td>Classic</td>\n      <td>0</td>\n      <td>400</td>\n    </tr>\n    <tr>\n      <th>2</th>\n      <td>10597</td>\n      <td>172631</td>\n      <td>1</td>\n      <td>3770</td>\n      <td>752</td>\n      <td>0</td>\n      <td>600</td>\n      <td>3</td>\n      <td>10</td>\n      <td>0</td>\n      <td>0</td>\n      <td>0</td>\n      <td>Frenzy</td>\n      <td>500</td>\n      <td>100</td>\n    </tr>\n    <tr>\n      <th>3</th>\n      <td>10597</td>\n      <td>172631</td>\n      <td>1</td>\n      <td>919</td>\n      <td>752</td>\n      <td>100</td>\n      <td>700</td>\n      <td>11</td>\n      <td>12</td>\n      <td>0</td>\n      <td>0</td>\n      <td>0</td>\n      <td>Ghost</td>\n      <td>500</td>\n      <td>200</td>\n    </tr>\n    <tr>\n      <th>4</th>\n      <td>10597</td>\n      <td>172631</td>\n      <td>1</td>\n      <td>2476</td>\n      <td>752</td>\n      <td>0</td>\n      <td>800</td>\n      <td>4</td>\n      <td>12</td>\n      <td>0</td>\n      <td>0</td>\n      <td>0</td>\n      <td>Ghost</td>\n      <td>500</td>\n      <td>300</td>\n    </tr>\n    <tr>\n      <th>...</th>\n      <td>...</td>\n      <td>...</td>\n      <td>...</td>\n      <td>...</td>\n      <td>...</td>\n      <td>...</td>\n      <td>...</td>\n      <td>...</td>\n      <td>...</td>\n      <td>...</td>\n      <td>...</td>\n      <td>...</td>\n      <td>...</td>\n      <td>...</td>\n      <td>...</td>\n    </tr>\n    <tr>\n      <th>215</th>\n      <td>10597</td>\n      <td>172652</td>\n      <td>22</td>\n      <td>102</td>\n      <td>78</td>\n      <td>7400</td>\n      <td>4400</td>\n      <td>11</td>\n      <td>4</td>\n      <td>2</td>\n      <td>50</td>\n      <td>1000</td>\n      <td>Vandal</td>\n      <td>2900</td>\n      <td>500</td>\n    </tr>\n    <tr>\n      <th>216</th>\n      <td>10597</td>\n      <td>172652</td>\n      <td>22</td>\n      <td>3769</td>\n      <td>752</td>\n      <td>0</td>\n      <td>2800</td>\n      <td>10</td>\n      <td>19</td>\n      <td>2</td>\n      <td>50</td>\n      <td>1000</td>\n      <td>Stinger</td>\n      <td>1100</td>\n      <td>700</td>\n    </tr>\n    <tr>\n      <th>217</th>\n      <td>10597</td>\n      <td>172652</td>\n      <td>22</td>\n      <td>639</td>\n      <td>78</td>\n      <td>1800</td>\n      <td>4400</td>\n      <td>12</td>\n      <td>4</td>\n      <td>2</td>\n      <td>50</td>\n      <td>1000</td>\n      <td>Vandal</td>\n      <td>2900</td>\n      <td>500</td>\n    </tr>\n    <tr>\n      <th>218</th>\n      <td>10597</td>\n      <td>172652</td>\n      <td>22</td>\n      <td>330</td>\n      <td>752</td>\n      <td>100</td>\n      <td>2400</td>\n      <td>12</td>\n      <td>19</td>\n      <td>2</td>\n      <td>50</td>\n      <td>1000</td>\n      <td>Stinger</td>\n      <td>1100</td>\n      <td>300</td>\n    </tr>\n    <tr>\n      <th>219</th>\n      <td>10597</td>\n      <td>172652</td>\n      <td>22</td>\n      <td>2354</td>\n      <td>78</td>\n      <td>6000</td>\n      <td>4500</td>\n      <td>7</td>\n      <td>4</td>\n      <td>2</td>\n      <td>50</td>\n      <td>1000</td>\n      <td>Vandal</td>\n      <td>2900</td>\n      <td>600</td>\n    </tr>\n  </tbody>\n</table>\n<p>220 rows × 15 columns</p>\n</div>"
     },
     "execution_count": 4,
     "metadata": {},
     "output_type": "execute_result"
    }
   ],
   "source": [
    "loadouts_df"
   ],
   "metadata": {
    "collapsed": false,
    "pycharm": {
     "name": "#%%\n"
    }
   }
  },
  {
   "cell_type": "code",
   "execution_count": 5,
   "outputs": [
    {
     "ename": "KeyError",
     "evalue": "'AgentID'",
     "output_type": "error",
     "traceback": [
      "\u001B[1;31m---------------------------------------------------------------------------\u001B[0m",
      "\u001B[1;31mKeyError\u001B[0m                                  Traceback (most recent call last)",
      "\u001B[1;32mc:\\users\\mateu\\appdata\\local\\programs\\python\\python38\\lib\\site-packages\\pandas\\core\\indexes\\base.py\u001B[0m in \u001B[0;36mget_loc\u001B[1;34m(self, key, method, tolerance)\u001B[0m\n\u001B[0;32m   3079\u001B[0m             \u001B[1;32mtry\u001B[0m\u001B[1;33m:\u001B[0m\u001B[1;33m\u001B[0m\u001B[1;33m\u001B[0m\u001B[0m\n\u001B[1;32m-> 3080\u001B[1;33m                 \u001B[1;32mreturn\u001B[0m \u001B[0mself\u001B[0m\u001B[1;33m.\u001B[0m\u001B[0m_engine\u001B[0m\u001B[1;33m.\u001B[0m\u001B[0mget_loc\u001B[0m\u001B[1;33m(\u001B[0m\u001B[0mcasted_key\u001B[0m\u001B[1;33m)\u001B[0m\u001B[1;33m\u001B[0m\u001B[1;33m\u001B[0m\u001B[0m\n\u001B[0m\u001B[0;32m   3081\u001B[0m             \u001B[1;32mexcept\u001B[0m \u001B[0mKeyError\u001B[0m \u001B[1;32mas\u001B[0m \u001B[0merr\u001B[0m\u001B[1;33m:\u001B[0m\u001B[1;33m\u001B[0m\u001B[1;33m\u001B[0m\u001B[0m\n",
      "\u001B[1;32mpandas\\_libs\\index.pyx\u001B[0m in \u001B[0;36mpandas._libs.index.IndexEngine.get_loc\u001B[1;34m()\u001B[0m\n",
      "\u001B[1;32mpandas\\_libs\\index.pyx\u001B[0m in \u001B[0;36mpandas._libs.index.IndexEngine.get_loc\u001B[1;34m()\u001B[0m\n",
      "\u001B[1;32mpandas\\_libs\\hashtable_class_helper.pxi\u001B[0m in \u001B[0;36mpandas._libs.hashtable.PyObjectHashTable.get_item\u001B[1;34m()\u001B[0m\n",
      "\u001B[1;32mpandas\\_libs\\hashtable_class_helper.pxi\u001B[0m in \u001B[0;36mpandas._libs.hashtable.PyObjectHashTable.get_item\u001B[1;34m()\u001B[0m\n",
      "\u001B[1;31mKeyError\u001B[0m: 'AgentID'",
      "\nThe above exception was the direct cause of the following exception:\n",
      "\u001B[1;31mKeyError\u001B[0m                                  Traceback (most recent call last)",
      "\u001B[1;32m<ipython-input-5-f084db3bb6c2>\u001B[0m in \u001B[0;36m<module>\u001B[1;34m\u001B[0m\n\u001B[1;32m----> 1\u001B[1;33m \u001B[0mvq\u001B[0m\u001B[1;33m.\u001B[0m\u001B[0mget_team_economy\u001B[0m\u001B[1;33m(\u001B[0m\u001B[1;33m)\u001B[0m\u001B[1;33m\u001B[0m\u001B[1;33m\u001B[0m\u001B[0m\n\u001B[0m\u001B[0;32m      2\u001B[0m \u001B[1;33m\u001B[0m\u001B[0m\n\u001B[0;32m      3\u001B[0m \u001B[1;31m#player_dict = list(loadouts_df[\"Player ID\"].unique())\u001B[0m\u001B[1;33m\u001B[0m\u001B[1;33m\u001B[0m\u001B[1;33m\u001B[0m\u001B[0m\n\u001B[0;32m      4\u001B[0m \u001B[1;31m#agent_dict = {int(key): value[\"name\"] for key, value in vq.agent_data.items()}\u001B[0m\u001B[1;33m\u001B[0m\u001B[1;33m\u001B[0m\u001B[1;33m\u001B[0m\u001B[0m\n\u001B[0;32m      5\u001B[0m \u001B[1;31m#loadouts_df[\"AgentName\"] = loadouts_df['Agent ID'].map(agent_dict)\u001B[0m\u001B[1;33m\u001B[0m\u001B[1;33m\u001B[0m\u001B[1;33m\u001B[0m\u001B[0m\n",
      "\u001B[1;32mD:\\Python\\Classification_datascience\\webscrapping\\database\\sql_queries.py\u001B[0m in \u001B[0;36mget_team_economy\u001B[1;34m(self)\u001B[0m\n\u001B[0;32m    202\u001B[0m         \u001B[0mfinal_df\u001B[0m\u001B[1;33m[\u001B[0m\u001B[1;34m\"Economy\"\u001B[0m\u001B[1;33m]\u001B[0m \u001B[1;33m=\u001B[0m \u001B[0mfinal_df\u001B[0m\u001B[1;33m[\u001B[0m\u001B[1;34m\"Remaining Creds\"\u001B[0m\u001B[1;33m]\u001B[0m \u001B[1;33m+\u001B[0m \u001B[0mfinal_df\u001B[0m\u001B[1;33m[\u001B[0m\u001B[1;34m\"Loadout Value\"\u001B[0m\u001B[1;33m]\u001B[0m\u001B[1;33m\u001B[0m\u001B[1;33m\u001B[0m\u001B[0m\n\u001B[0;32m    203\u001B[0m         \u001B[0magent_dict\u001B[0m \u001B[1;33m=\u001B[0m \u001B[1;33m{\u001B[0m\u001B[0mint\u001B[0m\u001B[1;33m(\u001B[0m\u001B[0mkey\u001B[0m\u001B[1;33m)\u001B[0m\u001B[1;33m:\u001B[0m \u001B[0mvalue\u001B[0m\u001B[1;33m[\u001B[0m\u001B[1;34m\"name\"\u001B[0m\u001B[1;33m]\u001B[0m \u001B[1;32mfor\u001B[0m \u001B[0mkey\u001B[0m\u001B[1;33m,\u001B[0m \u001B[0mvalue\u001B[0m \u001B[1;32min\u001B[0m \u001B[0mself\u001B[0m\u001B[1;33m.\u001B[0m\u001B[0magent_data\u001B[0m\u001B[1;33m.\u001B[0m\u001B[0mitems\u001B[0m\u001B[1;33m(\u001B[0m\u001B[1;33m)\u001B[0m\u001B[1;33m}\u001B[0m\u001B[1;33m\u001B[0m\u001B[1;33m\u001B[0m\u001B[0m\n\u001B[1;32m--> 204\u001B[1;33m         \u001B[0mfinal_df\u001B[0m\u001B[1;33m[\u001B[0m\u001B[1;34m\"AgentName\"\u001B[0m\u001B[1;33m]\u001B[0m \u001B[1;33m=\u001B[0m \u001B[0mfinal_df\u001B[0m\u001B[1;33m[\u001B[0m\u001B[1;34m'AgentID'\u001B[0m\u001B[1;33m]\u001B[0m\u001B[1;33m.\u001B[0m\u001B[0mmap\u001B[0m\u001B[1;33m(\u001B[0m\u001B[0magent_dict\u001B[0m\u001B[1;33m)\u001B[0m\u001B[1;33m\u001B[0m\u001B[1;33m\u001B[0m\u001B[0m\n\u001B[0m\u001B[0;32m    205\u001B[0m         \u001B[0mcol\u001B[0m \u001B[1;33m=\u001B[0m \u001B[0mfinal_df\u001B[0m\u001B[1;33m.\u001B[0m\u001B[0mpop\u001B[0m\u001B[1;33m(\u001B[0m\u001B[1;34m\"AgentName\"\u001B[0m\u001B[1;33m)\u001B[0m\u001B[1;33m\u001B[0m\u001B[1;33m\u001B[0m\u001B[0m\n\u001B[0;32m    206\u001B[0m         \u001B[0mfinal_df\u001B[0m\u001B[1;33m.\u001B[0m\u001B[0minsert\u001B[0m\u001B[1;33m(\u001B[0m\u001B[1;36m4\u001B[0m\u001B[1;33m,\u001B[0m \u001B[0mcol\u001B[0m\u001B[1;33m.\u001B[0m\u001B[0mname\u001B[0m\u001B[1;33m,\u001B[0m \u001B[0mcol\u001B[0m\u001B[1;33m)\u001B[0m\u001B[1;33m\u001B[0m\u001B[1;33m\u001B[0m\u001B[0m\n",
      "\u001B[1;32mc:\\users\\mateu\\appdata\\local\\programs\\python\\python38\\lib\\site-packages\\pandas\\core\\frame.py\u001B[0m in \u001B[0;36m__getitem__\u001B[1;34m(self, key)\u001B[0m\n\u001B[0;32m   3022\u001B[0m             \u001B[1;32mif\u001B[0m \u001B[0mself\u001B[0m\u001B[1;33m.\u001B[0m\u001B[0mcolumns\u001B[0m\u001B[1;33m.\u001B[0m\u001B[0mnlevels\u001B[0m \u001B[1;33m>\u001B[0m \u001B[1;36m1\u001B[0m\u001B[1;33m:\u001B[0m\u001B[1;33m\u001B[0m\u001B[1;33m\u001B[0m\u001B[0m\n\u001B[0;32m   3023\u001B[0m                 \u001B[1;32mreturn\u001B[0m \u001B[0mself\u001B[0m\u001B[1;33m.\u001B[0m\u001B[0m_getitem_multilevel\u001B[0m\u001B[1;33m(\u001B[0m\u001B[0mkey\u001B[0m\u001B[1;33m)\u001B[0m\u001B[1;33m\u001B[0m\u001B[1;33m\u001B[0m\u001B[0m\n\u001B[1;32m-> 3024\u001B[1;33m             \u001B[0mindexer\u001B[0m \u001B[1;33m=\u001B[0m \u001B[0mself\u001B[0m\u001B[1;33m.\u001B[0m\u001B[0mcolumns\u001B[0m\u001B[1;33m.\u001B[0m\u001B[0mget_loc\u001B[0m\u001B[1;33m(\u001B[0m\u001B[0mkey\u001B[0m\u001B[1;33m)\u001B[0m\u001B[1;33m\u001B[0m\u001B[1;33m\u001B[0m\u001B[0m\n\u001B[0m\u001B[0;32m   3025\u001B[0m             \u001B[1;32mif\u001B[0m \u001B[0mis_integer\u001B[0m\u001B[1;33m(\u001B[0m\u001B[0mindexer\u001B[0m\u001B[1;33m)\u001B[0m\u001B[1;33m:\u001B[0m\u001B[1;33m\u001B[0m\u001B[1;33m\u001B[0m\u001B[0m\n\u001B[0;32m   3026\u001B[0m                 \u001B[0mindexer\u001B[0m \u001B[1;33m=\u001B[0m \u001B[1;33m[\u001B[0m\u001B[0mindexer\u001B[0m\u001B[1;33m]\u001B[0m\u001B[1;33m\u001B[0m\u001B[1;33m\u001B[0m\u001B[0m\n",
      "\u001B[1;32mc:\\users\\mateu\\appdata\\local\\programs\\python\\python38\\lib\\site-packages\\pandas\\core\\indexes\\base.py\u001B[0m in \u001B[0;36mget_loc\u001B[1;34m(self, key, method, tolerance)\u001B[0m\n\u001B[0;32m   3080\u001B[0m                 \u001B[1;32mreturn\u001B[0m \u001B[0mself\u001B[0m\u001B[1;33m.\u001B[0m\u001B[0m_engine\u001B[0m\u001B[1;33m.\u001B[0m\u001B[0mget_loc\u001B[0m\u001B[1;33m(\u001B[0m\u001B[0mcasted_key\u001B[0m\u001B[1;33m)\u001B[0m\u001B[1;33m\u001B[0m\u001B[1;33m\u001B[0m\u001B[0m\n\u001B[0;32m   3081\u001B[0m             \u001B[1;32mexcept\u001B[0m \u001B[0mKeyError\u001B[0m \u001B[1;32mas\u001B[0m \u001B[0merr\u001B[0m\u001B[1;33m:\u001B[0m\u001B[1;33m\u001B[0m\u001B[1;33m\u001B[0m\u001B[0m\n\u001B[1;32m-> 3082\u001B[1;33m                 \u001B[1;32mraise\u001B[0m \u001B[0mKeyError\u001B[0m\u001B[1;33m(\u001B[0m\u001B[0mkey\u001B[0m\u001B[1;33m)\u001B[0m \u001B[1;32mfrom\u001B[0m \u001B[0merr\u001B[0m\u001B[1;33m\u001B[0m\u001B[1;33m\u001B[0m\u001B[0m\n\u001B[0m\u001B[0;32m   3083\u001B[0m \u001B[1;33m\u001B[0m\u001B[0m\n\u001B[0;32m   3084\u001B[0m         \u001B[1;32mif\u001B[0m \u001B[0mtolerance\u001B[0m \u001B[1;32mis\u001B[0m \u001B[1;32mnot\u001B[0m \u001B[1;32mNone\u001B[0m\u001B[1;33m:\u001B[0m\u001B[1;33m\u001B[0m\u001B[1;33m\u001B[0m\u001B[0m\n",
      "\u001B[1;31mKeyError\u001B[0m: 'AgentID'"
     ]
    }
   ],
   "source": [
    "vq.get_team_economy()\n",
    "\n",
    "#player_dict = list(loadouts_df[\"Player ID\"].unique())\n",
    "#agent_dict = {int(key): value[\"name\"] for key, value in vq.agent_data.items()}\n",
    "#loadouts_df[\"AgentName\"] = loadouts_df['Agent ID'].map(agent_dict)\n",
    "#col = loadouts_df.pop(\"AgentName\")\n",
    "#loadouts_df.insert(4, col.name, col)\n",
    "#round_num = 5\n",
    "#chosen_round = loadouts_df[loadouts_df['Round'] == round_num]\n",
    "#chosen_round"
   ],
   "metadata": {
    "collapsed": false,
    "pycharm": {
     "name": "#%%\n"
    }
   }
  },
  {
   "cell_type": "code",
   "execution_count": null,
   "outputs": [],
   "source": [],
   "metadata": {
    "collapsed": false,
    "pycharm": {
     "name": "#%%\n"
    }
   }
  }
 ],
 "metadata": {
  "kernelspec": {
   "display_name": "Python 3",
   "language": "python",
   "name": "python3"
  },
  "language_info": {
   "codemirror_mode": {
    "name": "ipython",
    "version": 2
   },
   "file_extension": ".py",
   "mimetype": "text/x-python",
   "name": "python",
   "nbconvert_exporter": "python",
   "pygments_lexer": "ipython2",
   "version": "2.7.6"
  }
 },
 "nbformat": 4,
 "nbformat_minor": 0
}