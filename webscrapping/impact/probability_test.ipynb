{
 "cells": [
  {
   "cell_type": "code",
   "execution_count": 23,
   "metadata": {
    "collapsed": true
   },
   "outputs": [
    {
     "name": "stdout",
     "output_type": "stream",
     "text": [
      "[LightGBM] [Warning] min_data_in_leaf is set=99, min_child_samples=20 will be ignored. Current value: min_data_in_leaf=99\n",
      "[LightGBM] [Warning] min_sum_hessian_in_leaf is set=3, min_child_weight=0.001 will be ignored. Current value: min_sum_hessian_in_leaf=3\n",
      "[LightGBM] [Warning] num_threads is set=4, n_jobs=-1 will be ignored. Current value: num_threads=4\n",
      "[LightGBM] [Warning] bagging_freq is set=6, subsample_freq=0 will be ignored. Current value: bagging_freq=6\n"
     ]
    }
   ],
   "source": [
    "from webscrapping.model.lgbm_model import get_trained_model\n",
    "\n",
    "vm = get_trained_model()"
   ]
  },
  {
   "cell_type": "code",
   "execution_count": 30,
   "outputs": [
    {
     "name": "stdout",
     "output_type": "stream",
     "text": [
      "Analyser created!\n"
     ]
    },
    {
     "data": {
      "text/plain": "{'RegularTime': 44,\n 'SpikeTime': 0,\n 'ATK_loadoutValue': 22450,\n 'ATK_operators': 0,\n 'ATK_Initiator': 2,\n 'ATK_Duelist': 1,\n 'ATK_Sentinel': 1,\n 'ATK_Controller': 1,\n 'DEF_loadoutValue': 20100,\n 'DEF_operators': 1,\n 'DEF_Initiator': 2,\n 'DEF_Duelist': 1,\n 'DEF_Sentinel': 0,\n 'DEF_Controller': 1}"
     },
     "execution_count": 30,
     "metadata": {},
     "output_type": "execute_result"
    }
   ],
   "source": [
    "leaf_stax = vm.query_example(match=44866, round_=7, timing=44)\n",
    "leaf_stax"
   ],
   "metadata": {
    "collapsed": false,
    "pycharm": {
     "name": "#%%\n"
    }
   }
  },
  {
   "cell_type": "code",
   "execution_count": 28,
   "outputs": [
    {
     "data": {
      "text/plain": "0.8054687001486441"
     },
     "execution_count": 28,
     "metadata": {},
     "output_type": "execute_result"
    }
   ],
   "source": [
    "vm.test_probability(leaf_stax)"
   ],
   "metadata": {
    "collapsed": false,
    "pycharm": {
     "name": "#%%\n"
    }
   }
  },
  {
   "cell_type": "code",
   "execution_count": 59,
   "outputs": [
    {
     "data": {
      "text/plain": "0.4900011804094436"
     },
     "execution_count": 59,
     "metadata": {},
     "output_type": "execute_result"
    }
   ],
   "source": [
    "custom_leaf_stax = {\"RegularTime\": 90, \"SpikeTime\": 0,\n",
    "                    \"ATK_loadoutValue\": 22450, \"ATK_operators\": 0,\n",
    "                    \"ATK_Initiator\": 2, \"ATK_Duelist\": 1, \"ATK_Sentinel\": 1, \"ATK_Controller\": 1,\n",
    "                    \"DEF_loadoutValue\": 23950, \"DEF_operators\": 1,\n",
    "                    \"DEF_Initiator\": 1, \"DEF_Duelist\": 1, \"DEF_Sentinel\": 1, \"DEF_Controller\": 1}\n",
    "\n",
    "1 - vm.test_probability(custom_leaf_stax)"
   ],
   "metadata": {
    "collapsed": false,
    "pycharm": {
     "name": "#%%\n"
    }
   }
  }
 ],
 "metadata": {
  "kernelspec": {
   "display_name": "Python 3",
   "language": "python",
   "name": "python3"
  },
  "language_info": {
   "codemirror_mode": {
    "name": "ipython",
    "version": 2
   },
   "file_extension": ".py",
   "mimetype": "text/x-python",
   "name": "python",
   "nbconvert_exporter": "python",
   "pygments_lexer": "ipython2",
   "version": "2.7.6"
  }
 },
 "nbformat": 4,
 "nbformat_minor": 0
}