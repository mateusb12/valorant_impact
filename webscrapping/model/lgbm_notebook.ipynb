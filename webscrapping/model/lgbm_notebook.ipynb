{
 "cells": [
  {
   "cell_type": "markdown",
   "metadata": {
    "collapsed": true,
    "pycharm": {
     "name": "#%% md\n"
    }
   },
   "source": [
    "## Imports"
   ]
  },
  {
   "cell_type": "code",
   "execution_count": 5,
   "outputs": [],
   "source": [
    "from webscrapping.database.sql_queries import ValorantQueries\n",
    "from webscrapping.impact.match_analysis import train_model\n",
    "from webscrapping.model.lgbm_model import ValorantLGBM\n",
    "from webscrapping.model.analyse_json import Analyser\n",
    "\n",
    "import pandas as pd\n",
    "from random import sample\n",
    "from typing import List"
   ],
   "metadata": {
    "collapsed": false,
    "pycharm": {
     "name": "#%%\n"
    }
   }
  },
  {
   "cell_type": "markdown",
   "source": [
    "## Dataset"
   ],
   "metadata": {
    "collapsed": false,
    "pycharm": {
     "name": "#%% md\n"
    }
   }
  },
  {
   "cell_type": "code",
   "execution_count": 11,
   "outputs": [
    {
     "name": "stdout",
     "output_type": "stream",
     "text": [
      "Analyser created!\n"
     ]
    }
   ],
   "source": [
    "vm = ValorantLGBM(\"500.csv\")\n",
    "a = Analyser()\n",
    "a.set_match(44795)\n",
    "vm.set_default_features_without_multicollinearity()\n",
    "vm.train_model()\n",
    "model = vm.model"
   ],
   "metadata": {
    "collapsed": false,
    "pycharm": {
     "name": "#%%\n"
    }
   }
  },
  {
   "cell_type": "code",
   "execution_count": 27,
   "outputs": [
    {
     "data": {
      "text/plain": "     RegularTime  SpikeTime  ATK_loadoutValue  ATK_operators  ATK_Initiator  \\\n95             0          0             26850              1              2   \n96            50          0             19750              0              2   \n97            65          0             19750              0              2   \n98            66          0             19750              0              2   \n99            68          0             14350              0              1   \n100           69          0             14350              0              1   \n101           70          0              9750              0              1   \n102           83          0              5400              0              1   \n103           90          0                 0              0              0   \n\n     ATK_Duelist  ATK_Sentinel  ATK_Controller  DEF_loadoutValue  \\\n95             1             1               1             16850   \n96             1             0               1             16850   \n97             1             0               1             12150   \n98             1             0               1              8150   \n99             1             0               1              8150   \n100            1             0               1              6250   \n101            0             0               1              6250   \n102            0             0               0              6250   \n103            0             0               0              6250   \n\n     DEF_operators  DEF_Initiator  DEF_Duelist  DEF_Sentinel  DEF_Controller  \n95               0              0            2             2               1  \n96               0              0            2             2               1  \n97               0              0            2             1               1  \n98               0              0            1             1               1  \n99               0              0            1             1               1  \n100              0              0            1             0               1  \n101              0              0            1             0               1  \n102              0              0            1             0               1  \n103              0              0            1             0               1  ",
      "text/html": "<div>\n<style scoped>\n    .dataframe tbody tr th:only-of-type {\n        vertical-align: middle;\n    }\n\n    .dataframe tbody tr th {\n        vertical-align: top;\n    }\n\n    .dataframe thead th {\n        text-align: right;\n    }\n</style>\n<table border=\"1\" class=\"dataframe\">\n  <thead>\n    <tr style=\"text-align: right;\">\n      <th></th>\n      <th>RegularTime</th>\n      <th>SpikeTime</th>\n      <th>ATK_loadoutValue</th>\n      <th>ATK_operators</th>\n      <th>ATK_Initiator</th>\n      <th>ATK_Duelist</th>\n      <th>ATK_Sentinel</th>\n      <th>ATK_Controller</th>\n      <th>DEF_loadoutValue</th>\n      <th>DEF_operators</th>\n      <th>DEF_Initiator</th>\n      <th>DEF_Duelist</th>\n      <th>DEF_Sentinel</th>\n      <th>DEF_Controller</th>\n    </tr>\n  </thead>\n  <tbody>\n    <tr>\n      <th>95</th>\n      <td>0</td>\n      <td>0</td>\n      <td>26850</td>\n      <td>1</td>\n      <td>2</td>\n      <td>1</td>\n      <td>1</td>\n      <td>1</td>\n      <td>16850</td>\n      <td>0</td>\n      <td>0</td>\n      <td>2</td>\n      <td>2</td>\n      <td>1</td>\n    </tr>\n    <tr>\n      <th>96</th>\n      <td>50</td>\n      <td>0</td>\n      <td>19750</td>\n      <td>0</td>\n      <td>2</td>\n      <td>1</td>\n      <td>0</td>\n      <td>1</td>\n      <td>16850</td>\n      <td>0</td>\n      <td>0</td>\n      <td>2</td>\n      <td>2</td>\n      <td>1</td>\n    </tr>\n    <tr>\n      <th>97</th>\n      <td>65</td>\n      <td>0</td>\n      <td>19750</td>\n      <td>0</td>\n      <td>2</td>\n      <td>1</td>\n      <td>0</td>\n      <td>1</td>\n      <td>12150</td>\n      <td>0</td>\n      <td>0</td>\n      <td>2</td>\n      <td>1</td>\n      <td>1</td>\n    </tr>\n    <tr>\n      <th>98</th>\n      <td>66</td>\n      <td>0</td>\n      <td>19750</td>\n      <td>0</td>\n      <td>2</td>\n      <td>1</td>\n      <td>0</td>\n      <td>1</td>\n      <td>8150</td>\n      <td>0</td>\n      <td>0</td>\n      <td>1</td>\n      <td>1</td>\n      <td>1</td>\n    </tr>\n    <tr>\n      <th>99</th>\n      <td>68</td>\n      <td>0</td>\n      <td>14350</td>\n      <td>0</td>\n      <td>1</td>\n      <td>1</td>\n      <td>0</td>\n      <td>1</td>\n      <td>8150</td>\n      <td>0</td>\n      <td>0</td>\n      <td>1</td>\n      <td>1</td>\n      <td>1</td>\n    </tr>\n    <tr>\n      <th>100</th>\n      <td>69</td>\n      <td>0</td>\n      <td>14350</td>\n      <td>0</td>\n      <td>1</td>\n      <td>1</td>\n      <td>0</td>\n      <td>1</td>\n      <td>6250</td>\n      <td>0</td>\n      <td>0</td>\n      <td>1</td>\n      <td>0</td>\n      <td>1</td>\n    </tr>\n    <tr>\n      <th>101</th>\n      <td>70</td>\n      <td>0</td>\n      <td>9750</td>\n      <td>0</td>\n      <td>1</td>\n      <td>0</td>\n      <td>0</td>\n      <td>1</td>\n      <td>6250</td>\n      <td>0</td>\n      <td>0</td>\n      <td>1</td>\n      <td>0</td>\n      <td>1</td>\n    </tr>\n    <tr>\n      <th>102</th>\n      <td>83</td>\n      <td>0</td>\n      <td>5400</td>\n      <td>0</td>\n      <td>1</td>\n      <td>0</td>\n      <td>0</td>\n      <td>0</td>\n      <td>6250</td>\n      <td>0</td>\n      <td>0</td>\n      <td>1</td>\n      <td>0</td>\n      <td>1</td>\n    </tr>\n    <tr>\n      <th>103</th>\n      <td>90</td>\n      <td>0</td>\n      <td>0</td>\n      <td>0</td>\n      <td>0</td>\n      <td>0</td>\n      <td>0</td>\n      <td>0</td>\n      <td>6250</td>\n      <td>0</td>\n      <td>0</td>\n      <td>1</td>\n      <td>0</td>\n      <td>1</td>\n    </tr>\n  </tbody>\n</table>\n</div>"
     },
     "execution_count": 27,
     "metadata": {},
     "output_type": "execute_result"
    }
   ],
   "source": [
    "df = a.export_df()\n",
    "df = df[df[\"RoundNumber\"] == 12]\n",
    "df = df[[\"RegularTime\", \"SpikeTime\",\n",
    "         \"ATK_loadoutValue\", \"ATK_operators\", \"ATK_Initiator\", \"ATK_Duelist\", \"ATK_Sentinel\", \"ATK_Controller\",\n",
    "         \"DEF_loadoutValue\", \"DEF_operators\", \"DEF_Initiator\", \"DEF_Duelist\", \"DEF_Sentinel\", \"DEF_Controller\"]]\n",
    "df"
   ],
   "metadata": {
    "collapsed": false,
    "pycharm": {
     "name": "#%%\n"
    }
   }
  },
  {
   "cell_type": "code",
   "execution_count": 28,
   "outputs": [
    {
     "data": {
      "text/plain": "array([[0.31233637, 0.68766363],\n       [0.5648318 , 0.4351682 ],\n       [0.22653308, 0.77346692],\n       [0.07572764, 0.92427236],\n       [0.22784265, 0.77215735],\n       [0.12151071, 0.87848929],\n       [0.34975235, 0.65024765],\n       [0.66982294, 0.33017706],\n       [0.98824018, 0.01175982]])"
     },
     "execution_count": 28,
     "metadata": {},
     "output_type": "execute_result"
    }
   ],
   "source": [
    "model.predict_proba(df)"
   ],
   "metadata": {
    "collapsed": false,
    "pycharm": {
     "name": "#%%\n"
    }
   }
  },
  {
   "cell_type": "code",
   "execution_count": 22,
   "outputs": [
    {
     "data": {
      "text/plain": "['RegularTime',\n 'SpikeTime',\n 'ATK_loadoutValue',\n 'ATK_operators',\n 'ATK_Initiator',\n 'ATK_Duelist',\n 'ATK_Sentinel',\n 'ATK_Controller',\n 'DEF_loadoutValue',\n 'DEF_operators',\n 'DEF_Initiator',\n 'DEF_Duelist',\n 'DEF_Sentinel',\n 'DEF_Controller']"
     },
     "execution_count": 22,
     "metadata": {},
     "output_type": "execute_result"
    }
   ],
   "source": [
    "vm.features"
   ],
   "metadata": {
    "collapsed": false,
    "pycharm": {
     "name": "#%%\n"
    }
   }
  },
  {
   "cell_type": "code",
   "execution_count": 29,
   "outputs": [
    {
     "data": {
      "text/plain": "       RegularTime  SpikeTime  ATK_loadoutValue  ATK_operators  ATK_Initiator  \\\n0                0          0              3300              0              1   \n1               24          0              3300              0              1   \n2                0         29              2500              0              0   \n3                0         33              1800              0              0   \n4                0         35              1800              0              0   \n...            ...        ...               ...            ...            ...   \n89320           25          0              9800              0              1   \n89321           50          0              7500              0              0   \n89322           51          0              4900              0              0   \n89323           52          0              2400              0              0   \n89324           52          0                 0              0              0   \n\n       ATK_Duelist  ATK_Sentinel  ATK_Controller  DEF_loadoutValue  \\\n0                2             1               1              3100   \n1                2             1               1              3100   \n2                2             1               1              3100   \n3                1             1               1              3100   \n4                1             1               1              2300   \n...            ...           ...             ...               ...   \n89320            1             1               1             13000   \n89321            1             1               1             13000   \n89322            0             1               1             13000   \n89323            0             0               1             13000   \n89324            0             0               0             13000   \n\n       DEF_operators  DEF_Initiator  DEF_Duelist  DEF_Sentinel  \\\n0                  0              1            1             1   \n1                  0              1            1             1   \n2                  0              1            1             1   \n3                  0              1            1             1   \n4                  0              1            1             1   \n...              ...            ...          ...           ...   \n89320              0              0            2             1   \n89321              0              0            2             1   \n89322              0              0            2             1   \n89323              0              0            2             1   \n89324              0              0            2             1   \n\n       DEF_Controller  FinalWinner  \n0                   2            1  \n1                   2            1  \n2                   2            1  \n3                   2            1  \n4                   1            1  \n...               ...          ...  \n89320               1            0  \n89321               1            0  \n89322               1            0  \n89323               1            0  \n89324               1            0  \n\n[89325 rows x 15 columns]",
      "text/html": "<div>\n<style scoped>\n    .dataframe tbody tr th:only-of-type {\n        vertical-align: middle;\n    }\n\n    .dataframe tbody tr th {\n        vertical-align: top;\n    }\n\n    .dataframe thead th {\n        text-align: right;\n    }\n</style>\n<table border=\"1\" class=\"dataframe\">\n  <thead>\n    <tr style=\"text-align: right;\">\n      <th></th>\n      <th>RegularTime</th>\n      <th>SpikeTime</th>\n      <th>ATK_loadoutValue</th>\n      <th>ATK_operators</th>\n      <th>ATK_Initiator</th>\n      <th>ATK_Duelist</th>\n      <th>ATK_Sentinel</th>\n      <th>ATK_Controller</th>\n      <th>DEF_loadoutValue</th>\n      <th>DEF_operators</th>\n      <th>DEF_Initiator</th>\n      <th>DEF_Duelist</th>\n      <th>DEF_Sentinel</th>\n      <th>DEF_Controller</th>\n      <th>FinalWinner</th>\n    </tr>\n  </thead>\n  <tbody>\n    <tr>\n      <th>0</th>\n      <td>0</td>\n      <td>0</td>\n      <td>3300</td>\n      <td>0</td>\n      <td>1</td>\n      <td>2</td>\n      <td>1</td>\n      <td>1</td>\n      <td>3100</td>\n      <td>0</td>\n      <td>1</td>\n      <td>1</td>\n      <td>1</td>\n      <td>2</td>\n      <td>1</td>\n    </tr>\n    <tr>\n      <th>1</th>\n      <td>24</td>\n      <td>0</td>\n      <td>3300</td>\n      <td>0</td>\n      <td>1</td>\n      <td>2</td>\n      <td>1</td>\n      <td>1</td>\n      <td>3100</td>\n      <td>0</td>\n      <td>1</td>\n      <td>1</td>\n      <td>1</td>\n      <td>2</td>\n      <td>1</td>\n    </tr>\n    <tr>\n      <th>2</th>\n      <td>0</td>\n      <td>29</td>\n      <td>2500</td>\n      <td>0</td>\n      <td>0</td>\n      <td>2</td>\n      <td>1</td>\n      <td>1</td>\n      <td>3100</td>\n      <td>0</td>\n      <td>1</td>\n      <td>1</td>\n      <td>1</td>\n      <td>2</td>\n      <td>1</td>\n    </tr>\n    <tr>\n      <th>3</th>\n      <td>0</td>\n      <td>33</td>\n      <td>1800</td>\n      <td>0</td>\n      <td>0</td>\n      <td>1</td>\n      <td>1</td>\n      <td>1</td>\n      <td>3100</td>\n      <td>0</td>\n      <td>1</td>\n      <td>1</td>\n      <td>1</td>\n      <td>2</td>\n      <td>1</td>\n    </tr>\n    <tr>\n      <th>4</th>\n      <td>0</td>\n      <td>35</td>\n      <td>1800</td>\n      <td>0</td>\n      <td>0</td>\n      <td>1</td>\n      <td>1</td>\n      <td>1</td>\n      <td>2300</td>\n      <td>0</td>\n      <td>1</td>\n      <td>1</td>\n      <td>1</td>\n      <td>1</td>\n      <td>1</td>\n    </tr>\n    <tr>\n      <th>...</th>\n      <td>...</td>\n      <td>...</td>\n      <td>...</td>\n      <td>...</td>\n      <td>...</td>\n      <td>...</td>\n      <td>...</td>\n      <td>...</td>\n      <td>...</td>\n      <td>...</td>\n      <td>...</td>\n      <td>...</td>\n      <td>...</td>\n      <td>...</td>\n      <td>...</td>\n    </tr>\n    <tr>\n      <th>89320</th>\n      <td>25</td>\n      <td>0</td>\n      <td>9800</td>\n      <td>0</td>\n      <td>1</td>\n      <td>1</td>\n      <td>1</td>\n      <td>1</td>\n      <td>13000</td>\n      <td>0</td>\n      <td>0</td>\n      <td>2</td>\n      <td>1</td>\n      <td>1</td>\n      <td>0</td>\n    </tr>\n    <tr>\n      <th>89321</th>\n      <td>50</td>\n      <td>0</td>\n      <td>7500</td>\n      <td>0</td>\n      <td>0</td>\n      <td>1</td>\n      <td>1</td>\n      <td>1</td>\n      <td>13000</td>\n      <td>0</td>\n      <td>0</td>\n      <td>2</td>\n      <td>1</td>\n      <td>1</td>\n      <td>0</td>\n    </tr>\n    <tr>\n      <th>89322</th>\n      <td>51</td>\n      <td>0</td>\n      <td>4900</td>\n      <td>0</td>\n      <td>0</td>\n      <td>0</td>\n      <td>1</td>\n      <td>1</td>\n      <td>13000</td>\n      <td>0</td>\n      <td>0</td>\n      <td>2</td>\n      <td>1</td>\n      <td>1</td>\n      <td>0</td>\n    </tr>\n    <tr>\n      <th>89323</th>\n      <td>52</td>\n      <td>0</td>\n      <td>2400</td>\n      <td>0</td>\n      <td>0</td>\n      <td>0</td>\n      <td>0</td>\n      <td>1</td>\n      <td>13000</td>\n      <td>0</td>\n      <td>0</td>\n      <td>2</td>\n      <td>1</td>\n      <td>1</td>\n      <td>0</td>\n    </tr>\n    <tr>\n      <th>89324</th>\n      <td>52</td>\n      <td>0</td>\n      <td>0</td>\n      <td>0</td>\n      <td>0</td>\n      <td>0</td>\n      <td>0</td>\n      <td>0</td>\n      <td>13000</td>\n      <td>0</td>\n      <td>0</td>\n      <td>2</td>\n      <td>1</td>\n      <td>1</td>\n      <td>0</td>\n    </tr>\n  </tbody>\n</table>\n<p>89325 rows × 15 columns</p>\n</div>"
     },
     "execution_count": 29,
     "metadata": {},
     "output_type": "execute_result"
    }
   ],
   "source": [
    "vm.df"
   ],
   "metadata": {
    "collapsed": false,
    "pycharm": {
     "name": "#%%\n"
    }
   }
  }
 ],
 "metadata": {
  "kernelspec": {
   "display_name": "Python 3",
   "language": "python",
   "name": "python3"
  },
  "language_info": {
   "codemirror_mode": {
    "name": "ipython",
    "version": 2
   },
   "file_extension": ".py",
   "mimetype": "text/x-python",
   "name": "python",
   "nbconvert_exporter": "python",
   "pygments_lexer": "ipython2",
   "version": "2.7.6"
  }
 },
 "nbformat": 4,
 "nbformat_minor": 0
}