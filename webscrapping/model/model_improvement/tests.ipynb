{
 "cells": [
  {
   "cell_type": "code",
   "execution_count": 2,
   "metadata": {
    "collapsed": true
   },
   "outputs": [],
   "source": [
    "import pandas as pd\n",
    "from pathlib import Path\n",
    "import os\n",
    "\n",
    "def get_dataset_reference():\n",
    "    current_folder = Path(os.getcwd())\n",
    "    model_folder = current_folder.parent\n",
    "    webscrapping_folder = model_folder.parent\n",
    "    return Path(webscrapping_folder, \"matches\", \"datasets\")"
   ]
  },
  {
   "cell_type": "code",
   "execution_count": 3,
   "outputs": [
    {
     "data": {
      "text/plain": "        RegularTime  SpikeTime MapName  FinalWinner  RoundID  MatchID  \\\n0                 0          0   Split            1   107567     6197   \n1                15          0   Split            1   107567     6197   \n2                16          0   Split            1   107567     6197   \n3                26          0   Split            1   107567     6197   \n4                32          0   Split            1   107567     6197   \n...             ...        ...     ...          ...      ...      ...   \n898184            0          7  Icebox            0   494951    31800   \n898185            0          8  Icebox            0   494951    31800   \n898186            0          9  Icebox            0   494951    31800   \n898187            0         18  Icebox            0   494951    31800   \n898188            0         22  Icebox            0   494951    31800   \n\n        RoundNumber  RoundTime  ATK_loadoutValue  ATK_weaponValue  ...  \\\n0                 1          0              3900                0  ...   \n1                 1      15494              3900                0  ...   \n2                 1      16500              3900                0  ...   \n3                 1      25999              3900                0  ...   \n4                 1      32331              3900                0  ...   \n...             ...        ...               ...              ...  ...   \n898184           14      21175              8150             5300  ...   \n898185           14      22281              4600             3200  ...   \n898186           14      23697              2400             1600  ...   \n898187           14      31960                 0                0  ...   \n898188           14      35916                 0                0  ...   \n\n        DEF_remainingCreds  DEF_operators  DEF_Initiator  DEF_Duelist  \\\n0                        0              0              1            2   \n1                        0              0              1            2   \n2                        0              0              1            1   \n3                        0              0              1            1   \n4                        0              0              0            1   \n...                    ...            ...            ...          ...   \n898184                 100              0              1            1   \n898185                 100              0              1            1   \n898186                 100              0              1            1   \n898187                 100              0              1            1   \n898188                 100              0              1            1   \n\n        DEF_Sentinel  DEF_Controller  Team_A_ID        Team_A_Name  Team_B_ID  \\\n0                  1               1        279  Luminosity Gaming         32   \n1                  1               0        279  Luminosity Gaming         32   \n2                  1               0        279  Luminosity Gaming         32   \n3                  0               0        279  Luminosity Gaming         32   \n4                  0               0        279  Luminosity Gaming         32   \n...              ...             ...        ...                ...        ...   \n898184             1               0       4307        Project ABC       4308   \n898185             1               0       4307        Project ABC       4308   \n898186             1               0       4307        Project ABC       4308   \n898187             1               0       4307        Project ABC       4308   \n898188             1               0       4307        Project ABC       4308   \n\n            Team_B_Name  \n0       Equinox Esports  \n1       Equinox Esports  \n2       Equinox Esports  \n3       Equinox Esports  \n4       Equinox Esports  \n...                 ...  \n898184    Havik Esports  \n898185    Havik Esports  \n898186    Havik Esports  \n898187    Havik Esports  \n898188    Havik Esports  \n\n[898189 rows x 30 columns]",
      "text/html": "<div>\n<style scoped>\n    .dataframe tbody tr th:only-of-type {\n        vertical-align: middle;\n    }\n\n    .dataframe tbody tr th {\n        vertical-align: top;\n    }\n\n    .dataframe thead th {\n        text-align: right;\n    }\n</style>\n<table border=\"1\" class=\"dataframe\">\n  <thead>\n    <tr style=\"text-align: right;\">\n      <th></th>\n      <th>RegularTime</th>\n      <th>SpikeTime</th>\n      <th>MapName</th>\n      <th>FinalWinner</th>\n      <th>RoundID</th>\n      <th>MatchID</th>\n      <th>RoundNumber</th>\n      <th>RoundTime</th>\n      <th>ATK_loadoutValue</th>\n      <th>ATK_weaponValue</th>\n      <th>...</th>\n      <th>DEF_remainingCreds</th>\n      <th>DEF_operators</th>\n      <th>DEF_Initiator</th>\n      <th>DEF_Duelist</th>\n      <th>DEF_Sentinel</th>\n      <th>DEF_Controller</th>\n      <th>Team_A_ID</th>\n      <th>Team_A_Name</th>\n      <th>Team_B_ID</th>\n      <th>Team_B_Name</th>\n    </tr>\n  </thead>\n  <tbody>\n    <tr>\n      <th>0</th>\n      <td>0</td>\n      <td>0</td>\n      <td>Split</td>\n      <td>1</td>\n      <td>107567</td>\n      <td>6197</td>\n      <td>1</td>\n      <td>0</td>\n      <td>3900</td>\n      <td>0</td>\n      <td>...</td>\n      <td>0</td>\n      <td>0</td>\n      <td>1</td>\n      <td>2</td>\n      <td>1</td>\n      <td>1</td>\n      <td>279</td>\n      <td>Luminosity Gaming</td>\n      <td>32</td>\n      <td>Equinox Esports</td>\n    </tr>\n    <tr>\n      <th>1</th>\n      <td>15</td>\n      <td>0</td>\n      <td>Split</td>\n      <td>1</td>\n      <td>107567</td>\n      <td>6197</td>\n      <td>1</td>\n      <td>15494</td>\n      <td>3900</td>\n      <td>0</td>\n      <td>...</td>\n      <td>0</td>\n      <td>0</td>\n      <td>1</td>\n      <td>2</td>\n      <td>1</td>\n      <td>0</td>\n      <td>279</td>\n      <td>Luminosity Gaming</td>\n      <td>32</td>\n      <td>Equinox Esports</td>\n    </tr>\n    <tr>\n      <th>2</th>\n      <td>16</td>\n      <td>0</td>\n      <td>Split</td>\n      <td>1</td>\n      <td>107567</td>\n      <td>6197</td>\n      <td>1</td>\n      <td>16500</td>\n      <td>3900</td>\n      <td>0</td>\n      <td>...</td>\n      <td>0</td>\n      <td>0</td>\n      <td>1</td>\n      <td>1</td>\n      <td>1</td>\n      <td>0</td>\n      <td>279</td>\n      <td>Luminosity Gaming</td>\n      <td>32</td>\n      <td>Equinox Esports</td>\n    </tr>\n    <tr>\n      <th>3</th>\n      <td>26</td>\n      <td>0</td>\n      <td>Split</td>\n      <td>1</td>\n      <td>107567</td>\n      <td>6197</td>\n      <td>1</td>\n      <td>25999</td>\n      <td>3900</td>\n      <td>0</td>\n      <td>...</td>\n      <td>0</td>\n      <td>0</td>\n      <td>1</td>\n      <td>1</td>\n      <td>0</td>\n      <td>0</td>\n      <td>279</td>\n      <td>Luminosity Gaming</td>\n      <td>32</td>\n      <td>Equinox Esports</td>\n    </tr>\n    <tr>\n      <th>4</th>\n      <td>32</td>\n      <td>0</td>\n      <td>Split</td>\n      <td>1</td>\n      <td>107567</td>\n      <td>6197</td>\n      <td>1</td>\n      <td>32331</td>\n      <td>3900</td>\n      <td>0</td>\n      <td>...</td>\n      <td>0</td>\n      <td>0</td>\n      <td>0</td>\n      <td>1</td>\n      <td>0</td>\n      <td>0</td>\n      <td>279</td>\n      <td>Luminosity Gaming</td>\n      <td>32</td>\n      <td>Equinox Esports</td>\n    </tr>\n    <tr>\n      <th>...</th>\n      <td>...</td>\n      <td>...</td>\n      <td>...</td>\n      <td>...</td>\n      <td>...</td>\n      <td>...</td>\n      <td>...</td>\n      <td>...</td>\n      <td>...</td>\n      <td>...</td>\n      <td>...</td>\n      <td>...</td>\n      <td>...</td>\n      <td>...</td>\n      <td>...</td>\n      <td>...</td>\n      <td>...</td>\n      <td>...</td>\n      <td>...</td>\n      <td>...</td>\n      <td>...</td>\n    </tr>\n    <tr>\n      <th>898184</th>\n      <td>0</td>\n      <td>7</td>\n      <td>Icebox</td>\n      <td>0</td>\n      <td>494951</td>\n      <td>31800</td>\n      <td>14</td>\n      <td>21175</td>\n      <td>8150</td>\n      <td>5300</td>\n      <td>...</td>\n      <td>100</td>\n      <td>0</td>\n      <td>1</td>\n      <td>1</td>\n      <td>1</td>\n      <td>0</td>\n      <td>4307</td>\n      <td>Project ABC</td>\n      <td>4308</td>\n      <td>Havik Esports</td>\n    </tr>\n    <tr>\n      <th>898185</th>\n      <td>0</td>\n      <td>8</td>\n      <td>Icebox</td>\n      <td>0</td>\n      <td>494951</td>\n      <td>31800</td>\n      <td>14</td>\n      <td>22281</td>\n      <td>4600</td>\n      <td>3200</td>\n      <td>...</td>\n      <td>100</td>\n      <td>0</td>\n      <td>1</td>\n      <td>1</td>\n      <td>1</td>\n      <td>0</td>\n      <td>4307</td>\n      <td>Project ABC</td>\n      <td>4308</td>\n      <td>Havik Esports</td>\n    </tr>\n    <tr>\n      <th>898186</th>\n      <td>0</td>\n      <td>9</td>\n      <td>Icebox</td>\n      <td>0</td>\n      <td>494951</td>\n      <td>31800</td>\n      <td>14</td>\n      <td>23697</td>\n      <td>2400</td>\n      <td>1600</td>\n      <td>...</td>\n      <td>100</td>\n      <td>0</td>\n      <td>1</td>\n      <td>1</td>\n      <td>1</td>\n      <td>0</td>\n      <td>4307</td>\n      <td>Project ABC</td>\n      <td>4308</td>\n      <td>Havik Esports</td>\n    </tr>\n    <tr>\n      <th>898187</th>\n      <td>0</td>\n      <td>18</td>\n      <td>Icebox</td>\n      <td>0</td>\n      <td>494951</td>\n      <td>31800</td>\n      <td>14</td>\n      <td>31960</td>\n      <td>0</td>\n      <td>0</td>\n      <td>...</td>\n      <td>100</td>\n      <td>0</td>\n      <td>1</td>\n      <td>1</td>\n      <td>1</td>\n      <td>0</td>\n      <td>4307</td>\n      <td>Project ABC</td>\n      <td>4308</td>\n      <td>Havik Esports</td>\n    </tr>\n    <tr>\n      <th>898188</th>\n      <td>0</td>\n      <td>22</td>\n      <td>Icebox</td>\n      <td>0</td>\n      <td>494951</td>\n      <td>31800</td>\n      <td>14</td>\n      <td>35916</td>\n      <td>0</td>\n      <td>0</td>\n      <td>...</td>\n      <td>100</td>\n      <td>0</td>\n      <td>1</td>\n      <td>1</td>\n      <td>1</td>\n      <td>0</td>\n      <td>4307</td>\n      <td>Project ABC</td>\n      <td>4308</td>\n      <td>Havik Esports</td>\n    </tr>\n  </tbody>\n</table>\n<p>898189 rows × 30 columns</p>\n</div>"
     },
     "execution_count": 3,
     "metadata": {},
     "output_type": "execute_result"
    }
   ],
   "source": [
    "filename = \"5000.csv\"\n",
    "df = pd.read_csv(f\"{get_dataset_reference()}\\\\{filename}\")\n",
    "df"
   ],
   "metadata": {
    "collapsed": false,
    "pycharm": {
     "name": "#%%\n"
    }
   }
  },
  {
   "cell_type": "markdown",
   "source": [
    "# <font color='green'>Feature selection</font>"
   ],
   "metadata": {
    "collapsed": false,
    "pycharm": {
     "name": "#%% md\n"
    }
   }
  },
  {
   "cell_type": "code",
   "execution_count": null,
   "outputs": [],
   "source": [],
   "metadata": {
    "collapsed": false,
    "pycharm": {
     "name": "#%%\n"
    }
   }
  }
 ],
 "metadata": {
  "kernelspec": {
   "display_name": "Python 3",
   "language": "python",
   "name": "python3"
  },
  "language_info": {
   "codemirror_mode": {
    "name": "ipython",
    "version": 2
   },
   "file_extension": ".py",
   "mimetype": "text/x-python",
   "name": "python",
   "nbconvert_exporter": "python",
   "pygments_lexer": "ipython2",
   "version": "2.7.6"
  }
 },
 "nbformat": 4,
 "nbformat_minor": 0
}